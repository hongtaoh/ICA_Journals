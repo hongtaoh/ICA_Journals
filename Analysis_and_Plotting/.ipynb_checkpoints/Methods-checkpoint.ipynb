{
 "cells": [
  {
   "cell_type": "code",
   "execution_count": 1,
   "id": "00c9d2fe",
   "metadata": {},
   "outputs": [],
   "source": [
    "import pandas as pd\n",
    "import numpy as np\n",
    "from collections import Counter"
   ]
  },
  {
   "cell_type": "markdown",
   "id": "d7576ae5",
   "metadata": {},
   "source": [
    "## Data collection"
   ]
  },
  {
   "cell_type": "code",
   "execution_count": 2,
   "id": "1c11f63c",
   "metadata": {},
   "outputs": [],
   "source": [
    "df = pd.read_csv('../data/interim/ica_author_data.csv')"
   ]
  },
  {
   "cell_type": "code",
   "execution_count": 3,
   "id": "d0166f17",
   "metadata": {},
   "outputs": [
    {
     "data": {
      "text/html": [
       "<div>\n",
       "<style scoped>\n",
       "    .dataframe tbody tr th:only-of-type {\n",
       "        vertical-align: middle;\n",
       "    }\n",
       "\n",
       "    .dataframe tbody tr th {\n",
       "        vertical-align: top;\n",
       "    }\n",
       "\n",
       "    .dataframe thead th {\n",
       "        text-align: right;\n",
       "    }\n",
       "</style>\n",
       "<table border=\"1\" class=\"dataframe\">\n",
       "  <thead>\n",
       "    <tr style=\"text-align: right;\">\n",
       "      <th></th>\n",
       "      <th>doi</th>\n",
       "      <th>url</th>\n",
       "      <th>year</th>\n",
       "      <th>title</th>\n",
       "      <th>journal</th>\n",
       "      <th>datePublished</th>\n",
       "      <th>authorFullName</th>\n",
       "      <th>firstName</th>\n",
       "      <th>lastName</th>\n",
       "      <th>numberOfAuthors</th>\n",
       "      <th>authorPosition</th>\n",
       "      <th>affiliation</th>\n",
       "    </tr>\n",
       "  </thead>\n",
       "  <tbody>\n",
       "    <tr>\n",
       "      <th>0</th>\n",
       "      <td>10.1093/joc/jqac004</td>\n",
       "      <td>https://academic.oup.com/joc/article/72/3/297/...</td>\n",
       "      <td>2022</td>\n",
       "      <td>The Gender Divide in Wikipedia: Quantifying an...</td>\n",
       "      <td>Journal of Communication</td>\n",
       "      <td>2022-02-16</td>\n",
       "      <td>Isabelle Langrock</td>\n",
       "      <td>Isabelle</td>\n",
       "      <td>Langrock</td>\n",
       "      <td>2.0</td>\n",
       "      <td>1.0</td>\n",
       "      <td>Annenberg School for Communication, University...</td>\n",
       "    </tr>\n",
       "    <tr>\n",
       "      <th>1</th>\n",
       "      <td>10.1093/joc/jqac004</td>\n",
       "      <td>https://academic.oup.com/joc/article/72/3/297/...</td>\n",
       "      <td>2022</td>\n",
       "      <td>The Gender Divide in Wikipedia: Quantifying an...</td>\n",
       "      <td>Journal of Communication</td>\n",
       "      <td>2022-02-16</td>\n",
       "      <td>Sandra González-Bailón</td>\n",
       "      <td>Sandra</td>\n",
       "      <td>González-Bailón</td>\n",
       "      <td>2.0</td>\n",
       "      <td>2.0</td>\n",
       "      <td>Annenberg School for Communication, University...</td>\n",
       "    </tr>\n",
       "    <tr>\n",
       "      <th>2</th>\n",
       "      <td>10.1093/joc/jqac009</td>\n",
       "      <td>https://academic.oup.com/joc/article/72/3/322/...</td>\n",
       "      <td>2022</td>\n",
       "      <td>Mapping Exposure Diversity: The Divergent Effe...</td>\n",
       "      <td>Journal of Communication</td>\n",
       "      <td>2022-03-16</td>\n",
       "      <td>Pascal Jürgens</td>\n",
       "      <td>Pascal</td>\n",
       "      <td>Jürgens</td>\n",
       "      <td>2.0</td>\n",
       "      <td>1.0</td>\n",
       "      <td>Department of Communication, Jakob-Welder-Weg ...</td>\n",
       "    </tr>\n",
       "  </tbody>\n",
       "</table>\n",
       "</div>"
      ],
      "text/plain": [
       "                   doi                                                url  \\\n",
       "0  10.1093/joc/jqac004  https://academic.oup.com/joc/article/72/3/297/...   \n",
       "1  10.1093/joc/jqac004  https://academic.oup.com/joc/article/72/3/297/...   \n",
       "2  10.1093/joc/jqac009  https://academic.oup.com/joc/article/72/3/322/...   \n",
       "\n",
       "   year                                              title  \\\n",
       "0  2022  The Gender Divide in Wikipedia: Quantifying an...   \n",
       "1  2022  The Gender Divide in Wikipedia: Quantifying an...   \n",
       "2  2022  Mapping Exposure Diversity: The Divergent Effe...   \n",
       "\n",
       "                    journal datePublished          authorFullName firstName  \\\n",
       "0  Journal of Communication    2022-02-16       Isabelle Langrock  Isabelle   \n",
       "1  Journal of Communication    2022-02-16  Sandra González-Bailón    Sandra   \n",
       "2  Journal of Communication    2022-03-16          Pascal Jürgens    Pascal   \n",
       "\n",
       "          lastName  numberOfAuthors  authorPosition  \\\n",
       "0         Langrock              2.0             1.0   \n",
       "1  González-Bailón              2.0             2.0   \n",
       "2          Jürgens              2.0             1.0   \n",
       "\n",
       "                                         affiliation  \n",
       "0  Annenberg School for Communication, University...  \n",
       "1  Annenberg School for Communication, University...  \n",
       "2  Department of Communication, Jakob-Welder-Weg ...  "
      ]
     },
     "execution_count": 3,
     "metadata": {},
     "output_type": "execute_result"
    }
   ],
   "source": [
    "df.head(3)"
   ]
  },
  {
   "cell_type": "code",
   "execution_count": 4,
   "id": "3101e06b",
   "metadata": {},
   "outputs": [
    {
     "data": {
      "text/plain": [
       "(13603, 12)"
      ]
     },
     "execution_count": 4,
     "metadata": {},
     "output_type": "execute_result"
    }
   ],
   "source": [
    "# total unmber of authors\n",
    "df.shape"
   ]
  },
  {
   "cell_type": "code",
   "execution_count": 5,
   "id": "174be798",
   "metadata": {},
   "outputs": [
    {
     "data": {
      "text/plain": [
       "7708"
      ]
     },
     "execution_count": 5,
     "metadata": {},
     "output_type": "execute_result"
    }
   ],
   "source": [
    "# total number of papers\n",
    "all_papers = list(set(df.doi))\n",
    "len(all_papers)"
   ]
  },
  {
   "cell_type": "markdown",
   "id": "2b7ad24f",
   "metadata": {},
   "source": [
    "## Research versus non research"
   ]
  },
  {
   "cell_type": "code",
   "execution_count": 6,
   "id": "531d23ff",
   "metadata": {},
   "outputs": [],
   "source": [
    "df = pd.read_csv('../data/interim/ica_paper_df.csv')"
   ]
  },
  {
   "cell_type": "code",
   "execution_count": 7,
   "id": "291b0c76",
   "metadata": {},
   "outputs": [
    {
     "data": {
      "text/html": [
       "<div>\n",
       "<style scoped>\n",
       "    .dataframe tbody tr th:only-of-type {\n",
       "        vertical-align: middle;\n",
       "    }\n",
       "\n",
       "    .dataframe tbody tr th {\n",
       "        vertical-align: top;\n",
       "    }\n",
       "\n",
       "    .dataframe thead th {\n",
       "        text-align: right;\n",
       "    }\n",
       "</style>\n",
       "<table border=\"1\" class=\"dataframe\">\n",
       "  <thead>\n",
       "    <tr style=\"text-align: right;\">\n",
       "      <th></th>\n",
       "      <th>journal</th>\n",
       "      <th>issueURL</th>\n",
       "      <th>volumn</th>\n",
       "      <th>issue</th>\n",
       "      <th>issueText</th>\n",
       "      <th>month</th>\n",
       "      <th>year</th>\n",
       "      <th>category</th>\n",
       "      <th>title</th>\n",
       "      <th>url</th>\n",
       "      <th>doi</th>\n",
       "      <th>pages</th>\n",
       "      <th>abstract</th>\n",
       "      <th>abstract_para_num</th>\n",
       "    </tr>\n",
       "  </thead>\n",
       "  <tbody>\n",
       "    <tr>\n",
       "      <th>0</th>\n",
       "      <td>Journal of Communication</td>\n",
       "      <td>https://academic.oup.com/joc/issue/72/3?browse...</td>\n",
       "      <td>Volume 72</td>\n",
       "      <td>Issue 3</td>\n",
       "      <td>Issue 3, June 2022, Pages 297–449</td>\n",
       "      <td>June</td>\n",
       "      <td>2022</td>\n",
       "      <td>Articles</td>\n",
       "      <td>The Gender Divide in Wikipedia: Quantifying an...</td>\n",
       "      <td>https://academic.oup.com/joc/article/72/3/297/...</td>\n",
       "      <td>10.1093/joc/jqac004</td>\n",
       "      <td>297–321</td>\n",
       "      <td>Wikipedia has a well-known gender divide affec...</td>\n",
       "      <td>1.0</td>\n",
       "    </tr>\n",
       "    <tr>\n",
       "      <th>1</th>\n",
       "      <td>Journal of Communication</td>\n",
       "      <td>https://academic.oup.com/joc/issue/72/3?browse...</td>\n",
       "      <td>Volume 72</td>\n",
       "      <td>Issue 3</td>\n",
       "      <td>Issue 3, June 2022, Pages 297–449</td>\n",
       "      <td>June</td>\n",
       "      <td>2022</td>\n",
       "      <td>Articles</td>\n",
       "      <td>Mapping Exposure Diversity: The Divergent Effe...</td>\n",
       "      <td>https://academic.oup.com/joc/article/72/3/322/...</td>\n",
       "      <td>10.1093/joc/jqac009</td>\n",
       "      <td>322–344</td>\n",
       "      <td>Diversity is a crucial precondition for a demo...</td>\n",
       "      <td>1.0</td>\n",
       "    </tr>\n",
       "    <tr>\n",
       "      <th>2</th>\n",
       "      <td>Journal of Communication</td>\n",
       "      <td>https://academic.oup.com/joc/issue/72/3?browse...</td>\n",
       "      <td>Volume 72</td>\n",
       "      <td>Issue 3</td>\n",
       "      <td>Issue 3, June 2022, Pages 297–449</td>\n",
       "      <td>June</td>\n",
       "      <td>2022</td>\n",
       "      <td>Articles</td>\n",
       "      <td>Democratic Consequences of Incidental Exposure...</td>\n",
       "      <td>https://academic.oup.com/joc/article/72/3/345/...</td>\n",
       "      <td>10.1093/joc/jqac008</td>\n",
       "      <td>345–373</td>\n",
       "      <td>In the last two decades, communication researc...</td>\n",
       "      <td>1.0</td>\n",
       "    </tr>\n",
       "    <tr>\n",
       "      <th>3</th>\n",
       "      <td>Journal of Communication</td>\n",
       "      <td>https://academic.oup.com/joc/issue/72/3?browse...</td>\n",
       "      <td>Volume 72</td>\n",
       "      <td>Issue 3</td>\n",
       "      <td>Issue 3, June 2022, Pages 297–449</td>\n",
       "      <td>June</td>\n",
       "      <td>2022</td>\n",
       "      <td>Articles</td>\n",
       "      <td>The Great and Powerful Dr. Oz? Alternative Hea...</td>\n",
       "      <td>https://academic.oup.com/joc/article/72/3/374/...</td>\n",
       "      <td>10.1093/joc/jqac011</td>\n",
       "      <td>374–400</td>\n",
       "      <td>Cardiothoracic surgeon Dr. Mehmet Oz, until re...</td>\n",
       "      <td>1.0</td>\n",
       "    </tr>\n",
       "    <tr>\n",
       "      <th>4</th>\n",
       "      <td>Journal of Communication</td>\n",
       "      <td>https://academic.oup.com/joc/issue/72/3?browse...</td>\n",
       "      <td>Volume 72</td>\n",
       "      <td>Issue 3</td>\n",
       "      <td>Issue 3, June 2022, Pages 297–449</td>\n",
       "      <td>June</td>\n",
       "      <td>2022</td>\n",
       "      <td>Articles</td>\n",
       "      <td>A Methodological Framework for Analyzing the A...</td>\n",
       "      <td>https://academic.oup.com/joc/article/72/3/401/...</td>\n",
       "      <td>10.1093/joc/jqac013</td>\n",
       "      <td>401–428</td>\n",
       "      <td>Media effects have been studied for decades. H...</td>\n",
       "      <td>1.0</td>\n",
       "    </tr>\n",
       "  </tbody>\n",
       "</table>\n",
       "</div>"
      ],
      "text/plain": [
       "                    journal  \\\n",
       "0  Journal of Communication   \n",
       "1  Journal of Communication   \n",
       "2  Journal of Communication   \n",
       "3  Journal of Communication   \n",
       "4  Journal of Communication   \n",
       "\n",
       "                                            issueURL     volumn    issue  \\\n",
       "0  https://academic.oup.com/joc/issue/72/3?browse...  Volume 72  Issue 3   \n",
       "1  https://academic.oup.com/joc/issue/72/3?browse...  Volume 72  Issue 3   \n",
       "2  https://academic.oup.com/joc/issue/72/3?browse...  Volume 72  Issue 3   \n",
       "3  https://academic.oup.com/joc/issue/72/3?browse...  Volume 72  Issue 3   \n",
       "4  https://academic.oup.com/joc/issue/72/3?browse...  Volume 72  Issue 3   \n",
       "\n",
       "                           issueText month  year  category  \\\n",
       "0  Issue 3, June 2022, Pages 297–449  June  2022  Articles   \n",
       "1  Issue 3, June 2022, Pages 297–449  June  2022  Articles   \n",
       "2  Issue 3, June 2022, Pages 297–449  June  2022  Articles   \n",
       "3  Issue 3, June 2022, Pages 297–449  June  2022  Articles   \n",
       "4  Issue 3, June 2022, Pages 297–449  June  2022  Articles   \n",
       "\n",
       "                                               title  \\\n",
       "0  The Gender Divide in Wikipedia: Quantifying an...   \n",
       "1  Mapping Exposure Diversity: The Divergent Effe...   \n",
       "2  Democratic Consequences of Incidental Exposure...   \n",
       "3  The Great and Powerful Dr. Oz? Alternative Hea...   \n",
       "4  A Methodological Framework for Analyzing the A...   \n",
       "\n",
       "                                                 url                  doi  \\\n",
       "0  https://academic.oup.com/joc/article/72/3/297/...  10.1093/joc/jqac004   \n",
       "1  https://academic.oup.com/joc/article/72/3/322/...  10.1093/joc/jqac009   \n",
       "2  https://academic.oup.com/joc/article/72/3/345/...  10.1093/joc/jqac008   \n",
       "3  https://academic.oup.com/joc/article/72/3/374/...  10.1093/joc/jqac011   \n",
       "4  https://academic.oup.com/joc/article/72/3/401/...  10.1093/joc/jqac013   \n",
       "\n",
       "     pages                                           abstract  \\\n",
       "0  297–321  Wikipedia has a well-known gender divide affec...   \n",
       "1  322–344  Diversity is a crucial precondition for a demo...   \n",
       "2  345–373  In the last two decades, communication researc...   \n",
       "3  374–400  Cardiothoracic surgeon Dr. Mehmet Oz, until re...   \n",
       "4  401–428  Media effects have been studied for decades. H...   \n",
       "\n",
       "   abstract_para_num  \n",
       "0                1.0  \n",
       "1                1.0  \n",
       "2                1.0  \n",
       "3                1.0  \n",
       "4                1.0  "
      ]
     },
     "execution_count": 7,
     "metadata": {},
     "output_type": "execute_result"
    }
   ],
   "source": [
    "df.head()"
   ]
  },
  {
   "cell_type": "code",
   "execution_count": 8,
   "id": "74b0754c",
   "metadata": {},
   "outputs": [],
   "source": [
    "issue_dic = dict(zip(df.category, df.issueURL))"
   ]
  },
  {
   "cell_type": "code",
   "execution_count": 9,
   "id": "9036f126",
   "metadata": {},
   "outputs": [
    {
     "data": {
      "text/html": [
       "<div>\n",
       "<style scoped>\n",
       "    .dataframe tbody tr th:only-of-type {\n",
       "        vertical-align: middle;\n",
       "    }\n",
       "\n",
       "    .dataframe tbody tr th {\n",
       "        vertical-align: top;\n",
       "    }\n",
       "\n",
       "    .dataframe thead th {\n",
       "        text-align: right;\n",
       "    }\n",
       "</style>\n",
       "<table border=\"1\" class=\"dataframe\">\n",
       "  <thead>\n",
       "    <tr style=\"text-align: right;\">\n",
       "      <th></th>\n",
       "      <th>cat</th>\n",
       "      <th>freq</th>\n",
       "    </tr>\n",
       "  </thead>\n",
       "  <tbody>\n",
       "    <tr>\n",
       "      <th>0</th>\n",
       "      <td>Articles</td>\n",
       "      <td>1667</td>\n",
       "    </tr>\n",
       "    <tr>\n",
       "      <th>1</th>\n",
       "      <td>Original Articles</td>\n",
       "      <td>1367</td>\n",
       "    </tr>\n",
       "    <tr>\n",
       "      <th>2</th>\n",
       "      <td>Article</td>\n",
       "      <td>1120</td>\n",
       "    </tr>\n",
       "    <tr>\n",
       "      <th>3</th>\n",
       "      <td>Original Article</td>\n",
       "      <td>1102</td>\n",
       "    </tr>\n",
       "    <tr>\n",
       "      <th>4</th>\n",
       "      <td>Book Reviews</td>\n",
       "      <td>367</td>\n",
       "    </tr>\n",
       "  </tbody>\n",
       "</table>\n",
       "</div>"
      ],
      "text/plain": [
       "                 cat  freq\n",
       "0           Articles  1667\n",
       "1  Original Articles  1367\n",
       "2            Article  1120\n",
       "3   Original Article  1102\n",
       "4       Book Reviews   367"
      ]
     },
     "execution_count": 9,
     "metadata": {},
     "output_type": "execute_result"
    }
   ],
   "source": [
    "cat_df = pd.DataFrame(dict(Counter(df.category).items()).items(), columns = ['cat', 'freq']).sort_values(\n",
    "    'freq', ascending= False).reset_index(drop=True)\n",
    "cat_df.head()"
   ]
  },
  {
   "cell_type": "code",
   "execution_count": 10,
   "id": "9f69202d",
   "metadata": {},
   "outputs": [],
   "source": [
    "dff = pd.read_csv('../data/interim/cat_class_raw.csv')"
   ]
  },
  {
   "cell_type": "code",
   "execution_count": 11,
   "id": "98bcb5d6",
   "metadata": {},
   "outputs": [
    {
     "data": {
      "text/html": [
       "<div>\n",
       "<style scoped>\n",
       "    .dataframe tbody tr th:only-of-type {\n",
       "        vertical-align: middle;\n",
       "    }\n",
       "\n",
       "    .dataframe tbody tr th {\n",
       "        vertical-align: top;\n",
       "    }\n",
       "\n",
       "    .dataframe thead th {\n",
       "        text-align: right;\n",
       "    }\n",
       "</style>\n",
       "<table border=\"1\" class=\"dataframe\">\n",
       "  <thead>\n",
       "    <tr style=\"text-align: right;\">\n",
       "      <th></th>\n",
       "      <th>cat</th>\n",
       "      <th>freq</th>\n",
       "      <th>TO_EXCLUDE</th>\n",
       "      <th>COMMENT</th>\n",
       "      <th>issueURL</th>\n",
       "    </tr>\n",
       "  </thead>\n",
       "  <tbody>\n",
       "    <tr>\n",
       "      <th>0</th>\n",
       "      <td>Articles</td>\n",
       "      <td>1667</td>\n",
       "      <td>NaN</td>\n",
       "      <td>NaN</td>\n",
       "      <td>https://academic.oup.com/ccc/issue/12/3?browse...</td>\n",
       "    </tr>\n",
       "    <tr>\n",
       "      <th>1</th>\n",
       "      <td>Original Articles</td>\n",
       "      <td>1367</td>\n",
       "      <td>NaN</td>\n",
       "      <td>NaN</td>\n",
       "      <td>https://academic.oup.com/ccc/issue/1/1?browseB...</td>\n",
       "    </tr>\n",
       "    <tr>\n",
       "      <th>2</th>\n",
       "      <td>Article</td>\n",
       "      <td>1120</td>\n",
       "      <td>NaN</td>\n",
       "      <td>NaN</td>\n",
       "      <td>https://academic.oup.com/jcmc/issue/3/2?browse...</td>\n",
       "    </tr>\n",
       "    <tr>\n",
       "      <th>3</th>\n",
       "      <td>Original Article</td>\n",
       "      <td>1102</td>\n",
       "      <td>NaN</td>\n",
       "      <td>NaN</td>\n",
       "      <td>https://academic.oup.com/ccc/issue/9/1?browseB...</td>\n",
       "    </tr>\n",
       "    <tr>\n",
       "      <th>4</th>\n",
       "      <td>Book Reviews</td>\n",
       "      <td>367</td>\n",
       "      <td>True</td>\n",
       "      <td>NaN</td>\n",
       "      <td>https://academic.oup.com/ccc/issue/1/3?browseB...</td>\n",
       "    </tr>\n",
       "  </tbody>\n",
       "</table>\n",
       "</div>"
      ],
      "text/plain": [
       "                 cat  freq TO_EXCLUDE COMMENT  \\\n",
       "0           Articles  1667        NaN     NaN   \n",
       "1  Original Articles  1367        NaN     NaN   \n",
       "2            Article  1120        NaN     NaN   \n",
       "3   Original Article  1102        NaN     NaN   \n",
       "4       Book Reviews   367       True     NaN   \n",
       "\n",
       "                                            issueURL  \n",
       "0  https://academic.oup.com/ccc/issue/12/3?browse...  \n",
       "1  https://academic.oup.com/ccc/issue/1/1?browseB...  \n",
       "2  https://academic.oup.com/jcmc/issue/3/2?browse...  \n",
       "3  https://academic.oup.com/ccc/issue/9/1?browseB...  \n",
       "4  https://academic.oup.com/ccc/issue/1/3?browseB...  "
      ]
     },
     "execution_count": 11,
     "metadata": {},
     "output_type": "execute_result"
    }
   ],
   "source": [
    "dff.head()"
   ]
  },
  {
   "cell_type": "code",
   "execution_count": 15,
   "id": "7361eece",
   "metadata": {},
   "outputs": [
    {
     "data": {
      "text/plain": [
       "(113, 5)"
      ]
     },
     "execution_count": 15,
     "metadata": {},
     "output_type": "execute_result"
    }
   ],
   "source": [
    "dff[dff.TO_EXCLUDE == True].shape"
   ]
  },
  {
   "cell_type": "code",
   "execution_count": 12,
   "id": "79a09c1a",
   "metadata": {},
   "outputs": [
    {
     "data": {
      "text/plain": [
       "965"
      ]
     },
     "execution_count": 12,
     "metadata": {},
     "output_type": "execute_result"
    }
   ],
   "source": [
    "dff[dff.TO_EXCLUDE == True].freq.sum()"
   ]
  },
  {
   "cell_type": "code",
   "execution_count": 13,
   "id": "071e347c",
   "metadata": {},
   "outputs": [
    {
     "data": {
      "text/plain": [
       "6743"
      ]
     },
     "execution_count": 13,
     "metadata": {},
     "output_type": "execute_result"
    }
   ],
   "source": [
    "7708-965"
   ]
  },
  {
   "cell_type": "markdown",
   "id": "5450a91f",
   "metadata": {},
   "source": [
    "## Without author names\n",
    "\n",
    "I originally wrote that \n",
    "\n",
    ">Five papers without author names were relabelled as “non-research” after finding they had been incorrectly coded as research papers.\n",
    "\n",
    "Later, I found that we might have changed the results directly in individual results in the folder of `paper_classification_task`. "
   ]
  },
  {
   "cell_type": "markdown",
   "id": "10c8ca4a",
   "metadata": {},
   "source": [
    "## Making sure `.isin()` is not making troubles here\n",
    "\n",
    "In the scripte of `get_paper_and_author_with_type.py`, in order to tag doi with their corresponding paper type (R or M), I used `.isin()` as in \n",
    "\n",
    ">paper['type'] = np.where(paper.doi.isin(all_r), 'R', 'M')\n",
    "\n",
    "But this is dangerous. Luckily, it is not making troubles here because `papers[papers.type == 'R'].shape[0] == len(all_r)`\n",
    "\n",
    "Updates: `isin` has no problems :)"
   ]
  },
  {
   "cell_type": "code",
   "execution_count": 89,
   "id": "4fee8ba8",
   "metadata": {},
   "outputs": [],
   "source": [
    "# our individual paper classification results\n",
    "hongtao = pd.read_csv('../data/interim/paper_classification_task/paper_classification_hongtao.csv')\n",
    "jeff = pd.read_csv('../data/interim/paper_classification_task/paper_classification_jeff.csv')\n",
    "kristen = pd.read_csv('../data/interim/paper_classification_task/paper_classification_kristen.csv')"
   ]
  },
  {
   "cell_type": "code",
   "execution_count": 90,
   "id": "609ba7b3",
   "metadata": {},
   "outputs": [],
   "source": [
    "# research papers\n",
    "hongtao_r = hongtao[hongtao.type == 1].doi.tolist()\n",
    "jeff_r = jeff[jeff.type == 'R'].doi.tolist()\n",
    "kristen_r = kristen[kristen.type == 'R'].doi.tolist()\n",
    "all_r = hongtao_r + jeff_r + kristen_r"
   ]
  },
  {
   "cell_type": "code",
   "execution_count": 91,
   "id": "4ca9734d",
   "metadata": {},
   "outputs": [
    {
     "data": {
      "text/plain": [
       "5813"
      ]
     },
     "execution_count": 91,
     "metadata": {},
     "output_type": "execute_result"
    }
   ],
   "source": [
    "len(all_r)"
   ]
  },
  {
   "cell_type": "code",
   "execution_count": 92,
   "id": "4342b286",
   "metadata": {},
   "outputs": [],
   "source": [
    "# non research papers\n",
    "hongtao_nonr = hongtao[hongtao.type == 0].doi.tolist()\n",
    "jeff_nonr = jeff[jeff.type == 'M'].doi.tolist()\n",
    "kristen_nonr = kristen[kristen.type == 'M'].doi.tolist()\n",
    "all_nonr = hongtao_nonr + jeff_nonr + kristen_nonr"
   ]
  },
  {
   "cell_type": "code",
   "execution_count": 93,
   "id": "c538c5f1",
   "metadata": {},
   "outputs": [
    {
     "data": {
      "text/plain": [
       "({0, 1}, {'M', 'R'}, {'M', 'R'})"
      ]
     },
     "execution_count": 93,
     "metadata": {},
     "output_type": "execute_result"
    }
   ],
   "source": [
    "set(hongtao.type), set(jeff.type), set(kristen.type)"
   ]
  },
  {
   "cell_type": "code",
   "execution_count": 94,
   "id": "64d751df",
   "metadata": {},
   "outputs": [
    {
     "data": {
      "text/plain": [
       "(1859, 1941, 2013)"
      ]
     },
     "execution_count": 94,
     "metadata": {},
     "output_type": "execute_result"
    }
   ],
   "source": [
    "len(hongtao_r), len(jeff_r), len(kristen_r)"
   ]
  },
  {
   "cell_type": "code",
   "execution_count": 95,
   "id": "0372883d",
   "metadata": {},
   "outputs": [
    {
     "data": {
      "text/plain": [
       "(389, 306, 235)"
      ]
     },
     "execution_count": 95,
     "metadata": {},
     "output_type": "execute_result"
    }
   ],
   "source": [
    "len(hongtao_nonr), len(jeff_nonr), len(kristen_nonr)"
   ]
  },
  {
   "cell_type": "code",
   "execution_count": 96,
   "id": "86487894",
   "metadata": {},
   "outputs": [],
   "source": [
    "withtype = pd.concat([hongtao, jeff, kristen])"
   ]
  },
  {
   "cell_type": "code",
   "execution_count": 97,
   "id": "48e4b3f5",
   "metadata": {},
   "outputs": [],
   "source": [
    "typedict = dict(zip(withtype.doi, withtype.type))"
   ]
  },
  {
   "cell_type": "code",
   "execution_count": 98,
   "id": "e324a50c",
   "metadata": {},
   "outputs": [
    {
     "data": {
      "text/plain": [
       "6743"
      ]
     },
     "execution_count": 98,
     "metadata": {},
     "output_type": "execute_result"
    }
   ],
   "source": [
    "len(hongtao_r) + len(jeff_r) + len(kristen_r) + len(hongtao_nonr) + len(jeff_nonr) + len(kristen_nonr)"
   ]
  },
  {
   "cell_type": "code",
   "execution_count": 99,
   "id": "231980bc",
   "metadata": {},
   "outputs": [
    {
     "data": {
      "text/plain": [
       "(6743, 16)"
      ]
     },
     "execution_count": 99,
     "metadata": {},
     "output_type": "execute_result"
    }
   ],
   "source": [
    "withtype.shape"
   ]
  },
  {
   "cell_type": "code",
   "execution_count": 45,
   "id": "56ac0480",
   "metadata": {},
   "outputs": [],
   "source": [
    "# research_papers = withtype[(withtype.type == 1) | (withtype.type == 'R')].doi.tolist()"
   ]
  },
  {
   "cell_type": "code",
   "execution_count": 60,
   "id": "7b4e75f8",
   "metadata": {},
   "outputs": [],
   "source": [
    "papers = pd.read_csv('../data/interim/ica_paper_df.csv')"
   ]
  },
  {
   "cell_type": "code",
   "execution_count": 62,
   "id": "55148004",
   "metadata": {},
   "outputs": [
    {
     "data": {
      "text/plain": [
       "(7708, 14)"
      ]
     },
     "execution_count": 62,
     "metadata": {},
     "output_type": "execute_result"
    }
   ],
   "source": [
    "papers.shape"
   ]
  },
  {
   "cell_type": "code",
   "execution_count": 65,
   "id": "f611b995",
   "metadata": {},
   "outputs": [],
   "source": [
    "papers['type'] = np.where(papers.doi.isin(all_r), 'R', 'M')"
   ]
  },
  {
   "cell_type": "code",
   "execution_count": 76,
   "id": "f0662f26",
   "metadata": {},
   "outputs": [
    {
     "data": {
      "text/plain": [
       "(5813, 15)"
      ]
     },
     "execution_count": 76,
     "metadata": {},
     "output_type": "execute_result"
    }
   ],
   "source": [
    "papers[papers.type == 'R'].shape"
   ]
  },
  {
   "cell_type": "code",
   "execution_count": 100,
   "id": "8c90cb73",
   "metadata": {},
   "outputs": [
    {
     "data": {
      "text/plain": [
       "True"
      ]
     },
     "execution_count": 100,
     "metadata": {},
     "output_type": "execute_result"
    }
   ],
   "source": [
    "papers[papers.type == 'R'].shape[0] == len(all_r)"
   ]
  },
  {
   "cell_type": "markdown",
   "id": "aed61b8a",
   "metadata": {},
   "source": [
    "### The following shows that we have changed the results directly in individual results in the folder of paper_classification_task. \n",
    "\n",
    "See more details in `without author names` above."
   ]
  },
  {
   "cell_type": "code",
   "execution_count": 83,
   "id": "a1ed6cb4",
   "metadata": {},
   "outputs": [],
   "source": [
    "authors = pd.read_csv('../data/interim/ica_author_data.csv')"
   ]
  },
  {
   "cell_type": "code",
   "execution_count": 84,
   "id": "14ad2ebf",
   "metadata": {},
   "outputs": [],
   "source": [
    "authors['type'] = np.where(authors.doi.isin(all_r), 'R', 'M')"
   ]
  },
  {
   "cell_type": "code",
   "execution_count": 88,
   "id": "c1cdda05",
   "metadata": {},
   "outputs": [
    {
     "data": {
      "text/html": [
       "<div>\n",
       "<style scoped>\n",
       "    .dataframe tbody tr th:only-of-type {\n",
       "        vertical-align: middle;\n",
       "    }\n",
       "\n",
       "    .dataframe tbody tr th {\n",
       "        vertical-align: top;\n",
       "    }\n",
       "\n",
       "    .dataframe thead th {\n",
       "        text-align: right;\n",
       "    }\n",
       "</style>\n",
       "<table border=\"1\" class=\"dataframe\">\n",
       "  <thead>\n",
       "    <tr style=\"text-align: right;\">\n",
       "      <th></th>\n",
       "      <th>doi</th>\n",
       "      <th>url</th>\n",
       "      <th>year</th>\n",
       "      <th>title</th>\n",
       "      <th>journal</th>\n",
       "      <th>datePublished</th>\n",
       "      <th>authorFullName</th>\n",
       "      <th>firstName</th>\n",
       "      <th>lastName</th>\n",
       "      <th>numberOfAuthors</th>\n",
       "      <th>authorPosition</th>\n",
       "      <th>affiliation</th>\n",
       "      <th>type</th>\n",
       "    </tr>\n",
       "  </thead>\n",
       "  <tbody>\n",
       "  </tbody>\n",
       "</table>\n",
       "</div>"
      ],
      "text/plain": [
       "Empty DataFrame\n",
       "Columns: [doi, url, year, title, journal, datePublished, authorFullName, firstName, lastName, numberOfAuthors, authorPosition, affiliation, type]\n",
       "Index: []"
      ]
     },
     "execution_count": 88,
     "metadata": {},
     "output_type": "execute_result"
    }
   ],
   "source": [
    "authors[(authors.type == 'R') & (authors.authorFullName.isnull())]"
   ]
  },
  {
   "cell_type": "markdown",
   "id": "241e1cee",
   "metadata": {},
   "source": [
    "## Authors without aff "
   ]
  },
  {
   "cell_type": "code",
   "execution_count": 102,
   "id": "f7b91d07",
   "metadata": {},
   "outputs": [
    {
     "data": {
      "text/plain": [
       "(11471, 13)"
      ]
     },
     "execution_count": 102,
     "metadata": {},
     "output_type": "execute_result"
    }
   ],
   "source": [
    "# number of authors in 5813 research paperes\n",
    "authors[authors.type == 'R'].shape"
   ]
  },
  {
   "cell_type": "code",
   "execution_count": 106,
   "id": "e613c802",
   "metadata": {},
   "outputs": [
    {
     "data": {
      "text/plain": [
       "(133, 13)"
      ]
     },
     "execution_count": 106,
     "metadata": {},
     "output_type": "execute_result"
    }
   ],
   "source": [
    "authors[(authors.type == 'R') & (authors.affiliation.isnull())].shape"
   ]
  },
  {
   "cell_type": "code",
   "execution_count": 112,
   "id": "e89408b0",
   "metadata": {},
   "outputs": [],
   "source": [
    "research_but_without_aff_papers = list(\n",
    "    set(authors[(authors.type == 'R') & (authors.affiliation.isnull())].doi.tolist()))"
   ]
  },
  {
   "cell_type": "code",
   "execution_count": 113,
   "id": "f154a080",
   "metadata": {},
   "outputs": [
    {
     "data": {
      "text/plain": [
       "95"
      ]
     },
     "execution_count": 113,
     "metadata": {},
     "output_type": "execute_result"
    }
   ],
   "source": [
    "len(research_but_without_aff_papers)"
   ]
  },
  {
   "cell_type": "code",
   "execution_count": 115,
   "id": "0ff3cc74",
   "metadata": {},
   "outputs": [],
   "source": [
    "all_dois = papers.doi.tolist()"
   ]
  },
  {
   "cell_type": "code",
   "execution_count": 134,
   "id": "4d2ed8bb",
   "metadata": {},
   "outputs": [
    {
     "data": {
      "text/plain": [
       "(167, 13)"
      ]
     },
     "execution_count": 134,
     "metadata": {},
     "output_type": "execute_result"
    }
   ],
   "source": [
    "authors[authors.doi.isin(research_but_without_aff_papers)].shape"
   ]
  },
  {
   "cell_type": "code",
   "execution_count": 135,
   "id": "b8b0480b",
   "metadata": {},
   "outputs": [
    {
     "data": {
      "text/plain": [
       "11304"
      ]
     },
     "execution_count": 135,
     "metadata": {},
     "output_type": "execute_result"
    }
   ],
   "source": [
    "authors[authors.type == 'R'].shape[0] - 167"
   ]
  },
  {
   "cell_type": "code",
   "execution_count": 136,
   "id": "f973ba88",
   "metadata": {},
   "outputs": [
    {
     "data": {
      "text/plain": [
       "5718"
      ]
     },
     "execution_count": 136,
     "metadata": {},
     "output_type": "execute_result"
    }
   ],
   "source": [
    "papers[papers.type == 'R'].shape[0] - 95"
   ]
  },
  {
   "cell_type": "markdown",
   "id": "2f59bfa4",
   "metadata": {},
   "source": [
    "## Updates: Using `isin()` has no problems ;)"
   ]
  },
  {
   "cell_type": "code",
   "execution_count": 127,
   "id": "d885e751",
   "metadata": {},
   "outputs": [],
   "source": [
    "totestlist_1 = ['xxxx', 'xxx']"
   ]
  },
  {
   "cell_type": "code",
   "execution_count": 128,
   "id": "e946e983",
   "metadata": {},
   "outputs": [
    {
     "data": {
      "text/plain": [
       "False"
      ]
     },
     "execution_count": 128,
     "metadata": {},
     "output_type": "execute_result"
    }
   ],
   "source": [
    "'xx' in totestlist_1"
   ]
  },
  {
   "cell_type": "code",
   "execution_count": 129,
   "id": "0f06df44",
   "metadata": {},
   "outputs": [],
   "source": [
    "dff = pd.DataFrame({'num_legs': ['xxxx', 'xxx'], 'num_wings': ['xxxxx', 'xxxxxx']})"
   ]
  },
  {
   "cell_type": "code",
   "execution_count": 130,
   "id": "d1386893",
   "metadata": {},
   "outputs": [
    {
     "data": {
      "text/html": [
       "<div>\n",
       "<style scoped>\n",
       "    .dataframe tbody tr th:only-of-type {\n",
       "        vertical-align: middle;\n",
       "    }\n",
       "\n",
       "    .dataframe tbody tr th {\n",
       "        vertical-align: top;\n",
       "    }\n",
       "\n",
       "    .dataframe thead th {\n",
       "        text-align: right;\n",
       "    }\n",
       "</style>\n",
       "<table border=\"1\" class=\"dataframe\">\n",
       "  <thead>\n",
       "    <tr style=\"text-align: right;\">\n",
       "      <th></th>\n",
       "      <th>num_legs</th>\n",
       "      <th>num_wings</th>\n",
       "    </tr>\n",
       "  </thead>\n",
       "  <tbody>\n",
       "    <tr>\n",
       "      <th>0</th>\n",
       "      <td>xxxx</td>\n",
       "      <td>xxxxx</td>\n",
       "    </tr>\n",
       "    <tr>\n",
       "      <th>1</th>\n",
       "      <td>xxx</td>\n",
       "      <td>xxxxxx</td>\n",
       "    </tr>\n",
       "  </tbody>\n",
       "</table>\n",
       "</div>"
      ],
      "text/plain": [
       "  num_legs num_wings\n",
       "0     xxxx     xxxxx\n",
       "1      xxx    xxxxxx"
      ]
     },
     "execution_count": 130,
     "metadata": {},
     "output_type": "execute_result"
    }
   ],
   "source": [
    "dff"
   ]
  },
  {
   "cell_type": "code",
   "execution_count": 131,
   "id": "1dbb5db0",
   "metadata": {},
   "outputs": [],
   "source": [
    "totestlist = ['xx']"
   ]
  },
  {
   "cell_type": "code",
   "execution_count": 132,
   "id": "da02e32c",
   "metadata": {},
   "outputs": [
    {
     "data": {
      "text/plain": [
       "0    False\n",
       "1    False\n",
       "Name: num_legs, dtype: bool"
      ]
     },
     "execution_count": 132,
     "metadata": {},
     "output_type": "execute_result"
    }
   ],
   "source": [
    "dff.num_legs.isin(totestlist)"
   ]
  }
 ],
 "metadata": {
  "kernelspec": {
   "display_name": "Python 3 (ipykernel)",
   "language": "python",
   "name": "python3"
  },
  "language_info": {
   "codemirror_mode": {
    "name": "ipython",
    "version": 3
   },
   "file_extension": ".py",
   "mimetype": "text/x-python",
   "name": "python",
   "nbconvert_exporter": "python",
   "pygments_lexer": "ipython3",
   "version": "3.8.13"
  }
 },
 "nbformat": 4,
 "nbformat_minor": 5
}
