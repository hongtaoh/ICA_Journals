{
 "cells": [
  {
   "cell_type": "code",
   "execution_count": 57,
   "id": "4478e0fe",
   "metadata": {},
   "outputs": [],
   "source": [
    "import pandas as pd\n",
    "import numpy as np\n",
    "import seaborn as sns\n",
    "import matplotlib.pyplot as plt\n",
    "from collections import Counter\n",
    "import altair as alt\n",
    "from altair import datum"
   ]
  },
  {
   "cell_type": "code",
   "execution_count": 58,
   "id": "3b97b2c3",
   "metadata": {},
   "outputs": [],
   "source": [
    "def get_simple_prop_df(data, var):\n",
    "    # get frequency and proportion over all the years\n",
    "    assert data in ['papers', 'authors'], 'data is wrong!'\n",
    "    if data == 'authors':\n",
    "        df = pd.DataFrame(Counter(authors[var]).items(), columns = [var, 'freq'])\n",
    "        df['prop'] = round(df['freq'] / total_author_num, 3)\n",
    "        df.sort_values('prop', ascending = False, inplace = True)\n",
    "    else:\n",
    "        df = pd.DataFrame(Counter(papers[var]).items(), columns = [var, 'freq'])\n",
    "        df['prop'] = round(df['freq'] / total_paper_num, 3)\n",
    "        df.sort_values('prop', ascending = False, inplace = True)\n",
    "    return df"
   ]
  },
  {
   "cell_type": "code",
   "execution_count": 59,
   "id": "b4c93919",
   "metadata": {},
   "outputs": [],
   "source": [
    "def get_freq_and_prop(data, var):\n",
    "    # get time series data\n",
    "    assert data in ['papers', 'authors'], 'data is wrong!'\n",
    "    if data == 'papers':\n",
    "        dic = yearly_papernum_dic\n",
    "        df = papers.groupby(['year', var]).size().to_frame('freq').reset_index()\n",
    "        df['year total'] = [dic[x] for x in df.year]\n",
    "    else:\n",
    "        dic = yearly_authornum_dic\n",
    "        df = authors.groupby(['year', var]).size().to_frame('freq').reset_index()\n",
    "        df['year total'] = [dic[x] for x in df.year]\n",
    "    df['prop'] = round(df['freq'] / df['year total'], 3)\n",
    "    return df"
   ]
  },
  {
   "cell_type": "code",
   "execution_count": 60,
   "id": "84673b88",
   "metadata": {},
   "outputs": [],
   "source": [
    "def transform_year(df):\n",
    "    dff = df.copy()\n",
    "    dff['year'] = pd.to_datetime(dff['year'] , format='%Y')\n",
    "    return dff"
   ]
  },
  {
   "cell_type": "code",
   "execution_count": 61,
   "id": "65d2c265",
   "metadata": {},
   "outputs": [],
   "source": [
    "authors = pd.read_csv('../data/processed/authors_to_study_expanded.csv')\n",
    "papers = pd.read_csv('../data/processed/papers_to_study_expanded.csv')\n",
    "papers.replace({\n",
    "    True: 'Yes',\n",
    "    False: 'No'\n",
    "}, inplace = True)\n"
   ]
  },
  {
   "cell_type": "code",
   "execution_count": 62,
   "id": "fa46e791",
   "metadata": {},
   "outputs": [],
   "source": [
    "authors['genderpred'] = authors['genderpred'].map({'F': \"W\", \"M\": \"M\", \"N\":\"N\"})"
   ]
  },
  {
   "cell_type": "code",
   "execution_count": 63,
   "id": "9158b8bd",
   "metadata": {},
   "outputs": [],
   "source": [
    "authors['racepred'] = authors['racepred'].map({\n",
    "    \"White\": \"White\", \n",
    "    'Hispanic': \"HLS\", \n",
    "    \"Black\": \"Black\",\n",
    "    \"Indigenous\": \"Indigenous\",\n",
    "    \"Middle Eastern\": \"MENA\",\n",
    "    \"Asian\": \"Asian\"\n",
    "})"
   ]
  },
  {
   "cell_type": "code",
   "execution_count": 64,
   "id": "6f24562c",
   "metadata": {},
   "outputs": [],
   "source": [
    "top_num = 5\n",
    "top_country_dic = dict(Counter(authors['countrypred']).most_common(top_num))\n",
    "top_country = list(top_country_dic.keys())\n",
    "authors['countrypred_new'] = authors['countrypred'].apply(\n",
    "        lambda x: x if x in top_country else 'Other'\n",
    "    )"
   ]
  },
  {
   "cell_type": "code",
   "execution_count": 65,
   "id": "996e4f0b",
   "metadata": {},
   "outputs": [],
   "source": [
    "for i in [papers, authors]:\n",
    "    i.replace({\n",
    "        'Communication Theory': 'CT',\n",
    "        'Communication, Culture and Critique': 'CCC',\n",
    "        'Human Communication Research': 'HCR',\n",
    "        'Journal of Communication': 'JOC',\n",
    "        'Journal of Computer-Mediated Communication': 'JCMC'\n",
    "                      }, inplace = True)"
   ]
  },
  {
   "cell_type": "code",
   "execution_count": 66,
   "id": "8019e6e3",
   "metadata": {},
   "outputs": [],
   "source": [
    "total_paper_num = len(papers)\n",
    "total_author_num = len(authors)"
   ]
  },
  {
   "cell_type": "code",
   "execution_count": 67,
   "id": "ea5c7c36",
   "metadata": {},
   "outputs": [
    {
     "data": {
      "text/plain": [
       "(5712, 11292)"
      ]
     },
     "execution_count": 67,
     "metadata": {},
     "output_type": "execute_result"
    }
   ],
   "source": [
    "total_paper_num, total_author_num"
   ]
  },
  {
   "cell_type": "code",
   "execution_count": 68,
   "id": "a6a50ca1",
   "metadata": {},
   "outputs": [],
   "source": [
    "yearly_papernum = papers.groupby(\n",
    "    'year').size().to_frame(name='freq').reset_index()\n",
    "yearly_authornum = authors.groupby(\n",
    "    'year').size().to_frame(name='freq').reset_index()\n",
    "yearly_authornum_dic = dict(zip(yearly_authornum.year, yearly_authornum.freq))\n",
    "yearly_papernum_dic = dict(zip(yearly_papernum.year, yearly_papernum.freq))"
   ]
  },
  {
   "cell_type": "markdown",
   "id": "eeb58146",
   "metadata": {},
   "source": [
    "## Cross-country collaborations"
   ]
  },
  {
   "cell_type": "code",
   "execution_count": 69,
   "id": "e4d724f4",
   "metadata": {},
   "outputs": [
    {
     "data": {
      "text/plain": [
       "(589, 34)"
      ]
     },
     "execution_count": 69,
     "metadata": {},
     "output_type": "execute_result"
    }
   ],
   "source": [
    "papers[papers.cross_country == 'Yes'].shape"
   ]
  },
  {
   "cell_type": "code",
   "execution_count": 70,
   "id": "dc85833c",
   "metadata": {},
   "outputs": [
    {
     "data": {
      "text/plain": [
       "['Georgian Institute of Public Affairs']"
      ]
     },
     "execution_count": 70,
     "metadata": {},
     "output_type": "execute_result"
    }
   ],
   "source": [
    "list(set(authors[authors.countrypred == 'GE']['ROR_AFFNAME']))"
   ]
  },
  {
   "cell_type": "code",
   "execution_count": 71,
   "id": "29dea11e",
   "metadata": {},
   "outputs": [],
   "source": [
    "def get_dic_from_firstauthor(DF, var):\n",
    "    '''I want to have these tuples: (i, j) where i is the first author country code\n",
    "        or another variable\n",
    "    '''\n",
    "    tuple_list = []\n",
    "    for group in DF.groupby('doi'):\n",
    "        group[1].sort_values(by='authorPosition', inplace=True)\n",
    "        # first author country\n",
    "        firstauthor_cntry = group[1].iloc[0, :][var]\n",
    "        # if more than one author\n",
    "        if group[1].shape[0] > 1:\n",
    "            # set of other authors' country\n",
    "            other_cntrycodes = group[1].iloc[1:, :][var].tolist()\n",
    "            # for each of the other authors' country\n",
    "            # form a tuple with the first author country\n",
    "            for i in other_cntrycodes:\n",
    "                if i != firstauthor_cntry:\n",
    "                    a_tuple = [(firstauthor_cntry, i)]\n",
    "                    tuple_list.append(a_tuple)\n",
    "    bicode = list(itertools.chain(*tuple_list))\n",
    "    bicode_counts = Counter(bicode)\n",
    "    bicode_counts_dic = dict(bicode_counts)\n",
    "    return bicode_counts_dic"
   ]
  },
  {
   "cell_type": "code",
   "execution_count": 72,
   "id": "cea754ec",
   "metadata": {},
   "outputs": [
    {
     "data": {
      "text/plain": [
       "{('US', 'CA'): 30,\n",
       " ('CA', 'US'): 17,\n",
       " ('TR', 'DE'): 1,\n",
       " ('US', 'PH'): 26,\n",
       " ('IN', 'US'): 2,\n",
       " ('CN', 'US'): 18,\n",
       " ('CL', 'GB'): 1,\n",
       " ('AU', 'NL'): 1,\n",
       " ('NL', 'SE'): 2,\n",
       " ('CA', 'GB'): 2,\n",
       " ('DE', 'CA'): 1,\n",
       " ('AT', 'DE'): 2,\n",
       " ('NO', 'GB'): 1,\n",
       " ('GB', 'NL'): 6,\n",
       " ('CH', 'US'): 1,\n",
       " ('US', 'CH'): 6,\n",
       " ('ES', 'GB'): 2,\n",
       " ('US', 'NZ'): 6,\n",
       " ('ES', 'CO'): 1,\n",
       " ('SE', 'AR'): 1,\n",
       " ('FR', 'CA'): 3,\n",
       " ('ES', 'US'): 6,\n",
       " ('BE', 'US'): 2,\n",
       " ('GB', 'DK'): 1,\n",
       " ('US', 'CN'): 20,\n",
       " ('US', 'BE'): 2,\n",
       " ('US', 'CO'): 2,\n",
       " ('PH', 'US'): 39,\n",
       " ('CN', 'SG'): 1,\n",
       " ('NL', 'DE'): 4,\n",
       " ('DE', 'NL'): 15,\n",
       " ('IL', 'GB'): 1,\n",
       " ('US', 'FR'): 4,\n",
       " ('US', 'CL'): 4,\n",
       " ('GB', 'CH'): 1,\n",
       " ('US', 'DE'): 30,\n",
       " ('US', 'IL'): 11,\n",
       " ('AT', 'US'): 10,\n",
       " ('AT', 'NZ'): 2,\n",
       " ('US', 'JP'): 19,\n",
       " ('CL', 'NL'): 4,\n",
       " ('US', 'KR'): 20,\n",
       " ('DE', 'NO'): 2,\n",
       " ('DE', 'AT'): 1,\n",
       " ('SG', 'US'): 21,\n",
       " ('DE', 'US'): 35,\n",
       " ('US', 'NL'): 20,\n",
       " ('SG', 'AT'): 2,\n",
       " ('BE', 'NL'): 3,\n",
       " ('US', 'GB'): 27,\n",
       " ('US', 'SG'): 14,\n",
       " ('US', 'AU'): 18,\n",
       " ('PH', 'AR'): 1,\n",
       " ('KR', 'US'): 14,\n",
       " ('CN', 'AU'): 1,\n",
       " ('US', 'TW'): 7,\n",
       " ('NL', 'BE'): 4,\n",
       " ('TW', 'HK'): 1,\n",
       " ('US', 'LB'): 3,\n",
       " ('DE', 'SE'): 1,\n",
       " ('IL', 'DE'): 1,\n",
       " ('IL', 'BE'): 1,\n",
       " ('IL', 'US'): 10,\n",
       " ('NL', 'SG'): 1,\n",
       " ('NL', 'US'): 15,\n",
       " ('CN', 'KR'): 1,\n",
       " ('CH', 'DE'): 10,\n",
       " ('US', 'FI'): 3,\n",
       " ('PH', 'CH'): 1,\n",
       " ('AU', 'CN'): 1,\n",
       " ('GB', 'AU'): 3,\n",
       " ('SE', 'TH'): 1,\n",
       " ('AR', 'US'): 1,\n",
       " ('GB', 'SG'): 2,\n",
       " ('US', 'SE'): 2,\n",
       " ('US', 'MX'): 4,\n",
       " ('CN', 'DK'): 1,\n",
       " ('NL', 'AT'): 2,\n",
       " ('DE', 'GB'): 7,\n",
       " ('DE', 'PH'): 1,\n",
       " ('DE', 'ZA'): 1,\n",
       " ('DE', 'BE'): 4,\n",
       " ('DE', 'CN'): 1,\n",
       " ('DE', 'SG'): 1,\n",
       " ('AU', 'US'): 6,\n",
       " ('BE', 'CY'): 1,\n",
       " ('PH', 'SG'): 1,\n",
       " ('PH', 'ZA'): 1,\n",
       " ('SE', 'DK'): 2,\n",
       " ('SE', 'AT'): 2,\n",
       " ('IT', 'MX'): 1,\n",
       " ('CA', 'IL'): 1,\n",
       " ('DE', 'IL'): 1,\n",
       " ('DK', 'US'): 4,\n",
       " ('NL', 'CN'): 1,\n",
       " ('SE', 'US'): 2,\n",
       " ('NL', 'IL'): 1,\n",
       " ('JP', 'US'): 14,\n",
       " ('PT', 'ES'): 1,\n",
       " ('AT', 'CL'): 1,\n",
       " ('JP', 'KR'): 3,\n",
       " ('KR', 'SG'): 1,\n",
       " ('JP', 'GB'): 1,\n",
       " ('GB', 'US'): 17,\n",
       " ('IL', 'AU'): 1,\n",
       " ('DE', 'AU'): 2,\n",
       " ('AU', 'CA'): 2,\n",
       " ('SE', 'GB'): 1,\n",
       " ('SE', 'UK'): 1,\n",
       " ('US', 'DK'): 4,\n",
       " ('US', 'AT'): 2,\n",
       " ('US', 'UK'): 6,\n",
       " ('DE', 'CH'): 7,\n",
       " ('GB', 'UK'): 5,\n",
       " ('GB', 'IE'): 1,\n",
       " ('US', 'EG'): 1,\n",
       " ('US', 'ES'): 3,\n",
       " ('KR', 'GB'): 2,\n",
       " ('TH', 'US'): 5,\n",
       " ('FI', 'GB'): 1,\n",
       " ('GB', 'ZA'): 1,\n",
       " ('BE', 'IT'): 1,\n",
       " ('US', 'QA'): 4,\n",
       " ('FR', 'DE'): 1,\n",
       " ('US', 'PL'): 4,\n",
       " ('US', 'TH'): 2,\n",
       " ('GB', 'ES'): 6,\n",
       " ('UK', 'GB'): 4,\n",
       " ('ZA', 'US'): 1,\n",
       " ('JP', 'CR'): 1,\n",
       " ('GB', 'IL'): 2,\n",
       " ('AU', 'FR'): 1,\n",
       " ('CH', 'FR'): 1,\n",
       " ('PT', 'UK'): 2,\n",
       " ('PT', 'IL'): 1,\n",
       " ('ES', 'CZ'): 1,\n",
       " ('IR', 'AU'): 2,\n",
       " ('CN', 'GE'): 1,\n",
       " ('KR', 'JP'): 1,\n",
       " ('US', 'AM'): 1,\n",
       " ('IT', 'IE'): 1,\n",
       " ('IT', 'LT'): 1,\n",
       " ('IT', 'EE'): 1,\n",
       " ('IT', 'GB'): 3,\n",
       " ('IT', 'CY'): 1,\n",
       " ('IT', 'ES'): 1,\n",
       " ('US', 'KE'): 1,\n",
       " ('LB', 'CY'): 1,\n",
       " ('LB', 'GB'): 1,\n",
       " ('TW', 'KR'): 1,\n",
       " ('CZ', 'US'): 1,\n",
       " ('PL', 'DK'): 1,\n",
       " ('FR', 'US'): 2,\n",
       " ('MX', 'ES'): 1,\n",
       " ('MX', 'US'): 1,\n",
       " ('US', 'NG'): 1,\n",
       " ('US', 'VE'): 1,\n",
       " ('US', 'ID'): 1,\n",
       " ('US', 'HU'): 3,\n",
       " ('TJ', 'US'): 1,\n",
       " ('GB', 'LB'): 1,\n",
       " ('FR', 'GB'): 1,\n",
       " ('IE', 'DE'): 1,\n",
       " ('RU', 'US'): 1,\n",
       " ('US', 'RU'): 1,\n",
       " ('UK', 'US'): 1,\n",
       " ('SK', 'US'): 1,\n",
       " ('US', 'IN'): 3,\n",
       " ('NL', 'GB'): 3,\n",
       " ('KE', 'US'): 4,\n",
       " ('US', 'IT'): 4,\n",
       " ('US', 'CR'): 1,\n",
       " ('US', 'CZ'): 2,\n",
       " ('US', 'CY'): 1,\n",
       " ('AU', 'RU'): 1,\n",
       " ('GR', 'GB'): 1,\n",
       " ('GR', 'DE'): 1,\n",
       " ('US', 'UG'): 2,\n",
       " ('US', 'ET'): 1,\n",
       " ('DK', 'NL'): 1,\n",
       " ('US', 'NO'): 2,\n",
       " ('DE', 'ES'): 1,\n",
       " ('CA', 'BE'): 1,\n",
       " ('TW', 'US'): 2,\n",
       " ('US', 'PE'): 1,\n",
       " ('NL', 'ZA'): 2,\n",
       " ('US', 'ZA'): 1,\n",
       " ('NZ', 'US'): 4,\n",
       " ('CO', 'US'): 2,\n",
       " ('US', 'BD'): 1,\n",
       " ('US', 'BN'): 1,\n",
       " ('QA', 'US'): 7,\n",
       " ('GH', 'US'): 3,\n",
       " ('US', 'IE'): 1,\n",
       " ('US', 'IS'): 1,\n",
       " ('AU', 'GB'): 1,\n",
       " ('CA', 'IT'): 1,\n",
       " ('BE', 'CH'): 2,\n",
       " ('CH', 'GB'): 3,\n",
       " ('GB', 'IS'): 2,\n",
       " ('GB', 'NO'): 1,\n",
       " ('IT', 'US'): 1,\n",
       " ('CA', 'DK'): 1,\n",
       " ('PH', 'NL'): 1,\n",
       " ('US', 'LV'): 2,\n",
       " ('CA', 'ES'): 1,\n",
       " ('FR', 'CH'): 1,\n",
       " ('US', 'PT'): 1,\n",
       " ('NO', 'DK'): 1,\n",
       " ('NO', 'FI'): 1,\n",
       " ('JP', 'CA'): 2,\n",
       " ('SG', 'CN'): 1,\n",
       " ('SG', 'AU'): 1,\n",
       " ('NO', 'CH'): 2,\n",
       " ('GB', 'IT'): 1,\n",
       " ('BE', 'GB'): 1,\n",
       " ('MX', 'GB'): 1,\n",
       " ('US', 'GR'): 1,\n",
       " ('CN', 'HK'): 1,\n",
       " ('AT', 'ES'): 1,\n",
       " ('CL', 'US'): 2,\n",
       " ('PH', 'IL'): 1,\n",
       " ('NL', 'CH'): 1,\n",
       " ('AT', 'CO'): 1,\n",
       " ('DE', 'FI'): 1,\n",
       " ('AT', 'CH'): 1,\n",
       " ('GB', 'PH'): 1,\n",
       " ('TR', 'US'): 1,\n",
       " ('AT', 'NL'): 1,\n",
       " ('ES', 'AU'): 1,\n",
       " ('CL', 'MX'): 1,\n",
       " ('CL', 'ES'): 1,\n",
       " ('CL', 'CN'): 2,\n",
       " ('CL', 'PL'): 1,\n",
       " ('CL', 'FI'): 1,\n",
       " ('CL', 'DE'): 1,\n",
       " ('CL', 'SG'): 1}"
      ]
     },
     "execution_count": 72,
     "metadata": {},
     "output_type": "execute_result"
    }
   ],
   "source": [
    "import itertools\n",
    "bicode_counts_dic = get_dic_from_firstauthor(authors, var = 'countrypred')\n",
    "bicode_counts_dic"
   ]
  },
  {
   "cell_type": "code",
   "execution_count": 73,
   "id": "43ef1fe9",
   "metadata": {},
   "outputs": [],
   "source": [
    "def get_chord_df(DIC): # DIC here is bicode_counts_dic\n",
    "    \"\"\"\n",
    "    Return:\n",
    "        A dataframe containig three columns: source, targe, value.\n",
    "    \"\"\"\n",
    "    chord_df = pd.DataFrame(DIC.items(), columns=['pairs','value'])\n",
    "    chord_df['source'] = chord_df.pairs.apply(lambda x: x[0])\n",
    "    chord_df['target'] = chord_df.pairs.apply(lambda x: x[1])\n",
    "    chord_df = chord_df[\n",
    "        ['source', 'target', 'value']].sort_values(\n",
    "        by='value', ascending=False).reset_index(drop=True)\n",
    "    return chord_df"
   ]
  },
  {
   "cell_type": "code",
   "execution_count": 74,
   "id": "6f0ebdd0",
   "metadata": {},
   "outputs": [],
   "source": [
    "author_chord_cntry_from_firstauthor = get_chord_df(bicode_counts_dic)"
   ]
  },
  {
   "cell_type": "code",
   "execution_count": 75,
   "id": "b2135028",
   "metadata": {},
   "outputs": [
    {
     "data": {
      "text/plain": [
       "860"
      ]
     },
     "execution_count": 75,
     "metadata": {},
     "output_type": "execute_result"
    }
   ],
   "source": [
    "author_chord_cntry_from_firstauthor.value.sum()"
   ]
  },
  {
   "cell_type": "code",
   "execution_count": 76,
   "id": "44bb6d85",
   "metadata": {},
   "outputs": [],
   "source": [
    "author_chord_cntry_from_firstauthor.to_csv(\n",
    "    '../data/plots/cntry_chord_from_firstauthor.csv', index=False)"
   ]
  },
  {
   "cell_type": "code",
   "execution_count": 77,
   "id": "71027a9e",
   "metadata": {},
   "outputs": [
    {
     "data": {
      "text/html": [
       "<div>\n",
       "<style scoped>\n",
       "    .dataframe tbody tr th:only-of-type {\n",
       "        vertical-align: middle;\n",
       "    }\n",
       "\n",
       "    .dataframe tbody tr th {\n",
       "        vertical-align: top;\n",
       "    }\n",
       "\n",
       "    .dataframe thead th {\n",
       "        text-align: right;\n",
       "    }\n",
       "</style>\n",
       "<table border=\"1\" class=\"dataframe\">\n",
       "  <thead>\n",
       "    <tr style=\"text-align: right;\">\n",
       "      <th></th>\n",
       "      <th>source</th>\n",
       "      <th>target</th>\n",
       "      <th>value</th>\n",
       "    </tr>\n",
       "  </thead>\n",
       "  <tbody>\n",
       "    <tr>\n",
       "      <th>0</th>\n",
       "      <td>PH</td>\n",
       "      <td>US</td>\n",
       "      <td>39</td>\n",
       "    </tr>\n",
       "    <tr>\n",
       "      <th>1</th>\n",
       "      <td>DE</td>\n",
       "      <td>US</td>\n",
       "      <td>35</td>\n",
       "    </tr>\n",
       "    <tr>\n",
       "      <th>2</th>\n",
       "      <td>US</td>\n",
       "      <td>CA</td>\n",
       "      <td>30</td>\n",
       "    </tr>\n",
       "    <tr>\n",
       "      <th>3</th>\n",
       "      <td>US</td>\n",
       "      <td>DE</td>\n",
       "      <td>30</td>\n",
       "    </tr>\n",
       "    <tr>\n",
       "      <th>4</th>\n",
       "      <td>US</td>\n",
       "      <td>GB</td>\n",
       "      <td>27</td>\n",
       "    </tr>\n",
       "    <tr>\n",
       "      <th>...</th>\n",
       "      <td>...</td>\n",
       "      <td>...</td>\n",
       "      <td>...</td>\n",
       "    </tr>\n",
       "    <tr>\n",
       "      <th>232</th>\n",
       "      <td>JP</td>\n",
       "      <td>CR</td>\n",
       "      <td>1</td>\n",
       "    </tr>\n",
       "    <tr>\n",
       "      <th>233</th>\n",
       "      <td>AU</td>\n",
       "      <td>FR</td>\n",
       "      <td>1</td>\n",
       "    </tr>\n",
       "    <tr>\n",
       "      <th>234</th>\n",
       "      <td>CH</td>\n",
       "      <td>FR</td>\n",
       "      <td>1</td>\n",
       "    </tr>\n",
       "    <tr>\n",
       "      <th>235</th>\n",
       "      <td>PT</td>\n",
       "      <td>IL</td>\n",
       "      <td>1</td>\n",
       "    </tr>\n",
       "    <tr>\n",
       "      <th>236</th>\n",
       "      <td>CL</td>\n",
       "      <td>SG</td>\n",
       "      <td>1</td>\n",
       "    </tr>\n",
       "  </tbody>\n",
       "</table>\n",
       "<p>237 rows × 3 columns</p>\n",
       "</div>"
      ],
      "text/plain": [
       "    source target  value\n",
       "0       PH     US     39\n",
       "1       DE     US     35\n",
       "2       US     CA     30\n",
       "3       US     DE     30\n",
       "4       US     GB     27\n",
       "..     ...    ...    ...\n",
       "232     JP     CR      1\n",
       "233     AU     FR      1\n",
       "234     CH     FR      1\n",
       "235     PT     IL      1\n",
       "236     CL     SG      1\n",
       "\n",
       "[237 rows x 3 columns]"
      ]
     },
     "execution_count": 77,
     "metadata": {},
     "output_type": "execute_result"
    }
   ],
   "source": [
    "cntry_chord = author_chord_cntry_from_firstauthor\n",
    "cntry_chord"
   ]
  },
  {
   "cell_type": "code",
   "execution_count": 78,
   "id": "b1475e01",
   "metadata": {},
   "outputs": [
    {
     "data": {
      "text/plain": [
       "(46, 60)"
      ]
     },
     "execution_count": 78,
     "metadata": {},
     "output_type": "execute_result"
    }
   ],
   "source": [
    "len(np.unique(cntry_chord.source)), len(np.unique(cntry_chord.target))"
   ]
  },
  {
   "cell_type": "code",
   "execution_count": 79,
   "id": "1d3214c7",
   "metadata": {},
   "outputs": [
    {
     "data": {
      "text/plain": [
       "65"
      ]
     },
     "execution_count": 79,
     "metadata": {},
     "output_type": "execute_result"
    }
   ],
   "source": [
    "unique_cntry = np.unique(cntry_chord.source.tolist() + cntry_chord.target.tolist())\n",
    "len(unique_cntry)"
   ]
  },
  {
   "cell_type": "code",
   "execution_count": 80,
   "id": "1a054e4b",
   "metadata": {},
   "outputs": [],
   "source": [
    "tuples = []\n",
    "for i in np.unique(cntry_chord.source):\n",
    "    dff = cntry_chord[cntry_chord.source == i]\n",
    "    total = dff.value.sum()\n",
    "    tuples.append((i, total))"
   ]
  },
  {
   "cell_type": "code",
   "execution_count": 81,
   "id": "62374064",
   "metadata": {},
   "outputs": [
    {
     "data": {
      "text/html": [
       "<div>\n",
       "<style scoped>\n",
       "    .dataframe tbody tr th:only-of-type {\n",
       "        vertical-align: middle;\n",
       "    }\n",
       "\n",
       "    .dataframe tbody tr th {\n",
       "        vertical-align: top;\n",
       "    }\n",
       "\n",
       "    .dataframe thead th {\n",
       "        text-align: right;\n",
       "    }\n",
       "</style>\n",
       "<table border=\"1\" class=\"dataframe\">\n",
       "  <thead>\n",
       "    <tr style=\"text-align: right;\">\n",
       "      <th></th>\n",
       "      <th>country</th>\n",
       "      <th>total</th>\n",
       "      <th>prop</th>\n",
       "    </tr>\n",
       "  </thead>\n",
       "  <tbody>\n",
       "    <tr>\n",
       "      <th>44</th>\n",
       "      <td>US</td>\n",
       "      <td>339</td>\n",
       "      <td>0.394</td>\n",
       "    </tr>\n",
       "    <tr>\n",
       "      <th>10</th>\n",
       "      <td>DE</td>\n",
       "      <td>82</td>\n",
       "      <td>0.095</td>\n",
       "    </tr>\n",
       "    <tr>\n",
       "      <th>15</th>\n",
       "      <td>GB</td>\n",
       "      <td>51</td>\n",
       "      <td>0.059</td>\n",
       "    </tr>\n",
       "    <tr>\n",
       "      <th>31</th>\n",
       "      <td>PH</td>\n",
       "      <td>45</td>\n",
       "      <td>0.052</td>\n",
       "    </tr>\n",
       "    <tr>\n",
       "      <th>28</th>\n",
       "      <td>NL</td>\n",
       "      <td>36</td>\n",
       "      <td>0.042</td>\n",
       "    </tr>\n",
       "  </tbody>\n",
       "</table>\n",
       "</div>"
      ],
      "text/plain": [
       "   country  total   prop\n",
       "44      US    339  0.394\n",
       "10      DE     82  0.095\n",
       "15      GB     51  0.059\n",
       "31      PH     45  0.052\n",
       "28      NL     36  0.042"
      ]
     },
     "execution_count": 81,
     "metadata": {},
     "output_type": "execute_result"
    }
   ],
   "source": [
    "# country chord source\n",
    "ccs = pd.DataFrame(tuples, columns = ['country', 'total'])\n",
    "ccs['prop'] = round(ccs['total'] / cntry_chord.value.sum(), 3)\n",
    "ccs.sort_values('prop', ascending = False).head()"
   ]
  },
  {
   "cell_type": "code",
   "execution_count": 82,
   "id": "41cab406",
   "metadata": {},
   "outputs": [],
   "source": [
    "tuples = []\n",
    "for i in unique_cntry:\n",
    "    dff = cntry_chord[(cntry_chord.source == i) | (cntry_chord.target == i)]\n",
    "    total = dff.value.sum()\n",
    "    tuples.append((i, total))"
   ]
  },
  {
   "cell_type": "code",
   "execution_count": 83,
   "id": "9b0d78d6",
   "metadata": {},
   "outputs": [
    {
     "data": {
      "text/plain": [
       "1720"
      ]
     },
     "execution_count": 83,
     "metadata": {},
     "output_type": "execute_result"
    }
   ],
   "source": [
    "NUM_OF_TOP_COUNTRY = 5\n",
    "cntry_chord_nodes = pd.DataFrame(tuples, columns = ['country', 'value']).sort_values(\n",
    "    by=['value'], ascending = False).reset_index(drop=True)\n",
    "total_node = cntry_chord_nodes.value.sum()\n",
    "total_node"
   ]
  },
  {
   "cell_type": "code",
   "execution_count": 84,
   "id": "59feb405",
   "metadata": {},
   "outputs": [],
   "source": [
    "cntry_chord_nodes['prop'] = round(cntry_chord_nodes['value']/cntry_chord.value.sum(), 3)"
   ]
  },
  {
   "cell_type": "code",
   "execution_count": 85,
   "id": "35554f01",
   "metadata": {},
   "outputs": [
    {
     "data": {
      "text/html": [
       "<div>\n",
       "<style scoped>\n",
       "    .dataframe tbody tr th:only-of-type {\n",
       "        vertical-align: middle;\n",
       "    }\n",
       "\n",
       "    .dataframe tbody tr th {\n",
       "        vertical-align: top;\n",
       "    }\n",
       "\n",
       "    .dataframe thead th {\n",
       "        text-align: right;\n",
       "    }\n",
       "</style>\n",
       "<table border=\"1\" class=\"dataframe\">\n",
       "  <thead>\n",
       "    <tr style=\"text-align: right;\">\n",
       "      <th></th>\n",
       "      <th>country</th>\n",
       "      <th>value</th>\n",
       "      <th>prop</th>\n",
       "    </tr>\n",
       "  </thead>\n",
       "  <tbody>\n",
       "    <tr>\n",
       "      <th>0</th>\n",
       "      <td>US</td>\n",
       "      <td>613</td>\n",
       "      <td>0.713</td>\n",
       "    </tr>\n",
       "    <tr>\n",
       "      <th>1</th>\n",
       "      <td>DE</td>\n",
       "      <td>134</td>\n",
       "      <td>0.156</td>\n",
       "    </tr>\n",
       "    <tr>\n",
       "      <th>2</th>\n",
       "      <td>GB</td>\n",
       "      <td>116</td>\n",
       "      <td>0.135</td>\n",
       "    </tr>\n",
       "    <tr>\n",
       "      <th>3</th>\n",
       "      <td>NL</td>\n",
       "      <td>88</td>\n",
       "      <td>0.102</td>\n",
       "    </tr>\n",
       "    <tr>\n",
       "      <th>4</th>\n",
       "      <td>PH</td>\n",
       "      <td>73</td>\n",
       "      <td>0.085</td>\n",
       "    </tr>\n",
       "  </tbody>\n",
       "</table>\n",
       "</div>"
      ],
      "text/plain": [
       "  country  value   prop\n",
       "0      US    613  0.713\n",
       "1      DE    134  0.156\n",
       "2      GB    116  0.135\n",
       "3      NL     88  0.102\n",
       "4      PH     73  0.085"
      ]
     },
     "execution_count": 85,
     "metadata": {},
     "output_type": "execute_result"
    }
   ],
   "source": [
    "cntry_chord_nodes.head()"
   ]
  },
  {
   "cell_type": "code",
   "execution_count": 86,
   "id": "c934a20c",
   "metadata": {},
   "outputs": [
    {
     "data": {
      "text/plain": [
       "1.191"
      ]
     },
     "execution_count": 86,
     "metadata": {},
     "output_type": "execute_result"
    }
   ],
   "source": [
    "cntry_chord_nodes.head().prop.sum()"
   ]
  },
  {
   "cell_type": "code",
   "execution_count": 87,
   "id": "9c85911a",
   "metadata": {},
   "outputs": [
    {
     "data": {
      "text/plain": [
       "1024"
      ]
     },
     "execution_count": 87,
     "metadata": {},
     "output_type": "execute_result"
    }
   ],
   "source": [
    "cntry_chord_nodes.head().value.sum()"
   ]
  },
  {
   "cell_type": "code",
   "execution_count": 88,
   "id": "225cb6f5",
   "metadata": {},
   "outputs": [
    {
     "data": {
      "text/plain": [
       "613"
      ]
     },
     "execution_count": 88,
     "metadata": {},
     "output_type": "execute_result"
    }
   ],
   "source": [
    "cntry_chord[(cntry_chord.source == 'US') | (cntry_chord.target=='US')].value.sum()"
   ]
  },
  {
   "cell_type": "code",
   "execution_count": 89,
   "id": "b903e146",
   "metadata": {},
   "outputs": [
    {
     "data": {
      "text/plain": [
       "['US', 'DE', 'GB', 'NL', 'PH']"
      ]
     },
     "execution_count": 89,
     "metadata": {},
     "output_type": "execute_result"
    }
   ],
   "source": [
    "most_active_cntry = cntry_chord_nodes.head(NUM_OF_TOP_COUNTRY).country.tolist()\n",
    "most_active_cntry"
   ]
  },
  {
   "cell_type": "code",
   "execution_count": 90,
   "id": "5ebbcc71",
   "metadata": {},
   "outputs": [
    {
     "data": {
      "text/plain": [
       "777"
      ]
     },
     "execution_count": 90,
     "metadata": {},
     "output_type": "execute_result"
    }
   ],
   "source": [
    "# Number of pairs where the most active countries appeared ???\n",
    "# this is not the case! I need to use `num_most_active_participated - between top`?\n",
    "num_most_active_participated = cntry_chord[(\n",
    "    cntry_chord.source.isin(most_active_cntry)) | (\n",
    "    cntry_chord.target.isin(most_active_cntry))].value.sum()\n",
    "num_most_active_participated"
   ]
  },
  {
   "cell_type": "code",
   "execution_count": 91,
   "id": "39ab06d0",
   "metadata": {},
   "outputs": [
    {
     "data": {
      "text/plain": [
       "247"
      ]
     },
     "execution_count": 91,
     "metadata": {},
     "output_type": "execute_result"
    }
   ],
   "source": [
    "# Number of pairs made up by collaborations between most active countries\n",
    "between_top = cntry_chord[(\n",
    "    cntry_chord.source.isin(most_active_cntry)) & (\n",
    "    cntry_chord.target.isin(most_active_cntry))].value.sum()\n",
    "between_top"
   ]
  },
  {
   "cell_type": "code",
   "execution_count": 92,
   "id": "09746451",
   "metadata": {},
   "outputs": [
    {
     "data": {
      "text/plain": [
       "0.2872093023255814"
      ]
     },
     "execution_count": 92,
     "metadata": {},
     "output_type": "execute_result"
    }
   ],
   "source": [
    "between_top / author_chord_cntry_from_firstauthor.value.sum()"
   ]
  },
  {
   "cell_type": "markdown",
   "id": "32329422",
   "metadata": {},
   "source": [
    "### Author cords from first authors (gender and race)"
   ]
  },
  {
   "cell_type": "code",
   "execution_count": 93,
   "id": "90810841",
   "metadata": {},
   "outputs": [
    {
     "data": {
      "text/plain": [
       "(552, 34)"
      ]
     },
     "execution_count": 93,
     "metadata": {},
     "output_type": "execute_result"
    }
   ],
   "source": [
    "papers[papers.cross_gender_and_race == 'Yes'].shape"
   ]
  },
  {
   "cell_type": "code",
   "execution_count": 94,
   "id": "2541bd56",
   "metadata": {},
   "outputs": [],
   "source": [
    "authors['gender_and_race'] = authors['genderpred'] + '_' + authors['racepred']"
   ]
  },
  {
   "cell_type": "code",
   "execution_count": 95,
   "id": "48adfab6",
   "metadata": {},
   "outputs": [],
   "source": [
    "bicode_counts_dic = get_dic_from_firstauthor(authors, var = 'gender_and_race')\n",
    "author_chord_gr_from_firstauthor = get_chord_df(bicode_counts_dic)"
   ]
  },
  {
   "cell_type": "code",
   "execution_count": 96,
   "id": "7ea59c19",
   "metadata": {},
   "outputs": [
    {
     "data": {
      "text/plain": [
       "3121"
      ]
     },
     "execution_count": 96,
     "metadata": {},
     "output_type": "execute_result"
    }
   ],
   "source": [
    "author_chord_gr_from_firstauthor.value.sum()"
   ]
  },
  {
   "cell_type": "code",
   "execution_count": 97,
   "id": "07a44a20",
   "metadata": {},
   "outputs": [],
   "source": [
    "author_chord_gr_from_firstauthor.to_csv('../data/plots/author_chord_gr_from_firstauthor.csv', index=False)"
   ]
  },
  {
   "cell_type": "code",
   "execution_count": 98,
   "id": "decda204",
   "metadata": {},
   "outputs": [
    {
     "data": {
      "text/html": [
       "<div>\n",
       "<style scoped>\n",
       "    .dataframe tbody tr th:only-of-type {\n",
       "        vertical-align: middle;\n",
       "    }\n",
       "\n",
       "    .dataframe tbody tr th {\n",
       "        vertical-align: top;\n",
       "    }\n",
       "\n",
       "    .dataframe thead th {\n",
       "        text-align: right;\n",
       "    }\n",
       "</style>\n",
       "<table border=\"1\" class=\"dataframe\">\n",
       "  <thead>\n",
       "    <tr style=\"text-align: right;\">\n",
       "      <th></th>\n",
       "      <th>source</th>\n",
       "      <th>target</th>\n",
       "      <th>value</th>\n",
       "    </tr>\n",
       "  </thead>\n",
       "  <tbody>\n",
       "    <tr>\n",
       "      <th>0</th>\n",
       "      <td>M_White</td>\n",
       "      <td>W_White</td>\n",
       "      <td>906</td>\n",
       "    </tr>\n",
       "    <tr>\n",
       "      <th>1</th>\n",
       "      <td>W_White</td>\n",
       "      <td>M_White</td>\n",
       "      <td>741</td>\n",
       "    </tr>\n",
       "    <tr>\n",
       "      <th>2</th>\n",
       "      <td>M_Asian</td>\n",
       "      <td>M_White</td>\n",
       "      <td>159</td>\n",
       "    </tr>\n",
       "    <tr>\n",
       "      <th>3</th>\n",
       "      <td>M_White</td>\n",
       "      <td>M_Asian</td>\n",
       "      <td>126</td>\n",
       "    </tr>\n",
       "    <tr>\n",
       "      <th>4</th>\n",
       "      <td>M_White</td>\n",
       "      <td>W_Asian</td>\n",
       "      <td>122</td>\n",
       "    </tr>\n",
       "    <tr>\n",
       "      <th>...</th>\n",
       "      <td>...</td>\n",
       "      <td>...</td>\n",
       "      <td>...</td>\n",
       "    </tr>\n",
       "    <tr>\n",
       "      <th>79</th>\n",
       "      <td>W_MENA</td>\n",
       "      <td>M_Asian</td>\n",
       "      <td>1</td>\n",
       "    </tr>\n",
       "    <tr>\n",
       "      <th>80</th>\n",
       "      <td>M_MENA</td>\n",
       "      <td>W_Asian</td>\n",
       "      <td>1</td>\n",
       "    </tr>\n",
       "    <tr>\n",
       "      <th>81</th>\n",
       "      <td>N_Asian</td>\n",
       "      <td>W_Black</td>\n",
       "      <td>1</td>\n",
       "    </tr>\n",
       "    <tr>\n",
       "      <th>82</th>\n",
       "      <td>N_Asian</td>\n",
       "      <td>W_HLS</td>\n",
       "      <td>1</td>\n",
       "    </tr>\n",
       "    <tr>\n",
       "      <th>83</th>\n",
       "      <td>M_Asian</td>\n",
       "      <td>M_Black</td>\n",
       "      <td>1</td>\n",
       "    </tr>\n",
       "  </tbody>\n",
       "</table>\n",
       "<p>84 rows × 3 columns</p>\n",
       "</div>"
      ],
      "text/plain": [
       "     source   target  value\n",
       "0   M_White  W_White    906\n",
       "1   W_White  M_White    741\n",
       "2   M_Asian  M_White    159\n",
       "3   M_White  M_Asian    126\n",
       "4   M_White  W_Asian    122\n",
       "..      ...      ...    ...\n",
       "79   W_MENA  M_Asian      1\n",
       "80   M_MENA  W_Asian      1\n",
       "81  N_Asian  W_Black      1\n",
       "82  N_Asian    W_HLS      1\n",
       "83  M_Asian  M_Black      1\n",
       "\n",
       "[84 rows x 3 columns]"
      ]
     },
     "execution_count": 98,
     "metadata": {},
     "output_type": "execute_result"
    }
   ],
   "source": [
    "gr_chord = author_chord_gr_from_firstauthor\n",
    "gr_chord"
   ]
  },
  {
   "cell_type": "code",
   "execution_count": 99,
   "id": "8d612556",
   "metadata": {},
   "outputs": [
    {
     "data": {
      "text/plain": [
       "{'M_Asian',\n",
       " 'M_Black',\n",
       " 'M_HLS',\n",
       " 'M_Indigenous',\n",
       " 'M_MENA',\n",
       " 'M_White',\n",
       " 'N_Asian',\n",
       " 'N_White',\n",
       " 'W_Asian',\n",
       " 'W_Black',\n",
       " 'W_HLS',\n",
       " 'W_Indigenous',\n",
       " 'W_MENA',\n",
       " 'W_White'}"
      ]
     },
     "execution_count": 99,
     "metadata": {},
     "output_type": "execute_result"
    }
   ],
   "source": [
    "set(gr_chord.source)"
   ]
  },
  {
   "cell_type": "code",
   "execution_count": 100,
   "id": "ea070f6e",
   "metadata": {},
   "outputs": [
    {
     "data": {
      "text/html": [
       "<div>\n",
       "<style scoped>\n",
       "    .dataframe tbody tr th:only-of-type {\n",
       "        vertical-align: middle;\n",
       "    }\n",
       "\n",
       "    .dataframe tbody tr th {\n",
       "        vertical-align: top;\n",
       "    }\n",
       "\n",
       "    .dataframe thead th {\n",
       "        text-align: right;\n",
       "    }\n",
       "</style>\n",
       "<table border=\"1\" class=\"dataframe\">\n",
       "  <thead>\n",
       "    <tr style=\"text-align: right;\">\n",
       "      <th></th>\n",
       "      <th>source</th>\n",
       "      <th>target</th>\n",
       "      <th>value</th>\n",
       "    </tr>\n",
       "  </thead>\n",
       "  <tbody>\n",
       "    <tr>\n",
       "      <th>56</th>\n",
       "      <td>W_Indigenous</td>\n",
       "      <td>M_White</td>\n",
       "      <td>2</td>\n",
       "    </tr>\n",
       "    <tr>\n",
       "      <th>65</th>\n",
       "      <td>W_Indigenous</td>\n",
       "      <td>W_Black</td>\n",
       "      <td>1</td>\n",
       "    </tr>\n",
       "    <tr>\n",
       "      <th>68</th>\n",
       "      <td>W_Indigenous</td>\n",
       "      <td>M_Asian</td>\n",
       "      <td>1</td>\n",
       "    </tr>\n",
       "    <tr>\n",
       "      <th>69</th>\n",
       "      <td>W_Indigenous</td>\n",
       "      <td>W_White</td>\n",
       "      <td>1</td>\n",
       "    </tr>\n",
       "    <tr>\n",
       "      <th>70</th>\n",
       "      <td>W_Indigenous</td>\n",
       "      <td>W_Asian</td>\n",
       "      <td>1</td>\n",
       "    </tr>\n",
       "  </tbody>\n",
       "</table>\n",
       "</div>"
      ],
      "text/plain": [
       "          source   target  value\n",
       "56  W_Indigenous  M_White      2\n",
       "65  W_Indigenous  W_Black      1\n",
       "68  W_Indigenous  M_Asian      1\n",
       "69  W_Indigenous  W_White      1\n",
       "70  W_Indigenous  W_Asian      1"
      ]
     },
     "execution_count": 100,
     "metadata": {},
     "output_type": "execute_result"
    }
   ],
   "source": [
    "gr_chord[gr_chord.source == 'W_Indigenous']"
   ]
  },
  {
   "cell_type": "code",
   "execution_count": 101,
   "id": "358937a5",
   "metadata": {},
   "outputs": [
    {
     "data": {
      "text/html": [
       "<div>\n",
       "<style scoped>\n",
       "    .dataframe tbody tr th:only-of-type {\n",
       "        vertical-align: middle;\n",
       "    }\n",
       "\n",
       "    .dataframe tbody tr th {\n",
       "        vertical-align: top;\n",
       "    }\n",
       "\n",
       "    .dataframe thead th {\n",
       "        text-align: right;\n",
       "    }\n",
       "</style>\n",
       "<table border=\"1\" class=\"dataframe\">\n",
       "  <thead>\n",
       "    <tr style=\"text-align: right;\">\n",
       "      <th></th>\n",
       "      <th>source</th>\n",
       "      <th>target</th>\n",
       "      <th>value</th>\n",
       "    </tr>\n",
       "  </thead>\n",
       "  <tbody>\n",
       "    <tr>\n",
       "      <th>57</th>\n",
       "      <td>M_Indigenous</td>\n",
       "      <td>W_White</td>\n",
       "      <td>2</td>\n",
       "    </tr>\n",
       "    <tr>\n",
       "      <th>63</th>\n",
       "      <td>M_Indigenous</td>\n",
       "      <td>M_White</td>\n",
       "      <td>1</td>\n",
       "    </tr>\n",
       "  </tbody>\n",
       "</table>\n",
       "</div>"
      ],
      "text/plain": [
       "          source   target  value\n",
       "57  M_Indigenous  W_White      2\n",
       "63  M_Indigenous  M_White      1"
      ]
     },
     "execution_count": 101,
     "metadata": {},
     "output_type": "execute_result"
    }
   ],
   "source": [
    "gr_chord[gr_chord.source == 'M_Indigenous']"
   ]
  },
  {
   "cell_type": "code",
   "execution_count": 102,
   "id": "26812f69",
   "metadata": {},
   "outputs": [
    {
     "data": {
      "text/html": [
       "<div>\n",
       "<style scoped>\n",
       "    .dataframe tbody tr th:only-of-type {\n",
       "        vertical-align: middle;\n",
       "    }\n",
       "\n",
       "    .dataframe tbody tr th {\n",
       "        vertical-align: top;\n",
       "    }\n",
       "\n",
       "    .dataframe thead th {\n",
       "        text-align: right;\n",
       "    }\n",
       "</style>\n",
       "<table border=\"1\" class=\"dataframe\">\n",
       "  <thead>\n",
       "    <tr style=\"text-align: right;\">\n",
       "      <th></th>\n",
       "      <th>source</th>\n",
       "      <th>target</th>\n",
       "      <th>value</th>\n",
       "    </tr>\n",
       "  </thead>\n",
       "  <tbody>\n",
       "    <tr>\n",
       "      <th>0</th>\n",
       "      <td>M_White</td>\n",
       "      <td>W_White</td>\n",
       "      <td>906</td>\n",
       "    </tr>\n",
       "    <tr>\n",
       "      <th>3</th>\n",
       "      <td>M_White</td>\n",
       "      <td>M_Asian</td>\n",
       "      <td>126</td>\n",
       "    </tr>\n",
       "    <tr>\n",
       "      <th>4</th>\n",
       "      <td>M_White</td>\n",
       "      <td>W_Asian</td>\n",
       "      <td>122</td>\n",
       "    </tr>\n",
       "    <tr>\n",
       "      <th>13</th>\n",
       "      <td>M_White</td>\n",
       "      <td>W_HLS</td>\n",
       "      <td>38</td>\n",
       "    </tr>\n",
       "    <tr>\n",
       "      <th>14</th>\n",
       "      <td>M_White</td>\n",
       "      <td>M_HLS</td>\n",
       "      <td>28</td>\n",
       "    </tr>\n",
       "    <tr>\n",
       "      <th>21</th>\n",
       "      <td>M_White</td>\n",
       "      <td>M_Black</td>\n",
       "      <td>17</td>\n",
       "    </tr>\n",
       "    <tr>\n",
       "      <th>22</th>\n",
       "      <td>M_White</td>\n",
       "      <td>W_Black</td>\n",
       "      <td>16</td>\n",
       "    </tr>\n",
       "    <tr>\n",
       "      <th>23</th>\n",
       "      <td>M_White</td>\n",
       "      <td>M_MENA</td>\n",
       "      <td>15</td>\n",
       "    </tr>\n",
       "    <tr>\n",
       "      <th>24</th>\n",
       "      <td>M_White</td>\n",
       "      <td>W_MENA</td>\n",
       "      <td>13</td>\n",
       "    </tr>\n",
       "    <tr>\n",
       "      <th>41</th>\n",
       "      <td>M_White</td>\n",
       "      <td>W_Indigenous</td>\n",
       "      <td>5</td>\n",
       "    </tr>\n",
       "    <tr>\n",
       "      <th>59</th>\n",
       "      <td>M_White</td>\n",
       "      <td>M_Indigenous</td>\n",
       "      <td>2</td>\n",
       "    </tr>\n",
       "    <tr>\n",
       "      <th>75</th>\n",
       "      <td>M_White</td>\n",
       "      <td>N_HLS</td>\n",
       "      <td>1</td>\n",
       "    </tr>\n",
       "  </tbody>\n",
       "</table>\n",
       "</div>"
      ],
      "text/plain": [
       "     source        target  value\n",
       "0   M_White       W_White    906\n",
       "3   M_White       M_Asian    126\n",
       "4   M_White       W_Asian    122\n",
       "13  M_White         W_HLS     38\n",
       "14  M_White         M_HLS     28\n",
       "21  M_White       M_Black     17\n",
       "22  M_White       W_Black     16\n",
       "23  M_White        M_MENA     15\n",
       "24  M_White        W_MENA     13\n",
       "41  M_White  W_Indigenous      5\n",
       "59  M_White  M_Indigenous      2\n",
       "75  M_White         N_HLS      1"
      ]
     },
     "execution_count": 102,
     "metadata": {},
     "output_type": "execute_result"
    }
   ],
   "source": [
    "gr_chord[gr_chord.source == 'M_White']"
   ]
  },
  {
   "cell_type": "code",
   "execution_count": 103,
   "id": "aad42da8",
   "metadata": {},
   "outputs": [
    {
     "data": {
      "text/html": [
       "<div>\n",
       "<style scoped>\n",
       "    .dataframe tbody tr th:only-of-type {\n",
       "        vertical-align: middle;\n",
       "    }\n",
       "\n",
       "    .dataframe tbody tr th {\n",
       "        vertical-align: top;\n",
       "    }\n",
       "\n",
       "    .dataframe thead th {\n",
       "        text-align: right;\n",
       "    }\n",
       "</style>\n",
       "<table border=\"1\" class=\"dataframe\">\n",
       "  <thead>\n",
       "    <tr style=\"text-align: right;\">\n",
       "      <th></th>\n",
       "      <th>source</th>\n",
       "      <th>target</th>\n",
       "      <th>value</th>\n",
       "    </tr>\n",
       "  </thead>\n",
       "  <tbody>\n",
       "    <tr>\n",
       "      <th>1</th>\n",
       "      <td>W_White</td>\n",
       "      <td>M_White</td>\n",
       "      <td>741</td>\n",
       "    </tr>\n",
       "    <tr>\n",
       "      <th>7</th>\n",
       "      <td>W_White</td>\n",
       "      <td>W_Asian</td>\n",
       "      <td>78</td>\n",
       "    </tr>\n",
       "    <tr>\n",
       "      <th>11</th>\n",
       "      <td>W_White</td>\n",
       "      <td>M_Asian</td>\n",
       "      <td>55</td>\n",
       "    </tr>\n",
       "    <tr>\n",
       "      <th>15</th>\n",
       "      <td>W_White</td>\n",
       "      <td>M_HLS</td>\n",
       "      <td>24</td>\n",
       "    </tr>\n",
       "    <tr>\n",
       "      <th>16</th>\n",
       "      <td>W_White</td>\n",
       "      <td>W_HLS</td>\n",
       "      <td>24</td>\n",
       "    </tr>\n",
       "    <tr>\n",
       "      <th>19</th>\n",
       "      <td>W_White</td>\n",
       "      <td>W_Black</td>\n",
       "      <td>21</td>\n",
       "    </tr>\n",
       "    <tr>\n",
       "      <th>25</th>\n",
       "      <td>W_White</td>\n",
       "      <td>M_Black</td>\n",
       "      <td>12</td>\n",
       "    </tr>\n",
       "    <tr>\n",
       "      <th>44</th>\n",
       "      <td>W_White</td>\n",
       "      <td>W_Indigenous</td>\n",
       "      <td>5</td>\n",
       "    </tr>\n",
       "    <tr>\n",
       "      <th>46</th>\n",
       "      <td>W_White</td>\n",
       "      <td>M_MENA</td>\n",
       "      <td>4</td>\n",
       "    </tr>\n",
       "    <tr>\n",
       "      <th>50</th>\n",
       "      <td>W_White</td>\n",
       "      <td>W_MENA</td>\n",
       "      <td>3</td>\n",
       "    </tr>\n",
       "  </tbody>\n",
       "</table>\n",
       "</div>"
      ],
      "text/plain": [
       "     source        target  value\n",
       "1   W_White       M_White    741\n",
       "7   W_White       W_Asian     78\n",
       "11  W_White       M_Asian     55\n",
       "15  W_White         M_HLS     24\n",
       "16  W_White         W_HLS     24\n",
       "19  W_White       W_Black     21\n",
       "25  W_White       M_Black     12\n",
       "44  W_White  W_Indigenous      5\n",
       "46  W_White        M_MENA      4\n",
       "50  W_White        W_MENA      3"
      ]
     },
     "execution_count": 103,
     "metadata": {},
     "output_type": "execute_result"
    }
   ],
   "source": [
    "gr_chord[gr_chord.source == 'W_White']"
   ]
  },
  {
   "cell_type": "code",
   "execution_count": 104,
   "id": "3e2fd3df",
   "metadata": {},
   "outputs": [
    {
     "data": {
      "text/plain": [
       "(14, 13)"
      ]
     },
     "execution_count": 104,
     "metadata": {},
     "output_type": "execute_result"
    }
   ],
   "source": [
    "len(np.unique(gr_chord.source)), len(np.unique(gr_chord.target))"
   ]
  },
  {
   "cell_type": "code",
   "execution_count": 105,
   "id": "bf3bf0ac",
   "metadata": {},
   "outputs": [
    {
     "data": {
      "text/plain": [
       "15"
      ]
     },
     "execution_count": 105,
     "metadata": {},
     "output_type": "execute_result"
    }
   ],
   "source": [
    "unique_label = np.unique(gr_chord.source.tolist() + gr_chord.target.tolist())\n",
    "len(unique_label)"
   ]
  },
  {
   "cell_type": "code",
   "execution_count": 106,
   "id": "17c93eab",
   "metadata": {},
   "outputs": [
    {
     "data": {
      "text/html": [
       "<div>\n",
       "<style scoped>\n",
       "    .dataframe tbody tr th:only-of-type {\n",
       "        vertical-align: middle;\n",
       "    }\n",
       "\n",
       "    .dataframe tbody tr th {\n",
       "        vertical-align: top;\n",
       "    }\n",
       "\n",
       "    .dataframe thead th {\n",
       "        text-align: right;\n",
       "    }\n",
       "</style>\n",
       "<table border=\"1\" class=\"dataframe\">\n",
       "  <thead>\n",
       "    <tr style=\"text-align: right;\">\n",
       "      <th></th>\n",
       "      <th>country</th>\n",
       "      <th>total</th>\n",
       "      <th>prop</th>\n",
       "    </tr>\n",
       "  </thead>\n",
       "  <tbody>\n",
       "    <tr>\n",
       "      <th>5</th>\n",
       "      <td>M_White</td>\n",
       "      <td>1289</td>\n",
       "      <td>0.413</td>\n",
       "    </tr>\n",
       "    <tr>\n",
       "      <th>13</th>\n",
       "      <td>W_White</td>\n",
       "      <td>967</td>\n",
       "      <td>0.310</td>\n",
       "    </tr>\n",
       "    <tr>\n",
       "      <th>0</th>\n",
       "      <td>M_Asian</td>\n",
       "      <td>315</td>\n",
       "      <td>0.101</td>\n",
       "    </tr>\n",
       "    <tr>\n",
       "      <th>8</th>\n",
       "      <td>W_Asian</td>\n",
       "      <td>304</td>\n",
       "      <td>0.097</td>\n",
       "    </tr>\n",
       "    <tr>\n",
       "      <th>2</th>\n",
       "      <td>M_HLS</td>\n",
       "      <td>80</td>\n",
       "      <td>0.026</td>\n",
       "    </tr>\n",
       "  </tbody>\n",
       "</table>\n",
       "</div>"
      ],
      "text/plain": [
       "    country  total   prop\n",
       "5   M_White   1289  0.413\n",
       "13  W_White    967  0.310\n",
       "0   M_Asian    315  0.101\n",
       "8   W_Asian    304  0.097\n",
       "2     M_HLS     80  0.026"
      ]
     },
     "execution_count": 106,
     "metadata": {},
     "output_type": "execute_result"
    }
   ],
   "source": [
    "tuples = []\n",
    "for i in np.unique(gr_chord.source):\n",
    "    dff = gr_chord[gr_chord.source == i]\n",
    "    total = dff.value.sum()\n",
    "    tuples.append((i, total))\n",
    "\n",
    "grs = pd.DataFrame(tuples, columns = ['country', 'total'])\n",
    "grs['prop'] = round(grs['total'] / gr_chord.value.sum(), 3)\n",
    "grs.sort_values('prop', ascending = False).head()"
   ]
  }
 ],
 "metadata": {
  "kernelspec": {
   "display_name": "Python 3 (ipykernel)",
   "language": "python",
   "name": "python3"
  },
  "language_info": {
   "codemirror_mode": {
    "name": "ipython",
    "version": 3
   },
   "file_extension": ".py",
   "mimetype": "text/x-python",
   "name": "python",
   "nbconvert_exporter": "python",
   "pygments_lexer": "ipython3",
   "version": "3.11.6"
  }
 },
 "nbformat": 4,
 "nbformat_minor": 5
}
