{
 "cells": [
  {
   "cell_type": "markdown",
   "metadata": {},
   "source": [
    "In this notebook, I shuffle the anonymized version of author data. "
   ]
  },
  {
   "cell_type": "code",
   "execution_count": 50,
   "metadata": {},
   "outputs": [],
   "source": [
    "import pandas as pd \n",
    "import numpy as np"
   ]
  },
  {
   "cell_type": "code",
   "execution_count": 51,
   "metadata": {},
   "outputs": [
    {
     "data": {
      "text/html": [
       "<div>\n",
       "<style scoped>\n",
       "    .dataframe tbody tr th:only-of-type {\n",
       "        vertical-align: middle;\n",
       "    }\n",
       "\n",
       "    .dataframe tbody tr th {\n",
       "        vertical-align: top;\n",
       "    }\n",
       "\n",
       "    .dataframe thead th {\n",
       "        text-align: right;\n",
       "    }\n",
       "</style>\n",
       "<table border=\"1\" class=\"dataframe\">\n",
       "  <thead>\n",
       "    <tr style=\"text-align: right;\">\n",
       "      <th></th>\n",
       "      <th>doi</th>\n",
       "      <th>year</th>\n",
       "      <th>journal</th>\n",
       "      <th>authorPosition</th>\n",
       "      <th>countrypred</th>\n",
       "      <th>genderpred</th>\n",
       "      <th>racepred</th>\n",
       "      <th>afftypepred</th>\n",
       "    </tr>\n",
       "  </thead>\n",
       "  <tbody>\n",
       "    <tr>\n",
       "      <th>0</th>\n",
       "      <td>10.1093/joc/jqac004</td>\n",
       "      <td>2022</td>\n",
       "      <td>Journal of Communication</td>\n",
       "      <td>1.0</td>\n",
       "      <td>US</td>\n",
       "      <td>F</td>\n",
       "      <td>White</td>\n",
       "      <td>Education</td>\n",
       "    </tr>\n",
       "    <tr>\n",
       "      <th>1</th>\n",
       "      <td>10.1093/joc/jqac004</td>\n",
       "      <td>2022</td>\n",
       "      <td>Journal of Communication</td>\n",
       "      <td>2.0</td>\n",
       "      <td>US</td>\n",
       "      <td>F</td>\n",
       "      <td>Hispanic</td>\n",
       "      <td>Education</td>\n",
       "    </tr>\n",
       "    <tr>\n",
       "      <th>2</th>\n",
       "      <td>10.1093/joc/jqac009</td>\n",
       "      <td>2022</td>\n",
       "      <td>Journal of Communication</td>\n",
       "      <td>1.0</td>\n",
       "      <td>DE</td>\n",
       "      <td>M</td>\n",
       "      <td>White</td>\n",
       "      <td>Education</td>\n",
       "    </tr>\n",
       "    <tr>\n",
       "      <th>3</th>\n",
       "      <td>10.1093/joc/jqac009</td>\n",
       "      <td>2022</td>\n",
       "      <td>Journal of Communication</td>\n",
       "      <td>2.0</td>\n",
       "      <td>DE</td>\n",
       "      <td>F</td>\n",
       "      <td>White</td>\n",
       "      <td>Education</td>\n",
       "    </tr>\n",
       "    <tr>\n",
       "      <th>4</th>\n",
       "      <td>10.1093/joc/jqac008</td>\n",
       "      <td>2022</td>\n",
       "      <td>Journal of Communication</td>\n",
       "      <td>1.0</td>\n",
       "      <td>AT</td>\n",
       "      <td>M</td>\n",
       "      <td>White</td>\n",
       "      <td>Education</td>\n",
       "    </tr>\n",
       "  </tbody>\n",
       "</table>\n",
       "</div>"
      ],
      "text/plain": [
       "                   doi  year                   journal  authorPosition  \\\n",
       "0  10.1093/joc/jqac004  2022  Journal of Communication             1.0   \n",
       "1  10.1093/joc/jqac004  2022  Journal of Communication             2.0   \n",
       "2  10.1093/joc/jqac009  2022  Journal of Communication             1.0   \n",
       "3  10.1093/joc/jqac009  2022  Journal of Communication             2.0   \n",
       "4  10.1093/joc/jqac008  2022  Journal of Communication             1.0   \n",
       "\n",
       "  countrypred genderpred  racepred afftypepred  \n",
       "0          US          F     White   Education  \n",
       "1          US          F  Hispanic   Education  \n",
       "2          DE          M     White   Education  \n",
       "3          DE          F     White   Education  \n",
       "4          AT          M     White   Education  "
      ]
     },
     "execution_count": 51,
     "metadata": {},
     "output_type": "execute_result"
    }
   ],
   "source": [
    "df = pd.read_csv(\"authors.csv\", usecols=[\n",
    "    'doi',\n",
    "    'year',\n",
    "    'journal',\n",
    "    'authorPosition',\n",
    "    'countrypred',\n",
    "    'genderpred',\n",
    "    'racepred',\n",
    "    'afftypepred'\n",
    "])\n",
    "df.head()"
   ]
  },
  {
   "cell_type": "code",
   "execution_count": 52,
   "metadata": {},
   "outputs": [
    {
     "data": {
      "text/plain": [
       "True"
      ]
     },
     "execution_count": 52,
     "metadata": {},
     "output_type": "execute_result"
    }
   ],
   "source": [
    "unique_dois = list(set(df.doi))\n",
    "fake_dois = [''.join(np.random.choice(list('abcdefghijklmnopqrstuvwxyz'), 20)) for _ in range(len(unique_dois))]\n",
    "## making sure there are no duplicates in fake_dois\n",
    "len(fake_dois) == len(unique_dois)"
   ]
  },
  {
   "cell_type": "code",
   "execution_count": 53,
   "metadata": {},
   "outputs": [],
   "source": [
    "doi_fakeDOI_dic = dict(zip(unique_dois, fake_dois))"
   ]
  },
  {
   "cell_type": "code",
   "execution_count": 54,
   "metadata": {},
   "outputs": [],
   "source": [
    "df['doi'] = [doi_fakeDOI_dic[doi] for doi in df.doi]"
   ]
  },
  {
   "cell_type": "code",
   "execution_count": 55,
   "metadata": {},
   "outputs": [
    {
     "data": {
      "text/html": [
       "<div>\n",
       "<style scoped>\n",
       "    .dataframe tbody tr th:only-of-type {\n",
       "        vertical-align: middle;\n",
       "    }\n",
       "\n",
       "    .dataframe tbody tr th {\n",
       "        vertical-align: top;\n",
       "    }\n",
       "\n",
       "    .dataframe thead th {\n",
       "        text-align: right;\n",
       "    }\n",
       "</style>\n",
       "<table border=\"1\" class=\"dataframe\">\n",
       "  <thead>\n",
       "    <tr style=\"text-align: right;\">\n",
       "      <th></th>\n",
       "      <th>doi</th>\n",
       "      <th>year</th>\n",
       "      <th>journal</th>\n",
       "      <th>authorPosition</th>\n",
       "      <th>countrypred</th>\n",
       "      <th>genderpred</th>\n",
       "      <th>racepred</th>\n",
       "      <th>afftypepred</th>\n",
       "    </tr>\n",
       "  </thead>\n",
       "  <tbody>\n",
       "    <tr>\n",
       "      <th>0</th>\n",
       "      <td>nqmtrfpxxkslosapjlnm</td>\n",
       "      <td>2022</td>\n",
       "      <td>Journal of Communication</td>\n",
       "      <td>1.0</td>\n",
       "      <td>US</td>\n",
       "      <td>F</td>\n",
       "      <td>White</td>\n",
       "      <td>Education</td>\n",
       "    </tr>\n",
       "    <tr>\n",
       "      <th>1</th>\n",
       "      <td>nqmtrfpxxkslosapjlnm</td>\n",
       "      <td>2022</td>\n",
       "      <td>Journal of Communication</td>\n",
       "      <td>2.0</td>\n",
       "      <td>US</td>\n",
       "      <td>F</td>\n",
       "      <td>Hispanic</td>\n",
       "      <td>Education</td>\n",
       "    </tr>\n",
       "    <tr>\n",
       "      <th>2</th>\n",
       "      <td>kqcvkgxvokvekjzjqoiw</td>\n",
       "      <td>2022</td>\n",
       "      <td>Journal of Communication</td>\n",
       "      <td>1.0</td>\n",
       "      <td>DE</td>\n",
       "      <td>M</td>\n",
       "      <td>White</td>\n",
       "      <td>Education</td>\n",
       "    </tr>\n",
       "    <tr>\n",
       "      <th>3</th>\n",
       "      <td>kqcvkgxvokvekjzjqoiw</td>\n",
       "      <td>2022</td>\n",
       "      <td>Journal of Communication</td>\n",
       "      <td>2.0</td>\n",
       "      <td>DE</td>\n",
       "      <td>F</td>\n",
       "      <td>White</td>\n",
       "      <td>Education</td>\n",
       "    </tr>\n",
       "    <tr>\n",
       "      <th>4</th>\n",
       "      <td>ipromdeiyfambuhzvhtn</td>\n",
       "      <td>2022</td>\n",
       "      <td>Journal of Communication</td>\n",
       "      <td>1.0</td>\n",
       "      <td>AT</td>\n",
       "      <td>M</td>\n",
       "      <td>White</td>\n",
       "      <td>Education</td>\n",
       "    </tr>\n",
       "  </tbody>\n",
       "</table>\n",
       "</div>"
      ],
      "text/plain": [
       "                    doi  year                   journal  authorPosition  \\\n",
       "0  nqmtrfpxxkslosapjlnm  2022  Journal of Communication             1.0   \n",
       "1  nqmtrfpxxkslosapjlnm  2022  Journal of Communication             2.0   \n",
       "2  kqcvkgxvokvekjzjqoiw  2022  Journal of Communication             1.0   \n",
       "3  kqcvkgxvokvekjzjqoiw  2022  Journal of Communication             2.0   \n",
       "4  ipromdeiyfambuhzvhtn  2022  Journal of Communication             1.0   \n",
       "\n",
       "  countrypred genderpred  racepred afftypepred  \n",
       "0          US          F     White   Education  \n",
       "1          US          F  Hispanic   Education  \n",
       "2          DE          M     White   Education  \n",
       "3          DE          F     White   Education  \n",
       "4          AT          M     White   Education  "
      ]
     },
     "execution_count": 55,
     "metadata": {},
     "output_type": "execute_result"
    }
   ],
   "source": [
    "df.head()"
   ]
  },
  {
   "cell_type": "code",
   "execution_count": 56,
   "metadata": {},
   "outputs": [],
   "source": [
    "papers = pd.read_csv('../data/papers_to_study_expanded.csv')"
   ]
  },
  {
   "cell_type": "code",
   "execution_count": 57,
   "metadata": {},
   "outputs": [
    {
     "data": {
      "text/plain": [
       "True"
      ]
     },
     "execution_count": 57,
     "metadata": {},
     "output_type": "execute_result"
    }
   ],
   "source": [
    "len(set(df.doi)) == papers.shape[0]"
   ]
  },
  {
   "cell_type": "code",
   "execution_count": 58,
   "metadata": {},
   "outputs": [
    {
     "data": {
      "text/html": [
       "<div>\n",
       "<style scoped>\n",
       "    .dataframe tbody tr th:only-of-type {\n",
       "        vertical-align: middle;\n",
       "    }\n",
       "\n",
       "    .dataframe tbody tr th {\n",
       "        vertical-align: top;\n",
       "    }\n",
       "\n",
       "    .dataframe thead th {\n",
       "        text-align: right;\n",
       "    }\n",
       "</style>\n",
       "<table border=\"1\" class=\"dataframe\">\n",
       "  <thead>\n",
       "    <tr style=\"text-align: right;\">\n",
       "      <th></th>\n",
       "      <th>authorIndex</th>\n",
       "      <th>doi</th>\n",
       "      <th>year</th>\n",
       "      <th>journal</th>\n",
       "      <th>authorPosition</th>\n",
       "      <th>countrypred</th>\n",
       "      <th>genderpred</th>\n",
       "      <th>racepred</th>\n",
       "      <th>afftypepred</th>\n",
       "    </tr>\n",
       "  </thead>\n",
       "  <tbody>\n",
       "    <tr>\n",
       "      <th>0</th>\n",
       "      <td>0</td>\n",
       "      <td>todlywbtzugkeguseiax</td>\n",
       "      <td>2013</td>\n",
       "      <td>Human Communication Research</td>\n",
       "      <td>2.0</td>\n",
       "      <td>US</td>\n",
       "      <td>F</td>\n",
       "      <td>White</td>\n",
       "      <td>Non Education</td>\n",
       "    </tr>\n",
       "    <tr>\n",
       "      <th>1</th>\n",
       "      <td>1</td>\n",
       "      <td>nazkjemanydzupiqyxkz</td>\n",
       "      <td>1989</td>\n",
       "      <td>Human Communication Research</td>\n",
       "      <td>3.0</td>\n",
       "      <td>PH</td>\n",
       "      <td>M</td>\n",
       "      <td>White</td>\n",
       "      <td>Education</td>\n",
       "    </tr>\n",
       "    <tr>\n",
       "      <th>2</th>\n",
       "      <td>2</td>\n",
       "      <td>rcnlopcsfraladutbjma</td>\n",
       "      <td>1993</td>\n",
       "      <td>Journal of Communication</td>\n",
       "      <td>1.0</td>\n",
       "      <td>US</td>\n",
       "      <td>M</td>\n",
       "      <td>White</td>\n",
       "      <td>Education</td>\n",
       "    </tr>\n",
       "    <tr>\n",
       "      <th>3</th>\n",
       "      <td>3</td>\n",
       "      <td>zdvtnxbxnjpkpvlsgigu</td>\n",
       "      <td>2007</td>\n",
       "      <td>Communication Theory</td>\n",
       "      <td>1.0</td>\n",
       "      <td>US</td>\n",
       "      <td>F</td>\n",
       "      <td>White</td>\n",
       "      <td>Education</td>\n",
       "    </tr>\n",
       "    <tr>\n",
       "      <th>4</th>\n",
       "      <td>4</td>\n",
       "      <td>xqyosepijvilykxeohzy</td>\n",
       "      <td>1975</td>\n",
       "      <td>Journal of Communication</td>\n",
       "      <td>4.0</td>\n",
       "      <td>US</td>\n",
       "      <td>F</td>\n",
       "      <td>White</td>\n",
       "      <td>Education</td>\n",
       "    </tr>\n",
       "  </tbody>\n",
       "</table>\n",
       "</div>"
      ],
      "text/plain": [
       "   authorIndex                   doi  year                       journal  \\\n",
       "0            0  todlywbtzugkeguseiax  2013  Human Communication Research   \n",
       "1            1  nazkjemanydzupiqyxkz  1989  Human Communication Research   \n",
       "2            2  rcnlopcsfraladutbjma  1993      Journal of Communication   \n",
       "3            3  zdvtnxbxnjpkpvlsgigu  2007          Communication Theory   \n",
       "4            4  xqyosepijvilykxeohzy  1975      Journal of Communication   \n",
       "\n",
       "   authorPosition countrypred genderpred racepred    afftypepred  \n",
       "0             2.0          US          F    White  Non Education  \n",
       "1             3.0          PH          M    White      Education  \n",
       "2             1.0          US          M    White      Education  \n",
       "3             1.0          US          F    White      Education  \n",
       "4             4.0          US          F    White      Education  "
      ]
     },
     "execution_count": 58,
     "metadata": {},
     "output_type": "execute_result"
    }
   ],
   "source": [
    "df_shuffled = df.sample(frac=1).reset_index(drop=True)\n",
    "df_shuffled = df_shuffled.reset_index(names=['authorIndex'])\n",
    "df_shuffled.head()"
   ]
  },
  {
   "cell_type": "code",
   "execution_count": 59,
   "metadata": {},
   "outputs": [],
   "source": [
    "df_shuffled.to_csv('../data/authors_to_study_expanded.csv', index=False)"
   ]
  },
  {
   "cell_type": "markdown",
   "metadata": {},
   "source": [
    "## papers to study"
   ]
  }
 ],
 "metadata": {
  "kernelspec": {
   "display_name": "ica",
   "language": "python",
   "name": "python3"
  },
  "language_info": {
   "codemirror_mode": {
    "name": "ipython",
    "version": 3
   },
   "file_extension": ".py",
   "mimetype": "text/x-python",
   "name": "python",
   "nbconvert_exporter": "python",
   "pygments_lexer": "ipython3",
   "version": "3.11.6"
  }
 },
 "nbformat": 4,
 "nbformat_minor": 2
}
