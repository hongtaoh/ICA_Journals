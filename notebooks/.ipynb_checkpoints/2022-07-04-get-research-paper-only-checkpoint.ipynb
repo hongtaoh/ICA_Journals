{
 "cells": [
  {
   "cell_type": "markdown",
   "id": "69bf4128",
   "metadata": {},
   "source": [
    "## Aim\n",
    "\n",
    "To delete non-research articles and authors. Note: the list needs to be improved. "
   ]
  },
  {
   "cell_type": "code",
   "execution_count": 43,
   "id": "87f4e6f5",
   "metadata": {},
   "outputs": [],
   "source": [
    "import pandas as pd"
   ]
  },
  {
   "cell_type": "code",
   "execution_count": 44,
   "id": "2b405e84",
   "metadata": {},
   "outputs": [],
   "source": [
    "df = pd.read_csv('../data/interim/ica_paper_df.csv')"
   ]
  },
  {
   "cell_type": "code",
   "execution_count": 45,
   "id": "20dee875",
   "metadata": {},
   "outputs": [
    {
     "data": {
      "text/plain": [
       "(6789, 12)"
      ]
     },
     "execution_count": 45,
     "metadata": {},
     "output_type": "execute_result"
    }
   ],
   "source": [
    "df.shape"
   ]
  },
  {
   "cell_type": "code",
   "execution_count": 46,
   "id": "650f6400",
   "metadata": {},
   "outputs": [
    {
     "data": {
      "text/html": [
       "<div>\n",
       "<style scoped>\n",
       "    .dataframe tbody tr th:only-of-type {\n",
       "        vertical-align: middle;\n",
       "    }\n",
       "\n",
       "    .dataframe tbody tr th {\n",
       "        vertical-align: top;\n",
       "    }\n",
       "\n",
       "    .dataframe thead th {\n",
       "        text-align: right;\n",
       "    }\n",
       "</style>\n",
       "<table border=\"1\" class=\"dataframe\">\n",
       "  <thead>\n",
       "    <tr style=\"text-align: right;\">\n",
       "      <th></th>\n",
       "      <th>journal</th>\n",
       "      <th>volumn</th>\n",
       "      <th>issue</th>\n",
       "      <th>month</th>\n",
       "      <th>year</th>\n",
       "      <th>category</th>\n",
       "      <th>title</th>\n",
       "      <th>url</th>\n",
       "      <th>doi</th>\n",
       "      <th>pages</th>\n",
       "      <th>abstract</th>\n",
       "      <th>abstract_para_num</th>\n",
       "    </tr>\n",
       "  </thead>\n",
       "  <tbody>\n",
       "    <tr>\n",
       "      <th>2951</th>\n",
       "      <td>Journal of Communication</td>\n",
       "      <td>Volume 27</td>\n",
       "      <td>Issue 1</td>\n",
       "      <td>March</td>\n",
       "      <td>1977</td>\n",
       "      <td>How TV Sells Children</td>\n",
       "      <td>Children's Responsiveness to Commercials</td>\n",
       "      <td>https://academic.oup.com/joc/article/27/1/101/...</td>\n",
       "      <td>10.1111/j.1460-2466.1977.tb01804.x</td>\n",
       "      <td>101–106</td>\n",
       "      <td>NaN</td>\n",
       "      <td>NaN</td>\n",
       "    </tr>\n",
       "    <tr>\n",
       "      <th>2952</th>\n",
       "      <td>Journal of Communication</td>\n",
       "      <td>Volume 27</td>\n",
       "      <td>Issue 1</td>\n",
       "      <td>March</td>\n",
       "      <td>1977</td>\n",
       "      <td>How TV Sells Children</td>\n",
       "      <td>The Content of Children's Toy and Food Commerc...</td>\n",
       "      <td>https://academic.oup.com/joc/article/27/1/107/...</td>\n",
       "      <td>10.1111/j.1460-2466.1977.tb01805.x</td>\n",
       "      <td>107–114</td>\n",
       "      <td>NaN</td>\n",
       "      <td>NaN</td>\n",
       "    </tr>\n",
       "    <tr>\n",
       "      <th>2953</th>\n",
       "      <td>Journal of Communication</td>\n",
       "      <td>Volume 27</td>\n",
       "      <td>Issue 1</td>\n",
       "      <td>March</td>\n",
       "      <td>1977</td>\n",
       "      <td>How TV Sells Children</td>\n",
       "      <td>Product Recognition and Premium Appeal</td>\n",
       "      <td>https://academic.oup.com/joc/article/27/1/115/...</td>\n",
       "      <td>10.1111/j.1460-2466.1977.tb01806.x</td>\n",
       "      <td>115–117</td>\n",
       "      <td>NaN</td>\n",
       "      <td>NaN</td>\n",
       "    </tr>\n",
       "    <tr>\n",
       "      <th>2954</th>\n",
       "      <td>Journal of Communication</td>\n",
       "      <td>Volume 27</td>\n",
       "      <td>Issue 1</td>\n",
       "      <td>March</td>\n",
       "      <td>1977</td>\n",
       "      <td>How TV Sells Children</td>\n",
       "      <td>Effects of Television Commercial Disclaimers o...</td>\n",
       "      <td>https://academic.oup.com/joc/article/27/1/118/...</td>\n",
       "      <td>10.1111/j.1460-2466.1977.tb01807.x</td>\n",
       "      <td>118–124</td>\n",
       "      <td>NaN</td>\n",
       "      <td>NaN</td>\n",
       "    </tr>\n",
       "    <tr>\n",
       "      <th>2955</th>\n",
       "      <td>Journal of Communication</td>\n",
       "      <td>Volume 27</td>\n",
       "      <td>Issue 1</td>\n",
       "      <td>March</td>\n",
       "      <td>1977</td>\n",
       "      <td>How TV Sells Children</td>\n",
       "      <td>Parental Concern about Child-Directed Commercials</td>\n",
       "      <td>https://academic.oup.com/joc/article/27/1/125/...</td>\n",
       "      <td>10.1111/j.1460-2466.1977.tb01808.x</td>\n",
       "      <td>125–137</td>\n",
       "      <td>NaN</td>\n",
       "      <td>NaN</td>\n",
       "    </tr>\n",
       "    <tr>\n",
       "      <th>2956</th>\n",
       "      <td>Journal of Communication</td>\n",
       "      <td>Volume 27</td>\n",
       "      <td>Issue 1</td>\n",
       "      <td>March</td>\n",
       "      <td>1977</td>\n",
       "      <td>How TV Sells Children</td>\n",
       "      <td>Learning to be Consumers: The Role of the Family</td>\n",
       "      <td>https://academic.oup.com/joc/article/27/1/138/...</td>\n",
       "      <td>10.1111/j.1460-2466.1977.tb01809.x</td>\n",
       "      <td>138–151</td>\n",
       "      <td>NaN</td>\n",
       "      <td>NaN</td>\n",
       "    </tr>\n",
       "    <tr>\n",
       "      <th>2957</th>\n",
       "      <td>Journal of Communication</td>\n",
       "      <td>Volume 27</td>\n",
       "      <td>Issue 1</td>\n",
       "      <td>March</td>\n",
       "      <td>1977</td>\n",
       "      <td>How TV Sells Children</td>\n",
       "      <td>Conflict in the Family over Commercials</td>\n",
       "      <td>https://academic.oup.com/joc/article/27/1/152/...</td>\n",
       "      <td>10.1111/j.1460-2466.1977.tb01810.x</td>\n",
       "      <td>152–157</td>\n",
       "      <td>NaN</td>\n",
       "      <td>NaN</td>\n",
       "    </tr>\n",
       "  </tbody>\n",
       "</table>\n",
       "</div>"
      ],
      "text/plain": [
       "                       journal     volumn    issue  month  year  \\\n",
       "2951  Journal of Communication  Volume 27  Issue 1  March  1977   \n",
       "2952  Journal of Communication  Volume 27  Issue 1  March  1977   \n",
       "2953  Journal of Communication  Volume 27  Issue 1  March  1977   \n",
       "2954  Journal of Communication  Volume 27  Issue 1  March  1977   \n",
       "2955  Journal of Communication  Volume 27  Issue 1  March  1977   \n",
       "2956  Journal of Communication  Volume 27  Issue 1  March  1977   \n",
       "2957  Journal of Communication  Volume 27  Issue 1  March  1977   \n",
       "\n",
       "                   category  \\\n",
       "2951  How TV Sells Children   \n",
       "2952  How TV Sells Children   \n",
       "2953  How TV Sells Children   \n",
       "2954  How TV Sells Children   \n",
       "2955  How TV Sells Children   \n",
       "2956  How TV Sells Children   \n",
       "2957  How TV Sells Children   \n",
       "\n",
       "                                                  title  \\\n",
       "2951           Children's Responsiveness to Commercials   \n",
       "2952  The Content of Children's Toy and Food Commerc...   \n",
       "2953             Product Recognition and Premium Appeal   \n",
       "2954  Effects of Television Commercial Disclaimers o...   \n",
       "2955  Parental Concern about Child-Directed Commercials   \n",
       "2956   Learning to be Consumers: The Role of the Family   \n",
       "2957            Conflict in the Family over Commercials   \n",
       "\n",
       "                                                    url  \\\n",
       "2951  https://academic.oup.com/joc/article/27/1/101/...   \n",
       "2952  https://academic.oup.com/joc/article/27/1/107/...   \n",
       "2953  https://academic.oup.com/joc/article/27/1/115/...   \n",
       "2954  https://academic.oup.com/joc/article/27/1/118/...   \n",
       "2955  https://academic.oup.com/joc/article/27/1/125/...   \n",
       "2956  https://academic.oup.com/joc/article/27/1/138/...   \n",
       "2957  https://academic.oup.com/joc/article/27/1/152/...   \n",
       "\n",
       "                                     doi    pages abstract  abstract_para_num  \n",
       "2951  10.1111/j.1460-2466.1977.tb01804.x  101–106      NaN                NaN  \n",
       "2952  10.1111/j.1460-2466.1977.tb01805.x  107–114      NaN                NaN  \n",
       "2953  10.1111/j.1460-2466.1977.tb01806.x  115–117      NaN                NaN  \n",
       "2954  10.1111/j.1460-2466.1977.tb01807.x  118–124      NaN                NaN  \n",
       "2955  10.1111/j.1460-2466.1977.tb01808.x  125–137      NaN                NaN  \n",
       "2956  10.1111/j.1460-2466.1977.tb01809.x  138–151      NaN                NaN  \n",
       "2957  10.1111/j.1460-2466.1977.tb01810.x  152–157      NaN                NaN  "
      ]
     },
     "execution_count": 46,
     "metadata": {},
     "output_type": "execute_result"
    }
   ],
   "source": [
    "df[df.category == 'How TV Sells Children']"
   ]
  },
  {
   "cell_type": "code",
   "execution_count": 47,
   "id": "462cb6f1",
   "metadata": {},
   "outputs": [],
   "source": [
    "# list(set(df.category))"
   ]
  },
  {
   "cell_type": "code",
   "execution_count": 48,
   "id": "baa6edb0",
   "metadata": {},
   "outputs": [],
   "source": [
    "to_delete_category = [\n",
    "    'Presidential Address',\n",
    "    'Acknowledgment',\n",
    "    'Editorial Note',\n",
    "    'From the Editor',\n",
    "    'Review Article',\n",
    "    \"Editor's Foreword\",\n",
    "    'Editorial Announcement',\n",
    "    'Books Received',\n",
    "    'Editor’s Note',\n",
    "    'BOOK REVIEWS',\n",
    "    'Book Review Essay',\n",
    "    'Review essay',\n",
    "    \"Review Editor's Note\",\n",
    "    'A Note from the Editor',\n",
    "    'Book-Reviews',\n",
    "    'Research note',\n",
    "    'Editorial Consultants Acknowledged',\n",
    "    'In Appreciation',\n",
    "    'Essay Review',\n",
    "    'Book Review: Online Only',\n",
    "    'Editorial Guidelines',\n",
    "    'Book reviews',\n",
    "    #     'FORUM', ???\n",
    "    # colloquy ???\n",
    "    'BOOK REVIEW',\n",
    "    'Replication Note',\n",
    "    'Editor’s Introduction',\n",
    "    'Call For Papers',\n",
    "    \"Editor's note\",\n",
    "    'Editor’s Foreword',\n",
    "    'Announcement',\n",
    "     'FOREIGN ABSTRACTS',\n",
    "    'Review Articles',\n",
    "    '1998 ICA Presidential Address',\n",
    "    'Review',\n",
    "    'Editor’s Comment',\n",
    "    'Book Reviews',\n",
    "    \"Editor's comment\",\n",
    "    \"Editors' Foreword\",\n",
    "    'Review Essays',\n",
    "    'Errata',\n",
    "    'Editorial Announcements',\n",
    "    'Reviews',\n",
    "    'Reviewer Acknowledgement',\n",
    "    'Editorial',\n",
    "    'Introduction',\n",
    "    'CORRIGENDUM',\n",
    "    'Correction',\n",
    "    '2002 ICA Presidential Address',\n",
    "    'Notable Quotes',\n",
    "    'Issue Bibliography',\n",
    "    'Corrigendum',\n",
    "    'Books',\n",
    "    'Authors response',\n",
    "    \"Editor's Comment\",\n",
    "    'Briefly noted',\n",
    "    'Book Review Section',\n",
    "    'Book Reviews: Online only',\n",
    "    'Contributors’ Biographies',\n",
    "    'About the Authors',\n",
    "    'Commentary',\n",
    "     'Acknowledgement',\n",
    "    #     'Colloquy',\n",
    "    'Foreign Abstracts',\n",
    "    'Book Notes',\n",
    "    'Commentaries: Online Only',\n",
    "    'Expression of Concern',\n",
    "    \"Editor's Note\",\n",
    "    'Acknowledgments',\n",
    "    #     'Research Note',???\n",
    "    'Guest Editorial',\n",
    "    'Book Reviews: Online Only',\n",
    "    'Erratum',\n",
    "    \"Editor' Note\",\n",
    "    'Book Review: Online only',\n",
    "    '1999 ICA Presidential Address',\n",
    "    'Note to Contributors',\n",
    "    'Index',\n",
    "    'Review Essay',\n",
    "    'Books in Brief',\n",
    "    'ERRATUM',\n",
    "    'Book Reviews and Notes',\n",
    "    'Book review ethics',\n",
    "    'Retraction',\n",
    "    'Book Received',\n",
    "    'Reviewe',\n",
    "    'Book Review',\n",
    "    '1997 Presidential Address',\n",
    "    '1996 ICA Presidential Address'\n",
    "]"
   ]
  },
  {
   "cell_type": "code",
   "execution_count": 49,
   "id": "c006f56b",
   "metadata": {},
   "outputs": [
    {
     "data": {
      "text/plain": [
       "(915, 12)"
      ]
     },
     "execution_count": 49,
     "metadata": {},
     "output_type": "execute_result"
    }
   ],
   "source": [
    "df[df.category.isin(to_delete_category)].shape"
   ]
  },
  {
   "cell_type": "code",
   "execution_count": 50,
   "id": "6b945032",
   "metadata": {},
   "outputs": [],
   "source": [
    "df = df[~df.category.isin(to_delete_category)]"
   ]
  },
  {
   "cell_type": "code",
   "execution_count": 51,
   "id": "b292669e",
   "metadata": {},
   "outputs": [
    {
     "data": {
      "text/plain": [
       "(5874, 12)"
      ]
     },
     "execution_count": 51,
     "metadata": {},
     "output_type": "execute_result"
    }
   ],
   "source": [
    "df.shape"
   ]
  },
  {
   "cell_type": "code",
   "execution_count": 52,
   "id": "0ea13579",
   "metadata": {},
   "outputs": [],
   "source": [
    "df.to_csv('../data/interim/ica_paper_df_research_only.csv', index=False)"
   ]
  },
  {
   "cell_type": "markdown",
   "id": "fb505ca5",
   "metadata": {},
   "source": [
    "## Author data"
   ]
  },
  {
   "cell_type": "code",
   "execution_count": 53,
   "id": "3908fbeb",
   "metadata": {},
   "outputs": [
    {
     "data": {
      "text/plain": [
       "(5874, 12)"
      ]
     },
     "execution_count": 53,
     "metadata": {},
     "output_type": "execute_result"
    }
   ],
   "source": [
    "df.shape"
   ]
  },
  {
   "cell_type": "code",
   "execution_count": 54,
   "id": "65ee7d9b",
   "metadata": {},
   "outputs": [
    {
     "data": {
      "text/html": [
       "<div>\n",
       "<style scoped>\n",
       "    .dataframe tbody tr th:only-of-type {\n",
       "        vertical-align: middle;\n",
       "    }\n",
       "\n",
       "    .dataframe tbody tr th {\n",
       "        vertical-align: top;\n",
       "    }\n",
       "\n",
       "    .dataframe thead th {\n",
       "        text-align: right;\n",
       "    }\n",
       "</style>\n",
       "<table border=\"1\" class=\"dataframe\">\n",
       "  <thead>\n",
       "    <tr style=\"text-align: right;\">\n",
       "      <th></th>\n",
       "      <th>journal</th>\n",
       "      <th>volumn</th>\n",
       "      <th>issue</th>\n",
       "      <th>month</th>\n",
       "      <th>year</th>\n",
       "      <th>category</th>\n",
       "      <th>title</th>\n",
       "      <th>url</th>\n",
       "      <th>doi</th>\n",
       "      <th>pages</th>\n",
       "      <th>abstract</th>\n",
       "      <th>abstract_para_num</th>\n",
       "    </tr>\n",
       "  </thead>\n",
       "  <tbody>\n",
       "    <tr>\n",
       "      <th>0</th>\n",
       "      <td>Journal of Communication</td>\n",
       "      <td>Volume 72</td>\n",
       "      <td>Issue 2</td>\n",
       "      <td>April</td>\n",
       "      <td>2022</td>\n",
       "      <td>Articles</td>\n",
       "      <td>Media Systems in the Digital Age: An Empirical...</td>\n",
       "      <td>https://academic.oup.com/joc/article/72/2/145/...</td>\n",
       "      <td>10.1093/joc/jqab054</td>\n",
       "      <td>145–164</td>\n",
       "      <td>NaN</td>\n",
       "      <td>0.0</td>\n",
       "    </tr>\n",
       "    <tr>\n",
       "      <th>1</th>\n",
       "      <td>Journal of Communication</td>\n",
       "      <td>Volume 72</td>\n",
       "      <td>Issue 2</td>\n",
       "      <td>April</td>\n",
       "      <td>2022</td>\n",
       "      <td>Articles</td>\n",
       "      <td>#GirlGamers, Soldiers, and Public Relations: A...</td>\n",
       "      <td>https://academic.oup.com/joc/article/72/2/165/...</td>\n",
       "      <td>10.1093/joc/jqab051</td>\n",
       "      <td>165–186</td>\n",
       "      <td>While interest in esports is widespread across...</td>\n",
       "      <td>1.0</td>\n",
       "    </tr>\n",
       "  </tbody>\n",
       "</table>\n",
       "</div>"
      ],
      "text/plain": [
       "                    journal     volumn    issue  month  year  category  \\\n",
       "0  Journal of Communication  Volume 72  Issue 2  April  2022  Articles   \n",
       "1  Journal of Communication  Volume 72  Issue 2  April  2022  Articles   \n",
       "\n",
       "                                               title  \\\n",
       "0  Media Systems in the Digital Age: An Empirical...   \n",
       "1  #GirlGamers, Soldiers, and Public Relations: A...   \n",
       "\n",
       "                                                 url                  doi  \\\n",
       "0  https://academic.oup.com/joc/article/72/2/145/...  10.1093/joc/jqab054   \n",
       "1  https://academic.oup.com/joc/article/72/2/165/...  10.1093/joc/jqab051   \n",
       "\n",
       "     pages                                           abstract  \\\n",
       "0  145–164                                                NaN   \n",
       "1  165–186  While interest in esports is widespread across...   \n",
       "\n",
       "   abstract_para_num  \n",
       "0                0.0  \n",
       "1                1.0  "
      ]
     },
     "execution_count": 54,
     "metadata": {},
     "output_type": "execute_result"
    }
   ],
   "source": [
    "df.head(2)"
   ]
  },
  {
   "cell_type": "code",
   "execution_count": 55,
   "id": "660f85cb",
   "metadata": {},
   "outputs": [],
   "source": [
    "research_paper_dois = df.doi"
   ]
  },
  {
   "cell_type": "code",
   "execution_count": 56,
   "id": "616961e9",
   "metadata": {},
   "outputs": [
    {
     "data": {
      "text/plain": [
       "(12189, 9)"
      ]
     },
     "execution_count": 56,
     "metadata": {},
     "output_type": "execute_result"
    }
   ],
   "source": [
    "authors = pd.read_csv('../data/interim/ica_author_data.csv')\n",
    "authors.shape"
   ]
  },
  {
   "cell_type": "code",
   "execution_count": 57,
   "id": "fb2a7bc7",
   "metadata": {},
   "outputs": [
    {
     "data": {
      "text/plain": [
       "(11217, 9)"
      ]
     },
     "execution_count": 57,
     "metadata": {},
     "output_type": "execute_result"
    }
   ],
   "source": [
    "authors = authors[authors.doi.isin(research_paper_dois)]\n",
    "authors.shape"
   ]
  },
  {
   "cell_type": "code",
   "execution_count": 58,
   "id": "f91cfee4",
   "metadata": {},
   "outputs": [],
   "source": [
    "authors.to_csv('../data/interim/ica_author_data_research_paper_only.csv', index=False)"
   ]
  },
  {
   "cell_type": "code",
   "execution_count": null,
   "id": "e7624841",
   "metadata": {},
   "outputs": [],
   "source": []
  }
 ],
 "metadata": {
  "kernelspec": {
   "display_name": "Python 3 (ipykernel)",
   "language": "python",
   "name": "python3"
  },
  "language_info": {
   "codemirror_mode": {
    "name": "ipython",
    "version": 3
   },
   "file_extension": ".py",
   "mimetype": "text/x-python",
   "name": "python",
   "nbconvert_exporter": "python",
   "pygments_lexer": "ipython3",
   "version": "3.8.13"
  }
 },
 "nbformat": 4,
 "nbformat_minor": 5
}
