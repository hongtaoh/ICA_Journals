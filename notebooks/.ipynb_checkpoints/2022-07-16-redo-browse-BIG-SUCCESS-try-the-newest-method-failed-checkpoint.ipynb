{
 "cells": [
  {
   "cell_type": "markdown",
   "id": "8a993485",
   "metadata": {},
   "source": [
    "## Aim\n",
    "\n",
    "There is a bug when I rely on the 'previous' tab. Some links are wrong. I'd better use Select button instead. "
   ]
  },
  {
   "cell_type": "code",
   "execution_count": 246,
   "id": "b7ad2906",
   "metadata": {},
   "outputs": [],
   "source": [
    "import pandas as pd\n",
    "import numpy as np\n",
    "import time \n",
    "import random\n",
    "import re\n",
    "from selenium import webdriver\n",
    "from selenium.webdriver.common.by import By\n",
    "from selenium.webdriver.support.ui import WebDriverWait\n",
    "from selenium.webdriver.support import expected_conditions as EC \n",
    "from selenium.common.exceptions import TimeoutException\n",
    "from selenium.common.exceptions import NoSuchElementException \n",
    "from selenium.webdriver.support.ui import Select\n",
    "import sys"
   ]
  },
  {
   "cell_type": "code",
   "execution_count": 247,
   "id": "a49717a3",
   "metadata": {},
   "outputs": [],
   "source": [
    "driver = webdriver.Firefox()\n",
    "wait = WebDriverWait(driver, 3)"
   ]
  },
  {
   "cell_type": "code",
   "execution_count": 248,
   "id": "396c1d4d",
   "metadata": {},
   "outputs": [],
   "source": [
    "# driver.get('https://academic.oup.com/joc/issue/72/3?browseBy=volume')\n",
    "driver.get('https://academic.oup.com/ccc/issue/15/1?browseBy=volume')"
   ]
  },
  {
   "cell_type": "code",
   "execution_count": 249,
   "id": "3d52b414",
   "metadata": {},
   "outputs": [],
   "source": [
    "def get_volumeSelect():\n",
    "    volumeSelect = Select(\n",
    "        driver.find_element(\n",
    "            By.CSS_SELECTOR, '.issue-browse-year-list.issue-browse-select'))\n",
    "    return volumeSelect"
   ]
  },
  {
   "cell_type": "code",
   "execution_count": 250,
   "id": "a61951dc",
   "metadata": {},
   "outputs": [],
   "source": [
    "volumeSelect = get_volumeSelect()"
   ]
  },
  {
   "cell_type": "code",
   "execution_count": 251,
   "id": "5c46facc",
   "metadata": {},
   "outputs": [],
   "source": [
    "# volumeSelect.select_by_value('10')"
   ]
  },
  {
   "cell_type": "code",
   "execution_count": 252,
   "id": "78be2a2c",
   "metadata": {},
   "outputs": [],
   "source": [
    "def get_volume_option_texts():\n",
    "    volume_options = driver.find_elements(\n",
    "        By.CSS_SELECTOR, '.issue-browse-year-list.issue-browse-select > option')\n",
    "    volume_option_texts = [v.text for v in volume_options]\n",
    "    return volume_option_texts"
   ]
  },
  {
   "cell_type": "code",
   "execution_count": 253,
   "id": "23a4edcf",
   "metadata": {},
   "outputs": [
    {
     "data": {
      "text/plain": [
       "15"
      ]
     },
     "execution_count": 253,
     "metadata": {},
     "output_type": "execute_result"
    }
   ],
   "source": [
    "volume_option_texts = get_volume_option_texts()\n",
    "total_volumes = int(volume_option_texts[0])\n",
    "total_volumes"
   ]
  },
  {
   "cell_type": "code",
   "execution_count": 254,
   "id": "9f427613",
   "metadata": {},
   "outputs": [],
   "source": [
    "def get_issue_option_texts():\n",
    "    issue_options = driver.find_elements(\n",
    "        By.CSS_SELECTOR, '.issue-browse-issues-list > option'\n",
    "    )\n",
    "    issue_option_texts = [i.text for i in issue_options]\n",
    "    return issue_option_texts"
   ]
  },
  {
   "cell_type": "code",
   "execution_count": 256,
   "id": "2a0fddc3",
   "metadata": {},
   "outputs": [
    {
     "name": "stdout",
     "output_type": "stream",
     "text": [
      "volume 15 has started\n",
      "Issue 1, March 2022, Pages 1–101 is done\n",
      "Issue 2, June 2022, Pages 103–298 is done\n",
      "volume 14 has started\n",
      "Issue 1, March 2021, Pages 1–200 is done\n",
      "Issue 2, June 2021, Pages 201–384 is done\n",
      "Issue 3, September 2021, Pages 385–549 is done\n",
      "Issue 4, December 2021, Pages 551–695 is done\n",
      "volume 13 has started\n",
      "Issue 1, March 2020, Pages 1–141 is done\n",
      "Issue 2, June 2020, Pages 143–274 is done\n",
      "Issue 3, September 2020, Pages 275–401 is done\n",
      "Issue 4, December 2020, Pages 403–573 is done\n",
      "volume 12 has started\n",
      "Issue 1, March 2019, Pages 1–165 is done\n",
      "Issue 2, June 2019, Pages 167–304 is done\n",
      "Issue 3, September 2019, Pages 305–434 is done\n",
      "Issue 4, December 2019, Pages 435–609 is done\n",
      "volume 11 has started\n",
      "Issue 1, March 2018, Pages 1–211 is done\n",
      "Issue 2, June 2018, Pages 213–340 is done\n",
      "Issue 3, September 2018, Pages 341–512 is done\n",
      "Issue 4, December 2018, Pages 513–659 is done\n",
      "volume 10 has started\n",
      "Issue 1, 1 March 2017, Pages 1–184 is done\n",
      "Issue 2, 1 June 2017, Pages 185–400 is done\n",
      "Issue 3, 1 September 2017, Pages 401–555 is done\n",
      "Issue 4, 1 December 2017, Pages 557–745 is done\n"
     ]
    },
    {
     "ename": "NoSuchWindowException",
     "evalue": "Message: Browsing context has been discarded\nStacktrace:\nWebDriverError@chrome://remote/content/shared/webdriver/Errors.jsm:186:5\nNoSuchWindowError@chrome://remote/content/shared/webdriver/Errors.jsm:440:5\nassert.that/<@chrome://remote/content/shared/webdriver/Assert.jsm:445:13\nassert.open@chrome://remote/content/shared/webdriver/Assert.jsm:153:4\nGeckoDriver.prototype.findElement@chrome://remote/content/marionette/driver.js:1429:10\ndespatch@chrome://remote/content/marionette/server.js:306:40\nexecute@chrome://remote/content/marionette/server.js:279:16\nonPacket/<@chrome://remote/content/marionette/server.js:252:20\nonPacket@chrome://remote/content/marionette/server.js:253:9\n_onJSONObjectReady/<@chrome://remote/content/marionette/transport.js:500:20\n",
     "output_type": "error",
     "traceback": [
      "\u001b[0;31m---------------------------------------------------------------------------\u001b[0m",
      "\u001b[0;31mNoSuchWindowException\u001b[0m                     Traceback (most recent call last)",
      "Input \u001b[0;32mIn [256]\u001b[0m, in \u001b[0;36m<cell line: 1>\u001b[0;34m()\u001b[0m\n\u001b[1;32m     10\u001b[0m issueSelect\u001b[38;5;241m.\u001b[39mselect_by_visible_text(issue)\n\u001b[1;32m     11\u001b[0m \u001b[38;5;28mprint\u001b[39m(\u001b[38;5;124mf\u001b[39m\u001b[38;5;124m'\u001b[39m\u001b[38;5;132;01m{\u001b[39;00missue\u001b[38;5;132;01m}\u001b[39;00m\u001b[38;5;124m is done\u001b[39m\u001b[38;5;124m'\u001b[39m)\n\u001b[0;32m---> 12\u001b[0m issueSelect \u001b[38;5;241m=\u001b[39m Select(\u001b[43mdriver\u001b[49m\u001b[38;5;241;43m.\u001b[39;49m\u001b[43mfind_element\u001b[49m\u001b[43m(\u001b[49m\n\u001b[1;32m     13\u001b[0m \u001b[43m    \u001b[49m\u001b[43mBy\u001b[49m\u001b[38;5;241;43m.\u001b[39;49m\u001b[43mCSS_SELECTOR\u001b[49m\u001b[43m,\u001b[49m\u001b[43m \u001b[49m\u001b[38;5;124;43m'\u001b[39;49m\u001b[38;5;124;43m.issue-browse-issues-list\u001b[39;49m\u001b[38;5;124;43m'\u001b[39;49m\n\u001b[1;32m     14\u001b[0m \u001b[43m\u001b[49m\u001b[43m)\u001b[49m)\n",
      "File \u001b[0;32m/opt/anaconda3/envs/comm/lib/python3.8/site-packages/selenium/webdriver/remote/webdriver.py:1244\u001b[0m, in \u001b[0;36mWebDriver.find_element\u001b[0;34m(self, by, value)\u001b[0m\n\u001b[1;32m   1241\u001b[0m     by \u001b[38;5;241m=\u001b[39m By\u001b[38;5;241m.\u001b[39mCSS_SELECTOR\n\u001b[1;32m   1242\u001b[0m     value \u001b[38;5;241m=\u001b[39m \u001b[38;5;124m'\u001b[39m\u001b[38;5;124m[name=\u001b[39m\u001b[38;5;124m\"\u001b[39m\u001b[38;5;132;01m%s\u001b[39;00m\u001b[38;5;124m\"\u001b[39m\u001b[38;5;124m]\u001b[39m\u001b[38;5;124m'\u001b[39m \u001b[38;5;241m%\u001b[39m value\n\u001b[0;32m-> 1244\u001b[0m \u001b[38;5;28;01mreturn\u001b[39;00m \u001b[38;5;28;43mself\u001b[39;49m\u001b[38;5;241;43m.\u001b[39;49m\u001b[43mexecute\u001b[49m\u001b[43m(\u001b[49m\u001b[43mCommand\u001b[49m\u001b[38;5;241;43m.\u001b[39;49m\u001b[43mFIND_ELEMENT\u001b[49m\u001b[43m,\u001b[49m\u001b[43m \u001b[49m\u001b[43m{\u001b[49m\n\u001b[1;32m   1245\u001b[0m \u001b[43m    \u001b[49m\u001b[38;5;124;43m'\u001b[39;49m\u001b[38;5;124;43musing\u001b[39;49m\u001b[38;5;124;43m'\u001b[39;49m\u001b[43m:\u001b[49m\u001b[43m \u001b[49m\u001b[43mby\u001b[49m\u001b[43m,\u001b[49m\n\u001b[1;32m   1246\u001b[0m \u001b[43m    \u001b[49m\u001b[38;5;124;43m'\u001b[39;49m\u001b[38;5;124;43mvalue\u001b[39;49m\u001b[38;5;124;43m'\u001b[39;49m\u001b[43m:\u001b[49m\u001b[43m \u001b[49m\u001b[43mvalue\u001b[49m\u001b[43m}\u001b[49m\u001b[43m)\u001b[49m[\u001b[38;5;124m'\u001b[39m\u001b[38;5;124mvalue\u001b[39m\u001b[38;5;124m'\u001b[39m]\n",
      "File \u001b[0;32m/opt/anaconda3/envs/comm/lib/python3.8/site-packages/selenium/webdriver/remote/webdriver.py:424\u001b[0m, in \u001b[0;36mWebDriver.execute\u001b[0;34m(self, driver_command, params)\u001b[0m\n\u001b[1;32m    422\u001b[0m response \u001b[38;5;241m=\u001b[39m \u001b[38;5;28mself\u001b[39m\u001b[38;5;241m.\u001b[39mcommand_executor\u001b[38;5;241m.\u001b[39mexecute(driver_command, params)\n\u001b[1;32m    423\u001b[0m \u001b[38;5;28;01mif\u001b[39;00m response:\n\u001b[0;32m--> 424\u001b[0m     \u001b[38;5;28;43mself\u001b[39;49m\u001b[38;5;241;43m.\u001b[39;49m\u001b[43merror_handler\u001b[49m\u001b[38;5;241;43m.\u001b[39;49m\u001b[43mcheck_response\u001b[49m\u001b[43m(\u001b[49m\u001b[43mresponse\u001b[49m\u001b[43m)\u001b[49m\n\u001b[1;32m    425\u001b[0m     response[\u001b[38;5;124m'\u001b[39m\u001b[38;5;124mvalue\u001b[39m\u001b[38;5;124m'\u001b[39m] \u001b[38;5;241m=\u001b[39m \u001b[38;5;28mself\u001b[39m\u001b[38;5;241m.\u001b[39m_unwrap_value(\n\u001b[1;32m    426\u001b[0m         response\u001b[38;5;241m.\u001b[39mget(\u001b[38;5;124m'\u001b[39m\u001b[38;5;124mvalue\u001b[39m\u001b[38;5;124m'\u001b[39m, \u001b[38;5;28;01mNone\u001b[39;00m))\n\u001b[1;32m    427\u001b[0m     \u001b[38;5;28;01mreturn\u001b[39;00m response\n",
      "File \u001b[0;32m/opt/anaconda3/envs/comm/lib/python3.8/site-packages/selenium/webdriver/remote/errorhandler.py:247\u001b[0m, in \u001b[0;36mErrorHandler.check_response\u001b[0;34m(self, response)\u001b[0m\n\u001b[1;32m    245\u001b[0m         alert_text \u001b[38;5;241m=\u001b[39m value[\u001b[38;5;124m'\u001b[39m\u001b[38;5;124malert\u001b[39m\u001b[38;5;124m'\u001b[39m]\u001b[38;5;241m.\u001b[39mget(\u001b[38;5;124m'\u001b[39m\u001b[38;5;124mtext\u001b[39m\u001b[38;5;124m'\u001b[39m)\n\u001b[1;32m    246\u001b[0m     \u001b[38;5;28;01mraise\u001b[39;00m exception_class(message, screen, stacktrace, alert_text)  \u001b[38;5;66;03m# type: ignore[call-arg]  # mypy is not smart enough here\u001b[39;00m\n\u001b[0;32m--> 247\u001b[0m \u001b[38;5;28;01mraise\u001b[39;00m exception_class(message, screen, stacktrace)\n",
      "\u001b[0;31mNoSuchWindowException\u001b[0m: Message: Browsing context has been discarded\nStacktrace:\nWebDriverError@chrome://remote/content/shared/webdriver/Errors.jsm:186:5\nNoSuchWindowError@chrome://remote/content/shared/webdriver/Errors.jsm:440:5\nassert.that/<@chrome://remote/content/shared/webdriver/Assert.jsm:445:13\nassert.open@chrome://remote/content/shared/webdriver/Assert.jsm:153:4\nGeckoDriver.prototype.findElement@chrome://remote/content/marionette/driver.js:1429:10\ndespatch@chrome://remote/content/marionette/server.js:306:40\nexecute@chrome://remote/content/marionette/server.js:279:16\nonPacket/<@chrome://remote/content/marionette/server.js:252:20\nonPacket@chrome://remote/content/marionette/server.js:253:9\n_onJSONObjectReady/<@chrome://remote/content/marionette/transport.js:500:20\n"
     ]
    }
   ],
   "source": [
    "for volume in volume_option_texts:\n",
    "    print(f'volume {volume} has started')\n",
    "    volumeSelect = get_volumeSelect()\n",
    "    volumeSelect.select_by_visible_text(volume)\n",
    "    issueSelect = Select(driver.find_element(\n",
    "        By.CSS_SELECTOR, '.issue-browse-issues-list'\n",
    "    ))\n",
    "    issue_option_texts = get_issue_option_texts()\n",
    "    for issue in issue_option_texts:\n",
    "        issueSelect.select_by_visible_text(issue)\n",
    "        print(f'{issue} is done')\n",
    "        issueSelect = Select(driver.find_element(\n",
    "            By.CSS_SELECTOR, '.issue-browse-issues-list'\n",
    "        ))"
   ]
  }
 ],
 "metadata": {
  "kernelspec": {
   "display_name": "Python 3 (ipykernel)",
   "language": "python",
   "name": "python3"
  },
  "language_info": {
   "codemirror_mode": {
    "name": "ipython",
    "version": 3
   },
   "file_extension": ".py",
   "mimetype": "text/x-python",
   "name": "python",
   "nbconvert_exporter": "python",
   "pygments_lexer": "ipython3",
   "version": "3.8.13"
  }
 },
 "nbformat": 4,
 "nbformat_minor": 5
}
