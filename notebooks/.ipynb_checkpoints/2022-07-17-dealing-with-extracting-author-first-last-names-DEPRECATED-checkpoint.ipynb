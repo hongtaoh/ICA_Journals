{
 "cells": [
  {
   "cell_type": "code",
   "execution_count": 1,
   "id": "e072acab",
   "metadata": {},
   "outputs": [],
   "source": [
    "import string"
   ]
  },
  {
   "cell_type": "code",
   "execution_count": 36,
   "id": "047a1263",
   "metadata": {},
   "outputs": [],
   "source": [
    "# # because I have reversed the name_elements:\n",
    "# lastname = name_elements[1]\n",
    "# firstname_elements = name_elements[0].split(' ')\n",
    "# # if there is only one element in first name:\n",
    "# if len(firstname_elements) == 1:\n",
    "#     firstname = firstname_elements[0]\n",
    "# # if there are two and the first element is something like 'J.'\n",
    "# #  for example, if the full name is something like 'J. Stephen Read'\n",
    "# # note that len('J.') == 2\n",
    "# elif len(firstname_elements) ==  2 and len(firstname_elements[0]) <= 2:\n",
    "#     firstname = firstname_elements[1]\n",
    "# elif len(firstname_elements) ==  2 and len(firstname_elements[0]) > 2:\n",
    "#     firstname = firstname_elements[0]\n",
    "# else:\n",
    "#     firstname = np.nan"
   ]
  },
  {
   "cell_type": "code",
   "execution_count": 37,
   "id": "b9952771",
   "metadata": {},
   "outputs": [],
   "source": [
    "upper_char = string.ascii_uppercase"
   ]
  },
  {
   "cell_type": "code",
   "execution_count": 38,
   "id": "76ac54fb",
   "metadata": {},
   "outputs": [],
   "source": [
    "lower_char = string.ascii_lowercase"
   ]
  },
  {
   "cell_type": "code",
   "execution_count": 39,
   "id": "90cefb6a",
   "metadata": {},
   "outputs": [
    {
     "data": {
      "text/plain": [
       "['A.',\n",
       " 'B.',\n",
       " 'C.',\n",
       " 'D.',\n",
       " 'E.',\n",
       " 'F.',\n",
       " 'G.',\n",
       " 'H.',\n",
       " 'I.',\n",
       " 'J.',\n",
       " 'K.',\n",
       " 'L.',\n",
       " 'M.',\n",
       " 'N.',\n",
       " 'O.',\n",
       " 'P.',\n",
       " 'Q.',\n",
       " 'R.',\n",
       " 'S.',\n",
       " 'T.',\n",
       " 'U.',\n",
       " 'V.',\n",
       " 'W.',\n",
       " 'X.',\n",
       " 'Y.',\n",
       " 'Z.']"
      ]
     },
     "execution_count": 39,
     "metadata": {},
     "output_type": "execute_result"
    }
   ],
   "source": [
    "[f'{i}.' for i in upper_char]"
   ]
  },
  {
   "cell_type": "code",
   "execution_count": 40,
   "id": "aaac137f",
   "metadata": {},
   "outputs": [
    {
     "data": {
      "text/plain": [
       "['a.',\n",
       " 'b.',\n",
       " 'c.',\n",
       " 'd.',\n",
       " 'e.',\n",
       " 'f.',\n",
       " 'g.',\n",
       " 'h.',\n",
       " 'i.',\n",
       " 'j.',\n",
       " 'k.',\n",
       " 'l.',\n",
       " 'm.',\n",
       " 'n.',\n",
       " 'o.',\n",
       " 'p.',\n",
       " 'q.',\n",
       " 'r.',\n",
       " 's.',\n",
       " 't.',\n",
       " 'u.',\n",
       " 'v.',\n",
       " 'w.',\n",
       " 'x.',\n",
       " 'y.',\n",
       " 'z.']"
      ]
     },
     "execution_count": 40,
     "metadata": {},
     "output_type": "execute_result"
    }
   ],
   "source": [
    "[f'{i}.' for i in lower_char]"
   ]
  },
  {
   "cell_type": "code",
   "execution_count": 41,
   "id": "2068dd1d",
   "metadata": {},
   "outputs": [
    {
     "data": {
      "text/plain": [
       "['Middleton', 'Michael K.']"
      ]
     },
     "execution_count": 41,
     "metadata": {},
     "output_type": "execute_result"
    }
   ],
   "source": [
    "name_elements = 'Middleton, Michael K.'.split(', ')\n",
    "name_elements"
   ]
  },
  {
   "cell_type": "code",
   "execution_count": 42,
   "id": "4eb1c813",
   "metadata": {},
   "outputs": [
    {
     "data": {
      "text/plain": [
       "'Michael K. Middleton'"
      ]
     },
     "execution_count": 42,
     "metadata": {},
     "output_type": "execute_result"
    }
   ],
   "source": [
    "name_elements.reverse()\n",
    "fullname = ' '.join(name_elements)\n",
    "fullname"
   ]
  },
  {
   "cell_type": "code",
   "execution_count": 45,
   "id": "519c7171",
   "metadata": {},
   "outputs": [
    {
     "data": {
      "text/plain": [
       "['Michael', 'K.', 'Middleton']"
      ]
     },
     "execution_count": 45,
     "metadata": {},
     "output_type": "execute_result"
    }
   ],
   "source": [
    "fullname_split = fullname.split(' ')\n",
    "fullname_split"
   ]
  },
  {
   "cell_type": "code",
   "execution_count": 46,
   "id": "e11c6c83",
   "metadata": {},
   "outputs": [
    {
     "data": {
      "text/plain": [
       "'Middleton'"
      ]
     },
     "execution_count": 46,
     "metadata": {},
     "output_type": "execute_result"
    }
   ],
   "source": [
    "lastname = fullname_split[-1]\n",
    "lastname"
   ]
  },
  {
   "cell_type": "code",
   "execution_count": 47,
   "id": "21ff507f",
   "metadata": {},
   "outputs": [],
   "source": [
    "if fullname_split:\n",
    "    if len(fullname_split) == 2:\n",
    "        firstname = fullname_split[0]\n",
    "    elif len(fullname_split) > 2 and len(fullname_split[0]) <= 2:\n",
    "        firstname = fullname_split[1]\n",
    "    else:\n",
    "        firstname = fullname_split[0]"
   ]
  },
  {
   "cell_type": "code",
   "execution_count": 48,
   "id": "4c1f4a63",
   "metadata": {},
   "outputs": [
    {
     "data": {
      "text/plain": [
       "'Michael'"
      ]
     },
     "execution_count": 48,
     "metadata": {},
     "output_type": "execute_result"
    }
   ],
   "source": [
    "firstname"
   ]
  },
  {
   "cell_type": "code",
   "execution_count": null,
   "id": "932f65cb",
   "metadata": {},
   "outputs": [],
   "source": []
  }
 ],
 "metadata": {
  "kernelspec": {
   "display_name": "Python 3 (ipykernel)",
   "language": "python",
   "name": "python3"
  },
  "language_info": {
   "codemirror_mode": {
    "name": "ipython",
    "version": 3
   },
   "file_extension": ".py",
   "mimetype": "text/x-python",
   "name": "python",
   "nbconvert_exporter": "python",
   "pygments_lexer": "ipython3",
   "version": "3.8.13"
  }
 },
 "nbformat": 4,
 "nbformat_minor": 5
}
