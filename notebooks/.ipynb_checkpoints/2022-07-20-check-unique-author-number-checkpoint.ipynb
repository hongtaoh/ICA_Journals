{
 "cells": [
  {
   "cell_type": "code",
   "execution_count": 1,
   "id": "7c3c99c0",
   "metadata": {},
   "outputs": [],
   "source": [
    "import pandas as pd"
   ]
  },
  {
   "cell_type": "code",
   "execution_count": 3,
   "id": "056d7f19",
   "metadata": {},
   "outputs": [],
   "source": [
    "author = pd.read_csv('../data/ica_author_data.csv')"
   ]
  },
  {
   "cell_type": "code",
   "execution_count": 7,
   "id": "acd1c8a0",
   "metadata": {},
   "outputs": [
    {
     "data": {
      "text/plain": [
       "13603"
      ]
     },
     "execution_count": 7,
     "metadata": {},
     "output_type": "execute_result"
    }
   ],
   "source": [
    "len(author)"
   ]
  },
  {
   "cell_type": "code",
   "execution_count": 5,
   "id": "f82800cb",
   "metadata": {},
   "outputs": [],
   "source": [
    "names = list(set(author.authorFullName))"
   ]
  },
  {
   "cell_type": "code",
   "execution_count": 6,
   "id": "2ecf67fe",
   "metadata": {},
   "outputs": [
    {
     "data": {
      "text/plain": [
       "8214"
      ]
     },
     "execution_count": 6,
     "metadata": {},
     "output_type": "execute_result"
    }
   ],
   "source": [
    "len(names)"
   ]
  },
  {
   "cell_type": "code",
   "execution_count": 10,
   "id": "b50f437b",
   "metadata": {},
   "outputs": [
    {
     "data": {
      "text/html": [
       "<div>\n",
       "<style scoped>\n",
       "    .dataframe tbody tr th:only-of-type {\n",
       "        vertical-align: middle;\n",
       "    }\n",
       "\n",
       "    .dataframe tbody tr th {\n",
       "        vertical-align: top;\n",
       "    }\n",
       "\n",
       "    .dataframe thead th {\n",
       "        text-align: right;\n",
       "    }\n",
       "</style>\n",
       "<table border=\"1\" class=\"dataframe\">\n",
       "  <thead>\n",
       "    <tr style=\"text-align: right;\">\n",
       "      <th></th>\n",
       "      <th>doi</th>\n",
       "      <th>url</th>\n",
       "      <th>year</th>\n",
       "      <th>title</th>\n",
       "      <th>journal</th>\n",
       "      <th>datePublished</th>\n",
       "      <th>authorFullName</th>\n",
       "      <th>firstName</th>\n",
       "      <th>lastName</th>\n",
       "      <th>numberOfAuthors</th>\n",
       "      <th>authorPosition</th>\n",
       "      <th>affiliation</th>\n",
       "    </tr>\n",
       "  </thead>\n",
       "  <tbody>\n",
       "    <tr>\n",
       "      <th>0</th>\n",
       "      <td>10.1093/joc/jqac004</td>\n",
       "      <td>https://academic.oup.com/joc/article/72/3/297/...</td>\n",
       "      <td>2022</td>\n",
       "      <td>The Gender Divide in Wikipedia: Quantifying an...</td>\n",
       "      <td>Journal of Communication</td>\n",
       "      <td>2022-02-16</td>\n",
       "      <td>Isabelle Langrock</td>\n",
       "      <td>Isabelle</td>\n",
       "      <td>Langrock</td>\n",
       "      <td>2.0</td>\n",
       "      <td>1.0</td>\n",
       "      <td>Annenberg School for Communication, University...</td>\n",
       "    </tr>\n",
       "    <tr>\n",
       "      <th>1</th>\n",
       "      <td>10.1093/joc/jqac004</td>\n",
       "      <td>https://academic.oup.com/joc/article/72/3/297/...</td>\n",
       "      <td>2022</td>\n",
       "      <td>The Gender Divide in Wikipedia: Quantifying an...</td>\n",
       "      <td>Journal of Communication</td>\n",
       "      <td>2022-02-16</td>\n",
       "      <td>Sandra González-Bailón</td>\n",
       "      <td>Sandra</td>\n",
       "      <td>González-Bailón</td>\n",
       "      <td>2.0</td>\n",
       "      <td>2.0</td>\n",
       "      <td>Annenberg School for Communication, University...</td>\n",
       "    </tr>\n",
       "    <tr>\n",
       "      <th>2</th>\n",
       "      <td>10.1093/joc/jqac009</td>\n",
       "      <td>https://academic.oup.com/joc/article/72/3/322/...</td>\n",
       "      <td>2022</td>\n",
       "      <td>Mapping Exposure Diversity: The Divergent Effe...</td>\n",
       "      <td>Journal of Communication</td>\n",
       "      <td>2022-03-16</td>\n",
       "      <td>Pascal Jürgens</td>\n",
       "      <td>Pascal</td>\n",
       "      <td>Jürgens</td>\n",
       "      <td>2.0</td>\n",
       "      <td>1.0</td>\n",
       "      <td>Department of Communication, Jakob-Welder-Weg ...</td>\n",
       "    </tr>\n",
       "    <tr>\n",
       "      <th>3</th>\n",
       "      <td>10.1093/joc/jqac009</td>\n",
       "      <td>https://academic.oup.com/joc/article/72/3/322/...</td>\n",
       "      <td>2022</td>\n",
       "      <td>Mapping Exposure Diversity: The Divergent Effe...</td>\n",
       "      <td>Journal of Communication</td>\n",
       "      <td>2022-03-16</td>\n",
       "      <td>Birgit Stark</td>\n",
       "      <td>Birgit</td>\n",
       "      <td>Stark</td>\n",
       "      <td>2.0</td>\n",
       "      <td>2.0</td>\n",
       "      <td>Department of Communication, Jakob-Welder-Weg ...</td>\n",
       "    </tr>\n",
       "    <tr>\n",
       "      <th>4</th>\n",
       "      <td>10.1093/joc/jqac008</td>\n",
       "      <td>https://academic.oup.com/joc/article/72/3/345/...</td>\n",
       "      <td>2022</td>\n",
       "      <td>Democratic Consequences of Incidental Exposure...</td>\n",
       "      <td>Journal of Communication</td>\n",
       "      <td>2022-03-17</td>\n",
       "      <td>Andreas Nanz</td>\n",
       "      <td>Andreas</td>\n",
       "      <td>Nanz</td>\n",
       "      <td>2.0</td>\n",
       "      <td>1.0</td>\n",
       "      <td>Department of Communication, University of Vie...</td>\n",
       "    </tr>\n",
       "    <tr>\n",
       "      <th>...</th>\n",
       "      <td>...</td>\n",
       "      <td>...</td>\n",
       "      <td>...</td>\n",
       "      <td>...</td>\n",
       "      <td>...</td>\n",
       "      <td>...</td>\n",
       "      <td>...</td>\n",
       "      <td>...</td>\n",
       "      <td>...</td>\n",
       "      <td>...</td>\n",
       "      <td>...</td>\n",
       "      <td>...</td>\n",
       "    </tr>\n",
       "    <tr>\n",
       "      <th>13598</th>\n",
       "      <td>10.1111/j.1753-9137.2007.00010.x</td>\n",
       "      <td>https://academic.oup.com/ccc/article/1/1/92/40...</td>\n",
       "      <td>2008</td>\n",
       "      <td>Crossing Boundaries: New Media and Networked J...</td>\n",
       "      <td>Communication, Culture and Critique</td>\n",
       "      <td>2008-02-29</td>\n",
       "      <td>Robin Mansell</td>\n",
       "      <td>Robin</td>\n",
       "      <td>Mansell</td>\n",
       "      <td>2.0</td>\n",
       "      <td>2.0</td>\n",
       "      <td>1 Department of Media and Communications, Lond...</td>\n",
       "    </tr>\n",
       "    <tr>\n",
       "      <th>13599</th>\n",
       "      <td>10.1111/j.1753-9137.2007.00011.x</td>\n",
       "      <td>https://academic.oup.com/ccc/article/1/1/105/4...</td>\n",
       "      <td>2008</td>\n",
       "      <td>Knowledge Workers of the World! Unite?</td>\n",
       "      <td>Communication, Culture and Critique</td>\n",
       "      <td>2008-02-29</td>\n",
       "      <td>Vincent Mosco</td>\n",
       "      <td>Vincent</td>\n",
       "      <td>Mosco</td>\n",
       "      <td>1.0</td>\n",
       "      <td>1.0</td>\n",
       "      <td>1 Department of Sociology, Queen’s University,...</td>\n",
       "    </tr>\n",
       "    <tr>\n",
       "      <th>13600</th>\n",
       "      <td>10.1111/j.1753-9137.2007.00012.x</td>\n",
       "      <td>https://academic.oup.com/ccc/article/1/1/116/4...</td>\n",
       "      <td>2008</td>\n",
       "      <td>The Other Sides of Globalization: Communicatio...</td>\n",
       "      <td>Communication, Culture and Critique</td>\n",
       "      <td>2008-02-29</td>\n",
       "      <td>Radhika Parameswaran</td>\n",
       "      <td>Radhika</td>\n",
       "      <td>Parameswaran</td>\n",
       "      <td>1.0</td>\n",
       "      <td>1.0</td>\n",
       "      <td>1 School of Journalism, Indiana University, Bl...</td>\n",
       "    </tr>\n",
       "    <tr>\n",
       "      <th>13601</th>\n",
       "      <td>10.1111/j.1753-9137.2007.00013.x</td>\n",
       "      <td>https://academic.oup.com/ccc/article/1/1/126/4...</td>\n",
       "      <td>2008</td>\n",
       "      <td>The Militarization of U.S. Communications</td>\n",
       "      <td>Communication, Culture and Critique</td>\n",
       "      <td>2008-02-29</td>\n",
       "      <td>Dan Schiller</td>\n",
       "      <td>Dan</td>\n",
       "      <td>Schiller</td>\n",
       "      <td>1.0</td>\n",
       "      <td>1.0</td>\n",
       "      <td>1 Department of Speech Communication and Gradu...</td>\n",
       "    </tr>\n",
       "    <tr>\n",
       "      <th>13602</th>\n",
       "      <td>10.1111/j.1753-9137.2008.00015.x</td>\n",
       "      <td>https://academic.oup.com/ccc/article/1/1/139/4...</td>\n",
       "      <td>2008</td>\n",
       "      <td>Contributors’ Biographies</td>\n",
       "      <td>Communication, Culture and Critique</td>\n",
       "      <td>2008-02-29</td>\n",
       "      <td>NaN</td>\n",
       "      <td>NaN</td>\n",
       "      <td>NaN</td>\n",
       "      <td>NaN</td>\n",
       "      <td>NaN</td>\n",
       "      <td>NaN</td>\n",
       "    </tr>\n",
       "  </tbody>\n",
       "</table>\n",
       "<p>13603 rows × 12 columns</p>\n",
       "</div>"
      ],
      "text/plain": [
       "                                    doi  \\\n",
       "0                   10.1093/joc/jqac004   \n",
       "1                   10.1093/joc/jqac004   \n",
       "2                   10.1093/joc/jqac009   \n",
       "3                   10.1093/joc/jqac009   \n",
       "4                   10.1093/joc/jqac008   \n",
       "...                                 ...   \n",
       "13598  10.1111/j.1753-9137.2007.00010.x   \n",
       "13599  10.1111/j.1753-9137.2007.00011.x   \n",
       "13600  10.1111/j.1753-9137.2007.00012.x   \n",
       "13601  10.1111/j.1753-9137.2007.00013.x   \n",
       "13602  10.1111/j.1753-9137.2008.00015.x   \n",
       "\n",
       "                                                     url  year  \\\n",
       "0      https://academic.oup.com/joc/article/72/3/297/...  2022   \n",
       "1      https://academic.oup.com/joc/article/72/3/297/...  2022   \n",
       "2      https://academic.oup.com/joc/article/72/3/322/...  2022   \n",
       "3      https://academic.oup.com/joc/article/72/3/322/...  2022   \n",
       "4      https://academic.oup.com/joc/article/72/3/345/...  2022   \n",
       "...                                                  ...   ...   \n",
       "13598  https://academic.oup.com/ccc/article/1/1/92/40...  2008   \n",
       "13599  https://academic.oup.com/ccc/article/1/1/105/4...  2008   \n",
       "13600  https://academic.oup.com/ccc/article/1/1/116/4...  2008   \n",
       "13601  https://academic.oup.com/ccc/article/1/1/126/4...  2008   \n",
       "13602  https://academic.oup.com/ccc/article/1/1/139/4...  2008   \n",
       "\n",
       "                                                   title  \\\n",
       "0      The Gender Divide in Wikipedia: Quantifying an...   \n",
       "1      The Gender Divide in Wikipedia: Quantifying an...   \n",
       "2      Mapping Exposure Diversity: The Divergent Effe...   \n",
       "3      Mapping Exposure Diversity: The Divergent Effe...   \n",
       "4      Democratic Consequences of Incidental Exposure...   \n",
       "...                                                  ...   \n",
       "13598  Crossing Boundaries: New Media and Networked J...   \n",
       "13599             Knowledge Workers of the World! Unite?   \n",
       "13600  The Other Sides of Globalization: Communicatio...   \n",
       "13601          The Militarization of U.S. Communications   \n",
       "13602                          Contributors’ Biographies   \n",
       "\n",
       "                                   journal datePublished  \\\n",
       "0                 Journal of Communication    2022-02-16   \n",
       "1                 Journal of Communication    2022-02-16   \n",
       "2                 Journal of Communication    2022-03-16   \n",
       "3                 Journal of Communication    2022-03-16   \n",
       "4                 Journal of Communication    2022-03-17   \n",
       "...                                    ...           ...   \n",
       "13598  Communication, Culture and Critique    2008-02-29   \n",
       "13599  Communication, Culture and Critique    2008-02-29   \n",
       "13600  Communication, Culture and Critique    2008-02-29   \n",
       "13601  Communication, Culture and Critique    2008-02-29   \n",
       "13602  Communication, Culture and Critique    2008-02-29   \n",
       "\n",
       "               authorFullName firstName         lastName  numberOfAuthors  \\\n",
       "0           Isabelle Langrock  Isabelle         Langrock              2.0   \n",
       "1      Sandra González-Bailón    Sandra  González-Bailón              2.0   \n",
       "2              Pascal Jürgens    Pascal          Jürgens              2.0   \n",
       "3                Birgit Stark    Birgit            Stark              2.0   \n",
       "4                Andreas Nanz   Andreas             Nanz              2.0   \n",
       "...                       ...       ...              ...              ...   \n",
       "13598           Robin Mansell     Robin          Mansell              2.0   \n",
       "13599           Vincent Mosco   Vincent            Mosco              1.0   \n",
       "13600    Radhika Parameswaran   Radhika     Parameswaran              1.0   \n",
       "13601            Dan Schiller       Dan         Schiller              1.0   \n",
       "13602                     NaN       NaN              NaN              NaN   \n",
       "\n",
       "       authorPosition                                        affiliation  \n",
       "0                 1.0  Annenberg School for Communication, University...  \n",
       "1                 2.0  Annenberg School for Communication, University...  \n",
       "2                 1.0  Department of Communication, Jakob-Welder-Weg ...  \n",
       "3                 2.0  Department of Communication, Jakob-Welder-Weg ...  \n",
       "4                 1.0  Department of Communication, University of Vie...  \n",
       "...               ...                                                ...  \n",
       "13598             2.0  1 Department of Media and Communications, Lond...  \n",
       "13599             1.0  1 Department of Sociology, Queen’s University,...  \n",
       "13600             1.0  1 School of Journalism, Indiana University, Bl...  \n",
       "13601             1.0  1 Department of Speech Communication and Gradu...  \n",
       "13602             NaN                                                NaN  \n",
       "\n",
       "[13603 rows x 12 columns]"
      ]
     },
     "execution_count": 10,
     "metadata": {},
     "output_type": "execute_result"
    }
   ],
   "source": [
    "author"
   ]
  },
  {
   "cell_type": "code",
   "execution_count": 12,
   "id": "a5f25a91",
   "metadata": {},
   "outputs": [
    {
     "data": {
      "text/plain": [
       "2887"
      ]
     },
     "execution_count": 12,
     "metadata": {},
     "output_type": "execute_result"
    }
   ],
   "source": [
    "firstname = list(set(author.firstName))\n",
    "len(firstname)"
   ]
  },
  {
   "cell_type": "code",
   "execution_count": 13,
   "id": "fbccd80a",
   "metadata": {},
   "outputs": [
    {
     "data": {
      "text/plain": [
       "5714"
      ]
     },
     "execution_count": 13,
     "metadata": {},
     "output_type": "execute_result"
    }
   ],
   "source": [
    "lastname = list(set(author.lastName))\n",
    "len(lastname)"
   ]
  },
  {
   "cell_type": "code",
   "execution_count": 14,
   "id": "b369b1b4",
   "metadata": {},
   "outputs": [
    {
     "data": {
      "text/plain": [
       "9643"
      ]
     },
     "execution_count": 14,
     "metadata": {},
     "output_type": "execute_result"
    }
   ],
   "source": [
    "affs = list(set(author.affiliation))\n",
    "len(affs)"
   ]
  },
  {
   "cell_type": "code",
   "execution_count": null,
   "id": "629e8b63",
   "metadata": {},
   "outputs": [],
   "source": []
  }
 ],
 "metadata": {
  "kernelspec": {
   "display_name": "Python 3 (ipykernel)",
   "language": "python",
   "name": "python3"
  },
  "language_info": {
   "codemirror_mode": {
    "name": "ipython",
    "version": 3
   },
   "file_extension": ".py",
   "mimetype": "text/x-python",
   "name": "python",
   "nbconvert_exporter": "python",
   "pygments_lexer": "ipython3",
   "version": "3.8.13"
  }
 },
 "nbformat": 4,
 "nbformat_minor": 5
}
