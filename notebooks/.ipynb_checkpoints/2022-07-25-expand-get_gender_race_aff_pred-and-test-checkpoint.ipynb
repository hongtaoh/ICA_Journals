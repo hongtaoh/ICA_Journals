{
 "cells": [
  {
   "cell_type": "markdown",
   "id": "a9b7884a",
   "metadata": {},
   "source": [
    "## Aim\n",
    "\n",
    "In this notebook, I tried to keep working on `get_gender_race_aff_pred.py` and test the functions one by one. The output file should be author data with gender, race, and affiliation predictions. Affiliation predictions should come with the ror affname in upper class and the associated ROR IDs. "
   ]
  },
  {
   "cell_type": "code",
   "execution_count": 7,
   "id": "0832e596",
   "metadata": {},
   "outputs": [],
   "source": [
    "import pandas as pd\n",
    "import requests\n",
    "import numpy as np\n",
    "import re\n",
    "from collections import Counter\n",
    "import random\n",
    "import json"
   ]
  },
  {
   "cell_type": "code",
   "execution_count": 8,
   "id": "ffa59b63",
   "metadata": {},
   "outputs": [
    {
     "data": {
      "text/plain": [
       "(13603, 25)"
      ]
     },
     "execution_count": 8,
     "metadata": {},
     "output_type": "execute_result"
    }
   ],
   "source": [
    "race_pred = pd.read_csv('../data/author_with_pred.csv')\n",
    "race_pred.shape"
   ]
  },
  {
   "cell_type": "code",
   "execution_count": 9,
   "id": "5e764bfc",
   "metadata": {},
   "outputs": [
    {
     "data": {
      "text/html": [
       "<div>\n",
       "<style scoped>\n",
       "    .dataframe tbody tr th:only-of-type {\n",
       "        vertical-align: middle;\n",
       "    }\n",
       "\n",
       "    .dataframe tbody tr th {\n",
       "        vertical-align: top;\n",
       "    }\n",
       "\n",
       "    .dataframe thead th {\n",
       "        text-align: right;\n",
       "    }\n",
       "</style>\n",
       "<table border=\"1\" class=\"dataframe\">\n",
       "  <thead>\n",
       "    <tr style=\"text-align: right;\">\n",
       "      <th></th>\n",
       "      <th>doi</th>\n",
       "      <th>url</th>\n",
       "      <th>year</th>\n",
       "      <th>title</th>\n",
       "      <th>journal</th>\n",
       "      <th>datePublished</th>\n",
       "      <th>authorFullName</th>\n",
       "      <th>firstName</th>\n",
       "      <th>lastName</th>\n",
       "      <th>numberOfAuthors</th>\n",
       "      <th>...</th>\n",
       "      <th>genderAccuracy</th>\n",
       "      <th>api</th>\n",
       "      <th>black</th>\n",
       "      <th>hispanic</th>\n",
       "      <th>white</th>\n",
       "      <th>race</th>\n",
       "      <th>raceHighest</th>\n",
       "      <th>raceSecondHighest</th>\n",
       "      <th>raceDiff</th>\n",
       "      <th>racePredAccuracy</th>\n",
       "    </tr>\n",
       "  </thead>\n",
       "  <tbody>\n",
       "    <tr>\n",
       "      <th>0</th>\n",
       "      <td>10.1093/joc/jqac004</td>\n",
       "      <td>https://academic.oup.com/joc/article/72/3/297/...</td>\n",
       "      <td>2022</td>\n",
       "      <td>The Gender Divide in Wikipedia: Quantifying an...</td>\n",
       "      <td>Journal of Communication</td>\n",
       "      <td>2022-02-16</td>\n",
       "      <td>Isabelle Langrock</td>\n",
       "      <td>Isabelle</td>\n",
       "      <td>Langrock</td>\n",
       "      <td>2.0</td>\n",
       "      <td>...</td>\n",
       "      <td>High</td>\n",
       "      <td>0.007762</td>\n",
       "      <td>0.066429</td>\n",
       "      <td>0.030049</td>\n",
       "      <td>0.895760</td>\n",
       "      <td>white</td>\n",
       "      <td>0.895760</td>\n",
       "      <td>0.066429</td>\n",
       "      <td>0.829331</td>\n",
       "      <td>High</td>\n",
       "    </tr>\n",
       "    <tr>\n",
       "      <th>1</th>\n",
       "      <td>10.1093/joc/jqac004</td>\n",
       "      <td>https://academic.oup.com/joc/article/72/3/297/...</td>\n",
       "      <td>2022</td>\n",
       "      <td>The Gender Divide in Wikipedia: Quantifying an...</td>\n",
       "      <td>Journal of Communication</td>\n",
       "      <td>2022-02-16</td>\n",
       "      <td>Sandra González-Bailón</td>\n",
       "      <td>Sandra</td>\n",
       "      <td>González-Bailón</td>\n",
       "      <td>2.0</td>\n",
       "      <td>...</td>\n",
       "      <td>High</td>\n",
       "      <td>0.010406</td>\n",
       "      <td>0.000300</td>\n",
       "      <td>0.979183</td>\n",
       "      <td>0.010111</td>\n",
       "      <td>hispanic</td>\n",
       "      <td>0.979183</td>\n",
       "      <td>0.010406</td>\n",
       "      <td>0.968777</td>\n",
       "      <td>High</td>\n",
       "    </tr>\n",
       "  </tbody>\n",
       "</table>\n",
       "<p>2 rows × 25 columns</p>\n",
       "</div>"
      ],
      "text/plain": [
       "                   doi                                                url  \\\n",
       "0  10.1093/joc/jqac004  https://academic.oup.com/joc/article/72/3/297/...   \n",
       "1  10.1093/joc/jqac004  https://academic.oup.com/joc/article/72/3/297/...   \n",
       "\n",
       "   year                                              title  \\\n",
       "0  2022  The Gender Divide in Wikipedia: Quantifying an...   \n",
       "1  2022  The Gender Divide in Wikipedia: Quantifying an...   \n",
       "\n",
       "                    journal datePublished          authorFullName firstName  \\\n",
       "0  Journal of Communication    2022-02-16       Isabelle Langrock  Isabelle   \n",
       "1  Journal of Communication    2022-02-16  Sandra González-Bailón    Sandra   \n",
       "\n",
       "          lastName  numberOfAuthors  ...  genderAccuracy       api     black  \\\n",
       "0         Langrock              2.0  ...            High  0.007762  0.066429   \n",
       "1  González-Bailón              2.0  ...            High  0.010406  0.000300   \n",
       "\n",
       "   hispanic     white      race  raceHighest  raceSecondHighest  raceDiff  \\\n",
       "0  0.030049  0.895760     white     0.895760           0.066429  0.829331   \n",
       "1  0.979183  0.010111  hispanic     0.979183           0.010406  0.968777   \n",
       "\n",
       "   racePredAccuracy  \n",
       "0              High  \n",
       "1              High  \n",
       "\n",
       "[2 rows x 25 columns]"
      ]
     },
     "execution_count": 9,
     "metadata": {},
     "output_type": "execute_result"
    }
   ],
   "source": [
    "race_pred.head(2)"
   ]
  },
  {
   "cell_type": "code",
   "execution_count": 10,
   "id": "d65fdb56",
   "metadata": {},
   "outputs": [
    {
     "data": {
      "text/plain": [
       "13603"
      ]
     },
     "execution_count": 10,
     "metadata": {},
     "output_type": "execute_result"
    }
   ],
   "source": [
    "len(race_pred)"
   ]
  },
  {
   "cell_type": "code",
   "execution_count": 11,
   "id": "cf8e4056",
   "metadata": {},
   "outputs": [],
   "source": [
    "# testing whether I can have dupulicate cols; yes\n",
    "cols_to_keep = ['doi', 'url', 'doi', 'url']"
   ]
  },
  {
   "cell_type": "code",
   "execution_count": 12,
   "id": "7de500ae",
   "metadata": {},
   "outputs": [
    {
     "data": {
      "text/html": [
       "<div>\n",
       "<style scoped>\n",
       "    .dataframe tbody tr th:only-of-type {\n",
       "        vertical-align: middle;\n",
       "    }\n",
       "\n",
       "    .dataframe tbody tr th {\n",
       "        vertical-align: top;\n",
       "    }\n",
       "\n",
       "    .dataframe thead th {\n",
       "        text-align: right;\n",
       "    }\n",
       "</style>\n",
       "<table border=\"1\" class=\"dataframe\">\n",
       "  <thead>\n",
       "    <tr style=\"text-align: right;\">\n",
       "      <th></th>\n",
       "      <th>doi</th>\n",
       "      <th>url</th>\n",
       "      <th>doi</th>\n",
       "      <th>url</th>\n",
       "    </tr>\n",
       "  </thead>\n",
       "  <tbody>\n",
       "    <tr>\n",
       "      <th>0</th>\n",
       "      <td>10.1093/joc/jqac004</td>\n",
       "      <td>https://academic.oup.com/joc/article/72/3/297/...</td>\n",
       "      <td>10.1093/joc/jqac004</td>\n",
       "      <td>https://academic.oup.com/joc/article/72/3/297/...</td>\n",
       "    </tr>\n",
       "    <tr>\n",
       "      <th>1</th>\n",
       "      <td>10.1093/joc/jqac004</td>\n",
       "      <td>https://academic.oup.com/joc/article/72/3/297/...</td>\n",
       "      <td>10.1093/joc/jqac004</td>\n",
       "      <td>https://academic.oup.com/joc/article/72/3/297/...</td>\n",
       "    </tr>\n",
       "    <tr>\n",
       "      <th>2</th>\n",
       "      <td>10.1093/joc/jqac009</td>\n",
       "      <td>https://academic.oup.com/joc/article/72/3/322/...</td>\n",
       "      <td>10.1093/joc/jqac009</td>\n",
       "      <td>https://academic.oup.com/joc/article/72/3/322/...</td>\n",
       "    </tr>\n",
       "    <tr>\n",
       "      <th>3</th>\n",
       "      <td>10.1093/joc/jqac009</td>\n",
       "      <td>https://academic.oup.com/joc/article/72/3/322/...</td>\n",
       "      <td>10.1093/joc/jqac009</td>\n",
       "      <td>https://academic.oup.com/joc/article/72/3/322/...</td>\n",
       "    </tr>\n",
       "    <tr>\n",
       "      <th>4</th>\n",
       "      <td>10.1093/joc/jqac008</td>\n",
       "      <td>https://academic.oup.com/joc/article/72/3/345/...</td>\n",
       "      <td>10.1093/joc/jqac008</td>\n",
       "      <td>https://academic.oup.com/joc/article/72/3/345/...</td>\n",
       "    </tr>\n",
       "  </tbody>\n",
       "</table>\n",
       "</div>"
      ],
      "text/plain": [
       "                   doi                                                url  \\\n",
       "0  10.1093/joc/jqac004  https://academic.oup.com/joc/article/72/3/297/...   \n",
       "1  10.1093/joc/jqac004  https://academic.oup.com/joc/article/72/3/297/...   \n",
       "2  10.1093/joc/jqac009  https://academic.oup.com/joc/article/72/3/322/...   \n",
       "3  10.1093/joc/jqac009  https://academic.oup.com/joc/article/72/3/322/...   \n",
       "4  10.1093/joc/jqac008  https://academic.oup.com/joc/article/72/3/345/...   \n",
       "\n",
       "                   doi                                                url  \n",
       "0  10.1093/joc/jqac004  https://academic.oup.com/joc/article/72/3/297/...  \n",
       "1  10.1093/joc/jqac004  https://academic.oup.com/joc/article/72/3/297/...  \n",
       "2  10.1093/joc/jqac009  https://academic.oup.com/joc/article/72/3/322/...  \n",
       "3  10.1093/joc/jqac009  https://academic.oup.com/joc/article/72/3/322/...  \n",
       "4  10.1093/joc/jqac008  https://academic.oup.com/joc/article/72/3/345/...  "
      ]
     },
     "execution_count": 12,
     "metadata": {},
     "output_type": "execute_result"
    }
   ],
   "source": [
    "race_pred[cols_to_keep].head()"
   ]
  },
  {
   "cell_type": "markdown",
   "id": "1d625a57",
   "metadata": {},
   "source": [
    "### Process aff text"
   ]
  },
  {
   "cell_type": "code",
   "execution_count": 13,
   "id": "8adf7bac",
   "metadata": {},
   "outputs": [],
   "source": [
    "def notNaN(aff):\n",
    "    '''returns True if it is not nan\n",
    "    '''\n",
    "    return aff == aff\n",
    "\n",
    "def process_affiliation_text(aff):\n",
    "    '''process aff text: lower case, remove content within (), keep only characters\n",
    "    '''\n",
    "    if notNaN(aff):\n",
    "        aff = aff.lower()\n",
    "        # delete anything between ()\n",
    "        aff = re.sub(r'\\(.*?\\)', '', aff)\n",
    "        # remove anything other than characters\n",
    "        aff = re.sub('[^a-z ]+', ' ', aff)\n",
    "        aff = ' '.join(aff.split())\n",
    "        return aff\n",
    "    else:\n",
    "        return np.nan"
   ]
  },
  {
   "cell_type": "code",
   "execution_count": 14,
   "id": "13036f08",
   "metadata": {},
   "outputs": [],
   "source": [
    "test_text = \"1 Abran J. Salazar (Ph.D., University of Iowa, 1991) is assistant professor in the Department of Speech Communication at Texas A&amp;M University\""
   ]
  },
  {
   "cell_type": "code",
   "execution_count": 15,
   "id": "5282134d",
   "metadata": {},
   "outputs": [
    {
     "data": {
      "text/plain": [
       "'abran j salazar is assistant professor in the department of speech communication at texas a amp m university'"
      ]
     },
     "execution_count": 15,
     "metadata": {},
     "output_type": "execute_result"
    }
   ],
   "source": [
    "process_affiliation_text(test_text)"
   ]
  },
  {
   "cell_type": "code",
   "execution_count": 16,
   "id": "156e942d",
   "metadata": {},
   "outputs": [],
   "source": [
    "race_pred['affProcessed'] = [\n",
    "    process_affiliation_text(aff) for aff in race_pred.affiliation]"
   ]
  },
  {
   "cell_type": "markdown",
   "id": "ce1978c3",
   "metadata": {},
   "source": [
    "### Get deduplicated affs to predict"
   ]
  },
  {
   "cell_type": "code",
   "execution_count": 17,
   "id": "4001d444",
   "metadata": {},
   "outputs": [],
   "source": [
    "def get_deduplicated_affs_to_predict(race_pred):\n",
    "    '''deduplicate the column of affProcessed, remove nan and '', and return the \n",
    "    list of dedup_affs_to_predict\n",
    "    '''\n",
    "    affs = race_pred.affProcessed\n",
    "    # deduplicate\n",
    "    affs = list(set(affs))\n",
    "    # remove nan\n",
    "    affs = [x for x in affs if str(x) != 'nan' and x != '']\n",
    "    print(f'There are in total {len(affs)} deduplicated affiliations to predict')\n",
    "    return affs"
   ]
  },
  {
   "cell_type": "code",
   "execution_count": 18,
   "id": "aaa21a95",
   "metadata": {},
   "outputs": [
    {
     "name": "stdout",
     "output_type": "stream",
     "text": [
      "There are in total 8409 deduplicated affiliations to predict\n"
     ]
    }
   ],
   "source": [
    "dedup_affs_to_predict = get_deduplicated_affs_to_predict(race_pred)"
   ]
  },
  {
   "cell_type": "code",
   "execution_count": 19,
   "id": "62e6a717",
   "metadata": {},
   "outputs": [
    {
     "data": {
      "text/plain": [
       "['department of communication university of california santa barbara usa',\n",
       " 'ronald c kessler is at the department of sociology and the institute for social research university of michigan ann arbor',\n",
       " 'new mexico state university',\n",
       " 'jakob d jensen and ryan j hurley are doctoral candidates in the department of speech communication at the university of illinois at urbana champaign',\n",
       " 'is assistant professor of speech at fayetteville state university his research examines the functions of ethos and identity in all persuasive discourse but especially that found in computer mediated communication this essay was a part of his dissertation work which focused also on ethos and identity in online political and religious environments',\n",
       " 'department of speech communication the university of georgia athens ga usa',\n",
       " 'stephen g west is associate professor of psychology at florida state university',\n",
       " 'department of communication the hebrew university of jerusalem jerusalem israel',\n",
       " 'college of communication and information the university of tennessee in knoxville knoxville tn usa',\n",
       " 'school of communication amp information rutgers university new brunswick nj usa']"
      ]
     },
     "execution_count": 19,
     "metadata": {},
     "output_type": "execute_result"
    }
   ],
   "source": [
    "dedup_affs_to_predict[0:10]"
   ]
  },
  {
   "cell_type": "code",
   "execution_count": 20,
   "id": "96e3fe18",
   "metadata": {},
   "outputs": [],
   "source": [
    "for i in dedup_affs_to_predict:\n",
    "    if i == '':\n",
    "        print('yes')\n",
    "        break"
   ]
  },
  {
   "cell_type": "markdown",
   "id": "78a28220",
   "metadata": {},
   "source": [
    "### Load ROR raw dataset"
   ]
  },
  {
   "cell_type": "code",
   "execution_count": 21,
   "id": "b6fcf6ad",
   "metadata": {},
   "outputs": [],
   "source": [
    "def load_ror_dataset(ROR_RAW_DATA):\n",
    "    '''read in ROR_DATA\n",
    "    Output:\n",
    "        a list of dictionaries\n",
    "    '''\n",
    "    with open(ROR_RAW_DATA, 'r') as myfile:\n",
    "        data=myfile.read()\n",
    "    data = json.loads(data)\n",
    "    return data"
   ]
  },
  {
   "cell_type": "code",
   "execution_count": 22,
   "id": "80d78a8a",
   "metadata": {},
   "outputs": [],
   "source": [
    "rorData = load_ror_dataset('../data/raw/large/ror.json')"
   ]
  },
  {
   "cell_type": "code",
   "execution_count": 23,
   "id": "60b17c47",
   "metadata": {},
   "outputs": [
    {
     "data": {
      "text/plain": [
       "{'id': 'https://ror.org/019wvm592',\n",
       " 'name': 'Australian National University',\n",
       " 'types': ['Education'],\n",
       " 'links': ['http://www.anu.edu.au/'],\n",
       " 'aliases': [],\n",
       " 'acronyms': ['ANU'],\n",
       " 'status': 'active',\n",
       " 'wikipedia_url': 'http://en.wikipedia.org/wiki/Australian_National_University',\n",
       " 'labels': [],\n",
       " 'email_address': None,\n",
       " 'ip_addresses': [],\n",
       " 'established': 1946,\n",
       " 'country': {'country_code': 'AU', 'country_name': 'Australia'},\n",
       " 'relationships': [{'type': 'Related',\n",
       "   'label': 'Calvary Hospital',\n",
       "   'id': 'https://ror.org/041c7s516'},\n",
       "  {'type': 'Related',\n",
       "   'label': 'Canberra Hospital',\n",
       "   'id': 'https://ror.org/04h7nbn38'},\n",
       "  {'type': 'Related',\n",
       "   'label': 'Goulburn Base Hospital',\n",
       "   'id': 'https://ror.org/030jpqj15'},\n",
       "  {'type': 'Child',\n",
       "   'label': 'ARC Centre of Excellence for Transformative Meta-Optical Systems',\n",
       "   'id': 'https://ror.org/05sh7tb37'},\n",
       "  {'type': 'Child',\n",
       "   'label': 'ARC Centre of Excellence in Plant Energy Biology',\n",
       "   'id': 'https://ror.org/01a1mq059'},\n",
       "  {'type': 'Child',\n",
       "   'label': 'Mount Stromlo Observatory',\n",
       "   'id': 'https://ror.org/006a4jj40'}],\n",
       " 'addresses': [{'line': None,\n",
       "   'lat': -35.2778,\n",
       "   'lng': 149.1205,\n",
       "   'postcode': None,\n",
       "   'primary': False,\n",
       "   'city': 'Canberra',\n",
       "   'state': 'Australian Capital Territory',\n",
       "   'state_code': 'AU-ACT',\n",
       "   'country_geonames_id': 2077456,\n",
       "   'geonames_city': {'id': 2172517,\n",
       "    'city': 'Canberra',\n",
       "    'nuts_level1': {'code': None, 'name': None},\n",
       "    'nuts_level2': {'code': None, 'name': None},\n",
       "    'nuts_level3': {'code': None, 'name': None},\n",
       "    'geonames_admin1': {'id': 2177478,\n",
       "     'name': 'ACT',\n",
       "     'ascii_name': 'ACT',\n",
       "     'code': 'AU.01'},\n",
       "    'geonames_admin2': {'id': None,\n",
       "     'name': None,\n",
       "     'ascii_name': None,\n",
       "     'code': None},\n",
       "    'license': {'attribution': 'Data from geonames.org under a CC-BY 3.0 license',\n",
       "     'license': 'http://creativecommons.org/licenses/by/3.0/'}}}],\n",
       " 'external_ids': {'ISNI': {'preferred': None, 'all': ['0000 0001 2180 7477']},\n",
       "  'FundRef': {'preferred': '501100000995',\n",
       "   'all': ['501100000995', '501100001151', '100009020']},\n",
       "  'OrgRef': {'preferred': None, 'all': ['285106']},\n",
       "  'Wikidata': {'preferred': None, 'all': ['Q127990']},\n",
       "  'GRID': {'preferred': 'grid.1001.0', 'all': 'grid.1001.0'}}}"
      ]
     },
     "execution_count": 23,
     "metadata": {},
     "output_type": "execute_result"
    }
   ],
   "source": [
    "rorData[0]"
   ]
  },
  {
   "cell_type": "markdown",
   "id": "0e34ae57",
   "metadata": {},
   "source": [
    "### Get ROR dictionaries"
   ]
  },
  {
   "cell_type": "code",
   "execution_count": 24,
   "id": "d1f1e3ef",
   "metadata": {},
   "outputs": [],
   "source": [
    "def get_ror_dics(rorData):\n",
    "    '''dictionaries of \n",
    "        1. ror aff name in lower case and its corresponding affname in upper case\n",
    "        2. ror aff name (upper case) and it corresponding ror id\n",
    "    Note that these two dics contain ALL affiliations in rorData\n",
    "    '''\n",
    "    ror_lower_upper_dic = {}\n",
    "    ror_upper_id_dic = {}\n",
    "    for i in rorData:\n",
    "        upper_affname = i['name']\n",
    "        lower_affname = i['name'].lower()\n",
    "        ror_lower_upper_dic[lower_affname] = upper_affname\n",
    "        ror_upper_id_dic[upper_affname] = i['id']\n",
    "    return ror_lower_upper_dic, ror_upper_id_dic"
   ]
  },
  {
   "cell_type": "code",
   "execution_count": 25,
   "id": "999d2457",
   "metadata": {},
   "outputs": [],
   "source": [
    "ror_lower_upper_dic, ror_upper_id_dic = get_ror_dics(rorData)"
   ]
  },
  {
   "cell_type": "markdown",
   "id": "c20c9509",
   "metadata": {},
   "source": [
    "### Get select ror affnames"
   ]
  },
  {
   "cell_type": "code",
   "execution_count": 26,
   "id": "f701e1ee",
   "metadata": {},
   "outputs": [],
   "source": [
    "def get_select_ror_affnames(rorData, target_str, to_remove_affs):\n",
    "\t'''\n",
    "\tror has A LOT of affiliations. I only select some of them. \n",
    "\n",
    "\tIn the selected ones, some obviously will lead to wrong (exact) match later, \n",
    "\t\tso I delete them here. \n",
    "\n",
    "\tThe select affnames are in lower case. \n",
    "\t'''\n",
    "\tselect_ror_affnames = []\n",
    "\tfor i in rorData:\n",
    "\t\taffname = i['name'].lower()\n",
    "\t\tif any(x in affname for x in target_str):\n",
    "\t\t\tselect_ror_affnames.append(affname)\n",
    "\tselect_ror_affnames = [x for x in select_ror_affnames if x not in to_remove_affs]\n",
    "\tprint(f'There are a total of {len(select_ror_affnames)} select ror affnames')\n",
    "\treturn select_ror_affnames"
   ]
  },
  {
   "cell_type": "code",
   "execution_count": 27,
   "id": "c4885921",
   "metadata": {},
   "outputs": [
    {
     "name": "stdout",
     "output_type": "stream",
     "text": [
      "There are a total of 29813 select ror affnames\n"
     ]
    }
   ],
   "source": [
    "target_str = [\n",
    "    'university', \n",
    "    'school',\n",
    "    'college', \n",
    "    \"universität\", \n",
    "    \"université\", \n",
    "    \"inc.\", \n",
    "    \"company\", \n",
    "    'coorporation',\n",
    "    'institute',\n",
    "    'center',\n",
    "    'centre',\n",
    "]\n",
    "to_remove_affs = [\n",
    "    'he university',\n",
    "    'ege university',\n",
    "    'ces university',\n",
    "    'coe college',\n",
    "    'kes college',\n",
    "    'ie university',\n",
    "    'health center',\n",
    "    'cancer institute',\n",
    "    'rk university',\n",
    "    'air university',\n",
    "\n",
    "]\n",
    "select_ror_affnames = get_select_ror_affnames(\n",
    "    rorData, target_str, to_remove_affs)"
   ]
  },
  {
   "cell_type": "markdown",
   "id": "67036c53",
   "metadata": {},
   "source": [
    "### Exact match"
   ]
  },
  {
   "cell_type": "code",
   "execution_count": 28,
   "id": "27c86c01",
   "metadata": {},
   "outputs": [],
   "source": [
    "def get_exact_match_list(dedup_affs_to_predict, select_ror_affnames):\n",
    "\t\"\"\"for each aff in dedup_affs_to_predict, check whether any of its substring \n",
    "\tcan be exactly matched with any of the aff in select_ror_affnames\n",
    "\tOutput:\n",
    "\t\ta dictionary where key is aff_to_predict, and value is the matched \n",
    "\t\taff in select ror affnames\n",
    "\t\"\"\"\n",
    "\ttotal = len(dedup_affs_to_predict)\n",
    "\texact_match_dic = {}\n",
    "\texact_match = 0\n",
    "\tfor aff_to_predict in dedup_affs_to_predict:\n",
    "\t\tfor x in select_ror_affnames:\n",
    "\t\t\tif x in aff_to_predict:\n",
    "\t\t\t\texact_match += 1\n",
    "\t\t\t\texact_match_dic[aff_to_predict] = x\n",
    "\t\t\t\tbreak\n",
    "\tprint(f'{exact_match} out of {total} affiliations have been exactly matched')\n",
    "\treturn exact_match_dic"
   ]
  },
  {
   "cell_type": "code",
   "execution_count": 29,
   "id": "c7604e02",
   "metadata": {},
   "outputs": [
    {
     "name": "stdout",
     "output_type": "stream",
     "text": [
      "5821 out of 8409 affiliations have been exactly matched\n"
     ]
    }
   ],
   "source": [
    "exact_match_dic = get_exact_match_list(\n",
    "    dedup_affs_to_predict, select_ror_affnames)"
   ]
  },
  {
   "cell_type": "code",
   "execution_count": 30,
   "id": "a3cbb39b",
   "metadata": {},
   "outputs": [
    {
     "data": {
      "text/html": [
       "<div>\n",
       "<style scoped>\n",
       "    .dataframe tbody tr th:only-of-type {\n",
       "        vertical-align: middle;\n",
       "    }\n",
       "\n",
       "    .dataframe tbody tr th {\n",
       "        vertical-align: top;\n",
       "    }\n",
       "\n",
       "    .dataframe thead th {\n",
       "        text-align: right;\n",
       "    }\n",
       "</style>\n",
       "<table border=\"1\" class=\"dataframe\">\n",
       "  <thead>\n",
       "    <tr style=\"text-align: right;\">\n",
       "      <th></th>\n",
       "      <th>0</th>\n",
       "      <th>1</th>\n",
       "    </tr>\n",
       "  </thead>\n",
       "  <tbody>\n",
       "    <tr>\n",
       "      <th>0</th>\n",
       "      <td>ronald c kessler is at the department of socio...</td>\n",
       "      <td>institute for social research</td>\n",
       "    </tr>\n",
       "    <tr>\n",
       "      <th>1</th>\n",
       "      <td>new mexico state university</td>\n",
       "      <td>new mexico state university</td>\n",
       "    </tr>\n",
       "    <tr>\n",
       "      <th>2</th>\n",
       "      <td>is assistant professor of speech at fayettevil...</td>\n",
       "      <td>fayetteville state university</td>\n",
       "    </tr>\n",
       "    <tr>\n",
       "      <th>3</th>\n",
       "      <td>department of speech communication the univers...</td>\n",
       "      <td>university of georgia</td>\n",
       "    </tr>\n",
       "    <tr>\n",
       "      <th>4</th>\n",
       "      <td>stephen g west is associate professor of psych...</td>\n",
       "      <td>florida state university</td>\n",
       "    </tr>\n",
       "  </tbody>\n",
       "</table>\n",
       "</div>"
      ],
      "text/plain": [
       "                                                   0  \\\n",
       "0  ronald c kessler is at the department of socio...   \n",
       "1                        new mexico state university   \n",
       "2  is assistant professor of speech at fayettevil...   \n",
       "3  department of speech communication the univers...   \n",
       "4  stephen g west is associate professor of psych...   \n",
       "\n",
       "                               1  \n",
       "0  institute for social research  \n",
       "1    new mexico state university  \n",
       "2  fayetteville state university  \n",
       "3          university of georgia  \n",
       "4       florida state university  "
      ]
     },
     "execution_count": 30,
     "metadata": {},
     "output_type": "execute_result"
    }
   ],
   "source": [
    "pd.DataFrame(exact_match_dic.items()).head()"
   ]
  },
  {
   "cell_type": "markdown",
   "id": "d6ce7fcc",
   "metadata": {},
   "source": [
    "### API query"
   ]
  },
  {
   "cell_type": "code",
   "execution_count": 31,
   "id": "5f25ceda",
   "metadata": {},
   "outputs": [],
   "source": [
    "def get_to_api_query_list(dedup_affs_to_predict, exact_match_dic):\n",
    "\t\"\"\"affs in dedup_affs_to_predict that are not exactly matched\n",
    "\t\"\"\"\n",
    "\tto_api_query_list = [\n",
    "\t\tx for x in dedup_affs_to_predict if x not in exact_match_dic.keys()]\n",
    "\tprint(f'{len(to_api_query_list)} affiliations were not exactly matched. Will use API to query')\n",
    "\treturn to_api_query_list"
   ]
  },
  {
   "cell_type": "code",
   "execution_count": 32,
   "id": "069638b5",
   "metadata": {},
   "outputs": [
    {
     "name": "stdout",
     "output_type": "stream",
     "text": [
      "2588 affiliations were not exactly matched. Will use API to query\n"
     ]
    }
   ],
   "source": [
    "to_api_query_list = get_to_api_query_list(\n",
    "\t\tdedup_affs_to_predict, exact_match_dic)"
   ]
  },
  {
   "cell_type": "code",
   "execution_count": 33,
   "id": "4e39dcf1",
   "metadata": {},
   "outputs": [
    {
     "data": {
      "text/plain": [
       "['faculty of statistical demographical and social sciences university of padova',\n",
       " 'panamericana university mexico city mexico',\n",
       " 'maudie l graham is assistant professor in the department of communication at the university of wisconsin milwaukee',\n",
       " 'department of communication at purdue university',\n",
       " 'paolo mancini is an associate professor at the istituto di studi sociali universit di perugia italy',\n",
       " 'department of design communication and media it university copenhagen',\n",
       " 'barbara j wilson is professor in the department of communication university of california santa barbara',\n",
       " 'boston',\n",
       " 'department of educational psychology university of wisconsin madison madison wi',\n",
       " 'professor for information systems at the university of muenster germany his main areas of research are the development and impact of inter organizational systems and electronic commerce he is co organizer of the research symposium on electronic markets research track chair of the bled international conference on electronic commerce and program committee member of several international is conferences he is member of the editorial board of european journal of information systems electronic journal of organizational virtualness em electronic markets e services quarterly informatik informatique international journal of electronic commerce and information technology amp tourism']"
      ]
     },
     "execution_count": 33,
     "metadata": {},
     "output_type": "execute_result"
    }
   ],
   "source": [
    "random.sample(to_api_query_list, 10)"
   ]
  },
  {
   "cell_type": "code",
   "execution_count": 34,
   "id": "bd1893b8",
   "metadata": {},
   "outputs": [],
   "source": [
    "def get_api_query_match_dic(to_api_query_list):\n",
    "    '''For affs not exactly matched, query through ror api and get the first result\n",
    "    Output:\n",
    "        a dictionary where keys are aff in to_api_query_list and value is \n",
    "        the matched ror affname in lower case\n",
    "    '''\n",
    "    api_query_match_dic = {}\n",
    "    api_query_matched = 0\n",
    "    for aff in to_api_query_list[0:10]:\n",
    "# \tfor aff in to_api_query_list:\n",
    "        idx = to_api_query_list.index(aff) + 1\n",
    "        response = requests.get('https://api.ror.org/organizations?query='+aff)\n",
    "        j = response.json()\n",
    "        try:\n",
    "            j = j['items'][0]\n",
    "            ror_matched_affname = j['name'].lower()\n",
    "            api_query_matched += 1\n",
    "        except:\n",
    "            ror_matched_affname = np.nan\n",
    "        api_query_match_dic[aff] = ror_matched_affname\n",
    "        print(f'{idx}/{len(to_api_query_list)} is done')\n",
    "    print(f'{api_query_matched} out of {len(to_api_query_list)} have been identified and matched on ROR')\n",
    "    return api_query_match_dic"
   ]
  },
  {
   "cell_type": "code",
   "execution_count": 35,
   "id": "274eb76c",
   "metadata": {},
   "outputs": [
    {
     "name": "stdout",
     "output_type": "stream",
     "text": [
      "1/2588 is done\n",
      "2/2588 is done\n",
      "3/2588 is done\n",
      "4/2588 is done\n",
      "5/2588 is done\n",
      "6/2588 is done\n",
      "7/2588 is done\n",
      "8/2588 is done\n",
      "9/2588 is done\n",
      "10/2588 is done\n",
      "10 out of 2588 have been identified and matched on ROR\n"
     ]
    }
   ],
   "source": [
    "api_query_match_dic = get_api_query_match_dic(to_api_query_list)"
   ]
  },
  {
   "cell_type": "markdown",
   "id": "1f8460e2",
   "metadata": {},
   "source": [
    "### Update race_pred"
   ]
  },
  {
   "cell_type": "code",
   "execution_count": 36,
   "id": "f75c66c4",
   "metadata": {},
   "outputs": [],
   "source": [
    "def get_match_method(aff_processed, exact_match_dic, api_query_match_dic):\n",
    "    \"\"\"add a column called \"matchMethod\" in race_pred\n",
    "    The match method should be either 'Exact', 'API_QUERY', or np.nan\n",
    "    \"\"\"\n",
    "    if aff_processed in exact_match_dic.keys():\n",
    "        return 'Exact'\n",
    "    elif aff_processed in api_query_match_dic.keys():\n",
    "        print('good')\n",
    "        return 'API_QUERY'\n",
    "    else:\n",
    "        return np.nan"
   ]
  },
  {
   "cell_type": "code",
   "execution_count": 37,
   "id": "11d6c026",
   "metadata": {},
   "outputs": [
    {
     "name": "stdout",
     "output_type": "stream",
     "text": [
      "good\n",
      "good\n",
      "good\n",
      "good\n",
      "good\n",
      "good\n",
      "good\n",
      "good\n",
      "good\n",
      "good\n",
      "good\n",
      "good\n"
     ]
    }
   ],
   "source": [
    "race_pred['matchMethod'] = race_pred['affProcessed'].apply(\n",
    "    get_match_method, \n",
    "    args=(exact_match_dic, api_query_match_dic)\n",
    ")"
   ]
  },
  {
   "cell_type": "code",
   "execution_count": 38,
   "id": "dd67adc0",
   "metadata": {},
   "outputs": [],
   "source": [
    "combined_dic = dict(list(exact_match_dic.items()) + list(api_query_match_dic.items()))"
   ]
  },
  {
   "cell_type": "code",
   "execution_count": 39,
   "id": "91e60718",
   "metadata": {},
   "outputs": [],
   "source": [
    "def get_matched_ror_affname(aff_processed, combined_dic, ror_lower_upper_dic):\n",
    "    \"\"\"get corresponding ror affname in upper case\n",
    "    \"\"\"\n",
    "    try:\n",
    "        lower_ror_affname = combined_dic[aff_processed]\n",
    "        return ror_lower_upper_dic[lower_ror_affname]\n",
    "    except:\n",
    "        return np.nan"
   ]
  },
  {
   "cell_type": "code",
   "execution_count": 40,
   "id": "57ba02c3",
   "metadata": {},
   "outputs": [],
   "source": [
    "race_pred['ROR_AFFNAME'] = race_pred['affProcessed'].apply(\n",
    "    get_matched_ror_affname, \n",
    "    args=(combined_dic, ror_lower_upper_dic)\n",
    ")"
   ]
  },
  {
   "cell_type": "code",
   "execution_count": 41,
   "id": "820fb5e6",
   "metadata": {},
   "outputs": [],
   "source": [
    "def get_ror_id(ror_affname, ror_upper_id_dic):\n",
    "    try:\n",
    "        return ror_upper_id_dic[ror_affname]\n",
    "    except:\n",
    "        return np.nan"
   ]
  },
  {
   "cell_type": "code",
   "execution_count": 42,
   "id": "e0419f9b",
   "metadata": {},
   "outputs": [],
   "source": [
    "race_pred['ROR_ID'] = race_pred['ROR_AFFNAME'].apply(\n",
    "    get_ror_id,\n",
    "    args=(ror_upper_id_dic, )\n",
    ")"
   ]
  },
  {
   "cell_type": "code",
   "execution_count": 59,
   "id": "8a6a54a7",
   "metadata": {},
   "outputs": [],
   "source": [
    "def get_gscholarLink(row):\n",
    "    # add google scholar link\n",
    "    gscholar_str = 'https://scholar.google.com/scholar?hl=en&as_sdt=0%252C50&q='\n",
    "    if str(row['firstName']) != 'nan' and str(row['lastName']) != 'nan':\n",
    "        gscholarLink = gscholar_str + str(row['firstName']) + '+' + str(row['lastName'])\n",
    "    else:\n",
    "        gscholarLink = np.nan\n",
    "    return gscholarLink"
   ]
  },
  {
   "cell_type": "code",
   "execution_count": 60,
   "id": "4a41b611",
   "metadata": {},
   "outputs": [],
   "source": [
    "race_pred['gscholarLink'] = race_pred.apply(get_gscholarLink, axis = 1)"
   ]
  },
  {
   "cell_type": "code",
   "execution_count": 61,
   "id": "693fafc7",
   "metadata": {},
   "outputs": [
    {
     "data": {
      "text/html": [
       "<div>\n",
       "<style scoped>\n",
       "    .dataframe tbody tr th:only-of-type {\n",
       "        vertical-align: middle;\n",
       "    }\n",
       "\n",
       "    .dataframe tbody tr th {\n",
       "        vertical-align: top;\n",
       "    }\n",
       "\n",
       "    .dataframe thead th {\n",
       "        text-align: right;\n",
       "    }\n",
       "</style>\n",
       "<table border=\"1\" class=\"dataframe\">\n",
       "  <thead>\n",
       "    <tr style=\"text-align: right;\">\n",
       "      <th></th>\n",
       "      <th>doi</th>\n",
       "      <th>url</th>\n",
       "      <th>year</th>\n",
       "      <th>title</th>\n",
       "      <th>journal</th>\n",
       "      <th>datePublished</th>\n",
       "      <th>authorFullName</th>\n",
       "      <th>firstName</th>\n",
       "      <th>lastName</th>\n",
       "      <th>numberOfAuthors</th>\n",
       "      <th>...</th>\n",
       "      <th>race</th>\n",
       "      <th>raceHighest</th>\n",
       "      <th>raceSecondHighest</th>\n",
       "      <th>raceDiff</th>\n",
       "      <th>racePredAccuracy</th>\n",
       "      <th>affProcessed</th>\n",
       "      <th>matchMethod</th>\n",
       "      <th>ROR_AFFNAME</th>\n",
       "      <th>ROR_ID</th>\n",
       "      <th>gscholarLink</th>\n",
       "    </tr>\n",
       "  </thead>\n",
       "  <tbody>\n",
       "    <tr>\n",
       "      <th>0</th>\n",
       "      <td>10.1093/joc/jqac004</td>\n",
       "      <td>https://academic.oup.com/joc/article/72/3/297/...</td>\n",
       "      <td>2022</td>\n",
       "      <td>The Gender Divide in Wikipedia: Quantifying an...</td>\n",
       "      <td>Journal of Communication</td>\n",
       "      <td>2022-02-16</td>\n",
       "      <td>Isabelle Langrock</td>\n",
       "      <td>Isabelle</td>\n",
       "      <td>Langrock</td>\n",
       "      <td>2.0</td>\n",
       "      <td>...</td>\n",
       "      <td>white</td>\n",
       "      <td>0.895760</td>\n",
       "      <td>0.066429</td>\n",
       "      <td>0.829331</td>\n",
       "      <td>High</td>\n",
       "      <td>annenberg school for communication university ...</td>\n",
       "      <td>Exact</td>\n",
       "      <td>University of Pennsylvania</td>\n",
       "      <td>https://ror.org/00b30xv10</td>\n",
       "      <td>https://scholar.google.com/scholar?hl=en&amp;as_sd...</td>\n",
       "    </tr>\n",
       "    <tr>\n",
       "      <th>1</th>\n",
       "      <td>10.1093/joc/jqac004</td>\n",
       "      <td>https://academic.oup.com/joc/article/72/3/297/...</td>\n",
       "      <td>2022</td>\n",
       "      <td>The Gender Divide in Wikipedia: Quantifying an...</td>\n",
       "      <td>Journal of Communication</td>\n",
       "      <td>2022-02-16</td>\n",
       "      <td>Sandra González-Bailón</td>\n",
       "      <td>Sandra</td>\n",
       "      <td>González-Bailón</td>\n",
       "      <td>2.0</td>\n",
       "      <td>...</td>\n",
       "      <td>hispanic</td>\n",
       "      <td>0.979183</td>\n",
       "      <td>0.010406</td>\n",
       "      <td>0.968777</td>\n",
       "      <td>High</td>\n",
       "      <td>annenberg school for communication university ...</td>\n",
       "      <td>Exact</td>\n",
       "      <td>University of Pennsylvania</td>\n",
       "      <td>https://ror.org/00b30xv10</td>\n",
       "      <td>https://scholar.google.com/scholar?hl=en&amp;as_sd...</td>\n",
       "    </tr>\n",
       "    <tr>\n",
       "      <th>2</th>\n",
       "      <td>10.1093/joc/jqac009</td>\n",
       "      <td>https://academic.oup.com/joc/article/72/3/322/...</td>\n",
       "      <td>2022</td>\n",
       "      <td>Mapping Exposure Diversity: The Divergent Effe...</td>\n",
       "      <td>Journal of Communication</td>\n",
       "      <td>2022-03-16</td>\n",
       "      <td>Pascal Jürgens</td>\n",
       "      <td>Pascal</td>\n",
       "      <td>Jürgens</td>\n",
       "      <td>2.0</td>\n",
       "      <td>...</td>\n",
       "      <td>white</td>\n",
       "      <td>0.873102</td>\n",
       "      <td>0.088763</td>\n",
       "      <td>0.784340</td>\n",
       "      <td>High</td>\n",
       "      <td>department of communication jakob welder weg j...</td>\n",
       "      <td>NaN</td>\n",
       "      <td>NaN</td>\n",
       "      <td>NaN</td>\n",
       "      <td>https://scholar.google.com/scholar?hl=en&amp;as_sd...</td>\n",
       "    </tr>\n",
       "    <tr>\n",
       "      <th>3</th>\n",
       "      <td>10.1093/joc/jqac009</td>\n",
       "      <td>https://academic.oup.com/joc/article/72/3/322/...</td>\n",
       "      <td>2022</td>\n",
       "      <td>Mapping Exposure Diversity: The Divergent Effe...</td>\n",
       "      <td>Journal of Communication</td>\n",
       "      <td>2022-03-16</td>\n",
       "      <td>Birgit Stark</td>\n",
       "      <td>Birgit</td>\n",
       "      <td>Stark</td>\n",
       "      <td>2.0</td>\n",
       "      <td>...</td>\n",
       "      <td>white</td>\n",
       "      <td>0.927664</td>\n",
       "      <td>0.043421</td>\n",
       "      <td>0.884243</td>\n",
       "      <td>High</td>\n",
       "      <td>department of communication jakob welder weg j...</td>\n",
       "      <td>NaN</td>\n",
       "      <td>NaN</td>\n",
       "      <td>NaN</td>\n",
       "      <td>https://scholar.google.com/scholar?hl=en&amp;as_sd...</td>\n",
       "    </tr>\n",
       "    <tr>\n",
       "      <th>4</th>\n",
       "      <td>10.1093/joc/jqac008</td>\n",
       "      <td>https://academic.oup.com/joc/article/72/3/345/...</td>\n",
       "      <td>2022</td>\n",
       "      <td>Democratic Consequences of Incidental Exposure...</td>\n",
       "      <td>Journal of Communication</td>\n",
       "      <td>2022-03-17</td>\n",
       "      <td>Andreas Nanz</td>\n",
       "      <td>Andreas</td>\n",
       "      <td>Nanz</td>\n",
       "      <td>2.0</td>\n",
       "      <td>...</td>\n",
       "      <td>white</td>\n",
       "      <td>0.663489</td>\n",
       "      <td>0.185628</td>\n",
       "      <td>0.477861</td>\n",
       "      <td>Low</td>\n",
       "      <td>department of communication university of vien...</td>\n",
       "      <td>Exact</td>\n",
       "      <td>University of Vienna</td>\n",
       "      <td>https://ror.org/03prydq77</td>\n",
       "      <td>https://scholar.google.com/scholar?hl=en&amp;as_sd...</td>\n",
       "    </tr>\n",
       "    <tr>\n",
       "      <th>...</th>\n",
       "      <td>...</td>\n",
       "      <td>...</td>\n",
       "      <td>...</td>\n",
       "      <td>...</td>\n",
       "      <td>...</td>\n",
       "      <td>...</td>\n",
       "      <td>...</td>\n",
       "      <td>...</td>\n",
       "      <td>...</td>\n",
       "      <td>...</td>\n",
       "      <td>...</td>\n",
       "      <td>...</td>\n",
       "      <td>...</td>\n",
       "      <td>...</td>\n",
       "      <td>...</td>\n",
       "      <td>...</td>\n",
       "      <td>...</td>\n",
       "      <td>...</td>\n",
       "      <td>...</td>\n",
       "      <td>...</td>\n",
       "      <td>...</td>\n",
       "    </tr>\n",
       "    <tr>\n",
       "      <th>13598</th>\n",
       "      <td>10.1111/j.1753-9137.2007.00010.x</td>\n",
       "      <td>https://academic.oup.com/ccc/article/1/1/92/40...</td>\n",
       "      <td>2008</td>\n",
       "      <td>Crossing Boundaries: New Media and Networked J...</td>\n",
       "      <td>Communication, Culture and Critique</td>\n",
       "      <td>2008-02-29</td>\n",
       "      <td>Robin Mansell</td>\n",
       "      <td>Robin</td>\n",
       "      <td>Mansell</td>\n",
       "      <td>2.0</td>\n",
       "      <td>...</td>\n",
       "      <td>white</td>\n",
       "      <td>0.910091</td>\n",
       "      <td>0.054096</td>\n",
       "      <td>0.855996</td>\n",
       "      <td>High</td>\n",
       "      <td>department of media and communications london ...</td>\n",
       "      <td>Exact</td>\n",
       "      <td>London School of Economics and Political Science</td>\n",
       "      <td>https://ror.org/0090zs177</td>\n",
       "      <td>https://scholar.google.com/scholar?hl=en&amp;as_sd...</td>\n",
       "    </tr>\n",
       "    <tr>\n",
       "      <th>13599</th>\n",
       "      <td>10.1111/j.1753-9137.2007.00011.x</td>\n",
       "      <td>https://academic.oup.com/ccc/article/1/1/105/4...</td>\n",
       "      <td>2008</td>\n",
       "      <td>Knowledge Workers of the World! Unite?</td>\n",
       "      <td>Communication, Culture and Critique</td>\n",
       "      <td>2008-02-29</td>\n",
       "      <td>Vincent Mosco</td>\n",
       "      <td>Vincent</td>\n",
       "      <td>Mosco</td>\n",
       "      <td>1.0</td>\n",
       "      <td>...</td>\n",
       "      <td>white</td>\n",
       "      <td>0.882340</td>\n",
       "      <td>0.054859</td>\n",
       "      <td>0.827481</td>\n",
       "      <td>High</td>\n",
       "      <td>department of sociology queen s university kin...</td>\n",
       "      <td>NaN</td>\n",
       "      <td>NaN</td>\n",
       "      <td>NaN</td>\n",
       "      <td>https://scholar.google.com/scholar?hl=en&amp;as_sd...</td>\n",
       "    </tr>\n",
       "    <tr>\n",
       "      <th>13600</th>\n",
       "      <td>10.1111/j.1753-9137.2007.00012.x</td>\n",
       "      <td>https://academic.oup.com/ccc/article/1/1/116/4...</td>\n",
       "      <td>2008</td>\n",
       "      <td>The Other Sides of Globalization: Communicatio...</td>\n",
       "      <td>Communication, Culture and Critique</td>\n",
       "      <td>2008-02-29</td>\n",
       "      <td>Radhika Parameswaran</td>\n",
       "      <td>Radhika</td>\n",
       "      <td>Parameswaran</td>\n",
       "      <td>1.0</td>\n",
       "      <td>...</td>\n",
       "      <td>api</td>\n",
       "      <td>0.850295</td>\n",
       "      <td>0.137539</td>\n",
       "      <td>0.712756</td>\n",
       "      <td>High</td>\n",
       "      <td>school of journalism indiana university bloomi...</td>\n",
       "      <td>Exact</td>\n",
       "      <td>Indiana University</td>\n",
       "      <td>https://ror.org/01kg8sb98</td>\n",
       "      <td>https://scholar.google.com/scholar?hl=en&amp;as_sd...</td>\n",
       "    </tr>\n",
       "    <tr>\n",
       "      <th>13601</th>\n",
       "      <td>10.1111/j.1753-9137.2007.00013.x</td>\n",
       "      <td>https://academic.oup.com/ccc/article/1/1/126/4...</td>\n",
       "      <td>2008</td>\n",
       "      <td>The Militarization of U.S. Communications</td>\n",
       "      <td>Communication, Culture and Critique</td>\n",
       "      <td>2008-02-29</td>\n",
       "      <td>Dan Schiller</td>\n",
       "      <td>Dan</td>\n",
       "      <td>Schiller</td>\n",
       "      <td>1.0</td>\n",
       "      <td>...</td>\n",
       "      <td>white</td>\n",
       "      <td>0.965455</td>\n",
       "      <td>0.022555</td>\n",
       "      <td>0.942900</td>\n",
       "      <td>High</td>\n",
       "      <td>department of speech communication and graduat...</td>\n",
       "      <td>NaN</td>\n",
       "      <td>NaN</td>\n",
       "      <td>NaN</td>\n",
       "      <td>https://scholar.google.com/scholar?hl=en&amp;as_sd...</td>\n",
       "    </tr>\n",
       "    <tr>\n",
       "      <th>13602</th>\n",
       "      <td>10.1111/j.1753-9137.2008.00015.x</td>\n",
       "      <td>https://academic.oup.com/ccc/article/1/1/139/4...</td>\n",
       "      <td>2008</td>\n",
       "      <td>Contributors’ Biographies</td>\n",
       "      <td>Communication, Culture and Critique</td>\n",
       "      <td>2008-02-29</td>\n",
       "      <td>NaN</td>\n",
       "      <td>NaN</td>\n",
       "      <td>NaN</td>\n",
       "      <td>NaN</td>\n",
       "      <td>...</td>\n",
       "      <td>api</td>\n",
       "      <td>0.461375</td>\n",
       "      <td>0.384294</td>\n",
       "      <td>0.077081</td>\n",
       "      <td>Low</td>\n",
       "      <td>NaN</td>\n",
       "      <td>NaN</td>\n",
       "      <td>NaN</td>\n",
       "      <td>NaN</td>\n",
       "      <td>NaN</td>\n",
       "    </tr>\n",
       "  </tbody>\n",
       "</table>\n",
       "<p>13603 rows × 30 columns</p>\n",
       "</div>"
      ],
      "text/plain": [
       "                                    doi  \\\n",
       "0                   10.1093/joc/jqac004   \n",
       "1                   10.1093/joc/jqac004   \n",
       "2                   10.1093/joc/jqac009   \n",
       "3                   10.1093/joc/jqac009   \n",
       "4                   10.1093/joc/jqac008   \n",
       "...                                 ...   \n",
       "13598  10.1111/j.1753-9137.2007.00010.x   \n",
       "13599  10.1111/j.1753-9137.2007.00011.x   \n",
       "13600  10.1111/j.1753-9137.2007.00012.x   \n",
       "13601  10.1111/j.1753-9137.2007.00013.x   \n",
       "13602  10.1111/j.1753-9137.2008.00015.x   \n",
       "\n",
       "                                                     url  year  \\\n",
       "0      https://academic.oup.com/joc/article/72/3/297/...  2022   \n",
       "1      https://academic.oup.com/joc/article/72/3/297/...  2022   \n",
       "2      https://academic.oup.com/joc/article/72/3/322/...  2022   \n",
       "3      https://academic.oup.com/joc/article/72/3/322/...  2022   \n",
       "4      https://academic.oup.com/joc/article/72/3/345/...  2022   \n",
       "...                                                  ...   ...   \n",
       "13598  https://academic.oup.com/ccc/article/1/1/92/40...  2008   \n",
       "13599  https://academic.oup.com/ccc/article/1/1/105/4...  2008   \n",
       "13600  https://academic.oup.com/ccc/article/1/1/116/4...  2008   \n",
       "13601  https://academic.oup.com/ccc/article/1/1/126/4...  2008   \n",
       "13602  https://academic.oup.com/ccc/article/1/1/139/4...  2008   \n",
       "\n",
       "                                                   title  \\\n",
       "0      The Gender Divide in Wikipedia: Quantifying an...   \n",
       "1      The Gender Divide in Wikipedia: Quantifying an...   \n",
       "2      Mapping Exposure Diversity: The Divergent Effe...   \n",
       "3      Mapping Exposure Diversity: The Divergent Effe...   \n",
       "4      Democratic Consequences of Incidental Exposure...   \n",
       "...                                                  ...   \n",
       "13598  Crossing Boundaries: New Media and Networked J...   \n",
       "13599             Knowledge Workers of the World! Unite?   \n",
       "13600  The Other Sides of Globalization: Communicatio...   \n",
       "13601          The Militarization of U.S. Communications   \n",
       "13602                          Contributors’ Biographies   \n",
       "\n",
       "                                   journal datePublished  \\\n",
       "0                 Journal of Communication    2022-02-16   \n",
       "1                 Journal of Communication    2022-02-16   \n",
       "2                 Journal of Communication    2022-03-16   \n",
       "3                 Journal of Communication    2022-03-16   \n",
       "4                 Journal of Communication    2022-03-17   \n",
       "...                                    ...           ...   \n",
       "13598  Communication, Culture and Critique    2008-02-29   \n",
       "13599  Communication, Culture and Critique    2008-02-29   \n",
       "13600  Communication, Culture and Critique    2008-02-29   \n",
       "13601  Communication, Culture and Critique    2008-02-29   \n",
       "13602  Communication, Culture and Critique    2008-02-29   \n",
       "\n",
       "               authorFullName firstName         lastName  numberOfAuthors  \\\n",
       "0           Isabelle Langrock  Isabelle         Langrock              2.0   \n",
       "1      Sandra González-Bailón    Sandra  González-Bailón              2.0   \n",
       "2              Pascal Jürgens    Pascal          Jürgens              2.0   \n",
       "3                Birgit Stark    Birgit            Stark              2.0   \n",
       "4                Andreas Nanz   Andreas             Nanz              2.0   \n",
       "...                       ...       ...              ...              ...   \n",
       "13598           Robin Mansell     Robin          Mansell              2.0   \n",
       "13599           Vincent Mosco   Vincent            Mosco              1.0   \n",
       "13600    Radhika Parameswaran   Radhika     Parameswaran              1.0   \n",
       "13601            Dan Schiller       Dan         Schiller              1.0   \n",
       "13602                     NaN       NaN              NaN              NaN   \n",
       "\n",
       "       ...      race raceHighest raceSecondHighest  raceDiff  \\\n",
       "0      ...     white    0.895760          0.066429  0.829331   \n",
       "1      ...  hispanic    0.979183          0.010406  0.968777   \n",
       "2      ...     white    0.873102          0.088763  0.784340   \n",
       "3      ...     white    0.927664          0.043421  0.884243   \n",
       "4      ...     white    0.663489          0.185628  0.477861   \n",
       "...    ...       ...         ...               ...       ...   \n",
       "13598  ...     white    0.910091          0.054096  0.855996   \n",
       "13599  ...     white    0.882340          0.054859  0.827481   \n",
       "13600  ...       api    0.850295          0.137539  0.712756   \n",
       "13601  ...     white    0.965455          0.022555  0.942900   \n",
       "13602  ...       api    0.461375          0.384294  0.077081   \n",
       "\n",
       "       racePredAccuracy                                       affProcessed  \\\n",
       "0                  High  annenberg school for communication university ...   \n",
       "1                  High  annenberg school for communication university ...   \n",
       "2                  High  department of communication jakob welder weg j...   \n",
       "3                  High  department of communication jakob welder weg j...   \n",
       "4                   Low  department of communication university of vien...   \n",
       "...                 ...                                                ...   \n",
       "13598              High  department of media and communications london ...   \n",
       "13599              High  department of sociology queen s university kin...   \n",
       "13600              High  school of journalism indiana university bloomi...   \n",
       "13601              High  department of speech communication and graduat...   \n",
       "13602               Low                                                NaN   \n",
       "\n",
       "       matchMethod                                       ROR_AFFNAME  \\\n",
       "0            Exact                        University of Pennsylvania   \n",
       "1            Exact                        University of Pennsylvania   \n",
       "2              NaN                                               NaN   \n",
       "3              NaN                                               NaN   \n",
       "4            Exact                              University of Vienna   \n",
       "...            ...                                               ...   \n",
       "13598        Exact  London School of Economics and Political Science   \n",
       "13599          NaN                                               NaN   \n",
       "13600        Exact                                Indiana University   \n",
       "13601          NaN                                               NaN   \n",
       "13602          NaN                                               NaN   \n",
       "\n",
       "                          ROR_ID  \\\n",
       "0      https://ror.org/00b30xv10   \n",
       "1      https://ror.org/00b30xv10   \n",
       "2                            NaN   \n",
       "3                            NaN   \n",
       "4      https://ror.org/03prydq77   \n",
       "...                          ...   \n",
       "13598  https://ror.org/0090zs177   \n",
       "13599                        NaN   \n",
       "13600  https://ror.org/01kg8sb98   \n",
       "13601                        NaN   \n",
       "13602                        NaN   \n",
       "\n",
       "                                            gscholarLink  \n",
       "0      https://scholar.google.com/scholar?hl=en&as_sd...  \n",
       "1      https://scholar.google.com/scholar?hl=en&as_sd...  \n",
       "2      https://scholar.google.com/scholar?hl=en&as_sd...  \n",
       "3      https://scholar.google.com/scholar?hl=en&as_sd...  \n",
       "4      https://scholar.google.com/scholar?hl=en&as_sd...  \n",
       "...                                                  ...  \n",
       "13598  https://scholar.google.com/scholar?hl=en&as_sd...  \n",
       "13599  https://scholar.google.com/scholar?hl=en&as_sd...  \n",
       "13600  https://scholar.google.com/scholar?hl=en&as_sd...  \n",
       "13601  https://scholar.google.com/scholar?hl=en&as_sd...  \n",
       "13602                                                NaN  \n",
       "\n",
       "[13603 rows x 30 columns]"
      ]
     },
     "execution_count": 61,
     "metadata": {},
     "output_type": "execute_result"
    }
   ],
   "source": [
    "race_pred"
   ]
  },
  {
   "cell_type": "code",
   "execution_count": null,
   "id": "4c267d4c",
   "metadata": {},
   "outputs": [],
   "source": []
  }
 ],
 "metadata": {
  "kernelspec": {
   "display_name": "Python 3 (ipykernel)",
   "language": "python",
   "name": "python3"
  },
  "language_info": {
   "codemirror_mode": {
    "name": "ipython",
    "version": 3
   },
   "file_extension": ".py",
   "mimetype": "text/x-python",
   "name": "python",
   "nbconvert_exporter": "python",
   "pygments_lexer": "ipython3",
   "version": "3.8.13"
  }
 },
 "nbformat": 4,
 "nbformat_minor": 5
}
