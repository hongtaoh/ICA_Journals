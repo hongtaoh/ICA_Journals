{
 "cells": [
  {
   "cell_type": "code",
   "execution_count": 43,
   "id": "c24597c1",
   "metadata": {},
   "outputs": [],
   "source": [
    "import pandas as pd\n",
    "import krippendorff\n",
    "import numpy as np"
   ]
  },
  {
   "cell_type": "code",
   "execution_count": 44,
   "id": "cde4ad58",
   "metadata": {},
   "outputs": [],
   "source": [
    "df = pd.read_csv('paper_class_icr_agg_results.csv')\n",
    "df.replace(['R', 'M'], [0,1], inplace=True)"
   ]
  },
  {
   "cell_type": "code",
   "execution_count": 45,
   "id": "e03f5527",
   "metadata": {},
   "outputs": [],
   "source": [
    "hongtao = df.hongtao.tolist()\n",
    "kristen = df.kristen.tolist()\n",
    "jeff = df.jeff.tolist()"
   ]
  },
  {
   "cell_type": "code",
   "execution_count": 46,
   "id": "7f202b1c",
   "metadata": {},
   "outputs": [
    {
     "data": {
      "text/plain": [
       "(100, 100, 100)"
      ]
     },
     "execution_count": 46,
     "metadata": {},
     "output_type": "execute_result"
    }
   ],
   "source": [
    "len(hongtao), len(kristen), len(jeff)"
   ]
  },
  {
   "cell_type": "code",
   "execution_count": 47,
   "id": "c51f670b",
   "metadata": {},
   "outputs": [
    {
     "data": {
      "text/plain": [
       "0.7374121779859485"
      ]
     },
     "execution_count": 47,
     "metadata": {},
     "output_type": "execute_result"
    }
   ],
   "source": [
    "krippendorff.alpha(reliability_data=[hongtao, kristen, jeff])"
   ]
  },
  {
   "cell_type": "code",
   "execution_count": 48,
   "id": "e4d94a8a",
   "metadata": {},
   "outputs": [],
   "source": [
    "df['Same'] = np.where(\n",
    "    (df.hongtao == df.jeff) & (df.jeff == df.kristen) & (df.hongtao == kristen), True, False)"
   ]
  },
  {
   "cell_type": "code",
   "execution_count": 49,
   "id": "84e456f2",
   "metadata": {},
   "outputs": [],
   "source": [
    "df.replace([0,1], ['R', 'M'], inplace=True)\n",
    "df.to_csv('paper_cla_ica_compa_results.csv', index=True)"
   ]
  },
  {
   "cell_type": "code",
   "execution_count": null,
   "id": "f456b232",
   "metadata": {},
   "outputs": [],
   "source": []
  }
 ],
 "metadata": {
  "kernelspec": {
   "display_name": "Python 3 (ipykernel)",
   "language": "python",
   "name": "python3"
  },
  "language_info": {
   "codemirror_mode": {
    "name": "ipython",
    "version": 3
   },
   "file_extension": ".py",
   "mimetype": "text/x-python",
   "name": "python",
   "nbconvert_exporter": "python",
   "pygments_lexer": "ipython3",
   "version": "3.8.13"
  }
 },
 "nbformat": 4,
 "nbformat_minor": 5
}
