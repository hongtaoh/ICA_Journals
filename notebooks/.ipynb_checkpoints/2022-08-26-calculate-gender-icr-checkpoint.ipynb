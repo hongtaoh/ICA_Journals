{
 "cells": [
  {
   "cell_type": "code",
   "execution_count": 51,
   "id": "c24597c1",
   "metadata": {},
   "outputs": [],
   "source": [
    "import pandas as pd\n",
    "import krippendorff\n",
    "import numpy as np"
   ]
  },
  {
   "cell_type": "code",
   "execution_count": 52,
   "id": "cde4ad58",
   "metadata": {},
   "outputs": [],
   "source": [
    "df = pd.read_csv('data/gener_icr_2022-08-23_full.csv')\n",
    "df = df.apply(lambda x: x.str.strip())\n",
    "df = df.apply(lambda x: x.str.lower())"
   ]
  },
  {
   "cell_type": "code",
   "execution_count": 53,
   "id": "6b2cde9a",
   "metadata": {},
   "outputs": [
    {
     "data": {
      "text/plain": [
       "haley                 [m, f]\n",
       "haleyp                [m, f]\n",
       "jeff               [m, f, u]\n",
       "jaemin             [m, f, u]\n",
       "matthew               [m, f]\n",
       "jongmin    [male, female, u]\n",
       "dtype: object"
      ]
     },
     "execution_count": 53,
     "metadata": {},
     "output_type": "execute_result"
    }
   ],
   "source": [
    "df.apply(pd.unique)"
   ]
  },
  {
   "cell_type": "code",
   "execution_count": 54,
   "id": "b445557d",
   "metadata": {},
   "outputs": [],
   "source": [
    "df.replace(['m', 'f', 'u'], [0,1,2], inplace=True)\n",
    "df.replace(['male', 'female'], [0,1], inplace=True)"
   ]
  },
  {
   "cell_type": "code",
   "execution_count": 55,
   "id": "e03f5527",
   "metadata": {},
   "outputs": [],
   "source": [
    "haley = df.haley.tolist()\n",
    "haleyp = df.haleyp.tolist()\n",
    "jeff = df.jeff.tolist()\n",
    "jaemin = df.jaemin.tolist()\n",
    "matthew = df.matthew.tolist()\n",
    "jongmin = df.jongmin.tolist()"
   ]
  },
  {
   "cell_type": "code",
   "execution_count": 56,
   "id": "7f202b1c",
   "metadata": {},
   "outputs": [
    {
     "data": {
      "text/plain": [
       "(200, 200, 200, 200, 200, 200)"
      ]
     },
     "execution_count": 56,
     "metadata": {},
     "output_type": "execute_result"
    }
   ],
   "source": [
    "len(haley), len(haleyp), len(jeff), len(jaemin), len(matthew), len(jongmin)"
   ]
  },
  {
   "cell_type": "code",
   "execution_count": 57,
   "id": "c51f670b",
   "metadata": {},
   "outputs": [
    {
     "data": {
      "text/plain": [
       "0.8772346309744975"
      ]
     },
     "execution_count": 57,
     "metadata": {},
     "output_type": "execute_result"
    }
   ],
   "source": [
    "krippendorff.alpha(reliability_data=[haley, haleyp, jeff, jaemin, matthew, jongmin])"
   ]
  },
  {
   "cell_type": "code",
   "execution_count": 58,
   "id": "e4d94a8a",
   "metadata": {},
   "outputs": [
    {
     "data": {
      "text/html": [
       "<div>\n",
       "<style scoped>\n",
       "    .dataframe tbody tr th:only-of-type {\n",
       "        vertical-align: middle;\n",
       "    }\n",
       "\n",
       "    .dataframe tbody tr th {\n",
       "        vertical-align: top;\n",
       "    }\n",
       "\n",
       "    .dataframe thead th {\n",
       "        text-align: right;\n",
       "    }\n",
       "</style>\n",
       "<table border=\"1\" class=\"dataframe\">\n",
       "  <thead>\n",
       "    <tr style=\"text-align: right;\">\n",
       "      <th></th>\n",
       "      <th>haley</th>\n",
       "      <th>haleyp</th>\n",
       "      <th>jeff</th>\n",
       "      <th>jaemin</th>\n",
       "      <th>matthew</th>\n",
       "      <th>jongmin</th>\n",
       "      <th>Same</th>\n",
       "    </tr>\n",
       "  </thead>\n",
       "  <tbody>\n",
       "    <tr>\n",
       "      <th>0</th>\n",
       "      <td>0</td>\n",
       "      <td>0</td>\n",
       "      <td>0</td>\n",
       "      <td>0</td>\n",
       "      <td>0</td>\n",
       "      <td>0</td>\n",
       "      <td>True</td>\n",
       "    </tr>\n",
       "    <tr>\n",
       "      <th>1</th>\n",
       "      <td>1</td>\n",
       "      <td>1</td>\n",
       "      <td>1</td>\n",
       "      <td>1</td>\n",
       "      <td>1</td>\n",
       "      <td>1</td>\n",
       "      <td>True</td>\n",
       "    </tr>\n",
       "    <tr>\n",
       "      <th>2</th>\n",
       "      <td>1</td>\n",
       "      <td>1</td>\n",
       "      <td>1</td>\n",
       "      <td>1</td>\n",
       "      <td>1</td>\n",
       "      <td>1</td>\n",
       "      <td>True</td>\n",
       "    </tr>\n",
       "    <tr>\n",
       "      <th>3</th>\n",
       "      <td>0</td>\n",
       "      <td>0</td>\n",
       "      <td>0</td>\n",
       "      <td>0</td>\n",
       "      <td>0</td>\n",
       "      <td>0</td>\n",
       "      <td>True</td>\n",
       "    </tr>\n",
       "    <tr>\n",
       "      <th>4</th>\n",
       "      <td>1</td>\n",
       "      <td>1</td>\n",
       "      <td>1</td>\n",
       "      <td>1</td>\n",
       "      <td>1</td>\n",
       "      <td>1</td>\n",
       "      <td>True</td>\n",
       "    </tr>\n",
       "    <tr>\n",
       "      <th>...</th>\n",
       "      <td>...</td>\n",
       "      <td>...</td>\n",
       "      <td>...</td>\n",
       "      <td>...</td>\n",
       "      <td>...</td>\n",
       "      <td>...</td>\n",
       "      <td>...</td>\n",
       "    </tr>\n",
       "    <tr>\n",
       "      <th>195</th>\n",
       "      <td>1</td>\n",
       "      <td>1</td>\n",
       "      <td>1</td>\n",
       "      <td>1</td>\n",
       "      <td>1</td>\n",
       "      <td>1</td>\n",
       "      <td>True</td>\n",
       "    </tr>\n",
       "    <tr>\n",
       "      <th>196</th>\n",
       "      <td>1</td>\n",
       "      <td>1</td>\n",
       "      <td>1</td>\n",
       "      <td>1</td>\n",
       "      <td>1</td>\n",
       "      <td>1</td>\n",
       "      <td>True</td>\n",
       "    </tr>\n",
       "    <tr>\n",
       "      <th>197</th>\n",
       "      <td>0</td>\n",
       "      <td>0</td>\n",
       "      <td>0</td>\n",
       "      <td>2</td>\n",
       "      <td>0</td>\n",
       "      <td>0</td>\n",
       "      <td>False</td>\n",
       "    </tr>\n",
       "    <tr>\n",
       "      <th>198</th>\n",
       "      <td>0</td>\n",
       "      <td>0</td>\n",
       "      <td>0</td>\n",
       "      <td>0</td>\n",
       "      <td>0</td>\n",
       "      <td>0</td>\n",
       "      <td>True</td>\n",
       "    </tr>\n",
       "    <tr>\n",
       "      <th>199</th>\n",
       "      <td>1</td>\n",
       "      <td>1</td>\n",
       "      <td>1</td>\n",
       "      <td>1</td>\n",
       "      <td>1</td>\n",
       "      <td>1</td>\n",
       "      <td>True</td>\n",
       "    </tr>\n",
       "  </tbody>\n",
       "</table>\n",
       "<p>200 rows × 7 columns</p>\n",
       "</div>"
      ],
      "text/plain": [
       "     haley  haleyp  jeff  jaemin  matthew  jongmin   Same\n",
       "0        0       0     0       0        0        0   True\n",
       "1        1       1     1       1        1        1   True\n",
       "2        1       1     1       1        1        1   True\n",
       "3        0       0     0       0        0        0   True\n",
       "4        1       1     1       1        1        1   True\n",
       "..     ...     ...   ...     ...      ...      ...    ...\n",
       "195      1       1     1       1        1        1   True\n",
       "196      1       1     1       1        1        1   True\n",
       "197      0       0     0       2        0        0  False\n",
       "198      0       0     0       0        0        0   True\n",
       "199      1       1     1       1        1        1   True\n",
       "\n",
       "[200 rows x 7 columns]"
      ]
     },
     "execution_count": 58,
     "metadata": {},
     "output_type": "execute_result"
    }
   ],
   "source": [
    "df['Same'] = df.apply(lambda row: len(np.unique(row)) == 1, axis=1)\n",
    "df"
   ]
  },
  {
   "cell_type": "code",
   "execution_count": 59,
   "id": "84e456f2",
   "metadata": {},
   "outputs": [],
   "source": [
    "df.replace([0,1,2], ['M', 'F', 'U'], inplace=True)\n",
    "df.to_csv('data/gender_compa_results_2022-08-26.csv', index=True)"
   ]
  }
 ],
 "metadata": {
  "kernelspec": {
   "display_name": "Python 3 (ipykernel)",
   "language": "python",
   "name": "python3"
  },
  "language_info": {
   "codemirror_mode": {
    "name": "ipython",
    "version": 3
   },
   "file_extension": ".py",
   "mimetype": "text/x-python",
   "name": "python",
   "nbconvert_exporter": "python",
   "pygments_lexer": "ipython3",
   "version": "3.8.13"
  }
 },
 "nbformat": 4,
 "nbformat_minor": 5
}
