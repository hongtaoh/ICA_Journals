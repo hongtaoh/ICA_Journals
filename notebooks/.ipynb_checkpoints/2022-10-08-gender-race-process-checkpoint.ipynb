{
 "cells": [
  {
   "cell_type": "code",
   "execution_count": 70,
   "id": "e0cf26b1",
   "metadata": {},
   "outputs": [],
   "source": [
    "import pandas as pd\n",
    "pd.set_option('display.max_rows', 500)\n",
    "pd.set_option('display.max_columns', None)\n",
    "pd.set_option('display.max_colwidth', None)\n",
    "import seaborn as sns\n",
    "import matplotlib.pyplot as plt"
   ]
  },
  {
   "cell_type": "code",
   "execution_count": 87,
   "id": "d6d738a0",
   "metadata": {},
   "outputs": [],
   "source": [
    "names = ['haley', 'jongmin', 'jaemin', 'jeff', 'matthew', 'michelle']\n",
    "data_dir = '../data/interim/gender_race_result'"
   ]
  },
  {
   "cell_type": "code",
   "execution_count": 88,
   "id": "788e1945",
   "metadata": {},
   "outputs": [],
   "source": [
    "haley = pd.read_csv(f'{data_dir}/haley.csv')\n",
    "matthew = pd.read_csv(f'{data_dir}/matthew.csv')\n",
    "michelle = pd.read_csv(f'{data_dir}/michelle.csv')\n",
    "jeff = pd.read_csv(f'{data_dir}/jeff.csv')\n",
    "jongmin = pd.read_csv(f'{data_dir}/jongmin.csv')\n",
    "jaemin = pd.read_csv(f'{data_dir}/jaemin.csv')"
   ]
  },
  {
   "cell_type": "code",
   "execution_count": 89,
   "id": "e1ebc2af",
   "metadata": {},
   "outputs": [
    {
     "data": {
      "text/plain": [
       "({'F', 'M', 'N'}, {0.0, 1.0, 2.0, 3.0, 4.0, 5.0})"
      ]
     },
     "execution_count": 89,
     "metadata": {},
     "output_type": "execute_result"
    }
   ],
   "source": [
    "haley = haley[haley.year >= 2010][['authorID', 'gender_prediction', 'race_prediction']]\n",
    "set(haley.gender_prediction), set(haley.race_prediction)"
   ]
  },
  {
   "cell_type": "code",
   "execution_count": 90,
   "id": "a742a778",
   "metadata": {},
   "outputs": [
    {
     "data": {
      "text/plain": [
       "({'F', 'M', 'f', 'm', 'n'}, {0.0, 1.0, 2.0, 3.0, 4.0})"
      ]
     },
     "execution_count": 90,
     "metadata": {},
     "output_type": "execute_result"
    }
   ],
   "source": [
    "matthew = matthew[matthew.year >= 2010][['authorID', 'gender_prediction', 'race_prediction']]\n",
    "set(matthew.gender_prediction), set(matthew.race_prediction)"
   ]
  },
  {
   "cell_type": "code",
   "execution_count": 91,
   "id": "4794437e",
   "metadata": {},
   "outputs": [
    {
     "data": {
      "text/plain": [
       "({'F', 'M'}, {0.0, 1.0, 2.0, 3.0})"
      ]
     },
     "execution_count": 91,
     "metadata": {},
     "output_type": "execute_result"
    }
   ],
   "source": [
    "jeff = jeff[jeff.year >= 2010][['authorID', 'gender_prediction', 'race_prediction']]\n",
    "set(jeff.gender_prediction), set(jeff.race_prediction)"
   ]
  },
  {
   "cell_type": "code",
   "execution_count": 92,
   "id": "001defcd",
   "metadata": {},
   "outputs": [
    {
     "data": {
      "text/plain": [
       "({'F', 'M'}, {0.0, 1.0, 2.0, 3.0, 4.0, 5.0})"
      ]
     },
     "execution_count": 92,
     "metadata": {},
     "output_type": "execute_result"
    }
   ],
   "source": [
    "michelle = michelle[michelle.year >= 2010][['authorID', 'gender_prediction', 'race_prediction']]\n",
    "set(michelle.gender_prediction), set(michelle.race_prediction)"
   ]
  },
  {
   "cell_type": "code",
   "execution_count": 93,
   "id": "068eb9e8",
   "metadata": {},
   "outputs": [
    {
     "data": {
      "text/plain": [
       "({'F', 'M', 'N'}, {0.0, 1.0, 2.0, 3.0, 4.0, 5.0})"
      ]
     },
     "execution_count": 93,
     "metadata": {},
     "output_type": "execute_result"
    }
   ],
   "source": [
    "jaemin = jaemin[jaemin.year >= 2010][['authorID', 'gender_prediction', 'race_prediction']]\n",
    "set(jaemin.gender_prediction), set(jaemin.race_prediction)"
   ]
  },
  {
   "cell_type": "code",
   "execution_count": 94,
   "id": "1b8d15b3",
   "metadata": {},
   "outputs": [
    {
     "data": {
      "text/plain": [
       "({'F', 'M'}, {0.0, 1.0, 2.0, 3.0, 4.0, 5.0})"
      ]
     },
     "execution_count": 94,
     "metadata": {},
     "output_type": "execute_result"
    }
   ],
   "source": [
    "jongmin = jongmin[jongmin.year >= 2010][['authorID', 'gender_prediction', 'race_prediction']]\n",
    "set(jongmin.gender_prediction), set(jongmin.race_prediction)"
   ]
  },
  {
   "cell_type": "code",
   "execution_count": 95,
   "id": "112fe686",
   "metadata": {},
   "outputs": [],
   "source": [
    "authorid_gender_dict = {}"
   ]
  },
  {
   "cell_type": "code",
   "execution_count": 99,
   "id": "66753ba2",
   "metadata": {},
   "outputs": [
    {
     "data": {
      "text/html": [
       "<div>\n",
       "<style scoped>\n",
       "    .dataframe tbody tr th:only-of-type {\n",
       "        vertical-align: middle;\n",
       "    }\n",
       "\n",
       "    .dataframe tbody tr th {\n",
       "        vertical-align: top;\n",
       "    }\n",
       "\n",
       "    .dataframe thead th {\n",
       "        text-align: right;\n",
       "    }\n",
       "</style>\n",
       "<table border=\"1\" class=\"dataframe\">\n",
       "  <thead>\n",
       "    <tr style=\"text-align: right;\">\n",
       "      <th></th>\n",
       "      <th>authorID</th>\n",
       "      <th>gender_prediction</th>\n",
       "      <th>race_prediction</th>\n",
       "    </tr>\n",
       "  </thead>\n",
       "  <tbody>\n",
       "    <tr>\n",
       "      <th>0</th>\n",
       "      <td>10.1093/jcmc/zmab024+1.0</td>\n",
       "      <td>M</td>\n",
       "      <td>1.0</td>\n",
       "    </tr>\n",
       "    <tr>\n",
       "      <th>1</th>\n",
       "      <td>10.1093/joc/jqab044+4.0</td>\n",
       "      <td>M</td>\n",
       "      <td>2.0</td>\n",
       "    </tr>\n",
       "    <tr>\n",
       "      <th>2</th>\n",
       "      <td>10.1093/hcr/hqab020+1.0</td>\n",
       "      <td>M</td>\n",
       "      <td>0.0</td>\n",
       "    </tr>\n",
       "    <tr>\n",
       "      <th>3</th>\n",
       "      <td>10.1093/hcr/hqac004+1.0</td>\n",
       "      <td>F</td>\n",
       "      <td>0.0</td>\n",
       "    </tr>\n",
       "    <tr>\n",
       "      <th>4</th>\n",
       "      <td>10.1093/jcmc/zmab019+5.0</td>\n",
       "      <td>F</td>\n",
       "      <td>0.0</td>\n",
       "    </tr>\n",
       "  </tbody>\n",
       "</table>\n",
       "</div>"
      ],
      "text/plain": [
       "                   authorID gender_prediction  race_prediction\n",
       "0  10.1093/jcmc/zmab024+1.0                 M              1.0\n",
       "1   10.1093/joc/jqab044+4.0                 M              2.0\n",
       "2   10.1093/hcr/hqab020+1.0                 M              0.0\n",
       "3   10.1093/hcr/hqac004+1.0                 F              0.0\n",
       "4  10.1093/jcmc/zmab019+5.0                 F              0.0"
      ]
     },
     "execution_count": 99,
     "metadata": {},
     "output_type": "execute_result"
    }
   ],
   "source": [
    "df = pd.concat([haley, jeff, michelle, matthew, jaemin, jongmin], ignore_index = True)\n",
    "df['gender_prediction'] = [x.upper() for x in df.gender_prediction]\n",
    "df.head()"
   ]
  },
  {
   "cell_type": "code",
   "execution_count": 100,
   "id": "837d9bf2",
   "metadata": {},
   "outputs": [
    {
     "data": {
      "text/plain": [
       "{'F', 'M', 'N'}"
      ]
     },
     "execution_count": 100,
     "metadata": {},
     "output_type": "execute_result"
    }
   ],
   "source": [
    "set(df.gender_prediction)"
   ]
  },
  {
   "cell_type": "code",
   "execution_count": 101,
   "id": "4844027b",
   "metadata": {},
   "outputs": [],
   "source": [
    "def recode_race(row):\n",
    "    race_txt = 'race_prediction'\n",
    "    if row[race_txt] == 0:\n",
    "        return 'White'\n",
    "    elif row[race_txt] == 1:\n",
    "        return 'Black'\n",
    "    elif row[race_txt] == 2:\n",
    "        return 'Asian'\n",
    "    elif row[race_txt] == 3:\n",
    "        return 'Hispanic'\n",
    "    elif row[race_txt] == 4:\n",
    "        return 'Middle Eastern'\n",
    "    elif row[race_txt] == 5:\n",
    "        return 'Indigenous'"
   ]
  },
  {
   "cell_type": "code",
   "execution_count": 102,
   "id": "47c01aab",
   "metadata": {},
   "outputs": [],
   "source": [
    "df['race'] = df.apply(recode_race, axis = 1)"
   ]
  },
  {
   "cell_type": "code",
   "execution_count": 103,
   "id": "f133838d",
   "metadata": {},
   "outputs": [
    {
     "data": {
      "text/plain": [
       "<AxesSubplot:xlabel='race', ylabel='count'>"
      ]
     },
     "execution_count": 103,
     "metadata": {},
     "output_type": "execute_result"
    },
    {
     "data": {
      "image/png": "[encoded data removed]",
      "text/plain": [
       "<Figure size 432x288 with 1 Axes>"
      ]
     },
     "metadata": {
      "needs_background": "light"
     },
     "output_type": "display_data"
    }
   ],
   "source": [
    "sns.countplot(x = 'race', data = df)"
   ]
  },
  {
   "cell_type": "code",
   "execution_count": 104,
   "id": "cb040a71",
   "metadata": {},
   "outputs": [
    {
     "data": {
      "text/plain": [
       "<AxesSubplot:xlabel='gender_prediction', ylabel='count'>"
      ]
     },
     "execution_count": 104,
     "metadata": {},
     "output_type": "execute_result"
    },
    {
     "data": {
      "image/png": "[encoded data removed]",
      "text/plain": [
       "<Figure size 432x288 with 1 Axes>"
      ]
     },
     "metadata": {
      "needs_background": "light"
     },
     "output_type": "display_data"
    }
   ],
   "source": [
    "sns.countplot(x = 'gender_prediction', data = df)"
   ]
  },
  {
   "cell_type": "code",
   "execution_count": 105,
   "id": "5f392cd1",
   "metadata": {},
   "outputs": [],
   "source": [
    "df['race_plus_gender'] = df['race'] + df['gender_prediction']"
   ]
  },
  {
   "cell_type": "code",
   "execution_count": 106,
   "id": "2d07ce68",
   "metadata": {},
   "outputs": [
    {
     "data": {
      "image/png": "[encoded data removed]",
      "text/plain": [
       "<Figure size 1080x432 with 1 Axes>"
      ]
     },
     "metadata": {
      "needs_background": "light"
     },
     "output_type": "display_data"
    }
   ],
   "source": [
    "plt.figure(figsize=(15,6))\n",
    "ax = sns.countplot(x = 'race_plus_gender', data = df)\n",
    "# plt.xticks(rotation=45)\n",
    "ax.tick_params(axis='x', rotation=40)"
   ]
  },
  {
   "cell_type": "code",
   "execution_count": 107,
   "id": "2ea7580c",
   "metadata": {},
   "outputs": [
    {
     "data": {
      "text/plain": [
       "(4434, 5)"
      ]
     },
     "execution_count": 107,
     "metadata": {},
     "output_type": "execute_result"
    }
   ],
   "source": [
    "df.shape"
   ]
  },
  {
   "cell_type": "code",
   "execution_count": 108,
   "id": "e36dc728",
   "metadata": {},
   "outputs": [
    {
     "data": {
      "text/html": [
       "<div>\n",
       "<style scoped>\n",
       "    .dataframe tbody tr th:only-of-type {\n",
       "        vertical-align: middle;\n",
       "    }\n",
       "\n",
       "    .dataframe tbody tr th {\n",
       "        vertical-align: top;\n",
       "    }\n",
       "\n",
       "    .dataframe thead th {\n",
       "        text-align: right;\n",
       "    }\n",
       "</style>\n",
       "<table border=\"1\" class=\"dataframe\">\n",
       "  <thead>\n",
       "    <tr style=\"text-align: right;\">\n",
       "      <th></th>\n",
       "      <th>authorID</th>\n",
       "      <th>gender_prediction</th>\n",
       "      <th>race_prediction</th>\n",
       "      <th>race</th>\n",
       "      <th>race_plus_gender</th>\n",
       "    </tr>\n",
       "  </thead>\n",
       "  <tbody>\n",
       "    <tr>\n",
       "      <th>0</th>\n",
       "      <td>10.1093/jcmc/zmab024+1.0</td>\n",
       "      <td>M</td>\n",
       "      <td>1.0</td>\n",
       "      <td>Black</td>\n",
       "      <td>BlackM</td>\n",
       "    </tr>\n",
       "    <tr>\n",
       "      <th>1</th>\n",
       "      <td>10.1093/joc/jqab044+4.0</td>\n",
       "      <td>M</td>\n",
       "      <td>2.0</td>\n",
       "      <td>Asian</td>\n",
       "      <td>AsianM</td>\n",
       "    </tr>\n",
       "    <tr>\n",
       "      <th>2</th>\n",
       "      <td>10.1093/hcr/hqab020+1.0</td>\n",
       "      <td>M</td>\n",
       "      <td>0.0</td>\n",
       "      <td>White</td>\n",
       "      <td>WhiteM</td>\n",
       "    </tr>\n",
       "    <tr>\n",
       "      <th>3</th>\n",
       "      <td>10.1093/hcr/hqac004+1.0</td>\n",
       "      <td>F</td>\n",
       "      <td>0.0</td>\n",
       "      <td>White</td>\n",
       "      <td>WhiteF</td>\n",
       "    </tr>\n",
       "    <tr>\n",
       "      <th>4</th>\n",
       "      <td>10.1093/jcmc/zmab019+5.0</td>\n",
       "      <td>F</td>\n",
       "      <td>0.0</td>\n",
       "      <td>White</td>\n",
       "      <td>WhiteF</td>\n",
       "    </tr>\n",
       "    <tr>\n",
       "      <th>...</th>\n",
       "      <td>...</td>\n",
       "      <td>...</td>\n",
       "      <td>...</td>\n",
       "      <td>...</td>\n",
       "      <td>...</td>\n",
       "    </tr>\n",
       "    <tr>\n",
       "      <th>4429</th>\n",
       "      <td>10.1111/j.1468-2958.2010.01389.x+1.0</td>\n",
       "      <td>M</td>\n",
       "      <td>0.0</td>\n",
       "      <td>White</td>\n",
       "      <td>WhiteM</td>\n",
       "    </tr>\n",
       "    <tr>\n",
       "      <th>4430</th>\n",
       "      <td>10.1111/j.1460-2466.2010.01486.x+2.0</td>\n",
       "      <td>M</td>\n",
       "      <td>0.0</td>\n",
       "      <td>White</td>\n",
       "      <td>WhiteM</td>\n",
       "    </tr>\n",
       "    <tr>\n",
       "      <th>4431</th>\n",
       "      <td>10.1111/j.1083-6101.2010.01508.x+4.0</td>\n",
       "      <td>M</td>\n",
       "      <td>0.0</td>\n",
       "      <td>White</td>\n",
       "      <td>WhiteM</td>\n",
       "    </tr>\n",
       "    <tr>\n",
       "      <th>4432</th>\n",
       "      <td>10.1111/j.1083-6101.2009.01511.x+2.0</td>\n",
       "      <td>F</td>\n",
       "      <td>0.0</td>\n",
       "      <td>White</td>\n",
       "      <td>WhiteF</td>\n",
       "    </tr>\n",
       "    <tr>\n",
       "      <th>4433</th>\n",
       "      <td>10.1111/j.1083-6101.2010.01529.x+1.0</td>\n",
       "      <td>F</td>\n",
       "      <td>0.0</td>\n",
       "      <td>White</td>\n",
       "      <td>WhiteF</td>\n",
       "    </tr>\n",
       "  </tbody>\n",
       "</table>\n",
       "<p>4434 rows × 5 columns</p>\n",
       "</div>"
      ],
      "text/plain": [
       "                                  authorID gender_prediction  race_prediction  \\\n",
       "0                 10.1093/jcmc/zmab024+1.0                 M              1.0   \n",
       "1                  10.1093/joc/jqab044+4.0                 M              2.0   \n",
       "2                  10.1093/hcr/hqab020+1.0                 M              0.0   \n",
       "3                  10.1093/hcr/hqac004+1.0                 F              0.0   \n",
       "4                 10.1093/jcmc/zmab019+5.0                 F              0.0   \n",
       "...                                    ...               ...              ...   \n",
       "4429  10.1111/j.1468-2958.2010.01389.x+1.0                 M              0.0   \n",
       "4430  10.1111/j.1460-2466.2010.01486.x+2.0                 M              0.0   \n",
       "4431  10.1111/j.1083-6101.2010.01508.x+4.0                 M              0.0   \n",
       "4432  10.1111/j.1083-6101.2009.01511.x+2.0                 F              0.0   \n",
       "4433  10.1111/j.1083-6101.2010.01529.x+1.0                 F              0.0   \n",
       "\n",
       "       race race_plus_gender  \n",
       "0     Black           BlackM  \n",
       "1     Asian           AsianM  \n",
       "2     White           WhiteM  \n",
       "3     White           WhiteF  \n",
       "4     White           WhiteF  \n",
       "...     ...              ...  \n",
       "4429  White           WhiteM  \n",
       "4430  White           WhiteM  \n",
       "4431  White           WhiteM  \n",
       "4432  White           WhiteF  \n",
       "4433  White           WhiteF  \n",
       "\n",
       "[4434 rows x 5 columns]"
      ]
     },
     "execution_count": 108,
     "metadata": {},
     "output_type": "execute_result"
    }
   ],
   "source": [
    "df"
   ]
  },
  {
   "cell_type": "code",
   "execution_count": 111,
   "id": "70df9dd1",
   "metadata": {},
   "outputs": [
    {
     "data": {
      "text/html": [
       "<div>\n",
       "<style scoped>\n",
       "    .dataframe tbody tr th:only-of-type {\n",
       "        vertical-align: middle;\n",
       "    }\n",
       "\n",
       "    .dataframe tbody tr th {\n",
       "        vertical-align: top;\n",
       "    }\n",
       "\n",
       "    .dataframe thead th {\n",
       "        text-align: right;\n",
       "    }\n",
       "</style>\n",
       "<table border=\"1\" class=\"dataframe\">\n",
       "  <thead>\n",
       "    <tr style=\"text-align: right;\">\n",
       "      <th></th>\n",
       "      <th>authorID</th>\n",
       "      <th>new_country_code</th>\n",
       "      <th>new_afftype</th>\n",
       "    </tr>\n",
       "  </thead>\n",
       "  <tbody>\n",
       "    <tr>\n",
       "      <th>0</th>\n",
       "      <td>10.1093/jcmc/zmab019+4.0</td>\n",
       "      <td>AT</td>\n",
       "      <td>Education</td>\n",
       "    </tr>\n",
       "    <tr>\n",
       "      <th>1</th>\n",
       "      <td>10.1093/jcmc/zmab019+5.0</td>\n",
       "      <td>AT</td>\n",
       "      <td>Education</td>\n",
       "    </tr>\n",
       "    <tr>\n",
       "      <th>2</th>\n",
       "      <td>10.1093/joc/jqab052+5.0</td>\n",
       "      <td>US</td>\n",
       "      <td>Education</td>\n",
       "    </tr>\n",
       "    <tr>\n",
       "      <th>3</th>\n",
       "      <td>10.1093/ccc/tcac007+1.0</td>\n",
       "      <td>CN</td>\n",
       "      <td>Education</td>\n",
       "    </tr>\n",
       "    <tr>\n",
       "      <th>4</th>\n",
       "      <td>10.1093/joc/jqac012+4.0</td>\n",
       "      <td>US</td>\n",
       "      <td>Education</td>\n",
       "    </tr>\n",
       "    <tr>\n",
       "      <th>...</th>\n",
       "      <td>...</td>\n",
       "      <td>...</td>\n",
       "      <td>...</td>\n",
       "    </tr>\n",
       "    <tr>\n",
       "      <th>4429</th>\n",
       "      <td>10.1111/j.1083-6101.2010.01508.x+7.0</td>\n",
       "      <td>US</td>\n",
       "      <td>Education</td>\n",
       "    </tr>\n",
       "    <tr>\n",
       "      <th>4430</th>\n",
       "      <td>10.1111/j.1753-9137.2010.01073.x+2.0</td>\n",
       "      <td>MX</td>\n",
       "      <td>Education</td>\n",
       "    </tr>\n",
       "    <tr>\n",
       "      <th>4431</th>\n",
       "      <td>10.1111/j.1083-6101.2010.01532.x+1.0</td>\n",
       "      <td>US</td>\n",
       "      <td>Education</td>\n",
       "    </tr>\n",
       "    <tr>\n",
       "      <th>4432</th>\n",
       "      <td>10.1111/j.1753-9137.2010.01079.x+1.0</td>\n",
       "      <td>US</td>\n",
       "      <td>Education</td>\n",
       "    </tr>\n",
       "    <tr>\n",
       "      <th>4433</th>\n",
       "      <td>10.1111/j.1083-6101.2009.01509.x+3.0</td>\n",
       "      <td>CH</td>\n",
       "      <td>Education</td>\n",
       "    </tr>\n",
       "  </tbody>\n",
       "</table>\n",
       "<p>4434 rows × 3 columns</p>\n",
       "</div>"
      ],
      "text/plain": [
       "                                  authorID new_country_code new_afftype\n",
       "0                 10.1093/jcmc/zmab019+4.0               AT   Education\n",
       "1                 10.1093/jcmc/zmab019+5.0               AT   Education\n",
       "2                  10.1093/joc/jqab052+5.0               US   Education\n",
       "3                  10.1093/ccc/tcac007+1.0               CN   Education\n",
       "4                  10.1093/joc/jqac012+4.0               US   Education\n",
       "...                                    ...              ...         ...\n",
       "4429  10.1111/j.1083-6101.2010.01508.x+7.0               US   Education\n",
       "4430  10.1111/j.1753-9137.2010.01073.x+2.0               MX   Education\n",
       "4431  10.1111/j.1083-6101.2010.01532.x+1.0               US   Education\n",
       "4432  10.1111/j.1753-9137.2010.01079.x+1.0               US   Education\n",
       "4433  10.1111/j.1083-6101.2009.01509.x+3.0               CH   Education\n",
       "\n",
       "[4434 rows x 3 columns]"
      ]
     },
     "execution_count": 111,
     "metadata": {},
     "output_type": "execute_result"
    }
   ],
   "source": [
    "aff_df = pd.read_csv('aff_df.csv')\n",
    "aff_df = aff_df[['authorID', 'new_country_code', 'new_afftype']]\n",
    "aff_df"
   ]
  },
  {
   "cell_type": "code",
   "execution_count": 114,
   "id": "06de4b15",
   "metadata": {},
   "outputs": [
    {
     "data": {
      "text/html": [
       "<div>\n",
       "<style scoped>\n",
       "    .dataframe tbody tr th:only-of-type {\n",
       "        vertical-align: middle;\n",
       "    }\n",
       "\n",
       "    .dataframe tbody tr th {\n",
       "        vertical-align: top;\n",
       "    }\n",
       "\n",
       "    .dataframe thead th {\n",
       "        text-align: right;\n",
       "    }\n",
       "</style>\n",
       "<table border=\"1\" class=\"dataframe\">\n",
       "  <thead>\n",
       "    <tr style=\"text-align: right;\">\n",
       "      <th></th>\n",
       "      <th>authorID</th>\n",
       "      <th>new_country_code</th>\n",
       "      <th>new_afftype</th>\n",
       "      <th>gender_prediction</th>\n",
       "      <th>race_prediction</th>\n",
       "      <th>race</th>\n",
       "      <th>race_plus_gender</th>\n",
       "    </tr>\n",
       "  </thead>\n",
       "  <tbody>\n",
       "    <tr>\n",
       "      <th>0</th>\n",
       "      <td>10.1093/jcmc/zmab019+4.0</td>\n",
       "      <td>AT</td>\n",
       "      <td>Education</td>\n",
       "      <td>F</td>\n",
       "      <td>0.0</td>\n",
       "      <td>White</td>\n",
       "      <td>WhiteF</td>\n",
       "    </tr>\n",
       "    <tr>\n",
       "      <th>1</th>\n",
       "      <td>10.1093/jcmc/zmab019+5.0</td>\n",
       "      <td>AT</td>\n",
       "      <td>Education</td>\n",
       "      <td>F</td>\n",
       "      <td>0.0</td>\n",
       "      <td>White</td>\n",
       "      <td>WhiteF</td>\n",
       "    </tr>\n",
       "    <tr>\n",
       "      <th>2</th>\n",
       "      <td>10.1093/joc/jqab052+5.0</td>\n",
       "      <td>US</td>\n",
       "      <td>Education</td>\n",
       "      <td>F</td>\n",
       "      <td>2.0</td>\n",
       "      <td>Asian</td>\n",
       "      <td>AsianF</td>\n",
       "    </tr>\n",
       "    <tr>\n",
       "      <th>3</th>\n",
       "      <td>10.1093/ccc/tcac007+1.0</td>\n",
       "      <td>CN</td>\n",
       "      <td>Education</td>\n",
       "      <td>F</td>\n",
       "      <td>0.0</td>\n",
       "      <td>White</td>\n",
       "      <td>WhiteF</td>\n",
       "    </tr>\n",
       "    <tr>\n",
       "      <th>4</th>\n",
       "      <td>10.1093/joc/jqac012+4.0</td>\n",
       "      <td>US</td>\n",
       "      <td>Education</td>\n",
       "      <td>M</td>\n",
       "      <td>0.0</td>\n",
       "      <td>White</td>\n",
       "      <td>WhiteM</td>\n",
       "    </tr>\n",
       "    <tr>\n",
       "      <th>...</th>\n",
       "      <td>...</td>\n",
       "      <td>...</td>\n",
       "      <td>...</td>\n",
       "      <td>...</td>\n",
       "      <td>...</td>\n",
       "      <td>...</td>\n",
       "      <td>...</td>\n",
       "    </tr>\n",
       "    <tr>\n",
       "      <th>4429</th>\n",
       "      <td>10.1111/j.1083-6101.2010.01508.x+7.0</td>\n",
       "      <td>US</td>\n",
       "      <td>Education</td>\n",
       "      <td>F</td>\n",
       "      <td>0.0</td>\n",
       "      <td>White</td>\n",
       "      <td>WhiteF</td>\n",
       "    </tr>\n",
       "    <tr>\n",
       "      <th>4430</th>\n",
       "      <td>10.1111/j.1753-9137.2010.01073.x+2.0</td>\n",
       "      <td>MX</td>\n",
       "      <td>Education</td>\n",
       "      <td>M</td>\n",
       "      <td>3.0</td>\n",
       "      <td>Hispanic</td>\n",
       "      <td>HispanicM</td>\n",
       "    </tr>\n",
       "    <tr>\n",
       "      <th>4431</th>\n",
       "      <td>10.1111/j.1083-6101.2010.01532.x+1.0</td>\n",
       "      <td>US</td>\n",
       "      <td>Education</td>\n",
       "      <td>F</td>\n",
       "      <td>3.0</td>\n",
       "      <td>Hispanic</td>\n",
       "      <td>HispanicF</td>\n",
       "    </tr>\n",
       "    <tr>\n",
       "      <th>4432</th>\n",
       "      <td>10.1111/j.1753-9137.2010.01079.x+1.0</td>\n",
       "      <td>US</td>\n",
       "      <td>Education</td>\n",
       "      <td>F</td>\n",
       "      <td>2.0</td>\n",
       "      <td>Asian</td>\n",
       "      <td>AsianF</td>\n",
       "    </tr>\n",
       "    <tr>\n",
       "      <th>4433</th>\n",
       "      <td>10.1111/j.1083-6101.2009.01509.x+3.0</td>\n",
       "      <td>CH</td>\n",
       "      <td>Education</td>\n",
       "      <td>F</td>\n",
       "      <td>0.0</td>\n",
       "      <td>White</td>\n",
       "      <td>WhiteF</td>\n",
       "    </tr>\n",
       "  </tbody>\n",
       "</table>\n",
       "<p>4434 rows × 7 columns</p>\n",
       "</div>"
      ],
      "text/plain": [
       "                                  authorID new_country_code new_afftype  \\\n",
       "0                 10.1093/jcmc/zmab019+4.0               AT   Education   \n",
       "1                 10.1093/jcmc/zmab019+5.0               AT   Education   \n",
       "2                  10.1093/joc/jqab052+5.0               US   Education   \n",
       "3                  10.1093/ccc/tcac007+1.0               CN   Education   \n",
       "4                  10.1093/joc/jqac012+4.0               US   Education   \n",
       "...                                    ...              ...         ...   \n",
       "4429  10.1111/j.1083-6101.2010.01508.x+7.0               US   Education   \n",
       "4430  10.1111/j.1753-9137.2010.01073.x+2.0               MX   Education   \n",
       "4431  10.1111/j.1083-6101.2010.01532.x+1.0               US   Education   \n",
       "4432  10.1111/j.1753-9137.2010.01079.x+1.0               US   Education   \n",
       "4433  10.1111/j.1083-6101.2009.01509.x+3.0               CH   Education   \n",
       "\n",
       "     gender_prediction  race_prediction      race race_plus_gender  \n",
       "0                    F              0.0     White           WhiteF  \n",
       "1                    F              0.0     White           WhiteF  \n",
       "2                    F              2.0     Asian           AsianF  \n",
       "3                    F              0.0     White           WhiteF  \n",
       "4                    M              0.0     White           WhiteM  \n",
       "...                ...              ...       ...              ...  \n",
       "4429                 F              0.0     White           WhiteF  \n",
       "4430                 M              3.0  Hispanic        HispanicM  \n",
       "4431                 F              3.0  Hispanic        HispanicF  \n",
       "4432                 F              2.0     Asian           AsianF  \n",
       "4433                 F              0.0     White           WhiteF  \n",
       "\n",
       "[4434 rows x 7 columns]"
      ]
     },
     "execution_count": 114,
     "metadata": {},
     "output_type": "execute_result"
    }
   ],
   "source": [
    "pd.merge(aff_df, df, on = 'authorID')"
   ]
  },
  {
   "cell_type": "code",
   "execution_count": 116,
   "id": "de0b08e8",
   "metadata": {},
   "outputs": [
    {
     "data": {
      "text/plain": [
       "True"
      ]
     },
     "execution_count": 116,
     "metadata": {},
     "output_type": "execute_result"
    }
   ],
   "source": [
    "set(aff_df.authorID) == set(df.authorID)"
   ]
  },
  {
   "cell_type": "code",
   "execution_count": null,
   "id": "d57d84bf",
   "metadata": {},
   "outputs": [],
   "source": []
  }
 ],
 "metadata": {
  "kernelspec": {
   "display_name": "Python 3 (ipykernel)",
   "language": "python",
   "name": "python3"
  },
  "language_info": {
   "codemirror_mode": {
    "name": "ipython",
    "version": 3
   },
   "file_extension": ".py",
   "mimetype": "text/x-python",
   "name": "python",
   "nbconvert_exporter": "python",
   "pygments_lexer": "ipython3",
   "version": "3.8.13"
  }
 },
 "nbformat": 4,
 "nbformat_minor": 5
}
