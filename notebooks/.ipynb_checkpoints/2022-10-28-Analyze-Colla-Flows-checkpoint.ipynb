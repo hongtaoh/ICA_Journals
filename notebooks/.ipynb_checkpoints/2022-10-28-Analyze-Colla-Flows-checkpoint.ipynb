{
 "cells": [
  {
   "cell_type": "code",
   "execution_count": 7,
   "id": "4478e0fe",
   "metadata": {},
   "outputs": [],
   "source": [
    "import pandas as pd\n",
    "import numpy as np\n",
    "import seaborn as sns\n",
    "import matplotlib.pyplot as plt\n",
    "from collections import Counter\n",
    "import altair as alt\n",
    "from altair import datum"
   ]
  },
  {
   "cell_type": "code",
   "execution_count": 8,
   "id": "3b97b2c3",
   "metadata": {},
   "outputs": [],
   "source": [
    "def get_simple_prop_df(data, var):\n",
    "    # get frequency and proportion over all the years\n",
    "    assert data in ['papers', 'authors'], 'data is wrong!'\n",
    "    if data == 'authors':\n",
    "        df = pd.DataFrame(Counter(authors[var]).items(), columns = [var, 'freq'])\n",
    "        df['prop'] = round(df['freq'] / total_author_num, 3)\n",
    "        df.sort_values('prop', ascending = False, inplace = True)\n",
    "    else:\n",
    "        df = pd.DataFrame(Counter(papers[var]).items(), columns = [var, 'freq'])\n",
    "        df['prop'] = round(df['freq'] / total_paper_num, 3)\n",
    "        df.sort_values('prop', ascending = False, inplace = True)\n",
    "    return df"
   ]
  },
  {
   "cell_type": "code",
   "execution_count": 9,
   "id": "b4c93919",
   "metadata": {},
   "outputs": [],
   "source": [
    "def get_freq_and_prop(data, var):\n",
    "    # get time series data\n",
    "    assert data in ['papers', 'authors'], 'data is wrong!'\n",
    "    if data == 'papers':\n",
    "        dic = yearly_papernum_dic\n",
    "        df = papers.groupby(['year', var]).size().to_frame('freq').reset_index()\n",
    "        df['year total'] = [dic[x] for x in df.year]\n",
    "    else:\n",
    "        dic = yearly_authornum_dic\n",
    "        df = authors.groupby(['year', var]).size().to_frame('freq').reset_index()\n",
    "        df['year total'] = [dic[x] for x in df.year]\n",
    "    df['prop'] = round(df['freq'] / df['year total'], 3)\n",
    "    return df"
   ]
  },
  {
   "cell_type": "code",
   "execution_count": 10,
   "id": "84673b88",
   "metadata": {},
   "outputs": [],
   "source": [
    "def transform_year(df):\n",
    "    dff = df.copy()\n",
    "    dff['year'] = pd.to_datetime(dff['year'] , format='%Y')\n",
    "    return dff"
   ]
  },
  {
   "cell_type": "code",
   "execution_count": 11,
   "id": "65d2c265",
   "metadata": {},
   "outputs": [],
   "source": [
    "authors = pd.read_csv('../data/processed/authors_to_study_expanded.csv')\n",
    "papers = pd.read_csv('../data/processed/papers_to_study_expanded.csv')\n",
    "papers.replace({\n",
    "    True: 'Yes',\n",
    "    False: 'No'\n",
    "}, inplace = True)\n"
   ]
  },
  {
   "cell_type": "code",
   "execution_count": 12,
   "id": "6f24562c",
   "metadata": {},
   "outputs": [],
   "source": [
    "top_num = 5\n",
    "top_country_dic = dict(Counter(authors['countrypred']).most_common(top_num))\n",
    "top_country = list(top_country_dic.keys())\n",
    "authors['countrypred_new'] = authors['countrypred'].apply(\n",
    "        lambda x: x if x in top_country else 'Other'\n",
    "    )"
   ]
  },
  {
   "cell_type": "code",
   "execution_count": 13,
   "id": "996e4f0b",
   "metadata": {},
   "outputs": [],
   "source": [
    "for i in [papers, authors]:\n",
    "    i.replace({\n",
    "        'Communication Theory': 'CT',\n",
    "        'Communication, Culture and Critique': 'CCC',\n",
    "        'Human Communication Research': 'HCR',\n",
    "        'Journal of Communication': 'JOC',\n",
    "        'Journal of Computer-Mediated Communication': 'JCMC'\n",
    "                      }, inplace = True)"
   ]
  },
  {
   "cell_type": "code",
   "execution_count": 14,
   "id": "8019e6e3",
   "metadata": {},
   "outputs": [],
   "source": [
    "total_paper_num = len(papers)\n",
    "total_author_num = len(authors)"
   ]
  },
  {
   "cell_type": "code",
   "execution_count": 15,
   "id": "ea5c7c36",
   "metadata": {},
   "outputs": [
    {
     "data": {
      "text/plain": [
       "(3169, 7083)"
      ]
     },
     "execution_count": 15,
     "metadata": {},
     "output_type": "execute_result"
    }
   ],
   "source": [
    "total_paper_num, total_author_num"
   ]
  },
  {
   "cell_type": "code",
   "execution_count": 16,
   "id": "a6a50ca1",
   "metadata": {},
   "outputs": [],
   "source": [
    "yearly_papernum = papers.groupby(\n",
    "    'year').size().to_frame(name='freq').reset_index()\n",
    "yearly_authornum = authors.groupby(\n",
    "    'year').size().to_frame(name='freq').reset_index()\n",
    "yearly_authornum_dic = dict(zip(yearly_authornum.year, yearly_authornum.freq))\n",
    "yearly_papernum_dic = dict(zip(yearly_papernum.year, yearly_papernum.freq))"
   ]
  },
  {
   "cell_type": "markdown",
   "id": "eeb58146",
   "metadata": {},
   "source": [
    "## Cross-country collaborations"
   ]
  },
  {
   "cell_type": "code",
   "execution_count": 24,
   "id": "e4d724f4",
   "metadata": {},
   "outputs": [
    {
     "data": {
      "text/plain": [
       "(479, 33)"
      ]
     },
     "execution_count": 24,
     "metadata": {},
     "output_type": "execute_result"
    }
   ],
   "source": [
    "papers[papers.cross_country == 'Yes'].shape"
   ]
  },
  {
   "cell_type": "code",
   "execution_count": 26,
   "id": "29dea11e",
   "metadata": {},
   "outputs": [],
   "source": [
    "def get_dic_from_firstauthor(DF, var):\n",
    "    '''I want to have these tuples: (i, j) where i is the first author country code\n",
    "        or another variable\n",
    "    '''\n",
    "    tuple_list = []\n",
    "    for group in DF.groupby('doi'):\n",
    "        group[1].sort_values(by='authorPosition', inplace=True)\n",
    "        # first author country\n",
    "        firstauthor_cntry = group[1].iloc[0, :][var]\n",
    "        # if more than one author\n",
    "        if group[1].shape[0] > 1:\n",
    "            # set of other authors' country\n",
    "            other_cntrycodes = group[1].iloc[1:, :][var].tolist()\n",
    "            # for each of the other authors' country\n",
    "            # form a tuple with the first author country\n",
    "            for i in other_cntrycodes:\n",
    "                if i != firstauthor_cntry:\n",
    "                    a_tuple = [(firstauthor_cntry, i)]\n",
    "                    tuple_list.append(a_tuple)\n",
    "    bicode = list(itertools.chain(*tuple_list))\n",
    "    bicode_counts = Counter(bicode)\n",
    "    bicode_counts_dic = dict(bicode_counts)\n",
    "    return bicode_counts_dic"
   ]
  },
  {
   "cell_type": "code",
   "execution_count": 27,
   "id": "cea754ec",
   "metadata": {},
   "outputs": [
    {
     "data": {
      "text/plain": [
       "{('US', 'CA'): 22,\n",
       " ('CA', 'US'): 12,\n",
       " ('TR', 'DE'): 1,\n",
       " ('US', 'PH'): 16,\n",
       " ('IN', 'US'): 2,\n",
       " ('CN', 'US'): 17,\n",
       " ('CL', 'GB'): 1,\n",
       " ('AU', 'NL'): 1,\n",
       " ('NL', 'SE'): 2,\n",
       " ('CA', 'GB'): 1,\n",
       " ('DE', 'CA'): 1,\n",
       " ('AT', 'DE'): 2,\n",
       " ('NO', 'GB'): 1,\n",
       " ('GB', 'NL'): 5,\n",
       " ('CH', 'US'): 1,\n",
       " ('US', 'CH'): 5,\n",
       " ('ES', 'GB'): 2,\n",
       " ('US', 'NZ'): 4,\n",
       " ('ES', 'CO'): 1,\n",
       " ('SE', 'AR'): 1,\n",
       " ('FR', 'CA'): 3,\n",
       " ('ES', 'US'): 6,\n",
       " ('BE', 'US'): 2,\n",
       " ('GB', 'DK'): 1,\n",
       " ('US', 'CN'): 19,\n",
       " ('US', 'BE'): 1,\n",
       " ('US', 'CO'): 1,\n",
       " ('PH', 'US'): 21,\n",
       " ('CN', 'SG'): 1,\n",
       " ('NL', 'DE'): 4,\n",
       " ('DE', 'NL'): 14,\n",
       " ('IL', 'GB'): 1,\n",
       " ('US', 'FR'): 2,\n",
       " ('US', 'CL'): 4,\n",
       " ('GB', 'CH'): 1,\n",
       " ('US', 'DE'): 27,\n",
       " ('US', 'IL'): 10,\n",
       " ('AT', 'US'): 10,\n",
       " ('AT', 'NZ'): 2,\n",
       " ('US', 'JP'): 14,\n",
       " ('CL', 'NL'): 4,\n",
       " ('US', 'KR'): 17,\n",
       " ('DE', 'NO'): 2,\n",
       " ('DE', 'AT'): 1,\n",
       " ('SG', 'US'): 20,\n",
       " ('DE', 'US'): 34,\n",
       " ('US', 'NL'): 20,\n",
       " ('SG', 'AT'): 2,\n",
       " ('BE', 'NL'): 3,\n",
       " ('US', 'GB'): 17,\n",
       " ('US', 'SG'): 13,\n",
       " ('US', 'AU'): 13,\n",
       " ('PH', 'AR'): 1,\n",
       " ('KR', 'US'): 13,\n",
       " ('GE', 'US'): 28,\n",
       " ('CN', 'AU'): 1,\n",
       " ('US', 'TW'): 4,\n",
       " ('NL', 'BE'): 4,\n",
       " ('TW', 'CN'): 1,\n",
       " ('US', 'GE'): 14,\n",
       " ('US', 'LB'): 3,\n",
       " ('DE', 'SE'): 1,\n",
       " ('IL', 'DE'): 1,\n",
       " ('IL', 'NL'): 1,\n",
       " ('IL', 'US'): 8,\n",
       " ('NL', 'SG'): 1,\n",
       " ('NL', 'US'): 14,\n",
       " ('CN', 'KR'): 1,\n",
       " ('CH', 'DE'): 10,\n",
       " ('US', 'FI'): 3,\n",
       " ('PH', 'CH'): 1,\n",
       " ('AU', 'CN'): 1,\n",
       " ('GB', 'AU'): 1,\n",
       " ('SE', 'TH'): 1,\n",
       " ('AR', 'US'): 1,\n",
       " ('GB', 'SG'): 2,\n",
       " ('US', 'SE'): 2,\n",
       " ('US', 'MX'): 4,\n",
       " ('CN', 'DK'): 1,\n",
       " ('NL', 'AT'): 2,\n",
       " ('DE', 'GB'): 6,\n",
       " ('DE', 'PH'): 1,\n",
       " ('DE', 'ZA'): 1,\n",
       " ('DE', 'BE'): 3,\n",
       " ('DE', 'CN'): 1,\n",
       " ('DE', 'SG'): 1,\n",
       " ('AU', 'US'): 4,\n",
       " ('BE', 'CY'): 1,\n",
       " ('PH', 'SG'): 1,\n",
       " ('PH', 'ZA'): 1,\n",
       " ('SE', 'DK'): 1,\n",
       " ('SE', 'AT'): 2,\n",
       " ('IT', 'MX'): 1,\n",
       " ('CA', 'IL'): 1,\n",
       " ('DE', 'IL'): 1,\n",
       " ('DK', 'US'): 4,\n",
       " ('NL', 'CN'): 1,\n",
       " ('SE', 'US'): 2,\n",
       " ('NL', 'IL'): 1,\n",
       " ('JP', 'US'): 12,\n",
       " ('PT', 'ES'): 1,\n",
       " ('AT', 'CL'): 1,\n",
       " ('JP', 'KR'): 3,\n",
       " ('KR', 'SG'): 1,\n",
       " ('US', 'UK'): 4,\n",
       " ('DE', 'CH'): 7,\n",
       " ('GB', 'UK'): 2,\n",
       " ('GB', 'IE'): 1,\n",
       " ('US', 'EG'): 1,\n",
       " ('US', 'ES'): 3,\n",
       " ('KR', 'GB'): 2,\n",
       " ('TH', 'US'): 5,\n",
       " ('FI', 'GB'): 1,\n",
       " ('GB', 'ZA'): 1,\n",
       " ('BE', 'IT'): 1,\n",
       " ('US', 'QA'): 3,\n",
       " ('FR', 'DE'): 1,\n",
       " ('GE', 'PL'): 2,\n",
       " ('US', 'TH'): 2,\n",
       " ('GB', 'ES'): 6,\n",
       " ('UK', 'GB'): 1,\n",
       " ('ZA', 'US'): 1,\n",
       " ('JP', 'CR'): 1,\n",
       " ('GB', 'IL'): 2,\n",
       " ('GB', 'US'): 14,\n",
       " ('AU', 'FR'): 1,\n",
       " ('US', 'DK'): 3,\n",
       " ('CH', 'FR'): 1,\n",
       " ('PT', 'UK'): 2,\n",
       " ('PT', 'IL'): 1,\n",
       " ('ES', 'CZ'): 1,\n",
       " ('IR', 'AU'): 2,\n",
       " ('CN', 'GE'): 1,\n",
       " ('KR', 'JP'): 1,\n",
       " ('US', 'AM'): 1,\n",
       " ('IT', 'IE'): 1,\n",
       " ('IT', 'LT'): 1,\n",
       " ('IT', 'EE'): 1,\n",
       " ('IT', 'GB'): 3,\n",
       " ('IT', 'CY'): 1,\n",
       " ('IT', 'ES'): 1,\n",
       " ('US', 'KE'): 1,\n",
       " ('LB', 'CY'): 1,\n",
       " ('LB', 'GB'): 1,\n",
       " ('TW', 'KR'): 1,\n",
       " ('US', 'IN'): 2,\n",
       " ('NL', 'GB'): 3,\n",
       " ('KE', 'US'): 4,\n",
       " ('US', 'PL'): 2,\n",
       " ('US', 'IT'): 4,\n",
       " ('US', 'CR'): 1,\n",
       " ('US', 'CZ'): 2,\n",
       " ('US', 'CY'): 1,\n",
       " ('AU', 'RU'): 1,\n",
       " ('GR', 'GB'): 1,\n",
       " ('GR', 'DE'): 1,\n",
       " ('US', 'UG'): 2,\n",
       " ('US', 'ET'): 1,\n",
       " ('DK', 'NL'): 1,\n",
       " ('US', 'NO'): 2,\n",
       " ('DE', 'ES'): 1,\n",
       " ('US', 'PE'): 1,\n",
       " ('GE', 'UK'): 1,\n",
       " ('NL', 'ZA'): 2,\n",
       " ('US', 'ZA'): 1,\n",
       " ('NZ', 'US'): 4,\n",
       " ('US', 'IE'): 1,\n",
       " ('US', 'IS'): 1,\n",
       " ('TW', 'US'): 1,\n",
       " ('AU', 'GB'): 1,\n",
       " ('CA', 'IT'): 1,\n",
       " ('BE', 'CH'): 2,\n",
       " ('CH', 'GB'): 3,\n",
       " ('GB', 'IS'): 2,\n",
       " ('GB', 'NO'): 1,\n",
       " ('IT', 'US'): 1,\n",
       " ('CA', 'DK'): 1,\n",
       " ('PH', 'NL'): 1,\n",
       " ('US', 'LV'): 2,\n",
       " ('CA', 'ES'): 1,\n",
       " ('FR', 'CH'): 1,\n",
       " ('US', 'PT'): 1,\n",
       " ('NO', 'DK'): 1,\n",
       " ('NO', 'FI'): 1,\n",
       " ('JP', 'CA'): 2,\n",
       " ('SG', 'CN'): 1,\n",
       " ('SG', 'AU'): 1,\n",
       " ('NO', 'CH'): 2,\n",
       " ('GB', 'IT'): 1,\n",
       " ('BE', 'GB'): 1,\n",
       " ('US', 'AT'): 1,\n",
       " ('MX', 'GB'): 1,\n",
       " ('US', 'GR'): 1,\n",
       " ('AT', 'ES'): 1,\n",
       " ('CL', 'US'): 2,\n",
       " ('PH', 'IL'): 1,\n",
       " ('NL', 'CH'): 1,\n",
       " ('AT', 'CO'): 1,\n",
       " ('DE', 'FI'): 1,\n",
       " ('AT', 'CH'): 1,\n",
       " ('GB', 'PH'): 1,\n",
       " ('TR', 'US'): 1,\n",
       " ('AT', 'NL'): 1,\n",
       " ('ES', 'AU'): 1,\n",
       " ('CL', 'MX'): 1,\n",
       " ('CL', 'ES'): 1,\n",
       " ('CL', 'CN'): 2,\n",
       " ('CL', 'PL'): 1,\n",
       " ('CL', 'FI'): 1,\n",
       " ('CL', 'DE'): 1,\n",
       " ('CL', 'SG'): 1}"
      ]
     },
     "execution_count": 27,
     "metadata": {},
     "output_type": "execute_result"
    }
   ],
   "source": [
    "import itertools\n",
    "bicode_counts_dic = get_dic_from_firstauthor(authors, var = 'countrypred')\n",
    "bicode_counts_dic"
   ]
  },
  {
   "cell_type": "code",
   "execution_count": 28,
   "id": "43ef1fe9",
   "metadata": {},
   "outputs": [],
   "source": [
    "def get_chord_df(DIC): # DIC here is bicode_counts_dic\n",
    "    \"\"\"\n",
    "    Return:\n",
    "        A dataframe containig three columns: source, targe, value.\n",
    "        Even though I am using `source`, and `target`, this is an undirected ntework. \n",
    "    \"\"\"\n",
    "    chord_df = pd.DataFrame(DIC.items(), columns=['pairs','value'])\n",
    "    chord_df['source'] = chord_df.pairs.apply(lambda x: x[0])\n",
    "    chord_df['target'] = chord_df.pairs.apply(lambda x: x[1])\n",
    "    chord_df = chord_df[\n",
    "        ['source', 'target', 'value']].sort_values(\n",
    "        by='value', ascending=False).reset_index(drop=True)\n",
    "    return chord_df"
   ]
  },
  {
   "cell_type": "code",
   "execution_count": 29,
   "id": "6f0ebdd0",
   "metadata": {},
   "outputs": [],
   "source": [
    "author_chord_cntry_from_firstauthor = get_chord_df(bicode_counts_dic)"
   ]
  },
  {
   "cell_type": "code",
   "execution_count": 30,
   "id": "b2135028",
   "metadata": {},
   "outputs": [
    {
     "data": {
      "text/plain": [
       "744"
      ]
     },
     "execution_count": 30,
     "metadata": {},
     "output_type": "execute_result"
    }
   ],
   "source": [
    "author_chord_cntry_from_firstauthor.value.sum()"
   ]
  },
  {
   "cell_type": "code",
   "execution_count": 31,
   "id": "44bb6d85",
   "metadata": {},
   "outputs": [],
   "source": [
    "author_chord_cntry_from_firstauthor.to_csv(\n",
    "    '../data/plots/cntry_chord_from_firstauthor.csv', index=False)"
   ]
  },
  {
   "cell_type": "code",
   "execution_count": 32,
   "id": "71027a9e",
   "metadata": {},
   "outputs": [
    {
     "data": {
      "text/html": [
       "<div>\n",
       "<style scoped>\n",
       "    .dataframe tbody tr th:only-of-type {\n",
       "        vertical-align: middle;\n",
       "    }\n",
       "\n",
       "    .dataframe tbody tr th {\n",
       "        vertical-align: top;\n",
       "    }\n",
       "\n",
       "    .dataframe thead th {\n",
       "        text-align: right;\n",
       "    }\n",
       "</style>\n",
       "<table border=\"1\" class=\"dataframe\">\n",
       "  <thead>\n",
       "    <tr style=\"text-align: right;\">\n",
       "      <th></th>\n",
       "      <th>source</th>\n",
       "      <th>target</th>\n",
       "      <th>value</th>\n",
       "    </tr>\n",
       "  </thead>\n",
       "  <tbody>\n",
       "    <tr>\n",
       "      <th>0</th>\n",
       "      <td>DE</td>\n",
       "      <td>US</td>\n",
       "      <td>34</td>\n",
       "    </tr>\n",
       "    <tr>\n",
       "      <th>1</th>\n",
       "      <td>GE</td>\n",
       "      <td>US</td>\n",
       "      <td>28</td>\n",
       "    </tr>\n",
       "    <tr>\n",
       "      <th>2</th>\n",
       "      <td>US</td>\n",
       "      <td>DE</td>\n",
       "      <td>27</td>\n",
       "    </tr>\n",
       "    <tr>\n",
       "      <th>3</th>\n",
       "      <td>US</td>\n",
       "      <td>CA</td>\n",
       "      <td>22</td>\n",
       "    </tr>\n",
       "    <tr>\n",
       "      <th>4</th>\n",
       "      <td>PH</td>\n",
       "      <td>US</td>\n",
       "      <td>21</td>\n",
       "    </tr>\n",
       "    <tr>\n",
       "      <th>...</th>\n",
       "      <td>...</td>\n",
       "      <td>...</td>\n",
       "      <td>...</td>\n",
       "    </tr>\n",
       "    <tr>\n",
       "      <th>206</th>\n",
       "      <td>NL</td>\n",
       "      <td>IL</td>\n",
       "      <td>1</td>\n",
       "    </tr>\n",
       "    <tr>\n",
       "      <th>207</th>\n",
       "      <td>NL</td>\n",
       "      <td>CN</td>\n",
       "      <td>1</td>\n",
       "    </tr>\n",
       "    <tr>\n",
       "      <th>208</th>\n",
       "      <td>DE</td>\n",
       "      <td>IL</td>\n",
       "      <td>1</td>\n",
       "    </tr>\n",
       "    <tr>\n",
       "      <th>209</th>\n",
       "      <td>CA</td>\n",
       "      <td>IL</td>\n",
       "      <td>1</td>\n",
       "    </tr>\n",
       "    <tr>\n",
       "      <th>210</th>\n",
       "      <td>CL</td>\n",
       "      <td>SG</td>\n",
       "      <td>1</td>\n",
       "    </tr>\n",
       "  </tbody>\n",
       "</table>\n",
       "<p>211 rows × 3 columns</p>\n",
       "</div>"
      ],
      "text/plain": [
       "    source target  value\n",
       "0       DE     US     34\n",
       "1       GE     US     28\n",
       "2       US     DE     27\n",
       "3       US     CA     22\n",
       "4       PH     US     21\n",
       "..     ...    ...    ...\n",
       "206     NL     IL      1\n",
       "207     NL     CN      1\n",
       "208     DE     IL      1\n",
       "209     CA     IL      1\n",
       "210     CL     SG      1\n",
       "\n",
       "[211 rows x 3 columns]"
      ]
     },
     "execution_count": 32,
     "metadata": {},
     "output_type": "execute_result"
    }
   ],
   "source": [
    "cntry_chord = author_chord_cntry_from_firstauthor\n",
    "cntry_chord"
   ]
  },
  {
   "cell_type": "code",
   "execution_count": 33,
   "id": "b1475e01",
   "metadata": {},
   "outputs": [
    {
     "data": {
      "text/plain": [
       "(38, 53)"
      ]
     },
     "execution_count": 33,
     "metadata": {},
     "output_type": "execute_result"
    }
   ],
   "source": [
    "len(np.unique(cntry_chord.source)), len(np.unique(cntry_chord.target))"
   ]
  },
  {
   "cell_type": "code",
   "execution_count": 34,
   "id": "1d3214c7",
   "metadata": {},
   "outputs": [
    {
     "data": {
      "text/plain": [
       "55"
      ]
     },
     "execution_count": 34,
     "metadata": {},
     "output_type": "execute_result"
    }
   ],
   "source": [
    "unique_cntry = np.unique(cntry_chord.source.tolist() + cntry_chord.target.tolist())\n",
    "len(unique_cntry)"
   ]
  },
  {
   "cell_type": "code",
   "execution_count": 35,
   "id": "1a054e4b",
   "metadata": {},
   "outputs": [],
   "source": [
    "tuples = []\n",
    "for i in np.unique(cntry_chord.source):\n",
    "    dff = cntry_chord[cntry_chord.source == i]\n",
    "    total = dff.value.sum()\n",
    "    tuples.append((i, total))"
   ]
  },
  {
   "cell_type": "code",
   "execution_count": 36,
   "id": "62374064",
   "metadata": {},
   "outputs": [
    {
     "data": {
      "text/html": [
       "<div>\n",
       "<style scoped>\n",
       "    .dataframe tbody tr th:only-of-type {\n",
       "        vertical-align: middle;\n",
       "    }\n",
       "\n",
       "    .dataframe tbody tr th {\n",
       "        vertical-align: top;\n",
       "    }\n",
       "\n",
       "    .dataframe thead th {\n",
       "        text-align: right;\n",
       "    }\n",
       "</style>\n",
       "<table border=\"1\" class=\"dataframe\">\n",
       "  <thead>\n",
       "    <tr style=\"text-align: right;\">\n",
       "      <th></th>\n",
       "      <th>country</th>\n",
       "      <th>total</th>\n",
       "      <th>prop</th>\n",
       "    </tr>\n",
       "  </thead>\n",
       "  <tbody>\n",
       "    <tr>\n",
       "      <th>36</th>\n",
       "      <td>US</td>\n",
       "      <td>279</td>\n",
       "      <td>0.375</td>\n",
       "    </tr>\n",
       "    <tr>\n",
       "      <th>8</th>\n",
       "      <td>DE</td>\n",
       "      <td>76</td>\n",
       "      <td>0.102</td>\n",
       "    </tr>\n",
       "    <tr>\n",
       "      <th>13</th>\n",
       "      <td>GB</td>\n",
       "      <td>41</td>\n",
       "      <td>0.055</td>\n",
       "    </tr>\n",
       "    <tr>\n",
       "      <th>25</th>\n",
       "      <td>NL</td>\n",
       "      <td>35</td>\n",
       "      <td>0.047</td>\n",
       "    </tr>\n",
       "    <tr>\n",
       "      <th>14</th>\n",
       "      <td>GE</td>\n",
       "      <td>31</td>\n",
       "      <td>0.042</td>\n",
       "    </tr>\n",
       "  </tbody>\n",
       "</table>\n",
       "</div>"
      ],
      "text/plain": [
       "   country  total   prop\n",
       "36      US    279  0.375\n",
       "8       DE     76  0.102\n",
       "13      GB     41  0.055\n",
       "25      NL     35  0.047\n",
       "14      GE     31  0.042"
      ]
     },
     "execution_count": 36,
     "metadata": {},
     "output_type": "execute_result"
    }
   ],
   "source": [
    "# country chord source\n",
    "ccs = pd.DataFrame(tuples, columns = ['country', 'total'])\n",
    "ccs['prop'] = round(ccs['total'] / cntry_chord.value.sum(), 3)\n",
    "ccs.sort_values('prop', ascending = False).head()"
   ]
  },
  {
   "cell_type": "code",
   "execution_count": 38,
   "id": "41cab406",
   "metadata": {},
   "outputs": [],
   "source": [
    "tuples = []\n",
    "for i in unique_cntry:\n",
    "    dff = cntry_chord[(cntry_chord.source == i) | (cntry_chord.target == i)]\n",
    "    total = dff.value.sum()\n",
    "    tuples.append((i, total))"
   ]
  },
  {
   "cell_type": "code",
   "execution_count": 39,
   "id": "9b0d78d6",
   "metadata": {},
   "outputs": [
    {
     "data": {
      "text/plain": [
       "1488"
      ]
     },
     "execution_count": 39,
     "metadata": {},
     "output_type": "execute_result"
    }
   ],
   "source": [
    "NUM_OF_TOP_COUNTRY = 5\n",
    "cntry_chord_nodes = pd.DataFrame(tuples, columns = ['country', 'value']).sort_values(\n",
    "    by=['value'], ascending = False).reset_index(drop=True)\n",
    "total_node = cntry_chord_nodes.value.sum()\n",
    "total_node"
   ]
  },
  {
   "cell_type": "code",
   "execution_count": 40,
   "id": "59feb405",
   "metadata": {},
   "outputs": [],
   "source": [
    "cntry_chord_nodes['prop'] = round(cntry_chord_nodes['value']/cntry_chord.value.sum(), 3)"
   ]
  },
  {
   "cell_type": "code",
   "execution_count": 41,
   "id": "35554f01",
   "metadata": {},
   "outputs": [
    {
     "data": {
      "text/html": [
       "<div>\n",
       "<style scoped>\n",
       "    .dataframe tbody tr th:only-of-type {\n",
       "        vertical-align: middle;\n",
       "    }\n",
       "\n",
       "    .dataframe tbody tr th {\n",
       "        vertical-align: top;\n",
       "    }\n",
       "\n",
       "    .dataframe thead th {\n",
       "        text-align: right;\n",
       "    }\n",
       "</style>\n",
       "<table border=\"1\" class=\"dataframe\">\n",
       "  <thead>\n",
       "    <tr style=\"text-align: right;\">\n",
       "      <th></th>\n",
       "      <th>country</th>\n",
       "      <th>value</th>\n",
       "      <th>prop</th>\n",
       "    </tr>\n",
       "  </thead>\n",
       "  <tbody>\n",
       "    <tr>\n",
       "      <th>0</th>\n",
       "      <td>US</td>\n",
       "      <td>523</td>\n",
       "      <td>0.703</td>\n",
       "    </tr>\n",
       "    <tr>\n",
       "      <th>1</th>\n",
       "      <td>DE</td>\n",
       "      <td>124</td>\n",
       "      <td>0.167</td>\n",
       "    </tr>\n",
       "    <tr>\n",
       "      <th>2</th>\n",
       "      <td>GB</td>\n",
       "      <td>88</td>\n",
       "      <td>0.118</td>\n",
       "    </tr>\n",
       "    <tr>\n",
       "      <th>3</th>\n",
       "      <td>NL</td>\n",
       "      <td>86</td>\n",
       "      <td>0.116</td>\n",
       "    </tr>\n",
       "    <tr>\n",
       "      <th>4</th>\n",
       "      <td>CN</td>\n",
       "      <td>48</td>\n",
       "      <td>0.065</td>\n",
       "    </tr>\n",
       "  </tbody>\n",
       "</table>\n",
       "</div>"
      ],
      "text/plain": [
       "  country  value   prop\n",
       "0      US    523  0.703\n",
       "1      DE    124  0.167\n",
       "2      GB     88  0.118\n",
       "3      NL     86  0.116\n",
       "4      CN     48  0.065"
      ]
     },
     "execution_count": 41,
     "metadata": {},
     "output_type": "execute_result"
    }
   ],
   "source": [
    "cntry_chord_nodes.head()"
   ]
  },
  {
   "cell_type": "code",
   "execution_count": 42,
   "id": "c934a20c",
   "metadata": {},
   "outputs": [
    {
     "data": {
      "text/plain": [
       "1.169"
      ]
     },
     "execution_count": 42,
     "metadata": {},
     "output_type": "execute_result"
    }
   ],
   "source": [
    "cntry_chord_nodes.head().prop.sum()"
   ]
  },
  {
   "cell_type": "code",
   "execution_count": 43,
   "id": "9c85911a",
   "metadata": {},
   "outputs": [
    {
     "data": {
      "text/plain": [
       "869"
      ]
     },
     "execution_count": 43,
     "metadata": {},
     "output_type": "execute_result"
    }
   ],
   "source": [
    "cntry_chord_nodes.head().value.sum()"
   ]
  },
  {
   "cell_type": "code",
   "execution_count": 44,
   "id": "225cb6f5",
   "metadata": {},
   "outputs": [
    {
     "data": {
      "text/plain": [
       "523"
      ]
     },
     "execution_count": 44,
     "metadata": {},
     "output_type": "execute_result"
    }
   ],
   "source": [
    "cntry_chord[(cntry_chord.source == 'US') | (cntry_chord.target=='US')].value.sum()"
   ]
  },
  {
   "cell_type": "code",
   "execution_count": 45,
   "id": "b903e146",
   "metadata": {},
   "outputs": [
    {
     "data": {
      "text/plain": [
       "['US', 'DE', 'GB', 'NL', 'CN']"
      ]
     },
     "execution_count": 45,
     "metadata": {},
     "output_type": "execute_result"
    }
   ],
   "source": [
    "most_active_cntry = cntry_chord_nodes.head(NUM_OF_TOP_COUNTRY).country.tolist()\n",
    "most_active_cntry"
   ]
  },
  {
   "cell_type": "code",
   "execution_count": 46,
   "id": "5ebbcc71",
   "metadata": {},
   "outputs": [
    {
     "data": {
      "text/plain": [
       "673"
      ]
     },
     "execution_count": 46,
     "metadata": {},
     "output_type": "execute_result"
    }
   ],
   "source": [
    "# Number of pairs where the most active countries appeared ???\n",
    "# this is not the case! I need to use `num_most_active_participated - between top`?\n",
    "num_most_active_participated = cntry_chord[(\n",
    "    cntry_chord.source.isin(most_active_cntry)) | (\n",
    "    cntry_chord.target.isin(most_active_cntry))].value.sum()\n",
    "num_most_active_participated"
   ]
  },
  {
   "cell_type": "code",
   "execution_count": 47,
   "id": "39ab06d0",
   "metadata": {},
   "outputs": [
    {
     "data": {
      "text/plain": [
       "196"
      ]
     },
     "execution_count": 47,
     "metadata": {},
     "output_type": "execute_result"
    }
   ],
   "source": [
    "# Number of pairs made up by collaborations between most active countries\n",
    "between_top = cntry_chord[(\n",
    "    cntry_chord.source.isin(most_active_cntry)) & (\n",
    "    cntry_chord.target.isin(most_active_cntry))].value.sum()\n",
    "between_top"
   ]
  },
  {
   "cell_type": "code",
   "execution_count": 48,
   "id": "09746451",
   "metadata": {},
   "outputs": [
    {
     "data": {
      "text/plain": [
       "0.26344086021505375"
      ]
     },
     "execution_count": 48,
     "metadata": {},
     "output_type": "execute_result"
    }
   ],
   "source": [
    "between_top / author_chord_cntry_from_firstauthor.value.sum()"
   ]
  },
  {
   "cell_type": "markdown",
   "id": "32329422",
   "metadata": {},
   "source": [
    "### Author cords from first authors (gender and race)"
   ]
  },
  {
   "cell_type": "code",
   "execution_count": null,
   "id": "afca6397",
   "metadata": {},
   "outputs": [],
   "source": []
  },
  {
   "cell_type": "code",
   "execution_count": 49,
   "id": "2541bd56",
   "metadata": {},
   "outputs": [],
   "source": [
    "authors['gender_and_race'] = authors['genderpred'] + '_' + authors['racepred']"
   ]
  },
  {
   "cell_type": "code",
   "execution_count": 50,
   "id": "48adfab6",
   "metadata": {},
   "outputs": [],
   "source": [
    "bicode_counts_dic = get_dic_from_firstauthor(authors, var = 'gender_and_race')\n",
    "author_chord_gr_from_firstauthor = get_chord_df(bicode_counts_dic)"
   ]
  },
  {
   "cell_type": "code",
   "execution_count": 51,
   "id": "7ea59c19",
   "metadata": {},
   "outputs": [
    {
     "data": {
      "text/plain": [
       "2403"
      ]
     },
     "execution_count": 51,
     "metadata": {},
     "output_type": "execute_result"
    }
   ],
   "source": [
    "author_chord_gr_from_firstauthor.value.sum()"
   ]
  },
  {
   "cell_type": "code",
   "execution_count": 52,
   "id": "07a44a20",
   "metadata": {},
   "outputs": [],
   "source": [
    "author_chord_gr_from_firstauthor.to_csv('../data/plots/author_chord_gr_from_firstauthor.csv', index=False)"
   ]
  },
  {
   "cell_type": "code",
   "execution_count": 54,
   "id": "decda204",
   "metadata": {},
   "outputs": [
    {
     "data": {
      "text/html": [
       "<div>\n",
       "<style scoped>\n",
       "    .dataframe tbody tr th:only-of-type {\n",
       "        vertical-align: middle;\n",
       "    }\n",
       "\n",
       "    .dataframe tbody tr th {\n",
       "        vertical-align: top;\n",
       "    }\n",
       "\n",
       "    .dataframe thead th {\n",
       "        text-align: right;\n",
       "    }\n",
       "</style>\n",
       "<table border=\"1\" class=\"dataframe\">\n",
       "  <thead>\n",
       "    <tr style=\"text-align: right;\">\n",
       "      <th></th>\n",
       "      <th>source</th>\n",
       "      <th>target</th>\n",
       "      <th>value</th>\n",
       "    </tr>\n",
       "  </thead>\n",
       "  <tbody>\n",
       "    <tr>\n",
       "      <th>0</th>\n",
       "      <td>M_White</td>\n",
       "      <td>F_White</td>\n",
       "      <td>586</td>\n",
       "    </tr>\n",
       "    <tr>\n",
       "      <th>1</th>\n",
       "      <td>F_White</td>\n",
       "      <td>M_White</td>\n",
       "      <td>509</td>\n",
       "    </tr>\n",
       "    <tr>\n",
       "      <th>2</th>\n",
       "      <td>M_Asian</td>\n",
       "      <td>M_White</td>\n",
       "      <td>128</td>\n",
       "    </tr>\n",
       "    <tr>\n",
       "      <th>3</th>\n",
       "      <td>F_Asian</td>\n",
       "      <td>M_White</td>\n",
       "      <td>114</td>\n",
       "    </tr>\n",
       "    <tr>\n",
       "      <th>4</th>\n",
       "      <td>M_White</td>\n",
       "      <td>F_Asian</td>\n",
       "      <td>113</td>\n",
       "    </tr>\n",
       "    <tr>\n",
       "      <th>...</th>\n",
       "      <td>...</td>\n",
       "      <td>...</td>\n",
       "      <td>...</td>\n",
       "    </tr>\n",
       "    <tr>\n",
       "      <th>76</th>\n",
       "      <td>M_White</td>\n",
       "      <td>N_Hispanic</td>\n",
       "      <td>1</td>\n",
       "    </tr>\n",
       "    <tr>\n",
       "      <th>77</th>\n",
       "      <td>F_Hispanic</td>\n",
       "      <td>F_Black</td>\n",
       "      <td>1</td>\n",
       "    </tr>\n",
       "    <tr>\n",
       "      <th>78</th>\n",
       "      <td>N_White</td>\n",
       "      <td>M_Hispanic</td>\n",
       "      <td>1</td>\n",
       "    </tr>\n",
       "    <tr>\n",
       "      <th>79</th>\n",
       "      <td>F_Indigenous</td>\n",
       "      <td>F_Black</td>\n",
       "      <td>1</td>\n",
       "    </tr>\n",
       "    <tr>\n",
       "      <th>80</th>\n",
       "      <td>M_Asian</td>\n",
       "      <td>M_Black</td>\n",
       "      <td>1</td>\n",
       "    </tr>\n",
       "  </tbody>\n",
       "</table>\n",
       "<p>81 rows × 3 columns</p>\n",
       "</div>"
      ],
      "text/plain": [
       "          source      target  value\n",
       "0        M_White     F_White    586\n",
       "1        F_White     M_White    509\n",
       "2        M_Asian     M_White    128\n",
       "3        F_Asian     M_White    114\n",
       "4        M_White     F_Asian    113\n",
       "..           ...         ...    ...\n",
       "76       M_White  N_Hispanic      1\n",
       "77    F_Hispanic     F_Black      1\n",
       "78       N_White  M_Hispanic      1\n",
       "79  F_Indigenous     F_Black      1\n",
       "80       M_Asian     M_Black      1\n",
       "\n",
       "[81 rows x 3 columns]"
      ]
     },
     "execution_count": 54,
     "metadata": {},
     "output_type": "execute_result"
    }
   ],
   "source": [
    "gr_chord = author_chord_gr_from_firstauthor\n",
    "gr_chord"
   ]
  },
  {
   "cell_type": "code",
   "execution_count": 55,
   "id": "3e2fd3df",
   "metadata": {},
   "outputs": [
    {
     "data": {
      "text/plain": [
       "(14, 13)"
      ]
     },
     "execution_count": 55,
     "metadata": {},
     "output_type": "execute_result"
    }
   ],
   "source": [
    "len(np.unique(gr_chord.source)), len(np.unique(gr_chord.target))"
   ]
  },
  {
   "cell_type": "code",
   "execution_count": 56,
   "id": "bf3bf0ac",
   "metadata": {},
   "outputs": [
    {
     "data": {
      "text/plain": [
       "15"
      ]
     },
     "execution_count": 56,
     "metadata": {},
     "output_type": "execute_result"
    }
   ],
   "source": [
    "unique_label = np.unique(gr_chord.source.tolist() + gr_chord.target.tolist())\n",
    "len(unique_label)"
   ]
  },
  {
   "cell_type": "code",
   "execution_count": 59,
   "id": "17c93eab",
   "metadata": {},
   "outputs": [
    {
     "data": {
      "text/html": [
       "<div>\n",
       "<style scoped>\n",
       "    .dataframe tbody tr th:only-of-type {\n",
       "        vertical-align: middle;\n",
       "    }\n",
       "\n",
       "    .dataframe tbody tr th {\n",
       "        vertical-align: top;\n",
       "    }\n",
       "\n",
       "    .dataframe thead th {\n",
       "        text-align: right;\n",
       "    }\n",
       "</style>\n",
       "<table border=\"1\" class=\"dataframe\">\n",
       "  <thead>\n",
       "    <tr style=\"text-align: right;\">\n",
       "      <th></th>\n",
       "      <th>country</th>\n",
       "      <th>total</th>\n",
       "      <th>prop</th>\n",
       "    </tr>\n",
       "  </thead>\n",
       "  <tbody>\n",
       "    <tr>\n",
       "      <th>11</th>\n",
       "      <td>M_White</td>\n",
       "      <td>913</td>\n",
       "      <td>0.380</td>\n",
       "    </tr>\n",
       "    <tr>\n",
       "      <th>5</th>\n",
       "      <td>F_White</td>\n",
       "      <td>713</td>\n",
       "      <td>0.297</td>\n",
       "    </tr>\n",
       "    <tr>\n",
       "      <th>0</th>\n",
       "      <td>F_Asian</td>\n",
       "      <td>291</td>\n",
       "      <td>0.121</td>\n",
       "    </tr>\n",
       "    <tr>\n",
       "      <th>6</th>\n",
       "      <td>M_Asian</td>\n",
       "      <td>273</td>\n",
       "      <td>0.114</td>\n",
       "    </tr>\n",
       "    <tr>\n",
       "      <th>2</th>\n",
       "      <td>F_Hispanic</td>\n",
       "      <td>59</td>\n",
       "      <td>0.025</td>\n",
       "    </tr>\n",
       "  </tbody>\n",
       "</table>\n",
       "</div>"
      ],
      "text/plain": [
       "       country  total   prop\n",
       "11     M_White    913  0.380\n",
       "5      F_White    713  0.297\n",
       "0      F_Asian    291  0.121\n",
       "6      M_Asian    273  0.114\n",
       "2   F_Hispanic     59  0.025"
      ]
     },
     "execution_count": 59,
     "metadata": {},
     "output_type": "execute_result"
    }
   ],
   "source": [
    "tuples = []\n",
    "for i in np.unique(gr_chord.source):\n",
    "    dff = gr_chord[gr_chord.source == i]\n",
    "    total = dff.value.sum()\n",
    "    tuples.append((i, total))\n",
    "\n",
    "grs = pd.DataFrame(tuples, columns = ['country', 'total'])\n",
    "grs['prop'] = round(grs['total'] / gr_chord.value.sum(), 3)\n",
    "grs.sort_values('prop', ascending = False).head()"
   ]
  },
  {
   "cell_type": "code",
   "execution_count": null,
   "id": "849d5a97",
   "metadata": {},
   "outputs": [],
   "source": []
  }
 ],
 "metadata": {
  "kernelspec": {
   "display_name": "Python 3 (ipykernel)",
   "language": "python",
   "name": "python3"
  },
  "language_info": {
   "codemirror_mode": {
    "name": "ipython",
    "version": 3
   },
   "file_extension": ".py",
   "mimetype": "text/x-python",
   "name": "python",
   "nbconvert_exporter": "python",
   "pygments_lexer": "ipython3",
   "version": "3.8.13"
  }
 },
 "nbformat": 4,
 "nbformat_minor": 5
}
