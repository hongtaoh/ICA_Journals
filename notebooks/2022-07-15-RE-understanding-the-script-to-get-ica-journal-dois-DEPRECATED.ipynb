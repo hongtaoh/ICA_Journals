{
 "cells": [
  {
   "cell_type": "markdown",
   "id": "6195eb67",
   "metadata": {},
   "source": [
    "## Aim\n",
    "\n",
    "I aim to re-understand the script of `scrape_ica_paper_dois.py`."
   ]
  },
  {
   "cell_type": "code",
   "execution_count": 1,
   "id": "1e0d99f3",
   "metadata": {},
   "outputs": [],
   "source": [
    "import pandas as pd\n",
    "import numpy as np\n",
    "import time \n",
    "import random\n",
    "import re\n",
    "from selenium import webdriver\n",
    "from selenium.webdriver.common.by import By\n",
    "from selenium.webdriver.support.ui import WebDriverWait\n",
    "from selenium.webdriver.support import expected_conditions as EC \n",
    "from selenium.common.exceptions import TimeoutException\n",
    "from selenium.common.exceptions import NoSuchElementException \n",
    "import sys"
   ]
  },
  {
   "cell_type": "code",
   "execution_count": 2,
   "id": "09a88039",
   "metadata": {},
   "outputs": [],
   "source": [
    "def get_journal_and_urls():\n",
    "    journals = [\n",
    "        'Journal of Communication',\n",
    "        'Human Communication Research',\n",
    "        'Communication Theory',\n",
    "        'Journal of Computer-Mediated Communication',\n",
    "        'Communication, Culture and Critique',\n",
    "    ]\n",
    "    j_urls = [\n",
    "        'https://academic.oup.com/joc/issue',\n",
    "        'https://academic.oup.com/hcr/issue',\n",
    "        'https://academic.oup.com/ct/issue',\n",
    "        'https://academic.oup.com/jcmc/issue',\n",
    "        'https://academic.oup.com/ccc/issue',\n",
    "    ]\n",
    "    url_j_dic = dict(zip(j_urls, journals))\n",
    "    return journals, j_urls, url_j_dic "
   ]
  },
  {
   "cell_type": "code",
   "execution_count": 3,
   "id": "4d6a1b06",
   "metadata": {},
   "outputs": [],
   "source": [
    "driver = webdriver.Firefox()\n",
    "wait = WebDriverWait(driver, 3)"
   ]
  },
  {
   "cell_type": "code",
   "execution_count": 4,
   "id": "25b79088",
   "metadata": {},
   "outputs": [],
   "source": [
    "journals, j_urls, url_j_dic = get_journal_and_urls()"
   ]
  },
  {
   "cell_type": "code",
   "execution_count": 5,
   "id": "cab1865f",
   "metadata": {},
   "outputs": [
    {
     "data": {
      "text/plain": [
       "('https://academic.oup.com/joc/issue', 'Journal of Communication')"
      ]
     },
     "execution_count": 5,
     "metadata": {},
     "output_type": "execute_result"
    }
   ],
   "source": [
    "j_url = j_urls[0]\n",
    "journal = journals[0]\n",
    "j_url, journal"
   ]
  },
  {
   "cell_type": "code",
   "execution_count": 6,
   "id": "8b78f0e2",
   "metadata": {},
   "outputs": [],
   "source": [
    "driver.get(j_url)"
   ]
  },
  {
   "cell_type": "code",
   "execution_count": 7,
   "id": "7468cbf4",
   "metadata": {},
   "outputs": [],
   "source": [
    "def click_browse_by_volume():\n",
    "\tbrowse_volume_link = wait.until(EC.element_to_be_clickable((\n",
    "\t\tBy.CSS_SELECTOR, \"div.issue-browse-volume-link > a\"\n",
    "\t)))\n",
    "\tbrowse_volume_link.click()"
   ]
  },
  {
   "cell_type": "code",
   "execution_count": 8,
   "id": "82e5225c",
   "metadata": {},
   "outputs": [],
   "source": [
    "click_browse_by_volume()"
   ]
  },
  {
   "cell_type": "code",
   "execution_count": 9,
   "id": "5f00704e",
   "metadata": {},
   "outputs": [],
   "source": [
    "def get_volume_and_issue():\n",
    "\tvolume_and_issue = wait.until(EC.presence_of_element_located((\n",
    "\t\tBy.CSS_SELECTOR, \"div.issue-info-pub\"\n",
    "\t))).text\n",
    "\tsplit_text = volume_and_issue.split(', ')\n",
    "\tvolume_num = split_text[0]\n",
    "\tissue_num = split_text[1]\n",
    "\treturn volume_num, issue_num"
   ]
  },
  {
   "cell_type": "code",
   "execution_count": 10,
   "id": "8f1962d5",
   "metadata": {},
   "outputs": [
    {
     "ename": "NoSuchWindowException",
     "evalue": "Message: Browsing context has been discarded\nStacktrace:\nWebDriverError@chrome://remote/content/shared/webdriver/Errors.jsm:186:5\nNoSuchWindowError@chrome://remote/content/shared/webdriver/Errors.jsm:440:5\nassert.that/<@chrome://remote/content/shared/webdriver/Assert.jsm:445:13\nassert.open@chrome://remote/content/shared/webdriver/Assert.jsm:153:4\nGeckoDriver.prototype.findElement@chrome://remote/content/marionette/driver.js:1429:10\ndespatch@chrome://remote/content/marionette/server.js:306:40\nexecute@chrome://remote/content/marionette/server.js:279:16\nonPacket/<@chrome://remote/content/marionette/server.js:252:20\nonPacket@chrome://remote/content/marionette/server.js:253:9\n_onJSONObjectReady/<@chrome://remote/content/marionette/transport.js:500:20\n",
     "output_type": "error",
     "traceback": [
      "\u001b[0;31m---------------------------------------------------------------------------\u001b[0m",
      "\u001b[0;31mNoSuchWindowException\u001b[0m                     Traceback (most recent call last)",
      "Input \u001b[0;32mIn [10]\u001b[0m, in \u001b[0;36m<cell line: 1>\u001b[0;34m()\u001b[0m\n\u001b[0;32m----> 1\u001b[0m volume_num, issue_num \u001b[38;5;241m=\u001b[39m \u001b[43mget_volume_and_issue\u001b[49m\u001b[43m(\u001b[49m\u001b[43m)\u001b[49m\n",
      "Input \u001b[0;32mIn [9]\u001b[0m, in \u001b[0;36mget_volume_and_issue\u001b[0;34m()\u001b[0m\n\u001b[1;32m      1\u001b[0m \u001b[38;5;28;01mdef\u001b[39;00m \u001b[38;5;21mget_volume_and_issue\u001b[39m():\n\u001b[0;32m----> 2\u001b[0m \tvolume_and_issue \u001b[38;5;241m=\u001b[39m \u001b[43mwait\u001b[49m\u001b[38;5;241;43m.\u001b[39;49m\u001b[43muntil\u001b[49m\u001b[43m(\u001b[49m\u001b[43mEC\u001b[49m\u001b[38;5;241;43m.\u001b[39;49m\u001b[43mpresence_of_element_located\u001b[49m\u001b[43m(\u001b[49m\u001b[43m(\u001b[49m\n\u001b[1;32m      3\u001b[0m \u001b[43m\t\t\u001b[49m\u001b[43mBy\u001b[49m\u001b[38;5;241;43m.\u001b[39;49m\u001b[43mCSS_SELECTOR\u001b[49m\u001b[43m,\u001b[49m\u001b[43m \u001b[49m\u001b[38;5;124;43m\"\u001b[39;49m\u001b[38;5;124;43mdiv.issue-info-pub\u001b[39;49m\u001b[38;5;124;43m\"\u001b[39;49m\n\u001b[1;32m      4\u001b[0m \u001b[43m\t\u001b[49m\u001b[43m)\u001b[49m\u001b[43m)\u001b[49m\u001b[43m)\u001b[49m\u001b[38;5;241m.\u001b[39mtext\n\u001b[1;32m      5\u001b[0m \tsplit_text \u001b[38;5;241m=\u001b[39m volume_and_issue\u001b[38;5;241m.\u001b[39msplit(\u001b[38;5;124m'\u001b[39m\u001b[38;5;124m, \u001b[39m\u001b[38;5;124m'\u001b[39m)\n\u001b[1;32m      6\u001b[0m \tvolume_num \u001b[38;5;241m=\u001b[39m split_text[\u001b[38;5;241m0\u001b[39m]\n",
      "File \u001b[0;32m/opt/anaconda3/envs/comm/lib/python3.8/site-packages/selenium/webdriver/support/wait.py:78\u001b[0m, in \u001b[0;36mWebDriverWait.until\u001b[0;34m(self, method, message)\u001b[0m\n\u001b[1;32m     76\u001b[0m \u001b[38;5;28;01mwhile\u001b[39;00m \u001b[38;5;28;01mTrue\u001b[39;00m:\n\u001b[1;32m     77\u001b[0m     \u001b[38;5;28;01mtry\u001b[39;00m:\n\u001b[0;32m---> 78\u001b[0m         value \u001b[38;5;241m=\u001b[39m \u001b[43mmethod\u001b[49m\u001b[43m(\u001b[49m\u001b[38;5;28;43mself\u001b[39;49m\u001b[38;5;241;43m.\u001b[39;49m\u001b[43m_driver\u001b[49m\u001b[43m)\u001b[49m\n\u001b[1;32m     79\u001b[0m         \u001b[38;5;28;01mif\u001b[39;00m value:\n\u001b[1;32m     80\u001b[0m             \u001b[38;5;28;01mreturn\u001b[39;00m value\n",
      "File \u001b[0;32m/opt/anaconda3/envs/comm/lib/python3.8/site-packages/selenium/webdriver/support/expected_conditions.py:64\u001b[0m, in \u001b[0;36mpresence_of_element_located.<locals>._predicate\u001b[0;34m(driver)\u001b[0m\n\u001b[1;32m     63\u001b[0m \u001b[38;5;28;01mdef\u001b[39;00m \u001b[38;5;21m_predicate\u001b[39m(driver):\n\u001b[0;32m---> 64\u001b[0m     \u001b[38;5;28;01mreturn\u001b[39;00m \u001b[43mdriver\u001b[49m\u001b[38;5;241;43m.\u001b[39;49m\u001b[43mfind_element\u001b[49m\u001b[43m(\u001b[49m\u001b[38;5;241;43m*\u001b[39;49m\u001b[43mlocator\u001b[49m\u001b[43m)\u001b[49m\n",
      "File \u001b[0;32m/opt/anaconda3/envs/comm/lib/python3.8/site-packages/selenium/webdriver/remote/webdriver.py:1244\u001b[0m, in \u001b[0;36mWebDriver.find_element\u001b[0;34m(self, by, value)\u001b[0m\n\u001b[1;32m   1241\u001b[0m     by \u001b[38;5;241m=\u001b[39m By\u001b[38;5;241m.\u001b[39mCSS_SELECTOR\n\u001b[1;32m   1242\u001b[0m     value \u001b[38;5;241m=\u001b[39m \u001b[38;5;124m'\u001b[39m\u001b[38;5;124m[name=\u001b[39m\u001b[38;5;124m\"\u001b[39m\u001b[38;5;132;01m%s\u001b[39;00m\u001b[38;5;124m\"\u001b[39m\u001b[38;5;124m]\u001b[39m\u001b[38;5;124m'\u001b[39m \u001b[38;5;241m%\u001b[39m value\n\u001b[0;32m-> 1244\u001b[0m \u001b[38;5;28;01mreturn\u001b[39;00m \u001b[38;5;28;43mself\u001b[39;49m\u001b[38;5;241;43m.\u001b[39;49m\u001b[43mexecute\u001b[49m\u001b[43m(\u001b[49m\u001b[43mCommand\u001b[49m\u001b[38;5;241;43m.\u001b[39;49m\u001b[43mFIND_ELEMENT\u001b[49m\u001b[43m,\u001b[49m\u001b[43m \u001b[49m\u001b[43m{\u001b[49m\n\u001b[1;32m   1245\u001b[0m \u001b[43m    \u001b[49m\u001b[38;5;124;43m'\u001b[39;49m\u001b[38;5;124;43musing\u001b[39;49m\u001b[38;5;124;43m'\u001b[39;49m\u001b[43m:\u001b[49m\u001b[43m \u001b[49m\u001b[43mby\u001b[49m\u001b[43m,\u001b[49m\n\u001b[1;32m   1246\u001b[0m \u001b[43m    \u001b[49m\u001b[38;5;124;43m'\u001b[39;49m\u001b[38;5;124;43mvalue\u001b[39;49m\u001b[38;5;124;43m'\u001b[39;49m\u001b[43m:\u001b[49m\u001b[43m \u001b[49m\u001b[43mvalue\u001b[49m\u001b[43m}\u001b[49m\u001b[43m)\u001b[49m[\u001b[38;5;124m'\u001b[39m\u001b[38;5;124mvalue\u001b[39m\u001b[38;5;124m'\u001b[39m]\n",
      "File \u001b[0;32m/opt/anaconda3/envs/comm/lib/python3.8/site-packages/selenium/webdriver/remote/webdriver.py:424\u001b[0m, in \u001b[0;36mWebDriver.execute\u001b[0;34m(self, driver_command, params)\u001b[0m\n\u001b[1;32m    422\u001b[0m response \u001b[38;5;241m=\u001b[39m \u001b[38;5;28mself\u001b[39m\u001b[38;5;241m.\u001b[39mcommand_executor\u001b[38;5;241m.\u001b[39mexecute(driver_command, params)\n\u001b[1;32m    423\u001b[0m \u001b[38;5;28;01mif\u001b[39;00m response:\n\u001b[0;32m--> 424\u001b[0m     \u001b[38;5;28;43mself\u001b[39;49m\u001b[38;5;241;43m.\u001b[39;49m\u001b[43merror_handler\u001b[49m\u001b[38;5;241;43m.\u001b[39;49m\u001b[43mcheck_response\u001b[49m\u001b[43m(\u001b[49m\u001b[43mresponse\u001b[49m\u001b[43m)\u001b[49m\n\u001b[1;32m    425\u001b[0m     response[\u001b[38;5;124m'\u001b[39m\u001b[38;5;124mvalue\u001b[39m\u001b[38;5;124m'\u001b[39m] \u001b[38;5;241m=\u001b[39m \u001b[38;5;28mself\u001b[39m\u001b[38;5;241m.\u001b[39m_unwrap_value(\n\u001b[1;32m    426\u001b[0m         response\u001b[38;5;241m.\u001b[39mget(\u001b[38;5;124m'\u001b[39m\u001b[38;5;124mvalue\u001b[39m\u001b[38;5;124m'\u001b[39m, \u001b[38;5;28;01mNone\u001b[39;00m))\n\u001b[1;32m    427\u001b[0m     \u001b[38;5;28;01mreturn\u001b[39;00m response\n",
      "File \u001b[0;32m/opt/anaconda3/envs/comm/lib/python3.8/site-packages/selenium/webdriver/remote/errorhandler.py:247\u001b[0m, in \u001b[0;36mErrorHandler.check_response\u001b[0;34m(self, response)\u001b[0m\n\u001b[1;32m    245\u001b[0m         alert_text \u001b[38;5;241m=\u001b[39m value[\u001b[38;5;124m'\u001b[39m\u001b[38;5;124malert\u001b[39m\u001b[38;5;124m'\u001b[39m]\u001b[38;5;241m.\u001b[39mget(\u001b[38;5;124m'\u001b[39m\u001b[38;5;124mtext\u001b[39m\u001b[38;5;124m'\u001b[39m)\n\u001b[1;32m    246\u001b[0m     \u001b[38;5;28;01mraise\u001b[39;00m exception_class(message, screen, stacktrace, alert_text)  \u001b[38;5;66;03m# type: ignore[call-arg]  # mypy is not smart enough here\u001b[39;00m\n\u001b[0;32m--> 247\u001b[0m \u001b[38;5;28;01mraise\u001b[39;00m exception_class(message, screen, stacktrace)\n",
      "\u001b[0;31mNoSuchWindowException\u001b[0m: Message: Browsing context has been discarded\nStacktrace:\nWebDriverError@chrome://remote/content/shared/webdriver/Errors.jsm:186:5\nNoSuchWindowError@chrome://remote/content/shared/webdriver/Errors.jsm:440:5\nassert.that/<@chrome://remote/content/shared/webdriver/Assert.jsm:445:13\nassert.open@chrome://remote/content/shared/webdriver/Assert.jsm:153:4\nGeckoDriver.prototype.findElement@chrome://remote/content/marionette/driver.js:1429:10\ndespatch@chrome://remote/content/marionette/server.js:306:40\nexecute@chrome://remote/content/marionette/server.js:279:16\nonPacket/<@chrome://remote/content/marionette/server.js:252:20\nonPacket@chrome://remote/content/marionette/server.js:253:9\n_onJSONObjectReady/<@chrome://remote/content/marionette/transport.js:500:20\n"
     ]
    }
   ],
   "source": [
    "volume_num, issue_num = get_volume_and_issue()"
   ]
  },
  {
   "cell_type": "code",
   "execution_count": null,
   "id": "2a5b4bd0",
   "metadata": {},
   "outputs": [],
   "source": [
    "volume_num"
   ]
  },
  {
   "cell_type": "code",
   "execution_count": null,
   "id": "91d349f1",
   "metadata": {},
   "outputs": [],
   "source": [
    "issue_num"
   ]
  },
  {
   "cell_type": "code",
   "execution_count": null,
   "id": "d53b20e4",
   "metadata": {},
   "outputs": [],
   "source": [
    "v_and_issue = driver.find_elements(\n",
    "    By.CSS_SELECTOR, \"div.issue-info-pub\"\n",
    ")\n",
    "v_and_issue[0].text"
   ]
  },
  {
   "cell_type": "code",
   "execution_count": null,
   "id": "819312e9",
   "metadata": {},
   "outputs": [],
   "source": [
    "v_and_issue[1].text"
   ]
  },
  {
   "cell_type": "code",
   "execution_count": null,
   "id": "48cbd29e",
   "metadata": {},
   "outputs": [],
   "source": [
    "def get_mo_and_yr():\n",
    "\t# get the issue date information from the left panel\n",
    "\tissue_date = wait.until(EC.presence_of_element_located((\n",
    "\t\tBy.CSS_SELECTOR, \"div.issue-info-date\"\n",
    "\t))).text\n",
    "\tsplit_text = issue_date.split(' ')\n",
    "\tyear = split_text[-1]\n",
    "\t# sometimes the issue_date is in the format of \"1 March 2004\"\n",
    "\t# for example: https://academic.oup.com/joc/issue/54/1\n",
    "\tif len(split_text) > 2:\n",
    "\t\tmonth = split_text[1]\n",
    "\telse:\n",
    "\t\tmonth = split_text[0]\n",
    "\treturn month, year"
   ]
  },
  {
   "cell_type": "code",
   "execution_count": null,
   "id": "b6ea41a3",
   "metadata": {},
   "outputs": [],
   "source": [
    "month, year = get_mo_and_yr()"
   ]
  },
  {
   "cell_type": "code",
   "execution_count": null,
   "id": "d8c873fe",
   "metadata": {},
   "outputs": [],
   "source": [
    "month, year"
   ]
  },
  {
   "cell_type": "code",
   "execution_count": null,
   "id": "6b9057f1",
   "metadata": {},
   "outputs": [],
   "source": []
  }
 ],
 "metadata": {
  "kernelspec": {
   "display_name": "Python 3 (ipykernel)",
   "language": "python",
   "name": "python3"
  },
  "language_info": {
   "codemirror_mode": {
    "name": "ipython",
    "version": 3
   },
   "file_extension": ".py",
   "mimetype": "text/x-python",
   "name": "python",
   "nbconvert_exporter": "python",
   "pygments_lexer": "ipython3",
   "version": "3.8.13"
  }
 },
 "nbformat": 4,
 "nbformat_minor": 5
}
