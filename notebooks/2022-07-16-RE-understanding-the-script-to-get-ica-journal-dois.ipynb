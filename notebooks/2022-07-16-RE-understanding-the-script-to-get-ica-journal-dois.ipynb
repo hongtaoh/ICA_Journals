{
 "cells": [
  {
   "cell_type": "markdown",
   "id": "6195eb67",
   "metadata": {},
   "source": [
    "## Aim\n",
    "\n",
    "I aim to re-understand the script of `scrape_ica_paper_dois.py`."
   ]
  },
  {
   "cell_type": "code",
   "execution_count": 59,
   "id": "1e0d99f3",
   "metadata": {},
   "outputs": [],
   "source": [
    "import pandas as pd\n",
    "import numpy as np\n",
    "import time \n",
    "import random\n",
    "import re\n",
    "from selenium import webdriver\n",
    "from selenium.webdriver.common.by import By\n",
    "from selenium.webdriver.support.ui import WebDriverWait\n",
    "from selenium.webdriver.support import expected_conditions as EC \n",
    "from selenium.common.exceptions import TimeoutException\n",
    "from selenium.common.exceptions import NoSuchElementException \n",
    "import sys"
   ]
  },
  {
   "cell_type": "code",
   "execution_count": 60,
   "id": "09a88039",
   "metadata": {},
   "outputs": [],
   "source": [
    "def get_journal_and_urls():\n",
    "    journals = [\n",
    "        'Journal of Communication',\n",
    "        'Human Communication Research',\n",
    "        'Communication Theory',\n",
    "        'Journal of Computer-Mediated Communication',\n",
    "        'Communication, Culture and Critique',\n",
    "    ]\n",
    "    j_urls = [\n",
    "        'https://academic.oup.com/joc/issue',\n",
    "        'https://academic.oup.com/hcr/issue',\n",
    "        'https://academic.oup.com/ct/issue',\n",
    "        'https://academic.oup.com/jcmc/issue',\n",
    "        'https://academic.oup.com/ccc/issue',\n",
    "    ]\n",
    "    url_j_dic = dict(zip(j_urls, journals))\n",
    "    return journals, j_urls, url_j_dic "
   ]
  },
  {
   "cell_type": "code",
   "execution_count": 3,
   "id": "4d6a1b06",
   "metadata": {},
   "outputs": [],
   "source": [
    "driver = webdriver.Firefox()\n",
    "wait = WebDriverWait(driver, 3)"
   ]
  },
  {
   "cell_type": "code",
   "execution_count": 4,
   "id": "25b79088",
   "metadata": {},
   "outputs": [],
   "source": [
    "journals, j_urls, url_j_dic = get_journal_and_urls()"
   ]
  },
  {
   "cell_type": "code",
   "execution_count": 5,
   "id": "cab1865f",
   "metadata": {},
   "outputs": [
    {
     "data": {
      "text/plain": [
       "('https://academic.oup.com/joc/issue', 'Journal of Communication')"
      ]
     },
     "execution_count": 5,
     "metadata": {},
     "output_type": "execute_result"
    }
   ],
   "source": [
    "j_url = j_urls[0]\n",
    "journal = journals[0]\n",
    "j_url, journal"
   ]
  },
  {
   "cell_type": "code",
   "execution_count": 6,
   "id": "8b78f0e2",
   "metadata": {},
   "outputs": [],
   "source": [
    "driver.get(j_url)"
   ]
  },
  {
   "cell_type": "code",
   "execution_count": 7,
   "id": "7468cbf4",
   "metadata": {},
   "outputs": [],
   "source": [
    "def click_browse_by_volume():\n",
    "\tbrowse_volume_link = wait.until(EC.element_to_be_clickable((\n",
    "\t\tBy.CSS_SELECTOR, \"div.issue-browse-volume-link > a\"\n",
    "\t)))\n",
    "\tbrowse_volume_link.click()"
   ]
  },
  {
   "cell_type": "code",
   "execution_count": 8,
   "id": "82e5225c",
   "metadata": {},
   "outputs": [],
   "source": [
    "click_browse_by_volume()"
   ]
  },
  {
   "cell_type": "code",
   "execution_count": 9,
   "id": "5f00704e",
   "metadata": {},
   "outputs": [],
   "source": [
    "def get_volume_and_issue():\n",
    "\tvolume_and_issue = wait.until(EC.presence_of_element_located((\n",
    "\t\tBy.CSS_SELECTOR, \"div.issue-info-pub\"\n",
    "\t))).text\n",
    "\tsplit_text = volume_and_issue.split(', ')\n",
    "\tvolume_num = split_text[0]\n",
    "\tissue_num = split_text[1]\n",
    "\treturn volume_num, issue_num"
   ]
  },
  {
   "cell_type": "code",
   "execution_count": 10,
   "id": "8f1962d5",
   "metadata": {},
   "outputs": [],
   "source": [
    "volume_num, issue_num = get_volume_and_issue()"
   ]
  },
  {
   "cell_type": "code",
   "execution_count": 11,
   "id": "2a5b4bd0",
   "metadata": {},
   "outputs": [
    {
     "data": {
      "text/plain": [
       "'Volume 72'"
      ]
     },
     "execution_count": 11,
     "metadata": {},
     "output_type": "execute_result"
    }
   ],
   "source": [
    "volume_num"
   ]
  },
  {
   "cell_type": "code",
   "execution_count": 12,
   "id": "91d349f1",
   "metadata": {},
   "outputs": [
    {
     "data": {
      "text/plain": [
       "'Issue 3'"
      ]
     },
     "execution_count": 12,
     "metadata": {},
     "output_type": "execute_result"
    }
   ],
   "source": [
    "issue_num"
   ]
  },
  {
   "cell_type": "code",
   "execution_count": 13,
   "id": "d53b20e4",
   "metadata": {},
   "outputs": [
    {
     "data": {
      "text/plain": [
       "'Volume 72, Issue 3'"
      ]
     },
     "execution_count": 13,
     "metadata": {},
     "output_type": "execute_result"
    }
   ],
   "source": [
    "v_and_issue = driver.find_elements(\n",
    "    By.CSS_SELECTOR, \"div.issue-info-pub\"\n",
    ")\n",
    "v_and_issue[0].text"
   ]
  },
  {
   "cell_type": "code",
   "execution_count": 14,
   "id": "819312e9",
   "metadata": {},
   "outputs": [
    {
     "data": {
      "text/plain": [
       "'Volume 72, Issue 3, June 2022'"
      ]
     },
     "execution_count": 14,
     "metadata": {},
     "output_type": "execute_result"
    }
   ],
   "source": [
    "v_and_issue[1].text"
   ]
  },
  {
   "cell_type": "code",
   "execution_count": 15,
   "id": "48cbd29e",
   "metadata": {},
   "outputs": [],
   "source": [
    "def get_mo_and_yr():\n",
    "\t# get the issue date information from the left panel\n",
    "\tissue_date = wait.until(EC.presence_of_element_located((\n",
    "\t\tBy.CSS_SELECTOR, \"div.issue-info-date\"\n",
    "\t))).text\n",
    "\tsplit_text = issue_date.split(' ')\n",
    "\tyear = split_text[-1]\n",
    "\t# sometimes the issue_date is in the format of \"1 March 2004\"\n",
    "\t# for example: https://academic.oup.com/joc/issue/54/1\n",
    "\tif len(split_text) > 2:\n",
    "\t\tmonth = split_text[1]\n",
    "\telse:\n",
    "\t\tmonth = split_text[0]\n",
    "\treturn month, year"
   ]
  },
  {
   "cell_type": "code",
   "execution_count": 16,
   "id": "b6ea41a3",
   "metadata": {},
   "outputs": [],
   "source": [
    "month, year = get_mo_and_yr()"
   ]
  },
  {
   "cell_type": "code",
   "execution_count": 17,
   "id": "d8c873fe",
   "metadata": {},
   "outputs": [
    {
     "data": {
      "text/plain": [
       "('June', '2022')"
      ]
     },
     "execution_count": 17,
     "metadata": {},
     "output_type": "execute_result"
    }
   ],
   "source": [
    "month, year"
   ]
  },
  {
   "cell_type": "markdown",
   "id": "7a81c47d",
   "metadata": {},
   "source": [
    "## abstract"
   ]
  },
  {
   "cell_type": "code",
   "execution_count": 30,
   "id": "8b3a48f0",
   "metadata": {},
   "outputs": [],
   "source": [
    "# go to: https://academic.oup.com/joc/issue/46/4?browseBy=volume\n",
    "# here the paper of 'dynamic social impact' has two paragraphs for abstract\n",
    "sections = wait.until(EC.presence_of_all_elements_located((\n",
    "        By.CSS_SELECTOR, \"div.section-container > section\"\n",
    "    )))\n",
    "section = sections[1]"
   ]
  },
  {
   "cell_type": "code",
   "execution_count": 31,
   "id": "9788066d",
   "metadata": {},
   "outputs": [],
   "source": [
    "papers = section.find_elements(\n",
    "        By.CSS_SELECTOR, \"div.al-article-items\"\n",
    "    )\n",
    "paper = papers[0]"
   ]
  },
  {
   "cell_type": "code",
   "execution_count": 32,
   "id": "7afc1dcc",
   "metadata": {},
   "outputs": [
    {
     "name": "stdout",
     "output_type": "stream",
     "text": [
      "Dynamic Social Impact Theory and the Study of Human Communication\n"
     ]
    }
   ],
   "source": [
    "title_link = paper.find_element(\n",
    "    By.CSS_SELECTOR, \"a.at-articleLink\"\n",
    ")\n",
    "\n",
    "url = title_link.get_attribute('href')\n",
    "\n",
    "try:\n",
    "    # if it has \"get access\", for example, https://academic.oup.com/hcr/issue/33/1\n",
    "    #  the real title is within the first span\n",
    "    title = title_link.find_element(\n",
    "        By.CSS_SELECTOR, \"span.access-title\"\n",
    "    ).text \n",
    "# if there is no such \"span.access-title\", then just get the title as usual\n",
    "except:\n",
    "    title = title_link.text \n",
    "\n",
    "print(title)"
   ]
  },
  {
   "cell_type": "code",
   "execution_count": 33,
   "id": "4b714533",
   "metadata": {},
   "outputs": [
    {
     "data": {
      "text/plain": [
       "'Abstract'"
      ]
     },
     "execution_count": 33,
     "metadata": {},
     "output_type": "execute_result"
    }
   ],
   "source": [
    "# go to: https://academic.oup.com/joc/issue/46/4?browseBy=volume\n",
    "# here the paper of 'dynamic social impact' has two paragraphs for abstract\n",
    "abstract_tab = driver.find_elements(\n",
    "    By.CSS_SELECTOR, \"div.abstract-link > a\"\n",
    ")[0]\n",
    "abstract_header = abstract_tab.text\n",
    "abstract_header"
   ]
  },
  {
   "cell_type": "code",
   "execution_count": 34,
   "id": "b04593bb",
   "metadata": {},
   "outputs": [],
   "source": [
    "abstract_tab.click()"
   ]
  },
  {
   "cell_type": "code",
   "execution_count": 35,
   "id": "4f7b5cb8",
   "metadata": {},
   "outputs": [
    {
     "data": {
      "text/plain": [
       "2"
      ]
     },
     "execution_count": 35,
     "metadata": {},
     "output_type": "execute_result"
    }
   ],
   "source": [
    "abstracts = WebDriverWait(paper, 2).until(\n",
    "    EC.presence_of_all_elements_located((\n",
    "        By.CSS_SELECTOR, \"p.chapter-para\"\n",
    ")))\n",
    "# number of paragraphs when you open the abstract tab\n",
    "# this is to make sure I didn't omit anything\n",
    "abstract_para_num = len(abstracts)\n",
    "abstract_para_num"
   ]
  },
  {
   "cell_type": "code",
   "execution_count": 54,
   "id": "a0fafeb4",
   "metadata": {},
   "outputs": [
    {
     "data": {
      "text/plain": [
       "['No science today can consider the structures with which it has to deal as being more than a haphazard arrangement. That arrangement alone is structured which meets two conditions: that it be a system, ruled by an internal cohesiveness; that this cohesiveness, inaccessible to observation in an isolated system, be revealed in the study of transformations, through which similar properties in apparently different systems are brought to light. (Claude Levi-Strauss, in S. O. Paul & R. A. Paul, translators, The Scope of Anthropology, 1967, p. 27)',\n",
       " 'A man, viewed as a behaving system, is quite simple. The apparent complexity of his behavior over time is largely a reflection of the complexity of the environment in which he finds himself (Herbert A. Simon, The Sciences of the Artificial, 1969, p. 52)']"
      ]
     },
     "execution_count": 54,
     "metadata": {},
     "output_type": "execute_result"
    }
   ],
   "source": [
    "all_abstract_text = [a.text for a in abstracts]\n",
    "all_abstract_text"
   ]
  },
  {
   "cell_type": "code",
   "execution_count": 55,
   "id": "35c7216f",
   "metadata": {},
   "outputs": [
    {
     "data": {
      "text/plain": [
       "'No science today can consider the structures with which it has to deal as being more than a haphazard arrangement. That arrangement alone is structured which meets two conditions: that it be a system, ruled by an internal cohesiveness; that this cohesiveness, inaccessible to observation in an isolated system, be revealed in the study of transformations, through which similar properties in apparently different systems are brought to light. (Claude Levi-Strauss, in S. O. Paul & R. A. Paul, translators, The Scope of Anthropology, 1967, p. 27)'"
      ]
     },
     "execution_count": 55,
     "metadata": {},
     "output_type": "execute_result"
    }
   ],
   "source": [
    "line1 = all_abstract_text[0]\n",
    "line1"
   ]
  },
  {
   "cell_type": "code",
   "execution_count": 56,
   "id": "d88b5197",
   "metadata": {},
   "outputs": [
    {
     "data": {
      "text/plain": [
       "'A man, viewed as a behaving system, is quite simple. The apparent complexity of his behavior over time is largely a reflection of the complexity of the environment in which he finds himself (Herbert A. Simon, The Sciences of the Artificial, 1969, p. 52)'"
      ]
     },
     "execution_count": 56,
     "metadata": {},
     "output_type": "execute_result"
    }
   ],
   "source": [
    "line2 = all_abstract_text[1]\n",
    "line2"
   ]
  },
  {
   "cell_type": "code",
   "execution_count": 57,
   "id": "7d8b8bcf",
   "metadata": {},
   "outputs": [
    {
     "name": "stdout",
     "output_type": "stream",
     "text": [
      "No science today can consider the structures with which it has to deal as being more than a haphazard arrangement. That arrangement alone is structured which meets two conditions: that it be a system, ruled by an internal cohesiveness; that this cohesiveness, inaccessible to observation in an isolated system, be revealed in the study of transformations, through which similar properties in apparently different systems are brought to light. (Claude Levi-Strauss, in S. O. Paul & R. A. Paul, translators, The Scope of Anthropology, 1967, p. 27)\n",
      "\n",
      "A man, viewed as a behaving system, is quite simple. The apparent complexity of his behavior over time is largely a reflection of the complexity of the environment in which he finds himself (Herbert A. Simon, The Sciences of the Artificial, 1969, p. 52)\n"
     ]
    }
   ],
   "source": [
    "print('\\n\\n'.join(all_abstract_text))"
   ]
  },
  {
   "cell_type": "code",
   "execution_count": 50,
   "id": "511f83d9",
   "metadata": {},
   "outputs": [],
   "source": [
    "# with open('try.txt', 'w') as f:\n",
    "#     f.write('\\n\\n'.join(all_abstract_text))"
   ]
  },
  {
   "cell_type": "markdown",
   "id": "00d3e841",
   "metadata": {},
   "source": [
    "### What if there is only one abstract paragraph?"
   ]
  },
  {
   "cell_type": "code",
   "execution_count": 51,
   "id": "3da88521",
   "metadata": {},
   "outputs": [
    {
     "data": {
      "text/plain": [
       "'No science today can consider the structures with which it has to deal as being more than a haphazard arrangement. That arrangement alone is structured which meets two conditions: that it be a system, ruled by an internal cohesiveness; that this cohesiveness, inaccessible to observation in an isolated system, be revealed in the study of transformations, through which similar properties in apparently different systems are brought to light. (Claude Levi-Strauss, in S. O. Paul & R. A. Paul, translators, The Scope of Anthropology, 1967, p. 27)'"
      ]
     },
     "execution_count": 51,
     "metadata": {},
     "output_type": "execute_result"
    }
   ],
   "source": [
    "all_abstract_text = abstracts[0].text\n",
    "all_abstract_text"
   ]
  },
  {
   "cell_type": "code",
   "execution_count": 58,
   "id": "0732d67f",
   "metadata": {},
   "outputs": [],
   "source": [
    "# print('\\n\\n'.join(all_abstract_text))"
   ]
  },
  {
   "cell_type": "markdown",
   "id": "bf218e0c",
   "metadata": {},
   "source": [
    "## Debugging"
   ]
  },
  {
   "cell_type": "code",
   "execution_count": 61,
   "id": "5cf452ec",
   "metadata": {},
   "outputs": [],
   "source": [
    "journals, j_urls, url_j_dic = get_journal_and_urls()"
   ]
  },
  {
   "cell_type": "code",
   "execution_count": 64,
   "id": "79ca0557",
   "metadata": {},
   "outputs": [
    {
     "data": {
      "text/plain": [
       "['https://academic.oup.com/ccc/issue']"
      ]
     },
     "execution_count": 64,
     "metadata": {},
     "output_type": "execute_result"
    }
   ],
   "source": [
    "[j_urls[-1]]"
   ]
  },
  {
   "cell_type": "code",
   "execution_count": 65,
   "id": "f04cfb70",
   "metadata": {},
   "outputs": [],
   "source": [
    "for j_url in [j_urls[-1]]:\n",
    "    journal = url_j_dic[j_url]"
   ]
  },
  {
   "cell_type": "code",
   "execution_count": null,
   "id": "64318cc2",
   "metadata": {},
   "outputs": [],
   "source": []
  }
 ],
 "metadata": {
  "kernelspec": {
   "display_name": "Python 3 (ipykernel)",
   "language": "python",
   "name": "python3"
  },
  "language_info": {
   "codemirror_mode": {
    "name": "ipython",
    "version": 3
   },
   "file_extension": ".py",
   "mimetype": "text/x-python",
   "name": "python",
   "nbconvert_exporter": "python",
   "pygments_lexer": "ipython3",
   "version": "3.8.13"
  }
 },
 "nbformat": 4,
 "nbformat_minor": 5
}
