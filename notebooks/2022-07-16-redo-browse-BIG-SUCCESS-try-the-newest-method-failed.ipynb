{
 "cells": [
  {
   "cell_type": "markdown",
   "id": "8a993485",
   "metadata": {},
   "source": [
    "## Aim\n",
    "\n",
    "There is a bug when I rely on the 'previous' tab. Some links are wrong. I'd better use Select button instead. "
   ]
  },
  {
   "cell_type": "code",
   "execution_count": 15,
   "id": "b7ad2906",
   "metadata": {},
   "outputs": [],
   "source": [
    "import pandas as pd\n",
    "import numpy as np\n",
    "import time \n",
    "import random\n",
    "import re\n",
    "from selenium import webdriver\n",
    "from selenium.webdriver.common.by import By\n",
    "from selenium.webdriver.support.ui import WebDriverWait\n",
    "from selenium.webdriver.support import expected_conditions as EC \n",
    "from selenium.common.exceptions import TimeoutException\n",
    "from selenium.common.exceptions import NoSuchElementException \n",
    "from selenium.webdriver.support.ui import Select\n",
    "import sys"
   ]
  },
  {
   "cell_type": "code",
   "execution_count": 16,
   "id": "a49717a3",
   "metadata": {},
   "outputs": [],
   "source": [
    "driver = webdriver.Firefox()\n",
    "wait = WebDriverWait(driver, 3)"
   ]
  },
  {
   "cell_type": "code",
   "execution_count": 17,
   "id": "396c1d4d",
   "metadata": {},
   "outputs": [],
   "source": [
    "# driver.get('https://academic.oup.com/joc/issue/72/3?browseBy=volume')\n",
    "driver.get('https://academic.oup.com/ccc/issue/15/1?browseBy=volume')"
   ]
  },
  {
   "cell_type": "code",
   "execution_count": 18,
   "id": "3d52b414",
   "metadata": {},
   "outputs": [],
   "source": [
    "def get_volumeSelect():\n",
    "    volumeSelect = Select(\n",
    "        driver.find_element(\n",
    "            By.CSS_SELECTOR, '.issue-browse-year-list.issue-browse-select'))\n",
    "    return volumeSelect"
   ]
  },
  {
   "cell_type": "code",
   "execution_count": 19,
   "id": "a61951dc",
   "metadata": {},
   "outputs": [],
   "source": [
    "volumeSelect = get_volumeSelect()"
   ]
  },
  {
   "cell_type": "code",
   "execution_count": 20,
   "id": "5c46facc",
   "metadata": {},
   "outputs": [],
   "source": [
    "# volumeSelect.select_by_value('10')"
   ]
  },
  {
   "cell_type": "code",
   "execution_count": 21,
   "id": "78be2a2c",
   "metadata": {},
   "outputs": [],
   "source": [
    "def get_volume_option_texts():\n",
    "    volume_options = driver.find_elements(\n",
    "        By.CSS_SELECTOR, '.issue-browse-year-list.issue-browse-select > option')\n",
    "    volume_option_texts = [v.text for v in volume_options]\n",
    "    return volume_option_texts"
   ]
  },
  {
   "cell_type": "code",
   "execution_count": 22,
   "id": "23a4edcf",
   "metadata": {},
   "outputs": [
    {
     "data": {
      "text/plain": [
       "15"
      ]
     },
     "execution_count": 22,
     "metadata": {},
     "output_type": "execute_result"
    }
   ],
   "source": [
    "volume_option_texts = get_volume_option_texts()\n",
    "total_volumes = int(volume_option_texts[0])\n",
    "total_volumes"
   ]
  },
  {
   "cell_type": "code",
   "execution_count": 23,
   "id": "9f427613",
   "metadata": {},
   "outputs": [],
   "source": [
    "def get_issue_option_texts():\n",
    "    issue_options = driver.find_elements(\n",
    "        By.CSS_SELECTOR, '.issue-browse-issues-list > option'\n",
    "    )\n",
    "    issue_option_texts = [i.text for i in issue_options]\n",
    "    return issue_option_texts"
   ]
  },
  {
   "cell_type": "code",
   "execution_count": 24,
   "id": "6722bcf0",
   "metadata": {},
   "outputs": [],
   "source": [
    "def extract_paper_info(tuples, journal, volume_num, issue_num, month, year):\n",
    "    # There are several sections. For example, \n",
    "    # in 'https://academic.oup.com/joc/issue/72/3?browseBy=volume'\n",
    "    # there are four sections: articles, Corrigendum, correction, and book reviews\n",
    "    sections = wait.until(EC.presence_of_all_elements_located((\n",
    "            By.CSS_SELECTOR, \"div.section-container > section\"\n",
    "        )))\n",
    "\n",
    "    for section in sections:\n",
    "        section_index = sections.index(section) + 1\n",
    "\n",
    "        # the section name is the category, e.g., Articles\n",
    "        category = section.find_element(\n",
    "            By.CSS_SELECTOR, 'h4'\n",
    "        ).get_attribute('innerHTML')\n",
    "\n",
    "        # all individual papers in each section\n",
    "        papers = section.find_elements(\n",
    "            By.CSS_SELECTOR, \"div.al-article-items\"\n",
    "        )\n",
    "\n",
    "        for paper in papers:\n",
    "\n",
    "            paper_index = papers.index(paper) + 1\n",
    "\n",
    "            # title\n",
    "\n",
    "            title_link = paper.find_element(\n",
    "                By.CSS_SELECTOR, \"a.at-articleLink\"\n",
    "            )\n",
    "\n",
    "            url = title_link.get_attribute('href')\n",
    "\n",
    "            try:\n",
    "                # if it has \"get access\", for example, https://academic.oup.com/hcr/issue/33/1\n",
    "                #  the real title is within the first span\n",
    "                title = title_link.find_element(\n",
    "                    By.CSS_SELECTOR, \"span.access-title\"\n",
    "                ).text \n",
    "            # if there is no such \"span.access-title\", then just get the title as usual\n",
    "            except:\n",
    "                title = title_link.text \n",
    "\n",
    "            # Sometimes, the title is weird, for example:\n",
    "            # some of those in https://academic.oup.com/joc/issue/57/1\n",
    "            if title not in [\n",
    "                'German Abstract',\n",
    "                'Chinese Abstract',\n",
    "                'Korean Abstract',\n",
    "                'Japanese Abstract',\n",
    "                'French Abstract',\n",
    "                'Russian Abstract',\n",
    "                'Abrabic Abstract',\n",
    "                'Spanish Abstract',\n",
    "            ]:\n",
    "\n",
    "                # publication info (page numbers, doi, url)\n",
    "                pub_info = paper.find_element(\n",
    "                    By.CSS_SELECTOR, \".pub-history-row.clearfix\"\n",
    "                ).text\n",
    "\n",
    "                pub_info_elements = pub_info.split(', ')\n",
    "                for e in pub_info_elements:\n",
    "                    # JCMC is special as it does not contain pages information\n",
    "                    if journal != 'Journal of Computer-Mediated Communication':\n",
    "                        if \"Pages\" in e:\n",
    "                            pages = re.sub('Pages ', '', e)\n",
    "                        elif \"Page\" in e:\n",
    "                            pages = re.sub('Page ', '', e)\n",
    "                    else:\n",
    "                        pages = np.nan \n",
    "                    if 'https://' in e:\n",
    "                        doi = re.sub('https://doi.org/', '', e)\n",
    "\n",
    "                # abstract\n",
    "                try:\n",
    "                    abstract_tab = WebDriverWait(paper, 2).until(\n",
    "                        EC.element_to_be_clickable((\n",
    "                            By.CSS_SELECTOR, \"div.abstract-link > a\"\n",
    "                    )))\n",
    "                    abstract_header = abstract_tab.text \n",
    "                    # Sometimes, the header is 'Extract'\n",
    "                    if abstract_header == 'Abstract':\n",
    "                        abstract_tab.click()\n",
    "                        # sometimes, you can click the tab but there is no content in it\n",
    "                        try:\n",
    "                            abstracts = WebDriverWait(paper, 2).until(\n",
    "                                EC.presence_of_all_elements_located((\n",
    "                                    By.CSS_SELECTOR, \"p.chapter-para\"\n",
    "                            )))\n",
    "                            # number of paragraphs when you open the abstract tab\n",
    "                            # this is to make sure I didn't omit anything\n",
    "                            abstract_para_num = len(abstracts)\n",
    "                            # if multiple paragraphs, include all of them \n",
    "                            if abstract_para_num != 1:\n",
    "                                all_abstract_text = [i.text for i in abstracts]\n",
    "                                abstract = '\\n\\n'.join(all_abstract_text)\n",
    "                            # otherwise get the first and of course, the only one para\n",
    "                            else:\n",
    "                                abstract = abstracts[0].text \n",
    "                        # there is tab and it is \"Abstract\", but abstract is empty:\n",
    "                        except:\n",
    "                            abstract = np.nan \n",
    "                            abstract_para_num = 0\n",
    "                    # There is abstract_tab but it is \"Extract\", not \"Abstract\"\n",
    "                    else:\n",
    "                        abstract = np.nan \n",
    "                        abstract_para_num = np.nan \n",
    "                # if there is no abstract_tab\n",
    "                except (NoSuchElementException, TimeoutException):\n",
    "                    abstract = np.nan \n",
    "                    abstract_para_num = np.nan\n",
    "\n",
    "                tuples.append((\n",
    "                    journal,\n",
    "                    volume_num,\n",
    "                    issue_num,\n",
    "                    month,\n",
    "                    year,\n",
    "                    category,\n",
    "                    title,\n",
    "                    url,\n",
    "                    doi,\n",
    "                    pages,\n",
    "                    abstract,\n",
    "                    abstract_para_num,\n",
    "                ))\n",
    "            time.sleep(0.1+random.uniform(0,0.1))\n",
    "    time.sleep(0.1+random.uniform(0,0.1)) "
   ]
  },
  {
   "cell_type": "code",
   "execution_count": 25,
   "id": "8af82745",
   "metadata": {},
   "outputs": [],
   "source": [
    "def get_issue_num_year_and_month(issue_text):\n",
    "    ''' to extract issue number, year, and month information from an issue text \n",
    "      such as  \"Issue 1, March 1981, Pages 3–240\"\n",
    "    '''\n",
    "    issue_info_list = issue_text.split(', ')\n",
    "    issue_num = issue_info_list[0]\n",
    "    # year and month:\n",
    "    yr_n_mo = issue_info_list[1]\n",
    "    split_text = yr_n_mo.split(' ')\n",
    "    year = split_text[-1]\n",
    "    # sometimes the issue_date is in the format of \"1 March 2004\"\n",
    "    # for example: https://academic.oup.com/joc/issue/54/1\n",
    "    if len(split_text) > 2:\n",
    "        month = split_text[1]\n",
    "    else:\n",
    "        month = split_text[0]\n",
    "    return issue_num, month, year "
   ]
  },
  {
   "cell_type": "code",
   "execution_count": 26,
   "id": "2a0fddc3",
   "metadata": {},
   "outputs": [
    {
     "name": "stdout",
     "output_type": "stream",
     "text": [
      "volume 15 has started\n",
      "Issue 1, March 2022, Pages 1–101 is done\n",
      "Issue 2, June 2022, Pages 103–298 is done\n",
      "volume 14 has started\n"
     ]
    },
    {
     "ename": "ElementClickInterceptedException",
     "evalue": "Message: Element <select id=\"VolumeList\" class=\"issue-browse-year-list issue-browse-select\"> is not clickable at point (120,415) because another element <div class=\"section-jump-link__link-wrap\"> obscures it\nStacktrace:\nWebDriverError@chrome://remote/content/shared/webdriver/Errors.jsm:186:5\nElementClickInterceptedError@chrome://remote/content/shared/webdriver/Errors.jsm:285:5\nwebdriverClickElement@chrome://remote/content/marionette/interaction.js:166:11\ninteraction.clickElement@chrome://remote/content/marionette/interaction.js:125:11\nclickElement@chrome://remote/content/marionette/actors/MarionetteCommandsChild.jsm:203:24\nreceiveMessage@chrome://remote/content/marionette/actors/MarionetteCommandsChild.jsm:91:31\n",
     "output_type": "error",
     "traceback": [
      "\u001b[0;31m---------------------------------------------------------------------------\u001b[0m",
      "\u001b[0;31mElementClickInterceptedException\u001b[0m          Traceback (most recent call last)",
      "Input \u001b[0;32mIn [26]\u001b[0m, in \u001b[0;36m<cell line: 3>\u001b[0;34m()\u001b[0m\n\u001b[1;32m      5\u001b[0m \u001b[38;5;28mprint\u001b[39m(\u001b[38;5;124mf\u001b[39m\u001b[38;5;124m'\u001b[39m\u001b[38;5;124mvolume \u001b[39m\u001b[38;5;132;01m{\u001b[39;00mvolume\u001b[38;5;132;01m}\u001b[39;00m\u001b[38;5;124m has started\u001b[39m\u001b[38;5;124m'\u001b[39m)\n\u001b[1;32m      6\u001b[0m volumeSelect \u001b[38;5;241m=\u001b[39m get_volumeSelect()\n\u001b[0;32m----> 7\u001b[0m \u001b[43mvolumeSelect\u001b[49m\u001b[38;5;241;43m.\u001b[39;49m\u001b[43mselect_by_visible_text\u001b[49m\u001b[43m(\u001b[49m\u001b[43mvolume\u001b[49m\u001b[43m)\u001b[49m\n\u001b[1;32m      8\u001b[0m issueSelect \u001b[38;5;241m=\u001b[39m Select(driver\u001b[38;5;241m.\u001b[39mfind_element(\n\u001b[1;32m      9\u001b[0m     By\u001b[38;5;241m.\u001b[39mCSS_SELECTOR, \u001b[38;5;124m'\u001b[39m\u001b[38;5;124m.issue-browse-issues-list\u001b[39m\u001b[38;5;124m'\u001b[39m\n\u001b[1;32m     10\u001b[0m ))\n\u001b[1;32m     11\u001b[0m issue_option_texts \u001b[38;5;241m=\u001b[39m get_issue_option_texts()\n",
      "File \u001b[0;32m/opt/anaconda3/envs/comm/lib/python3.8/site-packages/selenium/webdriver/support/select.py:120\u001b[0m, in \u001b[0;36mSelect.select_by_visible_text\u001b[0;34m(self, text)\u001b[0m\n\u001b[1;32m    118\u001b[0m matched \u001b[38;5;241m=\u001b[39m \u001b[38;5;28;01mFalse\u001b[39;00m\n\u001b[1;32m    119\u001b[0m \u001b[38;5;28;01mfor\u001b[39;00m opt \u001b[38;5;129;01min\u001b[39;00m opts:\n\u001b[0;32m--> 120\u001b[0m     \u001b[38;5;28;43mself\u001b[39;49m\u001b[38;5;241;43m.\u001b[39;49m\u001b[43m_setSelected\u001b[49m\u001b[43m(\u001b[49m\u001b[43mopt\u001b[49m\u001b[43m)\u001b[49m\n\u001b[1;32m    121\u001b[0m     \u001b[38;5;28;01mif\u001b[39;00m \u001b[38;5;129;01mnot\u001b[39;00m \u001b[38;5;28mself\u001b[39m\u001b[38;5;241m.\u001b[39mis_multiple:\n\u001b[1;32m    122\u001b[0m         \u001b[38;5;28;01mreturn\u001b[39;00m\n",
      "File \u001b[0;32m/opt/anaconda3/envs/comm/lib/python3.8/site-packages/selenium/webdriver/support/select.py:212\u001b[0m, in \u001b[0;36mSelect._setSelected\u001b[0;34m(self, option)\u001b[0m\n\u001b[1;32m    210\u001b[0m \u001b[38;5;28;01mdef\u001b[39;00m \u001b[38;5;21m_setSelected\u001b[39m(\u001b[38;5;28mself\u001b[39m, option):\n\u001b[1;32m    211\u001b[0m     \u001b[38;5;28;01mif\u001b[39;00m \u001b[38;5;129;01mnot\u001b[39;00m option\u001b[38;5;241m.\u001b[39mis_selected():\n\u001b[0;32m--> 212\u001b[0m         \u001b[43moption\u001b[49m\u001b[38;5;241;43m.\u001b[39;49m\u001b[43mclick\u001b[49m\u001b[43m(\u001b[49m\u001b[43m)\u001b[49m\n",
      "File \u001b[0;32m/opt/anaconda3/envs/comm/lib/python3.8/site-packages/selenium/webdriver/remote/webelement.py:81\u001b[0m, in \u001b[0;36mWebElement.click\u001b[0;34m(self)\u001b[0m\n\u001b[1;32m     79\u001b[0m \u001b[38;5;28;01mdef\u001b[39;00m \u001b[38;5;21mclick\u001b[39m(\u001b[38;5;28mself\u001b[39m) \u001b[38;5;241m-\u001b[39m\u001b[38;5;241m>\u001b[39m \u001b[38;5;28;01mNone\u001b[39;00m:\n\u001b[1;32m     80\u001b[0m     \u001b[38;5;124;03m\"\"\"Clicks the element.\"\"\"\u001b[39;00m\n\u001b[0;32m---> 81\u001b[0m     \u001b[38;5;28;43mself\u001b[39;49m\u001b[38;5;241;43m.\u001b[39;49m\u001b[43m_execute\u001b[49m\u001b[43m(\u001b[49m\u001b[43mCommand\u001b[49m\u001b[38;5;241;43m.\u001b[39;49m\u001b[43mCLICK_ELEMENT\u001b[49m\u001b[43m)\u001b[49m\n",
      "File \u001b[0;32m/opt/anaconda3/envs/comm/lib/python3.8/site-packages/selenium/webdriver/remote/webelement.py:710\u001b[0m, in \u001b[0;36mWebElement._execute\u001b[0;34m(self, command, params)\u001b[0m\n\u001b[1;32m    708\u001b[0m     params \u001b[38;5;241m=\u001b[39m {}\n\u001b[1;32m    709\u001b[0m params[\u001b[38;5;124m'\u001b[39m\u001b[38;5;124mid\u001b[39m\u001b[38;5;124m'\u001b[39m] \u001b[38;5;241m=\u001b[39m \u001b[38;5;28mself\u001b[39m\u001b[38;5;241m.\u001b[39m_id\n\u001b[0;32m--> 710\u001b[0m \u001b[38;5;28;01mreturn\u001b[39;00m \u001b[38;5;28;43mself\u001b[39;49m\u001b[38;5;241;43m.\u001b[39;49m\u001b[43m_parent\u001b[49m\u001b[38;5;241;43m.\u001b[39;49m\u001b[43mexecute\u001b[49m\u001b[43m(\u001b[49m\u001b[43mcommand\u001b[49m\u001b[43m,\u001b[49m\u001b[43m \u001b[49m\u001b[43mparams\u001b[49m\u001b[43m)\u001b[49m\n",
      "File \u001b[0;32m/opt/anaconda3/envs/comm/lib/python3.8/site-packages/selenium/webdriver/remote/webdriver.py:424\u001b[0m, in \u001b[0;36mWebDriver.execute\u001b[0;34m(self, driver_command, params)\u001b[0m\n\u001b[1;32m    422\u001b[0m response \u001b[38;5;241m=\u001b[39m \u001b[38;5;28mself\u001b[39m\u001b[38;5;241m.\u001b[39mcommand_executor\u001b[38;5;241m.\u001b[39mexecute(driver_command, params)\n\u001b[1;32m    423\u001b[0m \u001b[38;5;28;01mif\u001b[39;00m response:\n\u001b[0;32m--> 424\u001b[0m     \u001b[38;5;28;43mself\u001b[39;49m\u001b[38;5;241;43m.\u001b[39;49m\u001b[43merror_handler\u001b[49m\u001b[38;5;241;43m.\u001b[39;49m\u001b[43mcheck_response\u001b[49m\u001b[43m(\u001b[49m\u001b[43mresponse\u001b[49m\u001b[43m)\u001b[49m\n\u001b[1;32m    425\u001b[0m     response[\u001b[38;5;124m'\u001b[39m\u001b[38;5;124mvalue\u001b[39m\u001b[38;5;124m'\u001b[39m] \u001b[38;5;241m=\u001b[39m \u001b[38;5;28mself\u001b[39m\u001b[38;5;241m.\u001b[39m_unwrap_value(\n\u001b[1;32m    426\u001b[0m         response\u001b[38;5;241m.\u001b[39mget(\u001b[38;5;124m'\u001b[39m\u001b[38;5;124mvalue\u001b[39m\u001b[38;5;124m'\u001b[39m, \u001b[38;5;28;01mNone\u001b[39;00m))\n\u001b[1;32m    427\u001b[0m     \u001b[38;5;28;01mreturn\u001b[39;00m response\n",
      "File \u001b[0;32m/opt/anaconda3/envs/comm/lib/python3.8/site-packages/selenium/webdriver/remote/errorhandler.py:247\u001b[0m, in \u001b[0;36mErrorHandler.check_response\u001b[0;34m(self, response)\u001b[0m\n\u001b[1;32m    245\u001b[0m         alert_text \u001b[38;5;241m=\u001b[39m value[\u001b[38;5;124m'\u001b[39m\u001b[38;5;124malert\u001b[39m\u001b[38;5;124m'\u001b[39m]\u001b[38;5;241m.\u001b[39mget(\u001b[38;5;124m'\u001b[39m\u001b[38;5;124mtext\u001b[39m\u001b[38;5;124m'\u001b[39m)\n\u001b[1;32m    246\u001b[0m     \u001b[38;5;28;01mraise\u001b[39;00m exception_class(message, screen, stacktrace, alert_text)  \u001b[38;5;66;03m# type: ignore[call-arg]  # mypy is not smart enough here\u001b[39;00m\n\u001b[0;32m--> 247\u001b[0m \u001b[38;5;28;01mraise\u001b[39;00m exception_class(message, screen, stacktrace)\n",
      "\u001b[0;31mElementClickInterceptedException\u001b[0m: Message: Element <select id=\"VolumeList\" class=\"issue-browse-year-list issue-browse-select\"> is not clickable at point (120,415) because another element <div class=\"section-jump-link__link-wrap\"> obscures it\nStacktrace:\nWebDriverError@chrome://remote/content/shared/webdriver/Errors.jsm:186:5\nElementClickInterceptedError@chrome://remote/content/shared/webdriver/Errors.jsm:285:5\nwebdriverClickElement@chrome://remote/content/marionette/interaction.js:166:11\ninteraction.clickElement@chrome://remote/content/marionette/interaction.js:125:11\nclickElement@chrome://remote/content/marionette/actors/MarionetteCommandsChild.jsm:203:24\nreceiveMessage@chrome://remote/content/marionette/actors/MarionetteCommandsChild.jsm:91:31\n"
     ]
    }
   ],
   "source": [
    "tuples = []\n",
    "journal = 'CCC'\n",
    "for volume in volume_option_texts:\n",
    "    volume_num = f'Volume {volume}'\n",
    "    print(f'volume {volume} has started')\n",
    "    volumeSelect = get_volumeSelect()\n",
    "    volumeSelect.select_by_visible_text(volume)\n",
    "    issueSelect = Select(driver.find_element(\n",
    "        By.CSS_SELECTOR, '.issue-browse-issues-list'\n",
    "    ))\n",
    "    issue_option_texts = get_issue_option_texts()\n",
    "    for issue in issue_option_texts:\n",
    "        issue_num, month, year = get_issue_num_year_and_month(issue)\n",
    "        issueSelect.select_by_visible_text(issue)\n",
    "        extract_paper_info(tuples, journal, volume_num, issue_num, month, year)\n",
    "        print(f'{issue} is done')\n",
    "        issueSelect = Select(driver.find_element(\n",
    "            By.CSS_SELECTOR, '.issue-browse-issues-list'\n",
    "        ))"
   ]
  }
 ],
 "metadata": {
  "kernelspec": {
   "display_name": "Python 3 (ipykernel)",
   "language": "python",
   "name": "python3"
  },
  "language_info": {
   "codemirror_mode": {
    "name": "ipython",
    "version": 3
   },
   "file_extension": ".py",
   "mimetype": "text/x-python",
   "name": "python",
   "nbconvert_exporter": "python",
   "pygments_lexer": "ipython3",
   "version": "3.8.13"
  }
 },
 "nbformat": 4,
 "nbformat_minor": 5
}
