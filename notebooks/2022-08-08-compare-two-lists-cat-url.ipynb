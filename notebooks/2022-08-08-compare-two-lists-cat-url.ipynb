{
 "cells": [
  {
   "cell_type": "markdown",
   "id": "42c70b54",
   "metadata": {},
   "source": [
    "## Aim\n",
    "\n",
    "Someone has modified the cat-url sheet and I want to compare that with my original one. \n",
    "\n",
    "Results: they are the same. "
   ]
  },
  {
   "cell_type": "code",
   "execution_count": 1,
   "id": "bfacb6e6",
   "metadata": {},
   "outputs": [],
   "source": [
    "import pandas as pd"
   ]
  },
  {
   "cell_type": "code",
   "execution_count": 2,
   "id": "50b4d64d",
   "metadata": {},
   "outputs": [],
   "source": [
    "df = pd.read_csv('cat-url-compare.csv')"
   ]
  },
  {
   "cell_type": "code",
   "execution_count": 4,
   "id": "143a7e59",
   "metadata": {},
   "outputs": [
    {
     "data": {
      "text/html": [
       "<div>\n",
       "<style scoped>\n",
       "    .dataframe tbody tr th:only-of-type {\n",
       "        vertical-align: middle;\n",
       "    }\n",
       "\n",
       "    .dataframe tbody tr th {\n",
       "        vertical-align: top;\n",
       "    }\n",
       "\n",
       "    .dataframe thead th {\n",
       "        text-align: right;\n",
       "    }\n",
       "</style>\n",
       "<table border=\"1\" class=\"dataframe\">\n",
       "  <thead>\n",
       "    <tr style=\"text-align: right;\">\n",
       "      <th></th>\n",
       "      <th>issueURL</th>\n",
       "      <th>category</th>\n",
       "      <th>category.1</th>\n",
       "      <th>issueURL.1</th>\n",
       "      <th>TO_EXCLUDE</th>\n",
       "      <th>TO_EXCLUDE.1</th>\n",
       "      <th>Kristen_Ccomment</th>\n",
       "      <th>Yijie_Comment</th>\n",
       "      <th>Haley_Comment</th>\n",
       "      <th>Hongtao_Comment</th>\n",
       "    </tr>\n",
       "  </thead>\n",
       "  <tbody>\n",
       "    <tr>\n",
       "      <th>0</th>\n",
       "      <td>https://academic.oup.com/joc/issue/47/1?browse...</td>\n",
       "      <td>1996 ICA Presidential Address</td>\n",
       "      <td>1996 ICA Presidential Address</td>\n",
       "      <td>https://academic.oup.com/joc/issue/47/1?browse...</td>\n",
       "      <td>True</td>\n",
       "      <td>True</td>\n",
       "      <td>NaN</td>\n",
       "      <td>NaN</td>\n",
       "      <td>NaN</td>\n",
       "      <td>NaN</td>\n",
       "    </tr>\n",
       "    <tr>\n",
       "      <th>1</th>\n",
       "      <td>https://academic.oup.com/joc/issue/47/4?browse...</td>\n",
       "      <td>1997 Presidential Address</td>\n",
       "      <td>1997 Presidential Address</td>\n",
       "      <td>https://academic.oup.com/joc/issue/47/4?browse...</td>\n",
       "      <td>True</td>\n",
       "      <td>True</td>\n",
       "      <td>NaN</td>\n",
       "      <td>NaN</td>\n",
       "      <td>NaN</td>\n",
       "      <td>NaN</td>\n",
       "    </tr>\n",
       "    <tr>\n",
       "      <th>2</th>\n",
       "      <td>https://academic.oup.com/joc/issue/48/4?browse...</td>\n",
       "      <td>1998 ICA Presidential Address</td>\n",
       "      <td>1998 ICA Presidential Address</td>\n",
       "      <td>https://academic.oup.com/joc/issue/48/4?browse...</td>\n",
       "      <td>True</td>\n",
       "      <td>True</td>\n",
       "      <td>NaN</td>\n",
       "      <td>NaN</td>\n",
       "      <td>NaN</td>\n",
       "      <td>NaN</td>\n",
       "    </tr>\n",
       "    <tr>\n",
       "      <th>3</th>\n",
       "      <td>https://academic.oup.com/joc/issue/49/4?browse...</td>\n",
       "      <td>1999 ICA Presidential Address</td>\n",
       "      <td>1999 ICA Presidential Address</td>\n",
       "      <td>https://academic.oup.com/joc/issue/49/4?browse...</td>\n",
       "      <td>True</td>\n",
       "      <td>True</td>\n",
       "      <td>NaN</td>\n",
       "      <td>NaN</td>\n",
       "      <td>NaN</td>\n",
       "      <td>NaN</td>\n",
       "    </tr>\n",
       "    <tr>\n",
       "      <th>4</th>\n",
       "      <td>https://academic.oup.com/joc/issue/53/1?browse...</td>\n",
       "      <td>2002 ICA Presidential Address</td>\n",
       "      <td>2002 ICA Presidential Address</td>\n",
       "      <td>https://academic.oup.com/joc/issue/53/1?browse...</td>\n",
       "      <td>True</td>\n",
       "      <td>True</td>\n",
       "      <td>NaN</td>\n",
       "      <td>NaN</td>\n",
       "      <td>NaN</td>\n",
       "      <td>NaN</td>\n",
       "    </tr>\n",
       "  </tbody>\n",
       "</table>\n",
       "</div>"
      ],
      "text/plain": [
       "                                            issueURL  \\\n",
       "0  https://academic.oup.com/joc/issue/47/1?browse...   \n",
       "1  https://academic.oup.com/joc/issue/47/4?browse...   \n",
       "2  https://academic.oup.com/joc/issue/48/4?browse...   \n",
       "3  https://academic.oup.com/joc/issue/49/4?browse...   \n",
       "4  https://academic.oup.com/joc/issue/53/1?browse...   \n",
       "\n",
       "                        category                     category.1  \\\n",
       "0  1996 ICA Presidential Address  1996 ICA Presidential Address   \n",
       "1      1997 Presidential Address      1997 Presidential Address   \n",
       "2  1998 ICA Presidential Address  1998 ICA Presidential Address   \n",
       "3  1999 ICA Presidential Address  1999 ICA Presidential Address   \n",
       "4  2002 ICA Presidential Address  2002 ICA Presidential Address   \n",
       "\n",
       "                                          issueURL.1  TO_EXCLUDE  \\\n",
       "0  https://academic.oup.com/joc/issue/47/1?browse...        True   \n",
       "1  https://academic.oup.com/joc/issue/47/4?browse...        True   \n",
       "2  https://academic.oup.com/joc/issue/48/4?browse...        True   \n",
       "3  https://academic.oup.com/joc/issue/49/4?browse...        True   \n",
       "4  https://academic.oup.com/joc/issue/53/1?browse...        True   \n",
       "\n",
       "   TO_EXCLUDE.1 Kristen_Ccomment Yijie_Comment Haley_Comment Hongtao_Comment  \n",
       "0          True              NaN           NaN           NaN             NaN  \n",
       "1          True              NaN           NaN           NaN             NaN  \n",
       "2          True              NaN           NaN           NaN             NaN  \n",
       "3          True              NaN           NaN           NaN             NaN  \n",
       "4          True              NaN           NaN           NaN             NaN  "
      ]
     },
     "execution_count": 4,
     "metadata": {},
     "output_type": "execute_result"
    }
   ],
   "source": [
    "df.head()"
   ]
  },
  {
   "cell_type": "code",
   "execution_count": 9,
   "id": "1b7542ed",
   "metadata": {},
   "outputs": [
    {
     "data": {
      "text/html": [
       "<div>\n",
       "<style scoped>\n",
       "    .dataframe tbody tr th:only-of-type {\n",
       "        vertical-align: middle;\n",
       "    }\n",
       "\n",
       "    .dataframe tbody tr th {\n",
       "        vertical-align: top;\n",
       "    }\n",
       "\n",
       "    .dataframe thead th {\n",
       "        text-align: right;\n",
       "    }\n",
       "</style>\n",
       "<table border=\"1\" class=\"dataframe\">\n",
       "  <thead>\n",
       "    <tr style=\"text-align: right;\">\n",
       "      <th></th>\n",
       "      <th>issueURL</th>\n",
       "      <th>category</th>\n",
       "      <th>category.1</th>\n",
       "      <th>issueURL.1</th>\n",
       "      <th>TO_EXCLUDE</th>\n",
       "      <th>TO_EXCLUDE.1</th>\n",
       "      <th>Kristen_Ccomment</th>\n",
       "      <th>Yijie_Comment</th>\n",
       "      <th>Haley_Comment</th>\n",
       "      <th>Hongtao_Comment</th>\n",
       "    </tr>\n",
       "  </thead>\n",
       "  <tbody>\n",
       "    <tr>\n",
       "      <th>0</th>\n",
       "      <td>https://academic.oup.com/joc/issue/47/1?browse...</td>\n",
       "      <td>1996 ICA Presidential Address</td>\n",
       "      <td>1996 ICA Presidential Address</td>\n",
       "      <td>https://academic.oup.com/joc/issue/47/1?browse...</td>\n",
       "      <td>True</td>\n",
       "      <td>True</td>\n",
       "      <td>NaN</td>\n",
       "      <td>NaN</td>\n",
       "      <td>NaN</td>\n",
       "      <td>NaN</td>\n",
       "    </tr>\n",
       "    <tr>\n",
       "      <th>1</th>\n",
       "      <td>https://academic.oup.com/joc/issue/47/4?browse...</td>\n",
       "      <td>1997 Presidential Address</td>\n",
       "      <td>1997 Presidential Address</td>\n",
       "      <td>https://academic.oup.com/joc/issue/47/4?browse...</td>\n",
       "      <td>True</td>\n",
       "      <td>True</td>\n",
       "      <td>NaN</td>\n",
       "      <td>NaN</td>\n",
       "      <td>NaN</td>\n",
       "      <td>NaN</td>\n",
       "    </tr>\n",
       "    <tr>\n",
       "      <th>2</th>\n",
       "      <td>https://academic.oup.com/joc/issue/48/4?browse...</td>\n",
       "      <td>1998 ICA Presidential Address</td>\n",
       "      <td>1998 ICA Presidential Address</td>\n",
       "      <td>https://academic.oup.com/joc/issue/48/4?browse...</td>\n",
       "      <td>True</td>\n",
       "      <td>True</td>\n",
       "      <td>NaN</td>\n",
       "      <td>NaN</td>\n",
       "      <td>NaN</td>\n",
       "      <td>NaN</td>\n",
       "    </tr>\n",
       "    <tr>\n",
       "      <th>3</th>\n",
       "      <td>https://academic.oup.com/joc/issue/49/4?browse...</td>\n",
       "      <td>1999 ICA Presidential Address</td>\n",
       "      <td>1999 ICA Presidential Address</td>\n",
       "      <td>https://academic.oup.com/joc/issue/49/4?browse...</td>\n",
       "      <td>True</td>\n",
       "      <td>True</td>\n",
       "      <td>NaN</td>\n",
       "      <td>NaN</td>\n",
       "      <td>NaN</td>\n",
       "      <td>NaN</td>\n",
       "    </tr>\n",
       "    <tr>\n",
       "      <th>4</th>\n",
       "      <td>https://academic.oup.com/joc/issue/53/1?browse...</td>\n",
       "      <td>2002 ICA Presidential Address</td>\n",
       "      <td>2002 ICA Presidential Address</td>\n",
       "      <td>https://academic.oup.com/joc/issue/53/1?browse...</td>\n",
       "      <td>True</td>\n",
       "      <td>True</td>\n",
       "      <td>NaN</td>\n",
       "      <td>NaN</td>\n",
       "      <td>NaN</td>\n",
       "      <td>NaN</td>\n",
       "    </tr>\n",
       "  </tbody>\n",
       "</table>\n",
       "</div>"
      ],
      "text/plain": [
       "                                            issueURL  \\\n",
       "0  https://academic.oup.com/joc/issue/47/1?browse...   \n",
       "1  https://academic.oup.com/joc/issue/47/4?browse...   \n",
       "2  https://academic.oup.com/joc/issue/48/4?browse...   \n",
       "3  https://academic.oup.com/joc/issue/49/4?browse...   \n",
       "4  https://academic.oup.com/joc/issue/53/1?browse...   \n",
       "\n",
       "                        category                     category.1  \\\n",
       "0  1996 ICA Presidential Address  1996 ICA Presidential Address   \n",
       "1      1997 Presidential Address      1997 Presidential Address   \n",
       "2  1998 ICA Presidential Address  1998 ICA Presidential Address   \n",
       "3  1999 ICA Presidential Address  1999 ICA Presidential Address   \n",
       "4  2002 ICA Presidential Address  2002 ICA Presidential Address   \n",
       "\n",
       "                                          issueURL.1  TO_EXCLUDE  \\\n",
       "0  https://academic.oup.com/joc/issue/47/1?browse...        True   \n",
       "1  https://academic.oup.com/joc/issue/47/4?browse...        True   \n",
       "2  https://academic.oup.com/joc/issue/48/4?browse...        True   \n",
       "3  https://academic.oup.com/joc/issue/49/4?browse...        True   \n",
       "4  https://academic.oup.com/joc/issue/53/1?browse...        True   \n",
       "\n",
       "   TO_EXCLUDE.1 Kristen_Ccomment Yijie_Comment Haley_Comment Hongtao_Comment  \n",
       "0          True              NaN           NaN           NaN             NaN  \n",
       "1          True              NaN           NaN           NaN             NaN  \n",
       "2          True              NaN           NaN           NaN             NaN  \n",
       "3          True              NaN           NaN           NaN             NaN  \n",
       "4          True              NaN           NaN           NaN             NaN  "
      ]
     },
     "execution_count": 9,
     "metadata": {},
     "output_type": "execute_result"
    }
   ],
   "source": [
    "df = df.iloc[0:271, :]\n",
    "df.head()"
   ]
  },
  {
   "cell_type": "code",
   "execution_count": 14,
   "id": "31d79d0b",
   "metadata": {},
   "outputs": [
    {
     "data": {
      "text/plain": [
       "271"
      ]
     },
     "execution_count": 14,
     "metadata": {},
     "output_type": "execute_result"
    }
   ],
   "source": [
    "len(df)"
   ]
  },
  {
   "cell_type": "code",
   "execution_count": 23,
   "id": "a76547d9",
   "metadata": {},
   "outputs": [
    {
     "data": {
      "text/plain": [
       "'About the Authors'"
      ]
     },
     "execution_count": 23,
     "metadata": {},
     "output_type": "execute_result"
    }
   ],
   "source": [
    "df.category[8]"
   ]
  },
  {
   "cell_type": "code",
   "execution_count": 17,
   "id": "6ca19222",
   "metadata": {},
   "outputs": [
    {
     "name": "stdout",
     "output_type": "stream",
     "text": [
      "40\n",
      "DIFFERENT\n",
      "41\n",
      "DIFFERENT\n",
      "47\n",
      "DIFFERENT\n",
      "48\n",
      "DIFFERENT\n",
      "194\n",
      "DIFFERENT\n",
      "195\n",
      "DIFFERENT\n"
     ]
    }
   ],
   "source": [
    "diff = []\n",
    "for i in range(0, len(df)):\n",
    "    if df.category[i] != df['category.1'][i]:\n",
    "        print(i)\n",
    "        diff.append(i)\n",
    "        print('DIFFERENT')\n",
    "# df.category == df['category.1']"
   ]
  },
  {
   "cell_type": "code",
   "execution_count": 18,
   "id": "988a43e7",
   "metadata": {},
   "outputs": [
    {
     "data": {
      "text/plain": [
       "[40, 41, 47, 48, 194, 195]"
      ]
     },
     "execution_count": 18,
     "metadata": {},
     "output_type": "execute_result"
    }
   ],
   "source": [
    "diff"
   ]
  },
  {
   "cell_type": "code",
   "execution_count": 19,
   "id": "b8b82861",
   "metadata": {},
   "outputs": [
    {
     "data": {
      "text/plain": [
       "issueURL            https://academic.oup.com/ct/issue/16/1?browseB...\n",
       "category                                              Call For Papers\n",
       "category.1                                            Call for Papers\n",
       "issueURL.1          https://academic.oup.com/ct/issue/13/4?browseB...\n",
       "TO_EXCLUDE                                                      False\n",
       "TO_EXCLUDE.1                                                     True\n",
       "Kristen_Ccomment                                                  NaN\n",
       "Yijie_Comment                                                     NaN\n",
       "Haley_Comment                                                     NaN\n",
       "Hongtao_Comment                                                   NaN\n",
       "Name: 40, dtype: object"
      ]
     },
     "execution_count": 19,
     "metadata": {},
     "output_type": "execute_result"
    }
   ],
   "source": [
    "df.iloc[40,:]"
   ]
  },
  {
   "cell_type": "code",
   "execution_count": 20,
   "id": "263dfb19",
   "metadata": {},
   "outputs": [
    {
     "data": {
      "text/plain": [
       "issueURL            https://academic.oup.com/joc/issue/25/1?browse...\n",
       "category                                                     colloquy\n",
       "category.1                                                   Colloquy\n",
       "issueURL.1          https://academic.oup.com/hcr/issue/25/3?browse...\n",
       "TO_EXCLUDE                                                      False\n",
       "TO_EXCLUDE.1                                                     True\n",
       "Kristen_Ccomment                                                 TRUE\n",
       "Yijie_Comment                                                     NaN\n",
       "Haley_Comment                                                     NaN\n",
       "Hongtao_Comment                                                   NaN\n",
       "Name: 47, dtype: object"
      ]
     },
     "execution_count": 20,
     "metadata": {},
     "output_type": "execute_result"
    }
   ],
   "source": [
    "df.iloc[47, :]"
   ]
  },
  {
   "cell_type": "code",
   "execution_count": 21,
   "id": "cf6b4cd9",
   "metadata": {},
   "outputs": [
    {
     "data": {
      "text/plain": [
       "issueURL            https://academic.oup.com/hcr/issue/25/3?browse...\n",
       "category                                                     Colloquy\n",
       "category.1                                                   colloquy\n",
       "issueURL.1          https://academic.oup.com/joc/issue/25/1?browse...\n",
       "TO_EXCLUDE                                                      False\n",
       "TO_EXCLUDE.1                                                    False\n",
       "Kristen_Ccomment                                                FALSE\n",
       "Yijie_Comment                                                    TRUE\n",
       "Haley_Comment                                                    True\n",
       "Hongtao_Comment                                                   NaN\n",
       "Name: 48, dtype: object"
      ]
     },
     "execution_count": 21,
     "metadata": {},
     "output_type": "execute_result"
    }
   ],
   "source": [
    "df.iloc[48, :]"
   ]
  },
  {
   "cell_type": "code",
   "execution_count": null,
   "id": "7fdfd015",
   "metadata": {},
   "outputs": [],
   "source": []
  }
 ],
 "metadata": {
  "kernelspec": {
   "display_name": "Python 3 (ipykernel)",
   "language": "python",
   "name": "python3"
  },
  "language_info": {
   "codemirror_mode": {
    "name": "ipython",
    "version": 3
   },
   "file_extension": ".py",
   "mimetype": "text/x-python",
   "name": "python",
   "nbconvert_exporter": "python",
   "pygments_lexer": "ipython3",
   "version": "3.8.13"
  }
 },
 "nbformat": 4,
 "nbformat_minor": 5
}
