{
 "cells": [
  {
   "cell_type": "markdown",
   "id": "de692ada",
   "metadata": {},
   "source": [
    "## Aim\n",
    "\n",
    "With this notebook, I want to see how many affiliations are the same. The purpose of my checking this is to see whether there are many duplicated affiliations. If yes, then I can use the dedupped ones rather than the original ones. It turns out there are so many duplicates. So, I won't bother deduplicating the list. "
   ]
  },
  {
   "cell_type": "code",
   "execution_count": 2,
   "id": "4ad9fcba",
   "metadata": {},
   "outputs": [],
   "source": [
    "import pandas as pd"
   ]
  },
  {
   "cell_type": "code",
   "execution_count": 4,
   "id": "b3506da3",
   "metadata": {},
   "outputs": [],
   "source": [
    "df = pd.read_csv('../data/processed/author_with_pred.csv')"
   ]
  },
  {
   "cell_type": "code",
   "execution_count": 8,
   "id": "b9dca011",
   "metadata": {},
   "outputs": [
    {
     "data": {
      "text/plain": [
       "13603"
      ]
     },
     "execution_count": 8,
     "metadata": {},
     "output_type": "execute_result"
    }
   ],
   "source": [
    "affs = df['affiliation.2'].tolist()\n",
    "len(affs)"
   ]
  },
  {
   "cell_type": "code",
   "execution_count": 10,
   "id": "57d3f3e3",
   "metadata": {},
   "outputs": [
    {
     "data": {
      "text/plain": [
       "9643"
      ]
     },
     "execution_count": 10,
     "metadata": {},
     "output_type": "execute_result"
    }
   ],
   "source": [
    "affs_dedupped = list(set(affs))\n",
    "len(affs_dedupped)"
   ]
  },
  {
   "cell_type": "code",
   "execution_count": null,
   "id": "5830addf",
   "metadata": {},
   "outputs": [],
   "source": []
  }
 ],
 "metadata": {
  "kernelspec": {
   "display_name": "Python 3 (ipykernel)",
   "language": "python",
   "name": "python3"
  },
  "language_info": {
   "codemirror_mode": {
    "name": "ipython",
    "version": 3
   },
   "file_extension": ".py",
   "mimetype": "text/x-python",
   "name": "python",
   "nbconvert_exporter": "python",
   "pygments_lexer": "ipython3",
   "version": "3.8.13"
  }
 },
 "nbformat": 4,
 "nbformat_minor": 5
}
