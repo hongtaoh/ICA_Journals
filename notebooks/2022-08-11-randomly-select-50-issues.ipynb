{
 "cells": [
  {
   "cell_type": "markdown",
   "id": "fa2fec75",
   "metadata": {},
   "source": [
    "## Aim\n",
    "\n",
    "to randomly select 50 issue urls. "
   ]
  },
  {
   "cell_type": "code",
   "execution_count": 50,
   "id": "96fa6c65",
   "metadata": {},
   "outputs": [],
   "source": [
    "import pandas as pd\n",
    "import random"
   ]
  },
  {
   "cell_type": "code",
   "execution_count": 55,
   "id": "7c5aa633",
   "metadata": {},
   "outputs": [],
   "source": [
    "df = pd.read_csv('../data/interim/ica_paper_df.csv')"
   ]
  },
  {
   "cell_type": "code",
   "execution_count": 56,
   "id": "66610f48",
   "metadata": {},
   "outputs": [
    {
     "name": "stdout",
     "output_type": "stream",
     "text": [
      "There are 799 issues.\n"
     ]
    }
   ],
   "source": [
    "dedupped_issues = list(set(df.issueURL))\n",
    "dedupped_issues.sort()\n",
    "print(f'There are {len(dedupped_issues)} issues.')"
   ]
  },
  {
   "cell_type": "code",
   "execution_count": 57,
   "id": "986a08ae",
   "metadata": {},
   "outputs": [],
   "source": [
    "random.seed(1234)\n",
    "random_issues = random.sample(dedupped_issues, 50)"
   ]
  },
  {
   "cell_type": "code",
   "execution_count": 58,
   "id": "3f97d18b",
   "metadata": {},
   "outputs": [],
   "source": [
    "with open('issues.txt', 'w') as f:\n",
    "    for issue in random_issues:\n",
    "        f.write(\"%s\\n\" % issue)"
   ]
  },
  {
   "cell_type": "code",
   "execution_count": null,
   "id": "48a9c5e0",
   "metadata": {},
   "outputs": [],
   "source": []
  }
 ],
 "metadata": {
  "kernelspec": {
   "display_name": "Python 3 (ipykernel)",
   "language": "python",
   "name": "python3"
  },
  "language_info": {
   "codemirror_mode": {
    "name": "ipython",
    "version": 3
   },
   "file_extension": ".py",
   "mimetype": "text/x-python",
   "name": "python",
   "nbconvert_exporter": "python",
   "pygments_lexer": "ipython3",
   "version": "3.8.13"
  }
 },
 "nbformat": 4,
 "nbformat_minor": 5
}
