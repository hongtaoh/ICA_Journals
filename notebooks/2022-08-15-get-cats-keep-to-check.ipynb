{
 "cells": [
  {
   "cell_type": "markdown",
   "id": "7ceabfa9",
   "metadata": {},
   "source": [
    "## Aim\n",
    "\n",
    "The aim of this notebook is to generate a file that Kristen and I will use to identify dois that should be deleted but which were not identified by filtering the categories. "
   ]
  },
  {
   "cell_type": "code",
   "execution_count": 24,
   "id": "5dadf1cb",
   "metadata": {},
   "outputs": [],
   "source": [
    "import pandas as pd\n",
    "from collections import Counter"
   ]
  },
  {
   "cell_type": "code",
   "execution_count": 25,
   "id": "b817a218",
   "metadata": {},
   "outputs": [
    {
     "data": {
      "text/html": [
       "<div>\n",
       "<style scoped>\n",
       "    .dataframe tbody tr th:only-of-type {\n",
       "        vertical-align: middle;\n",
       "    }\n",
       "\n",
       "    .dataframe tbody tr th {\n",
       "        vertical-align: top;\n",
       "    }\n",
       "\n",
       "    .dataframe thead th {\n",
       "        text-align: right;\n",
       "    }\n",
       "</style>\n",
       "<table border=\"1\" class=\"dataframe\">\n",
       "  <thead>\n",
       "    <tr style=\"text-align: right;\">\n",
       "      <th></th>\n",
       "      <th>issueURL_outdated</th>\n",
       "      <th>category_outdated</th>\n",
       "      <th>category</th>\n",
       "      <th>issueURL</th>\n",
       "      <th>TO_EXCLUDE</th>\n",
       "      <th>TO_EXCLUDE_outdated</th>\n",
       "      <th>Kristen_Ccomment</th>\n",
       "      <th>Yijie_Comment</th>\n",
       "      <th>Haley_Comment</th>\n",
       "      <th>Hongtao_Comment</th>\n",
       "    </tr>\n",
       "  </thead>\n",
       "  <tbody>\n",
       "    <tr>\n",
       "      <th>0</th>\n",
       "      <td>https://academic.oup.com/joc/issue/47/1?browse...</td>\n",
       "      <td>1996 ICA Presidential Address</td>\n",
       "      <td>1996 ICA Presidential Address</td>\n",
       "      <td>https://academic.oup.com/joc/issue/47/1?browse...</td>\n",
       "      <td>True</td>\n",
       "      <td>True</td>\n",
       "      <td>NaN</td>\n",
       "      <td>NaN</td>\n",
       "      <td>NaN</td>\n",
       "      <td>NaN</td>\n",
       "    </tr>\n",
       "    <tr>\n",
       "      <th>1</th>\n",
       "      <td>https://academic.oup.com/joc/issue/47/4?browse...</td>\n",
       "      <td>1997 Presidential Address</td>\n",
       "      <td>1997 Presidential Address</td>\n",
       "      <td>https://academic.oup.com/joc/issue/47/4?browse...</td>\n",
       "      <td>True</td>\n",
       "      <td>True</td>\n",
       "      <td>NaN</td>\n",
       "      <td>NaN</td>\n",
       "      <td>NaN</td>\n",
       "      <td>NaN</td>\n",
       "    </tr>\n",
       "    <tr>\n",
       "      <th>2</th>\n",
       "      <td>https://academic.oup.com/joc/issue/48/4?browse...</td>\n",
       "      <td>1998 ICA Presidential Address</td>\n",
       "      <td>1998 ICA Presidential Address</td>\n",
       "      <td>https://academic.oup.com/joc/issue/48/4?browse...</td>\n",
       "      <td>True</td>\n",
       "      <td>True</td>\n",
       "      <td>NaN</td>\n",
       "      <td>NaN</td>\n",
       "      <td>NaN</td>\n",
       "      <td>NaN</td>\n",
       "    </tr>\n",
       "    <tr>\n",
       "      <th>3</th>\n",
       "      <td>https://academic.oup.com/joc/issue/49/4?browse...</td>\n",
       "      <td>1999 ICA Presidential Address</td>\n",
       "      <td>1999 ICA Presidential Address</td>\n",
       "      <td>https://academic.oup.com/joc/issue/49/4?browse...</td>\n",
       "      <td>True</td>\n",
       "      <td>True</td>\n",
       "      <td>NaN</td>\n",
       "      <td>NaN</td>\n",
       "      <td>NaN</td>\n",
       "      <td>NaN</td>\n",
       "    </tr>\n",
       "    <tr>\n",
       "      <th>4</th>\n",
       "      <td>https://academic.oup.com/joc/issue/53/1?browse...</td>\n",
       "      <td>2002 ICA Presidential Address</td>\n",
       "      <td>2002 ICA Presidential Address</td>\n",
       "      <td>https://academic.oup.com/joc/issue/53/1?browse...</td>\n",
       "      <td>True</td>\n",
       "      <td>True</td>\n",
       "      <td>NaN</td>\n",
       "      <td>NaN</td>\n",
       "      <td>NaN</td>\n",
       "      <td>NaN</td>\n",
       "    </tr>\n",
       "  </tbody>\n",
       "</table>\n",
       "</div>"
      ],
      "text/plain": [
       "                                   issueURL_outdated  \\\n",
       "0  https://academic.oup.com/joc/issue/47/1?browse...   \n",
       "1  https://academic.oup.com/joc/issue/47/4?browse...   \n",
       "2  https://academic.oup.com/joc/issue/48/4?browse...   \n",
       "3  https://academic.oup.com/joc/issue/49/4?browse...   \n",
       "4  https://academic.oup.com/joc/issue/53/1?browse...   \n",
       "\n",
       "               category_outdated                       category  \\\n",
       "0  1996 ICA Presidential Address  1996 ICA Presidential Address   \n",
       "1      1997 Presidential Address      1997 Presidential Address   \n",
       "2  1998 ICA Presidential Address  1998 ICA Presidential Address   \n",
       "3  1999 ICA Presidential Address  1999 ICA Presidential Address   \n",
       "4  2002 ICA Presidential Address  2002 ICA Presidential Address   \n",
       "\n",
       "                                            issueURL  TO_EXCLUDE  \\\n",
       "0  https://academic.oup.com/joc/issue/47/1?browse...        True   \n",
       "1  https://academic.oup.com/joc/issue/47/4?browse...        True   \n",
       "2  https://academic.oup.com/joc/issue/48/4?browse...        True   \n",
       "3  https://academic.oup.com/joc/issue/49/4?browse...        True   \n",
       "4  https://academic.oup.com/joc/issue/53/1?browse...        True   \n",
       "\n",
       "   TO_EXCLUDE_outdated Kristen_Ccomment Yijie_Comment Haley_Comment  \\\n",
       "0                 True              NaN           NaN           NaN   \n",
       "1                 True              NaN           NaN           NaN   \n",
       "2                 True              NaN           NaN           NaN   \n",
       "3                 True              NaN           NaN           NaN   \n",
       "4                 True              NaN           NaN           NaN   \n",
       "\n",
       "  Hongtao_Comment  \n",
       "0             NaN  \n",
       "1             NaN  \n",
       "2             NaN  \n",
       "3             NaN  \n",
       "4             NaN  "
      ]
     },
     "execution_count": 25,
     "metadata": {},
     "output_type": "execute_result"
    }
   ],
   "source": [
    "cat_issues = pd.read_csv('../data/interim/cat_classification.csv')\n",
    "cat_issues.head()"
   ]
  },
  {
   "cell_type": "code",
   "execution_count": 26,
   "id": "424de706",
   "metadata": {},
   "outputs": [
    {
     "data": {
      "text/plain": [
       "192                                  Research Article\n",
       "275    The Social Construction of Information Poverty\n",
       "257                                 The Academic Wars\n",
       "175                                 Original Articles\n",
       "93                              Effects of Television\n",
       "56                     Communication in Organizations\n",
       "49                      Colloquy on Item Desirability\n",
       "236               Symposium: Agenda Setting Revisited\n",
       "270            The New Telecommunications Marketplace\n",
       "68                                     Critical Essay\n",
       "Name: category, dtype: object"
      ]
     },
     "execution_count": 26,
     "metadata": {},
     "output_type": "execute_result"
    }
   ],
   "source": [
    "cats_to_keep = cat_issues[cat_issues.TO_EXCLUDE == False].category\n",
    "# These are the categories to keep\n",
    "cats_to_keep.sample(10)"
   ]
  },
  {
   "cell_type": "code",
   "execution_count": 27,
   "id": "2c04fbaa",
   "metadata": {},
   "outputs": [
    {
     "data": {
      "text/plain": [
       "(7708, 14)"
      ]
     },
     "execution_count": 27,
     "metadata": {},
     "output_type": "execute_result"
    }
   ],
   "source": [
    "df = pd.read_csv('../data/interim/ica_paper_df.csv')\n",
    "df.shape"
   ]
  },
  {
   "cell_type": "code",
   "execution_count": 28,
   "id": "06ce2058",
   "metadata": {},
   "outputs": [
    {
     "data": {
      "text/html": [
       "<div>\n",
       "<style scoped>\n",
       "    .dataframe tbody tr th:only-of-type {\n",
       "        vertical-align: middle;\n",
       "    }\n",
       "\n",
       "    .dataframe tbody tr th {\n",
       "        vertical-align: top;\n",
       "    }\n",
       "\n",
       "    .dataframe thead th {\n",
       "        text-align: right;\n",
       "    }\n",
       "</style>\n",
       "<table border=\"1\" class=\"dataframe\">\n",
       "  <thead>\n",
       "    <tr style=\"text-align: right;\">\n",
       "      <th></th>\n",
       "      <th>journal</th>\n",
       "      <th>issueURL</th>\n",
       "      <th>volumn</th>\n",
       "      <th>issue</th>\n",
       "      <th>issueText</th>\n",
       "      <th>month</th>\n",
       "      <th>year</th>\n",
       "      <th>category</th>\n",
       "      <th>title</th>\n",
       "      <th>url</th>\n",
       "      <th>doi</th>\n",
       "      <th>pages</th>\n",
       "      <th>abstract</th>\n",
       "      <th>abstract_para_num</th>\n",
       "    </tr>\n",
       "  </thead>\n",
       "  <tbody>\n",
       "    <tr>\n",
       "      <th>0</th>\n",
       "      <td>Journal of Communication</td>\n",
       "      <td>https://academic.oup.com/joc/issue/72/3?browse...</td>\n",
       "      <td>Volume 72</td>\n",
       "      <td>Issue 3</td>\n",
       "      <td>Issue 3, June 2022, Pages 297–449</td>\n",
       "      <td>June</td>\n",
       "      <td>2022</td>\n",
       "      <td>Articles</td>\n",
       "      <td>The Gender Divide in Wikipedia: Quantifying an...</td>\n",
       "      <td>https://academic.oup.com/joc/article/72/3/297/...</td>\n",
       "      <td>10.1093/joc/jqac004</td>\n",
       "      <td>297–321</td>\n",
       "      <td>Wikipedia has a well-known gender divide affec...</td>\n",
       "      <td>1.0</td>\n",
       "    </tr>\n",
       "    <tr>\n",
       "      <th>1</th>\n",
       "      <td>Journal of Communication</td>\n",
       "      <td>https://academic.oup.com/joc/issue/72/3?browse...</td>\n",
       "      <td>Volume 72</td>\n",
       "      <td>Issue 3</td>\n",
       "      <td>Issue 3, June 2022, Pages 297–449</td>\n",
       "      <td>June</td>\n",
       "      <td>2022</td>\n",
       "      <td>Articles</td>\n",
       "      <td>Mapping Exposure Diversity: The Divergent Effe...</td>\n",
       "      <td>https://academic.oup.com/joc/article/72/3/322/...</td>\n",
       "      <td>10.1093/joc/jqac009</td>\n",
       "      <td>322–344</td>\n",
       "      <td>Diversity is a crucial precondition for a demo...</td>\n",
       "      <td>1.0</td>\n",
       "    </tr>\n",
       "  </tbody>\n",
       "</table>\n",
       "</div>"
      ],
      "text/plain": [
       "                    journal  \\\n",
       "0  Journal of Communication   \n",
       "1  Journal of Communication   \n",
       "\n",
       "                                            issueURL     volumn    issue  \\\n",
       "0  https://academic.oup.com/joc/issue/72/3?browse...  Volume 72  Issue 3   \n",
       "1  https://academic.oup.com/joc/issue/72/3?browse...  Volume 72  Issue 3   \n",
       "\n",
       "                           issueText month  year  category  \\\n",
       "0  Issue 3, June 2022, Pages 297–449  June  2022  Articles   \n",
       "1  Issue 3, June 2022, Pages 297–449  June  2022  Articles   \n",
       "\n",
       "                                               title  \\\n",
       "0  The Gender Divide in Wikipedia: Quantifying an...   \n",
       "1  Mapping Exposure Diversity: The Divergent Effe...   \n",
       "\n",
       "                                                 url                  doi  \\\n",
       "0  https://academic.oup.com/joc/article/72/3/297/...  10.1093/joc/jqac004   \n",
       "1  https://academic.oup.com/joc/article/72/3/322/...  10.1093/joc/jqac009   \n",
       "\n",
       "     pages                                           abstract  \\\n",
       "0  297–321  Wikipedia has a well-known gender divide affec...   \n",
       "1  322–344  Diversity is a crucial precondition for a demo...   \n",
       "\n",
       "   abstract_para_num  \n",
       "0                1.0  \n",
       "1                1.0  "
      ]
     },
     "execution_count": 28,
     "metadata": {},
     "output_type": "execute_result"
    }
   ],
   "source": [
    "df_keep = df[df.category.isin(cats_to_keep)]\n",
    "df_keep.head(2)"
   ]
  },
  {
   "cell_type": "code",
   "execution_count": 29,
   "id": "7822c065",
   "metadata": {},
   "outputs": [
    {
     "data": {
      "text/plain": [
       "(6491, 14)"
      ]
     },
     "execution_count": 29,
     "metadata": {},
     "output_type": "execute_result"
    }
   ],
   "source": [
    "df_keep.shape"
   ]
  },
  {
   "cell_type": "code",
   "execution_count": 30,
   "id": "cbd334ff",
   "metadata": {},
   "outputs": [
    {
     "data": {
      "text/html": [
       "<div>\n",
       "<style scoped>\n",
       "    .dataframe tbody tr th:only-of-type {\n",
       "        vertical-align: middle;\n",
       "    }\n",
       "\n",
       "    .dataframe tbody tr th {\n",
       "        vertical-align: top;\n",
       "    }\n",
       "\n",
       "    .dataframe thead th {\n",
       "        text-align: right;\n",
       "    }\n",
       "</style>\n",
       "<table border=\"1\" class=\"dataframe\">\n",
       "  <thead>\n",
       "    <tr style=\"text-align: right;\">\n",
       "      <th></th>\n",
       "      <th>issueURL</th>\n",
       "      <th>category</th>\n",
       "    </tr>\n",
       "  </thead>\n",
       "  <tbody>\n",
       "    <tr>\n",
       "      <th>0</th>\n",
       "      <td>https://academic.oup.com/joc/issue/72/3?browse...</td>\n",
       "      <td>Articles</td>\n",
       "    </tr>\n",
       "    <tr>\n",
       "      <th>1</th>\n",
       "      <td>https://academic.oup.com/joc/issue/72/2?browse...</td>\n",
       "      <td>Articles</td>\n",
       "    </tr>\n",
       "    <tr>\n",
       "      <th>2</th>\n",
       "      <td>https://academic.oup.com/joc/issue/72/1?browse...</td>\n",
       "      <td>Articles</td>\n",
       "    </tr>\n",
       "    <tr>\n",
       "      <th>3</th>\n",
       "      <td>https://academic.oup.com/joc/issue/71/6?browse...</td>\n",
       "      <td>Articles</td>\n",
       "    </tr>\n",
       "    <tr>\n",
       "      <th>4</th>\n",
       "      <td>https://academic.oup.com/joc/issue/71/5?browse...</td>\n",
       "      <td>Articles</td>\n",
       "    </tr>\n",
       "  </tbody>\n",
       "</table>\n",
       "</div>"
      ],
      "text/plain": [
       "                                            issueURL  category\n",
       "0  https://academic.oup.com/joc/issue/72/3?browse...  Articles\n",
       "1  https://academic.oup.com/joc/issue/72/2?browse...  Articles\n",
       "2  https://academic.oup.com/joc/issue/72/1?browse...  Articles\n",
       "3  https://academic.oup.com/joc/issue/71/6?browse...  Articles\n",
       "4  https://academic.oup.com/joc/issue/71/5?browse...  Articles"
      ]
     },
     "execution_count": 30,
     "metadata": {},
     "output_type": "execute_result"
    }
   ],
   "source": [
    "dedup_issue_cat = df_keep[['issueURL', 'category']].drop_duplicates().reset_index(\n",
    "    drop=True)\n",
    "dedup_issue_cat.head()"
   ]
  },
  {
   "cell_type": "code",
   "execution_count": 31,
   "id": "4b6cc48f",
   "metadata": {},
   "outputs": [
    {
     "data": {
      "text/plain": [
       "['Articles',\n",
       " 'Original Articles',\n",
       " 'Original articles',\n",
       " 'Forum',\n",
       " 'Research Articles',\n",
       " 'Article',\n",
       " 'Research Note',\n",
       " 'Research Article',\n",
       " 'Colloquy',\n",
       " 'Homo Narrans',\n",
       " 'Sex, Violence, and the Rules of the Game',\n",
       " 'Original Research',\n",
       " 'Original article',\n",
       " 'Original Article',\n",
       " 'ORIGINAL ARTICLE',\n",
       " 'FORUM',\n",
       " 'Comparative Theory',\n",
       " 'Social Approaches',\n",
       " 'Brief Essay',\n",
       " 'Full-length Research Articles',\n",
       " 'General Articles',\n",
       " 'Special Section',\n",
       " 'Comment/Critique']"
      ]
     },
     "execution_count": 31,
     "metadata": {},
     "output_type": "execute_result"
    }
   ],
   "source": [
    "# categories that have a frequency larger than 1\n",
    "counter = Counter(dedup_issue_cat.category)\n",
    "repeated_cats = [k for k,c in dict(counter.items()).items() if c > 1]\n",
    "repeated_cats"
   ]
  },
  {
   "cell_type": "code",
   "execution_count": 33,
   "id": "118f707a",
   "metadata": {},
   "outputs": [
    {
     "data": {
      "text/plain": [
       "(1014, 2)"
      ]
     },
     "execution_count": 33,
     "metadata": {},
     "output_type": "execute_result"
    }
   ],
   "source": [
    "dedup_issue_cat.shape"
   ]
  },
  {
   "cell_type": "code",
   "execution_count": 34,
   "id": "76ac5c96",
   "metadata": {},
   "outputs": [],
   "source": [
    "cats_keep_to_check = dedup_issue_cat[dedup_issue_cat.category.isin(repeated_cats)].reset_index(\n",
    "    drop=True)[['category', 'issueURL']].sort_values('category')"
   ]
  },
  {
   "cell_type": "code",
   "execution_count": 35,
   "id": "0a8c966f",
   "metadata": {},
   "outputs": [
    {
     "data": {
      "text/plain": [
       "(871, 2)"
      ]
     },
     "execution_count": 35,
     "metadata": {},
     "output_type": "execute_result"
    }
   ],
   "source": [
    "cats_keep_to_check.shape"
   ]
  }
 ],
 "metadata": {
  "kernelspec": {
   "display_name": "Python 3 (ipykernel)",
   "language": "python",
   "name": "python3"
  },
  "language_info": {
   "codemirror_mode": {
    "name": "ipython",
    "version": 3
   },
   "file_extension": ".py",
   "mimetype": "text/x-python",
   "name": "python",
   "nbconvert_exporter": "python",
   "pygments_lexer": "ipython3",
   "version": "3.8.13"
  }
 },
 "nbformat": 4,
 "nbformat_minor": 5
}
