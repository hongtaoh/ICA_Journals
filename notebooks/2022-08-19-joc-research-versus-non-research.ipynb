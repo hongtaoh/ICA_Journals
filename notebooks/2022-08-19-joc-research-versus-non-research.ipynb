{
 "cells": [
  {
   "cell_type": "code",
   "execution_count": 1,
   "id": "e3e8b9e5",
   "metadata": {},
   "outputs": [],
   "source": [
    "import pandas as pd"
   ]
  },
  {
   "cell_type": "code",
   "execution_count": 2,
   "id": "e3e144e1",
   "metadata": {},
   "outputs": [],
   "source": [
    "df = pd.read_csv('../data/processed/ica_paper_df_with_type.csv')"
   ]
  },
  {
   "cell_type": "code",
   "execution_count": 5,
   "id": "b751f17c",
   "metadata": {},
   "outputs": [],
   "source": [
    "joc = df[df.journal == 'Journal of Communication']"
   ]
  },
  {
   "cell_type": "code",
   "execution_count": 7,
   "id": "89b7948d",
   "metadata": {},
   "outputs": [
    {
     "data": {
      "text/plain": [
       "(4133, 15)"
      ]
     },
     "execution_count": 7,
     "metadata": {},
     "output_type": "execute_result"
    }
   ],
   "source": [
    "joc.shape"
   ]
  },
  {
   "cell_type": "code",
   "execution_count": 10,
   "id": "5773a73c",
   "metadata": {},
   "outputs": [
    {
     "data": {
      "text/plain": [
       "0.7113476893297846"
      ]
     },
     "execution_count": 10,
     "metadata": {},
     "output_type": "execute_result"
    }
   ],
   "source": [
    "joc[joc.type == 'R'].shape[0] / joc.shape[0]"
   ]
  },
  {
   "cell_type": "code",
   "execution_count": null,
   "id": "950b723e",
   "metadata": {},
   "outputs": [],
   "source": []
  }
 ],
 "metadata": {
  "kernelspec": {
   "display_name": "Python 3 (ipykernel)",
   "language": "python",
   "name": "python3"
  },
  "language_info": {
   "codemirror_mode": {
    "name": "ipython",
    "version": 3
   },
   "file_extension": ".py",
   "mimetype": "text/x-python",
   "name": "python",
   "nbconvert_exporter": "python",
   "pygments_lexer": "ipython3",
   "version": "3.8.13"
  }
 },
 "nbformat": 4,
 "nbformat_minor": 5
}
