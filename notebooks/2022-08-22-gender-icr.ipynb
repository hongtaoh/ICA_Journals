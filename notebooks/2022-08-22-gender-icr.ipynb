{
 "cells": [
  {
   "cell_type": "code",
   "execution_count": 52,
   "id": "63e15d2b",
   "metadata": {},
   "outputs": [],
   "source": [
    "import pandas as pd\n",
    "import krippendorff\n",
    "import numpy as np"
   ]
  },
  {
   "cell_type": "code",
   "execution_count": 53,
   "id": "680c9004",
   "metadata": {},
   "outputs": [
    {
     "data": {
      "text/html": [
       "<div>\n",
       "<style scoped>\n",
       "    .dataframe tbody tr th:only-of-type {\n",
       "        vertical-align: middle;\n",
       "    }\n",
       "\n",
       "    .dataframe tbody tr th {\n",
       "        vertical-align: top;\n",
       "    }\n",
       "\n",
       "    .dataframe thead th {\n",
       "        text-align: right;\n",
       "    }\n",
       "</style>\n",
       "<table border=\"1\" class=\"dataframe\">\n",
       "  <thead>\n",
       "    <tr style=\"text-align: right;\">\n",
       "      <th></th>\n",
       "      <th>cla</th>\n",
       "    </tr>\n",
       "  </thead>\n",
       "  <tbody>\n",
       "    <tr>\n",
       "      <th>0</th>\n",
       "      <td>1</td>\n",
       "    </tr>\n",
       "    <tr>\n",
       "      <th>1</th>\n",
       "      <td>1</td>\n",
       "    </tr>\n",
       "    <tr>\n",
       "      <th>2</th>\n",
       "      <td>1</td>\n",
       "    </tr>\n",
       "    <tr>\n",
       "      <th>3</th>\n",
       "      <td>1</td>\n",
       "    </tr>\n",
       "    <tr>\n",
       "      <th>4</th>\n",
       "      <td>1</td>\n",
       "    </tr>\n",
       "    <tr>\n",
       "      <th>...</th>\n",
       "      <td>...</td>\n",
       "    </tr>\n",
       "    <tr>\n",
       "      <th>595</th>\n",
       "      <td>1</td>\n",
       "    </tr>\n",
       "    <tr>\n",
       "      <th>596</th>\n",
       "      <td>1</td>\n",
       "    </tr>\n",
       "    <tr>\n",
       "      <th>597</th>\n",
       "      <td>2</td>\n",
       "    </tr>\n",
       "    <tr>\n",
       "      <th>598</th>\n",
       "      <td>2</td>\n",
       "    </tr>\n",
       "    <tr>\n",
       "      <th>599</th>\n",
       "      <td>2</td>\n",
       "    </tr>\n",
       "  </tbody>\n",
       "</table>\n",
       "<p>600 rows × 1 columns</p>\n",
       "</div>"
      ],
      "text/plain": [
       "     cla\n",
       "0      1\n",
       "1      1\n",
       "2      1\n",
       "3      1\n",
       "4      1\n",
       "..   ...\n",
       "595    1\n",
       "596    1\n",
       "597    2\n",
       "598    2\n",
       "599    2\n",
       "\n",
       "[600 rows x 1 columns]"
      ]
     },
     "execution_count": 53,
     "metadata": {},
     "output_type": "execute_result"
    }
   ],
   "source": [
    "df = pd.read_csv('gender.txt', header=None)\n",
    "df.columns = ['cla']\n",
    "df.cla = [i.lower() for i in df.cla]\n",
    "df.cla = df.cla.replace(['99', 'f', 'm', 'u -f'], [0,1,2,3])\n",
    "df"
   ]
  },
  {
   "cell_type": "code",
   "execution_count": 54,
   "id": "26447ef9",
   "metadata": {},
   "outputs": [],
   "source": [
    "jaemin = df.iloc[:,0][0:200].tolist()\n",
    "jeff = df.iloc[:,0][200:400].tolist()\n",
    "haley = df.iloc[:,0][400:600].tolist()"
   ]
  },
  {
   "cell_type": "code",
   "execution_count": 55,
   "id": "e81e7006",
   "metadata": {},
   "outputs": [
    {
     "data": {
      "text/plain": [
       "(200, 200, 200)"
      ]
     },
     "execution_count": 55,
     "metadata": {},
     "output_type": "execute_result"
    }
   ],
   "source": [
    "len(jaemin), len(jeff), len(haley)"
   ]
  },
  {
   "cell_type": "code",
   "execution_count": 56,
   "id": "4bbdfa52",
   "metadata": {},
   "outputs": [
    {
     "data": {
      "text/plain": [
       "0.5254760837391533"
      ]
     },
     "execution_count": 56,
     "metadata": {},
     "output_type": "execute_result"
    }
   ],
   "source": [
    "krippendorff.alpha(reliability_data=[jaemin, jeff, haley])"
   ]
  },
  {
   "cell_type": "code",
   "execution_count": 57,
   "id": "9d64fa02",
   "metadata": {},
   "outputs": [],
   "source": [
    "df = pd.read_csv('gender.txt', header=None)\n",
    "df.columns = ['cla']\n",
    "df.cla = [i.upper() for i in df.cla]"
   ]
  },
  {
   "cell_type": "code",
   "execution_count": 58,
   "id": "47819033",
   "metadata": {},
   "outputs": [],
   "source": [
    "dff = pd.DataFrame()\n",
    "dff['jaemin'] = df.iloc[:,0][0:200].tolist()\n",
    "dff['jeff'] = df.iloc[:,0][200:400].tolist()\n",
    "dff['haley'] = df.iloc[:,0][400:600].tolist()"
   ]
  },
  {
   "cell_type": "code",
   "execution_count": 59,
   "id": "61a136a6",
   "metadata": {},
   "outputs": [],
   "source": [
    "dff['Same'] = np.where((dff.jaemin == dff.jeff) & (dff.jaemin == dff.haley) &  (dff.jeff == dff.haley), True, False)"
   ]
  },
  {
   "cell_type": "code",
   "execution_count": 60,
   "id": "c16f73e4",
   "metadata": {},
   "outputs": [],
   "source": [
    "dff.to_csv('gender_result.csv')"
   ]
  },
  {
   "cell_type": "code",
   "execution_count": null,
   "id": "51d3f8af",
   "metadata": {},
   "outputs": [],
   "source": []
  }
 ],
 "metadata": {
  "kernelspec": {
   "display_name": "Python 3 (ipykernel)",
   "language": "python",
   "name": "python3"
  },
  "language_info": {
   "codemirror_mode": {
    "name": "ipython",
    "version": 3
   },
   "file_extension": ".py",
   "mimetype": "text/x-python",
   "name": "python",
   "nbconvert_exporter": "python",
   "pygments_lexer": "ipython3",
   "version": "3.9.15"
  }
 },
 "nbformat": 4,
 "nbformat_minor": 5
}
