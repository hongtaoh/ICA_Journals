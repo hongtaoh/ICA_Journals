{
 "cells": [
  {
   "cell_type": "code",
   "execution_count": 55,
   "id": "a08f91a4",
   "metadata": {},
   "outputs": [],
   "source": [
    "import pandas as pd\n",
    "import krippendorff\n",
    "import numpy as np"
   ]
  },
  {
   "cell_type": "code",
   "execution_count": 56,
   "id": "4b83340e",
   "metadata": {},
   "outputs": [
    {
     "data": {
      "text/html": [
       "<div>\n",
       "<style scoped>\n",
       "    .dataframe tbody tr th:only-of-type {\n",
       "        vertical-align: middle;\n",
       "    }\n",
       "\n",
       "    .dataframe tbody tr th {\n",
       "        vertical-align: top;\n",
       "    }\n",
       "\n",
       "    .dataframe thead th {\n",
       "        text-align: right;\n",
       "    }\n",
       "</style>\n",
       "<table border=\"1\" class=\"dataframe\">\n",
       "  <thead>\n",
       "    <tr style=\"text-align: right;\">\n",
       "      <th></th>\n",
       "      <th>jongmin_new</th>\n",
       "      <th>matthew_new</th>\n",
       "    </tr>\n",
       "  </thead>\n",
       "  <tbody>\n",
       "    <tr>\n",
       "      <th>178</th>\n",
       "      <td>0</td>\n",
       "      <td>0</td>\n",
       "    </tr>\n",
       "    <tr>\n",
       "      <th>127</th>\n",
       "      <td>2</td>\n",
       "      <td>2</td>\n",
       "    </tr>\n",
       "    <tr>\n",
       "      <th>41</th>\n",
       "      <td>2</td>\n",
       "      <td>2</td>\n",
       "    </tr>\n",
       "    <tr>\n",
       "      <th>199</th>\n",
       "      <td>2</td>\n",
       "      <td>2</td>\n",
       "    </tr>\n",
       "    <tr>\n",
       "      <th>107</th>\n",
       "      <td>1</td>\n",
       "      <td>1</td>\n",
       "    </tr>\n",
       "    <tr>\n",
       "      <th>194</th>\n",
       "      <td>2</td>\n",
       "      <td>2</td>\n",
       "    </tr>\n",
       "    <tr>\n",
       "      <th>147</th>\n",
       "      <td>1</td>\n",
       "      <td>1</td>\n",
       "    </tr>\n",
       "    <tr>\n",
       "      <th>96</th>\n",
       "      <td>1</td>\n",
       "      <td>1</td>\n",
       "    </tr>\n",
       "    <tr>\n",
       "      <th>136</th>\n",
       "      <td>2</td>\n",
       "      <td>2</td>\n",
       "    </tr>\n",
       "    <tr>\n",
       "      <th>43</th>\n",
       "      <td>1</td>\n",
       "      <td>1</td>\n",
       "    </tr>\n",
       "  </tbody>\n",
       "</table>\n",
       "</div>"
      ],
      "text/plain": [
       "     jongmin_new  matthew_new\n",
       "178            0            0\n",
       "127            2            2\n",
       "41             2            2\n",
       "199            2            2\n",
       "107            1            1\n",
       "194            2            2\n",
       "147            1            1\n",
       "96             1            1\n",
       "136            2            2\n",
       "43             1            1"
      ]
     },
     "execution_count": 56,
     "metadata": {},
     "output_type": "execute_result"
    }
   ],
   "source": [
    "df1 = pd.read_csv('j_m_gender_results.csv')\n",
    "df1.replace(['female', 'male'], ['f', 'm'], inplace=True)\n",
    "df1['jongmin_new'] = np.where(df1.jongmin.isnull(), df1.genderize, df1.jongmin)\n",
    "df1['matthew_new']= np.where(df1.matthew.isnull(), df1.genderize, df1.matthew)\n",
    "df1['jongmin_new'] = [i.lower() for i in df1['jongmin_new']]\n",
    "df1['matthew_new'] = [i.lower() for i in df1['matthew_new']]\n",
    "df1 = df1[['jongmin_new', 'matthew_new']]\n",
    "df1.replace(['99', 'f', 'm'], [0,1,2], inplace=True)\n",
    "df1.sample(10)"
   ]
  },
  {
   "cell_type": "code",
   "execution_count": 57,
   "id": "251b44ff",
   "metadata": {},
   "outputs": [],
   "source": [
    "jongmin = df1.jongmin_new\n",
    "matthew = df1.matthew_new"
   ]
  },
  {
   "cell_type": "code",
   "execution_count": 58,
   "id": "0ccad590",
   "metadata": {},
   "outputs": [],
   "source": [
    "df = pd.read_csv('gender.txt', header=None)\n",
    "df.columns = ['cla']\n",
    "df.cla = [i.lower() for i in df.cla]\n",
    "df.cla = df.cla.replace(['99', 'f', 'm', 'u -f'], [0,1,2,3])\n",
    "jaemin = df.iloc[:,0][0:200].tolist()\n",
    "jeff = df.iloc[:,0][200:400].tolist()\n",
    "haley = df.iloc[:,0][400:600].tolist()"
   ]
  },
  {
   "cell_type": "code",
   "execution_count": 59,
   "id": "f795ac87",
   "metadata": {},
   "outputs": [
    {
     "data": {
      "text/plain": [
       "(200, 200, 200, 200, 200)"
      ]
     },
     "execution_count": 59,
     "metadata": {},
     "output_type": "execute_result"
    }
   ],
   "source": [
    "len(jaemin), len(jeff), len(haley), len(jongmin), len(matthew)"
   ]
  },
  {
   "cell_type": "code",
   "execution_count": 60,
   "id": "0e3fbc18",
   "metadata": {},
   "outputs": [
    {
     "data": {
      "text/plain": [
       "0.5511565664373502"
      ]
     },
     "execution_count": 60,
     "metadata": {},
     "output_type": "execute_result"
    }
   ],
   "source": [
    "krippendorff.alpha(reliability_data=[jaemin, jeff, haley, jongmin, matthew])"
   ]
  },
  {
   "cell_type": "code",
   "execution_count": 61,
   "id": "8458b47c",
   "metadata": {},
   "outputs": [
    {
     "data": {
      "text/html": [
       "<div>\n",
       "<style scoped>\n",
       "    .dataframe tbody tr th:only-of-type {\n",
       "        vertical-align: middle;\n",
       "    }\n",
       "\n",
       "    .dataframe tbody tr th {\n",
       "        vertical-align: top;\n",
       "    }\n",
       "\n",
       "    .dataframe thead th {\n",
       "        text-align: right;\n",
       "    }\n",
       "</style>\n",
       "<table border=\"1\" class=\"dataframe\">\n",
       "  <thead>\n",
       "    <tr style=\"text-align: right;\">\n",
       "      <th></th>\n",
       "      <th>jaemin</th>\n",
       "      <th>jeff</th>\n",
       "      <th>haley</th>\n",
       "      <th>jongmin</th>\n",
       "      <th>matthew</th>\n",
       "    </tr>\n",
       "  </thead>\n",
       "  <tbody>\n",
       "    <tr>\n",
       "      <th>0</th>\n",
       "      <td>F</td>\n",
       "      <td>F</td>\n",
       "      <td>F</td>\n",
       "      <td>F</td>\n",
       "      <td>F</td>\n",
       "    </tr>\n",
       "    <tr>\n",
       "      <th>1</th>\n",
       "      <td>F</td>\n",
       "      <td>F</td>\n",
       "      <td>F</td>\n",
       "      <td>F</td>\n",
       "      <td>F</td>\n",
       "    </tr>\n",
       "    <tr>\n",
       "      <th>2</th>\n",
       "      <td>F</td>\n",
       "      <td>F</td>\n",
       "      <td>F</td>\n",
       "      <td>F</td>\n",
       "      <td>F</td>\n",
       "    </tr>\n",
       "    <tr>\n",
       "      <th>3</th>\n",
       "      <td>F</td>\n",
       "      <td>F</td>\n",
       "      <td>F</td>\n",
       "      <td>F</td>\n",
       "      <td>F</td>\n",
       "    </tr>\n",
       "    <tr>\n",
       "      <th>4</th>\n",
       "      <td>F</td>\n",
       "      <td>F</td>\n",
       "      <td>F</td>\n",
       "      <td>F</td>\n",
       "      <td>F</td>\n",
       "    </tr>\n",
       "    <tr>\n",
       "      <th>...</th>\n",
       "      <td>...</td>\n",
       "      <td>...</td>\n",
       "      <td>...</td>\n",
       "      <td>...</td>\n",
       "      <td>...</td>\n",
       "    </tr>\n",
       "    <tr>\n",
       "      <th>195</th>\n",
       "      <td>F</td>\n",
       "      <td>F</td>\n",
       "      <td>F</td>\n",
       "      <td>F</td>\n",
       "      <td>F</td>\n",
       "    </tr>\n",
       "    <tr>\n",
       "      <th>196</th>\n",
       "      <td>F</td>\n",
       "      <td>F</td>\n",
       "      <td>F</td>\n",
       "      <td>F</td>\n",
       "      <td>F</td>\n",
       "    </tr>\n",
       "    <tr>\n",
       "      <th>197</th>\n",
       "      <td>99</td>\n",
       "      <td>M</td>\n",
       "      <td>M</td>\n",
       "      <td>M</td>\n",
       "      <td>M</td>\n",
       "    </tr>\n",
       "    <tr>\n",
       "      <th>198</th>\n",
       "      <td>M</td>\n",
       "      <td>M</td>\n",
       "      <td>M</td>\n",
       "      <td>M</td>\n",
       "      <td>M</td>\n",
       "    </tr>\n",
       "    <tr>\n",
       "      <th>199</th>\n",
       "      <td>M</td>\n",
       "      <td>M</td>\n",
       "      <td>M</td>\n",
       "      <td>M</td>\n",
       "      <td>M</td>\n",
       "    </tr>\n",
       "  </tbody>\n",
       "</table>\n",
       "<p>200 rows × 5 columns</p>\n",
       "</div>"
      ],
      "text/plain": [
       "    jaemin jeff haley jongmin matthew\n",
       "0        F    F     F       F       F\n",
       "1        F    F     F       F       F\n",
       "2        F    F     F       F       F\n",
       "3        F    F     F       F       F\n",
       "4        F    F     F       F       F\n",
       "..     ...  ...   ...     ...     ...\n",
       "195      F    F     F       F       F\n",
       "196      F    F     F       F       F\n",
       "197     99    M     M       M       M\n",
       "198      M    M     M       M       M\n",
       "199      M    M     M       M       M\n",
       "\n",
       "[200 rows x 5 columns]"
      ]
     },
     "execution_count": 61,
     "metadata": {},
     "output_type": "execute_result"
    }
   ],
   "source": [
    "dff = pd.DataFrame()\n",
    "dff['jaemin'] = jaemin\n",
    "dff['jeff'] = jeff\n",
    "dff['haley'] = haley\n",
    "dff['jongmin'] = jongmin\n",
    "dff['matthew'] = matthew\n",
    "dff.replace([0,1,2,3], ['99', 'F', 'M', 'U -F'], inplace=True)\n",
    "dff"
   ]
  },
  {
   "cell_type": "code",
   "execution_count": 62,
   "id": "c619417e",
   "metadata": {},
   "outputs": [],
   "source": [
    "dff['Same'] = dff.apply(lambda row: len(row.unique()) == 1, axis =1)"
   ]
  },
  {
   "cell_type": "code",
   "execution_count": 63,
   "id": "5ba7364f",
   "metadata": {},
   "outputs": [],
   "source": [
    "dff.to_csv('gender_1st_icr_results_all.csv')"
   ]
  },
  {
   "cell_type": "code",
   "execution_count": null,
   "id": "ec9f1a10",
   "metadata": {},
   "outputs": [],
   "source": []
  }
 ],
 "metadata": {
  "kernelspec": {
   "display_name": "Python 3 (ipykernel)",
   "language": "python",
   "name": "python3"
  },
  "language_info": {
   "codemirror_mode": {
    "name": "ipython",
    "version": 3
   },
   "file_extension": ".py",
   "mimetype": "text/x-python",
   "name": "python",
   "nbconvert_exporter": "python",
   "pygments_lexer": "ipython3",
   "version": "3.8.13"
  }
 },
 "nbformat": 4,
 "nbformat_minor": 5
}
