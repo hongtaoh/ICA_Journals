{
 "cells": [
  {
   "cell_type": "code",
   "execution_count": 26,
   "id": "c24597c1",
   "metadata": {},
   "outputs": [],
   "source": [
    "import pandas as pd\n",
    "import krippendorff\n",
    "import numpy as np"
   ]
  },
  {
   "cell_type": "code",
   "execution_count": 27,
   "id": "cde4ad58",
   "metadata": {},
   "outputs": [],
   "source": [
    "df = pd.read_csv('data/paper_cla_icr-2022-08-24.csv')\n",
    "df.replace(['R', 'M'], [0,1], inplace=True)"
   ]
  },
  {
   "cell_type": "code",
   "execution_count": 28,
   "id": "e03f5527",
   "metadata": {},
   "outputs": [],
   "source": [
    "hongtao = df.hongtao.tolist()\n",
    "kristen = df.kristen.tolist()\n",
    "jeff = df.jeff.tolist()"
   ]
  },
  {
   "cell_type": "code",
   "execution_count": 29,
   "id": "7f202b1c",
   "metadata": {},
   "outputs": [
    {
     "data": {
      "text/plain": [
       "(100, 100, 100)"
      ]
     },
     "execution_count": 29,
     "metadata": {},
     "output_type": "execute_result"
    }
   ],
   "source": [
    "len(hongtao), len(kristen), len(jeff)"
   ]
  },
  {
   "cell_type": "code",
   "execution_count": 30,
   "id": "c51f670b",
   "metadata": {},
   "outputs": [
    {
     "data": {
      "text/plain": [
       "0.8464566929133859"
      ]
     },
     "execution_count": 30,
     "metadata": {},
     "output_type": "execute_result"
    }
   ],
   "source": [
    "krippendorff.alpha(reliability_data=[hongtao, kristen, jeff])"
   ]
  },
  {
   "cell_type": "code",
   "execution_count": 31,
   "id": "af2a97d3",
   "metadata": {},
   "outputs": [
    {
     "data": {
      "text/plain": [
       "array([0, 1])"
      ]
     },
     "execution_count": 31,
     "metadata": {},
     "output_type": "execute_result"
    }
   ],
   "source": [
    "np.unique(hongtao)"
   ]
  },
  {
   "cell_type": "code",
   "execution_count": 32,
   "id": "e4d94a8a",
   "metadata": {},
   "outputs": [],
   "source": [
    "df['Same'] = df.apply(lambda row: len(np.unique(row)) == 1, axis=1)"
   ]
  },
  {
   "cell_type": "code",
   "execution_count": 33,
   "id": "84e456f2",
   "metadata": {},
   "outputs": [],
   "source": [
    "df.replace([0,1], ['R', 'M'], inplace=True)\n",
    "df.to_csv('data/paper_cla_ica_compa_results_2022-08-25.csv', index=True)"
   ]
  },
  {
   "cell_type": "code",
   "execution_count": null,
   "id": "e49977ba",
   "metadata": {},
   "outputs": [],
   "source": []
  }
 ],
 "metadata": {
  "kernelspec": {
   "display_name": "Python 3 (ipykernel)",
   "language": "python",
   "name": "python3"
  },
  "language_info": {
   "codemirror_mode": {
    "name": "ipython",
    "version": 3
   },
   "file_extension": ".py",
   "mimetype": "text/x-python",
   "name": "python",
   "nbconvert_exporter": "python",
   "pygments_lexer": "ipython3",
   "version": "3.8.13"
  }
 },
 "nbformat": 4,
 "nbformat_minor": 5
}
