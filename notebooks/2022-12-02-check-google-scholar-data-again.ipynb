{
 "cells": [
  {
   "cell_type": "markdown",
   "id": "2cd9a011",
   "metadata": {},
   "source": [
    "## AIM\n",
    "\n",
    "In this notebook, I checked the accuracy of the Google Scholar dataset. I found that most of them are pretty accurate. Only 124 of them are not accurate. "
   ]
  },
  {
   "cell_type": "code",
   "execution_count": 1,
   "id": "080bbe8b",
   "metadata": {},
   "outputs": [],
   "source": [
    "import pandas as pd\n",
    "import numpy as np\n",
    "import re\n",
    "from difflib import SequenceMatcher\n",
    "import time\n",
    "from bs4 import BeautifulSoup\n",
    "from selenium import webdriver\n",
    "from selenium.webdriver.common.by import By\n",
    "from selenium.webdriver.support.ui import WebDriverWait\n",
    "from selenium.webdriver.support import expected_conditions as EC \n",
    "from selenium.common.exceptions import TimeoutException\n",
    "from selenium.webdriver.common.keys import Keys\n",
    "from selenium.webdriver.firefox.options import Options\n",
    "from selenium.common.exceptions import NoSuchElementException \n",
    "from selenium.common.exceptions import ElementNotInteractableException\n",
    "import os\n",
    "import random\n",
    "import re\n",
    "import csv\n",
    "import urllib.parse"
   ]
  },
  {
   "cell_type": "code",
   "execution_count": 2,
   "id": "c7aa8558",
   "metadata": {},
   "outputs": [
    {
     "data": {
      "text/html": [
       "<div>\n",
       "<style scoped>\n",
       "    .dataframe tbody tr th:only-of-type {\n",
       "        vertical-align: middle;\n",
       "    }\n",
       "\n",
       "    .dataframe tbody tr th {\n",
       "        vertical-align: top;\n",
       "    }\n",
       "\n",
       "    .dataframe thead th {\n",
       "        text-align: right;\n",
       "    }\n",
       "</style>\n",
       "<table border=\"1\" class=\"dataframe\">\n",
       "  <thead>\n",
       "    <tr style=\"text-align: right;\">\n",
       "      <th></th>\n",
       "      <th>Original Title</th>\n",
       "      <th>Title on Google Scholar</th>\n",
       "      <th>DOI</th>\n",
       "      <th>Year</th>\n",
       "      <th>Citation Link</th>\n",
       "      <th>Citation Counts on Google Scholar</th>\n",
       "    </tr>\n",
       "  </thead>\n",
       "  <tbody>\n",
       "    <tr>\n",
       "      <th>0</th>\n",
       "      <td>The Gender Divide in Wikipedia: Quantifying an...</td>\n",
       "      <td>The Gender Divide in Wikipedia: Quantifying an...</td>\n",
       "      <td>10.1093/joc/jqac004</td>\n",
       "      <td>2022</td>\n",
       "      <td>https://scholar.google.com/scholar?cites=73284...</td>\n",
       "      <td>2</td>\n",
       "    </tr>\n",
       "    <tr>\n",
       "      <th>1</th>\n",
       "      <td>Mapping Exposure Diversity: The Divergent Effe...</td>\n",
       "      <td>Mapping Exposure Diversity: The Divergent Effe...</td>\n",
       "      <td>10.1093/joc/jqac009</td>\n",
       "      <td>2022</td>\n",
       "      <td>https://scholar.google.com/scholar?cites=29888...</td>\n",
       "      <td>6</td>\n",
       "    </tr>\n",
       "    <tr>\n",
       "      <th>2</th>\n",
       "      <td>Democratic Consequences of Incidental Exposure...</td>\n",
       "      <td>Democratic consequences of incidental exposure...</td>\n",
       "      <td>10.1093/joc/jqac008</td>\n",
       "      <td>2022</td>\n",
       "      <td>https://scholar.google.com/scholar?cites=13540...</td>\n",
       "      <td>5</td>\n",
       "    </tr>\n",
       "    <tr>\n",
       "      <th>3</th>\n",
       "      <td>The Great and Powerful Dr. Oz? Alternative Hea...</td>\n",
       "      <td>The Great and Powerful Dr. Oz? Alternative Hea...</td>\n",
       "      <td>10.1093/joc/jqac011</td>\n",
       "      <td>2022</td>\n",
       "      <td>https://scholar.google.com/scholar?cites=12065...</td>\n",
       "      <td>3</td>\n",
       "    </tr>\n",
       "    <tr>\n",
       "      <th>4</th>\n",
       "      <td>A Methodological Framework for Analyzing the A...</td>\n",
       "      <td>A Methodological Framework for Analyzing the A...</td>\n",
       "      <td>10.1093/joc/jqac013</td>\n",
       "      <td>2022</td>\n",
       "      <td>https://scholar.google.com/scholar?q=related:e...</td>\n",
       "      <td>0</td>\n",
       "    </tr>\n",
       "  </tbody>\n",
       "</table>\n",
       "</div>"
      ],
      "text/plain": [
       "                                      Original Title  \\\n",
       "0  The Gender Divide in Wikipedia: Quantifying an...   \n",
       "1  Mapping Exposure Diversity: The Divergent Effe...   \n",
       "2  Democratic Consequences of Incidental Exposure...   \n",
       "3  The Great and Powerful Dr. Oz? Alternative Hea...   \n",
       "4  A Methodological Framework for Analyzing the A...   \n",
       "\n",
       "                             Title on Google Scholar                  DOI  \\\n",
       "0  The Gender Divide in Wikipedia: Quantifying an...  10.1093/joc/jqac004   \n",
       "1  Mapping Exposure Diversity: The Divergent Effe...  10.1093/joc/jqac009   \n",
       "2  Democratic consequences of incidental exposure...  10.1093/joc/jqac008   \n",
       "3  The Great and Powerful Dr. Oz? Alternative Hea...  10.1093/joc/jqac011   \n",
       "4  A Methodological Framework for Analyzing the A...  10.1093/joc/jqac013   \n",
       "\n",
       "   Year                                      Citation Link  \\\n",
       "0  2022  https://scholar.google.com/scholar?cites=73284...   \n",
       "1  2022  https://scholar.google.com/scholar?cites=29888...   \n",
       "2  2022  https://scholar.google.com/scholar?cites=13540...   \n",
       "3  2022  https://scholar.google.com/scholar?cites=12065...   \n",
       "4  2022  https://scholar.google.com/scholar?q=related:e...   \n",
       "\n",
       "   Citation Counts on Google Scholar  \n",
       "0                                  2  \n",
       "1                                  6  \n",
       "2                                  5  \n",
       "3                                  3  \n",
       "4                                  0  "
      ]
     },
     "execution_count": 2,
     "metadata": {},
     "output_type": "execute_result"
    }
   ],
   "source": [
    "df = pd.read_csv('../data/processed/gscholar_data.csv')\n",
    "df.head()"
   ]
  },
  {
   "cell_type": "code",
   "execution_count": 3,
   "id": "e912d2eb",
   "metadata": {},
   "outputs": [
    {
     "data": {
      "text/plain": [
       "(5718, 6)"
      ]
     },
     "execution_count": 3,
     "metadata": {},
     "output_type": "execute_result"
    }
   ],
   "source": [
    "df.shape"
   ]
  },
  {
   "cell_type": "code",
   "execution_count": 4,
   "id": "1afede9f",
   "metadata": {},
   "outputs": [],
   "source": [
    "# orig_t = df['Original Title'].tolist()\n",
    "# gscholar_t = df['Title on Google Scholar'].tolist()"
   ]
  },
  {
   "cell_type": "code",
   "execution_count": 5,
   "id": "5b47eed3",
   "metadata": {},
   "outputs": [],
   "source": [
    "def clean_text(text):\n",
    "    \"\"\"\n",
    "    Takes a string and returns a string\n",
    "    \"\"\"\n",
    "    # remove html tags, lowercase, remove nonsense, remove non-letter\n",
    "    title = text.replace('[CITATION]', '')\n",
    "    title = title.replace('[PDF]', '')\n",
    "    title = title.lower()\n",
    "    title = re.sub(r'[^a-z]+', ' ', title)\n",
    "    title = title.strip()\n",
    "    return title"
   ]
  },
  {
   "cell_type": "code",
   "execution_count": 6,
   "id": "edb0677f",
   "metadata": {},
   "outputs": [],
   "source": [
    "def similar(a, b):\n",
    "    return SequenceMatcher(None, a, b).ratio()"
   ]
  },
  {
   "cell_type": "code",
   "execution_count": 7,
   "id": "129254d0",
   "metadata": {},
   "outputs": [],
   "source": [
    "def get_similar_score(row):\n",
    "    orig_t = row['orig_t_processed']\n",
    "    gscholar_t = row['gscholar_t_processed']\n",
    "    return similar(orig_t, gscholar_t)"
   ]
  },
  {
   "cell_type": "code",
   "execution_count": 8,
   "id": "6bebc859",
   "metadata": {},
   "outputs": [],
   "source": [
    "df['orig_t_processed'] = [clean_text(i) for i in df['Original Title']]\n",
    "df['gscholar_t_processed'] = [clean_text(i) for i in df['Title on Google Scholar']]"
   ]
  },
  {
   "cell_type": "code",
   "execution_count": 9,
   "id": "4c042bbd",
   "metadata": {},
   "outputs": [],
   "source": [
    "dff = df[df['orig_t_processed'] != df['gscholar_t_processed']]"
   ]
  },
  {
   "cell_type": "code",
   "execution_count": 10,
   "id": "f0bbdb07",
   "metadata": {},
   "outputs": [
    {
     "data": {
      "text/html": [
       "<div>\n",
       "<style scoped>\n",
       "    .dataframe tbody tr th:only-of-type {\n",
       "        vertical-align: middle;\n",
       "    }\n",
       "\n",
       "    .dataframe tbody tr th {\n",
       "        vertical-align: top;\n",
       "    }\n",
       "\n",
       "    .dataframe thead th {\n",
       "        text-align: right;\n",
       "    }\n",
       "</style>\n",
       "<table border=\"1\" class=\"dataframe\">\n",
       "  <thead>\n",
       "    <tr style=\"text-align: right;\">\n",
       "      <th></th>\n",
       "      <th>Original Title</th>\n",
       "      <th>Title on Google Scholar</th>\n",
       "      <th>DOI</th>\n",
       "      <th>Year</th>\n",
       "      <th>Citation Link</th>\n",
       "      <th>Citation Counts on Google Scholar</th>\n",
       "      <th>orig_t_processed</th>\n",
       "      <th>gscholar_t_processed</th>\n",
       "    </tr>\n",
       "  </thead>\n",
       "  <tbody>\n",
       "    <tr>\n",
       "      <th>7</th>\n",
       "      <td>#GirlGamers, Soldiers, and Public Relations: A...</td>\n",
       "      <td>Random optimization</td>\n",
       "      <td>10.1093/joc/jqab051</td>\n",
       "      <td>2022</td>\n",
       "      <td>https://scholar.google.com/scholar?cites=16237...</td>\n",
       "      <td>565</td>\n",
       "      <td>girlgamers soldiers and public relations analy...</td>\n",
       "      <td>random optimization</td>\n",
       "    </tr>\n",
       "    <tr>\n",
       "      <th>17</th>\n",
       "      <td>What Does #Freedom Look Like? Instagram and th...</td>\n",
       "      <td>[HTML] How does foreign direct investment affe...</td>\n",
       "      <td>10.1093/joc/jqab021</td>\n",
       "      <td>2021</td>\n",
       "      <td>https://scholar.google.com/scholar?cites=17920...</td>\n",
       "      <td>10280</td>\n",
       "      <td>what does freedom look like instagram and the ...</td>\n",
       "      <td>html how does foreign direct investment affect...</td>\n",
       "    </tr>\n",
       "    <tr>\n",
       "      <th>59</th>\n",
       "      <td>Intellectuals Debate #MeToo in China: Legitimi...</td>\n",
       "      <td>[BOOK] European stories: Intellectual debates ...</td>\n",
       "      <td>10.1093/joc/jqaa033</td>\n",
       "      <td>2020</td>\n",
       "      <td>https://scholar.google.com/scholar?cites=68538...</td>\n",
       "      <td>132</td>\n",
       "      <td>intellectuals debate metoo in china legitimizi...</td>\n",
       "      <td>book european stories intellectual debates on ...</td>\n",
       "    </tr>\n",
       "  </tbody>\n",
       "</table>\n",
       "</div>"
      ],
      "text/plain": [
       "                                       Original Title  \\\n",
       "7   #GirlGamers, Soldiers, and Public Relations: A...   \n",
       "17  What Does #Freedom Look Like? Instagram and th...   \n",
       "59  Intellectuals Debate #MeToo in China: Legitimi...   \n",
       "\n",
       "                              Title on Google Scholar                  DOI  \\\n",
       "7                                 Random optimization  10.1093/joc/jqab051   \n",
       "17  [HTML] How does foreign direct investment affe...  10.1093/joc/jqab021   \n",
       "59  [BOOK] European stories: Intellectual debates ...  10.1093/joc/jqaa033   \n",
       "\n",
       "    Year                                      Citation Link  \\\n",
       "7   2022  https://scholar.google.com/scholar?cites=16237...   \n",
       "17  2021  https://scholar.google.com/scholar?cites=17920...   \n",
       "59  2020  https://scholar.google.com/scholar?cites=68538...   \n",
       "\n",
       "    Citation Counts on Google Scholar  \\\n",
       "7                                 565   \n",
       "17                              10280   \n",
       "59                                132   \n",
       "\n",
       "                                     orig_t_processed  \\\n",
       "7   girlgamers soldiers and public relations analy...   \n",
       "17  what does freedom look like instagram and the ...   \n",
       "59  intellectuals debate metoo in china legitimizi...   \n",
       "\n",
       "                                 gscholar_t_processed  \n",
       "7                                 random optimization  \n",
       "17  html how does foreign direct investment affect...  \n",
       "59  book european stories intellectual debates on ...  "
      ]
     },
     "execution_count": 10,
     "metadata": {},
     "output_type": "execute_result"
    }
   ],
   "source": [
    "dff.head(3)"
   ]
  },
  {
   "cell_type": "code",
   "execution_count": 11,
   "id": "9dfbd755",
   "metadata": {},
   "outputs": [
    {
     "data": {
      "text/plain": [
       "(294, 8)"
      ]
     },
     "execution_count": 11,
     "metadata": {},
     "output_type": "execute_result"
    }
   ],
   "source": [
    "dff.shape"
   ]
  },
  {
   "cell_type": "code",
   "execution_count": 12,
   "id": "07b4ccaa",
   "metadata": {},
   "outputs": [],
   "source": [
    "dff = dff.assign(simi_score = dff.apply(lambda row: get_similar_score(row), axis = 1))"
   ]
  },
  {
   "cell_type": "code",
   "execution_count": 19,
   "id": "69c64ee0",
   "metadata": {},
   "outputs": [
    {
     "data": {
      "text/html": [
       "<div>\n",
       "<style scoped>\n",
       "    .dataframe tbody tr th:only-of-type {\n",
       "        vertical-align: middle;\n",
       "    }\n",
       "\n",
       "    .dataframe tbody tr th {\n",
       "        vertical-align: top;\n",
       "    }\n",
       "\n",
       "    .dataframe thead th {\n",
       "        text-align: right;\n",
       "    }\n",
       "</style>\n",
       "<table border=\"1\" class=\"dataframe\">\n",
       "  <thead>\n",
       "    <tr style=\"text-align: right;\">\n",
       "      <th></th>\n",
       "      <th>Original Title</th>\n",
       "      <th>Title on Google Scholar</th>\n",
       "      <th>DOI</th>\n",
       "      <th>Year</th>\n",
       "      <th>Citation Link</th>\n",
       "      <th>Citation Counts on Google Scholar</th>\n",
       "      <th>orig_t_processed</th>\n",
       "      <th>gscholar_t_processed</th>\n",
       "      <th>simi_score</th>\n",
       "    </tr>\n",
       "  </thead>\n",
       "  <tbody>\n",
       "    <tr>\n",
       "      <th>7</th>\n",
       "      <td>#GirlGamers, Soldiers, and Public Relations: A...</td>\n",
       "      <td>Random optimization</td>\n",
       "      <td>10.1093/joc/jqab051</td>\n",
       "      <td>2022</td>\n",
       "      <td>https://scholar.google.com/scholar?cites=16237...</td>\n",
       "      <td>565</td>\n",
       "      <td>girlgamers soldiers and public relations analy...</td>\n",
       "      <td>random optimization</td>\n",
       "      <td>0.216216</td>\n",
       "    </tr>\n",
       "    <tr>\n",
       "      <th>17</th>\n",
       "      <td>What Does #Freedom Look Like? Instagram and th...</td>\n",
       "      <td>[HTML] How does foreign direct investment affe...</td>\n",
       "      <td>10.1093/joc/jqab021</td>\n",
       "      <td>2021</td>\n",
       "      <td>https://scholar.google.com/scholar?cites=17920...</td>\n",
       "      <td>10280</td>\n",
       "      <td>what does freedom look like instagram and the ...</td>\n",
       "      <td>html how does foreign direct investment affect...</td>\n",
       "      <td>0.308824</td>\n",
       "    </tr>\n",
       "    <tr>\n",
       "      <th>59</th>\n",
       "      <td>Intellectuals Debate #MeToo in China: Legitimi...</td>\n",
       "      <td>[BOOK] European stories: Intellectual debates ...</td>\n",
       "      <td>10.1093/joc/jqaa033</td>\n",
       "      <td>2020</td>\n",
       "      <td>https://scholar.google.com/scholar?cites=68538...</td>\n",
       "      <td>132</td>\n",
       "      <td>intellectuals debate metoo in china legitimizi...</td>\n",
       "      <td>book european stories intellectual debates on ...</td>\n",
       "      <td>0.389474</td>\n",
       "    </tr>\n",
       "    <tr>\n",
       "      <th>71</th>\n",
       "      <td>Past Debates, Fresh Impact on Nano-Enabled Foo...</td>\n",
       "      <td>Past debates, fresh impact on nano-enabled foo...</td>\n",
       "      <td>10.1093/joc/jqaa019</td>\n",
       "      <td>2020</td>\n",
       "      <td>https://scholar.google.com/scholar?cites=13485...</td>\n",
       "      <td>15</td>\n",
       "      <td>past debates fresh impact on nano enabled food...</td>\n",
       "      <td>past debates fresh impact on nano enabled food...</td>\n",
       "      <td>0.920245</td>\n",
       "    </tr>\n",
       "    <tr>\n",
       "      <th>90</th>\n",
       "      <td>Toward an Aggregate, Implicit, and Dynamic Mod...</td>\n",
       "      <td>Toward an aggregate, implicit, and dynamic mod...</td>\n",
       "      <td>10.1093/joc/jqz033</td>\n",
       "      <td>2019</td>\n",
       "      <td>https://scholar.google.com/scholar?cites=26600...</td>\n",
       "      <td>13</td>\n",
       "      <td>toward an aggregate implicit and dynamic model...</td>\n",
       "      <td>toward an aggregate implicit and dynamic model...</td>\n",
       "      <td>0.901163</td>\n",
       "    </tr>\n",
       "  </tbody>\n",
       "</table>\n",
       "</div>"
      ],
      "text/plain": [
       "                                       Original Title  \\\n",
       "7   #GirlGamers, Soldiers, and Public Relations: A...   \n",
       "17  What Does #Freedom Look Like? Instagram and th...   \n",
       "59  Intellectuals Debate #MeToo in China: Legitimi...   \n",
       "71  Past Debates, Fresh Impact on Nano-Enabled Foo...   \n",
       "90  Toward an Aggregate, Implicit, and Dynamic Mod...   \n",
       "\n",
       "                              Title on Google Scholar                  DOI  \\\n",
       "7                                 Random optimization  10.1093/joc/jqab051   \n",
       "17  [HTML] How does foreign direct investment affe...  10.1093/joc/jqab021   \n",
       "59  [BOOK] European stories: Intellectual debates ...  10.1093/joc/jqaa033   \n",
       "71  Past debates, fresh impact on nano-enabled foo...  10.1093/joc/jqaa019   \n",
       "90  Toward an aggregate, implicit, and dynamic mod...   10.1093/joc/jqz033   \n",
       "\n",
       "    Year                                      Citation Link  \\\n",
       "7   2022  https://scholar.google.com/scholar?cites=16237...   \n",
       "17  2021  https://scholar.google.com/scholar?cites=17920...   \n",
       "59  2020  https://scholar.google.com/scholar?cites=68538...   \n",
       "71  2020  https://scholar.google.com/scholar?cites=13485...   \n",
       "90  2019  https://scholar.google.com/scholar?cites=26600...   \n",
       "\n",
       "    Citation Counts on Google Scholar  \\\n",
       "7                                 565   \n",
       "17                              10280   \n",
       "59                                132   \n",
       "71                                 15   \n",
       "90                                 13   \n",
       "\n",
       "                                     orig_t_processed  \\\n",
       "7   girlgamers soldiers and public relations analy...   \n",
       "17  what does freedom look like instagram and the ...   \n",
       "59  intellectuals debate metoo in china legitimizi...   \n",
       "71  past debates fresh impact on nano enabled food...   \n",
       "90  toward an aggregate implicit and dynamic model...   \n",
       "\n",
       "                                 gscholar_t_processed  simi_score  \n",
       "7                                 random optimization    0.216216  \n",
       "17  html how does foreign direct investment affect...    0.308824  \n",
       "59  book european stories intellectual debates on ...    0.389474  \n",
       "71  past debates fresh impact on nano enabled food...    0.920245  \n",
       "90  toward an aggregate implicit and dynamic model...    0.901163  "
      ]
     },
     "execution_count": 19,
     "metadata": {},
     "output_type": "execute_result"
    }
   ],
   "source": [
    "dff[dff.simi_score <= 0.95].head()"
   ]
  },
  {
   "cell_type": "code",
   "execution_count": 20,
   "id": "f37abe01",
   "metadata": {},
   "outputs": [
    {
     "data": {
      "text/plain": [
       "(123, 9)"
      ]
     },
     "execution_count": 20,
     "metadata": {},
     "output_type": "execute_result"
    }
   ],
   "source": [
    "dff[dff.simi_score <= 0.95].shape"
   ]
  },
  {
   "cell_type": "code",
   "execution_count": 27,
   "id": "79018600",
   "metadata": {},
   "outputs": [],
   "source": [
    "# these are the 123 papers to scrape again\n",
    "to_scrape_further = dff[dff.simi_score <= 0.95]"
   ]
  },
  {
   "cell_type": "markdown",
   "id": "ae0b02ae",
   "metadata": {},
   "source": [
    "## Scrape these papers"
   ]
  },
  {
   "cell_type": "code",
   "execution_count": 39,
   "id": "8ae7bffb",
   "metadata": {},
   "outputs": [
    {
     "data": {
      "text/plain": [
       "(123,\n",
       " '#GirlGamers, Soldiers, and Public Relations: Analyzing Gender Representation in U.S. Army Esports',\n",
       " '10.1093/joc/jqab051')"
      ]
     },
     "execution_count": 39,
     "metadata": {},
     "output_type": "execute_result"
    }
   ],
   "source": [
    "papers = to_scrape_further['Original Title'].tolist()\n",
    "dois = to_scrape_further['DOI'].tolist()\n",
    "len(papers), papers[0], dois[0]"
   ]
  },
  {
   "cell_type": "code",
   "execution_count": 26,
   "id": "671f15a2",
   "metadata": {},
   "outputs": [],
   "source": [
    "gscholar_dict_list = []"
   ]
  },
  {
   "cell_type": "code",
   "execution_count": null,
   "id": "c2aaefe5",
   "metadata": {},
   "outputs": [],
   "source": [
    "for paper in papers:\n",
    "    idx = papers.index(paper)\n",
    "    doi = dois[idx]\n",
    "    query_string = 'https://scholar.google.com/scholar?hl=en&as_sdt=0%2C50&q='\n",
    "    driver.get(query_string + paper + '&btnG=')\n",
    "    gs_paper_e = wait.until(EC.presence_of_element_located((\n",
    "            By.CSS_SELECTOR, 'h3.gs_rt')))\n",
    "    gs_paper_title = gs_paper_e.text\n",
    "    gs_citation_e = wait.until(\n",
    "        EC.presence_of_element_located((By.XPATH, '//div[@class=\"gs_fl\"]//child::a[3]'\n",
    "    )))\n",
    "    citation_link = gs_citation_e.get_attribute('href')\n",
    "    citation_count_string = gs_citation_e.get_attribute('innerHTML')\n",
    "    if citation_count_string == \"Related articles\":\n",
    "        gs_citation_count = 0\n",
    "    else:\n",
    "        gs_citation_count = int(re.findall(r'\\d+', citation_count_string)[0])\n",
    "    gscholar_dict = {\n",
    "        'Original Title': orig_title,\n",
    "        'Title on Google Scholar': gs_paper_title,\n",
    "        'DOI': doi,\n",
    "        'Citation Link': citation_link,\n",
    "        'Citation Counts on Google Scholar': gs_citation_count,\n",
    "    }\n",
    "    gscholar_dict_list.append(gscholar_dict)\n",
    "    print(f'paper {idx + 1} is done!')\n",
    "    time.sleep(0.2+random.uniform(0,0.2))"
   ]
  }
 ],
 "metadata": {
  "kernelspec": {
   "display_name": "Python 3 (ipykernel)",
   "language": "python",
   "name": "python3"
  },
  "language_info": {
   "codemirror_mode": {
    "name": "ipython",
    "version": 3
   },
   "file_extension": ".py",
   "mimetype": "text/x-python",
   "name": "python",
   "nbconvert_exporter": "python",
   "pygments_lexer": "ipython3",
   "version": "3.8.13"
  }
 },
 "nbformat": 4,
 "nbformat_minor": 5
}
