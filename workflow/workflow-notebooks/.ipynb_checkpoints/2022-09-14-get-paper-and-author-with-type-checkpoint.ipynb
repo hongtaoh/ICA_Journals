{
 "cells": [
  {
   "cell_type": "markdown",
   "id": "d6fdf314",
   "metadata": {},
   "source": [
    "## Aim\n",
    "\n",
    "With this paper, I want to add the column of `type` to paper df and author data. I also produced two files that contain only research papers/authors. In sum, I output four files:\n",
    "  - ica_paper_df_with_type.csv\n",
    "  - author_with_pred_with_type.csv\n",
    "  - research_paper_df.csv\n",
    "  - research_author_with_pred.csv"
   ]
  },
  {
   "cell_type": "code",
   "execution_count": 121,
   "id": "81b977b5",
   "metadata": {},
   "outputs": [],
   "source": [
    "import pandas as pd\n",
    "import numpy as np"
   ]
  },
  {
   "cell_type": "code",
   "execution_count": 122,
   "id": "d3d4280a",
   "metadata": {},
   "outputs": [],
   "source": [
    "hongtao = pd.read_csv('../../data/raw/paper_classification_hongtao.csv')\n",
    "jeff = pd.read_csv('../../data/raw/paper_classification_jeff.csv')\n",
    "kristen = pd.read_csv('../../data/raw/paper_classification_kristen.csv')"
   ]
  },
  {
   "cell_type": "code",
   "execution_count": 123,
   "id": "0dc3ad68",
   "metadata": {},
   "outputs": [
    {
     "data": {
      "text/plain": [
       "({0, 1}, {'M', 'R'}, {'M', 'R'})"
      ]
     },
     "execution_count": 123,
     "metadata": {},
     "output_type": "execute_result"
    }
   ],
   "source": [
    "set(hongtao.type), set(jeff.type), set(kristen.type)"
   ]
  },
  {
   "cell_type": "code",
   "execution_count": 124,
   "id": "df6c27d5",
   "metadata": {},
   "outputs": [
    {
     "data": {
      "text/html": [
       "<div>\n",
       "<style scoped>\n",
       "    .dataframe tbody tr th:only-of-type {\n",
       "        vertical-align: middle;\n",
       "    }\n",
       "\n",
       "    .dataframe tbody tr th {\n",
       "        vertical-align: top;\n",
       "    }\n",
       "\n",
       "    .dataframe thead th {\n",
       "        text-align: right;\n",
       "    }\n",
       "</style>\n",
       "<table border=\"1\" class=\"dataframe\">\n",
       "  <thead>\n",
       "    <tr style=\"text-align: right;\">\n",
       "      <th></th>\n",
       "      <th>journal</th>\n",
       "      <th>issueURL</th>\n",
       "      <th>doi</th>\n",
       "      <th>url</th>\n",
       "      <th>sci_hub</th>\n",
       "      <th>year</th>\n",
       "      <th>category</th>\n",
       "      <th>type</th>\n",
       "      <th>title</th>\n",
       "      <th>abstract</th>\n",
       "    </tr>\n",
       "  </thead>\n",
       "  <tbody>\n",
       "    <tr>\n",
       "      <th>0</th>\n",
       "      <td>Human Communication Research</td>\n",
       "      <td>https://academic.oup.com/hcr/issue/48/1?browse...</td>\n",
       "      <td>10.1093/hcr/hqab020</td>\n",
       "      <td>https://academic.oup.com/hcr/article/48/1/116/...</td>\n",
       "      <td>https://sci-hub.se/10.1093/hcr/hqab020</td>\n",
       "      <td>2022</td>\n",
       "      <td>Original Research</td>\n",
       "      <td>1</td>\n",
       "      <td>How Do Individuals in a Radical Echo Chamber R...</td>\n",
       "      <td>Calls to “break up” radical echo chambers by i...</td>\n",
       "    </tr>\n",
       "    <tr>\n",
       "      <th>1</th>\n",
       "      <td>Communication, Culture and Critique</td>\n",
       "      <td>https://academic.oup.com/ccc/issue/15/1?browse...</td>\n",
       "      <td>10.1093/ccc/tcab065</td>\n",
       "      <td>https://academic.oup.com/ccc/article/15/1/21/6...</td>\n",
       "      <td>https://sci-hub.se/10.1093/ccc/tcab065</td>\n",
       "      <td>2022</td>\n",
       "      <td>Original Articles</td>\n",
       "      <td>1</td>\n",
       "      <td>Home Economics: Sitcom Capitalism, Conservativ...</td>\n",
       "      <td>This article argues that conservative comedy h...</td>\n",
       "    </tr>\n",
       "    <tr>\n",
       "      <th>2</th>\n",
       "      <td>Human Communication Research</td>\n",
       "      <td>https://academic.oup.com/hcr/issue/48/1?browse...</td>\n",
       "      <td>10.1093/hcr/hqab016</td>\n",
       "      <td>https://academic.oup.com/hcr/article/48/1/31/6...</td>\n",
       "      <td>https://sci-hub.se/10.1093/hcr/hqab016</td>\n",
       "      <td>2022</td>\n",
       "      <td>Original Research</td>\n",
       "      <td>1</td>\n",
       "      <td>How Communicating about Discrimination Influen...</td>\n",
       "      <td>Across two randomized experiments, we examine ...</td>\n",
       "    </tr>\n",
       "    <tr>\n",
       "      <th>3</th>\n",
       "      <td>Journal of Communication</td>\n",
       "      <td>https://academic.oup.com/joc/issue/72/2?browse...</td>\n",
       "      <td>10.1093/joc/jqab052</td>\n",
       "      <td>https://academic.oup.com/joc/article/72/2/187/...</td>\n",
       "      <td>https://sci-hub.se/10.1093/joc/jqab052</td>\n",
       "      <td>2022</td>\n",
       "      <td>Articles</td>\n",
       "      <td>1</td>\n",
       "      <td>The Effects of Tobacco Coverage in the Public ...</td>\n",
       "      <td>In today’s complex media environment, does med...</td>\n",
       "    </tr>\n",
       "  </tbody>\n",
       "</table>\n",
       "</div>"
      ],
      "text/plain": [
       "                               journal  \\\n",
       "0         Human Communication Research   \n",
       "1  Communication, Culture and Critique   \n",
       "2         Human Communication Research   \n",
       "3             Journal of Communication   \n",
       "\n",
       "                                            issueURL                  doi  \\\n",
       "0  https://academic.oup.com/hcr/issue/48/1?browse...  10.1093/hcr/hqab020   \n",
       "1  https://academic.oup.com/ccc/issue/15/1?browse...  10.1093/ccc/tcab065   \n",
       "2  https://academic.oup.com/hcr/issue/48/1?browse...  10.1093/hcr/hqab016   \n",
       "3  https://academic.oup.com/joc/issue/72/2?browse...  10.1093/joc/jqab052   \n",
       "\n",
       "                                                 url  \\\n",
       "0  https://academic.oup.com/hcr/article/48/1/116/...   \n",
       "1  https://academic.oup.com/ccc/article/15/1/21/6...   \n",
       "2  https://academic.oup.com/hcr/article/48/1/31/6...   \n",
       "3  https://academic.oup.com/joc/article/72/2/187/...   \n",
       "\n",
       "                                  sci_hub  year           category  type  \\\n",
       "0  https://sci-hub.se/10.1093/hcr/hqab020  2022  Original Research     1   \n",
       "1  https://sci-hub.se/10.1093/ccc/tcab065  2022  Original Articles     1   \n",
       "2  https://sci-hub.se/10.1093/hcr/hqab016  2022  Original Research     1   \n",
       "3  https://sci-hub.se/10.1093/joc/jqab052  2022           Articles     1   \n",
       "\n",
       "                                               title  \\\n",
       "0  How Do Individuals in a Radical Echo Chamber R...   \n",
       "1  Home Economics: Sitcom Capitalism, Conservativ...   \n",
       "2  How Communicating about Discrimination Influen...   \n",
       "3  The Effects of Tobacco Coverage in the Public ...   \n",
       "\n",
       "                                            abstract  \n",
       "0  Calls to “break up” radical echo chambers by i...  \n",
       "1  This article argues that conservative comedy h...  \n",
       "2  Across two randomized experiments, we examine ...  \n",
       "3  In today’s complex media environment, does med...  "
      ]
     },
     "execution_count": 124,
     "metadata": {},
     "output_type": "execute_result"
    }
   ],
   "source": [
    "hongtao.head(4)"
   ]
  },
  {
   "cell_type": "code",
   "execution_count": 125,
   "id": "4ecb3037",
   "metadata": {},
   "outputs": [],
   "source": [
    "hongtao_r = hongtao[hongtao.type == 1].doi.tolist()\n",
    "jeff_r = jeff[jeff.type == 'R'].doi.tolist()\n",
    "kristen_r = kristen[kristen.type == 'R'].doi.tolist()"
   ]
  },
  {
   "cell_type": "code",
   "execution_count": 126,
   "id": "c1248641",
   "metadata": {},
   "outputs": [
    {
     "data": {
      "text/plain": [
       "(1860, 1942, 2016)"
      ]
     },
     "execution_count": 126,
     "metadata": {},
     "output_type": "execute_result"
    }
   ],
   "source": [
    "len(hongtao_r), len(jeff_r), len(kristen_r)"
   ]
  },
  {
   "cell_type": "code",
   "execution_count": 127,
   "id": "b90f0bb9",
   "metadata": {},
   "outputs": [
    {
     "data": {
      "text/plain": [
       "5818"
      ]
     },
     "execution_count": 127,
     "metadata": {},
     "output_type": "execute_result"
    }
   ],
   "source": [
    "all_r = hongtao_r + jeff_r + kristen_r\n",
    "len(all_r)"
   ]
  },
  {
   "cell_type": "code",
   "execution_count": 128,
   "id": "310e1f46",
   "metadata": {},
   "outputs": [],
   "source": [
    "paper = pd.read_csv('../../data/interim/ica_paper_df.csv')\n",
    "paper['type'] = np.where(paper.doi.isin(all_r), 'R', 'M')"
   ]
  },
  {
   "cell_type": "code",
   "execution_count": 129,
   "id": "e4e51441",
   "metadata": {},
   "outputs": [
    {
     "data": {
      "text/html": [
       "<div>\n",
       "<style scoped>\n",
       "    .dataframe tbody tr th:only-of-type {\n",
       "        vertical-align: middle;\n",
       "    }\n",
       "\n",
       "    .dataframe tbody tr th {\n",
       "        vertical-align: top;\n",
       "    }\n",
       "\n",
       "    .dataframe thead th {\n",
       "        text-align: right;\n",
       "    }\n",
       "</style>\n",
       "<table border=\"1\" class=\"dataframe\">\n",
       "  <thead>\n",
       "    <tr style=\"text-align: right;\">\n",
       "      <th></th>\n",
       "      <th>journal</th>\n",
       "      <th>issueURL</th>\n",
       "      <th>volumn</th>\n",
       "      <th>issue</th>\n",
       "      <th>issueText</th>\n",
       "      <th>month</th>\n",
       "      <th>year</th>\n",
       "      <th>category</th>\n",
       "      <th>title</th>\n",
       "      <th>url</th>\n",
       "      <th>doi</th>\n",
       "      <th>pages</th>\n",
       "      <th>abstract</th>\n",
       "      <th>abstract_para_num</th>\n",
       "      <th>type</th>\n",
       "    </tr>\n",
       "  </thead>\n",
       "  <tbody>\n",
       "    <tr>\n",
       "      <th>6205</th>\n",
       "      <td>Journal of Computer-Mediated Communication</td>\n",
       "      <td>https://academic.oup.com/jcmc/issue/27/4?brows...</td>\n",
       "      <td>Volume 27</td>\n",
       "      <td>Issue 4</td>\n",
       "      <td>Issue 4, July 2022 (In Progress)</td>\n",
       "      <td>2022</td>\n",
       "      <td>Progress)</td>\n",
       "      <td>Full-length Research Articles</td>\n",
       "      <td>A typology of social media rituals</td>\n",
       "      <td>https://academic.oup.com/jcmc/article/27/4/zma...</td>\n",
       "      <td>10.1093/jcmc/zmac011</td>\n",
       "      <td>NaN</td>\n",
       "      <td>Given its massive volume and rapid development...</td>\n",
       "      <td>1.0</td>\n",
       "      <td>R</td>\n",
       "    </tr>\n",
       "  </tbody>\n",
       "</table>\n",
       "</div>"
      ],
      "text/plain": [
       "                                         journal  \\\n",
       "6205  Journal of Computer-Mediated Communication   \n",
       "\n",
       "                                               issueURL     volumn    issue  \\\n",
       "6205  https://academic.oup.com/jcmc/issue/27/4?brows...  Volume 27  Issue 4   \n",
       "\n",
       "                             issueText month       year  \\\n",
       "6205  Issue 4, July 2022 (In Progress)  2022  Progress)   \n",
       "\n",
       "                           category                               title  \\\n",
       "6205  Full-length Research Articles  A typology of social media rituals   \n",
       "\n",
       "                                                    url                   doi  \\\n",
       "6205  https://academic.oup.com/jcmc/article/27/4/zma...  10.1093/jcmc/zmac011   \n",
       "\n",
       "     pages                                           abstract  \\\n",
       "6205   NaN  Given its massive volume and rapid development...   \n",
       "\n",
       "      abstract_para_num type  \n",
       "6205                1.0    R  "
      ]
     },
     "execution_count": 129,
     "metadata": {},
     "output_type": "execute_result"
    }
   ],
   "source": [
    "paper[paper.year == 'Progress)']"
   ]
  },
  {
   "cell_type": "code",
   "execution_count": 130,
   "id": "1367fea5",
   "metadata": {},
   "outputs": [],
   "source": [
    "paper['year'] = np.where(paper.year == 'Progress)', '2022', paper.year)"
   ]
  },
  {
   "cell_type": "code",
   "execution_count": 131,
   "id": "14e31dd5",
   "metadata": {},
   "outputs": [
    {
     "data": {
      "text/plain": [
       "(7708, 15)"
      ]
     },
     "execution_count": 131,
     "metadata": {},
     "output_type": "execute_result"
    }
   ],
   "source": [
    "paper.shape"
   ]
  },
  {
   "cell_type": "code",
   "execution_count": 132,
   "id": "6366122b",
   "metadata": {},
   "outputs": [
    {
     "data": {
      "text/plain": [
       "(5818, 15)"
      ]
     },
     "execution_count": 132,
     "metadata": {},
     "output_type": "execute_result"
    }
   ],
   "source": [
    "paper[paper.type == 'R'].shape"
   ]
  },
  {
   "cell_type": "code",
   "execution_count": 133,
   "id": "4b9b84da",
   "metadata": {},
   "outputs": [
    {
     "data": {
      "text/plain": [
       "(1890, 15)"
      ]
     },
     "execution_count": 133,
     "metadata": {},
     "output_type": "execute_result"
    }
   ],
   "source": [
    "paper[paper.type == 'M'].shape"
   ]
  },
  {
   "cell_type": "code",
   "execution_count": 134,
   "id": "fd5c0dd7",
   "metadata": {},
   "outputs": [],
   "source": [
    "author = pd.read_csv('../../data/processed/author_with_pred.csv')\n",
    "author['year'] = np.where(author.year == 'Progress)', '2022', author.year)"
   ]
  },
  {
   "cell_type": "code",
   "execution_count": 135,
   "id": "1177b30c",
   "metadata": {},
   "outputs": [
    {
     "data": {
      "text/plain": [
       "((13603, 39), (11476, 39))"
      ]
     },
     "execution_count": 135,
     "metadata": {},
     "output_type": "execute_result"
    }
   ],
   "source": [
    "author['type'] = np.where(author.doi.isin(all_r), 'R', 'M')\n",
    "author.sample(4)\n",
    "author.shape, author[author.type=='R'].shape"
   ]
  },
  {
   "cell_type": "code",
   "execution_count": 136,
   "id": "b2bcb816",
   "metadata": {},
   "outputs": [],
   "source": [
    "paper.to_csv('../../data/processed/ica_paper_df_with_type.csv', index =False)\n",
    "author.to_csv('../../data/processed/author_with_pred_with_type.csv', index=False)\n",
    "paper[paper.type == 'R'].to_csv('../../data/processed/research_paper_df.csv', index=False)\n",
    "author[author.type=='R'].to_csv('../../data/processed/research_author_with_pred.csv', index=False)"
   ]
  }
 ],
 "metadata": {
  "kernelspec": {
   "display_name": "Python 3 (ipykernel)",
   "language": "python",
   "name": "python3"
  },
  "language_info": {
   "codemirror_mode": {
    "name": "ipython",
    "version": 3
   },
   "file_extension": ".py",
   "mimetype": "text/x-python",
   "name": "python",
   "nbconvert_exporter": "python",
   "pygments_lexer": "ipython3",
   "version": "3.8.13"
  }
 },
 "nbformat": 4,
 "nbformat_minor": 5
}
