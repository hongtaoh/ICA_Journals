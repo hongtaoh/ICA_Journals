{
 "cells": [
  {
   "cell_type": "markdown",
   "id": "e99bc1c5",
   "metadata": {},
   "source": [
    "## Aim\n",
    "\n",
    "In this notebook, I evenly and randomly splited the affiliation task. "
   ]
  },
  {
   "cell_type": "code",
   "execution_count": 15,
   "id": "aa1598d3",
   "metadata": {},
   "outputs": [],
   "source": [
    "import pandas as pd\n",
    "import numpy as np"
   ]
  },
  {
   "cell_type": "code",
   "execution_count": 16,
   "id": "2fe841c8",
   "metadata": {},
   "outputs": [],
   "source": [
    "df = pd.read_csv('../../data/processed/authors_to_study.csv')\n",
    "df['aff_prediction'] = np.nan\n",
    "df['country_code'] = np.nan\n",
    "df['aff_type'] = np.nan "
   ]
  },
  {
   "cell_type": "code",
   "execution_count": 17,
   "id": "271e9479",
   "metadata": {},
   "outputs": [
    {
     "data": {
      "text/plain": [
       "(11304, 42)"
      ]
     },
     "execution_count": 17,
     "metadata": {},
     "output_type": "execute_result"
    }
   ],
   "source": [
    "df.shape"
   ]
  },
  {
   "cell_type": "code",
   "execution_count": 18,
   "id": "408f51f4",
   "metadata": {},
   "outputs": [
    {
     "data": {
      "text/html": [
       "<div>\n",
       "<style scoped>\n",
       "    .dataframe tbody tr th:only-of-type {\n",
       "        vertical-align: middle;\n",
       "    }\n",
       "\n",
       "    .dataframe tbody tr th {\n",
       "        vertical-align: top;\n",
       "    }\n",
       "\n",
       "    .dataframe thead th {\n",
       "        text-align: right;\n",
       "    }\n",
       "</style>\n",
       "<table border=\"1\" class=\"dataframe\">\n",
       "  <thead>\n",
       "    <tr style=\"text-align: right;\">\n",
       "      <th></th>\n",
       "      <th>authorID</th>\n",
       "      <th>doi</th>\n",
       "      <th>url</th>\n",
       "      <th>year</th>\n",
       "      <th>title</th>\n",
       "      <th>journal</th>\n",
       "      <th>numberOfAuthors</th>\n",
       "      <th>authorPosition</th>\n",
       "      <th>authorFullName</th>\n",
       "      <th>firstName</th>\n",
       "      <th>...</th>\n",
       "      <th>raceDiff</th>\n",
       "      <th>affProcessed</th>\n",
       "      <th>affiliation.2</th>\n",
       "      <th>ROR_AFFNAME</th>\n",
       "      <th>matchMethod</th>\n",
       "      <th>ROR_ID</th>\n",
       "      <th>type</th>\n",
       "      <th>aff_prediction</th>\n",
       "      <th>country_code</th>\n",
       "      <th>aff_type</th>\n",
       "    </tr>\n",
       "  </thead>\n",
       "  <tbody>\n",
       "  </tbody>\n",
       "</table>\n",
       "<p>0 rows × 42 columns</p>\n",
       "</div>"
      ],
      "text/plain": [
       "Empty DataFrame\n",
       "Columns: [authorID, doi, url, year, title, journal, numberOfAuthors, authorPosition, authorFullName, firstName, lastName, affiliation, gscholarLink, googleSearch, genderize, genderize_prob, genderize_basedon, genderAccuracy, authorFullName.1, firstName.1, lastName.1, affiliation.1, gscholarLink.1, googleSearch.1, race, racePredAccuracy, api, black, hispanic, white, raceHighest, raceSecondHighest, raceDiff, affProcessed, affiliation.2, ROR_AFFNAME, matchMethod, ROR_ID, type, aff_prediction, country_code, aff_type]\n",
       "Index: []\n",
       "\n",
       "[0 rows x 42 columns]"
      ]
     },
     "execution_count": 18,
     "metadata": {},
     "output_type": "execute_result"
    }
   ],
   "source": [
    "df[df['authorFullName'].isnull()]"
   ]
  },
  {
   "cell_type": "code",
   "execution_count": 19,
   "id": "926840a6",
   "metadata": {},
   "outputs": [
    {
     "data": {
      "text/html": [
       "<div>\n",
       "<style scoped>\n",
       "    .dataframe tbody tr th:only-of-type {\n",
       "        vertical-align: middle;\n",
       "    }\n",
       "\n",
       "    .dataframe tbody tr th {\n",
       "        vertical-align: top;\n",
       "    }\n",
       "\n",
       "    .dataframe thead th {\n",
       "        text-align: right;\n",
       "    }\n",
       "</style>\n",
       "<table border=\"1\" class=\"dataframe\">\n",
       "  <thead>\n",
       "    <tr style=\"text-align: right;\">\n",
       "      <th></th>\n",
       "      <th>authorID</th>\n",
       "      <th>doi</th>\n",
       "      <th>url</th>\n",
       "      <th>year</th>\n",
       "      <th>title</th>\n",
       "      <th>journal</th>\n",
       "      <th>numberOfAuthors</th>\n",
       "      <th>authorPosition</th>\n",
       "      <th>authorFullName</th>\n",
       "      <th>firstName</th>\n",
       "      <th>...</th>\n",
       "      <th>raceDiff</th>\n",
       "      <th>affProcessed</th>\n",
       "      <th>affiliation.2</th>\n",
       "      <th>ROR_AFFNAME</th>\n",
       "      <th>matchMethod</th>\n",
       "      <th>ROR_ID</th>\n",
       "      <th>type</th>\n",
       "      <th>aff_prediction</th>\n",
       "      <th>country_code</th>\n",
       "      <th>aff_type</th>\n",
       "    </tr>\n",
       "  </thead>\n",
       "  <tbody>\n",
       "  </tbody>\n",
       "</table>\n",
       "<p>0 rows × 42 columns</p>\n",
       "</div>"
      ],
      "text/plain": [
       "Empty DataFrame\n",
       "Columns: [authorID, doi, url, year, title, journal, numberOfAuthors, authorPosition, authorFullName, firstName, lastName, affiliation, gscholarLink, googleSearch, genderize, genderize_prob, genderize_basedon, genderAccuracy, authorFullName.1, firstName.1, lastName.1, affiliation.1, gscholarLink.1, googleSearch.1, race, racePredAccuracy, api, black, hispanic, white, raceHighest, raceSecondHighest, raceDiff, affProcessed, affiliation.2, ROR_AFFNAME, matchMethod, ROR_ID, type, aff_prediction, country_code, aff_type]\n",
       "Index: []\n",
       "\n",
       "[0 rows x 42 columns]"
      ]
     },
     "execution_count": 19,
     "metadata": {},
     "output_type": "execute_result"
    }
   ],
   "source": [
    "df[df['affiliation.2'].isnull()]"
   ]
  },
  {
   "cell_type": "code",
   "execution_count": 20,
   "id": "0468b444",
   "metadata": {},
   "outputs": [],
   "source": [
    "# d = dict(zip(df['affiliation.2'], df.ROR_AFFNAME))\n",
    "# len(d.items())\n",
    "# pd.DataFrame(d.items())"
   ]
  },
  {
   "cell_type": "code",
   "execution_count": 21,
   "id": "5e2594d9",
   "metadata": {},
   "outputs": [],
   "source": [
    "shuffled = df.sample(frac = 1, random_state = 200)\n",
    "result = np.array_split(shuffled, 2)"
   ]
  },
  {
   "cell_type": "code",
   "execution_count": 22,
   "id": "02f3b4f9",
   "metadata": {},
   "outputs": [
    {
     "data": {
      "text/plain": [
       "Int64Index([10451,  7558,  3436,  9071,  8630,  2892,  9507,  5125,  8674,\n",
       "             4625,\n",
       "            ...\n",
       "             5172,  9189, 10829,  7264,  6186,   173,  1345,  3723,  8064,\n",
       "             1611],\n",
       "           dtype='int64', length=5652)"
      ]
     },
     "execution_count": 22,
     "metadata": {},
     "output_type": "execute_result"
    }
   ],
   "source": [
    "result[0].index"
   ]
  },
  {
   "cell_type": "markdown",
   "id": "6113355e",
   "metadata": {},
   "source": [
    "Int64Index([10451,  7558,  3436,  9071,  8630,  2892,  9507,  5125,  8674,\n",
    "             4625,\n",
    "            ...\n",
    "             5172,  9189, 10829,  7264,  6186,   173,  1345,  3723,  8064,\n",
    "             1611],\n",
    "           dtype='int64', length=5652)"
   ]
  },
  {
   "cell_type": "code",
   "execution_count": 23,
   "id": "9e3c6f21",
   "metadata": {},
   "outputs": [
    {
     "data": {
      "text/plain": [
       "Int64Index([ 6036,  7977,  5443,  9949,  7489,  1525,  6555,  3621,  1205,\n",
       "             3101,\n",
       "            ...\n",
       "             5633,  7210,   902, 10379,  7769,  8377,  9036, 11050,   784,\n",
       "             1818],\n",
       "           dtype='int64', length=5652)"
      ]
     },
     "execution_count": 23,
     "metadata": {},
     "output_type": "execute_result"
    }
   ],
   "source": [
    "result[1].index"
   ]
  },
  {
   "cell_type": "markdown",
   "id": "0170f5cd",
   "metadata": {},
   "source": [
    "Int64Index([ 6036,  7977,  5443,  9949,  7489,  1525,  6555,  3621,  1205,\n",
    "             3101,\n",
    "            ...\n",
    "             5633,  7210,   902, 10379,  7769,  8377,  9036, 11050,   784,\n",
    "             1818],\n",
    "           dtype='int64', length=5652)"
   ]
  },
  {
   "cell_type": "code",
   "execution_count": 24,
   "id": "166f0d6f",
   "metadata": {},
   "outputs": [
    {
     "data": {
      "text/plain": [
       "((5652, 42), (5652, 42))"
      ]
     },
     "execution_count": 24,
     "metadata": {},
     "output_type": "execute_result"
    }
   ],
   "source": [
    "result[0].shape, result[1].shape"
   ]
  },
  {
   "cell_type": "code",
   "execution_count": 25,
   "id": "f115642f",
   "metadata": {},
   "outputs": [],
   "source": [
    "result[0].to_csv('../../data/interim/aff_task/hongtao.csv')"
   ]
  },
  {
   "cell_type": "code",
   "execution_count": 26,
   "id": "fff4f948",
   "metadata": {},
   "outputs": [],
   "source": [
    "result[1].to_csv('../../data/interim/aff_task/kristen.csv')"
   ]
  }
 ],
 "metadata": {
  "kernelspec": {
   "display_name": "Python 3 (ipykernel)",
   "language": "python",
   "name": "python3"
  },
  "language_info": {
   "codemirror_mode": {
    "name": "ipython",
    "version": 3
   },
   "file_extension": ".py",
   "mimetype": "text/x-python",
   "name": "python",
   "nbconvert_exporter": "python",
   "pygments_lexer": "ipython3",
   "version": "3.8.13"
  }
 },
 "nbformat": 4,
 "nbformat_minor": 5
}
