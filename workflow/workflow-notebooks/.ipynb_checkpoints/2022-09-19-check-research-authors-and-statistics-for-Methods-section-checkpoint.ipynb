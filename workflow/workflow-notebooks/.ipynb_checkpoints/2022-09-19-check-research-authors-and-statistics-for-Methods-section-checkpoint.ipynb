{
 "cells": [
  {
   "cell_type": "markdown",
   "id": "b3fc4dfd",
   "metadata": {},
   "source": [
    "## Aim\n",
    "\n",
    "After having classified papers, I need to move on to split task for affiliation coding. Before that, I checked the validity of the paper type classification result. \n",
    "\n",
    "It shows that five articles do not have author names. I corrected six paper classificaiton results. These are the results before i corrected them. \n",
    "\n",
    "I also found 100 papers (138 authors) that do not have affiliation strings. I also need to remove them from the pool of \"research papers\". "
   ]
  },
  {
   "cell_type": "code",
   "execution_count": 27,
   "id": "931af3d7",
   "metadata": {},
   "outputs": [],
   "source": [
    "import pandas as pd\n",
    "import numpy as np"
   ]
  },
  {
   "cell_type": "code",
   "execution_count": 28,
   "id": "790a31f4",
   "metadata": {},
   "outputs": [],
   "source": [
    "df = pd.read_csv('../../data/processed/research_author_with_pred.csv')"
   ]
  },
  {
   "cell_type": "code",
   "execution_count": 29,
   "id": "e87b8d2c",
   "metadata": {},
   "outputs": [
    {
     "data": {
      "text/plain": [
       "(11471, 39)"
      ]
     },
     "execution_count": 29,
     "metadata": {},
     "output_type": "execute_result"
    }
   ],
   "source": [
    "df.shape"
   ]
  },
  {
   "cell_type": "code",
   "execution_count": 30,
   "id": "f0255bdf",
   "metadata": {},
   "outputs": [
    {
     "data": {
      "text/html": [
       "<div>\n",
       "<style scoped>\n",
       "    .dataframe tbody tr th:only-of-type {\n",
       "        vertical-align: middle;\n",
       "    }\n",
       "\n",
       "    .dataframe tbody tr th {\n",
       "        vertical-align: top;\n",
       "    }\n",
       "\n",
       "    .dataframe thead th {\n",
       "        text-align: right;\n",
       "    }\n",
       "</style>\n",
       "<table border=\"1\" class=\"dataframe\">\n",
       "  <thead>\n",
       "    <tr style=\"text-align: right;\">\n",
       "      <th></th>\n",
       "      <th>authorID</th>\n",
       "      <th>doi</th>\n",
       "      <th>url</th>\n",
       "      <th>year</th>\n",
       "      <th>title</th>\n",
       "      <th>journal</th>\n",
       "      <th>numberOfAuthors</th>\n",
       "      <th>authorPosition</th>\n",
       "      <th>authorFullName</th>\n",
       "      <th>firstName</th>\n",
       "      <th>...</th>\n",
       "      <th>white</th>\n",
       "      <th>raceHighest</th>\n",
       "      <th>raceSecondHighest</th>\n",
       "      <th>raceDiff</th>\n",
       "      <th>affProcessed</th>\n",
       "      <th>affiliation.2</th>\n",
       "      <th>ROR_AFFNAME</th>\n",
       "      <th>matchMethod</th>\n",
       "      <th>ROR_ID</th>\n",
       "      <th>type</th>\n",
       "    </tr>\n",
       "  </thead>\n",
       "  <tbody>\n",
       "  </tbody>\n",
       "</table>\n",
       "<p>0 rows × 39 columns</p>\n",
       "</div>"
      ],
      "text/plain": [
       "Empty DataFrame\n",
       "Columns: [authorID, doi, url, year, title, journal, numberOfAuthors, authorPosition, authorFullName, firstName, lastName, affiliation, gscholarLink, googleSearch, genderize, genderize_prob, genderize_basedon, genderAccuracy, authorFullName.1, firstName.1, lastName.1, affiliation.1, gscholarLink.1, googleSearch.1, race, racePredAccuracy, api, black, hispanic, white, raceHighest, raceSecondHighest, raceDiff, affProcessed, affiliation.2, ROR_AFFNAME, matchMethod, ROR_ID, type]\n",
       "Index: []\n",
       "\n",
       "[0 rows x 39 columns]"
      ]
     },
     "execution_count": 30,
     "metadata": {},
     "output_type": "execute_result"
    }
   ],
   "source": [
    "df[df.authorFullName.isnull()]\n",
    "# This doi is M as well: 10.1111/j.1460-2466.2000.tb02849.x, and I have corrected these six"
   ]
  },
  {
   "cell_type": "code",
   "execution_count": 31,
   "id": "7b5f876a",
   "metadata": {},
   "outputs": [
    {
     "data": {
      "text/plain": [
       "Series([], Name: doi, dtype: object)"
      ]
     },
     "execution_count": 31,
     "metadata": {},
     "output_type": "execute_result"
    }
   ],
   "source": [
    "df[df.authorFullName.isnull()].doi"
   ]
  },
  {
   "cell_type": "markdown",
   "id": "d205af4c",
   "metadata": {},
   "source": [
    "These are the five articles that do not have author names. They are clearly misclassified by us:\n",
    "\n",
    "3170    10.1111/j.1460-2466.1987.tb00988.x \\ \\\n",
    "3451    10.1111/j.1460-2466.1982.tb02518.x \\ \\\n",
    "4978    10.1111/j.1460-2466.1958.tb01157.x \\ \\\n",
    "4982    10.1111/j.1460-2466.1958.tb01147.x \\ \\\n",
    "7774    10.1111/j.1468-2958.1975.tb00266.x"
   ]
  },
  {
   "cell_type": "code",
   "execution_count": 32,
   "id": "4c6a4371",
   "metadata": {},
   "outputs": [
    {
     "data": {
      "text/plain": [
       "(133, 39)"
      ]
     },
     "execution_count": 32,
     "metadata": {},
     "output_type": "execute_result"
    }
   ],
   "source": [
    "# These are the papers that do not have affiliations. \n",
    "df[df['affiliation.2'].isnull()].shape"
   ]
  },
  {
   "cell_type": "code",
   "execution_count": 33,
   "id": "19f1b58f",
   "metadata": {},
   "outputs": [
    {
     "data": {
      "text/plain": [
       "(11338, 39)"
      ]
     },
     "execution_count": 33,
     "metadata": {},
     "output_type": "execute_result"
    }
   ],
   "source": [
    "df[df['affiliation.2'].notnull()].shape"
   ]
  },
  {
   "cell_type": "code",
   "execution_count": 34,
   "id": "f05c49ac",
   "metadata": {},
   "outputs": [
    {
     "data": {
      "text/plain": [
       "95"
      ]
     },
     "execution_count": 34,
     "metadata": {},
     "output_type": "execute_result"
    }
   ],
   "source": [
    "len(list(set(df[df['affiliation.2'].isnull()].doi)))"
   ]
  },
  {
   "cell_type": "markdown",
   "id": "ce2496a2",
   "metadata": {},
   "source": [
    "## Methods section"
   ]
  },
  {
   "cell_type": "code",
   "execution_count": 35,
   "id": "b7fa89d0",
   "metadata": {},
   "outputs": [
    {
     "data": {
      "text/plain": [
       "5813"
      ]
     },
     "execution_count": 35,
     "metadata": {},
     "output_type": "execute_result"
    }
   ],
   "source": [
    "dois = list(set(df.doi))\n",
    "len(dois)"
   ]
  },
  {
   "cell_type": "code",
   "execution_count": 36,
   "id": "1bd75bb4",
   "metadata": {},
   "outputs": [],
   "source": [
    "papers = pd.read_csv('../../data/processed/papers_to_study.csv')\n",
    "authors = pd.read_csv('../../data/processed/authors_to_study.csv')"
   ]
  },
  {
   "cell_type": "code",
   "execution_count": 37,
   "id": "f0c02fdd",
   "metadata": {},
   "outputs": [
    {
     "data": {
      "text/plain": [
       "(5718, 15)"
      ]
     },
     "execution_count": 37,
     "metadata": {},
     "output_type": "execute_result"
    }
   ],
   "source": [
    "papers.shape"
   ]
  },
  {
   "cell_type": "code",
   "execution_count": 38,
   "id": "b89df07f",
   "metadata": {},
   "outputs": [
    {
     "data": {
      "text/plain": [
       "(11304, 39)"
      ]
     },
     "execution_count": 38,
     "metadata": {},
     "output_type": "execute_result"
    }
   ],
   "source": [
    "authors.shape"
   ]
  }
 ],
 "metadata": {
  "kernelspec": {
   "display_name": "Python 3 (ipykernel)",
   "language": "python",
   "name": "python3"
  },
  "language_info": {
   "codemirror_mode": {
    "name": "ipython",
    "version": 3
   },
   "file_extension": ".py",
   "mimetype": "text/x-python",
   "name": "python",
   "nbconvert_exporter": "python",
   "pygments_lexer": "ipython3",
   "version": "3.8.13"
  }
 },
 "nbformat": 4,
 "nbformat_minor": 5
}
