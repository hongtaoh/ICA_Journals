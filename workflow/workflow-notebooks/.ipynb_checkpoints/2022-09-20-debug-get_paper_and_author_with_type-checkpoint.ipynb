{
 "cells": [
  {
   "cell_type": "markdown",
   "id": "0dcdc174",
   "metadata": {},
   "source": [
    "I realized that using \n",
    "\n",
    "```python\n",
    "authors_to_study = author[(\n",
    "    author.type == 'R') & (\n",
    "    author['affiliation.2'].notnull())]\n",
    "```\n",
    " \n",
    "is wrong because in 10 research papers, some authors have affiliation info whereas others do not. So, if I use the above codes, in these 10 papers, authors with affiliation info will be included. \n",
    "\n",
    "The correct way is:\n",
    "\n",
    "```python\n",
    "dois_to_exclude = list(set(\n",
    "\t\tauthor[(author.type =='R') & (author['affiliation.2'].isnull())].doi))\n",
    "dois_to_study = [x for x in all_r if x not in dois_to_exclude]\n",
    "papers_to_study = paper[paper.doi.isin(dois_to_study)]\n",
    "authors_to_study = author[author.doi.isin(dois_to_study)]\n",
    "```"
   ]
  },
  {
   "cell_type": "code",
   "execution_count": 1,
   "id": "f4ac33f5",
   "metadata": {},
   "outputs": [],
   "source": [
    "import pandas as pd\n",
    "import numpy as np"
   ]
  },
  {
   "cell_type": "code",
   "execution_count": 2,
   "id": "7f4a28da",
   "metadata": {},
   "outputs": [],
   "source": [
    "PAPER_CLASSIFICATION_HONGTAO = '../../data/interim/paper_classification_task/paper_classification_hongtao.csv'\n",
    "PAPER_CLASSIFICATION_JEFF = '../../data/interim/paper_classification_task/paper_classification_jeff.csv'\n",
    "PAPER_CLASSIFICATION_KRISTEN = '../../data/interim/paper_classification_task/paper_classification_kristen.csv'\n",
    "ICA_PAPER_DF = '../../data/interim/ica_paper_df.csv'\n",
    "AUTHOR_WITH_PRED = '../../data/processed/author_with_pred.csv'"
   ]
  },
  {
   "cell_type": "code",
   "execution_count": 3,
   "id": "4b2f8718",
   "metadata": {},
   "outputs": [],
   "source": [
    "hongtao = pd.read_csv(PAPER_CLASSIFICATION_HONGTAO)"
   ]
  },
  {
   "cell_type": "code",
   "execution_count": 4,
   "id": "96930cad",
   "metadata": {},
   "outputs": [
    {
     "data": {
      "text/html": [
       "<div>\n",
       "<style scoped>\n",
       "    .dataframe tbody tr th:only-of-type {\n",
       "        vertical-align: middle;\n",
       "    }\n",
       "\n",
       "    .dataframe tbody tr th {\n",
       "        vertical-align: top;\n",
       "    }\n",
       "\n",
       "    .dataframe thead th {\n",
       "        text-align: right;\n",
       "    }\n",
       "</style>\n",
       "<table border=\"1\" class=\"dataframe\">\n",
       "  <thead>\n",
       "    <tr style=\"text-align: right;\">\n",
       "      <th></th>\n",
       "      <th>journal</th>\n",
       "      <th>issueURL</th>\n",
       "      <th>doi</th>\n",
       "      <th>url</th>\n",
       "      <th>sci_hub</th>\n",
       "      <th>year</th>\n",
       "      <th>category</th>\n",
       "      <th>type</th>\n",
       "      <th>title</th>\n",
       "      <th>abstract</th>\n",
       "    </tr>\n",
       "  </thead>\n",
       "  <tbody>\n",
       "    <tr>\n",
       "      <th>1485</th>\n",
       "      <td>Journal of Communication</td>\n",
       "      <td>https://academic.oup.com/joc/issue/37/2?browse...</td>\n",
       "      <td>10.1111/j.1460-2466.1987.tb00988.x</td>\n",
       "      <td>https://academic.oup.com/joc/article/37/2/191/...</td>\n",
       "      <td>https://sci-hub.se/10.1111/j.1460-2466.1987.tb...</td>\n",
       "      <td>1987</td>\n",
       "      <td>Briefly noted</td>\n",
       "      <td>0</td>\n",
       "      <td>Briefly noted</td>\n",
       "      <td>NaN</td>\n",
       "    </tr>\n",
       "  </tbody>\n",
       "</table>\n",
       "</div>"
      ],
      "text/plain": [
       "                       journal  \\\n",
       "1485  Journal of Communication   \n",
       "\n",
       "                                               issueURL  \\\n",
       "1485  https://academic.oup.com/joc/issue/37/2?browse...   \n",
       "\n",
       "                                     doi  \\\n",
       "1485  10.1111/j.1460-2466.1987.tb00988.x   \n",
       "\n",
       "                                                    url  \\\n",
       "1485  https://academic.oup.com/joc/article/37/2/191/...   \n",
       "\n",
       "                                                sci_hub  year       category  \\\n",
       "1485  https://sci-hub.se/10.1111/j.1460-2466.1987.tb...  1987  Briefly noted   \n",
       "\n",
       "      type          title abstract  \n",
       "1485     0  Briefly noted      NaN  "
      ]
     },
     "execution_count": 4,
     "metadata": {},
     "output_type": "execute_result"
    }
   ],
   "source": [
    "hongtao[hongtao.doi == '10.1111/j.1460-2466.1987.tb00988.x']"
   ]
  },
  {
   "cell_type": "code",
   "execution_count": 5,
   "id": "69bee0c5",
   "metadata": {},
   "outputs": [
    {
     "name": "stdout",
     "output_type": "stream",
     "text": [
      "set of type:\n",
      "\n",
      "number of research papers:\n",
      "\n"
     ]
    }
   ],
   "source": [
    "hongtao = pd.read_csv(PAPER_CLASSIFICATION_HONGTAO)\n",
    "jeff = pd.read_csv(PAPER_CLASSIFICATION_JEFF)\n",
    "kristen = pd.read_csv(PAPER_CLASSIFICATION_KRISTEN)\n",
    "hongtao_r = hongtao[hongtao.type == 1].doi.tolist()\n",
    "jeff_r = jeff[jeff.type == 'R'].doi.tolist()\n",
    "kristen_r = kristen[kristen.type == 'R'].doi.tolist()\n",
    "print('set of type:\\n')\n",
    "set(hongtao.type), set(jeff.type), set(kristen.type)\n",
    "print('number of research papers:\\n')\n",
    "len(hongtao_r), len(jeff_r), len(kristen_r)\n",
    "all_r = hongtao_r + jeff_r + kristen_r"
   ]
  },
  {
   "cell_type": "code",
   "execution_count": 6,
   "id": "c9f8757d",
   "metadata": {},
   "outputs": [
    {
     "data": {
      "text/plain": [
       "5813"
      ]
     },
     "execution_count": 6,
     "metadata": {},
     "output_type": "execute_result"
    }
   ],
   "source": [
    "len(all_r)"
   ]
  },
  {
   "cell_type": "code",
   "execution_count": 7,
   "id": "94d311a1",
   "metadata": {},
   "outputs": [
    {
     "data": {
      "text/plain": [
       "'10.1093/hcr/hqab020'"
      ]
     },
     "execution_count": 7,
     "metadata": {},
     "output_type": "execute_result"
    }
   ],
   "source": [
    "all_r[0]"
   ]
  },
  {
   "cell_type": "code",
   "execution_count": 8,
   "id": "24a6d51b",
   "metadata": {},
   "outputs": [
    {
     "data": {
      "text/plain": [
       "False"
      ]
     },
     "execution_count": 8,
     "metadata": {},
     "output_type": "execute_result"
    }
   ],
   "source": [
    "'10.1111/j.1460-2466.1987.tb00988.x' in all_r"
   ]
  },
  {
   "cell_type": "code",
   "execution_count": 9,
   "id": "ea16a412",
   "metadata": {},
   "outputs": [],
   "source": [
    "# paper with type\n",
    "paper = pd.read_csv(ICA_PAPER_DF)\n",
    "paper['year'] = np.where(paper.year == 'Progress)', '2022', paper.year)\n",
    "paper['type'] = np.where(paper.doi.isin(all_r), 'R', 'M')"
   ]
  },
  {
   "cell_type": "code",
   "execution_count": 10,
   "id": "6de38298",
   "metadata": {},
   "outputs": [
    {
     "data": {
      "text/plain": [
       "(5813, 15)"
      ]
     },
     "execution_count": 10,
     "metadata": {},
     "output_type": "execute_result"
    }
   ],
   "source": [
    "paper[paper.type=='R'].shape"
   ]
  },
  {
   "cell_type": "code",
   "execution_count": 11,
   "id": "bd24290d",
   "metadata": {},
   "outputs": [
    {
     "data": {
      "text/html": [
       "<div>\n",
       "<style scoped>\n",
       "    .dataframe tbody tr th:only-of-type {\n",
       "        vertical-align: middle;\n",
       "    }\n",
       "\n",
       "    .dataframe tbody tr th {\n",
       "        vertical-align: top;\n",
       "    }\n",
       "\n",
       "    .dataframe thead th {\n",
       "        text-align: right;\n",
       "    }\n",
       "</style>\n",
       "<table border=\"1\" class=\"dataframe\">\n",
       "  <thead>\n",
       "    <tr style=\"text-align: right;\">\n",
       "      <th></th>\n",
       "      <th>journal</th>\n",
       "      <th>issueURL</th>\n",
       "      <th>volumn</th>\n",
       "      <th>issue</th>\n",
       "      <th>issueText</th>\n",
       "      <th>month</th>\n",
       "      <th>year</th>\n",
       "      <th>category</th>\n",
       "      <th>title</th>\n",
       "      <th>url</th>\n",
       "      <th>doi</th>\n",
       "      <th>pages</th>\n",
       "      <th>abstract</th>\n",
       "      <th>abstract_para_num</th>\n",
       "      <th>type</th>\n",
       "    </tr>\n",
       "  </thead>\n",
       "  <tbody>\n",
       "    <tr>\n",
       "      <th>2052</th>\n",
       "      <td>Journal of Communication</td>\n",
       "      <td>https://academic.oup.com/joc/issue/37/2?browse...</td>\n",
       "      <td>Volume 37</td>\n",
       "      <td>Issue 2</td>\n",
       "      <td>Issue 2, June 1987, Pages 2–192</td>\n",
       "      <td>June</td>\n",
       "      <td>1987</td>\n",
       "      <td>Briefly noted</td>\n",
       "      <td>Briefly noted</td>\n",
       "      <td>https://academic.oup.com/joc/article/37/2/191/...</td>\n",
       "      <td>10.1111/j.1460-2466.1987.tb00988.x</td>\n",
       "      <td>191–192</td>\n",
       "      <td>NaN</td>\n",
       "      <td>NaN</td>\n",
       "      <td>M</td>\n",
       "    </tr>\n",
       "  </tbody>\n",
       "</table>\n",
       "</div>"
      ],
      "text/plain": [
       "                       journal  \\\n",
       "2052  Journal of Communication   \n",
       "\n",
       "                                               issueURL     volumn    issue  \\\n",
       "2052  https://academic.oup.com/joc/issue/37/2?browse...  Volume 37  Issue 2   \n",
       "\n",
       "                            issueText month  year       category  \\\n",
       "2052  Issue 2, June 1987, Pages 2–192  June  1987  Briefly noted   \n",
       "\n",
       "              title                                                url  \\\n",
       "2052  Briefly noted  https://academic.oup.com/joc/article/37/2/191/...   \n",
       "\n",
       "                                     doi    pages abstract  abstract_para_num  \\\n",
       "2052  10.1111/j.1460-2466.1987.tb00988.x  191–192      NaN                NaN   \n",
       "\n",
       "     type  \n",
       "2052    M  "
      ]
     },
     "execution_count": 11,
     "metadata": {},
     "output_type": "execute_result"
    }
   ],
   "source": [
    "paper[paper.doi == '10.1111/j.1460-2466.1987.tb00988.x']"
   ]
  },
  {
   "cell_type": "code",
   "execution_count": 12,
   "id": "a9d2a2ac",
   "metadata": {},
   "outputs": [],
   "source": [
    "author = pd.read_csv(AUTHOR_WITH_PRED)\n",
    "author['year'] = np.where(author.year == 'Progress)', '2022', author.year)\n",
    "author['type'] = np.where(author.doi.isin(all_r), 'R', 'M')"
   ]
  },
  {
   "cell_type": "code",
   "execution_count": 13,
   "id": "7635704d",
   "metadata": {},
   "outputs": [
    {
     "data": {
      "text/html": [
       "<div>\n",
       "<style scoped>\n",
       "    .dataframe tbody tr th:only-of-type {\n",
       "        vertical-align: middle;\n",
       "    }\n",
       "\n",
       "    .dataframe tbody tr th {\n",
       "        vertical-align: top;\n",
       "    }\n",
       "\n",
       "    .dataframe thead th {\n",
       "        text-align: right;\n",
       "    }\n",
       "</style>\n",
       "<table border=\"1\" class=\"dataframe\">\n",
       "  <thead>\n",
       "    <tr style=\"text-align: right;\">\n",
       "      <th></th>\n",
       "      <th>authorID</th>\n",
       "      <th>doi</th>\n",
       "      <th>url</th>\n",
       "      <th>year</th>\n",
       "      <th>title</th>\n",
       "      <th>journal</th>\n",
       "      <th>numberOfAuthors</th>\n",
       "      <th>authorPosition</th>\n",
       "      <th>authorFullName</th>\n",
       "      <th>firstName</th>\n",
       "      <th>...</th>\n",
       "      <th>white</th>\n",
       "      <th>raceHighest</th>\n",
       "      <th>raceSecondHighest</th>\n",
       "      <th>raceDiff</th>\n",
       "      <th>affProcessed</th>\n",
       "      <th>affiliation.2</th>\n",
       "      <th>ROR_AFFNAME</th>\n",
       "      <th>matchMethod</th>\n",
       "      <th>ROR_ID</th>\n",
       "      <th>type</th>\n",
       "    </tr>\n",
       "  </thead>\n",
       "  <tbody>\n",
       "    <tr>\n",
       "      <th>3890</th>\n",
       "      <td>10.1111/j.1460-2466.1987.tb00988.x+nan</td>\n",
       "      <td>10.1111/j.1460-2466.1987.tb00988.x</td>\n",
       "      <td>https://academic.oup.com/joc/article/37/2/191/...</td>\n",
       "      <td>1987</td>\n",
       "      <td>Briefly noted</td>\n",
       "      <td>Journal of Communication</td>\n",
       "      <td>NaN</td>\n",
       "      <td>NaN</td>\n",
       "      <td>NaN</td>\n",
       "      <td>NaN</td>\n",
       "      <td>...</td>\n",
       "      <td>0.384294</td>\n",
       "      <td>0.461375</td>\n",
       "      <td>0.384294</td>\n",
       "      <td>0.077081</td>\n",
       "      <td>NaN</td>\n",
       "      <td>NaN</td>\n",
       "      <td>NaN</td>\n",
       "      <td>NaN</td>\n",
       "      <td>NaN</td>\n",
       "      <td>M</td>\n",
       "    </tr>\n",
       "  </tbody>\n",
       "</table>\n",
       "<p>1 rows × 39 columns</p>\n",
       "</div>"
      ],
      "text/plain": [
       "                                    authorID  \\\n",
       "3890  10.1111/j.1460-2466.1987.tb00988.x+nan   \n",
       "\n",
       "                                     doi  \\\n",
       "3890  10.1111/j.1460-2466.1987.tb00988.x   \n",
       "\n",
       "                                                    url  year          title  \\\n",
       "3890  https://academic.oup.com/joc/article/37/2/191/...  1987  Briefly noted   \n",
       "\n",
       "                       journal  numberOfAuthors  authorPosition  \\\n",
       "3890  Journal of Communication              NaN             NaN   \n",
       "\n",
       "     authorFullName firstName  ...     white raceHighest raceSecondHighest  \\\n",
       "3890            NaN       NaN  ...  0.384294    0.461375          0.384294   \n",
       "\n",
       "      raceDiff affProcessed  affiliation.2  ROR_AFFNAME matchMethod ROR_ID  \\\n",
       "3890  0.077081          NaN            NaN          NaN         NaN    NaN   \n",
       "\n",
       "     type  \n",
       "3890    M  \n",
       "\n",
       "[1 rows x 39 columns]"
      ]
     },
     "execution_count": 13,
     "metadata": {},
     "output_type": "execute_result"
    }
   ],
   "source": [
    "author[author.doi == '10.1111/j.1460-2466.1987.tb00988.x']"
   ]
  },
  {
   "cell_type": "code",
   "execution_count": 14,
   "id": "009be761",
   "metadata": {},
   "outputs": [
    {
     "data": {
      "text/plain": [
       "Index(['authorID', 'doi', 'url', 'year', 'title', 'journal', 'numberOfAuthors',\n",
       "       'authorPosition', 'authorFullName', 'firstName', 'lastName',\n",
       "       'affiliation', 'gscholarLink', 'googleSearch', 'genderize',\n",
       "       'genderize_prob', 'genderize_basedon', 'genderAccuracy',\n",
       "       'authorFullName.1', 'firstName.1', 'lastName.1', 'affiliation.1',\n",
       "       'gscholarLink.1', 'googleSearch.1', 'race', 'racePredAccuracy', 'api',\n",
       "       'black', 'hispanic', 'white', 'raceHighest', 'raceSecondHighest',\n",
       "       'raceDiff', 'affProcessed', 'affiliation.2', 'ROR_AFFNAME',\n",
       "       'matchMethod', 'ROR_ID', 'type'],\n",
       "      dtype='object')"
      ]
     },
     "execution_count": 14,
     "metadata": {},
     "output_type": "execute_result"
    }
   ],
   "source": [
    "author.columns"
   ]
  },
  {
   "cell_type": "code",
   "execution_count": 23,
   "id": "7f51d365",
   "metadata": {},
   "outputs": [
    {
     "data": {
      "text/plain": [
       "(11471, 39)"
      ]
     },
     "execution_count": 23,
     "metadata": {},
     "output_type": "execute_result"
    }
   ],
   "source": [
    "author[author.type =='R'].shape"
   ]
  },
  {
   "cell_type": "code",
   "execution_count": 37,
   "id": "34770f80",
   "metadata": {},
   "outputs": [
    {
     "data": {
      "text/plain": [
       "5813"
      ]
     },
     "execution_count": 37,
     "metadata": {},
     "output_type": "execute_result"
    }
   ],
   "source": [
    "dois_seem_correct = list(set(author[author.type =='R'].doi))\n",
    "len(dois_seem_correct)"
   ]
  },
  {
   "cell_type": "code",
   "execution_count": 44,
   "id": "96c3b084",
   "metadata": {},
   "outputs": [
    {
     "data": {
      "text/html": [
       "<div>\n",
       "<style scoped>\n",
       "    .dataframe tbody tr th:only-of-type {\n",
       "        vertical-align: middle;\n",
       "    }\n",
       "\n",
       "    .dataframe tbody tr th {\n",
       "        vertical-align: top;\n",
       "    }\n",
       "\n",
       "    .dataframe thead th {\n",
       "        text-align: right;\n",
       "    }\n",
       "</style>\n",
       "<table border=\"1\" class=\"dataframe\">\n",
       "  <thead>\n",
       "    <tr style=\"text-align: right;\">\n",
       "      <th></th>\n",
       "      <th>authorID</th>\n",
       "      <th>doi</th>\n",
       "      <th>url</th>\n",
       "      <th>year</th>\n",
       "      <th>title</th>\n",
       "      <th>journal</th>\n",
       "      <th>numberOfAuthors</th>\n",
       "      <th>authorPosition</th>\n",
       "      <th>authorFullName</th>\n",
       "      <th>firstName</th>\n",
       "      <th>...</th>\n",
       "      <th>white</th>\n",
       "      <th>raceHighest</th>\n",
       "      <th>raceSecondHighest</th>\n",
       "      <th>raceDiff</th>\n",
       "      <th>affProcessed</th>\n",
       "      <th>affiliation.2</th>\n",
       "      <th>ROR_AFFNAME</th>\n",
       "      <th>matchMethod</th>\n",
       "      <th>ROR_ID</th>\n",
       "      <th>type</th>\n",
       "    </tr>\n",
       "  </thead>\n",
       "  <tbody>\n",
       "    <tr>\n",
       "      <th>170</th>\n",
       "      <td>10.1093/joc/jqab027+14.0</td>\n",
       "      <td>10.1093/joc/jqab027</td>\n",
       "      <td>https://academic.oup.com/joc/article/71/5/803/...</td>\n",
       "      <td>2021</td>\n",
       "      <td>Decolonizing Open Science: Southern Interventions</td>\n",
       "      <td>Journal of Communication</td>\n",
       "      <td>23.0</td>\n",
       "      <td>14.0</td>\n",
       "      <td>Gayle Moana Johnson</td>\n",
       "      <td>Gayle</td>\n",
       "      <td>...</td>\n",
       "      <td>0.608817</td>\n",
       "      <td>0.608817</td>\n",
       "      <td>0.364275</td>\n",
       "      <td>0.244542</td>\n",
       "      <td>NaN</td>\n",
       "      <td>NaN</td>\n",
       "      <td>NaN</td>\n",
       "      <td>NaN</td>\n",
       "      <td>NaN</td>\n",
       "      <td>R</td>\n",
       "    </tr>\n",
       "    <tr>\n",
       "      <th>1086</th>\n",
       "      <td>10.1111/jcom.12153+3.0</td>\n",
       "      <td>10.1111/jcom.12153</td>\n",
       "      <td>https://academic.oup.com/joc/article/65/3/443/...</td>\n",
       "      <td>2015</td>\n",
       "      <td>Parent and Child Media Exposure, Preschooler D...</td>\n",
       "      <td>Journal of Communication</td>\n",
       "      <td>3.0</td>\n",
       "      <td>3.0</td>\n",
       "      <td></td>\n",
       "      <td>NaN</td>\n",
       "      <td>...</td>\n",
       "      <td>0.384294</td>\n",
       "      <td>0.461375</td>\n",
       "      <td>0.384294</td>\n",
       "      <td>0.077081</td>\n",
       "      <td>NaN</td>\n",
       "      <td>NaN</td>\n",
       "      <td>NaN</td>\n",
       "      <td>NaN</td>\n",
       "      <td>NaN</td>\n",
       "      <td>R</td>\n",
       "    </tr>\n",
       "    <tr>\n",
       "      <th>2919</th>\n",
       "      <td>10.1111/j.1460-2466.2000.tb02849.x+1.0</td>\n",
       "      <td>10.1111/j.1460-2466.2000.tb02849.x</td>\n",
       "      <td>https://academic.oup.com/joc/article/50/3/4/41...</td>\n",
       "      <td>2000</td>\n",
       "      <td>Elderly Lifestyles in the 21st Century: \"Doris...</td>\n",
       "      <td>Journal of Communication</td>\n",
       "      <td>2.0</td>\n",
       "      <td>1.0</td>\n",
       "      <td>Angie Williams</td>\n",
       "      <td>Angie</td>\n",
       "      <td>...</td>\n",
       "      <td>0.465989</td>\n",
       "      <td>0.497633</td>\n",
       "      <td>0.465989</td>\n",
       "      <td>0.031645</td>\n",
       "      <td>NaN</td>\n",
       "      <td>NaN</td>\n",
       "      <td>NaN</td>\n",
       "      <td>NaN</td>\n",
       "      <td>NaN</td>\n",
       "      <td>R</td>\n",
       "    </tr>\n",
       "    <tr>\n",
       "      <th>2920</th>\n",
       "      <td>10.1111/j.1460-2466.2000.tb02849.x+2.0</td>\n",
       "      <td>10.1111/j.1460-2466.2000.tb02849.x</td>\n",
       "      <td>https://academic.oup.com/joc/article/50/3/4/41...</td>\n",
       "      <td>2000</td>\n",
       "      <td>Elderly Lifestyles in the 21st Century: \"Doris...</td>\n",
       "      <td>Journal of Communication</td>\n",
       "      <td>2.0</td>\n",
       "      <td>2.0</td>\n",
       "      <td>Virpi Ylänne-McEwen</td>\n",
       "      <td>Virpi</td>\n",
       "      <td>...</td>\n",
       "      <td>0.924163</td>\n",
       "      <td>0.924163</td>\n",
       "      <td>0.051145</td>\n",
       "      <td>0.873018</td>\n",
       "      <td>NaN</td>\n",
       "      <td>NaN</td>\n",
       "      <td>NaN</td>\n",
       "      <td>NaN</td>\n",
       "      <td>NaN</td>\n",
       "      <td>R</td>\n",
       "    </tr>\n",
       "    <tr>\n",
       "      <th>3860</th>\n",
       "      <td>10.1111/j.1460-2466.1987.tb00995.x+1.0</td>\n",
       "      <td>10.1111/j.1460-2466.1987.tb00995.x</td>\n",
       "      <td>https://academic.oup.com/joc/article/37/3/68/4...</td>\n",
       "      <td>1987</td>\n",
       "      <td>Calculating Risk: Radiation and Chernobyl</td>\n",
       "      <td>Journal of Communication</td>\n",
       "      <td>1.0</td>\n",
       "      <td>1.0</td>\n",
       "      <td>Robert Peter Gale</td>\n",
       "      <td>Robert</td>\n",
       "      <td>...</td>\n",
       "      <td>0.882981</td>\n",
       "      <td>0.882981</td>\n",
       "      <td>0.063767</td>\n",
       "      <td>0.819214</td>\n",
       "      <td>NaN</td>\n",
       "      <td>NaN</td>\n",
       "      <td>NaN</td>\n",
       "      <td>NaN</td>\n",
       "      <td>NaN</td>\n",
       "      <td>R</td>\n",
       "    </tr>\n",
       "    <tr>\n",
       "      <th>...</th>\n",
       "      <td>...</td>\n",
       "      <td>...</td>\n",
       "      <td>...</td>\n",
       "      <td>...</td>\n",
       "      <td>...</td>\n",
       "      <td>...</td>\n",
       "      <td>...</td>\n",
       "      <td>...</td>\n",
       "      <td>...</td>\n",
       "      <td>...</td>\n",
       "      <td>...</td>\n",
       "      <td>...</td>\n",
       "      <td>...</td>\n",
       "      <td>...</td>\n",
       "      <td>...</td>\n",
       "      <td>...</td>\n",
       "      <td>...</td>\n",
       "      <td>...</td>\n",
       "      <td>...</td>\n",
       "      <td>...</td>\n",
       "      <td>...</td>\n",
       "    </tr>\n",
       "    <tr>\n",
       "      <th>12118</th>\n",
       "      <td>10.1111/j.1083-6101.2006.00318.x+3.0</td>\n",
       "      <td>10.1111/j.1083-6101.2006.00318.x</td>\n",
       "      <td>https://academic.oup.com/jcmc/article/12/1/136...</td>\n",
       "      <td>2006</td>\n",
       "      <td>Managing Impressions in a Virtual Environment:...</td>\n",
       "      <td>Journal of Computer-Mediated Communication</td>\n",
       "      <td>4.0</td>\n",
       "      <td>3.0</td>\n",
       "      <td>Tiffany Charles</td>\n",
       "      <td>Tiffany</td>\n",
       "      <td>...</td>\n",
       "      <td>0.341701</td>\n",
       "      <td>0.603965</td>\n",
       "      <td>0.341701</td>\n",
       "      <td>0.262264</td>\n",
       "      <td>NaN</td>\n",
       "      <td>NaN</td>\n",
       "      <td>NaN</td>\n",
       "      <td>NaN</td>\n",
       "      <td>NaN</td>\n",
       "      <td>R</td>\n",
       "    </tr>\n",
       "    <tr>\n",
       "      <th>12119</th>\n",
       "      <td>10.1111/j.1083-6101.2006.00318.x+4.0</td>\n",
       "      <td>10.1111/j.1083-6101.2006.00318.x</td>\n",
       "      <td>https://academic.oup.com/jcmc/article/12/1/136...</td>\n",
       "      <td>2006</td>\n",
       "      <td>Managing Impressions in a Virtual Environment:...</td>\n",
       "      <td>Journal of Computer-Mediated Communication</td>\n",
       "      <td>4.0</td>\n",
       "      <td>4.0</td>\n",
       "      <td>Patrice Coleman</td>\n",
       "      <td>Patrice</td>\n",
       "      <td>...</td>\n",
       "      <td>0.567848</td>\n",
       "      <td>0.567848</td>\n",
       "      <td>0.400698</td>\n",
       "      <td>0.167150</td>\n",
       "      <td>NaN</td>\n",
       "      <td>NaN</td>\n",
       "      <td>NaN</td>\n",
       "      <td>NaN</td>\n",
       "      <td>NaN</td>\n",
       "      <td>R</td>\n",
       "    </tr>\n",
       "    <tr>\n",
       "      <th>12146</th>\n",
       "      <td>10.1111/j.1083-6101.2006.00305.x+1.0</td>\n",
       "      <td>10.1111/j.1083-6101.2006.00305.x</td>\n",
       "      <td>https://academic.oup.com/jcmc/article/11/4/101...</td>\n",
       "      <td>2006</td>\n",
       "      <td>Gender and the Use of Exclamation Points in Co...</td>\n",
       "      <td>Journal of Computer-Mediated Communication</td>\n",
       "      <td>1.0</td>\n",
       "      <td>1.0</td>\n",
       "      <td>Carol Waseleski</td>\n",
       "      <td>Carol</td>\n",
       "      <td>...</td>\n",
       "      <td>0.990786</td>\n",
       "      <td>0.990786</td>\n",
       "      <td>0.008628</td>\n",
       "      <td>0.982158</td>\n",
       "      <td>NaN</td>\n",
       "      <td>NaN</td>\n",
       "      <td>NaN</td>\n",
       "      <td>NaN</td>\n",
       "      <td>NaN</td>\n",
       "      <td>R</td>\n",
       "    </tr>\n",
       "    <tr>\n",
       "      <th>12188</th>\n",
       "      <td>10.1111/j.1083-6101.2006.00021.x+1.0</td>\n",
       "      <td>10.1111/j.1083-6101.2006.00021.x</td>\n",
       "      <td>https://academic.oup.com/jcmc/article/11/2/442...</td>\n",
       "      <td>2006</td>\n",
       "      <td>Ouch!: an Examination of the Self-Representati...</td>\n",
       "      <td>Journal of Computer-Mediated Communication</td>\n",
       "      <td>1.0</td>\n",
       "      <td>1.0</td>\n",
       "      <td>Estelle Thoreau</td>\n",
       "      <td>Estelle</td>\n",
       "      <td>...</td>\n",
       "      <td>0.915146</td>\n",
       "      <td>0.915146</td>\n",
       "      <td>0.053728</td>\n",
       "      <td>0.861418</td>\n",
       "      <td>NaN</td>\n",
       "      <td>NaN</td>\n",
       "      <td>NaN</td>\n",
       "      <td>NaN</td>\n",
       "      <td>NaN</td>\n",
       "      <td>R</td>\n",
       "    </tr>\n",
       "    <tr>\n",
       "      <th>12778</th>\n",
       "      <td>10.1111/j.1083-6101.1996.tb00185.x+1.0</td>\n",
       "      <td>10.1111/j.1083-6101.1996.tb00185.x</td>\n",
       "      <td>https://academic.oup.com/jcmc/article/2/1/JCMC...</td>\n",
       "      <td>1996</td>\n",
       "      <td>Virtual(ly) Law: the Emergence of Law in Lambd...</td>\n",
       "      <td>Journal of Computer-Mediated Communication</td>\n",
       "      <td>1.0</td>\n",
       "      <td>1.0</td>\n",
       "      <td>Jennifer L. Mnookin</td>\n",
       "      <td>Jennifer</td>\n",
       "      <td>...</td>\n",
       "      <td>0.719582</td>\n",
       "      <td>0.719582</td>\n",
       "      <td>0.217559</td>\n",
       "      <td>0.502023</td>\n",
       "      <td>NaN</td>\n",
       "      <td>NaN</td>\n",
       "      <td>NaN</td>\n",
       "      <td>NaN</td>\n",
       "      <td>NaN</td>\n",
       "      <td>R</td>\n",
       "    </tr>\n",
       "  </tbody>\n",
       "</table>\n",
       "<p>133 rows × 39 columns</p>\n",
       "</div>"
      ],
      "text/plain": [
       "                                     authorID  \\\n",
       "170                  10.1093/joc/jqab027+14.0   \n",
       "1086                   10.1111/jcom.12153+3.0   \n",
       "2919   10.1111/j.1460-2466.2000.tb02849.x+1.0   \n",
       "2920   10.1111/j.1460-2466.2000.tb02849.x+2.0   \n",
       "3860   10.1111/j.1460-2466.1987.tb00995.x+1.0   \n",
       "...                                       ...   \n",
       "12118    10.1111/j.1083-6101.2006.00318.x+3.0   \n",
       "12119    10.1111/j.1083-6101.2006.00318.x+4.0   \n",
       "12146    10.1111/j.1083-6101.2006.00305.x+1.0   \n",
       "12188    10.1111/j.1083-6101.2006.00021.x+1.0   \n",
       "12778  10.1111/j.1083-6101.1996.tb00185.x+1.0   \n",
       "\n",
       "                                      doi  \\\n",
       "170                   10.1093/joc/jqab027   \n",
       "1086                   10.1111/jcom.12153   \n",
       "2919   10.1111/j.1460-2466.2000.tb02849.x   \n",
       "2920   10.1111/j.1460-2466.2000.tb02849.x   \n",
       "3860   10.1111/j.1460-2466.1987.tb00995.x   \n",
       "...                                   ...   \n",
       "12118    10.1111/j.1083-6101.2006.00318.x   \n",
       "12119    10.1111/j.1083-6101.2006.00318.x   \n",
       "12146    10.1111/j.1083-6101.2006.00305.x   \n",
       "12188    10.1111/j.1083-6101.2006.00021.x   \n",
       "12778  10.1111/j.1083-6101.1996.tb00185.x   \n",
       "\n",
       "                                                     url  year  \\\n",
       "170    https://academic.oup.com/joc/article/71/5/803/...  2021   \n",
       "1086   https://academic.oup.com/joc/article/65/3/443/...  2015   \n",
       "2919   https://academic.oup.com/joc/article/50/3/4/41...  2000   \n",
       "2920   https://academic.oup.com/joc/article/50/3/4/41...  2000   \n",
       "3860   https://academic.oup.com/joc/article/37/3/68/4...  1987   \n",
       "...                                                  ...   ...   \n",
       "12118  https://academic.oup.com/jcmc/article/12/1/136...  2006   \n",
       "12119  https://academic.oup.com/jcmc/article/12/1/136...  2006   \n",
       "12146  https://academic.oup.com/jcmc/article/11/4/101...  2006   \n",
       "12188  https://academic.oup.com/jcmc/article/11/2/442...  2006   \n",
       "12778  https://academic.oup.com/jcmc/article/2/1/JCMC...  1996   \n",
       "\n",
       "                                                   title  \\\n",
       "170    Decolonizing Open Science: Southern Interventions   \n",
       "1086   Parent and Child Media Exposure, Preschooler D...   \n",
       "2919   Elderly Lifestyles in the 21st Century: \"Doris...   \n",
       "2920   Elderly Lifestyles in the 21st Century: \"Doris...   \n",
       "3860           Calculating Risk: Radiation and Chernobyl   \n",
       "...                                                  ...   \n",
       "12118  Managing Impressions in a Virtual Environment:...   \n",
       "12119  Managing Impressions in a Virtual Environment:...   \n",
       "12146  Gender and the Use of Exclamation Points in Co...   \n",
       "12188  Ouch!: an Examination of the Self-Representati...   \n",
       "12778  Virtual(ly) Law: the Emergence of Law in Lambd...   \n",
       "\n",
       "                                          journal  numberOfAuthors  \\\n",
       "170                      Journal of Communication             23.0   \n",
       "1086                     Journal of Communication              3.0   \n",
       "2919                     Journal of Communication              2.0   \n",
       "2920                     Journal of Communication              2.0   \n",
       "3860                     Journal of Communication              1.0   \n",
       "...                                           ...              ...   \n",
       "12118  Journal of Computer-Mediated Communication              4.0   \n",
       "12119  Journal of Computer-Mediated Communication              4.0   \n",
       "12146  Journal of Computer-Mediated Communication              1.0   \n",
       "12188  Journal of Computer-Mediated Communication              1.0   \n",
       "12778  Journal of Computer-Mediated Communication              1.0   \n",
       "\n",
       "       authorPosition       authorFullName firstName  ...     white  \\\n",
       "170              14.0  Gayle Moana Johnson     Gayle  ...  0.608817   \n",
       "1086              3.0                            NaN  ...  0.384294   \n",
       "2919              1.0       Angie Williams     Angie  ...  0.465989   \n",
       "2920              2.0  Virpi Ylänne-McEwen     Virpi  ...  0.924163   \n",
       "3860              1.0    Robert Peter Gale    Robert  ...  0.882981   \n",
       "...               ...                  ...       ...  ...       ...   \n",
       "12118             3.0      Tiffany Charles   Tiffany  ...  0.341701   \n",
       "12119             4.0      Patrice Coleman   Patrice  ...  0.567848   \n",
       "12146             1.0      Carol Waseleski     Carol  ...  0.990786   \n",
       "12188             1.0      Estelle Thoreau   Estelle  ...  0.915146   \n",
       "12778             1.0  Jennifer L. Mnookin  Jennifer  ...  0.719582   \n",
       "\n",
       "      raceHighest raceSecondHighest  raceDiff affProcessed  affiliation.2  \\\n",
       "170      0.608817          0.364275  0.244542          NaN            NaN   \n",
       "1086     0.461375          0.384294  0.077081          NaN            NaN   \n",
       "2919     0.497633          0.465989  0.031645          NaN            NaN   \n",
       "2920     0.924163          0.051145  0.873018          NaN            NaN   \n",
       "3860     0.882981          0.063767  0.819214          NaN            NaN   \n",
       "...           ...               ...       ...          ...            ...   \n",
       "12118    0.603965          0.341701  0.262264          NaN            NaN   \n",
       "12119    0.567848          0.400698  0.167150          NaN            NaN   \n",
       "12146    0.990786          0.008628  0.982158          NaN            NaN   \n",
       "12188    0.915146          0.053728  0.861418          NaN            NaN   \n",
       "12778    0.719582          0.217559  0.502023          NaN            NaN   \n",
       "\n",
       "       ROR_AFFNAME matchMethod ROR_ID type  \n",
       "170            NaN         NaN    NaN    R  \n",
       "1086           NaN         NaN    NaN    R  \n",
       "2919           NaN         NaN    NaN    R  \n",
       "2920           NaN         NaN    NaN    R  \n",
       "3860           NaN         NaN    NaN    R  \n",
       "...            ...         ...    ...  ...  \n",
       "12118          NaN         NaN    NaN    R  \n",
       "12119          NaN         NaN    NaN    R  \n",
       "12146          NaN         NaN    NaN    R  \n",
       "12188          NaN         NaN    NaN    R  \n",
       "12778          NaN         NaN    NaN    R  \n",
       "\n",
       "[133 rows x 39 columns]"
      ]
     },
     "execution_count": 44,
     "metadata": {},
     "output_type": "execute_result"
    }
   ],
   "source": [
    "author[(author.type =='R') & (author['affiliation.2'].isnull())]"
   ]
  },
  {
   "cell_type": "code",
   "execution_count": 33,
   "id": "7c070d95",
   "metadata": {},
   "outputs": [
    {
     "data": {
      "text/plain": [
       "95"
      ]
     },
     "execution_count": 33,
     "metadata": {},
     "output_type": "execute_result"
    }
   ],
   "source": [
    "dois_to_exclude = list(set(author[(author.type =='R') & (author['affiliation.2'].isnull())].doi))\n",
    "len(dois_to_exclude)"
   ]
  },
  {
   "cell_type": "code",
   "execution_count": 27,
   "id": "d80f81c7",
   "metadata": {},
   "outputs": [],
   "source": [
    "authors_to_study = author[(\n",
    "    author.type == 'R') & (\n",
    "    author['affiliation.2'].notnull())]"
   ]
  },
  {
   "cell_type": "code",
   "execution_count": 28,
   "id": "dee23243",
   "metadata": {},
   "outputs": [
    {
     "data": {
      "text/plain": [
       "(11338, 39)"
      ]
     },
     "execution_count": 28,
     "metadata": {},
     "output_type": "execute_result"
    }
   ],
   "source": [
    "authors_to_study.shape"
   ]
  },
  {
   "cell_type": "code",
   "execution_count": 17,
   "id": "3514765f",
   "metadata": {},
   "outputs": [],
   "source": [
    "dois_to_study = list(set(authors_to_study.doi))\n",
    "papers_to_study = paper[paper.doi.isin(dois_to_study)]"
   ]
  },
  {
   "cell_type": "code",
   "execution_count": 18,
   "id": "f2da27cf",
   "metadata": {},
   "outputs": [
    {
     "data": {
      "text/plain": [
       "(5728, 15)"
      ]
     },
     "execution_count": 18,
     "metadata": {},
     "output_type": "execute_result"
    }
   ],
   "source": [
    "papers_to_study.shape"
   ]
  },
  {
   "cell_type": "code",
   "execution_count": 29,
   "id": "b82ba8ed",
   "metadata": {},
   "outputs": [
    {
     "data": {
      "text/plain": [
       "5728"
      ]
     },
     "execution_count": 29,
     "metadata": {},
     "output_type": "execute_result"
    }
   ],
   "source": [
    "len(dois_to_study)"
   ]
  },
  {
   "cell_type": "code",
   "execution_count": 40,
   "id": "1cf2c191",
   "metadata": {},
   "outputs": [
    {
     "data": {
      "text/plain": [
       "85"
      ]
     },
     "execution_count": 40,
     "metadata": {},
     "output_type": "execute_result"
    }
   ],
   "source": [
    "actually_excluded = [x for x in dois_seem_correct if x not in dois_to_study]\n",
    "len(actually_excluded)"
   ]
  },
  {
   "cell_type": "code",
   "execution_count": 41,
   "id": "12d4a7f6",
   "metadata": {},
   "outputs": [
    {
     "data": {
      "text/plain": [
       "False"
      ]
     },
     "execution_count": 41,
     "metadata": {},
     "output_type": "execute_result"
    }
   ],
   "source": [
    "actually_excluded in dois_to_exclude"
   ]
  },
  {
   "cell_type": "code",
   "execution_count": 42,
   "id": "8a35c2a5",
   "metadata": {},
   "outputs": [
    {
     "data": {
      "text/plain": [
       "[]"
      ]
     },
     "execution_count": 42,
     "metadata": {},
     "output_type": "execute_result"
    }
   ],
   "source": [
    "[x for x in actually_excluded if x not in dois_to_exclude]"
   ]
  },
  {
   "cell_type": "code",
   "execution_count": 43,
   "id": "26095196",
   "metadata": {},
   "outputs": [
    {
     "data": {
      "text/plain": [
       "['10.1111/j.1460-2466.1984.tb02161.x',\n",
       " '10.1111/hcre.12009',\n",
       " '10.1111/j.1083-6101.2006.00318.x',\n",
       " '10.1111/jcc4.12005',\n",
       " '10.1111/jcom.12153',\n",
       " '10.1111/j.1468-2885.1999.tb00160.x',\n",
       " '10.1093/joc/jqab027',\n",
       " '10.1111/hcre.12013',\n",
       " '10.1093/jcmc/zmac011',\n",
       " '10.1111/j.1468-2885.1999.tb00206.x']"
      ]
     },
     "execution_count": 43,
     "metadata": {},
     "output_type": "execute_result"
    }
   ],
   "source": [
    "[x for x in dois_to_exclude if x not in actually_excluded]"
   ]
  },
  {
   "cell_type": "code",
   "execution_count": 45,
   "id": "35dd3fd8",
   "metadata": {},
   "outputs": [
    {
     "data": {
      "text/html": [
       "<div>\n",
       "<style scoped>\n",
       "    .dataframe tbody tr th:only-of-type {\n",
       "        vertical-align: middle;\n",
       "    }\n",
       "\n",
       "    .dataframe tbody tr th {\n",
       "        vertical-align: top;\n",
       "    }\n",
       "\n",
       "    .dataframe thead th {\n",
       "        text-align: right;\n",
       "    }\n",
       "</style>\n",
       "<table border=\"1\" class=\"dataframe\">\n",
       "  <thead>\n",
       "    <tr style=\"text-align: right;\">\n",
       "      <th></th>\n",
       "      <th>authorID</th>\n",
       "      <th>doi</th>\n",
       "      <th>url</th>\n",
       "      <th>year</th>\n",
       "      <th>title</th>\n",
       "      <th>journal</th>\n",
       "      <th>numberOfAuthors</th>\n",
       "      <th>authorPosition</th>\n",
       "      <th>authorFullName</th>\n",
       "      <th>firstName</th>\n",
       "      <th>...</th>\n",
       "      <th>white</th>\n",
       "      <th>raceHighest</th>\n",
       "      <th>raceSecondHighest</th>\n",
       "      <th>raceDiff</th>\n",
       "      <th>affProcessed</th>\n",
       "      <th>affiliation.2</th>\n",
       "      <th>ROR_AFFNAME</th>\n",
       "      <th>matchMethod</th>\n",
       "      <th>ROR_ID</th>\n",
       "      <th>type</th>\n",
       "    </tr>\n",
       "  </thead>\n",
       "  <tbody>\n",
       "    <tr>\n",
       "      <th>4149</th>\n",
       "      <td>10.1111/j.1460-2466.1984.tb02161.x+1.0</td>\n",
       "      <td>10.1111/j.1460-2466.1984.tb02161.x</td>\n",
       "      <td>https://academic.oup.com/joc/article/34/2/73/4...</td>\n",
       "      <td>1984</td>\n",
       "      <td>Family Patterns and Television Viewing as Pred...</td>\n",
       "      <td>Journal of Communication</td>\n",
       "      <td>3.0</td>\n",
       "      <td>1.0</td>\n",
       "      <td>Jerome L. Singer</td>\n",
       "      <td>Jerome</td>\n",
       "      <td>...</td>\n",
       "      <td>0.932566</td>\n",
       "      <td>0.932566</td>\n",
       "      <td>0.050324</td>\n",
       "      <td>0.882243</td>\n",
       "      <td>wanda s rapaczynski jerome l singer is profess...</td>\n",
       "      <td>1 Wanda S. Rapaczynski Jerome L. Singer is Pro...</td>\n",
       "      <td>Yale University</td>\n",
       "      <td>Exact</td>\n",
       "      <td>https://ror.org/03v76x132</td>\n",
       "      <td>R</td>\n",
       "    </tr>\n",
       "    <tr>\n",
       "      <th>4150</th>\n",
       "      <td>10.1111/j.1460-2466.1984.tb02161.x+2.0</td>\n",
       "      <td>10.1111/j.1460-2466.1984.tb02161.x</td>\n",
       "      <td>https://academic.oup.com/joc/article/34/2/73/4...</td>\n",
       "      <td>1984</td>\n",
       "      <td>Family Patterns and Television Viewing as Pred...</td>\n",
       "      <td>Journal of Communication</td>\n",
       "      <td>3.0</td>\n",
       "      <td>2.0</td>\n",
       "      <td>Dorothy G. Singer</td>\n",
       "      <td>Dorothy</td>\n",
       "      <td>...</td>\n",
       "      <td>0.932566</td>\n",
       "      <td>0.932566</td>\n",
       "      <td>0.050324</td>\n",
       "      <td>0.882243</td>\n",
       "      <td>dorothy g singer is also professor of psycholo...</td>\n",
       "      <td>2 Dorothy G. Singer is also Professor of Psych...</td>\n",
       "      <td>University of Bridgeport</td>\n",
       "      <td>Exact</td>\n",
       "      <td>https://ror.org/01rf3yp57</td>\n",
       "      <td>R</td>\n",
       "    </tr>\n",
       "    <tr>\n",
       "      <th>4151</th>\n",
       "      <td>10.1111/j.1460-2466.1984.tb02161.x+3.0</td>\n",
       "      <td>10.1111/j.1460-2466.1984.tb02161.x</td>\n",
       "      <td>https://academic.oup.com/joc/article/34/2/73/4...</td>\n",
       "      <td>1984</td>\n",
       "      <td>Family Patterns and Television Viewing as Pred...</td>\n",
       "      <td>Journal of Communication</td>\n",
       "      <td>3.0</td>\n",
       "      <td>3.0</td>\n",
       "      <td>Wanda S. Rapaczynski</td>\n",
       "      <td>Wanda</td>\n",
       "      <td>...</td>\n",
       "      <td>0.989640</td>\n",
       "      <td>0.989640</td>\n",
       "      <td>0.006395</td>\n",
       "      <td>0.983245</td>\n",
       "      <td>NaN</td>\n",
       "      <td>NaN</td>\n",
       "      <td>NaN</td>\n",
       "      <td>NaN</td>\n",
       "      <td>NaN</td>\n",
       "      <td>R</td>\n",
       "    </tr>\n",
       "  </tbody>\n",
       "</table>\n",
       "<p>3 rows × 39 columns</p>\n",
       "</div>"
      ],
      "text/plain": [
       "                                    authorID  \\\n",
       "4149  10.1111/j.1460-2466.1984.tb02161.x+1.0   \n",
       "4150  10.1111/j.1460-2466.1984.tb02161.x+2.0   \n",
       "4151  10.1111/j.1460-2466.1984.tb02161.x+3.0   \n",
       "\n",
       "                                     doi  \\\n",
       "4149  10.1111/j.1460-2466.1984.tb02161.x   \n",
       "4150  10.1111/j.1460-2466.1984.tb02161.x   \n",
       "4151  10.1111/j.1460-2466.1984.tb02161.x   \n",
       "\n",
       "                                                    url  year  \\\n",
       "4149  https://academic.oup.com/joc/article/34/2/73/4...  1984   \n",
       "4150  https://academic.oup.com/joc/article/34/2/73/4...  1984   \n",
       "4151  https://academic.oup.com/joc/article/34/2/73/4...  1984   \n",
       "\n",
       "                                                  title  \\\n",
       "4149  Family Patterns and Television Viewing as Pred...   \n",
       "4150  Family Patterns and Television Viewing as Pred...   \n",
       "4151  Family Patterns and Television Viewing as Pred...   \n",
       "\n",
       "                       journal  numberOfAuthors  authorPosition  \\\n",
       "4149  Journal of Communication              3.0             1.0   \n",
       "4150  Journal of Communication              3.0             2.0   \n",
       "4151  Journal of Communication              3.0             3.0   \n",
       "\n",
       "            authorFullName firstName  ...     white raceHighest  \\\n",
       "4149      Jerome L. Singer    Jerome  ...  0.932566    0.932566   \n",
       "4150     Dorothy G. Singer   Dorothy  ...  0.932566    0.932566   \n",
       "4151  Wanda S. Rapaczynski     Wanda  ...  0.989640    0.989640   \n",
       "\n",
       "     raceSecondHighest  raceDiff  \\\n",
       "4149          0.050324  0.882243   \n",
       "4150          0.050324  0.882243   \n",
       "4151          0.006395  0.983245   \n",
       "\n",
       "                                           affProcessed  \\\n",
       "4149  wanda s rapaczynski jerome l singer is profess...   \n",
       "4150  dorothy g singer is also professor of psycholo...   \n",
       "4151                                                NaN   \n",
       "\n",
       "                                          affiliation.2  \\\n",
       "4149  1 Wanda S. Rapaczynski Jerome L. Singer is Pro...   \n",
       "4150  2 Dorothy G. Singer is also Professor of Psych...   \n",
       "4151                                                NaN   \n",
       "\n",
       "                   ROR_AFFNAME matchMethod                     ROR_ID type  \n",
       "4149           Yale University       Exact  https://ror.org/03v76x132    R  \n",
       "4150  University of Bridgeport       Exact  https://ror.org/01rf3yp57    R  \n",
       "4151                       NaN         NaN                        NaN    R  \n",
       "\n",
       "[3 rows x 39 columns]"
      ]
     },
     "execution_count": 45,
     "metadata": {},
     "output_type": "execute_result"
    }
   ],
   "source": [
    "author[author.doi=='10.1111/j.1460-2466.1984.tb02161.x']"
   ]
  }
 ],
 "metadata": {
  "kernelspec": {
   "display_name": "Python 3 (ipykernel)",
   "language": "python",
   "name": "python3"
  },
  "language_info": {
   "codemirror_mode": {
    "name": "ipython",
    "version": 3
   },
   "file_extension": ".py",
   "mimetype": "text/x-python",
   "name": "python",
   "nbconvert_exporter": "python",
   "pygments_lexer": "ipython3",
   "version": "3.8.13"
  }
 },
 "nbformat": 4,
 "nbformat_minor": 5
}
