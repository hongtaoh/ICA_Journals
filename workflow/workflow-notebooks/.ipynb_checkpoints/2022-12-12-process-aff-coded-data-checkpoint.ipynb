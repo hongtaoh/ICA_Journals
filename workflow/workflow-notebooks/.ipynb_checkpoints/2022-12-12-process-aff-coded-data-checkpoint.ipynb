{
 "cells": [
  {
   "cell_type": "markdown",
   "id": "6bd8a605",
   "metadata": {},
   "source": [
    "## AIM\n",
    "\n",
    "In this notebook, I processed the affiliation data. I have the coded results, now I need to fill in data using the dict from ror dataset and I also need to check whether there is any error in the coded data. \n",
    "\n",
    "Later, codes here became part of `get_authorid_with_vars.py`\n",
    "\n",
    "(I need this because when Kristen and I coded the data, if the result is the same as ROR AFF, we didn't input the country code or the aff type. So i need now to retrieve the ROR data to fill the gap. )"
   ]
  },
  {
   "cell_type": "code",
   "execution_count": 6,
   "id": "2c6366b2",
   "metadata": {},
   "outputs": [],
   "source": [
    "import pandas as pd\n",
    "import numpy as np\n",
    "import json\n",
    "import seaborn as sns\n",
    "import matplotlib.pyplot as plt\n",
    "# pd.set_option('display.max_rows', 500)\n",
    "# pd.set_option('display.max_columns', None)\n",
    "# pd.set_option('display.max_colwidth', None)"
   ]
  },
  {
   "cell_type": "code",
   "execution_count": 7,
   "id": "2dba4c19",
   "metadata": {},
   "outputs": [],
   "source": [
    "def load_ror_dataset(ROR_RAW_DATA):\n",
    "    '''read in ROR_DATA\n",
    "    Output:\n",
    "        a list of dictionaries\n",
    "    '''\n",
    "    with open(ROR_RAW_DATA, 'r') as myfile:\n",
    "        data=myfile.read()\n",
    "    data = json.loads(data)\n",
    "    return data"
   ]
  },
  {
   "cell_type": "code",
   "execution_count": 8,
   "id": "52460861",
   "metadata": {},
   "outputs": [],
   "source": [
    "ror_raw = '../../data/raw/large/ror.json'"
   ]
  },
  {
   "cell_type": "code",
   "execution_count": 9,
   "id": "33a88ded",
   "metadata": {},
   "outputs": [],
   "source": [
    "ror = load_ror_dataset(ror_raw)"
   ]
  },
  {
   "cell_type": "code",
   "execution_count": 10,
   "id": "de9bd721",
   "metadata": {},
   "outputs": [
    {
     "data": {
      "text/html": [
       "<div>\n",
       "<style scoped>\n",
       "    .dataframe tbody tr th:only-of-type {\n",
       "        vertical-align: middle;\n",
       "    }\n",
       "\n",
       "    .dataframe tbody tr th {\n",
       "        vertical-align: top;\n",
       "    }\n",
       "\n",
       "    .dataframe thead th {\n",
       "        text-align: right;\n",
       "    }\n",
       "</style>\n",
       "<table border=\"1\" class=\"dataframe\">\n",
       "  <thead>\n",
       "    <tr style=\"text-align: right;\">\n",
       "      <th></th>\n",
       "      <th>Unnamed: 0</th>\n",
       "      <th>authorID</th>\n",
       "      <th>doi</th>\n",
       "      <th>url</th>\n",
       "      <th>year</th>\n",
       "      <th>title</th>\n",
       "      <th>journal</th>\n",
       "      <th>numberOfAuthors</th>\n",
       "      <th>authorPosition</th>\n",
       "      <th>firstName</th>\n",
       "      <th>...</th>\n",
       "      <th>googleSearch</th>\n",
       "      <th>affProcessed</th>\n",
       "      <th>authorFullName</th>\n",
       "      <th>affiliation.2</th>\n",
       "      <th>ROR_AFFNAME</th>\n",
       "      <th>matchMethod</th>\n",
       "      <th>aff_prediction</th>\n",
       "      <th>country_code</th>\n",
       "      <th>aff_type</th>\n",
       "      <th>ROR_ID</th>\n",
       "    </tr>\n",
       "  </thead>\n",
       "  <tbody>\n",
       "    <tr>\n",
       "      <th>0</th>\n",
       "      <td>8674</td>\n",
       "      <td>10.1093/jcmc/zmab019+4.0</td>\n",
       "      <td>10.1093/jcmc/zmab019</td>\n",
       "      <td>https://academic.oup.com/jcmc/article/27/1/zma...</td>\n",
       "      <td>2022</td>\n",
       "      <td>Beyond Anonymity: Network Affordances, Under D...</td>\n",
       "      <td>Journal of Computer-Mediated Communication</td>\n",
       "      <td>5</td>\n",
       "      <td>4</td>\n",
       "      <td>Jana</td>\n",
       "      <td>...</td>\n",
       "      <td>https://www.google.com/search?q=Jana+Egelhofer...</td>\n",
       "      <td>department of communication university of vien...</td>\n",
       "      <td>Jana Egelhofer</td>\n",
       "      <td>Department of Communication, University of Vie...</td>\n",
       "      <td>University of Vienna</td>\n",
       "      <td>Exact</td>\n",
       "      <td>NaN</td>\n",
       "      <td>NaN</td>\n",
       "      <td>NaN</td>\n",
       "      <td>https://ror.org/03prydq77</td>\n",
       "    </tr>\n",
       "    <tr>\n",
       "      <th>1</th>\n",
       "      <td>8675</td>\n",
       "      <td>10.1093/jcmc/zmab019+5.0</td>\n",
       "      <td>10.1093/jcmc/zmab019</td>\n",
       "      <td>https://academic.oup.com/jcmc/article/27/1/zma...</td>\n",
       "      <td>2022</td>\n",
       "      <td>Beyond Anonymity: Network Affordances, Under D...</td>\n",
       "      <td>Journal of Computer-Mediated Communication</td>\n",
       "      <td>5</td>\n",
       "      <td>5</td>\n",
       "      <td>Sophie</td>\n",
       "      <td>...</td>\n",
       "      <td>https://www.google.com/search?q=Sophie+Lechele...</td>\n",
       "      <td>department of communication university of vien...</td>\n",
       "      <td>Sophie Lecheler</td>\n",
       "      <td>Department of Communication, University of Vie...</td>\n",
       "      <td>University of Vienna</td>\n",
       "      <td>Exact</td>\n",
       "      <td>NaN</td>\n",
       "      <td>NaN</td>\n",
       "      <td>NaN</td>\n",
       "      <td>https://ror.org/03prydq77</td>\n",
       "    </tr>\n",
       "    <tr>\n",
       "      <th>2</th>\n",
       "      <td>26</td>\n",
       "      <td>10.1093/joc/jqab052+5.0</td>\n",
       "      <td>10.1093/joc/jqab052</td>\n",
       "      <td>https://academic.oup.com/joc/article/72/2/187/...</td>\n",
       "      <td>2022</td>\n",
       "      <td>The Effects of Tobacco Coverage in the Public ...</td>\n",
       "      <td>Journal of Communication</td>\n",
       "      <td>18</td>\n",
       "      <td>5</td>\n",
       "      <td>Michelle</td>\n",
       "      <td>...</td>\n",
       "      <td>https://www.google.com/search?q=Michelle+Jeong...</td>\n",
       "      <td>annenberg school for communication university ...</td>\n",
       "      <td>Michelle Jeong</td>\n",
       "      <td>Annenberg School for Communication, University...</td>\n",
       "      <td>University of Pennsylvania</td>\n",
       "      <td>Exact</td>\n",
       "      <td>NaN</td>\n",
       "      <td>NaN</td>\n",
       "      <td>NaN</td>\n",
       "      <td>https://ror.org/00b30xv10</td>\n",
       "    </tr>\n",
       "    <tr>\n",
       "      <th>3</th>\n",
       "      <td>10667</td>\n",
       "      <td>10.1093/ccc/tcac007+1.0</td>\n",
       "      <td>10.1093/ccc/tcac007</td>\n",
       "      <td>https://academic.oup.com/ccc/article/15/2/157/...</td>\n",
       "      <td>2022</td>\n",
       "      <td>Digitalization, Digitization and Datafication:...</td>\n",
       "      <td>Communication, Culture and Critique</td>\n",
       "      <td>1</td>\n",
       "      <td>1</td>\n",
       "      <td>Saskia</td>\n",
       "      <td>...</td>\n",
       "      <td>https://www.google.com/search?q=Saskia+Wittebo...</td>\n",
       "      <td>the chinese university of hong kong school of ...</td>\n",
       "      <td>Saskia Witteborn</td>\n",
       "      <td>The Chinese University of Hong Kong, School of...</td>\n",
       "      <td>Chinese University of Hong Kong</td>\n",
       "      <td>Exact</td>\n",
       "      <td>NaN</td>\n",
       "      <td>NaN</td>\n",
       "      <td>NaN</td>\n",
       "      <td>https://ror.org/00t33hh48</td>\n",
       "    </tr>\n",
       "    <tr>\n",
       "      <th>4</th>\n",
       "      <td>14</td>\n",
       "      <td>10.1093/joc/jqac012+4.0</td>\n",
       "      <td>10.1093/joc/jqac012</td>\n",
       "      <td>https://academic.oup.com/joc/article/72/3/429/...</td>\n",
       "      <td>2022</td>\n",
       "      <td>To Misspecify Is Common, to Probe Misspecifica...</td>\n",
       "      <td>Journal of Communication</td>\n",
       "      <td>4</td>\n",
       "      <td>4</td>\n",
       "      <td>Bryant</td>\n",
       "      <td>...</td>\n",
       "      <td>https://www.google.com/search?q=Bryant+Paul+co...</td>\n",
       "      <td>communication science unit the media school in...</td>\n",
       "      <td>Bryant Paul</td>\n",
       "      <td>Communication Science Unit, The Media School, ...</td>\n",
       "      <td>Indiana University Bloomington</td>\n",
       "      <td>Exact</td>\n",
       "      <td>NaN</td>\n",
       "      <td>NaN</td>\n",
       "      <td>NaN</td>\n",
       "      <td>https://ror.org/02k40bc56</td>\n",
       "    </tr>\n",
       "  </tbody>\n",
       "</table>\n",
       "<p>5 rows × 23 columns</p>\n",
       "</div>"
      ],
      "text/plain": [
       "   Unnamed: 0                  authorID                   doi  \\\n",
       "0        8674  10.1093/jcmc/zmab019+4.0  10.1093/jcmc/zmab019   \n",
       "1        8675  10.1093/jcmc/zmab019+5.0  10.1093/jcmc/zmab019   \n",
       "2          26   10.1093/joc/jqab052+5.0   10.1093/joc/jqab052   \n",
       "3       10667   10.1093/ccc/tcac007+1.0   10.1093/ccc/tcac007   \n",
       "4          14   10.1093/joc/jqac012+4.0   10.1093/joc/jqac012   \n",
       "\n",
       "                                                 url  year  \\\n",
       "0  https://academic.oup.com/jcmc/article/27/1/zma...  2022   \n",
       "1  https://academic.oup.com/jcmc/article/27/1/zma...  2022   \n",
       "2  https://academic.oup.com/joc/article/72/2/187/...  2022   \n",
       "3  https://academic.oup.com/ccc/article/15/2/157/...  2022   \n",
       "4  https://academic.oup.com/joc/article/72/3/429/...  2022   \n",
       "\n",
       "                                               title  \\\n",
       "0  Beyond Anonymity: Network Affordances, Under D...   \n",
       "1  Beyond Anonymity: Network Affordances, Under D...   \n",
       "2  The Effects of Tobacco Coverage in the Public ...   \n",
       "3  Digitalization, Digitization and Datafication:...   \n",
       "4  To Misspecify Is Common, to Probe Misspecifica...   \n",
       "\n",
       "                                      journal  numberOfAuthors  \\\n",
       "0  Journal of Computer-Mediated Communication                5   \n",
       "1  Journal of Computer-Mediated Communication                5   \n",
       "2                    Journal of Communication               18   \n",
       "3         Communication, Culture and Critique                1   \n",
       "4                    Journal of Communication                4   \n",
       "\n",
       "   authorPosition firstName  ...  \\\n",
       "0               4      Jana  ...   \n",
       "1               5    Sophie  ...   \n",
       "2               5  Michelle  ...   \n",
       "3               1    Saskia  ...   \n",
       "4               4    Bryant  ...   \n",
       "\n",
       "                                        googleSearch  \\\n",
       "0  https://www.google.com/search?q=Jana+Egelhofer...   \n",
       "1  https://www.google.com/search?q=Sophie+Lechele...   \n",
       "2  https://www.google.com/search?q=Michelle+Jeong...   \n",
       "3  https://www.google.com/search?q=Saskia+Wittebo...   \n",
       "4  https://www.google.com/search?q=Bryant+Paul+co...   \n",
       "\n",
       "                                        affProcessed    authorFullName  \\\n",
       "0  department of communication university of vien...    Jana Egelhofer   \n",
       "1  department of communication university of vien...   Sophie Lecheler   \n",
       "2  annenberg school for communication university ...    Michelle Jeong   \n",
       "3  the chinese university of hong kong school of ...  Saskia Witteborn   \n",
       "4  communication science unit the media school in...       Bryant Paul   \n",
       "\n",
       "                                       affiliation.2  \\\n",
       "0  Department of Communication, University of Vie...   \n",
       "1  Department of Communication, University of Vie...   \n",
       "2  Annenberg School for Communication, University...   \n",
       "3  The Chinese University of Hong Kong, School of...   \n",
       "4  Communication Science Unit, The Media School, ...   \n",
       "\n",
       "                       ROR_AFFNAME matchMethod aff_prediction country_code  \\\n",
       "0             University of Vienna       Exact            NaN          NaN   \n",
       "1             University of Vienna       Exact            NaN          NaN   \n",
       "2       University of Pennsylvania       Exact            NaN          NaN   \n",
       "3  Chinese University of Hong Kong       Exact            NaN          NaN   \n",
       "4   Indiana University Bloomington       Exact            NaN          NaN   \n",
       "\n",
       "  aff_type                     ROR_ID  \n",
       "0      NaN  https://ror.org/03prydq77  \n",
       "1      NaN  https://ror.org/03prydq77  \n",
       "2      NaN  https://ror.org/00b30xv10  \n",
       "3      NaN  https://ror.org/00t33hh48  \n",
       "4      NaN  https://ror.org/02k40bc56  \n",
       "\n",
       "[5 rows x 23 columns]"
      ]
     },
     "execution_count": 10,
     "metadata": {},
     "output_type": "execute_result"
    }
   ],
   "source": [
    "df1 = pd.read_csv('../../data/interim/aff_result/hongtao.csv')\n",
    "df1.head()"
   ]
  },
  {
   "cell_type": "code",
   "execution_count": 11,
   "id": "0aeb8c21",
   "metadata": {},
   "outputs": [],
   "source": [
    "df1 = df1[['authorID', 'country_code', 'aff_type', 'ROR_ID']]\n",
    "# set(df1.aff_type), set(df1.country_code)"
   ]
  },
  {
   "cell_type": "code",
   "execution_count": 12,
   "id": "0127d9e2",
   "metadata": {},
   "outputs": [
    {
     "data": {
      "text/html": [
       "<div>\n",
       "<style scoped>\n",
       "    .dataframe tbody tr th:only-of-type {\n",
       "        vertical-align: middle;\n",
       "    }\n",
       "\n",
       "    .dataframe tbody tr th {\n",
       "        vertical-align: top;\n",
       "    }\n",
       "\n",
       "    .dataframe thead th {\n",
       "        text-align: right;\n",
       "    }\n",
       "</style>\n",
       "<table border=\"1\" class=\"dataframe\">\n",
       "  <thead>\n",
       "    <tr style=\"text-align: right;\">\n",
       "      <th></th>\n",
       "      <th>authorID</th>\n",
       "      <th>country_code</th>\n",
       "      <th>aff_type</th>\n",
       "      <th>ROR_ID</th>\n",
       "    </tr>\n",
       "  </thead>\n",
       "  <tbody>\n",
       "    <tr>\n",
       "      <th>4121</th>\n",
       "      <td>10.1093/jcmc/zmz031+1.0</td>\n",
       "      <td>CH</td>\n",
       "      <td>1.0</td>\n",
       "      <td>NaN</td>\n",
       "    </tr>\n",
       "    <tr>\n",
       "      <th>4127</th>\n",
       "      <td>10.1093/jcmc/zmz031+3.0</td>\n",
       "      <td>CH</td>\n",
       "      <td>1.0</td>\n",
       "      <td>NaN</td>\n",
       "    </tr>\n",
       "    <tr>\n",
       "      <th>4162</th>\n",
       "      <td>10.1093/ccc/tcz025+4.0</td>\n",
       "      <td>CR</td>\n",
       "      <td>1.0</td>\n",
       "      <td>NaN</td>\n",
       "    </tr>\n",
       "    <tr>\n",
       "      <th>4167</th>\n",
       "      <td>10.1093/ccc/tcz025+2.0</td>\n",
       "      <td>CR</td>\n",
       "      <td>1.0</td>\n",
       "      <td>NaN</td>\n",
       "    </tr>\n",
       "    <tr>\n",
       "      <th>4180</th>\n",
       "      <td>10.1093/joc/jqy030+2.0</td>\n",
       "      <td>CH</td>\n",
       "      <td>1.0</td>\n",
       "      <td>NaN</td>\n",
       "    </tr>\n",
       "    <tr>\n",
       "      <th>4195</th>\n",
       "      <td>10.1093/joc/jqy030+3.0</td>\n",
       "      <td>CH</td>\n",
       "      <td>1.0</td>\n",
       "      <td>NaN</td>\n",
       "    </tr>\n",
       "    <tr>\n",
       "      <th>4460</th>\n",
       "      <td>10.1111/j.1753-9137.2012.01124.x+3.0</td>\n",
       "      <td>CH</td>\n",
       "      <td>1.0</td>\n",
       "      <td>NaN</td>\n",
       "    </tr>\n",
       "    <tr>\n",
       "      <th>4846</th>\n",
       "      <td>10.1111/j.1083-6101.2003.tb00220.x+2.0</td>\n",
       "      <td>US</td>\n",
       "      <td>1.0</td>\n",
       "      <td>NaN</td>\n",
       "    </tr>\n",
       "    <tr>\n",
       "      <th>4881</th>\n",
       "      <td>10.1111/j.1083-6101.2002.tb00157.x+1.0</td>\n",
       "      <td>US</td>\n",
       "      <td>1.0</td>\n",
       "      <td>NaN</td>\n",
       "    </tr>\n",
       "    <tr>\n",
       "      <th>5110</th>\n",
       "      <td>10.1111/j.1468-2885.1993.tb00078.x+2.0</td>\n",
       "      <td>US</td>\n",
       "      <td>1.0</td>\n",
       "      <td>NaN</td>\n",
       "    </tr>\n",
       "    <tr>\n",
       "      <th>5128</th>\n",
       "      <td>10.1111/j.1468-2885.1993.tb00078.x+4.0</td>\n",
       "      <td>US</td>\n",
       "      <td>1.0</td>\n",
       "      <td>NaN</td>\n",
       "    </tr>\n",
       "    <tr>\n",
       "      <th>5130</th>\n",
       "      <td>10.1111/j.1468-2885.1992.tb00029.x+1.0</td>\n",
       "      <td>US</td>\n",
       "      <td>1.0</td>\n",
       "      <td>NaN</td>\n",
       "    </tr>\n",
       "    <tr>\n",
       "      <th>5245</th>\n",
       "      <td>10.1111/j.1468-2958.1986.tb00084.x+1.0</td>\n",
       "      <td>US</td>\n",
       "      <td>1.0</td>\n",
       "      <td>NaN</td>\n",
       "    </tr>\n",
       "    <tr>\n",
       "      <th>5651</th>\n",
       "      <td>10.1111/j.1468-2958.2001.tb00779.x+1.0</td>\n",
       "      <td>US</td>\n",
       "      <td>1.0</td>\n",
       "      <td>NaN</td>\n",
       "    </tr>\n",
       "  </tbody>\n",
       "</table>\n",
       "</div>"
      ],
      "text/plain": [
       "                                    authorID country_code  aff_type ROR_ID\n",
       "4121                 10.1093/jcmc/zmz031+1.0           CH       1.0    NaN\n",
       "4127                 10.1093/jcmc/zmz031+3.0           CH       1.0    NaN\n",
       "4162                  10.1093/ccc/tcz025+4.0           CR       1.0    NaN\n",
       "4167                  10.1093/ccc/tcz025+2.0           CR       1.0    NaN\n",
       "4180                  10.1093/joc/jqy030+2.0           CH       1.0    NaN\n",
       "4195                  10.1093/joc/jqy030+3.0           CH       1.0    NaN\n",
       "4460    10.1111/j.1753-9137.2012.01124.x+3.0           CH       1.0    NaN\n",
       "4846  10.1111/j.1083-6101.2003.tb00220.x+2.0           US       1.0    NaN\n",
       "4881  10.1111/j.1083-6101.2002.tb00157.x+1.0           US       1.0    NaN\n",
       "5110  10.1111/j.1468-2885.1993.tb00078.x+2.0           US       1.0    NaN\n",
       "5128  10.1111/j.1468-2885.1993.tb00078.x+4.0           US       1.0    NaN\n",
       "5130  10.1111/j.1468-2885.1992.tb00029.x+1.0           US       1.0    NaN\n",
       "5245  10.1111/j.1468-2958.1986.tb00084.x+1.0           US       1.0    NaN\n",
       "5651  10.1111/j.1468-2958.2001.tb00779.x+1.0           US       1.0    NaN"
      ]
     },
     "execution_count": 12,
     "metadata": {},
     "output_type": "execute_result"
    }
   ],
   "source": [
    "df1[df1.ROR_ID.isnull()]"
   ]
  },
  {
   "cell_type": "code",
   "execution_count": 13,
   "id": "1a8f7d53",
   "metadata": {},
   "outputs": [],
   "source": [
    "# pd.isnull(df1.iloc[0, :]['country_code'])"
   ]
  },
  {
   "cell_type": "code",
   "execution_count": 14,
   "id": "725f4d7c",
   "metadata": {},
   "outputs": [
    {
     "data": {
      "text/html": [
       "<div>\n",
       "<style scoped>\n",
       "    .dataframe tbody tr th:only-of-type {\n",
       "        vertical-align: middle;\n",
       "    }\n",
       "\n",
       "    .dataframe tbody tr th {\n",
       "        vertical-align: top;\n",
       "    }\n",
       "\n",
       "    .dataframe thead th {\n",
       "        text-align: right;\n",
       "    }\n",
       "</style>\n",
       "<table border=\"1\" class=\"dataframe\">\n",
       "  <thead>\n",
       "    <tr style=\"text-align: right;\">\n",
       "      <th></th>\n",
       "      <th>authorID</th>\n",
       "      <th>country_code</th>\n",
       "      <th>aff_type</th>\n",
       "      <th>ROR_ID</th>\n",
       "    </tr>\n",
       "  </thead>\n",
       "  <tbody>\n",
       "  </tbody>\n",
       "</table>\n",
       "</div>"
      ],
      "text/plain": [
       "Empty DataFrame\n",
       "Columns: [authorID, country_code, aff_type, ROR_ID]\n",
       "Index: []"
      ]
     },
     "execution_count": 14,
     "metadata": {},
     "output_type": "execute_result"
    }
   ],
   "source": [
    "df1[df1.country_code == 'CZ']"
   ]
  },
  {
   "cell_type": "code",
   "execution_count": 31,
   "id": "c1d44f56",
   "metadata": {},
   "outputs": [
    {
     "data": {
      "text/html": [
       "<div>\n",
       "<style scoped>\n",
       "    .dataframe tbody tr th:only-of-type {\n",
       "        vertical-align: middle;\n",
       "    }\n",
       "\n",
       "    .dataframe tbody tr th {\n",
       "        vertical-align: top;\n",
       "    }\n",
       "\n",
       "    .dataframe thead th {\n",
       "        text-align: right;\n",
       "    }\n",
       "</style>\n",
       "<table border=\"1\" class=\"dataframe\">\n",
       "  <thead>\n",
       "    <tr style=\"text-align: right;\">\n",
       "      <th></th>\n",
       "      <th>authorID</th>\n",
       "      <th>country_code</th>\n",
       "      <th>aff_type</th>\n",
       "      <th>ROR_ID</th>\n",
       "      <th>new_country_code</th>\n",
       "      <th>new_afftype</th>\n",
       "    </tr>\n",
       "  </thead>\n",
       "  <tbody>\n",
       "    <tr>\n",
       "      <th>2664</th>\n",
       "      <td>10.1111/j.1083-6101.1997.tb00202.x+1.0</td>\n",
       "      <td>GE</td>\n",
       "      <td>1.0</td>\n",
       "      <td>https://ror.org/05x2bcf33</td>\n",
       "      <td>GE</td>\n",
       "      <td>Education</td>\n",
       "    </tr>\n",
       "    <tr>\n",
       "      <th>2714</th>\n",
       "      <td>10.1111/j.1468-2958.1996.tb00372.x+1.0</td>\n",
       "      <td>GE</td>\n",
       "      <td>1.0</td>\n",
       "      <td>https://ror.org/033eqas34</td>\n",
       "      <td>GE</td>\n",
       "      <td>Education</td>\n",
       "    </tr>\n",
       "  </tbody>\n",
       "</table>\n",
       "</div>"
      ],
      "text/plain": [
       "                                    authorID country_code  aff_type  \\\n",
       "2664  10.1111/j.1083-6101.1997.tb00202.x+1.0           GE       1.0   \n",
       "2714  10.1111/j.1468-2958.1996.tb00372.x+1.0           GE       1.0   \n",
       "\n",
       "                         ROR_ID new_country_code new_afftype  \n",
       "2664  https://ror.org/05x2bcf33               GE   Education  \n",
       "2714  https://ror.org/033eqas34               GE   Education  "
      ]
     },
     "execution_count": 31,
     "metadata": {},
     "output_type": "execute_result"
    }
   ],
   "source": [
    "df1[df1.country_code == 'GE']"
   ]
  },
  {
   "cell_type": "code",
   "execution_count": 15,
   "id": "1a9b90e5",
   "metadata": {},
   "outputs": [],
   "source": [
    "df2 = pd.read_csv('../../data/interim/aff_result/kristen.csv')\n",
    "df2 = df2[['authorID', 'country_code', 'aff_type', 'ROR_ID']]\n",
    "# set(df2.aff_type), set(df2.country_code)"
   ]
  },
  {
   "cell_type": "code",
   "execution_count": 16,
   "id": "16deed49",
   "metadata": {},
   "outputs": [
    {
     "data": {
      "text/html": [
       "<div>\n",
       "<style scoped>\n",
       "    .dataframe tbody tr th:only-of-type {\n",
       "        vertical-align: middle;\n",
       "    }\n",
       "\n",
       "    .dataframe tbody tr th {\n",
       "        vertical-align: top;\n",
       "    }\n",
       "\n",
       "    .dataframe thead th {\n",
       "        text-align: right;\n",
       "    }\n",
       "</style>\n",
       "<table border=\"1\" class=\"dataframe\">\n",
       "  <thead>\n",
       "    <tr style=\"text-align: right;\">\n",
       "      <th></th>\n",
       "      <th>authorID</th>\n",
       "      <th>country_code</th>\n",
       "      <th>aff_type</th>\n",
       "      <th>ROR_ID</th>\n",
       "    </tr>\n",
       "  </thead>\n",
       "  <tbody>\n",
       "    <tr>\n",
       "      <th>4722</th>\n",
       "      <td>10.1111/j.1460-2466.2007.00360.x+3.0</td>\n",
       "      <td>CZ</td>\n",
       "      <td>0.0</td>\n",
       "      <td>https://ror.org/0542dkz21</td>\n",
       "    </tr>\n",
       "    <tr>\n",
       "      <th>4731</th>\n",
       "      <td>10.1111/j.1468-2958.2007.00308.x+3.0</td>\n",
       "      <td>CZ</td>\n",
       "      <td>0.0</td>\n",
       "      <td>https://ror.org/0542dkz21</td>\n",
       "    </tr>\n",
       "  </tbody>\n",
       "</table>\n",
       "</div>"
      ],
      "text/plain": [
       "                                  authorID country_code  aff_type  \\\n",
       "4722  10.1111/j.1460-2466.2007.00360.x+3.0           CZ       0.0   \n",
       "4731  10.1111/j.1468-2958.2007.00308.x+3.0           CZ       0.0   \n",
       "\n",
       "                         ROR_ID  \n",
       "4722  https://ror.org/0542dkz21  \n",
       "4731  https://ror.org/0542dkz21  "
      ]
     },
     "execution_count": 16,
     "metadata": {},
     "output_type": "execute_result"
    }
   ],
   "source": [
    "df2[df2.country_code == 'CZ']\n",
    "# these two are correct, after checking. "
   ]
  },
  {
   "cell_type": "code",
   "execution_count": 30,
   "id": "5bf03bc1",
   "metadata": {},
   "outputs": [
    {
     "data": {
      "text/html": [
       "<div>\n",
       "<style scoped>\n",
       "    .dataframe tbody tr th:only-of-type {\n",
       "        vertical-align: middle;\n",
       "    }\n",
       "\n",
       "    .dataframe tbody tr th {\n",
       "        vertical-align: top;\n",
       "    }\n",
       "\n",
       "    .dataframe thead th {\n",
       "        text-align: right;\n",
       "    }\n",
       "</style>\n",
       "<table border=\"1\" class=\"dataframe\">\n",
       "  <thead>\n",
       "    <tr style=\"text-align: right;\">\n",
       "      <th></th>\n",
       "      <th>authorID</th>\n",
       "      <th>country_code</th>\n",
       "      <th>aff_type</th>\n",
       "      <th>ROR_ID</th>\n",
       "      <th>new_country_code</th>\n",
       "      <th>new_afftype</th>\n",
       "    </tr>\n",
       "  </thead>\n",
       "  <tbody>\n",
       "  </tbody>\n",
       "</table>\n",
       "</div>"
      ],
      "text/plain": [
       "Empty DataFrame\n",
       "Columns: [authorID, country_code, aff_type, ROR_ID, new_country_code, new_afftype]\n",
       "Index: []"
      ]
     },
     "execution_count": 30,
     "metadata": {},
     "output_type": "execute_result"
    }
   ],
   "source": [
    "df2[df2.country_code == 'GE']"
   ]
  },
  {
   "cell_type": "code",
   "execution_count": 17,
   "id": "bf6188ea",
   "metadata": {},
   "outputs": [
    {
     "data": {
      "text/plain": [
       "True"
      ]
     },
     "execution_count": 17,
     "metadata": {},
     "output_type": "execute_result"
    }
   ],
   "source": [
    "pd.isnull(df2.iloc[0, :]['country_code'])"
   ]
  },
  {
   "cell_type": "code",
   "execution_count": 18,
   "id": "2cb47de5",
   "metadata": {},
   "outputs": [
    {
     "data": {
      "text/html": [
       "<div>\n",
       "<style scoped>\n",
       "    .dataframe tbody tr th:only-of-type {\n",
       "        vertical-align: middle;\n",
       "    }\n",
       "\n",
       "    .dataframe tbody tr th {\n",
       "        vertical-align: top;\n",
       "    }\n",
       "\n",
       "    .dataframe thead th {\n",
       "        text-align: right;\n",
       "    }\n",
       "</style>\n",
       "<table border=\"1\" class=\"dataframe\">\n",
       "  <thead>\n",
       "    <tr style=\"text-align: right;\">\n",
       "      <th></th>\n",
       "      <th>authorID</th>\n",
       "      <th>country_code</th>\n",
       "      <th>aff_type</th>\n",
       "      <th>ROR_ID</th>\n",
       "    </tr>\n",
       "  </thead>\n",
       "  <tbody>\n",
       "    <tr>\n",
       "      <th>4066</th>\n",
       "      <td>10.1093/jcmc/zmz031+2.0</td>\n",
       "      <td>CH</td>\n",
       "      <td>1.0</td>\n",
       "      <td>NaN</td>\n",
       "    </tr>\n",
       "    <tr>\n",
       "      <th>4108</th>\n",
       "      <td>10.1093/ccc/tcz025+1.0</td>\n",
       "      <td>CR</td>\n",
       "      <td>1.0</td>\n",
       "      <td>NaN</td>\n",
       "    </tr>\n",
       "    <tr>\n",
       "      <th>4142</th>\n",
       "      <td>10.1093/ccc/tcz025+3.0</td>\n",
       "      <td>CR</td>\n",
       "      <td>1.0</td>\n",
       "      <td>NaN</td>\n",
       "    </tr>\n",
       "    <tr>\n",
       "      <th>4192</th>\n",
       "      <td>10.1093/joc/jqy030+1.0</td>\n",
       "      <td>CH</td>\n",
       "      <td>1.0</td>\n",
       "      <td>NaN</td>\n",
       "    </tr>\n",
       "    <tr>\n",
       "      <th>4247</th>\n",
       "      <td>10.1111/hcre.12125+1.0</td>\n",
       "      <td>US</td>\n",
       "      <td>1.0</td>\n",
       "      <td>NaN</td>\n",
       "    </tr>\n",
       "    <tr>\n",
       "      <th>4468</th>\n",
       "      <td>10.1111/j.1753-9137.2012.01124.x+2.0</td>\n",
       "      <td>CH</td>\n",
       "      <td>1.0</td>\n",
       "      <td>NaN</td>\n",
       "    </tr>\n",
       "    <tr>\n",
       "      <th>4808</th>\n",
       "      <td>10.1111/j.1468-2958.2005.tb00874.x+3.0</td>\n",
       "      <td>US</td>\n",
       "      <td>0.0</td>\n",
       "      <td>NaN</td>\n",
       "    </tr>\n",
       "    <tr>\n",
       "      <th>4993</th>\n",
       "      <td>10.1111/j.1083-6101.2000.tb00347.x+2.0</td>\n",
       "      <td>CH</td>\n",
       "      <td>0.0</td>\n",
       "      <td>NaN</td>\n",
       "    </tr>\n",
       "    <tr>\n",
       "      <th>4999</th>\n",
       "      <td>10.1111/j.1083-6101.2000.tb00113.x+6.0</td>\n",
       "      <td>UK</td>\n",
       "      <td>0.0</td>\n",
       "      <td>NaN</td>\n",
       "    </tr>\n",
       "    <tr>\n",
       "      <th>5140</th>\n",
       "      <td>10.1111/j.1468-2885.1993.tb00078.x+3.0</td>\n",
       "      <td>US</td>\n",
       "      <td>1.0</td>\n",
       "      <td>NaN</td>\n",
       "    </tr>\n",
       "    <tr>\n",
       "      <th>5144</th>\n",
       "      <td>10.1111/j.1468-2885.1993.tb00078.x+1.0</td>\n",
       "      <td>US</td>\n",
       "      <td>1.0</td>\n",
       "      <td>NaN</td>\n",
       "    </tr>\n",
       "    <tr>\n",
       "      <th>5157</th>\n",
       "      <td>10.1111/j.1468-2885.1993.tb00078.x+5.0</td>\n",
       "      <td>US</td>\n",
       "      <td>1.0</td>\n",
       "      <td>NaN</td>\n",
       "    </tr>\n",
       "    <tr>\n",
       "      <th>5480</th>\n",
       "      <td>10.1111/j.1460-2466.1977.tb01798.x+1.0</td>\n",
       "      <td>SE</td>\n",
       "      <td>1.0</td>\n",
       "      <td>NaN</td>\n",
       "    </tr>\n",
       "    <tr>\n",
       "      <th>5489</th>\n",
       "      <td>10.1111/j.1460-2466.1976.tb01385.x+1.0</td>\n",
       "      <td>US</td>\n",
       "      <td>1.0</td>\n",
       "      <td>NaN</td>\n",
       "    </tr>\n",
       "    <tr>\n",
       "      <th>5651</th>\n",
       "      <td>10.1111/j.1468-2958.2001.tb00781.x+5.0</td>\n",
       "      <td>US</td>\n",
       "      <td>1.0</td>\n",
       "      <td>NaN</td>\n",
       "    </tr>\n",
       "  </tbody>\n",
       "</table>\n",
       "</div>"
      ],
      "text/plain": [
       "                                    authorID country_code  aff_type ROR_ID\n",
       "4066                 10.1093/jcmc/zmz031+2.0           CH       1.0    NaN\n",
       "4108                  10.1093/ccc/tcz025+1.0           CR       1.0    NaN\n",
       "4142                  10.1093/ccc/tcz025+3.0           CR       1.0    NaN\n",
       "4192                  10.1093/joc/jqy030+1.0           CH       1.0    NaN\n",
       "4247                  10.1111/hcre.12125+1.0           US       1.0    NaN\n",
       "4468    10.1111/j.1753-9137.2012.01124.x+2.0           CH       1.0    NaN\n",
       "4808  10.1111/j.1468-2958.2005.tb00874.x+3.0           US       0.0    NaN\n",
       "4993  10.1111/j.1083-6101.2000.tb00347.x+2.0           CH       0.0    NaN\n",
       "4999  10.1111/j.1083-6101.2000.tb00113.x+6.0           UK       0.0    NaN\n",
       "5140  10.1111/j.1468-2885.1993.tb00078.x+3.0           US       1.0    NaN\n",
       "5144  10.1111/j.1468-2885.1993.tb00078.x+1.0           US       1.0    NaN\n",
       "5157  10.1111/j.1468-2885.1993.tb00078.x+5.0           US       1.0    NaN\n",
       "5480  10.1111/j.1460-2466.1977.tb01798.x+1.0           SE       1.0    NaN\n",
       "5489  10.1111/j.1460-2466.1976.tb01385.x+1.0           US       1.0    NaN\n",
       "5651  10.1111/j.1468-2958.2001.tb00781.x+5.0           US       1.0    NaN"
      ]
     },
     "execution_count": 18,
     "metadata": {},
     "output_type": "execute_result"
    }
   ],
   "source": [
    "df2[df2.ROR_ID.isnull()]"
   ]
  },
  {
   "cell_type": "code",
   "execution_count": 19,
   "id": "3239eaff",
   "metadata": {},
   "outputs": [],
   "source": [
    "'''this is to build two dictionaries based on ror raw data\n",
    "'''\n",
    "ror_cntry_dic = {}\n",
    "ror_afftype_dic = {}\n",
    "for i in ror:\n",
    "    ror_id = i['id']\n",
    "    cntry = i['country']['country_code']\n",
    "    try:\n",
    "        afftype = i['types'][0]\n",
    "        if afftype == 'Education':\n",
    "            afftype = afftype\n",
    "        else:\n",
    "            afftype = 'Non Education'\n",
    "    except:\n",
    "        afftype = None\n",
    "    ror_cntry_dic[ror_id] = cntry\n",
    "    ror_afftype_dic[ror_id] = afftype"
   ]
  },
  {
   "cell_type": "code",
   "execution_count": 20,
   "id": "f8d6d62a",
   "metadata": {},
   "outputs": [],
   "source": [
    "def get_new_cntry_code(row):\n",
    "    if pd.isnull(row['country_code']):\n",
    "        new_country_code = ror_cntry_dic[row['ROR_ID']]\n",
    "    else:\n",
    "        new_country_code = row['country_code']\n",
    "    return new_country_code"
   ]
  },
  {
   "cell_type": "code",
   "execution_count": 21,
   "id": "e4800292",
   "metadata": {},
   "outputs": [
    {
     "data": {
      "text/plain": [
       "{0.0, 1.0}"
      ]
     },
     "execution_count": 21,
     "metadata": {},
     "output_type": "execute_result"
    }
   ],
   "source": [
    "set(df1[df1.aff_type.notnull()].aff_type)"
   ]
  },
  {
   "cell_type": "code",
   "execution_count": 22,
   "id": "ac1fb501",
   "metadata": {},
   "outputs": [
    {
     "data": {
      "text/plain": [
       "{0.0, 1.0}"
      ]
     },
     "execution_count": 22,
     "metadata": {},
     "output_type": "execute_result"
    }
   ],
   "source": [
    "set(df2[df2.aff_type.notnull()].aff_type)"
   ]
  },
  {
   "cell_type": "code",
   "execution_count": 23,
   "id": "81ce796d",
   "metadata": {},
   "outputs": [],
   "source": [
    "def get_new_afftype(row):\n",
    "    if pd.isnull(row['aff_type']):\n",
    "        new_afftype = ror_afftype_dic[row['ROR_ID']]\n",
    "    elif row['aff_type'] == 1:\n",
    "        new_afftype = 'Education'\n",
    "    elif row['aff_type'] == 0:\n",
    "        new_afftype = 'Non Education'\n",
    "    return new_afftype"
   ]
  },
  {
   "cell_type": "code",
   "execution_count": 24,
   "id": "2ceb93e1",
   "metadata": {},
   "outputs": [],
   "source": [
    "df1['new_country_code'] = df1.apply(get_new_cntry_code, axis = 1)\n",
    "df1['new_afftype'] = df1.apply(get_new_afftype, axis = 1)\n",
    "df2['new_country_code'] = df2.apply(get_new_cntry_code, axis = 1)\n",
    "df2['new_afftype'] = df2.apply(get_new_afftype, axis = 1)"
   ]
  },
  {
   "cell_type": "code",
   "execution_count": 25,
   "id": "918506c1",
   "metadata": {},
   "outputs": [
    {
     "data": {
      "text/html": [
       "<div>\n",
       "<style scoped>\n",
       "    .dataframe tbody tr th:only-of-type {\n",
       "        vertical-align: middle;\n",
       "    }\n",
       "\n",
       "    .dataframe tbody tr th {\n",
       "        vertical-align: top;\n",
       "    }\n",
       "\n",
       "    .dataframe thead th {\n",
       "        text-align: right;\n",
       "    }\n",
       "</style>\n",
       "<table border=\"1\" class=\"dataframe\">\n",
       "  <thead>\n",
       "    <tr style=\"text-align: right;\">\n",
       "      <th></th>\n",
       "      <th>authorID</th>\n",
       "      <th>country_code</th>\n",
       "      <th>aff_type</th>\n",
       "      <th>ROR_ID</th>\n",
       "      <th>new_country_code</th>\n",
       "      <th>new_afftype</th>\n",
       "    </tr>\n",
       "  </thead>\n",
       "  <tbody>\n",
       "    <tr>\n",
       "      <th>0</th>\n",
       "      <td>10.1093/jcmc/zmab019+4.0</td>\n",
       "      <td>NaN</td>\n",
       "      <td>NaN</td>\n",
       "      <td>https://ror.org/03prydq77</td>\n",
       "      <td>AT</td>\n",
       "      <td>Education</td>\n",
       "    </tr>\n",
       "    <tr>\n",
       "      <th>1</th>\n",
       "      <td>10.1093/jcmc/zmab019+5.0</td>\n",
       "      <td>NaN</td>\n",
       "      <td>NaN</td>\n",
       "      <td>https://ror.org/03prydq77</td>\n",
       "      <td>AT</td>\n",
       "      <td>Education</td>\n",
       "    </tr>\n",
       "    <tr>\n",
       "      <th>2</th>\n",
       "      <td>10.1093/joc/jqab052+5.0</td>\n",
       "      <td>NaN</td>\n",
       "      <td>NaN</td>\n",
       "      <td>https://ror.org/00b30xv10</td>\n",
       "      <td>US</td>\n",
       "      <td>Education</td>\n",
       "    </tr>\n",
       "    <tr>\n",
       "      <th>3</th>\n",
       "      <td>10.1093/ccc/tcac007+1.0</td>\n",
       "      <td>NaN</td>\n",
       "      <td>NaN</td>\n",
       "      <td>https://ror.org/00t33hh48</td>\n",
       "      <td>CN</td>\n",
       "      <td>Education</td>\n",
       "    </tr>\n",
       "    <tr>\n",
       "      <th>4</th>\n",
       "      <td>10.1093/joc/jqac012+4.0</td>\n",
       "      <td>NaN</td>\n",
       "      <td>NaN</td>\n",
       "      <td>https://ror.org/02k40bc56</td>\n",
       "      <td>US</td>\n",
       "      <td>Education</td>\n",
       "    </tr>\n",
       "  </tbody>\n",
       "</table>\n",
       "</div>"
      ],
      "text/plain": [
       "                   authorID country_code  aff_type                     ROR_ID  \\\n",
       "0  10.1093/jcmc/zmab019+4.0          NaN       NaN  https://ror.org/03prydq77   \n",
       "1  10.1093/jcmc/zmab019+5.0          NaN       NaN  https://ror.org/03prydq77   \n",
       "2   10.1093/joc/jqab052+5.0          NaN       NaN  https://ror.org/00b30xv10   \n",
       "3   10.1093/ccc/tcac007+1.0          NaN       NaN  https://ror.org/00t33hh48   \n",
       "4   10.1093/joc/jqac012+4.0          NaN       NaN  https://ror.org/02k40bc56   \n",
       "\n",
       "  new_country_code new_afftype  \n",
       "0               AT   Education  \n",
       "1               AT   Education  \n",
       "2               US   Education  \n",
       "3               CN   Education  \n",
       "4               US   Education  "
      ]
     },
     "execution_count": 25,
     "metadata": {},
     "output_type": "execute_result"
    }
   ],
   "source": [
    "df = pd.concat([df1, df2], ignore_index = True)\n",
    "df.head()"
   ]
  },
  {
   "cell_type": "code",
   "execution_count": 26,
   "id": "2af694ee",
   "metadata": {},
   "outputs": [
    {
     "data": {
      "text/plain": [
       "<AxesSubplot:xlabel='new_country_code', ylabel='count'>"
      ]
     },
     "execution_count": 26,
     "metadata": {},
     "output_type": "execute_result"
    },
    {
     "data": {
      "image/png": "[encoded data removed]",
      "text/plain": [
       "<Figure size 864x432 with 1 Axes>"
      ]
     },
     "metadata": {
      "needs_background": "light"
     },
     "output_type": "display_data"
    }
   ],
   "source": [
    "f, ax = plt.subplots(figsize=(12,6))\n",
    "ax.set(yscale = 'log')\n",
    "sns.countplot(x = 'new_country_code', data = df, ax = ax)"
   ]
  },
  {
   "cell_type": "code",
   "execution_count": 27,
   "id": "12c076a8",
   "metadata": {},
   "outputs": [
    {
     "data": {
      "text/plain": [
       "<AxesSubplot:xlabel='new_afftype', ylabel='count'>"
      ]
     },
     "execution_count": 27,
     "metadata": {},
     "output_type": "execute_result"
    },
    {
     "data": {
      "image/png": "[encoded data removed]",
      "text/plain": [
       "<Figure size 504x504 with 1 Axes>"
      ]
     },
     "metadata": {
      "needs_background": "light"
     },
     "output_type": "display_data"
    }
   ],
   "source": [
    "f, ax = plt.subplots(figsize=(7, 7))\n",
    "# ax.set(yscale='log')\n",
    "sns.countplot(x = 'new_afftype', data = df, ax = ax)"
   ]
  },
  {
   "cell_type": "code",
   "execution_count": 28,
   "id": "90f92818",
   "metadata": {},
   "outputs": [
    {
     "data": {
      "text/plain": [
       "(11304, 6)"
      ]
     },
     "execution_count": 28,
     "metadata": {},
     "output_type": "execute_result"
    }
   ],
   "source": [
    "df.shape"
   ]
  },
  {
   "cell_type": "code",
   "execution_count": 29,
   "id": "e5714980",
   "metadata": {},
   "outputs": [],
   "source": [
    "df.to_csv('aff_df.csv', index = False)"
   ]
  }
 ],
 "metadata": {
  "kernelspec": {
   "display_name": "Python 3 (ipykernel)",
   "language": "python",
   "name": "python3"
  },
  "language_info": {
   "codemirror_mode": {
    "name": "ipython",
    "version": 3
   },
   "file_extension": ".py",
   "mimetype": "text/x-python",
   "name": "python",
   "nbconvert_exporter": "python",
   "pygments_lexer": "ipython3",
   "version": "3.8.13"
  }
 },
 "nbformat": 4,
 "nbformat_minor": 5
}
