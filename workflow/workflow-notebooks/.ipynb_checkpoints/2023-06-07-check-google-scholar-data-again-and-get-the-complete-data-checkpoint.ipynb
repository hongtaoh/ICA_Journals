{
 "cells": [
  {
   "cell_type": "markdown",
   "id": "2cd9a011",
   "metadata": {},
   "source": [
    "## AIM\n",
    "\n",
    "In this notebook, I checked the accuracy of the Google Scholar dataset. I found that most of them are pretty accurate. Only 124 of them are not accurate. "
   ]
  },
  {
   "cell_type": "code",
   "execution_count": 1,
   "id": "080bbe8b",
   "metadata": {},
   "outputs": [],
   "source": [
    "import pandas as pd\n",
    "import numpy as np\n",
    "import re\n",
    "from difflib import SequenceMatcher\n",
    "import time\n",
    "from bs4 import BeautifulSoup\n",
    "from selenium import webdriver\n",
    "from selenium.webdriver.common.by import By\n",
    "from selenium.webdriver.support.ui import WebDriverWait\n",
    "from selenium.webdriver.support import expected_conditions as EC \n",
    "from selenium.common.exceptions import TimeoutException\n",
    "from selenium.webdriver.common.keys import Keys\n",
    "from selenium.webdriver.firefox.options import Options\n",
    "from selenium.common.exceptions import NoSuchElementException \n",
    "from selenium.common.exceptions import ElementNotInteractableException\n",
    "import os\n",
    "import random\n",
    "import re\n",
    "import csv\n",
    "import urllib.parse"
   ]
  },
  {
   "cell_type": "code",
   "execution_count": 2,
   "id": "c7aa8558",
   "metadata": {},
   "outputs": [
    {
     "data": {
      "text/html": [
       "<div>\n",
       "<style scoped>\n",
       "    .dataframe tbody tr th:only-of-type {\n",
       "        vertical-align: middle;\n",
       "    }\n",
       "\n",
       "    .dataframe tbody tr th {\n",
       "        vertical-align: top;\n",
       "    }\n",
       "\n",
       "    .dataframe thead th {\n",
       "        text-align: right;\n",
       "    }\n",
       "</style>\n",
       "<table border=\"1\" class=\"dataframe\">\n",
       "  <thead>\n",
       "    <tr style=\"text-align: right;\">\n",
       "      <th></th>\n",
       "      <th>Original Title</th>\n",
       "      <th>Title on Google Scholar</th>\n",
       "      <th>DOI</th>\n",
       "      <th>Year</th>\n",
       "      <th>Citation Link</th>\n",
       "      <th>Citation Counts on Google Scholar</th>\n",
       "    </tr>\n",
       "  </thead>\n",
       "  <tbody>\n",
       "    <tr>\n",
       "      <th>0</th>\n",
       "      <td>The Gender Divide in Wikipedia: Quantifying an...</td>\n",
       "      <td>The Gender Divide in Wikipedia: Quantifying an...</td>\n",
       "      <td>10.1093/joc/jqac004</td>\n",
       "      <td>2022</td>\n",
       "      <td>https://scholar.google.com/scholar?cites=73284...</td>\n",
       "      <td>2</td>\n",
       "    </tr>\n",
       "    <tr>\n",
       "      <th>1</th>\n",
       "      <td>Mapping Exposure Diversity: The Divergent Effe...</td>\n",
       "      <td>Mapping exposure diversity: The divergent effe...</td>\n",
       "      <td>10.1093/joc/jqac009</td>\n",
       "      <td>2022</td>\n",
       "      <td>https://scholar.google.com/scholar?cites=29888...</td>\n",
       "      <td>15</td>\n",
       "    </tr>\n",
       "    <tr>\n",
       "      <th>2</th>\n",
       "      <td>Democratic Consequences of Incidental Exposure...</td>\n",
       "      <td>Democratic consequences of incidental exposure...</td>\n",
       "      <td>10.1093/joc/jqac008</td>\n",
       "      <td>2022</td>\n",
       "      <td>https://scholar.google.com/scholar?cites=13540...</td>\n",
       "      <td>13</td>\n",
       "    </tr>\n",
       "    <tr>\n",
       "      <th>3</th>\n",
       "      <td>The Great and Powerful Dr. Oz? Alternative Hea...</td>\n",
       "      <td>The great and powerful Dr. Oz? Alternative hea...</td>\n",
       "      <td>10.1093/joc/jqac011</td>\n",
       "      <td>2022</td>\n",
       "      <td>https://scholar.google.com/scholar?cites=12065...</td>\n",
       "      <td>7</td>\n",
       "    </tr>\n",
       "    <tr>\n",
       "      <th>4</th>\n",
       "      <td>A Methodological Framework for Analyzing the A...</td>\n",
       "      <td>A methodological framework for analyzing the a...</td>\n",
       "      <td>10.1093/joc/jqac013</td>\n",
       "      <td>2022</td>\n",
       "      <td>https://scholar.google.com/scholar?cites=31605...</td>\n",
       "      <td>1</td>\n",
       "    </tr>\n",
       "  </tbody>\n",
       "</table>\n",
       "</div>"
      ],
      "text/plain": [
       "                                      Original Title  \\\n",
       "0  The Gender Divide in Wikipedia: Quantifying an...   \n",
       "1  Mapping Exposure Diversity: The Divergent Effe...   \n",
       "2  Democratic Consequences of Incidental Exposure...   \n",
       "3  The Great and Powerful Dr. Oz? Alternative Hea...   \n",
       "4  A Methodological Framework for Analyzing the A...   \n",
       "\n",
       "                             Title on Google Scholar                  DOI  \\\n",
       "0  The Gender Divide in Wikipedia: Quantifying an...  10.1093/joc/jqac004   \n",
       "1  Mapping exposure diversity: The divergent effe...  10.1093/joc/jqac009   \n",
       "2  Democratic consequences of incidental exposure...  10.1093/joc/jqac008   \n",
       "3  The great and powerful Dr. Oz? Alternative hea...  10.1093/joc/jqac011   \n",
       "4  A methodological framework for analyzing the a...  10.1093/joc/jqac013   \n",
       "\n",
       "   Year                                      Citation Link  \\\n",
       "0  2022  https://scholar.google.com/scholar?cites=73284...   \n",
       "1  2022  https://scholar.google.com/scholar?cites=29888...   \n",
       "2  2022  https://scholar.google.com/scholar?cites=13540...   \n",
       "3  2022  https://scholar.google.com/scholar?cites=12065...   \n",
       "4  2022  https://scholar.google.com/scholar?cites=31605...   \n",
       "\n",
       "   Citation Counts on Google Scholar  \n",
       "0                                  2  \n",
       "1                                 15  \n",
       "2                                 13  \n",
       "3                                  7  \n",
       "4                                  1  "
      ]
     },
     "execution_count": 2,
     "metadata": {},
     "output_type": "execute_result"
    }
   ],
   "source": [
    "df = pd.read_csv('../../data/processed/gscholar_data.csv')\n",
    "df.head()"
   ]
  },
  {
   "cell_type": "code",
   "execution_count": 3,
   "id": "40404a14",
   "metadata": {},
   "outputs": [
    {
     "data": {
      "text/plain": [
       "(5718, 6)"
      ]
     },
     "execution_count": 3,
     "metadata": {},
     "output_type": "execute_result"
    }
   ],
   "source": [
    "df.shape"
   ]
  },
  {
   "cell_type": "code",
   "execution_count": 4,
   "id": "e912d2eb",
   "metadata": {},
   "outputs": [
    {
     "data": {
      "text/plain": [
       "(5718, 6)"
      ]
     },
     "execution_count": 4,
     "metadata": {},
     "output_type": "execute_result"
    }
   ],
   "source": [
    "df.shape"
   ]
  },
  {
   "cell_type": "code",
   "execution_count": 5,
   "id": "5f43e8aa",
   "metadata": {},
   "outputs": [
    {
     "data": {
      "text/plain": [
       "5717"
      ]
     },
     "execution_count": 5,
     "metadata": {},
     "output_type": "execute_result"
    }
   ],
   "source": [
    "len(list(set(df.DOI.tolist())))"
   ]
  },
  {
   "cell_type": "markdown",
   "id": "408f95d9",
   "metadata": {},
   "source": [
    "### Which paper appeared for twice"
   ]
  },
  {
   "cell_type": "code",
   "execution_count": 9,
   "id": "def65114",
   "metadata": {},
   "outputs": [],
   "source": [
    "from collections import Counter"
   ]
  },
  {
   "cell_type": "code",
   "execution_count": 12,
   "id": "183acbcb",
   "metadata": {},
   "outputs": [
    {
     "data": {
      "text/plain": [
       "[('10.1111/j.1083-6101.1996.tb00053.x', 2), ('10.1093/joc/jqac004', 1)]"
      ]
     },
     "execution_count": 12,
     "metadata": {},
     "output_type": "execute_result"
    }
   ],
   "source": [
    "Counter(df.DOI).most_common(2)"
   ]
  },
  {
   "cell_type": "code",
   "execution_count": 13,
   "id": "fa054082",
   "metadata": {},
   "outputs": [
    {
     "data": {
      "text/html": [
       "<div>\n",
       "<style scoped>\n",
       "    .dataframe tbody tr th:only-of-type {\n",
       "        vertical-align: middle;\n",
       "    }\n",
       "\n",
       "    .dataframe tbody tr th {\n",
       "        vertical-align: top;\n",
       "    }\n",
       "\n",
       "    .dataframe thead th {\n",
       "        text-align: right;\n",
       "    }\n",
       "</style>\n",
       "<table border=\"1\" class=\"dataframe\">\n",
       "  <thead>\n",
       "    <tr style=\"text-align: right;\">\n",
       "      <th></th>\n",
       "      <th>Original Title</th>\n",
       "      <th>Title on Google Scholar</th>\n",
       "      <th>DOI</th>\n",
       "      <th>Year</th>\n",
       "      <th>Citation Link</th>\n",
       "      <th>Citation Counts on Google Scholar</th>\n",
       "    </tr>\n",
       "  </thead>\n",
       "  <tbody>\n",
       "    <tr>\n",
       "      <th>5220</th>\n",
       "      <td>Cyberspaces: Familiar Territory or Lawless Fro...</td>\n",
       "      <td>Cyberspaces: Familiar territory or lawless fro...</td>\n",
       "      <td>10.1111/j.1083-6101.1996.tb00053.x</td>\n",
       "      <td>1996</td>\n",
       "      <td>https://scholar.google.com/scholar?cites=33144...</td>\n",
       "      <td>24</td>\n",
       "    </tr>\n",
       "    <tr>\n",
       "      <th>5229</th>\n",
       "      <td>Cyberspaces: Familiar Territory or Lawless Fro...</td>\n",
       "      <td>Cyberspaces: Familiar territory or lawless fro...</td>\n",
       "      <td>10.1111/j.1083-6101.1996.tb00053.x</td>\n",
       "      <td>1996</td>\n",
       "      <td>https://scholar.google.com/scholar?cites=33144...</td>\n",
       "      <td>24</td>\n",
       "    </tr>\n",
       "  </tbody>\n",
       "</table>\n",
       "</div>"
      ],
      "text/plain": [
       "                                         Original Title  \\\n",
       "5220  Cyberspaces: Familiar Territory or Lawless Fro...   \n",
       "5229  Cyberspaces: Familiar Territory or Lawless Fro...   \n",
       "\n",
       "                                Title on Google Scholar  \\\n",
       "5220  Cyberspaces: Familiar territory or lawless fro...   \n",
       "5229  Cyberspaces: Familiar territory or lawless fro...   \n",
       "\n",
       "                                     DOI  Year  \\\n",
       "5220  10.1111/j.1083-6101.1996.tb00053.x  1996   \n",
       "5229  10.1111/j.1083-6101.1996.tb00053.x  1996   \n",
       "\n",
       "                                          Citation Link  \\\n",
       "5220  https://scholar.google.com/scholar?cites=33144...   \n",
       "5229  https://scholar.google.com/scholar?cites=33144...   \n",
       "\n",
       "      Citation Counts on Google Scholar  \n",
       "5220                                 24  \n",
       "5229                                 24  "
      ]
     },
     "execution_count": 13,
     "metadata": {},
     "output_type": "execute_result"
    }
   ],
   "source": [
    "df.loc[df.DOI == '10.1111/j.1083-6101.1996.tb00053.x']"
   ]
  },
  {
   "cell_type": "markdown",
   "id": "fc761a0a",
   "metadata": {},
   "source": [
    "### One paper is not found"
   ]
  },
  {
   "cell_type": "code",
   "execution_count": 78,
   "id": "0de1ade0",
   "metadata": {},
   "outputs": [],
   "source": [
    "all_dois = pd.read_csv('../../data/processed/dois_to_study.txt', header=None)\n",
    "all_dois_list = all_dois.iloc[:, 0].tolist()\n",
    "\n",
    "not_included_doi = [x for x in all_dois_list if x not in df['DOI'].tolist()]"
   ]
  },
  {
   "cell_type": "code",
   "execution_count": 80,
   "id": "caebecfc",
   "metadata": {},
   "outputs": [
    {
     "data": {
      "text/plain": [
       "['10.1111/j.1083-6101.1996.tb00178.x']"
      ]
     },
     "execution_count": 80,
     "metadata": {},
     "output_type": "execute_result"
    }
   ],
   "source": [
    "not_included_doi"
   ]
  },
  {
   "cell_type": "code",
   "execution_count": 95,
   "id": "310cd620",
   "metadata": {},
   "outputs": [
    {
     "data": {
      "text/plain": [
       "['10.1111/j.1083-6101.1996.tb00178.x']"
      ]
     },
     "execution_count": 95,
     "metadata": {},
     "output_type": "execute_result"
    }
   ],
   "source": [
    "list(set(all_dois_list).difference(df['DOI'].tolist()))"
   ]
  },
  {
   "cell_type": "code",
   "execution_count": 85,
   "id": "2ae7a7b8",
   "metadata": {},
   "outputs": [
    {
     "data": {
      "text/plain": [
       "'10.1111/j.1083-6101.1996.tb00178.x'"
      ]
     },
     "execution_count": 85,
     "metadata": {},
     "output_type": "execute_result"
    }
   ],
   "source": [
    "not_included_doi[0]"
   ]
  },
  {
   "cell_type": "code",
   "execution_count": 34,
   "id": "c536a476",
   "metadata": {},
   "outputs": [
    {
     "data": {
      "text/html": [
       "<div>\n",
       "<style scoped>\n",
       "    .dataframe tbody tr th:only-of-type {\n",
       "        vertical-align: middle;\n",
       "    }\n",
       "\n",
       "    .dataframe tbody tr th {\n",
       "        vertical-align: top;\n",
       "    }\n",
       "\n",
       "    .dataframe thead th {\n",
       "        text-align: right;\n",
       "    }\n",
       "</style>\n",
       "<table border=\"1\" class=\"dataframe\">\n",
       "  <thead>\n",
       "    <tr style=\"text-align: right;\">\n",
       "      <th></th>\n",
       "      <th>journal</th>\n",
       "      <th>issueURL</th>\n",
       "      <th>volumn</th>\n",
       "      <th>issue</th>\n",
       "      <th>issueText</th>\n",
       "      <th>month</th>\n",
       "      <th>year</th>\n",
       "      <th>category</th>\n",
       "      <th>title</th>\n",
       "      <th>url</th>\n",
       "      <th>doi</th>\n",
       "      <th>pages</th>\n",
       "      <th>abstract</th>\n",
       "      <th>abstract_para_num</th>\n",
       "      <th>type</th>\n",
       "    </tr>\n",
       "  </thead>\n",
       "  <tbody>\n",
       "    <tr>\n",
       "      <th>5229</th>\n",
       "      <td>Journal of Computer-Mediated Communication</td>\n",
       "      <td>https://academic.oup.com/jcmc/issue/2/1?browse...</td>\n",
       "      <td>Volume 2</td>\n",
       "      <td>Issue 1</td>\n",
       "      <td>Issue 1, 1 June 1996</td>\n",
       "      <td>June</td>\n",
       "      <td>1996</td>\n",
       "      <td>Original Article</td>\n",
       "      <td>Cyberspaces: Familiar Territory or Lawless Fro...</td>\n",
       "      <td>https://academic.oup.com/jcmc/article/2/1/JCMC...</td>\n",
       "      <td>10.1111/j.1083-6101.1996.tb00178.x</td>\n",
       "      <td>NaN</td>\n",
       "      <td>NaN</td>\n",
       "      <td>NaN</td>\n",
       "      <td>R</td>\n",
       "    </tr>\n",
       "  </tbody>\n",
       "</table>\n",
       "</div>"
      ],
      "text/plain": [
       "                                         journal  \\\n",
       "5229  Journal of Computer-Mediated Communication   \n",
       "\n",
       "                                               issueURL    volumn    issue  \\\n",
       "5229  https://academic.oup.com/jcmc/issue/2/1?browse...  Volume 2  Issue 1   \n",
       "\n",
       "                 issueText month  year          category  \\\n",
       "5229  Issue 1, 1 June 1996  June  1996  Original Article   \n",
       "\n",
       "                                                  title  \\\n",
       "5229  Cyberspaces: Familiar Territory or Lawless Fro...   \n",
       "\n",
       "                                                    url  \\\n",
       "5229  https://academic.oup.com/jcmc/article/2/1/JCMC...   \n",
       "\n",
       "                                     doi pages abstract  abstract_para_num  \\\n",
       "5229  10.1111/j.1083-6101.1996.tb00178.x   NaN      NaN                NaN   \n",
       "\n",
       "     type  \n",
       "5229    R  "
      ]
     },
     "execution_count": 34,
     "metadata": {},
     "output_type": "execute_result"
    }
   ],
   "source": [
    "papers_to_study = pd.read_csv('../../data/processed/papers_to_study.csv')\n",
    "papers_to_study.loc[papers_to_study['doi'] == not_included_doi[0]]"
   ]
  },
  {
   "cell_type": "code",
   "execution_count": 43,
   "id": "fc0a9f02",
   "metadata": {},
   "outputs": [
    {
     "data": {
      "text/html": [
       "<div>\n",
       "<style scoped>\n",
       "    .dataframe tbody tr th:only-of-type {\n",
       "        vertical-align: middle;\n",
       "    }\n",
       "\n",
       "    .dataframe tbody tr th {\n",
       "        vertical-align: top;\n",
       "    }\n",
       "\n",
       "    .dataframe thead th {\n",
       "        text-align: right;\n",
       "    }\n",
       "</style>\n",
       "<table border=\"1\" class=\"dataframe\">\n",
       "  <thead>\n",
       "    <tr style=\"text-align: right;\">\n",
       "      <th></th>\n",
       "      <th>journal</th>\n",
       "      <th>issueURL</th>\n",
       "      <th>volumn</th>\n",
       "      <th>issue</th>\n",
       "      <th>issueText</th>\n",
       "      <th>month</th>\n",
       "      <th>year</th>\n",
       "      <th>category</th>\n",
       "      <th>title</th>\n",
       "      <th>url</th>\n",
       "      <th>doi</th>\n",
       "      <th>pages</th>\n",
       "      <th>abstract</th>\n",
       "      <th>abstract_para_num</th>\n",
       "      <th>type</th>\n",
       "    </tr>\n",
       "  </thead>\n",
       "  <tbody>\n",
       "    <tr>\n",
       "      <th>2595</th>\n",
       "      <td>Journal of Communication</td>\n",
       "      <td>https://academic.oup.com/joc/issue/2/1?browseB...</td>\n",
       "      <td>Volume 2</td>\n",
       "      <td>Issue 1</td>\n",
       "      <td>Issue 1, May 1952, Pages 1–98</td>\n",
       "      <td>May</td>\n",
       "      <td>1952</td>\n",
       "      <td>Articles</td>\n",
       "      <td>Communications 1952</td>\n",
       "      <td>https://academic.oup.com/joc/article/2/1/11/46...</td>\n",
       "      <td>10.1111/j.1460-2466.1952.tb00171.x</td>\n",
       "      <td>11–14</td>\n",
       "      <td>NaN</td>\n",
       "      <td>NaN</td>\n",
       "      <td>R</td>\n",
       "    </tr>\n",
       "  </tbody>\n",
       "</table>\n",
       "</div>"
      ],
      "text/plain": [
       "                       journal  \\\n",
       "2595  Journal of Communication   \n",
       "\n",
       "                                               issueURL    volumn    issue  \\\n",
       "2595  https://academic.oup.com/joc/issue/2/1?browseB...  Volume 2  Issue 1   \n",
       "\n",
       "                          issueText month  year  category  \\\n",
       "2595  Issue 1, May 1952, Pages 1–98   May  1952  Articles   \n",
       "\n",
       "                    title                                                url  \\\n",
       "2595  Communications 1952  https://academic.oup.com/joc/article/2/1/11/46...   \n",
       "\n",
       "                                     doi  pages abstract  abstract_para_num  \\\n",
       "2595  10.1111/j.1460-2466.1952.tb00171.x  11–14      NaN                NaN   \n",
       "\n",
       "     type  \n",
       "2595    R  "
      ]
     },
     "execution_count": 43,
     "metadata": {},
     "output_type": "execute_result"
    }
   ],
   "source": [
    "papers_to_study.loc[papers_to_study.doi == '10.1111/j.1460-2466.1952.tb00171.x']"
   ]
  },
  {
   "cell_type": "code",
   "execution_count": 50,
   "id": "d0080c99",
   "metadata": {},
   "outputs": [
    {
     "data": {
      "text/html": [
       "<div>\n",
       "<style scoped>\n",
       "    .dataframe tbody tr th:only-of-type {\n",
       "        vertical-align: middle;\n",
       "    }\n",
       "\n",
       "    .dataframe tbody tr th {\n",
       "        vertical-align: top;\n",
       "    }\n",
       "\n",
       "    .dataframe thead th {\n",
       "        text-align: right;\n",
       "    }\n",
       "</style>\n",
       "<table border=\"1\" class=\"dataframe\">\n",
       "  <thead>\n",
       "    <tr style=\"text-align: right;\">\n",
       "      <th></th>\n",
       "      <th>journal</th>\n",
       "      <th>issueURL</th>\n",
       "      <th>volumn</th>\n",
       "      <th>issue</th>\n",
       "      <th>issueText</th>\n",
       "      <th>month</th>\n",
       "      <th>year</th>\n",
       "      <th>category</th>\n",
       "      <th>title</th>\n",
       "      <th>url</th>\n",
       "      <th>doi</th>\n",
       "      <th>pages</th>\n",
       "      <th>abstract</th>\n",
       "      <th>abstract_para_num</th>\n",
       "      <th>type</th>\n",
       "    </tr>\n",
       "  </thead>\n",
       "  <tbody>\n",
       "    <tr>\n",
       "      <th>1946</th>\n",
       "      <td>Journal of Communication</td>\n",
       "      <td>https://academic.oup.com/joc/issue/27/3?browse...</td>\n",
       "      <td>Volume 27</td>\n",
       "      <td>Issue 3</td>\n",
       "      <td>Issue 3, September 1977, Pages 3–240</td>\n",
       "      <td>September</td>\n",
       "      <td>1977</td>\n",
       "      <td>Articles</td>\n",
       "      <td>“Beneficial” Aggression</td>\n",
       "      <td>https://academic.oup.com/joc/article/27/3/100/...</td>\n",
       "      <td>10.1111/j.1460-2466.1977.tb02133.x</td>\n",
       "      <td>100–103</td>\n",
       "      <td>NaN</td>\n",
       "      <td>NaN</td>\n",
       "      <td>R</td>\n",
       "    </tr>\n",
       "  </tbody>\n",
       "</table>\n",
       "</div>"
      ],
      "text/plain": [
       "                       journal  \\\n",
       "1946  Journal of Communication   \n",
       "\n",
       "                                               issueURL     volumn    issue  \\\n",
       "1946  https://academic.oup.com/joc/issue/27/3?browse...  Volume 27  Issue 3   \n",
       "\n",
       "                                 issueText      month  year  category  \\\n",
       "1946  Issue 3, September 1977, Pages 3–240  September  1977  Articles   \n",
       "\n",
       "                        title  \\\n",
       "1946  “Beneficial” Aggression   \n",
       "\n",
       "                                                    url  \\\n",
       "1946  https://academic.oup.com/joc/article/27/3/100/...   \n",
       "\n",
       "                                     doi    pages abstract  abstract_para_num  \\\n",
       "1946  10.1111/j.1460-2466.1977.tb02133.x  100–103      NaN                NaN   \n",
       "\n",
       "     type  \n",
       "1946    R  "
      ]
     },
     "execution_count": 50,
     "metadata": {},
     "output_type": "execute_result"
    }
   ],
   "source": [
    "papers_to_study.loc[papers_to_study.doi == '10.1111/j.1460-2466.1977.tb02133.x']\n",
    "## This paper is not available on google scholar. "
   ]
  },
  {
   "cell_type": "code",
   "execution_count": 51,
   "id": "8a4f1598",
   "metadata": {},
   "outputs": [
    {
     "data": {
      "text/html": [
       "<div>\n",
       "<style scoped>\n",
       "    .dataframe tbody tr th:only-of-type {\n",
       "        vertical-align: middle;\n",
       "    }\n",
       "\n",
       "    .dataframe tbody tr th {\n",
       "        vertical-align: top;\n",
       "    }\n",
       "\n",
       "    .dataframe thead th {\n",
       "        text-align: right;\n",
       "    }\n",
       "</style>\n",
       "<table border=\"1\" class=\"dataframe\">\n",
       "  <thead>\n",
       "    <tr style=\"text-align: right;\">\n",
       "      <th></th>\n",
       "      <th>journal</th>\n",
       "      <th>issueURL</th>\n",
       "      <th>volumn</th>\n",
       "      <th>issue</th>\n",
       "      <th>issueText</th>\n",
       "      <th>month</th>\n",
       "      <th>year</th>\n",
       "      <th>category</th>\n",
       "      <th>title</th>\n",
       "      <th>url</th>\n",
       "      <th>doi</th>\n",
       "      <th>pages</th>\n",
       "      <th>abstract</th>\n",
       "      <th>abstract_para_num</th>\n",
       "      <th>type</th>\n",
       "    </tr>\n",
       "  </thead>\n",
       "  <tbody>\n",
       "    <tr>\n",
       "      <th>4811</th>\n",
       "      <td>Journal of Computer-Mediated Communication</td>\n",
       "      <td>https://academic.oup.com/jcmc/issue/14/1?brows...</td>\n",
       "      <td>Volume 14</td>\n",
       "      <td>Issue 1</td>\n",
       "      <td>Issue 1, 1 October 2008, Pages 1–220</td>\n",
       "      <td>October</td>\n",
       "      <td>2008</td>\n",
       "      <td>Original Article</td>\n",
       "      <td>The Faces of Facebookers: Investigating Social...</td>\n",
       "      <td>https://academic.oup.com/jcmc/article/14/1/1/4...</td>\n",
       "      <td>10.1111/j.1083-6101.2008.01429.x</td>\n",
       "      <td>NaN</td>\n",
       "      <td>This research investigates two competing hypot...</td>\n",
       "      <td>1.0</td>\n",
       "      <td>R</td>\n",
       "    </tr>\n",
       "  </tbody>\n",
       "</table>\n",
       "</div>"
      ],
      "text/plain": [
       "                                         journal  \\\n",
       "4811  Journal of Computer-Mediated Communication   \n",
       "\n",
       "                                               issueURL     volumn    issue  \\\n",
       "4811  https://academic.oup.com/jcmc/issue/14/1?brows...  Volume 14  Issue 1   \n",
       "\n",
       "                                 issueText    month  year          category  \\\n",
       "4811  Issue 1, 1 October 2008, Pages 1–220  October  2008  Original Article   \n",
       "\n",
       "                                                  title  \\\n",
       "4811  The Faces of Facebookers: Investigating Social...   \n",
       "\n",
       "                                                    url  \\\n",
       "4811  https://academic.oup.com/jcmc/article/14/1/1/4...   \n",
       "\n",
       "                                   doi pages  \\\n",
       "4811  10.1111/j.1083-6101.2008.01429.x   NaN   \n",
       "\n",
       "                                               abstract  abstract_para_num  \\\n",
       "4811  This research investigates two competing hypot...                1.0   \n",
       "\n",
       "     type  \n",
       "4811    R  "
      ]
     },
     "execution_count": 51,
     "metadata": {},
     "output_type": "execute_result"
    }
   ],
   "source": [
    "papers_to_study.loc[papers_to_study.doi == '10.1111/j.1083-6101.2008.01429.x']"
   ]
  },
  {
   "cell_type": "markdown",
   "id": "729a7799",
   "metadata": {},
   "source": [
    "This is very confusing to me. I do not know why this paper is ignored by my script. So confusing!"
   ]
  },
  {
   "cell_type": "markdown",
   "id": "033359d7",
   "metadata": {},
   "source": [
    "## Export"
   ]
  },
  {
   "cell_type": "code",
   "execution_count": 118,
   "id": "bd69deea",
   "metadata": {},
   "outputs": [],
   "source": [
    "with open(\"gscholar_data_dois.txt\", \"w\") as output:\n",
    "    for row in df.DOI.tolist():\n",
    "        output.write(str(row) + '\\n')"
   ]
  },
  {
   "cell_type": "code",
   "execution_count": 117,
   "id": "36bfac93",
   "metadata": {},
   "outputs": [],
   "source": [
    "with open(\"all_dois_list.txt\", \"w\") as output:\n",
    "    for row in all_dois_list:\n",
    "        output.write(str(row) + '\\n')"
   ]
  },
  {
   "cell_type": "markdown",
   "id": "46c0bf2f",
   "metadata": {},
   "source": [
    "## Compare "
   ]
  },
  {
   "cell_type": "code",
   "execution_count": 4,
   "id": "5b47eed3",
   "metadata": {},
   "outputs": [],
   "source": [
    "def clean_text(text):\n",
    "    \"\"\"\n",
    "    Takes a string and returns a string\n",
    "    \"\"\"\n",
    "    # remove html tags, lowercase, remove nonsense, remove non-letter\n",
    "    title = text.replace('[CITATION]', '')\n",
    "    title = title.replace('[PDF]', '')\n",
    "    title = title.lower()\n",
    "    title = re.sub(r'[^a-z]+', ' ', title)\n",
    "    title = title.strip()\n",
    "    return title"
   ]
  },
  {
   "cell_type": "code",
   "execution_count": 5,
   "id": "edb0677f",
   "metadata": {},
   "outputs": [],
   "source": [
    "def similar(a, b):\n",
    "    return SequenceMatcher(None, a, b).ratio()"
   ]
  },
  {
   "cell_type": "code",
   "execution_count": 6,
   "id": "129254d0",
   "metadata": {},
   "outputs": [],
   "source": [
    "def get_similar_score(row):\n",
    "    orig_t = row['orig_t_processed']\n",
    "    gscholar_t = row['gscholar_t_processed']\n",
    "    return similar(orig_t, gscholar_t)"
   ]
  },
  {
   "cell_type": "code",
   "execution_count": 7,
   "id": "6bebc859",
   "metadata": {},
   "outputs": [],
   "source": [
    "df['orig_t_processed'] = [clean_text(i) for i in df['Original Title']]\n",
    "df['gscholar_t_processed'] = [clean_text(i) for i in df['Title on Google Scholar']]"
   ]
  },
  {
   "cell_type": "code",
   "execution_count": 8,
   "id": "4c042bbd",
   "metadata": {},
   "outputs": [],
   "source": [
    "dff = df[df['orig_t_processed'] != df['gscholar_t_processed']]"
   ]
  },
  {
   "cell_type": "code",
   "execution_count": 9,
   "id": "f0bbdb07",
   "metadata": {},
   "outputs": [
    {
     "data": {
      "text/html": [
       "<div>\n",
       "<style scoped>\n",
       "    .dataframe tbody tr th:only-of-type {\n",
       "        vertical-align: middle;\n",
       "    }\n",
       "\n",
       "    .dataframe tbody tr th {\n",
       "        vertical-align: top;\n",
       "    }\n",
       "\n",
       "    .dataframe thead th {\n",
       "        text-align: right;\n",
       "    }\n",
       "</style>\n",
       "<table border=\"1\" class=\"dataframe\">\n",
       "  <thead>\n",
       "    <tr style=\"text-align: right;\">\n",
       "      <th></th>\n",
       "      <th>Original Title</th>\n",
       "      <th>Title on Google Scholar</th>\n",
       "      <th>DOI</th>\n",
       "      <th>Year</th>\n",
       "      <th>Citation Link</th>\n",
       "      <th>Citation Counts on Google Scholar</th>\n",
       "      <th>orig_t_processed</th>\n",
       "      <th>gscholar_t_processed</th>\n",
       "    </tr>\n",
       "  </thead>\n",
       "  <tbody>\n",
       "    <tr>\n",
       "      <th>7</th>\n",
       "      <td>#GirlGamers, Soldiers, and Public Relations: A...</td>\n",
       "      <td>User profiles for good</td>\n",
       "      <td>10.1093/joc/jqab051</td>\n",
       "      <td>2022</td>\n",
       "      <td>https://scholar.google.com/scholar?cites=86484...</td>\n",
       "      <td>864</td>\n",
       "      <td>girlgamers soldiers and public relations analy...</td>\n",
       "      <td>user profiles for good</td>\n",
       "    </tr>\n",
       "    <tr>\n",
       "      <th>17</th>\n",
       "      <td>What Does #Freedom Look Like? Instagram and th...</td>\n",
       "      <td>How does foreign direct investment affect econ...</td>\n",
       "      <td>10.1093/joc/jqab021</td>\n",
       "      <td>2021</td>\n",
       "      <td>https://scholar.google.com/scholar?cites=17920...</td>\n",
       "      <td>10630</td>\n",
       "      <td>what does freedom look like instagram and the ...</td>\n",
       "      <td>how does foreign direct investment affect econ...</td>\n",
       "    </tr>\n",
       "    <tr>\n",
       "      <th>59</th>\n",
       "      <td>Intellectuals Debate #MeToo in China: Legitimi...</td>\n",
       "      <td>[HTML] How to build a 'Beautiful China'in the ...</td>\n",
       "      <td>10.1093/joc/jqaa033</td>\n",
       "      <td>2020</td>\n",
       "      <td>https://scholar.google.com/scholar?cites=13177...</td>\n",
       "      <td>121</td>\n",
       "      <td>intellectuals debate metoo in china legitimizi...</td>\n",
       "      <td>html how to build a beautiful china in the ant...</td>\n",
       "    </tr>\n",
       "  </tbody>\n",
       "</table>\n",
       "</div>"
      ],
      "text/plain": [
       "                                       Original Title  \\\n",
       "7   #GirlGamers, Soldiers, and Public Relations: A...   \n",
       "17  What Does #Freedom Look Like? Instagram and th...   \n",
       "59  Intellectuals Debate #MeToo in China: Legitimi...   \n",
       "\n",
       "                              Title on Google Scholar                  DOI  \\\n",
       "7                              User profiles for good  10.1093/joc/jqab051   \n",
       "17  How does foreign direct investment affect econ...  10.1093/joc/jqab021   \n",
       "59  [HTML] How to build a 'Beautiful China'in the ...  10.1093/joc/jqaa033   \n",
       "\n",
       "    Year                                      Citation Link  \\\n",
       "7   2022  https://scholar.google.com/scholar?cites=86484...   \n",
       "17  2021  https://scholar.google.com/scholar?cites=17920...   \n",
       "59  2020  https://scholar.google.com/scholar?cites=13177...   \n",
       "\n",
       "    Citation Counts on Google Scholar  \\\n",
       "7                                 864   \n",
       "17                              10630   \n",
       "59                                121   \n",
       "\n",
       "                                     orig_t_processed  \\\n",
       "7   girlgamers soldiers and public relations analy...   \n",
       "17  what does freedom look like instagram and the ...   \n",
       "59  intellectuals debate metoo in china legitimizi...   \n",
       "\n",
       "                                 gscholar_t_processed  \n",
       "7                              user profiles for good  \n",
       "17  how does foreign direct investment affect econ...  \n",
       "59  html how to build a beautiful china in the ant...  "
      ]
     },
     "execution_count": 9,
     "metadata": {},
     "output_type": "execute_result"
    }
   ],
   "source": [
    "dff.head(3)"
   ]
  },
  {
   "cell_type": "code",
   "execution_count": 10,
   "id": "9dfbd755",
   "metadata": {},
   "outputs": [
    {
     "data": {
      "text/plain": [
       "(289, 8)"
      ]
     },
     "execution_count": 10,
     "metadata": {},
     "output_type": "execute_result"
    }
   ],
   "source": [
    "dff.shape"
   ]
  },
  {
   "cell_type": "code",
   "execution_count": 35,
   "id": "07b4ccaa",
   "metadata": {},
   "outputs": [],
   "source": [
    "dff = dff.assign(simi_score = dff.apply(lambda row: get_similar_score(row), axis = 1))"
   ]
  },
  {
   "cell_type": "code",
   "execution_count": 36,
   "id": "69c64ee0",
   "metadata": {},
   "outputs": [
    {
     "data": {
      "text/html": [
       "<div>\n",
       "<style scoped>\n",
       "    .dataframe tbody tr th:only-of-type {\n",
       "        vertical-align: middle;\n",
       "    }\n",
       "\n",
       "    .dataframe tbody tr th {\n",
       "        vertical-align: top;\n",
       "    }\n",
       "\n",
       "    .dataframe thead th {\n",
       "        text-align: right;\n",
       "    }\n",
       "</style>\n",
       "<table border=\"1\" class=\"dataframe\">\n",
       "  <thead>\n",
       "    <tr style=\"text-align: right;\">\n",
       "      <th></th>\n",
       "      <th>Original Title</th>\n",
       "      <th>Title on Google Scholar</th>\n",
       "      <th>DOI</th>\n",
       "      <th>Year</th>\n",
       "      <th>Citation Link</th>\n",
       "      <th>Citation Counts on Google Scholar</th>\n",
       "      <th>orig_t_processed</th>\n",
       "      <th>gscholar_t_processed</th>\n",
       "      <th>simi_score</th>\n",
       "    </tr>\n",
       "  </thead>\n",
       "  <tbody>\n",
       "    <tr>\n",
       "      <th>7</th>\n",
       "      <td>#GirlGamers, Soldiers, and Public Relations: A...</td>\n",
       "      <td>User profiles for good</td>\n",
       "      <td>10.1093/joc/jqab051</td>\n",
       "      <td>2022</td>\n",
       "      <td>https://scholar.google.com/scholar?cites=86484...</td>\n",
       "      <td>864</td>\n",
       "      <td>girlgamers soldiers and public relations analy...</td>\n",
       "      <td>user profiles for good</td>\n",
       "      <td>0.192982</td>\n",
       "    </tr>\n",
       "    <tr>\n",
       "      <th>17</th>\n",
       "      <td>What Does #Freedom Look Like? Instagram and th...</td>\n",
       "      <td>How does foreign direct investment affect econ...</td>\n",
       "      <td>10.1093/joc/jqab021</td>\n",
       "      <td>2021</td>\n",
       "      <td>https://scholar.google.com/scholar?cites=17920...</td>\n",
       "      <td>10630</td>\n",
       "      <td>what does freedom look like instagram and the ...</td>\n",
       "      <td>how does foreign direct investment affect econ...</td>\n",
       "      <td>0.320611</td>\n",
       "    </tr>\n",
       "    <tr>\n",
       "      <th>59</th>\n",
       "      <td>Intellectuals Debate #MeToo in China: Legitimi...</td>\n",
       "      <td>[HTML] How to build a 'Beautiful China'in the ...</td>\n",
       "      <td>10.1093/joc/jqaa033</td>\n",
       "      <td>2020</td>\n",
       "      <td>https://scholar.google.com/scholar?cites=13177...</td>\n",
       "      <td>121</td>\n",
       "      <td>intellectuals debate metoo in china legitimizi...</td>\n",
       "      <td>html how to build a beautiful china in the ant...</td>\n",
       "      <td>0.270916</td>\n",
       "    </tr>\n",
       "    <tr>\n",
       "      <th>71</th>\n",
       "      <td>Past Debates, Fresh Impact on Nano-Enabled Foo...</td>\n",
       "      <td>Past debates, fresh impact on nano-enabled foo...</td>\n",
       "      <td>10.1093/joc/jqaa019</td>\n",
       "      <td>2020</td>\n",
       "      <td>https://scholar.google.com/scholar?cites=13485...</td>\n",
       "      <td>16</td>\n",
       "      <td>past debates fresh impact on nano enabled food...</td>\n",
       "      <td>past debates fresh impact on nano enabled food...</td>\n",
       "      <td>0.920245</td>\n",
       "    </tr>\n",
       "    <tr>\n",
       "      <th>90</th>\n",
       "      <td>Toward an Aggregate, Implicit, and Dynamic Mod...</td>\n",
       "      <td>Toward an aggregate, implicit, and dynamic mod...</td>\n",
       "      <td>10.1093/joc/jqz033</td>\n",
       "      <td>2019</td>\n",
       "      <td>https://scholar.google.com/scholar?cites=26600...</td>\n",
       "      <td>16</td>\n",
       "      <td>toward an aggregate implicit and dynamic model...</td>\n",
       "      <td>toward an aggregate implicit and dynamic model...</td>\n",
       "      <td>0.901163</td>\n",
       "    </tr>\n",
       "  </tbody>\n",
       "</table>\n",
       "</div>"
      ],
      "text/plain": [
       "                                       Original Title  \\\n",
       "7   #GirlGamers, Soldiers, and Public Relations: A...   \n",
       "17  What Does #Freedom Look Like? Instagram and th...   \n",
       "59  Intellectuals Debate #MeToo in China: Legitimi...   \n",
       "71  Past Debates, Fresh Impact on Nano-Enabled Foo...   \n",
       "90  Toward an Aggregate, Implicit, and Dynamic Mod...   \n",
       "\n",
       "                              Title on Google Scholar                  DOI  \\\n",
       "7                              User profiles for good  10.1093/joc/jqab051   \n",
       "17  How does foreign direct investment affect econ...  10.1093/joc/jqab021   \n",
       "59  [HTML] How to build a 'Beautiful China'in the ...  10.1093/joc/jqaa033   \n",
       "71  Past debates, fresh impact on nano-enabled foo...  10.1093/joc/jqaa019   \n",
       "90  Toward an aggregate, implicit, and dynamic mod...   10.1093/joc/jqz033   \n",
       "\n",
       "    Year                                      Citation Link  \\\n",
       "7   2022  https://scholar.google.com/scholar?cites=86484...   \n",
       "17  2021  https://scholar.google.com/scholar?cites=17920...   \n",
       "59  2020  https://scholar.google.com/scholar?cites=13177...   \n",
       "71  2020  https://scholar.google.com/scholar?cites=13485...   \n",
       "90  2019  https://scholar.google.com/scholar?cites=26600...   \n",
       "\n",
       "    Citation Counts on Google Scholar  \\\n",
       "7                                 864   \n",
       "17                              10630   \n",
       "59                                121   \n",
       "71                                 16   \n",
       "90                                 16   \n",
       "\n",
       "                                     orig_t_processed  \\\n",
       "7   girlgamers soldiers and public relations analy...   \n",
       "17  what does freedom look like instagram and the ...   \n",
       "59  intellectuals debate metoo in china legitimizi...   \n",
       "71  past debates fresh impact on nano enabled food...   \n",
       "90  toward an aggregate implicit and dynamic model...   \n",
       "\n",
       "                                 gscholar_t_processed  simi_score  \n",
       "7                              user profiles for good    0.192982  \n",
       "17  how does foreign direct investment affect econ...    0.320611  \n",
       "59  html how to build a beautiful china in the ant...    0.270916  \n",
       "71  past debates fresh impact on nano enabled food...    0.920245  \n",
       "90  toward an aggregate implicit and dynamic model...    0.901163  "
      ]
     },
     "execution_count": 36,
     "metadata": {},
     "output_type": "execute_result"
    }
   ],
   "source": [
    "dff[dff.simi_score <= 0.95].head()"
   ]
  },
  {
   "cell_type": "code",
   "execution_count": 37,
   "id": "f37abe01",
   "metadata": {},
   "outputs": [
    {
     "data": {
      "text/plain": [
       "(123, 9)"
      ]
     },
     "execution_count": 37,
     "metadata": {},
     "output_type": "execute_result"
    }
   ],
   "source": [
    "dff[dff.simi_score <= 0.95].shape"
   ]
  },
  {
   "cell_type": "code",
   "execution_count": 38,
   "id": "79018600",
   "metadata": {},
   "outputs": [],
   "source": [
    "# these are the 123 papers to scrape again\n",
    "to_scrape_further = dff[dff.simi_score <= 0.95]"
   ]
  },
  {
   "cell_type": "markdown",
   "id": "ae0b02ae",
   "metadata": {},
   "source": [
    "## Scrape these papers"
   ]
  },
  {
   "cell_type": "code",
   "execution_count": 46,
   "id": "8ae7bffb",
   "metadata": {},
   "outputs": [
    {
     "data": {
      "text/plain": [
       "(123,\n",
       " '#GirlGamers, Soldiers, and Public Relations: Analyzing Gender Representation in U.S. Army Esports',\n",
       " '10.1093/joc/jqab051')"
      ]
     },
     "execution_count": 46,
     "metadata": {},
     "output_type": "execute_result"
    }
   ],
   "source": [
    "papers = to_scrape_further['Original Title'].tolist()\n",
    "dois = to_scrape_further['DOI'].tolist()\n",
    "len(papers), papers[0], dois[0]"
   ]
  },
  {
   "cell_type": "code",
   "execution_count": 47,
   "id": "671f15a2",
   "metadata": {},
   "outputs": [],
   "source": [
    "gscholar_dict_list = []\n",
    "driver = webdriver.Firefox()\n",
    "wait = WebDriverWait(driver, 90)"
   ]
  },
  {
   "cell_type": "code",
   "execution_count": 48,
   "id": "c2aaefe5",
   "metadata": {},
   "outputs": [
    {
     "name": "stdout",
     "output_type": "stream",
     "text": [
      "paper 1 is done!\n",
      "paper 2 is done!\n",
      "paper 3 is done!\n",
      "paper 4 is done!\n",
      "paper 5 is done!\n",
      "paper 6 is done!\n",
      "paper 7 is done!\n",
      "paper 8 is done!\n",
      "paper 9 is done!\n",
      "paper 10 is done!\n",
      "paper 11 is done!\n",
      "paper 12 is done!\n",
      "paper 13 is done!\n",
      "paper 14 is done!\n",
      "paper 15 is done!\n",
      "paper 16 is done!\n",
      "paper 17 is done!\n",
      "paper 18 is done!\n",
      "paper 19 is done!\n",
      "paper 20 is done!\n",
      "paper 21 is done!\n",
      "paper 22 is done!\n",
      "paper 23 is done!\n",
      "paper 24 is done!\n",
      "paper 25 is done!\n",
      "paper 26 is done!\n",
      "paper 27 is done!\n",
      "paper 28 is done!\n",
      "paper 29 is done!\n",
      "paper 30 is done!\n",
      "paper 31 is done!\n",
      "paper 32 is done!\n",
      "paper 33 is done!\n",
      "paper 34 is done!\n",
      "paper 35 is done!\n",
      "paper 36 is done!\n",
      "paper 37 is done!\n",
      "paper 38 is done!\n",
      "paper 39 is done!\n",
      "paper 40 is done!\n",
      "paper 41 is done!\n",
      "paper 42 is done!\n",
      "paper 43 is done!\n",
      "paper 44 is done!\n",
      "paper 45 is done!\n",
      "paper 46 is done!\n",
      "paper 47 is done!\n",
      "paper 48 is done!\n",
      "paper 49 is done!\n",
      "paper 50 is done!\n",
      "paper 51 is done!\n",
      "paper 52 is done!\n",
      "paper 53 is done!\n",
      "paper 54 is done!\n",
      "paper 55 is done!\n",
      "paper 56 is done!\n",
      "paper 57 is done!\n",
      "paper 58 is done!\n",
      "paper 59 is done!\n",
      "paper 60 is done!\n",
      "paper 61 is done!\n",
      "paper 62 is done!\n",
      "paper 63 is done!\n",
      "paper 64 is done!\n",
      "paper 65 is done!\n",
      "paper 67 is done!\n",
      "paper 68 is done!\n",
      "paper 69 is done!\n",
      "paper 70 is done!\n",
      "paper 71 is done!\n",
      "paper 72 is done!\n",
      "paper 73 is done!\n",
      "paper 74 is done!\n",
      "paper 75 is done!\n",
      "paper 76 is done!\n",
      "paper 77 is done!\n",
      "paper 78 is done!\n",
      "paper 79 is done!\n",
      "paper 80 is done!\n",
      "paper 81 is done!\n",
      "paper 82 is done!\n",
      "paper 83 is done!\n",
      "paper 84 is done!\n",
      "paper 85 is done!\n",
      "paper 86 is done!\n",
      "paper 87 is done!\n",
      "paper 88 is done!\n",
      "paper 89 is done!\n",
      "paper 90 is done!\n",
      "paper 91 is done!\n",
      "paper 92 is done!\n",
      "paper 93 is done!\n",
      "paper 94 is done!\n",
      "paper 95 is done!\n",
      "paper 96 is done!\n",
      "paper 97 is done!\n",
      "paper 98 is done!\n",
      "paper 99 is done!\n",
      "paper 100 is done!\n",
      "paper 101 is done!\n",
      "paper 102 is done!\n",
      "paper 103 is done!\n",
      "paper 104 is done!\n",
      "paper 105 is done!\n",
      "paper 106 is done!\n",
      "paper 107 is done!\n",
      "paper 108 is done!\n",
      "paper 109 is done!\n",
      "paper 110 is done!\n",
      "paper 111 is done!\n",
      "paper 112 is done!\n",
      "paper 113 is done!\n",
      "paper 114 is done!\n",
      "paper 115 is done!\n",
      "paper 116 is done!\n",
      "paper 117 is done!\n",
      "paper 118 is done!\n",
      "paper 119 is done!\n",
      "paper 120 is done!\n",
      "paper 121 is done!\n",
      "paper 122 is done!\n",
      "paper 123 is done!\n"
     ]
    }
   ],
   "source": [
    "for paper in papers:\n",
    "    idx = papers.index(paper)\n",
    "    doi = dois[idx]\n",
    "    # I decided to remove this paper as it is not available on gscholar\n",
    "    if doi != '10.1111/j.1460-2466.1952.tb00171.x':\n",
    "        query_string = 'https://scholar.google.com/scholar?hl=en&as_sdt=0%2C50&q='\n",
    "        driver.get(query_string + doi + '&btnG=')\n",
    "        gs_paper_e = wait.until(EC.presence_of_element_located((\n",
    "                By.CSS_SELECTOR, 'h3.gs_rt')))\n",
    "        gs_paper_title = gs_paper_e.text\n",
    "        gs_citation_e = wait.until(\n",
    "            EC.presence_of_element_located((By.XPATH, '//div[@class=\"gs_fl\"]//child::a[3]'\n",
    "        )))\n",
    "        citation_link = gs_citation_e.get_attribute('href')\n",
    "        citation_count_string = gs_citation_e.get_attribute('innerHTML')\n",
    "        if 'Cited by' in citation_count_string:\n",
    "            gs_citation_count = int(re.findall(r'\\d+', citation_count_string)[0])\n",
    "        else:\n",
    "            gs_citation_count = 0\n",
    "        gscholar_dict = {\n",
    "            'Original Title': paper,\n",
    "            'Title on Google Scholar': gs_paper_title,\n",
    "            'DOI': doi,\n",
    "            'Citation Link': citation_link,\n",
    "            'Citation Counts on Google Scholar': gs_citation_count,\n",
    "        }\n",
    "        gscholar_dict_list.append(gscholar_dict)\n",
    "        print(f'paper {idx + 1} is done!')\n",
    "        time.sleep(0.2+random.uniform(0,0.2))"
   ]
  },
  {
   "cell_type": "code",
   "execution_count": 49,
   "id": "a617bd3d",
   "metadata": {},
   "outputs": [],
   "source": [
    "gscholar_data_manual = pd.DataFrame(gscholar_dict_list)\n",
    "gscholar_data_manual.to_csv('../../data/interim/gscholar_data_manual.csv', index = False)"
   ]
  }
 ],
 "metadata": {
  "kernelspec": {
   "display_name": "Python 3 (ipykernel)",
   "language": "python",
   "name": "python3"
  },
  "language_info": {
   "codemirror_mode": {
    "name": "ipython",
    "version": 3
   },
   "file_extension": ".py",
   "mimetype": "text/x-python",
   "name": "python",
   "nbconvert_exporter": "python",
   "pygments_lexer": "ipython3",
   "version": "3.8.13"
  }
 },
 "nbformat": 4,
 "nbformat_minor": 5
}
