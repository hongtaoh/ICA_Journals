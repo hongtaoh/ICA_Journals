{
 "cells": [
  {
   "cell_type": "markdown",
   "id": "f42c704e",
   "metadata": {},
   "source": [
    "## Aim\n",
    "\n",
    "We've obtained desirable ICR for paper classification. Now, we will start the actual coding individually. I will split the data into three equal parts. "
   ]
  },
  {
   "cell_type": "code",
   "execution_count": 26,
   "id": "a80e0fae",
   "metadata": {},
   "outputs": [],
   "source": [
    "import pandas as pd\n",
    "import re\n",
    "import numpy as np"
   ]
  },
  {
   "cell_type": "code",
   "execution_count": 27,
   "id": "e3bf9d54",
   "metadata": {},
   "outputs": [],
   "source": [
    "df = pd.read_csv('../../data/interim/ica_paper_df.csv')"
   ]
  },
  {
   "cell_type": "code",
   "execution_count": 28,
   "id": "ed322399",
   "metadata": {},
   "outputs": [
    {
     "data": {
      "text/html": [
       "<div>\n",
       "<style scoped>\n",
       "    .dataframe tbody tr th:only-of-type {\n",
       "        vertical-align: middle;\n",
       "    }\n",
       "\n",
       "    .dataframe tbody tr th {\n",
       "        vertical-align: top;\n",
       "    }\n",
       "\n",
       "    .dataframe thead th {\n",
       "        text-align: right;\n",
       "    }\n",
       "</style>\n",
       "<table border=\"1\" class=\"dataframe\">\n",
       "  <thead>\n",
       "    <tr style=\"text-align: right;\">\n",
       "      <th></th>\n",
       "      <th>journal</th>\n",
       "      <th>issueURL</th>\n",
       "      <th>volumn</th>\n",
       "      <th>issue</th>\n",
       "      <th>issueText</th>\n",
       "      <th>month</th>\n",
       "      <th>year</th>\n",
       "      <th>category</th>\n",
       "      <th>title</th>\n",
       "      <th>url</th>\n",
       "      <th>doi</th>\n",
       "      <th>pages</th>\n",
       "      <th>abstract</th>\n",
       "      <th>abstract_para_num</th>\n",
       "    </tr>\n",
       "  </thead>\n",
       "  <tbody>\n",
       "    <tr>\n",
       "      <th>0</th>\n",
       "      <td>Journal of Communication</td>\n",
       "      <td>https://academic.oup.com/joc/issue/72/3?browse...</td>\n",
       "      <td>Volume 72</td>\n",
       "      <td>Issue 3</td>\n",
       "      <td>Issue 3, June 2022, Pages 297–449</td>\n",
       "      <td>June</td>\n",
       "      <td>2022</td>\n",
       "      <td>Articles</td>\n",
       "      <td>The Gender Divide in Wikipedia: Quantifying an...</td>\n",
       "      <td>https://academic.oup.com/joc/article/72/3/297/...</td>\n",
       "      <td>10.1093/joc/jqac004</td>\n",
       "      <td>297–321</td>\n",
       "      <td>Wikipedia has a well-known gender divide affec...</td>\n",
       "      <td>1.0</td>\n",
       "    </tr>\n",
       "    <tr>\n",
       "      <th>1</th>\n",
       "      <td>Journal of Communication</td>\n",
       "      <td>https://academic.oup.com/joc/issue/72/3?browse...</td>\n",
       "      <td>Volume 72</td>\n",
       "      <td>Issue 3</td>\n",
       "      <td>Issue 3, June 2022, Pages 297–449</td>\n",
       "      <td>June</td>\n",
       "      <td>2022</td>\n",
       "      <td>Articles</td>\n",
       "      <td>Mapping Exposure Diversity: The Divergent Effe...</td>\n",
       "      <td>https://academic.oup.com/joc/article/72/3/322/...</td>\n",
       "      <td>10.1093/joc/jqac009</td>\n",
       "      <td>322–344</td>\n",
       "      <td>Diversity is a crucial precondition for a demo...</td>\n",
       "      <td>1.0</td>\n",
       "    </tr>\n",
       "    <tr>\n",
       "      <th>2</th>\n",
       "      <td>Journal of Communication</td>\n",
       "      <td>https://academic.oup.com/joc/issue/72/3?browse...</td>\n",
       "      <td>Volume 72</td>\n",
       "      <td>Issue 3</td>\n",
       "      <td>Issue 3, June 2022, Pages 297–449</td>\n",
       "      <td>June</td>\n",
       "      <td>2022</td>\n",
       "      <td>Articles</td>\n",
       "      <td>Democratic Consequences of Incidental Exposure...</td>\n",
       "      <td>https://academic.oup.com/joc/article/72/3/345/...</td>\n",
       "      <td>10.1093/joc/jqac008</td>\n",
       "      <td>345–373</td>\n",
       "      <td>In the last two decades, communication researc...</td>\n",
       "      <td>1.0</td>\n",
       "    </tr>\n",
       "    <tr>\n",
       "      <th>3</th>\n",
       "      <td>Journal of Communication</td>\n",
       "      <td>https://academic.oup.com/joc/issue/72/3?browse...</td>\n",
       "      <td>Volume 72</td>\n",
       "      <td>Issue 3</td>\n",
       "      <td>Issue 3, June 2022, Pages 297–449</td>\n",
       "      <td>June</td>\n",
       "      <td>2022</td>\n",
       "      <td>Articles</td>\n",
       "      <td>The Great and Powerful Dr. Oz? Alternative Hea...</td>\n",
       "      <td>https://academic.oup.com/joc/article/72/3/374/...</td>\n",
       "      <td>10.1093/joc/jqac011</td>\n",
       "      <td>374–400</td>\n",
       "      <td>Cardiothoracic surgeon Dr. Mehmet Oz, until re...</td>\n",
       "      <td>1.0</td>\n",
       "    </tr>\n",
       "    <tr>\n",
       "      <th>4</th>\n",
       "      <td>Journal of Communication</td>\n",
       "      <td>https://academic.oup.com/joc/issue/72/3?browse...</td>\n",
       "      <td>Volume 72</td>\n",
       "      <td>Issue 3</td>\n",
       "      <td>Issue 3, June 2022, Pages 297–449</td>\n",
       "      <td>June</td>\n",
       "      <td>2022</td>\n",
       "      <td>Articles</td>\n",
       "      <td>A Methodological Framework for Analyzing the A...</td>\n",
       "      <td>https://academic.oup.com/joc/article/72/3/401/...</td>\n",
       "      <td>10.1093/joc/jqac013</td>\n",
       "      <td>401–428</td>\n",
       "      <td>Media effects have been studied for decades. H...</td>\n",
       "      <td>1.0</td>\n",
       "    </tr>\n",
       "  </tbody>\n",
       "</table>\n",
       "</div>"
      ],
      "text/plain": [
       "                    journal  \\\n",
       "0  Journal of Communication   \n",
       "1  Journal of Communication   \n",
       "2  Journal of Communication   \n",
       "3  Journal of Communication   \n",
       "4  Journal of Communication   \n",
       "\n",
       "                                            issueURL     volumn    issue  \\\n",
       "0  https://academic.oup.com/joc/issue/72/3?browse...  Volume 72  Issue 3   \n",
       "1  https://academic.oup.com/joc/issue/72/3?browse...  Volume 72  Issue 3   \n",
       "2  https://academic.oup.com/joc/issue/72/3?browse...  Volume 72  Issue 3   \n",
       "3  https://academic.oup.com/joc/issue/72/3?browse...  Volume 72  Issue 3   \n",
       "4  https://academic.oup.com/joc/issue/72/3?browse...  Volume 72  Issue 3   \n",
       "\n",
       "                           issueText month  year  category  \\\n",
       "0  Issue 3, June 2022, Pages 297–449  June  2022  Articles   \n",
       "1  Issue 3, June 2022, Pages 297–449  June  2022  Articles   \n",
       "2  Issue 3, June 2022, Pages 297–449  June  2022  Articles   \n",
       "3  Issue 3, June 2022, Pages 297–449  June  2022  Articles   \n",
       "4  Issue 3, June 2022, Pages 297–449  June  2022  Articles   \n",
       "\n",
       "                                               title  \\\n",
       "0  The Gender Divide in Wikipedia: Quantifying an...   \n",
       "1  Mapping Exposure Diversity: The Divergent Effe...   \n",
       "2  Democratic Consequences of Incidental Exposure...   \n",
       "3  The Great and Powerful Dr. Oz? Alternative Hea...   \n",
       "4  A Methodological Framework for Analyzing the A...   \n",
       "\n",
       "                                                 url                  doi  \\\n",
       "0  https://academic.oup.com/joc/article/72/3/297/...  10.1093/joc/jqac004   \n",
       "1  https://academic.oup.com/joc/article/72/3/322/...  10.1093/joc/jqac009   \n",
       "2  https://academic.oup.com/joc/article/72/3/345/...  10.1093/joc/jqac008   \n",
       "3  https://academic.oup.com/joc/article/72/3/374/...  10.1093/joc/jqac011   \n",
       "4  https://academic.oup.com/joc/article/72/3/401/...  10.1093/joc/jqac013   \n",
       "\n",
       "     pages                                           abstract  \\\n",
       "0  297–321  Wikipedia has a well-known gender divide affec...   \n",
       "1  322–344  Diversity is a crucial precondition for a demo...   \n",
       "2  345–373  In the last two decades, communication researc...   \n",
       "3  374–400  Cardiothoracic surgeon Dr. Mehmet Oz, until re...   \n",
       "4  401–428  Media effects have been studied for decades. H...   \n",
       "\n",
       "   abstract_para_num  \n",
       "0                1.0  \n",
       "1                1.0  \n",
       "2                1.0  \n",
       "3                1.0  \n",
       "4                1.0  "
      ]
     },
     "execution_count": 28,
     "metadata": {},
     "output_type": "execute_result"
    }
   ],
   "source": [
    "df.head()"
   ]
  },
  {
   "cell_type": "code",
   "execution_count": 29,
   "id": "797a00c4",
   "metadata": {},
   "outputs": [],
   "source": [
    "df['sci_hub'] = [re.sub(r'^', 'https://sci-hub.se/', i) for i in df.doi]"
   ]
  },
  {
   "cell_type": "code",
   "execution_count": 30,
   "id": "2dc847e6",
   "metadata": {},
   "outputs": [
    {
     "data": {
      "text/plain": [
       "(7708, 15)"
      ]
     },
     "execution_count": 30,
     "metadata": {},
     "output_type": "execute_result"
    }
   ],
   "source": [
    "df.shape"
   ]
  },
  {
   "cell_type": "code",
   "execution_count": 31,
   "id": "c4f9c389",
   "metadata": {},
   "outputs": [],
   "source": [
    "cat = pd.read_csv('../../data/interim/cat_class_raw.csv')"
   ]
  },
  {
   "cell_type": "code",
   "execution_count": 32,
   "id": "864cf074",
   "metadata": {},
   "outputs": [],
   "source": [
    "to_exclude_cat = cat[cat.TO_EXCLUDE == True].cat"
   ]
  },
  {
   "cell_type": "code",
   "execution_count": 33,
   "id": "ffdc6ec6",
   "metadata": {},
   "outputs": [
    {
     "data": {
      "text/html": [
       "<div>\n",
       "<style scoped>\n",
       "    .dataframe tbody tr th:only-of-type {\n",
       "        vertical-align: middle;\n",
       "    }\n",
       "\n",
       "    .dataframe tbody tr th {\n",
       "        vertical-align: top;\n",
       "    }\n",
       "\n",
       "    .dataframe thead th {\n",
       "        text-align: right;\n",
       "    }\n",
       "</style>\n",
       "<table border=\"1\" class=\"dataframe\">\n",
       "  <thead>\n",
       "    <tr style=\"text-align: right;\">\n",
       "      <th></th>\n",
       "      <th>journal</th>\n",
       "      <th>issueURL</th>\n",
       "      <th>volumn</th>\n",
       "      <th>issue</th>\n",
       "      <th>issueText</th>\n",
       "      <th>month</th>\n",
       "      <th>year</th>\n",
       "      <th>category</th>\n",
       "      <th>title</th>\n",
       "      <th>url</th>\n",
       "      <th>doi</th>\n",
       "      <th>pages</th>\n",
       "      <th>abstract</th>\n",
       "      <th>abstract_para_num</th>\n",
       "      <th>sci_hub</th>\n",
       "    </tr>\n",
       "  </thead>\n",
       "  <tbody>\n",
       "    <tr>\n",
       "      <th>0</th>\n",
       "      <td>Journal of Communication</td>\n",
       "      <td>https://academic.oup.com/joc/issue/72/3?browse...</td>\n",
       "      <td>Volume 72</td>\n",
       "      <td>Issue 3</td>\n",
       "      <td>Issue 3, June 2022, Pages 297–449</td>\n",
       "      <td>June</td>\n",
       "      <td>2022</td>\n",
       "      <td>Articles</td>\n",
       "      <td>The Gender Divide in Wikipedia: Quantifying an...</td>\n",
       "      <td>https://academic.oup.com/joc/article/72/3/297/...</td>\n",
       "      <td>10.1093/joc/jqac004</td>\n",
       "      <td>297–321</td>\n",
       "      <td>Wikipedia has a well-known gender divide affec...</td>\n",
       "      <td>1.0</td>\n",
       "      <td>https://sci-hub.se/10.1093/joc/jqac004</td>\n",
       "    </tr>\n",
       "    <tr>\n",
       "      <th>1</th>\n",
       "      <td>Journal of Communication</td>\n",
       "      <td>https://academic.oup.com/joc/issue/72/3?browse...</td>\n",
       "      <td>Volume 72</td>\n",
       "      <td>Issue 3</td>\n",
       "      <td>Issue 3, June 2022, Pages 297–449</td>\n",
       "      <td>June</td>\n",
       "      <td>2022</td>\n",
       "      <td>Articles</td>\n",
       "      <td>Mapping Exposure Diversity: The Divergent Effe...</td>\n",
       "      <td>https://academic.oup.com/joc/article/72/3/322/...</td>\n",
       "      <td>10.1093/joc/jqac009</td>\n",
       "      <td>322–344</td>\n",
       "      <td>Diversity is a crucial precondition for a demo...</td>\n",
       "      <td>1.0</td>\n",
       "      <td>https://sci-hub.se/10.1093/joc/jqac009</td>\n",
       "    </tr>\n",
       "    <tr>\n",
       "      <th>2</th>\n",
       "      <td>Journal of Communication</td>\n",
       "      <td>https://academic.oup.com/joc/issue/72/3?browse...</td>\n",
       "      <td>Volume 72</td>\n",
       "      <td>Issue 3</td>\n",
       "      <td>Issue 3, June 2022, Pages 297–449</td>\n",
       "      <td>June</td>\n",
       "      <td>2022</td>\n",
       "      <td>Articles</td>\n",
       "      <td>Democratic Consequences of Incidental Exposure...</td>\n",
       "      <td>https://academic.oup.com/joc/article/72/3/345/...</td>\n",
       "      <td>10.1093/joc/jqac008</td>\n",
       "      <td>345–373</td>\n",
       "      <td>In the last two decades, communication researc...</td>\n",
       "      <td>1.0</td>\n",
       "      <td>https://sci-hub.se/10.1093/joc/jqac008</td>\n",
       "    </tr>\n",
       "    <tr>\n",
       "      <th>3</th>\n",
       "      <td>Journal of Communication</td>\n",
       "      <td>https://academic.oup.com/joc/issue/72/3?browse...</td>\n",
       "      <td>Volume 72</td>\n",
       "      <td>Issue 3</td>\n",
       "      <td>Issue 3, June 2022, Pages 297–449</td>\n",
       "      <td>June</td>\n",
       "      <td>2022</td>\n",
       "      <td>Articles</td>\n",
       "      <td>The Great and Powerful Dr. Oz? Alternative Hea...</td>\n",
       "      <td>https://academic.oup.com/joc/article/72/3/374/...</td>\n",
       "      <td>10.1093/joc/jqac011</td>\n",
       "      <td>374–400</td>\n",
       "      <td>Cardiothoracic surgeon Dr. Mehmet Oz, until re...</td>\n",
       "      <td>1.0</td>\n",
       "      <td>https://sci-hub.se/10.1093/joc/jqac011</td>\n",
       "    </tr>\n",
       "    <tr>\n",
       "      <th>4</th>\n",
       "      <td>Journal of Communication</td>\n",
       "      <td>https://academic.oup.com/joc/issue/72/3?browse...</td>\n",
       "      <td>Volume 72</td>\n",
       "      <td>Issue 3</td>\n",
       "      <td>Issue 3, June 2022, Pages 297–449</td>\n",
       "      <td>June</td>\n",
       "      <td>2022</td>\n",
       "      <td>Articles</td>\n",
       "      <td>A Methodological Framework for Analyzing the A...</td>\n",
       "      <td>https://academic.oup.com/joc/article/72/3/401/...</td>\n",
       "      <td>10.1093/joc/jqac013</td>\n",
       "      <td>401–428</td>\n",
       "      <td>Media effects have been studied for decades. H...</td>\n",
       "      <td>1.0</td>\n",
       "      <td>https://sci-hub.se/10.1093/joc/jqac013</td>\n",
       "    </tr>\n",
       "  </tbody>\n",
       "</table>\n",
       "</div>"
      ],
      "text/plain": [
       "                    journal  \\\n",
       "0  Journal of Communication   \n",
       "1  Journal of Communication   \n",
       "2  Journal of Communication   \n",
       "3  Journal of Communication   \n",
       "4  Journal of Communication   \n",
       "\n",
       "                                            issueURL     volumn    issue  \\\n",
       "0  https://academic.oup.com/joc/issue/72/3?browse...  Volume 72  Issue 3   \n",
       "1  https://academic.oup.com/joc/issue/72/3?browse...  Volume 72  Issue 3   \n",
       "2  https://academic.oup.com/joc/issue/72/3?browse...  Volume 72  Issue 3   \n",
       "3  https://academic.oup.com/joc/issue/72/3?browse...  Volume 72  Issue 3   \n",
       "4  https://academic.oup.com/joc/issue/72/3?browse...  Volume 72  Issue 3   \n",
       "\n",
       "                           issueText month  year  category  \\\n",
       "0  Issue 3, June 2022, Pages 297–449  June  2022  Articles   \n",
       "1  Issue 3, June 2022, Pages 297–449  June  2022  Articles   \n",
       "2  Issue 3, June 2022, Pages 297–449  June  2022  Articles   \n",
       "3  Issue 3, June 2022, Pages 297–449  June  2022  Articles   \n",
       "4  Issue 3, June 2022, Pages 297–449  June  2022  Articles   \n",
       "\n",
       "                                               title  \\\n",
       "0  The Gender Divide in Wikipedia: Quantifying an...   \n",
       "1  Mapping Exposure Diversity: The Divergent Effe...   \n",
       "2  Democratic Consequences of Incidental Exposure...   \n",
       "3  The Great and Powerful Dr. Oz? Alternative Hea...   \n",
       "4  A Methodological Framework for Analyzing the A...   \n",
       "\n",
       "                                                 url                  doi  \\\n",
       "0  https://academic.oup.com/joc/article/72/3/297/...  10.1093/joc/jqac004   \n",
       "1  https://academic.oup.com/joc/article/72/3/322/...  10.1093/joc/jqac009   \n",
       "2  https://academic.oup.com/joc/article/72/3/345/...  10.1093/joc/jqac008   \n",
       "3  https://academic.oup.com/joc/article/72/3/374/...  10.1093/joc/jqac011   \n",
       "4  https://academic.oup.com/joc/article/72/3/401/...  10.1093/joc/jqac013   \n",
       "\n",
       "     pages                                           abstract  \\\n",
       "0  297–321  Wikipedia has a well-known gender divide affec...   \n",
       "1  322–344  Diversity is a crucial precondition for a demo...   \n",
       "2  345–373  In the last two decades, communication researc...   \n",
       "3  374–400  Cardiothoracic surgeon Dr. Mehmet Oz, until re...   \n",
       "4  401–428  Media effects have been studied for decades. H...   \n",
       "\n",
       "   abstract_para_num                                 sci_hub  \n",
       "0                1.0  https://sci-hub.se/10.1093/joc/jqac004  \n",
       "1                1.0  https://sci-hub.se/10.1093/joc/jqac009  \n",
       "2                1.0  https://sci-hub.se/10.1093/joc/jqac008  \n",
       "3                1.0  https://sci-hub.se/10.1093/joc/jqac011  \n",
       "4                1.0  https://sci-hub.se/10.1093/joc/jqac013  "
      ]
     },
     "execution_count": 33,
     "metadata": {},
     "output_type": "execute_result"
    }
   ],
   "source": [
    "df_new = df[~df.category.isin(to_exclude_cat)]\n",
    "df_new.head()"
   ]
  },
  {
   "cell_type": "code",
   "execution_count": 34,
   "id": "6306e263",
   "metadata": {},
   "outputs": [],
   "source": [
    "shuffled = df_new.sample(frac=1, random_state = 200)\n",
    "shuffled['type'] = np.nan\n",
    "result = np.array_split(shuffled, 3)  "
   ]
  },
  {
   "cell_type": "code",
   "execution_count": 35,
   "id": "5c79dadd",
   "metadata": {},
   "outputs": [
    {
     "data": {
      "text/plain": [
       "Int64Index([2007, 3937, 5484, 1837, 2632, 2873, 7301, 1871, 5828, 7171,\n",
       "            ...\n",
       "            5897, 5684, 1165, 7401, 6953, 4636, 1200, 7336, 2103, 4897],\n",
       "           dtype='int64', length=2248)"
      ]
     },
     "execution_count": 35,
     "metadata": {},
     "output_type": "execute_result"
    }
   ],
   "source": [
    "result[0].index"
   ]
  },
  {
   "cell_type": "code",
   "execution_count": 36,
   "id": "08bcfa36",
   "metadata": {},
   "outputs": [
    {
     "data": {
      "text/plain": [
       "Int64Index([2898, 6499, 5156, 3941, 3856, 6439, 3083, 3489, 5610, 4885,\n",
       "            ...\n",
       "            5598, 6997, 4517, 2833, 7565, 3884, 1769, 4197, 7236, 1054],\n",
       "           dtype='int64', length=2248)"
      ]
     },
     "execution_count": 36,
     "metadata": {},
     "output_type": "execute_result"
    }
   ],
   "source": [
    "result[1].index"
   ]
  },
  {
   "cell_type": "code",
   "execution_count": 37,
   "id": "5917b9bc",
   "metadata": {},
   "outputs": [
    {
     "data": {
      "text/plain": [
       "Int64Index([3373, 2475, 3258, 2248, 2915, 6148, 3362, 5815, 5144, 3716,\n",
       "            ...\n",
       "            7625, 7423, 3844, 1179, 6740, 3496, 6881, 1114, 5505, 2328],\n",
       "           dtype='int64', length=2247)"
      ]
     },
     "execution_count": 37,
     "metadata": {},
     "output_type": "execute_result"
    }
   ],
   "source": [
    "result[2].index"
   ]
  },
  {
   "cell_type": "code",
   "execution_count": 38,
   "id": "ec56f5c6",
   "metadata": {},
   "outputs": [],
   "source": [
    "result[0].to_csv('../../data/interim/paper_classification_task/paper_cla_TASK_hongtao.csv', index = False)\n",
    "result[1].to_csv('../../data/interim/paper_classification_task/paper_cla_TASK_kristen.csv', index = False)\n",
    "result[2].to_csv('../../data/interim/paper_classification_task/paper_cla_TASK_jeff.csv', index = False)"
   ]
  }
 ],
 "metadata": {
  "kernelspec": {
   "display_name": "Python 3 (ipykernel)",
   "language": "python",
   "name": "python3"
  },
  "language_info": {
   "codemirror_mode": {
    "name": "ipython",
    "version": 3
   },
   "file_extension": ".py",
   "mimetype": "text/x-python",
   "name": "python",
   "nbconvert_exporter": "python",
   "pygments_lexer": "ipython3",
   "version": "3.8.13"
  }
 },
 "nbformat": 4,
 "nbformat_minor": 5
}
