{
 "cells": [
  {
   "cell_type": "markdown",
   "id": "03e000e2",
   "metadata": {},
   "source": [
    "## AIM\n",
    "\n",
    "With this notebook, I computed the final icr for paper classification. "
   ]
  },
  {
   "cell_type": "code",
   "execution_count": 9,
   "id": "c24597c1",
   "metadata": {},
   "outputs": [],
   "source": [
    "import pandas as pd\n",
    "import krippendorff\n",
    "import numpy as np"
   ]
  },
  {
   "cell_type": "code",
   "execution_count": 10,
   "id": "cde4ad58",
   "metadata": {},
   "outputs": [],
   "source": [
    "df = pd.read_csv('../../data/interim/icr/paper_classification_final_icr_raw.csv')\n",
    "df.replace(['R', 'M'], [0,1], inplace=True)"
   ]
  },
  {
   "cell_type": "code",
   "execution_count": 11,
   "id": "e03f5527",
   "metadata": {},
   "outputs": [],
   "source": [
    "hongtao = df.hongtao.tolist()\n",
    "kristen = df.kristen.tolist()\n",
    "jeff = df.jeff.tolist()"
   ]
  },
  {
   "cell_type": "code",
   "execution_count": 12,
   "id": "7f202b1c",
   "metadata": {},
   "outputs": [
    {
     "data": {
      "text/plain": [
       "(100, 100, 100)"
      ]
     },
     "execution_count": 12,
     "metadata": {},
     "output_type": "execute_result"
    }
   ],
   "source": [
    "len(hongtao), len(kristen), len(jeff)"
   ]
  },
  {
   "cell_type": "code",
   "execution_count": 13,
   "id": "c51f670b",
   "metadata": {},
   "outputs": [
    {
     "data": {
      "text/plain": [
       "0.7944389275074478"
      ]
     },
     "execution_count": 13,
     "metadata": {},
     "output_type": "execute_result"
    }
   ],
   "source": [
    "krippendorff.alpha(reliability_data=[hongtao, kristen, jeff],\n",
    "                   level_of_measurement = 'nominal'\n",
    "                  )"
   ]
  },
  {
   "cell_type": "code",
   "execution_count": 14,
   "id": "af2a97d3",
   "metadata": {},
   "outputs": [
    {
     "data": {
      "text/plain": [
       "array([0, 1])"
      ]
     },
     "execution_count": 14,
     "metadata": {},
     "output_type": "execute_result"
    }
   ],
   "source": [
    "np.unique(hongtao)"
   ]
  },
  {
   "cell_type": "code",
   "execution_count": 15,
   "id": "e4d94a8a",
   "metadata": {},
   "outputs": [],
   "source": [
    "df['Same'] = df.apply(lambda row: len(np.unique(row)) == 1, axis=1)"
   ]
  },
  {
   "cell_type": "code",
   "execution_count": 16,
   "id": "84e456f2",
   "metadata": {},
   "outputs": [],
   "source": [
    "df.replace([0,1], ['R', 'M'], inplace=True)\n",
    "df.to_csv('../../data/interim/icr/paper_classification_final_icr_agg_result.csv', index=True)"
   ]
  }
 ],
 "metadata": {
  "kernelspec": {
   "display_name": "Python 3 (ipykernel)",
   "language": "python",
   "name": "python3"
  },
  "language_info": {
   "codemirror_mode": {
    "name": "ipython",
    "version": 3
   },
   "file_extension": ".py",
   "mimetype": "text/x-python",
   "name": "python",
   "nbconvert_exporter": "python",
   "pygments_lexer": "ipython3",
   "version": "3.8.13"
  }
 },
 "nbformat": 4,
 "nbformat_minor": 5
}
