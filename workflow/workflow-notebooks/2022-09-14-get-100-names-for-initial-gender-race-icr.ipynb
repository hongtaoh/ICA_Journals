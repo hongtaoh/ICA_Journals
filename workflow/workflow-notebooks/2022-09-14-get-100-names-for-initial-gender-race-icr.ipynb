{
 "cells": [
  {
   "cell_type": "code",
   "execution_count": 10,
   "id": "90101f35",
   "metadata": {},
   "outputs": [],
   "source": [
    "import pandas as pd"
   ]
  },
  {
   "cell_type": "code",
   "execution_count": 11,
   "id": "49a07673",
   "metadata": {},
   "outputs": [
    {
     "data": {
      "text/plain": [
       "(11476, 39)"
      ]
     },
     "execution_count": 11,
     "metadata": {},
     "output_type": "execute_result"
    }
   ],
   "source": [
    "df = pd.read_csv('../../data/processed/research_author_with_pred.csv')\n",
    "df.shape"
   ]
  },
  {
   "cell_type": "code",
   "execution_count": 12,
   "id": "5355d9ca",
   "metadata": {},
   "outputs": [],
   "source": [
    "df['year'] = df['year'].astype(int)"
   ]
  },
  {
   "cell_type": "code",
   "execution_count": 13,
   "id": "7ea57a23",
   "metadata": {},
   "outputs": [
    {
     "data": {
      "text/plain": [
       "(7133, 39)"
      ]
     },
     "execution_count": 13,
     "metadata": {},
     "output_type": "execute_result"
    }
   ],
   "source": [
    "df[df.year >= 2000].shape"
   ]
  },
  {
   "cell_type": "code",
   "execution_count": 14,
   "id": "b458d7e8",
   "metadata": {},
   "outputs": [],
   "source": [
    "df['gender_prediction'] = ''\n",
    "df['race_prediction'] = ''"
   ]
  },
  {
   "cell_type": "code",
   "execution_count": 15,
   "id": "166be1ce",
   "metadata": {},
   "outputs": [],
   "source": [
    "random_100 = df.sample(100, random_state = 2202)"
   ]
  },
  {
   "cell_type": "code",
   "execution_count": 16,
   "id": "560a5724",
   "metadata": {},
   "outputs": [],
   "source": [
    "random_100.to_csv('../../data/interim/icr/2022-09-14-race-gender-initial-icr-100names.csv', index=False)"
   ]
  },
  {
   "cell_type": "code",
   "execution_count": 17,
   "id": "6e563cf6",
   "metadata": {},
   "outputs": [
    {
     "data": {
      "text/plain": [
       "(100, 41)"
      ]
     },
     "execution_count": 17,
     "metadata": {},
     "output_type": "execute_result"
    }
   ],
   "source": [
    "random_100.shape"
   ]
  },
  {
   "cell_type": "code",
   "execution_count": 18,
   "id": "003dda3b",
   "metadata": {},
   "outputs": [
    {
     "data": {
      "text/plain": [
       "Int64Index([ 7517,  5262,  5067,  2916,  6409,  5640,  2124, 10905,  4154,\n",
       "            11070,  7256, 10305,  9036,  5976,  2328, 10791,  1686,  3391,\n",
       "             4907,  1561,   401,  3603, 10148,  9774,  2289,  1065,  6610,\n",
       "             3988,  9632,  4438,  9846,  7816,  8197,  5868,  2940,  9868,\n",
       "             4919,  4922,  8908,   481,  5600,  4132,  9267,  1230,  1312,\n",
       "             9613, 10837, 11149,  5607, 11230,   344,  2032,  7558,  3358,\n",
       "             7997,  8687,  6093,  3830,  2780,  6414,  3901,  3337,  8781,\n",
       "             1419,  6170,  2128,  2209, 10242,  2506, 10478,  3423,  5613,\n",
       "              245,  8021,  8163,  4738,   830,  5451,  6894,  7917,  2975,\n",
       "             3506,  4152,  3204,  5725,  3348,   581,  8281,  8869,  6268,\n",
       "             4121,  8770, 10785, 11085,  5946,  7314,  8269,  3413,  8397,\n",
       "            10967],\n",
       "           dtype='int64')"
      ]
     },
     "execution_count": 18,
     "metadata": {},
     "output_type": "execute_result"
    }
   ],
   "source": [
    "random_100.index"
   ]
  },
  {
   "cell_type": "markdown",
   "id": "e8415663",
   "metadata": {},
   "source": [
    "Int64Index([ 7517,  5262,  5067,  2916,  6409,  5640,  2124, 10905,  4154,\n",
    "            11070,  7256, 10305,  9036,  5976,  2328, 10791,  1686,  3391,\n",
    "             4907,  1561,   401,  3603, 10148,  9774,  2289,  1065,  6610,\n",
    "             3988,  9632,  4438,  9846,  7816,  8197,  5868,  2940,  9868,\n",
    "             4919,  4922,  8908,   481,  5600,  4132,  9267,  1230,  1312,\n",
    "             9613, 10837, 11149,  5607, 11230,   344,  2032,  7558,  3358,\n",
    "             7997,  8687,  6093,  3830,  2780,  6414,  3901,  3337,  8781,\n",
    "             1419,  6170,  2128,  2209, 10242,  2506, 10478,  3423,  5613,\n",
    "              245,  8021,  8163,  4738,   830,  5451,  6894,  7917,  2975,\n",
    "             3506,  4152,  3204,  5725,  3348,   581,  8281,  8869,  6268,\n",
    "             4121,  8770, 10785, 11085,  5946,  7314,  8269,  3413,  8397,\n",
    "            10967],\n",
    "           dtype='int64')"
   ]
  },
  {
   "cell_type": "code",
   "execution_count": null,
   "id": "b5ebea8a",
   "metadata": {},
   "outputs": [],
   "source": []
  }
 ],
 "metadata": {
  "kernelspec": {
   "display_name": "Python 3 (ipykernel)",
   "language": "python",
   "name": "python3"
  },
  "language_info": {
   "codemirror_mode": {
    "name": "ipython",
    "version": 3
   },
   "file_extension": ".py",
   "mimetype": "text/x-python",
   "name": "python",
   "nbconvert_exporter": "python",
   "pygments_lexer": "ipython3",
   "version": "3.9.15"
  }
 },
 "nbformat": 4,
 "nbformat_minor": 5
}
