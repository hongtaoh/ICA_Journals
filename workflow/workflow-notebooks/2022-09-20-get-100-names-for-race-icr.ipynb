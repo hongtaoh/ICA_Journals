{
 "cells": [
  {
   "cell_type": "markdown",
   "id": "df28d56d",
   "metadata": {},
   "source": [
    "## AIM\n",
    "\n",
    "The initial gender ICR is good but we need to redo the race icr. With this notebook, I want to regenerate 100 names for race icr. "
   ]
  },
  {
   "cell_type": "code",
   "execution_count": 12,
   "id": "90101f35",
   "metadata": {},
   "outputs": [],
   "source": [
    "import pandas as pd"
   ]
  },
  {
   "cell_type": "code",
   "execution_count": 13,
   "id": "49a07673",
   "metadata": {},
   "outputs": [
    {
     "data": {
      "text/plain": [
       "(11304, 39)"
      ]
     },
     "execution_count": 13,
     "metadata": {},
     "output_type": "execute_result"
    }
   ],
   "source": [
    "df = pd.read_csv('../../data/processed/authors_to_study.csv')\n",
    "df.shape"
   ]
  },
  {
   "cell_type": "code",
   "execution_count": 14,
   "id": "5355d9ca",
   "metadata": {},
   "outputs": [],
   "source": [
    "df['year'] = df['year'].astype(int)"
   ]
  },
  {
   "cell_type": "code",
   "execution_count": 15,
   "id": "7ea57a23",
   "metadata": {},
   "outputs": [
    {
     "data": {
      "text/plain": [
       "(7083, 39)"
      ]
     },
     "execution_count": 15,
     "metadata": {},
     "output_type": "execute_result"
    }
   ],
   "source": [
    "df[df.year >= 2000].shape"
   ]
  },
  {
   "cell_type": "code",
   "execution_count": 16,
   "id": "b458d7e8",
   "metadata": {},
   "outputs": [],
   "source": [
    "df['race_prediction'] = ''"
   ]
  },
  {
   "cell_type": "code",
   "execution_count": 17,
   "id": "166be1ce",
   "metadata": {},
   "outputs": [],
   "source": [
    "random_100 = df.sample(100, random_state = 300)"
   ]
  },
  {
   "cell_type": "code",
   "execution_count": 18,
   "id": "560a5724",
   "metadata": {},
   "outputs": [],
   "source": [
    "random_100.to_csv('../../data/interim/icr/2022-09-20-race-initial-icr-100names.csv', index=False)"
   ]
  },
  {
   "cell_type": "code",
   "execution_count": 19,
   "id": "6e563cf6",
   "metadata": {},
   "outputs": [
    {
     "data": {
      "text/plain": [
       "(100, 40)"
      ]
     },
     "execution_count": 19,
     "metadata": {},
     "output_type": "execute_result"
    }
   ],
   "source": [
    "random_100.shape"
   ]
  },
  {
   "cell_type": "code",
   "execution_count": 20,
   "id": "003dda3b",
   "metadata": {},
   "outputs": [
    {
     "data": {
      "text/plain": [
       "Int64Index([ 8952, 10992,  4855,  9394,  1950,  1545,  2873,  6529, 10918,\n",
       "             1116,  3459,  7720,  5313,  6801,  4105, 10531,  2590,  2422,\n",
       "             7526,  3189,  1160,   119, 11078,  3612,  1490,   809,  5637,\n",
       "             8176,  3776,   514,  2147,  6188,  5968, 10092,  6282,  8793,\n",
       "             9076,  3047,  5411, 10850, 11106,  9032,  9254,  2040,  4751,\n",
       "             9197,  9109,  3138,  6772,  3544,  5474,  7812, 10046,  8380,\n",
       "             9449,   321,  6340, 11115,   318,  7627, 11011,  7309,   458,\n",
       "             6605,  8914,  6341,  7974,  6575,  4847, 10625,  2803,  8553,\n",
       "             6003,  3558,  4206,  1875,   649,  5427,  1629,  7150,  1625,\n",
       "              894,    36,  8873,  7115,  4087,  6195,  5337,  6761,  9676,\n",
       "             8261,  9081,  6042,  1613,  2198,  8658,  3856,  9642,  5290,\n",
       "              176],\n",
       "           dtype='int64')"
      ]
     },
     "execution_count": 20,
     "metadata": {},
     "output_type": "execute_result"
    }
   ],
   "source": [
    "random_100.index"
   ]
  },
  {
   "cell_type": "markdown",
   "id": "e8415663",
   "metadata": {},
   "source": [
    "Int64Index([ 8952, 10992,  4855,  9394,  1950,  1545,  2873,  6529, 10918,\n",
    "             1116,  3459,  7720,  5313,  6801,  4105, 10531,  2590,  2422,\n",
    "             7526,  3189,  1160,   119, 11078,  3612,  1490,   809,  5637,\n",
    "             8176,  3776,   514,  2147,  6188,  5968, 10092,  6282,  8793,\n",
    "             9076,  3047,  5411, 10850, 11106,  9032,  9254,  2040,  4751,\n",
    "             9197,  9109,  3138,  6772,  3544,  5474,  7812, 10046,  8380,\n",
    "             9449,   321,  6340, 11115,   318,  7627, 11011,  7309,   458,\n",
    "             6605,  8914,  6341,  7974,  6575,  4847, 10625,  2803,  8553,\n",
    "             6003,  3558,  4206,  1875,   649,  5427,  1629,  7150,  1625,\n",
    "              894,    36,  8873,  7115,  4087,  6195,  5337,  6761,  9676,\n",
    "             8261,  9081,  6042,  1613,  2198,  8658,  3856,  9642,  5290,\n",
    "              176],\n",
    "           dtype='int64')"
   ]
  }
 ],
 "metadata": {
  "kernelspec": {
   "display_name": "Python 3 (ipykernel)",
   "language": "python",
   "name": "python3"
  },
  "language_info": {
   "codemirror_mode": {
    "name": "ipython",
    "version": 3
   },
   "file_extension": ".py",
   "mimetype": "text/x-python",
   "name": "python",
   "nbconvert_exporter": "python",
   "pygments_lexer": "ipython3",
   "version": "3.8.13"
  }
 },
 "nbformat": 4,
 "nbformat_minor": 5
}
