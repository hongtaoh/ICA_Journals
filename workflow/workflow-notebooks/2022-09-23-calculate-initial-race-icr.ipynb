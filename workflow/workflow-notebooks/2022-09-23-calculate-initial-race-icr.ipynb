{
 "cells": [
  {
   "cell_type": "markdown",
   "id": "f7b9c5fd",
   "metadata": {},
   "source": [
    "## AIM\n",
    "\n",
    "With this notebook, I want to check the initial ICR for [race](https://docs.google.com/spreadsheets/d/1Fe_w078ZxqOV8HxmjuqJav5ff-PM4bElJr9CgSwZHHw/edit#gid=2069713019). "
   ]
  },
  {
   "cell_type": "code",
   "execution_count": 33,
   "id": "c24597c1",
   "metadata": {},
   "outputs": [],
   "source": [
    "import pandas as pd\n",
    "import krippendorff\n",
    "import numpy as np"
   ]
  },
  {
   "cell_type": "code",
   "execution_count": 34,
   "id": "cde4ad58",
   "metadata": {},
   "outputs": [],
   "source": [
    "df = pd.read_csv('../data/race-icr-redo-2022-09-23.csv')"
   ]
  },
  {
   "cell_type": "code",
   "execution_count": 35,
   "id": "6b2cde9a",
   "metadata": {},
   "outputs": [
    {
     "data": {
      "text/plain": [
       "haley       [3, 0, 2, 1, 4]\n",
       "michelle    [3, 0, 2, 1, 4]\n",
       "jeff        [3, 0, 2, 5, 1]\n",
       "jaemin      [3, 0, 2, 1, 4]\n",
       "jongmin     [3, 0, 2, 1, 4]\n",
       "matthew        [3, 0, 2, 1]\n",
       "dtype: object"
      ]
     },
     "execution_count": 35,
     "metadata": {},
     "output_type": "execute_result"
    }
   ],
   "source": [
    "df.apply(pd.unique)"
   ]
  },
  {
   "cell_type": "code",
   "execution_count": 36,
   "id": "e03f5527",
   "metadata": {},
   "outputs": [],
   "source": [
    "haley = df.haley.tolist()\n",
    "michelle = df.michelle.tolist()\n",
    "jeff = df.jeff.tolist()\n",
    "jaemin = df.jaemin.tolist()\n",
    "matthew = df.matthew.tolist()\n",
    "jongmin = df.jongmin.tolist()"
   ]
  },
  {
   "cell_type": "code",
   "execution_count": 37,
   "id": "7f202b1c",
   "metadata": {},
   "outputs": [
    {
     "data": {
      "text/plain": [
       "(100, 100, 100, 100, 100, 100)"
      ]
     },
     "execution_count": 37,
     "metadata": {},
     "output_type": "execute_result"
    }
   ],
   "source": [
    "len(haley), len(michelle), len(jeff), len(jaemin), len(matthew), len(jongmin)"
   ]
  },
  {
   "cell_type": "code",
   "execution_count": 38,
   "id": "c51f670b",
   "metadata": {},
   "outputs": [
    {
     "data": {
      "text/plain": [
       "0.9099318662385465"
      ]
     },
     "execution_count": 38,
     "metadata": {},
     "output_type": "execute_result"
    }
   ],
   "source": [
    "krippendorff.alpha(reliability_data=[haley, michelle, jeff, jaemin, matthew, jongmin],\n",
    "                   level_of_measurement = 'nominal'\n",
    "                  )"
   ]
  },
  {
   "cell_type": "code",
   "execution_count": 39,
   "id": "e4d94a8a",
   "metadata": {},
   "outputs": [
    {
     "data": {
      "text/html": [
       "<div>\n",
       "<style scoped>\n",
       "    .dataframe tbody tr th:only-of-type {\n",
       "        vertical-align: middle;\n",
       "    }\n",
       "\n",
       "    .dataframe tbody tr th {\n",
       "        vertical-align: top;\n",
       "    }\n",
       "\n",
       "    .dataframe thead th {\n",
       "        text-align: right;\n",
       "    }\n",
       "</style>\n",
       "<table border=\"1\" class=\"dataframe\">\n",
       "  <thead>\n",
       "    <tr style=\"text-align: right;\">\n",
       "      <th></th>\n",
       "      <th>haley</th>\n",
       "      <th>michelle</th>\n",
       "      <th>jeff</th>\n",
       "      <th>jaemin</th>\n",
       "      <th>jongmin</th>\n",
       "      <th>matthew</th>\n",
       "      <th>Same</th>\n",
       "    </tr>\n",
       "  </thead>\n",
       "  <tbody>\n",
       "    <tr>\n",
       "      <th>0</th>\n",
       "      <td>3</td>\n",
       "      <td>3</td>\n",
       "      <td>3</td>\n",
       "      <td>3</td>\n",
       "      <td>3</td>\n",
       "      <td>3</td>\n",
       "      <td>True</td>\n",
       "    </tr>\n",
       "    <tr>\n",
       "      <th>1</th>\n",
       "      <td>0</td>\n",
       "      <td>0</td>\n",
       "      <td>0</td>\n",
       "      <td>0</td>\n",
       "      <td>0</td>\n",
       "      <td>0</td>\n",
       "      <td>True</td>\n",
       "    </tr>\n",
       "    <tr>\n",
       "      <th>2</th>\n",
       "      <td>0</td>\n",
       "      <td>0</td>\n",
       "      <td>0</td>\n",
       "      <td>0</td>\n",
       "      <td>0</td>\n",
       "      <td>0</td>\n",
       "      <td>True</td>\n",
       "    </tr>\n",
       "    <tr>\n",
       "      <th>3</th>\n",
       "      <td>0</td>\n",
       "      <td>0</td>\n",
       "      <td>0</td>\n",
       "      <td>0</td>\n",
       "      <td>0</td>\n",
       "      <td>0</td>\n",
       "      <td>True</td>\n",
       "    </tr>\n",
       "    <tr>\n",
       "      <th>4</th>\n",
       "      <td>0</td>\n",
       "      <td>0</td>\n",
       "      <td>0</td>\n",
       "      <td>0</td>\n",
       "      <td>0</td>\n",
       "      <td>2</td>\n",
       "      <td>False</td>\n",
       "    </tr>\n",
       "    <tr>\n",
       "      <th>...</th>\n",
       "      <td>...</td>\n",
       "      <td>...</td>\n",
       "      <td>...</td>\n",
       "      <td>...</td>\n",
       "      <td>...</td>\n",
       "      <td>...</td>\n",
       "      <td>...</td>\n",
       "    </tr>\n",
       "    <tr>\n",
       "      <th>95</th>\n",
       "      <td>4</td>\n",
       "      <td>4</td>\n",
       "      <td>0</td>\n",
       "      <td>4</td>\n",
       "      <td>4</td>\n",
       "      <td>2</td>\n",
       "      <td>False</td>\n",
       "    </tr>\n",
       "    <tr>\n",
       "      <th>96</th>\n",
       "      <td>0</td>\n",
       "      <td>0</td>\n",
       "      <td>0</td>\n",
       "      <td>0</td>\n",
       "      <td>0</td>\n",
       "      <td>0</td>\n",
       "      <td>True</td>\n",
       "    </tr>\n",
       "    <tr>\n",
       "      <th>97</th>\n",
       "      <td>0</td>\n",
       "      <td>0</td>\n",
       "      <td>0</td>\n",
       "      <td>0</td>\n",
       "      <td>0</td>\n",
       "      <td>0</td>\n",
       "      <td>True</td>\n",
       "    </tr>\n",
       "    <tr>\n",
       "      <th>98</th>\n",
       "      <td>0</td>\n",
       "      <td>0</td>\n",
       "      <td>0</td>\n",
       "      <td>0</td>\n",
       "      <td>0</td>\n",
       "      <td>0</td>\n",
       "      <td>True</td>\n",
       "    </tr>\n",
       "    <tr>\n",
       "      <th>99</th>\n",
       "      <td>0</td>\n",
       "      <td>0</td>\n",
       "      <td>0</td>\n",
       "      <td>0</td>\n",
       "      <td>0</td>\n",
       "      <td>0</td>\n",
       "      <td>True</td>\n",
       "    </tr>\n",
       "  </tbody>\n",
       "</table>\n",
       "<p>100 rows × 7 columns</p>\n",
       "</div>"
      ],
      "text/plain": [
       "    haley  michelle  jeff  jaemin  jongmin  matthew   Same\n",
       "0       3         3     3       3        3        3   True\n",
       "1       0         0     0       0        0        0   True\n",
       "2       0         0     0       0        0        0   True\n",
       "3       0         0     0       0        0        0   True\n",
       "4       0         0     0       0        0        2  False\n",
       "..    ...       ...   ...     ...      ...      ...    ...\n",
       "95      4         4     0       4        4        2  False\n",
       "96      0         0     0       0        0        0   True\n",
       "97      0         0     0       0        0        0   True\n",
       "98      0         0     0       0        0        0   True\n",
       "99      0         0     0       0        0        0   True\n",
       "\n",
       "[100 rows x 7 columns]"
      ]
     },
     "execution_count": 39,
     "metadata": {},
     "output_type": "execute_result"
    }
   ],
   "source": [
    "df['Same'] = df.apply(lambda row: len(np.unique(row)) == 1, axis=1)\n",
    "df"
   ]
  },
  {
   "cell_type": "code",
   "execution_count": 40,
   "id": "84e456f2",
   "metadata": {},
   "outputs": [],
   "source": [
    "df.to_csv('../data/initial_race_irc_agg_results_2022-09-23.csv', index=True)"
   ]
  }
 ],
 "metadata": {
  "kernelspec": {
   "display_name": "Python 3 (ipykernel)",
   "language": "python",
   "name": "python3"
  },
  "language_info": {
   "codemirror_mode": {
    "name": "ipython",
    "version": 3
   },
   "file_extension": ".py",
   "mimetype": "text/x-python",
   "name": "python",
   "nbconvert_exporter": "python",
   "pygments_lexer": "ipython3",
   "version": "3.8.13"
  }
 },
 "nbformat": 4,
 "nbformat_minor": 5
}
