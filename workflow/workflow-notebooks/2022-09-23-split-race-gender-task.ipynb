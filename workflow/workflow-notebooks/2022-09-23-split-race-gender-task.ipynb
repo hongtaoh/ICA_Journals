{
 "cells": [
  {
   "cell_type": "markdown",
   "id": "e99bc1c5",
   "metadata": {},
   "source": [
    "## Aim\n",
    "\n",
    "In this notebook, I evenly and randomly splited the race and gender coding task. "
   ]
  },
  {
   "cell_type": "code",
   "execution_count": 16,
   "id": "aa1598d3",
   "metadata": {},
   "outputs": [],
   "source": [
    "import pandas as pd\n",
    "import numpy as np"
   ]
  },
  {
   "cell_type": "code",
   "execution_count": 17,
   "id": "2fe841c8",
   "metadata": {},
   "outputs": [],
   "source": [
    "df = pd.read_csv('../../data/processed/authors_to_study.csv')\n",
    "df['gender_prediction'] = np.nan\n",
    "df['race_prediction'] = np.nan"
   ]
  },
  {
   "cell_type": "code",
   "execution_count": 18,
   "id": "271e9479",
   "metadata": {},
   "outputs": [
    {
     "data": {
      "text/plain": [
       "(11304, 41)"
      ]
     },
     "execution_count": 18,
     "metadata": {},
     "output_type": "execute_result"
    }
   ],
   "source": [
    "df.shape"
   ]
  },
  {
   "cell_type": "markdown",
   "id": "45573dbb",
   "metadata": {},
   "source": [
    "### To check the completedness of names"
   ]
  },
  {
   "cell_type": "code",
   "execution_count": 19,
   "id": "408f51f4",
   "metadata": {},
   "outputs": [
    {
     "data": {
      "text/html": [
       "<div>\n",
       "<style scoped>\n",
       "    .dataframe tbody tr th:only-of-type {\n",
       "        vertical-align: middle;\n",
       "    }\n",
       "\n",
       "    .dataframe tbody tr th {\n",
       "        vertical-align: top;\n",
       "    }\n",
       "\n",
       "    .dataframe thead th {\n",
       "        text-align: right;\n",
       "    }\n",
       "</style>\n",
       "<table border=\"1\" class=\"dataframe\">\n",
       "  <thead>\n",
       "    <tr style=\"text-align: right;\">\n",
       "      <th></th>\n",
       "      <th>authorID</th>\n",
       "      <th>doi</th>\n",
       "      <th>url</th>\n",
       "      <th>year</th>\n",
       "      <th>title</th>\n",
       "      <th>journal</th>\n",
       "      <th>numberOfAuthors</th>\n",
       "      <th>authorPosition</th>\n",
       "      <th>authorFullName</th>\n",
       "      <th>firstName</th>\n",
       "      <th>...</th>\n",
       "      <th>raceSecondHighest</th>\n",
       "      <th>raceDiff</th>\n",
       "      <th>affProcessed</th>\n",
       "      <th>affiliation.2</th>\n",
       "      <th>ROR_AFFNAME</th>\n",
       "      <th>matchMethod</th>\n",
       "      <th>ROR_ID</th>\n",
       "      <th>type</th>\n",
       "      <th>gender_prediction</th>\n",
       "      <th>race_prediction</th>\n",
       "    </tr>\n",
       "  </thead>\n",
       "  <tbody>\n",
       "  </tbody>\n",
       "</table>\n",
       "<p>0 rows × 41 columns</p>\n",
       "</div>"
      ],
      "text/plain": [
       "Empty DataFrame\n",
       "Columns: [authorID, doi, url, year, title, journal, numberOfAuthors, authorPosition, authorFullName, firstName, lastName, affiliation, gscholarLink, googleSearch, genderize, genderize_prob, genderize_basedon, genderAccuracy, authorFullName.1, firstName.1, lastName.1, affiliation.1, gscholarLink.1, googleSearch.1, race, racePredAccuracy, api, black, hispanic, white, raceHighest, raceSecondHighest, raceDiff, affProcessed, affiliation.2, ROR_AFFNAME, matchMethod, ROR_ID, type, gender_prediction, race_prediction]\n",
       "Index: []\n",
       "\n",
       "[0 rows x 41 columns]"
      ]
     },
     "execution_count": 19,
     "metadata": {},
     "output_type": "execute_result"
    }
   ],
   "source": [
    "df[df['authorFullName'].isnull()]"
   ]
  },
  {
   "cell_type": "code",
   "execution_count": 20,
   "id": "1f85c51f",
   "metadata": {},
   "outputs": [
    {
     "data": {
      "text/html": [
       "<div>\n",
       "<style scoped>\n",
       "    .dataframe tbody tr th:only-of-type {\n",
       "        vertical-align: middle;\n",
       "    }\n",
       "\n",
       "    .dataframe tbody tr th {\n",
       "        vertical-align: top;\n",
       "    }\n",
       "\n",
       "    .dataframe thead th {\n",
       "        text-align: right;\n",
       "    }\n",
       "</style>\n",
       "<table border=\"1\" class=\"dataframe\">\n",
       "  <thead>\n",
       "    <tr style=\"text-align: right;\">\n",
       "      <th></th>\n",
       "      <th>authorID</th>\n",
       "      <th>doi</th>\n",
       "      <th>url</th>\n",
       "      <th>year</th>\n",
       "      <th>title</th>\n",
       "      <th>journal</th>\n",
       "      <th>numberOfAuthors</th>\n",
       "      <th>authorPosition</th>\n",
       "      <th>authorFullName</th>\n",
       "      <th>firstName</th>\n",
       "      <th>...</th>\n",
       "      <th>raceSecondHighest</th>\n",
       "      <th>raceDiff</th>\n",
       "      <th>affProcessed</th>\n",
       "      <th>affiliation.2</th>\n",
       "      <th>ROR_AFFNAME</th>\n",
       "      <th>matchMethod</th>\n",
       "      <th>ROR_ID</th>\n",
       "      <th>type</th>\n",
       "      <th>gender_prediction</th>\n",
       "      <th>race_prediction</th>\n",
       "    </tr>\n",
       "  </thead>\n",
       "  <tbody>\n",
       "    <tr>\n",
       "      <th>3612</th>\n",
       "      <td>10.1111/j.1460-2466.1980.tb02015.x+2.0</td>\n",
       "      <td>10.1111/j.1460-2466.1980.tb02015.x</td>\n",
       "      <td>https://academic.oup.com/joc/article/30/4/50/4...</td>\n",
       "      <td>1980</td>\n",
       "      <td>Programming for Development in Indonesia</td>\n",
       "      <td>Journal of Communication</td>\n",
       "      <td>2.0</td>\n",
       "      <td>2.0</td>\n",
       "      <td>Alfian</td>\n",
       "      <td>NaN</td>\n",
       "      <td>...</td>\n",
       "      <td>0.220853</td>\n",
       "      <td>0.463161</td>\n",
       "      <td>national institute of economic and social rese...</td>\n",
       "      <td>2 National Institute of Economic and Social Re...</td>\n",
       "      <td>National Institute of Economic and Social Rese...</td>\n",
       "      <td>Exact</td>\n",
       "      <td>https://ror.org/048m81442</td>\n",
       "      <td>R</td>\n",
       "      <td>NaN</td>\n",
       "      <td>NaN</td>\n",
       "    </tr>\n",
       "  </tbody>\n",
       "</table>\n",
       "<p>1 rows × 41 columns</p>\n",
       "</div>"
      ],
      "text/plain": [
       "                                    authorID  \\\n",
       "3612  10.1111/j.1460-2466.1980.tb02015.x+2.0   \n",
       "\n",
       "                                     doi  \\\n",
       "3612  10.1111/j.1460-2466.1980.tb02015.x   \n",
       "\n",
       "                                                    url  year  \\\n",
       "3612  https://academic.oup.com/joc/article/30/4/50/4...  1980   \n",
       "\n",
       "                                         title                   journal  \\\n",
       "3612  Programming for Development in Indonesia  Journal of Communication   \n",
       "\n",
       "      numberOfAuthors  authorPosition authorFullName firstName  ...  \\\n",
       "3612              2.0             2.0         Alfian       NaN  ...   \n",
       "\n",
       "     raceSecondHighest  raceDiff  \\\n",
       "3612          0.220853  0.463161   \n",
       "\n",
       "                                           affProcessed  \\\n",
       "3612  national institute of economic and social rese...   \n",
       "\n",
       "                                          affiliation.2  \\\n",
       "3612  2 National Institute of Economic and Social Re...   \n",
       "\n",
       "                                            ROR_AFFNAME  matchMethod  \\\n",
       "3612  National Institute of Economic and Social Rese...        Exact   \n",
       "\n",
       "                         ROR_ID type gender_prediction race_prediction  \n",
       "3612  https://ror.org/048m81442    R               NaN             NaN  \n",
       "\n",
       "[1 rows x 41 columns]"
      ]
     },
     "execution_count": 20,
     "metadata": {},
     "output_type": "execute_result"
    }
   ],
   "source": [
    "df[df['firstName'].isnull()]"
   ]
  },
  {
   "cell_type": "code",
   "execution_count": 21,
   "id": "71fb5185",
   "metadata": {},
   "outputs": [
    {
     "data": {
      "text/html": [
       "<div>\n",
       "<style scoped>\n",
       "    .dataframe tbody tr th:only-of-type {\n",
       "        vertical-align: middle;\n",
       "    }\n",
       "\n",
       "    .dataframe tbody tr th {\n",
       "        vertical-align: top;\n",
       "    }\n",
       "\n",
       "    .dataframe thead th {\n",
       "        text-align: right;\n",
       "    }\n",
       "</style>\n",
       "<table border=\"1\" class=\"dataframe\">\n",
       "  <thead>\n",
       "    <tr style=\"text-align: right;\">\n",
       "      <th></th>\n",
       "      <th>authorID</th>\n",
       "      <th>doi</th>\n",
       "      <th>url</th>\n",
       "      <th>year</th>\n",
       "      <th>title</th>\n",
       "      <th>journal</th>\n",
       "      <th>numberOfAuthors</th>\n",
       "      <th>authorPosition</th>\n",
       "      <th>authorFullName</th>\n",
       "      <th>firstName</th>\n",
       "      <th>...</th>\n",
       "      <th>raceSecondHighest</th>\n",
       "      <th>raceDiff</th>\n",
       "      <th>affProcessed</th>\n",
       "      <th>affiliation.2</th>\n",
       "      <th>ROR_AFFNAME</th>\n",
       "      <th>matchMethod</th>\n",
       "      <th>ROR_ID</th>\n",
       "      <th>type</th>\n",
       "      <th>gender_prediction</th>\n",
       "      <th>race_prediction</th>\n",
       "    </tr>\n",
       "  </thead>\n",
       "  <tbody>\n",
       "  </tbody>\n",
       "</table>\n",
       "<p>0 rows × 41 columns</p>\n",
       "</div>"
      ],
      "text/plain": [
       "Empty DataFrame\n",
       "Columns: [authorID, doi, url, year, title, journal, numberOfAuthors, authorPosition, authorFullName, firstName, lastName, affiliation, gscholarLink, googleSearch, genderize, genderize_prob, genderize_basedon, genderAccuracy, authorFullName.1, firstName.1, lastName.1, affiliation.1, gscholarLink.1, googleSearch.1, race, racePredAccuracy, api, black, hispanic, white, raceHighest, raceSecondHighest, raceDiff, affProcessed, affiliation.2, ROR_AFFNAME, matchMethod, ROR_ID, type, gender_prediction, race_prediction]\n",
       "Index: []\n",
       "\n",
       "[0 rows x 41 columns]"
      ]
     },
     "execution_count": 21,
     "metadata": {},
     "output_type": "execute_result"
    }
   ],
   "source": [
    "df[df['lastName'].isnull()]"
   ]
  },
  {
   "cell_type": "code",
   "execution_count": 22,
   "id": "926840a6",
   "metadata": {},
   "outputs": [
    {
     "data": {
      "text/html": [
       "<div>\n",
       "<style scoped>\n",
       "    .dataframe tbody tr th:only-of-type {\n",
       "        vertical-align: middle;\n",
       "    }\n",
       "\n",
       "    .dataframe tbody tr th {\n",
       "        vertical-align: top;\n",
       "    }\n",
       "\n",
       "    .dataframe thead th {\n",
       "        text-align: right;\n",
       "    }\n",
       "</style>\n",
       "<table border=\"1\" class=\"dataframe\">\n",
       "  <thead>\n",
       "    <tr style=\"text-align: right;\">\n",
       "      <th></th>\n",
       "      <th>authorID</th>\n",
       "      <th>doi</th>\n",
       "      <th>url</th>\n",
       "      <th>year</th>\n",
       "      <th>title</th>\n",
       "      <th>journal</th>\n",
       "      <th>numberOfAuthors</th>\n",
       "      <th>authorPosition</th>\n",
       "      <th>authorFullName</th>\n",
       "      <th>firstName</th>\n",
       "      <th>...</th>\n",
       "      <th>raceSecondHighest</th>\n",
       "      <th>raceDiff</th>\n",
       "      <th>affProcessed</th>\n",
       "      <th>affiliation.2</th>\n",
       "      <th>ROR_AFFNAME</th>\n",
       "      <th>matchMethod</th>\n",
       "      <th>ROR_ID</th>\n",
       "      <th>type</th>\n",
       "      <th>gender_prediction</th>\n",
       "      <th>race_prediction</th>\n",
       "    </tr>\n",
       "  </thead>\n",
       "  <tbody>\n",
       "  </tbody>\n",
       "</table>\n",
       "<p>0 rows × 41 columns</p>\n",
       "</div>"
      ],
      "text/plain": [
       "Empty DataFrame\n",
       "Columns: [authorID, doi, url, year, title, journal, numberOfAuthors, authorPosition, authorFullName, firstName, lastName, affiliation, gscholarLink, googleSearch, genderize, genderize_prob, genderize_basedon, genderAccuracy, authorFullName.1, firstName.1, lastName.1, affiliation.1, gscholarLink.1, googleSearch.1, race, racePredAccuracy, api, black, hispanic, white, raceHighest, raceSecondHighest, raceDiff, affProcessed, affiliation.2, ROR_AFFNAME, matchMethod, ROR_ID, type, gender_prediction, race_prediction]\n",
       "Index: []\n",
       "\n",
       "[0 rows x 41 columns]"
      ]
     },
     "execution_count": 22,
     "metadata": {},
     "output_type": "execute_result"
    }
   ],
   "source": [
    "df[df['affiliation.2'].isnull()]"
   ]
  },
  {
   "cell_type": "markdown",
   "id": "73d8c957",
   "metadata": {},
   "source": [
    "### Year 2000"
   ]
  },
  {
   "cell_type": "code",
   "execution_count": 23,
   "id": "4c8f91c5",
   "metadata": {},
   "outputs": [
    {
     "data": {
      "text/plain": [
       "(7083, 41)"
      ]
     },
     "execution_count": 23,
     "metadata": {},
     "output_type": "execute_result"
    }
   ],
   "source": [
    "df[df.year >= 2000].shape"
   ]
  },
  {
   "cell_type": "markdown",
   "id": "138b2c8a",
   "metadata": {},
   "source": [
    "### Shuffle"
   ]
  },
  {
   "cell_type": "code",
   "execution_count": 24,
   "id": "5e2594d9",
   "metadata": {},
   "outputs": [],
   "source": [
    "shuffled = df.sample(frac = 1, random_state = 200)\n",
    "results = np.array_split(shuffled, 6)"
   ]
  },
  {
   "cell_type": "code",
   "execution_count": 25,
   "id": "02f3b4f9",
   "metadata": {},
   "outputs": [
    {
     "data": {
      "text/plain": [
       "Int64Index([10451,  7558,  3436,  9071,  8630,  2892,  9507,  5125,  8674,\n",
       "             4625,\n",
       "            ...\n",
       "             1616,  6606,  4847,  5997,  1478,  1731,  8855,  6218,  1717,\n",
       "             4649],\n",
       "           dtype='int64', length=1884)"
      ]
     },
     "execution_count": 25,
     "metadata": {},
     "output_type": "execute_result"
    }
   ],
   "source": [
    "results[0].index"
   ]
  },
  {
   "cell_type": "markdown",
   "id": "6113355e",
   "metadata": {},
   "source": [
    "Int64Index([10451,  7558,  3436,  9071,  8630,  2892,  9507,  5125,  8674,\n",
    "             4625,\n",
    "            ...\n",
    "             1616,  6606,  4847,  5997,  1478,  1731,  8855,  6218,  1717,\n",
    "             4649],\n",
    "           dtype='int64', length=1884)"
   ]
  },
  {
   "cell_type": "code",
   "execution_count": 26,
   "id": "9e3c6f21",
   "metadata": {},
   "outputs": [
    {
     "data": {
      "text/plain": [
       "Int64Index([ 9235,  1464, 10535,  7122,  6378,  8444,   277,   724,  8364,\n",
       "             2792,\n",
       "            ...\n",
       "             5633,  7210,   902, 10379,  7769,  8377,  9036, 11050,   784,\n",
       "             1818],\n",
       "           dtype='int64', length=1884)"
      ]
     },
     "execution_count": 26,
     "metadata": {},
     "output_type": "execute_result"
    }
   ],
   "source": [
    "results[5].index"
   ]
  },
  {
   "cell_type": "markdown",
   "id": "0170f5cd",
   "metadata": {},
   "source": [
    "Int64Index([ 9235,  1464, 10535,  7122,  6378,  8444,   277,   724,  8364,\n",
    "             2792,\n",
    "            ...\n",
    "             5633,  7210,   902, 10379,  7769,  8377,  9036, 11050,   784,\n",
    "             1818],\n",
    "           dtype='int64', length=1884)"
   ]
  },
  {
   "cell_type": "code",
   "execution_count": 27,
   "id": "2fd89ba5",
   "metadata": {},
   "outputs": [
    {
     "name": "stdout",
     "output_type": "stream",
     "text": [
      "(1884, 41)\n",
      "(1884, 41)\n",
      "(1884, 41)\n",
      "(1884, 41)\n",
      "(1884, 41)\n"
     ]
    }
   ],
   "source": [
    "for i in range(5):\n",
    "    print(results[i].shape)"
   ]
  },
  {
   "cell_type": "code",
   "execution_count": 28,
   "id": "455310d7",
   "metadata": {},
   "outputs": [],
   "source": [
    "# sort by year\n",
    "for i in results:\n",
    "    i.sort_values(by='year', ascending=False, inplace=True)"
   ]
  },
  {
   "cell_type": "code",
   "execution_count": 29,
   "id": "f115642f",
   "metadata": {},
   "outputs": [],
   "source": [
    "coder_names = ['haley', 'michelle', 'jeff', 'jongmin', 'jaemin', 'matthew']"
   ]
  },
  {
   "cell_type": "code",
   "execution_count": 30,
   "id": "fff4f948",
   "metadata": {},
   "outputs": [],
   "source": [
    "for i in range(len(coder_names)):\n",
    "    results[i].to_csv(f'../../data/interim/gender_race_coding_task/{coder_names[i]}.csv', index=True)"
   ]
  }
 ],
 "metadata": {
  "kernelspec": {
   "display_name": "Python 3 (ipykernel)",
   "language": "python",
   "name": "python3"
  },
  "language_info": {
   "codemirror_mode": {
    "name": "ipython",
    "version": 3
   },
   "file_extension": ".py",
   "mimetype": "text/x-python",
   "name": "python",
   "nbconvert_exporter": "python",
   "pygments_lexer": "ipython3",
   "version": "3.8.13"
  }
 },
 "nbformat": 4,
 "nbformat_minor": 5
}
