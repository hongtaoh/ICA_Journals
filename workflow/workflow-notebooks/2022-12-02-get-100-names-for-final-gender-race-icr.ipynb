{
 "cells": [
  {
   "cell_type": "markdown",
   "id": "1aa8a803",
   "metadata": {},
   "source": [
    "## Aim\n",
    "\n",
    "In this notebook, I tried to get 100 random names for final ICR testing (gender & race)"
   ]
  },
  {
   "cell_type": "code",
   "execution_count": 4,
   "id": "90101f35",
   "metadata": {},
   "outputs": [],
   "source": [
    "import pandas as pd"
   ]
  },
  {
   "cell_type": "code",
   "execution_count": 5,
   "id": "49a07673",
   "metadata": {},
   "outputs": [
    {
     "data": {
      "text/plain": [
       "(11471, 39)"
      ]
     },
     "execution_count": 5,
     "metadata": {},
     "output_type": "execute_result"
    }
   ],
   "source": [
    "df = pd.read_csv('../../data/processed/research_author_with_pred.csv')\n",
    "df.shape"
   ]
  },
  {
   "cell_type": "code",
   "execution_count": 6,
   "id": "5355d9ca",
   "metadata": {},
   "outputs": [],
   "source": [
    "df['year'] = df['year'].astype(int)"
   ]
  },
  {
   "cell_type": "code",
   "execution_count": 7,
   "id": "b458d7e8",
   "metadata": {},
   "outputs": [],
   "source": [
    "df['gender_prediction'] = ''\n",
    "df['race_prediction'] = ''"
   ]
  },
  {
   "cell_type": "code",
   "execution_count": 8,
   "id": "166be1ce",
   "metadata": {},
   "outputs": [],
   "source": [
    "random_100 = df.sample(100, random_state = 2300)"
   ]
  },
  {
   "cell_type": "code",
   "execution_count": 9,
   "id": "560a5724",
   "metadata": {},
   "outputs": [],
   "source": [
    "random_100.to_csv('../../data/interim/icr/2022-12-02-race-gender-post-icr-100names.csv', index=False)"
   ]
  },
  {
   "cell_type": "code",
   "execution_count": 10,
   "id": "6e563cf6",
   "metadata": {},
   "outputs": [
    {
     "data": {
      "text/plain": [
       "(100, 41)"
      ]
     },
     "execution_count": 10,
     "metadata": {},
     "output_type": "execute_result"
    }
   ],
   "source": [
    "random_100.shape"
   ]
  },
  {
   "cell_type": "code",
   "execution_count": 11,
   "id": "003dda3b",
   "metadata": {},
   "outputs": [
    {
     "data": {
      "text/plain": [
       "Int64Index([ 4803,  6867,  6648,  6094,  2488,  9005,  5881,  5838,  8366,\n",
       "             9786,  8273,   430, 10017,  5813, 10814,  3253,  9707,  7380,\n",
       "             6561,  9417,  5693,  8451,  4585,  1874,  8252,  2725, 10132,\n",
       "             5713,  6507,  5948,  8772,  7330,  7426,  7265,   232,  4289,\n",
       "              218,  2686,  5853,  5181,   546,  8767,  3857,  1876, 11418,\n",
       "             5452,  8473,  2623,  6356,  2146,  8303,  3912,  9900,   840,\n",
       "             4975, 11316,  2435,  1349,  7185,  2921,  7643,  3575,  2217,\n",
       "             3394,  7204,  3763,  1677,  1707,  3135,  6125,  5862,  1656,\n",
       "             7905,  1567,   226,  6299,  3014,  1220,  6784,  5435,  9503,\n",
       "             6625,  8137, 10723,  5223, 11444,  8478,   719,  5692, 10023,\n",
       "             3605,  5721,  7174,  5628,  8530,  9959, 11434,  3702, 10683,\n",
       "             4396],\n",
       "           dtype='int64')"
      ]
     },
     "execution_count": 11,
     "metadata": {},
     "output_type": "execute_result"
    }
   ],
   "source": [
    "random_100.index"
   ]
  },
  {
   "cell_type": "markdown",
   "id": "e8415663",
   "metadata": {},
   "source": [
    "Int64Index([ 4803,  6867,  6648,  6094,  2488,  9005,  5881,  5838,  8366,\n",
    "             9786,  8273,   430, 10017,  5813, 10814,  3253,  9707,  7380,\n",
    "             6561,  9417,  5693,  8451,  4585,  1874,  8252,  2725, 10132,\n",
    "             5713,  6507,  5948,  8772,  7330,  7426,  7265,   232,  4289,\n",
    "              218,  2686,  5853,  5181,   546,  8767,  3857,  1876, 11418,\n",
    "             5452,  8473,  2623,  6356,  2146,  8303,  3912,  9900,   840,\n",
    "             4975, 11316,  2435,  1349,  7185,  2921,  7643,  3575,  2217,\n",
    "             3394,  7204,  3763,  1677,  1707,  3135,  6125,  5862,  1656,\n",
    "             7905,  1567,   226,  6299,  3014,  1220,  6784,  5435,  9503,\n",
    "             6625,  8137, 10723,  5223, 11444,  8478,   719,  5692, 10023,\n",
    "             3605,  5721,  7174,  5628,  8530,  9959, 11434,  3702, 10683,\n",
    "             4396],\n",
    "           dtype='int64')"
   ]
  }
 ],
 "metadata": {
  "kernelspec": {
   "display_name": "Python 3 (ipykernel)",
   "language": "python",
   "name": "python3"
  },
  "language_info": {
   "codemirror_mode": {
    "name": "ipython",
    "version": 3
   },
   "file_extension": ".py",
   "mimetype": "text/x-python",
   "name": "python",
   "nbconvert_exporter": "python",
   "pygments_lexer": "ipython3",
   "version": "3.9.15"
  }
 },
 "nbformat": 4,
 "nbformat_minor": 5
}
