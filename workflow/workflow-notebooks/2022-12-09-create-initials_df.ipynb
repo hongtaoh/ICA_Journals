{
 "cells": [
  {
   "cell_type": "markdown",
   "id": "7c25a08e",
   "metadata": {},
   "source": [
    "## Aim\n",
    "\n",
    "In this notebook, I aim to generate a shreadsheet where they check the names that are initials (first name)"
   ]
  },
  {
   "cell_type": "code",
   "execution_count": 73,
   "id": "8afc9201",
   "metadata": {},
   "outputs": [],
   "source": [
    "import pandas as pd\n",
    "import numpy as np\n",
    "from collections import Counter"
   ]
  },
  {
   "cell_type": "code",
   "execution_count": 74,
   "id": "556ed517",
   "metadata": {},
   "outputs": [],
   "source": [
    "names = ['haley', 'jongmin', 'jaemin', 'jeff', 'matthew', 'michelle']\n",
    "data_dir = '../../data/interim/gender_race_result'"
   ]
  },
  {
   "cell_type": "code",
   "execution_count": 88,
   "id": "8a3aff6b",
   "metadata": {},
   "outputs": [],
   "source": [
    "haley = pd.read_csv(f'{data_dir}/haley.csv')\n",
    "matthew = pd.read_csv(f'{data_dir}/matthew.csv')\n",
    "michelle = pd.read_csv(f'{data_dir}/michelle.csv')\n",
    "jeff = pd.read_csv(f'{data_dir}/jeff.csv')\n",
    "jongmin = pd.read_csv(f'{data_dir}/jongmin.csv')\n",
    "jaemin = pd.read_csv(f'{data_dir}/jaemin.csv')"
   ]
  },
  {
   "cell_type": "code",
   "execution_count": 76,
   "id": "4fc9366a",
   "metadata": {},
   "outputs": [],
   "source": [
    "haley_dic = dict(zip(haley.authorID, ['haley']*haley.shape[0]))\n",
    "matthew_dic = dict(zip(matthew.authorID, ['matthew']*matthew.shape[0]))\n",
    "jongmin_dic = dict(zip(jongmin.authorID, ['jongmin']*jongmin.shape[0]))\n",
    "jaemin_dic = dict(zip(jaemin.authorID, ['jaemin']*jaemin.shape[0]))\n",
    "jeff_dic = dict(zip(jeff.authorID, ['jeff']*jeff.shape[0]))\n",
    "michelle_dic = dict(zip(michelle.authorID, ['michelle']*michelle.shape[0]))"
   ]
  },
  {
   "cell_type": "code",
   "execution_count": 77,
   "id": "cb1f9877",
   "metadata": {},
   "outputs": [],
   "source": [
    "dic = haley_dic\n",
    "dic.update(matthew_dic)\n",
    "dic.update(jongmin_dic)\n",
    "dic.update(jaemin_dic)\n",
    "dic.update(jeff_dic)\n",
    "dic.update(michelle_dic)"
   ]
  },
  {
   "cell_type": "code",
   "execution_count": 78,
   "id": "72798f93",
   "metadata": {},
   "outputs": [],
   "source": [
    "df = pd.read_csv('../../data/processed/authors_to_study.csv')"
   ]
  },
  {
   "cell_type": "code",
   "execution_count": 79,
   "id": "009bf365",
   "metadata": {},
   "outputs": [],
   "source": [
    "df = df[(df.firstName.notnull()) & (df.lastName.notnull())]"
   ]
  },
  {
   "cell_type": "code",
   "execution_count": 80,
   "id": "ae443c4a",
   "metadata": {},
   "outputs": [
    {
     "data": {
      "text/plain": [
       "(11303, 39)"
      ]
     },
     "execution_count": 80,
     "metadata": {},
     "output_type": "execute_result"
    }
   ],
   "source": [
    "df.shape"
   ]
  },
  {
   "cell_type": "code",
   "execution_count": 81,
   "id": "8a197347",
   "metadata": {},
   "outputs": [],
   "source": [
    "df['firstNameLength'] = df.apply(lambda row: len(row.firstName), axis = 1)"
   ]
  },
  {
   "cell_type": "code",
   "execution_count": 87,
   "id": "ad2bf092",
   "metadata": {},
   "outputs": [
    {
     "data": {
      "text/plain": [
       "(84, 40)"
      ]
     },
     "execution_count": 87,
     "metadata": {},
     "output_type": "execute_result"
    }
   ],
   "source": [
    "two_df = df[(df.firstName.str.contains('.', regex = False)) & (df.firstNameLength == 2)]\n",
    "one_df = df[df.firstNameLength == 1]\n",
    "initials_df = pd.concat([one_df, two_df])\n",
    "initials_df.shape"
   ]
  },
  {
   "cell_type": "code",
   "execution_count": 83,
   "id": "d7372df9",
   "metadata": {},
   "outputs": [
    {
     "data": {
      "text/html": [
       "<div>\n",
       "<style scoped>\n",
       "    .dataframe tbody tr th:only-of-type {\n",
       "        vertical-align: middle;\n",
       "    }\n",
       "\n",
       "    .dataframe tbody tr th {\n",
       "        vertical-align: top;\n",
       "    }\n",
       "\n",
       "    .dataframe thead th {\n",
       "        text-align: right;\n",
       "    }\n",
       "</style>\n",
       "<table border=\"1\" class=\"dataframe\">\n",
       "  <thead>\n",
       "    <tr style=\"text-align: right;\">\n",
       "      <th></th>\n",
       "      <th>authorID</th>\n",
       "      <th>doi</th>\n",
       "      <th>url</th>\n",
       "      <th>year</th>\n",
       "      <th>title</th>\n",
       "      <th>journal</th>\n",
       "      <th>numberOfAuthors</th>\n",
       "      <th>authorPosition</th>\n",
       "      <th>authorFullName</th>\n",
       "      <th>firstName</th>\n",
       "      <th>...</th>\n",
       "      <th>raceHighest</th>\n",
       "      <th>raceSecondHighest</th>\n",
       "      <th>raceDiff</th>\n",
       "      <th>affProcessed</th>\n",
       "      <th>affiliation.2</th>\n",
       "      <th>ROR_AFFNAME</th>\n",
       "      <th>matchMethod</th>\n",
       "      <th>ROR_ID</th>\n",
       "      <th>type</th>\n",
       "      <th>firstNameLength</th>\n",
       "    </tr>\n",
       "  </thead>\n",
       "  <tbody>\n",
       "    <tr>\n",
       "      <th>8763</th>\n",
       "      <td>10.1093/jcmc/zmaa006+4.0</td>\n",
       "      <td>10.1093/jcmc/zmaa006</td>\n",
       "      <td>https://academic.oup.com/jcmc/article/25/5/307...</td>\n",
       "      <td>2020</td>\n",
       "      <td>Don’t Stress Me Now: Assessing the Regulatory ...</td>\n",
       "      <td>Journal of Computer-Mediated Communication</td>\n",
       "      <td>5.0</td>\n",
       "      <td>4.0</td>\n",
       "      <td>I Beyens</td>\n",
       "      <td>I</td>\n",
       "      <td>...</td>\n",
       "      <td>0.723983</td>\n",
       "      <td>0.246823</td>\n",
       "      <td>0.477160</td>\n",
       "      <td>amsterdam school of communication research fac...</td>\n",
       "      <td>Amsterdam School of Communication Research (AS...</td>\n",
       "      <td>University of Amsterdam</td>\n",
       "      <td>Exact</td>\n",
       "      <td>https://ror.org/04dkp9463</td>\n",
       "      <td>R</td>\n",
       "      <td>1</td>\n",
       "    </tr>\n",
       "    <tr>\n",
       "      <th>9630</th>\n",
       "      <td>10.1111/j.1083-6101.2009.01496.x+2.0</td>\n",
       "      <td>10.1111/j.1083-6101.2009.01496.x</td>\n",
       "      <td>https://academic.oup.com/jcmc/article/15/1/109...</td>\n",
       "      <td>2009</td>\n",
       "      <td>Gratifications and Seeding Behavior of Online ...</td>\n",
       "      <td>Journal of Computer-Mediated Communication</td>\n",
       "      <td>4.0</td>\n",
       "      <td>2.0</td>\n",
       "      <td>P. Mechant</td>\n",
       "      <td>P.</td>\n",
       "      <td>...</td>\n",
       "      <td>0.881669</td>\n",
       "      <td>0.069515</td>\n",
       "      <td>0.812154</td>\n",
       "      <td>research group for media amp ict department of...</td>\n",
       "      <td>1 Research Group for Media &amp;amp; ICT, Departme...</td>\n",
       "      <td>Ghent University</td>\n",
       "      <td>Exact</td>\n",
       "      <td>https://ror.org/00cv9y106</td>\n",
       "      <td>R</td>\n",
       "      <td>2</td>\n",
       "    </tr>\n",
       "    <tr>\n",
       "      <th>9629</th>\n",
       "      <td>10.1111/j.1083-6101.2009.01496.x+1.0</td>\n",
       "      <td>10.1111/j.1083-6101.2009.01496.x</td>\n",
       "      <td>https://academic.oup.com/jcmc/article/15/1/109...</td>\n",
       "      <td>2009</td>\n",
       "      <td>Gratifications and Seeding Behavior of Online ...</td>\n",
       "      <td>Journal of Computer-Mediated Communication</td>\n",
       "      <td>4.0</td>\n",
       "      <td>1.0</td>\n",
       "      <td>C. Courtois</td>\n",
       "      <td>C.</td>\n",
       "      <td>...</td>\n",
       "      <td>0.767069</td>\n",
       "      <td>0.192187</td>\n",
       "      <td>0.574882</td>\n",
       "      <td>research group for media amp ict department of...</td>\n",
       "      <td>1 Research Group for Media &amp;amp; ICT, Departme...</td>\n",
       "      <td>Ghent University</td>\n",
       "      <td>Exact</td>\n",
       "      <td>https://ror.org/00cv9y106</td>\n",
       "      <td>R</td>\n",
       "      <td>2</td>\n",
       "    </tr>\n",
       "  </tbody>\n",
       "</table>\n",
       "<p>3 rows × 40 columns</p>\n",
       "</div>"
      ],
      "text/plain": [
       "                                  authorID                               doi  \\\n",
       "8763              10.1093/jcmc/zmaa006+4.0              10.1093/jcmc/zmaa006   \n",
       "9630  10.1111/j.1083-6101.2009.01496.x+2.0  10.1111/j.1083-6101.2009.01496.x   \n",
       "9629  10.1111/j.1083-6101.2009.01496.x+1.0  10.1111/j.1083-6101.2009.01496.x   \n",
       "\n",
       "                                                    url  year  \\\n",
       "8763  https://academic.oup.com/jcmc/article/25/5/307...  2020   \n",
       "9630  https://academic.oup.com/jcmc/article/15/1/109...  2009   \n",
       "9629  https://academic.oup.com/jcmc/article/15/1/109...  2009   \n",
       "\n",
       "                                                  title  \\\n",
       "8763  Don’t Stress Me Now: Assessing the Regulatory ...   \n",
       "9630  Gratifications and Seeding Behavior of Online ...   \n",
       "9629  Gratifications and Seeding Behavior of Online ...   \n",
       "\n",
       "                                         journal  numberOfAuthors  \\\n",
       "8763  Journal of Computer-Mediated Communication              5.0   \n",
       "9630  Journal of Computer-Mediated Communication              4.0   \n",
       "9629  Journal of Computer-Mediated Communication              4.0   \n",
       "\n",
       "      authorPosition authorFullName firstName  ... raceHighest  \\\n",
       "8763             4.0       I Beyens         I  ...    0.723983   \n",
       "9630             2.0     P. Mechant        P.  ...    0.881669   \n",
       "9629             1.0    C. Courtois        C.  ...    0.767069   \n",
       "\n",
       "     raceSecondHighest  raceDiff  \\\n",
       "8763          0.246823  0.477160   \n",
       "9630          0.069515  0.812154   \n",
       "9629          0.192187  0.574882   \n",
       "\n",
       "                                           affProcessed  \\\n",
       "8763  amsterdam school of communication research fac...   \n",
       "9630  research group for media amp ict department of...   \n",
       "9629  research group for media amp ict department of...   \n",
       "\n",
       "                                          affiliation.2  \\\n",
       "8763  Amsterdam School of Communication Research (AS...   \n",
       "9630  1 Research Group for Media &amp; ICT, Departme...   \n",
       "9629  1 Research Group for Media &amp; ICT, Departme...   \n",
       "\n",
       "                  ROR_AFFNAME  matchMethod                     ROR_ID type  \\\n",
       "8763  University of Amsterdam        Exact  https://ror.org/04dkp9463    R   \n",
       "9630         Ghent University        Exact  https://ror.org/00cv9y106    R   \n",
       "9629         Ghent University        Exact  https://ror.org/00cv9y106    R   \n",
       "\n",
       "     firstNameLength  \n",
       "8763               1  \n",
       "9630               2  \n",
       "9629               2  \n",
       "\n",
       "[3 rows x 40 columns]"
      ]
     },
     "execution_count": 83,
     "metadata": {},
     "output_type": "execute_result"
    }
   ],
   "source": [
    "initials_df.sample(3)"
   ]
  },
  {
   "cell_type": "code",
   "execution_count": 84,
   "id": "c627200b",
   "metadata": {},
   "outputs": [],
   "source": [
    "initials_df = initials_df.assign(Coder = [dic[x] for x in initials_df.authorID])"
   ]
  },
  {
   "cell_type": "code",
   "execution_count": 86,
   "id": "1383f5ee",
   "metadata": {},
   "outputs": [
    {
     "data": {
      "text/plain": [
       "Counter({'jaemin': 18,\n",
       "         'jongmin': 13,\n",
       "         'haley': 17,\n",
       "         'michelle': 15,\n",
       "         'jeff': 10,\n",
       "         'matthew': 11})"
      ]
     },
     "execution_count": 86,
     "metadata": {},
     "output_type": "execute_result"
    }
   ],
   "source": [
    "Counter(initials_df.Coder)"
   ]
  },
  {
   "cell_type": "code",
   "execution_count": 85,
   "id": "1302cfba",
   "metadata": {},
   "outputs": [],
   "source": [
    "initials_df.to_csv('../../data/interim/gender_race_coding_task/initials_df.csv', index = False)"
   ]
  }
 ],
 "metadata": {
  "kernelspec": {
   "display_name": "Python 3 (ipykernel)",
   "language": "python",
   "name": "python3"
  },
  "language_info": {
   "codemirror_mode": {
    "name": "ipython",
    "version": 3
   },
   "file_extension": ".py",
   "mimetype": "text/x-python",
   "name": "python",
   "nbconvert_exporter": "python",
   "pygments_lexer": "ipython3",
   "version": "3.8.13"
  }
 },
 "nbformat": 4,
 "nbformat_minor": 5
}
