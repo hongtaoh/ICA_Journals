{
 "cells": [
  {
   "cell_type": "markdown",
   "id": "14c7eb04",
   "metadata": {},
   "source": [
    "## Aim\n",
    "\n",
    "Process the gender and race coded data. \n",
    "\n",
    "Later, codes here became part of `get_authorid_with_vars.py`"
   ]
  },
  {
   "cell_type": "code",
   "execution_count": 1,
   "id": "e0cf26b1",
   "metadata": {},
   "outputs": [],
   "source": [
    "import pandas as pd\n",
    "import numpy as np\n",
    "# pd.set_option('display.max_rows', 500)\n",
    "# pd.set_option('display.max_columns', None)\n",
    "# pd.set_option('display.max_colwidth', None)\n",
    "import seaborn as sns\n",
    "import matplotlib.pyplot as plt\n",
    "from collections import Counter"
   ]
  },
  {
   "cell_type": "code",
   "execution_count": 2,
   "id": "d6d738a0",
   "metadata": {},
   "outputs": [],
   "source": [
    "# names = ['haley', 'jongmin', 'jaemin', 'jeff', 'matthew', 'michelle']\n",
    "names = ['haley', 'jaemin', 'matthew', 'michelle', 'jongmin', 'jeff']\n",
    "data_dir = '../../data/interim/gender_race_result'"
   ]
  },
  {
   "cell_type": "code",
   "execution_count": 3,
   "id": "788e1945",
   "metadata": {},
   "outputs": [],
   "source": [
    "haley = pd.read_csv(f'{data_dir}/haley.csv')\n",
    "haley['Coder'] = 'Haley'\n",
    "matthew = pd.read_csv(f'{data_dir}/matthew.csv')\n",
    "matthew['Coder'] = 'Matthew'\n",
    "michelle = pd.read_csv(f'{data_dir}/michelle.csv')\n",
    "michelle['Coder'] = 'Michelle'\n",
    "jeff = pd.read_csv(f'{data_dir}/jeff.csv')\n",
    "jeff['Coder'] = 'Jeff'\n",
    "jongmin = pd.read_csv(f'{data_dir}/jongmin.csv')\n",
    "jongmin['Coder'] = 'Jongmin'\n",
    "jaemin = pd.read_csv(f'{data_dir}/jaemin.csv')\n",
    "jaemin['Coder'] = 'Jaemin'\n",
    "jaemin['gender_prediction'] = jaemin['gender_prediction'].str.replace(' M', 'M')"
   ]
  },
  {
   "cell_type": "code",
   "execution_count": 4,
   "id": "aaac356f",
   "metadata": {},
   "outputs": [
    {
     "data": {
      "text/html": [
       "<div>\n",
       "<style scoped>\n",
       "    .dataframe tbody tr th:only-of-type {\n",
       "        vertical-align: middle;\n",
       "    }\n",
       "\n",
       "    .dataframe tbody tr th {\n",
       "        vertical-align: top;\n",
       "    }\n",
       "\n",
       "    .dataframe thead th {\n",
       "        text-align: right;\n",
       "    }\n",
       "</style>\n",
       "<table border=\"1\" class=\"dataframe\">\n",
       "  <thead>\n",
       "    <tr style=\"text-align: right;\">\n",
       "      <th></th>\n",
       "      <th>Unnamed: 0</th>\n",
       "      <th>authorID</th>\n",
       "      <th>doi</th>\n",
       "      <th>url</th>\n",
       "      <th>year</th>\n",
       "      <th>title</th>\n",
       "      <th>journal</th>\n",
       "      <th>numberOfAuthors</th>\n",
       "      <th>authorPosition</th>\n",
       "      <th>authorFullName</th>\n",
       "      <th>...</th>\n",
       "      <th>affiliation.2</th>\n",
       "      <th>ROR_AFFNAME</th>\n",
       "      <th>matchMethod</th>\n",
       "      <th>ROR_ID</th>\n",
       "      <th>type</th>\n",
       "      <th>gender_prediction</th>\n",
       "      <th>genderpred_api</th>\n",
       "      <th>race_prediction</th>\n",
       "      <th>racepred_api</th>\n",
       "      <th>Coder</th>\n",
       "    </tr>\n",
       "  </thead>\n",
       "  <tbody>\n",
       "    <tr>\n",
       "      <th>1842</th>\n",
       "      <td>4761</td>\n",
       "      <td>10.1111/j.1460-2466.1962.tb01529.x+2.0</td>\n",
       "      <td>10.1111/j.1460-2466.1962.tb01529.x</td>\n",
       "      <td>https://academic.oup.com/joc/article/12/2/90/4...</td>\n",
       "      <td>1962</td>\n",
       "      <td>An Attempt to Quantify the “Abstraction Ladder”</td>\n",
       "      <td>Journal of Communication</td>\n",
       "      <td>3</td>\n",
       "      <td>2</td>\n",
       "      <td>W. W. Lewis</td>\n",
       "      <td>...</td>\n",
       "      <td>2 Dr. Lewis is temporarily Chief Assessment Br...</td>\n",
       "      <td>The New Teacher Project</td>\n",
       "      <td>API_QUERY</td>\n",
       "      <td>https://ror.org/04p9zhq85</td>\n",
       "      <td>R</td>\n",
       "      <td>M</td>\n",
       "      <td>NaN</td>\n",
       "      <td>0</td>\n",
       "      <td>NaN</td>\n",
       "      <td>Jongmin</td>\n",
       "    </tr>\n",
       "  </tbody>\n",
       "</table>\n",
       "<p>1 rows × 45 columns</p>\n",
       "</div>"
      ],
      "text/plain": [
       "      Unnamed: 0                                authorID  \\\n",
       "1842        4761  10.1111/j.1460-2466.1962.tb01529.x+2.0   \n",
       "\n",
       "                                     doi  \\\n",
       "1842  10.1111/j.1460-2466.1962.tb01529.x   \n",
       "\n",
       "                                                    url  year  \\\n",
       "1842  https://academic.oup.com/joc/article/12/2/90/4...  1962   \n",
       "\n",
       "                                                title  \\\n",
       "1842  An Attempt to Quantify the “Abstraction Ladder”   \n",
       "\n",
       "                       journal  numberOfAuthors  authorPosition  \\\n",
       "1842  Journal of Communication                3               2   \n",
       "\n",
       "     authorFullName  ...                                      affiliation.2  \\\n",
       "1842    W. W. Lewis  ...  2 Dr. Lewis is temporarily Chief Assessment Br...   \n",
       "\n",
       "                  ROR_AFFNAME matchMethod                     ROR_ID type  \\\n",
       "1842  The New Teacher Project   API_QUERY  https://ror.org/04p9zhq85    R   \n",
       "\n",
       "     gender_prediction  genderpred_api  race_prediction racepred_api    Coder  \n",
       "1842                 M             NaN                0          NaN  Jongmin  \n",
       "\n",
       "[1 rows x 45 columns]"
      ]
     },
     "execution_count": 4,
     "metadata": {},
     "output_type": "execute_result"
    }
   ],
   "source": [
    "jongmin[jongmin.authorID == '10.1111/j.1460-2466.1962.tb01529.x+2.0']"
   ]
  },
  {
   "cell_type": "code",
   "execution_count": 5,
   "id": "33fdb8ca",
   "metadata": {},
   "outputs": [
    {
     "data": {
      "text/plain": [
       "{'F', 'M', 'f', 'm', 'n', nan}"
      ]
     },
     "execution_count": 5,
     "metadata": {},
     "output_type": "execute_result"
    }
   ],
   "source": [
    "set(matthew.gender_prediction)"
   ]
  },
  {
   "cell_type": "code",
   "execution_count": 6,
   "id": "0e50223a",
   "metadata": {},
   "outputs": [],
   "source": [
    "matthew_upperclass_dict = {\n",
    "    'm': 'M',\n",
    "    'n': 'N',\n",
    "    'f': 'F'\n",
    "}"
   ]
  },
  {
   "cell_type": "code",
   "execution_count": 7,
   "id": "d037d9db",
   "metadata": {},
   "outputs": [],
   "source": [
    "'''https://stackoverflow.com/a/68046167\n",
    "'''\n",
    "for old, new in matthew_upperclass_dict.items():\n",
    "    matthew['gender_prediction'] = matthew['gender_prediction'].str.replace(old, new, regex=False)"
   ]
  },
  {
   "cell_type": "code",
   "execution_count": 8,
   "id": "d9ff7621",
   "metadata": {},
   "outputs": [
    {
     "data": {
      "text/plain": [
       "({'F', 'M', 'N'}, {'F', 'M'})"
      ]
     },
     "execution_count": 8,
     "metadata": {},
     "output_type": "execute_result"
    }
   ],
   "source": [
    "set(jaemin.gender_prediction), set(jongmin.gender_prediction)"
   ]
  },
  {
   "cell_type": "code",
   "execution_count": 9,
   "id": "51ef3611",
   "metadata": {},
   "outputs": [
    {
     "data": {
      "text/plain": [
       "({'F', 'M'}, {'F', 'M', 'N', nan})"
      ]
     },
     "execution_count": 9,
     "metadata": {},
     "output_type": "execute_result"
    }
   ],
   "source": [
    "set(jeff.gender_prediction), set(matthew.gender_prediction)"
   ]
  },
  {
   "cell_type": "markdown",
   "id": "4bddd4c5",
   "metadata": {},
   "source": [
    "## Deal with Haley and Michelle data"
   ]
  },
  {
   "cell_type": "markdown",
   "id": "2644cd64",
   "metadata": {},
   "source": [
    "### Gender"
   ]
  },
  {
   "cell_type": "code",
   "execution_count": 10,
   "id": "4e57b8be",
   "metadata": {},
   "outputs": [
    {
     "data": {
      "text/plain": [
       "{'F', 'M', 'N', nan}"
      ]
     },
     "execution_count": 10,
     "metadata": {},
     "output_type": "execute_result"
    }
   ],
   "source": [
    "# for haley: if genderpred_api is nan, use gender_prediction, otherwise, use genderize result\n",
    "haley_genderpred = np.where(\n",
    "    haley.genderpred_api.isnull(), haley[\"gender_prediction\"], haley.genderize)\n",
    "haley_genderpred[haley_genderpred == 'female'] = 'F'\n",
    "haley_genderpred[haley_genderpred == 'male'] = 'M'\n",
    "set(haley_genderpred)"
   ]
  },
  {
   "cell_type": "code",
   "execution_count": 11,
   "id": "38d02303",
   "metadata": {},
   "outputs": [
    {
     "data": {
      "text/plain": [
       "{'F', 'M', 'N', nan}"
      ]
     },
     "execution_count": 11,
     "metadata": {},
     "output_type": "execute_result"
    }
   ],
   "source": [
    "# for michelle: if genderpred_api is nan, use gender_prediction, otherwise, use genderize result\n",
    "michelle_genderpred = np.where(\n",
    "    michelle.genderpred_api.isnull(), michelle[\"gender_prediction\"], michelle.genderize)\n",
    "michelle_genderpred[michelle_genderpred == 'female'] = 'F'\n",
    "michelle_genderpred[michelle_genderpred == 'male'] = 'M'\n",
    "set(michelle_genderpred)"
   ]
  },
  {
   "cell_type": "code",
   "execution_count": 12,
   "id": "8908537e",
   "metadata": {},
   "outputs": [
    {
     "data": {
      "text/plain": [
       "array([[1594],\n",
       "       [1657]])"
      ]
     },
     "execution_count": 12,
     "metadata": {},
     "output_type": "execute_result"
    }
   ],
   "source": [
    "# there are two nans because haley said to rely on genderize which provides nan\n",
    "np.argwhere(haley_genderpred!=haley_genderpred)"
   ]
  },
  {
   "cell_type": "code",
   "execution_count": 13,
   "id": "159fe113",
   "metadata": {},
   "outputs": [],
   "source": [
    "# haley.iloc[1657, :]"
   ]
  },
  {
   "cell_type": "code",
   "execution_count": 14,
   "id": "bc578da8",
   "metadata": {},
   "outputs": [
    {
     "data": {
      "text/plain": [
       "array([[1586],\n",
       "       [1606]])"
      ]
     },
     "execution_count": 14,
     "metadata": {},
     "output_type": "execute_result"
    }
   ],
   "source": [
    "# there are two nans because michelle said to rely on genderize which provides nan\n",
    "np.argwhere(michelle_genderpred!=michelle_genderpred)"
   ]
  },
  {
   "cell_type": "code",
   "execution_count": 15,
   "id": "6dfcddc0",
   "metadata": {},
   "outputs": [],
   "source": [
    "# michelle.iloc[1606, :]"
   ]
  },
  {
   "cell_type": "markdown",
   "id": "18a1792d",
   "metadata": {},
   "source": [
    "### Race"
   ]
  },
  {
   "cell_type": "code",
   "execution_count": 16,
   "id": "a5165cdb",
   "metadata": {},
   "outputs": [
    {
     "data": {
      "text/plain": [
       "{'api', 'black', 'hispanic', 'white'}"
      ]
     },
     "execution_count": 16,
     "metadata": {},
     "output_type": "execute_result"
    }
   ],
   "source": [
    "set(haley.race)"
   ]
  },
  {
   "cell_type": "code",
   "execution_count": 17,
   "id": "5eb7ee40",
   "metadata": {},
   "outputs": [
    {
     "data": {
      "text/plain": [
       "{0.0, 1.0, 2.0, 3.0, 4.0, 5.0}"
      ]
     },
     "execution_count": 17,
     "metadata": {},
     "output_type": "execute_result"
    }
   ],
   "source": [
    "# for haley: if genderpred_api is nan, use gender_prediction, otherwise, use genderize result\n",
    "haley_racepred = np.where(\n",
    "    haley.racepred_api.isnull(), haley[\"race_prediction\"], haley.race)\n",
    "haley_racepred[haley_racepred == 'api'] = 2\n",
    "haley_racepred[haley_racepred == 'hispanic'] = 3\n",
    "haley_racepred[haley_racepred == 'white'] = 0\n",
    "set(haley_racepred)"
   ]
  },
  {
   "cell_type": "code",
   "execution_count": 18,
   "id": "a0e07a5f",
   "metadata": {},
   "outputs": [
    {
     "data": {
      "text/plain": [
       "{0.0, 1.0, 2.0, 3.0, 4.0, 5.0}"
      ]
     },
     "execution_count": 18,
     "metadata": {},
     "output_type": "execute_result"
    }
   ],
   "source": [
    "# for michelle: if genderpred_api is nan, use gender_prediction, otherwise, use genderize result\n",
    "michelle_racepred = np.where(\n",
    "    michelle.racepred_api.isnull(), michelle[\"race_prediction\"], michelle.race)\n",
    "michelle_racepred[michelle_racepred == 'api'] = 2\n",
    "michelle_racepred[michelle_racepred == 'hispanic'] = 3\n",
    "michelle_racepred[michelle_racepred == 'white'] = 0\n",
    "set(michelle_racepred)"
   ]
  },
  {
   "cell_type": "markdown",
   "id": "b580dda6",
   "metadata": {},
   "source": [
    "### Update data"
   ]
  },
  {
   "cell_type": "code",
   "execution_count": 19,
   "id": "9e382d1d",
   "metadata": {},
   "outputs": [],
   "source": [
    "haley['gender_prediction'] = haley_genderpred\n",
    "michelle['gender_prediction'] = michelle_genderpred\n",
    "haley['race_prediction'] = haley_racepred\n",
    "michelle['race_prediction'] = michelle_racepred"
   ]
  },
  {
   "cell_type": "markdown",
   "id": "07410a4d",
   "metadata": {},
   "source": [
    "## Matthew"
   ]
  },
  {
   "cell_type": "code",
   "execution_count": 20,
   "id": "85c71426",
   "metadata": {},
   "outputs": [
    {
     "data": {
      "text/plain": [
       "Counter({'M': 1177, 'F': 703, 'N': 1, nan: 3})"
      ]
     },
     "execution_count": 20,
     "metadata": {},
     "output_type": "execute_result"
    }
   ],
   "source": [
    "Counter(matthew.gender_prediction)"
   ]
  },
  {
   "cell_type": "code",
   "execution_count": 21,
   "id": "4667f109",
   "metadata": {},
   "outputs": [
    {
     "data": {
      "text/plain": [
       "Counter({0: 1508, 2: 232, 1: 34, 3: 73, 4: 35, 5: 2})"
      ]
     },
     "execution_count": 21,
     "metadata": {},
     "output_type": "execute_result"
    }
   ],
   "source": [
    "Counter(matthew.race_prediction)"
   ]
  },
  {
   "cell_type": "markdown",
   "id": "e5ade4c3",
   "metadata": {},
   "source": [
    "## Jaemin"
   ]
  },
  {
   "cell_type": "code",
   "execution_count": 22,
   "id": "de6e41af",
   "metadata": {},
   "outputs": [
    {
     "data": {
      "text/plain": [
       "Counter({'F': 773, 'M': 1110, 'N': 1})"
      ]
     },
     "execution_count": 22,
     "metadata": {},
     "output_type": "execute_result"
    }
   ],
   "source": [
    "Counter(jaemin.gender_prediction)"
   ]
  },
  {
   "cell_type": "code",
   "execution_count": 23,
   "id": "0427ec5e",
   "metadata": {},
   "outputs": [
    {
     "data": {
      "text/plain": [
       "Counter({0: 1541, 2: 240, 4: 15, 1: 30, 3: 57, 5: 1})"
      ]
     },
     "execution_count": 23,
     "metadata": {},
     "output_type": "execute_result"
    }
   ],
   "source": [
    "Counter(jaemin.race_prediction)"
   ]
  },
  {
   "cell_type": "markdown",
   "id": "dfa87bea",
   "metadata": {},
   "source": [
    "## Jongmin"
   ]
  },
  {
   "cell_type": "code",
   "execution_count": 24,
   "id": "a5329b6f",
   "metadata": {},
   "outputs": [
    {
     "data": {
      "text/plain": [
       "Counter({'F': 749, 'M': 1135})"
      ]
     },
     "execution_count": 24,
     "metadata": {},
     "output_type": "execute_result"
    }
   ],
   "source": [
    "Counter(jongmin.gender_prediction)"
   ]
  },
  {
   "cell_type": "code",
   "execution_count": 25,
   "id": "759b586b",
   "metadata": {},
   "outputs": [
    {
     "data": {
      "text/plain": [
       "Counter({0: 1552, 2: 212, 3: 61, 4: 24, 1: 32, 5: 3})"
      ]
     },
     "execution_count": 25,
     "metadata": {},
     "output_type": "execute_result"
    }
   ],
   "source": [
    "Counter(jongmin.race_prediction)"
   ]
  },
  {
   "cell_type": "markdown",
   "id": "6a8782e1",
   "metadata": {},
   "source": [
    "## Jeff"
   ]
  },
  {
   "cell_type": "code",
   "execution_count": 26,
   "id": "ea03e135",
   "metadata": {},
   "outputs": [
    {
     "data": {
      "text/plain": [
       "Counter({'F': 700, 'M': 1184})"
      ]
     },
     "execution_count": 26,
     "metadata": {},
     "output_type": "execute_result"
    }
   ],
   "source": [
    "Counter(jeff.gender_prediction)"
   ]
  },
  {
   "cell_type": "code",
   "execution_count": 27,
   "id": "44677769",
   "metadata": {},
   "outputs": [],
   "source": [
    "# Counter(jeff.race_prediction)"
   ]
  },
  {
   "cell_type": "markdown",
   "id": "3a374754",
   "metadata": {},
   "source": [
    "## Organize data"
   ]
  },
  {
   "cell_type": "code",
   "execution_count": 28,
   "id": "e1ebc2af",
   "metadata": {},
   "outputs": [
    {
     "data": {
      "text/plain": [
       "({'F', 'M', 'N', nan}, {0.0, 1.0, 2.0, 3.0, 4.0, 5.0})"
      ]
     },
     "execution_count": 28,
     "metadata": {},
     "output_type": "execute_result"
    }
   ],
   "source": [
    "haley = haley[['Coder', 'firstName', 'genderize', 'authorID', 'doi', 'gender_prediction', 'race_prediction']]\n",
    "set(haley.gender_prediction), set(haley.race_prediction)"
   ]
  },
  {
   "cell_type": "code",
   "execution_count": 29,
   "id": "a742a778",
   "metadata": {},
   "outputs": [
    {
     "data": {
      "text/plain": [
       "({'F', 'M', 'N', nan}, {0, 1, 2, 3, 4, 5})"
      ]
     },
     "execution_count": 29,
     "metadata": {},
     "output_type": "execute_result"
    }
   ],
   "source": [
    "matthew = matthew[['Coder', 'firstName', 'genderize', 'authorID', 'doi', 'gender_prediction', 'race_prediction']]\n",
    "set(matthew.gender_prediction), set(matthew.race_prediction)"
   ]
  },
  {
   "cell_type": "code",
   "execution_count": 30,
   "id": "001defcd",
   "metadata": {},
   "outputs": [
    {
     "data": {
      "text/plain": [
       "({'F', 'M', 'N', nan}, {0.0, 1.0, 2.0, 3.0, 4.0, 5.0})"
      ]
     },
     "execution_count": 30,
     "metadata": {},
     "output_type": "execute_result"
    }
   ],
   "source": [
    "michelle = michelle[['Coder', 'firstName', 'genderize', 'authorID', 'doi', 'gender_prediction', 'race_prediction']]\n",
    "set(michelle.gender_prediction), set(michelle.race_prediction)"
   ]
  },
  {
   "cell_type": "code",
   "execution_count": 31,
   "id": "068eb9e8",
   "metadata": {},
   "outputs": [
    {
     "data": {
      "text/plain": [
       "({'F', 'M', 'N'}, {0, 1, 2, 3, 4, 5})"
      ]
     },
     "execution_count": 31,
     "metadata": {},
     "output_type": "execute_result"
    }
   ],
   "source": [
    "jaemin = jaemin[['Coder', 'firstName', 'genderize', 'authorID', 'doi', 'gender_prediction', 'race_prediction']]\n",
    "set(jaemin.gender_prediction), set(jaemin.race_prediction)"
   ]
  },
  {
   "cell_type": "code",
   "execution_count": 32,
   "id": "6a672896",
   "metadata": {},
   "outputs": [
    {
     "data": {
      "text/plain": [
       "{'F', 'M'}"
      ]
     },
     "execution_count": 32,
     "metadata": {},
     "output_type": "execute_result"
    }
   ],
   "source": [
    "jeff = jeff[['Coder', 'firstName', 'genderize', 'authorID', 'doi', 'gender_prediction', 'race_prediction']]\n",
    "set(jeff.gender_prediction)"
   ]
  },
  {
   "cell_type": "code",
   "execution_count": 33,
   "id": "a73c9bf7",
   "metadata": {},
   "outputs": [
    {
     "data": {
      "text/plain": [
       "({'F', 'M'}, {0, 1, 2, 3, 4, 5})"
      ]
     },
     "execution_count": 33,
     "metadata": {},
     "output_type": "execute_result"
    }
   ],
   "source": [
    "jongmin = jongmin[['Coder', 'firstName', 'genderize', 'authorID', 'doi', 'gender_prediction', 'race_prediction']]\n",
    "set(jongmin.gender_prediction), set(jongmin.race_prediction)"
   ]
  },
  {
   "cell_type": "code",
   "execution_count": 34,
   "id": "66753ba2",
   "metadata": {},
   "outputs": [
    {
     "data": {
      "text/html": [
       "<div>\n",
       "<style scoped>\n",
       "    .dataframe tbody tr th:only-of-type {\n",
       "        vertical-align: middle;\n",
       "    }\n",
       "\n",
       "    .dataframe tbody tr th {\n",
       "        vertical-align: top;\n",
       "    }\n",
       "\n",
       "    .dataframe thead th {\n",
       "        text-align: right;\n",
       "    }\n",
       "</style>\n",
       "<table border=\"1\" class=\"dataframe\">\n",
       "  <thead>\n",
       "    <tr style=\"text-align: right;\">\n",
       "      <th></th>\n",
       "      <th>Coder</th>\n",
       "      <th>firstName</th>\n",
       "      <th>genderize</th>\n",
       "      <th>authorID</th>\n",
       "      <th>doi</th>\n",
       "      <th>gender_prediction</th>\n",
       "      <th>race_prediction</th>\n",
       "    </tr>\n",
       "  </thead>\n",
       "  <tbody>\n",
       "    <tr>\n",
       "      <th>682</th>\n",
       "      <td>Haley</td>\n",
       "      <td>Edward</td>\n",
       "      <td>male</td>\n",
       "      <td>10.1111/j.1468-2958.2010.01375.x+2.0</td>\n",
       "      <td>10.1111/j.1468-2958.2010.01375.x</td>\n",
       "      <td>M</td>\n",
       "      <td>0.0</td>\n",
       "    </tr>\n",
       "    <tr>\n",
       "      <th>2542</th>\n",
       "      <td>Michelle</td>\n",
       "      <td>Sheila</td>\n",
       "      <td>female</td>\n",
       "      <td>10.1111/j.1460-2466.2011.01554.x+1.0</td>\n",
       "      <td>10.1111/j.1460-2466.2011.01554.x</td>\n",
       "      <td>F</td>\n",
       "      <td>0.0</td>\n",
       "    </tr>\n",
       "    <tr>\n",
       "      <th>6143</th>\n",
       "      <td>Jaemin</td>\n",
       "      <td>Avery</td>\n",
       "      <td>male</td>\n",
       "      <td>10.1111/jcc4.12044+3.0</td>\n",
       "      <td>10.1111/jcc4.12044</td>\n",
       "      <td>M</td>\n",
       "      <td>0</td>\n",
       "    </tr>\n",
       "    <tr>\n",
       "      <th>3292</th>\n",
       "      <td>Michelle</td>\n",
       "      <td>Lance</td>\n",
       "      <td>male</td>\n",
       "      <td>10.1111/j.1460-2466.1990.tb02265.x+1.0</td>\n",
       "      <td>10.1111/j.1460-2466.1990.tb02265.x</td>\n",
       "      <td>M</td>\n",
       "      <td>0.0</td>\n",
       "    </tr>\n",
       "    <tr>\n",
       "      <th>4265</th>\n",
       "      <td>Matthew</td>\n",
       "      <td>Howard</td>\n",
       "      <td>male</td>\n",
       "      <td>10.1111/hcre.12017+2.0</td>\n",
       "      <td>10.1111/hcre.12017</td>\n",
       "      <td>M</td>\n",
       "      <td>0</td>\n",
       "    </tr>\n",
       "    <tr>\n",
       "      <th>8958</th>\n",
       "      <td>Jeff</td>\n",
       "      <td>Cynthia</td>\n",
       "      <td>female</td>\n",
       "      <td>10.1111/j.1460-2466.1989.tb01042.x+3.0</td>\n",
       "      <td>10.1111/j.1460-2466.1989.tb01042.x</td>\n",
       "      <td>F</td>\n",
       "      <td>0</td>\n",
       "    </tr>\n",
       "    <tr>\n",
       "      <th>9830</th>\n",
       "      <td>Jongmin</td>\n",
       "      <td>Kara</td>\n",
       "      <td>male</td>\n",
       "      <td>10.1111/jcc4.12173+5.0</td>\n",
       "      <td>10.1111/jcc4.12173</td>\n",
       "      <td>F</td>\n",
       "      <td>0</td>\n",
       "    </tr>\n",
       "    <tr>\n",
       "      <th>11097</th>\n",
       "      <td>Jongmin</td>\n",
       "      <td>B.</td>\n",
       "      <td>NaN</td>\n",
       "      <td>10.1111/j.1460-2466.1978.tb01559.x+2.0</td>\n",
       "      <td>10.1111/j.1460-2466.1978.tb01559.x</td>\n",
       "      <td>M</td>\n",
       "      <td>0</td>\n",
       "    </tr>\n",
       "    <tr>\n",
       "      <th>2051</th>\n",
       "      <td>Michelle</td>\n",
       "      <td>Drew</td>\n",
       "      <td>male</td>\n",
       "      <td>10.1093/hcr/hqy019+5.0</td>\n",
       "      <td>10.1093/hcr/hqy019</td>\n",
       "      <td>M</td>\n",
       "      <td>0.0</td>\n",
       "    </tr>\n",
       "    <tr>\n",
       "      <th>3896</th>\n",
       "      <td>Matthew</td>\n",
       "      <td>Alan</td>\n",
       "      <td>male</td>\n",
       "      <td>10.1093/hcr/hqz013+2.0</td>\n",
       "      <td>10.1093/hcr/hqz013</td>\n",
       "      <td>M</td>\n",
       "      <td>0</td>\n",
       "    </tr>\n",
       "  </tbody>\n",
       "</table>\n",
       "</div>"
      ],
      "text/plain": [
       "          Coder firstName genderize                                authorID  \\\n",
       "682       Haley    Edward      male    10.1111/j.1468-2958.2010.01375.x+2.0   \n",
       "2542   Michelle    Sheila    female    10.1111/j.1460-2466.2011.01554.x+1.0   \n",
       "6143     Jaemin     Avery      male                  10.1111/jcc4.12044+3.0   \n",
       "3292   Michelle     Lance      male  10.1111/j.1460-2466.1990.tb02265.x+1.0   \n",
       "4265    Matthew    Howard      male                  10.1111/hcre.12017+2.0   \n",
       "8958       Jeff   Cynthia    female  10.1111/j.1460-2466.1989.tb01042.x+3.0   \n",
       "9830    Jongmin      Kara      male                  10.1111/jcc4.12173+5.0   \n",
       "11097   Jongmin        B.       NaN  10.1111/j.1460-2466.1978.tb01559.x+2.0   \n",
       "2051   Michelle      Drew      male                  10.1093/hcr/hqy019+5.0   \n",
       "3896    Matthew      Alan      male                  10.1093/hcr/hqz013+2.0   \n",
       "\n",
       "                                      doi gender_prediction race_prediction  \n",
       "682      10.1111/j.1468-2958.2010.01375.x                 M             0.0  \n",
       "2542     10.1111/j.1460-2466.2011.01554.x                 F             0.0  \n",
       "6143                   10.1111/jcc4.12044                 M               0  \n",
       "3292   10.1111/j.1460-2466.1990.tb02265.x                 M             0.0  \n",
       "4265                   10.1111/hcre.12017                 M               0  \n",
       "8958   10.1111/j.1460-2466.1989.tb01042.x                 F               0  \n",
       "9830                   10.1111/jcc4.12173                 F               0  \n",
       "11097  10.1111/j.1460-2466.1978.tb01559.x                 M               0  \n",
       "2051                   10.1093/hcr/hqy019                 M             0.0  \n",
       "3896                   10.1093/hcr/hqz013                 M               0  "
      ]
     },
     "execution_count": 34,
     "metadata": {},
     "output_type": "execute_result"
    }
   ],
   "source": [
    "df = pd.concat([haley, michelle, matthew, jaemin, jeff, jongmin], ignore_index = True)\n",
    "df.sample(10)"
   ]
  },
  {
   "cell_type": "code",
   "execution_count": 36,
   "id": "fc679dcc",
   "metadata": {},
   "outputs": [
    {
     "data": {
      "text/plain": [
       "7"
      ]
     },
     "execution_count": 36,
     "metadata": {},
     "output_type": "execute_result"
    }
   ],
   "source": [
    "# These are the nans without considering initial_df\n",
    "\n",
    "first_try_nan = df[df.gender_prediction.isnull()]\n",
    "first_try_nan.shape[0]"
   ]
  },
  {
   "cell_type": "code",
   "execution_count": 37,
   "id": "b3684d53",
   "metadata": {},
   "outputs": [],
   "source": [
    "first_try_nans = first_try_nan.authorID.tolist()"
   ]
  },
  {
   "cell_type": "markdown",
   "id": "d2801469",
   "metadata": {},
   "source": [
    "## Initial df result"
   ]
  },
  {
   "cell_type": "code",
   "execution_count": 38,
   "id": "0eb343ff",
   "metadata": {},
   "outputs": [
    {
     "data": {
      "text/html": [
       "<div>\n",
       "<style scoped>\n",
       "    .dataframe tbody tr th:only-of-type {\n",
       "        vertical-align: middle;\n",
       "    }\n",
       "\n",
       "    .dataframe tbody tr th {\n",
       "        vertical-align: top;\n",
       "    }\n",
       "\n",
       "    .dataframe thead th {\n",
       "        text-align: right;\n",
       "    }\n",
       "</style>\n",
       "<table border=\"1\" class=\"dataframe\">\n",
       "  <thead>\n",
       "    <tr style=\"text-align: right;\">\n",
       "      <th></th>\n",
       "      <th>Coder</th>\n",
       "      <th>authorID</th>\n",
       "      <th>doi</th>\n",
       "      <th>url</th>\n",
       "      <th>year</th>\n",
       "      <th>title</th>\n",
       "      <th>journal</th>\n",
       "      <th>numberOfAuthors</th>\n",
       "      <th>authorPosition</th>\n",
       "      <th>authorFullName</th>\n",
       "      <th>...</th>\n",
       "      <th>raceDiff</th>\n",
       "      <th>affProcessed</th>\n",
       "      <th>affiliation.2</th>\n",
       "      <th>ROR_AFFNAME</th>\n",
       "      <th>matchMethod</th>\n",
       "      <th>ROR_ID</th>\n",
       "      <th>type</th>\n",
       "      <th>firstNameLength</th>\n",
       "      <th>gender_prediction</th>\n",
       "      <th>Unnamed: 42</th>\n",
       "    </tr>\n",
       "  </thead>\n",
       "  <tbody>\n",
       "    <tr>\n",
       "      <th>0</th>\n",
       "      <td>michelle</td>\n",
       "      <td>10.1111/j.1083-6101.2010.01531.x+2.0</td>\n",
       "      <td>10.1111/j.1083-6101.2010.01531.x</td>\n",
       "      <td>https://academic.oup.com/jcmc/article/16/1/48/...</td>\n",
       "      <td>2010</td>\n",
       "      <td>A Cyber-archaeology Approach to Social Movemen...</td>\n",
       "      <td>Journal of Computer-Mediated Communication</td>\n",
       "      <td>3</td>\n",
       "      <td>2</td>\n",
       "      <td>A. Abbasi</td>\n",
       "      <td>...</td>\n",
       "      <td>0.380590</td>\n",
       "      <td>sheldon b lubar school of business university ...</td>\n",
       "      <td>2 Sheldon B. Lubar School of Business, Univers...</td>\n",
       "      <td>University of Wisconsin–Milwaukee</td>\n",
       "      <td>API_QUERY</td>\n",
       "      <td>https://ror.org/031q21x57</td>\n",
       "      <td>R</td>\n",
       "      <td>2</td>\n",
       "      <td>M</td>\n",
       "      <td>NaN</td>\n",
       "    </tr>\n",
       "    <tr>\n",
       "      <th>1</th>\n",
       "      <td>jeff</td>\n",
       "      <td>10.1111/j.1468-2958.1990.tb00231.x+3.0</td>\n",
       "      <td>10.1111/j.1468-2958.1990.tb00231.x</td>\n",
       "      <td>https://academic.oup.com/hcr/article/17/2/195/...</td>\n",
       "      <td>1990</td>\n",
       "      <td>Memory Representations of Compliance-Gaining S...</td>\n",
       "      <td>Human Communication Research</td>\n",
       "      <td>3</td>\n",
       "      <td>3</td>\n",
       "      <td>A. E. Lindsey</td>\n",
       "      <td>...</td>\n",
       "      <td>0.538784</td>\n",
       "      <td>a e lindsey is assistant professor of speech c...</td>\n",
       "      <td>3 A. E. Lindsey is Assistant Professor of Spee...</td>\n",
       "      <td>University of Georgia</td>\n",
       "      <td>Exact</td>\n",
       "      <td>https://ror.org/02bjhwk41</td>\n",
       "      <td>R</td>\n",
       "      <td>2</td>\n",
       "      <td>NaN</td>\n",
       "      <td>M</td>\n",
       "    </tr>\n",
       "    <tr>\n",
       "      <th>2</th>\n",
       "      <td>matthew</td>\n",
       "      <td>10.1111/j.1468-2958.1989.tb00207.x+2.0</td>\n",
       "      <td>10.1111/j.1468-2958.1989.tb00207.x</td>\n",
       "      <td>https://academic.oup.com/hcr/article/16/1/120/...</td>\n",
       "      <td>1989</td>\n",
       "      <td>Encoding Processes in the Production of Multip...</td>\n",
       "      <td>Human Communication Research</td>\n",
       "      <td>2</td>\n",
       "      <td>2</td>\n",
       "      <td>A. E. Lindsey</td>\n",
       "      <td>...</td>\n",
       "      <td>0.538784</td>\n",
       "      <td>john o greene is an associate professor and a ...</td>\n",
       "      <td>1 John O. Greene is an Associate Professor, an...</td>\n",
       "      <td>Łukasiewicz Research Network - Institute of We...</td>\n",
       "      <td>API_QUERY</td>\n",
       "      <td>https://ror.org/05xx8bb48</td>\n",
       "      <td>R</td>\n",
       "      <td>2</td>\n",
       "      <td>NaN</td>\n",
       "      <td>M</td>\n",
       "    </tr>\n",
       "    <tr>\n",
       "      <th>3</th>\n",
       "      <td>michelle</td>\n",
       "      <td>10.1111/j.1460-2466.1981.tb00463.x+1.0</td>\n",
       "      <td>10.1111/j.1460-2466.1981.tb00463.x</td>\n",
       "      <td>https://academic.oup.com/joc/article/31/4/164/...</td>\n",
       "      <td>1981</td>\n",
       "      <td>U.S. News Coverage of the Belgrade UNESCO Conf...</td>\n",
       "      <td>Journal of Communication</td>\n",
       "      <td>1</td>\n",
       "      <td>1</td>\n",
       "      <td>A. H. Raskin</td>\n",
       "      <td>...</td>\n",
       "      <td>0.767133</td>\n",
       "      <td>a h raskin former assistant editor of the edit...</td>\n",
       "      <td>1 A. H. Raskin, former assistant editor of the...</td>\n",
       "      <td>Museum of the City of New York</td>\n",
       "      <td>API_QUERY</td>\n",
       "      <td>https://ror.org/00mct1g07</td>\n",
       "      <td>R</td>\n",
       "      <td>2</td>\n",
       "      <td>M</td>\n",
       "      <td>NaN</td>\n",
       "    </tr>\n",
       "    <tr>\n",
       "      <th>4</th>\n",
       "      <td>matthew</td>\n",
       "      <td>10.1111/hcre.12092+1.0</td>\n",
       "      <td>10.1111/hcre.12092</td>\n",
       "      <td>https://academic.oup.com/hcr/article/42/4/641/...</td>\n",
       "      <td>2016</td>\n",
       "      <td>Partisan Provocation: The Role of Partisan New...</td>\n",
       "      <td>Human Communication Research</td>\n",
       "      <td>2</td>\n",
       "      <td>1</td>\n",
       "      <td>A. Hasell</td>\n",
       "      <td>...</td>\n",
       "      <td>0.584822</td>\n",
       "      <td>department of communication university of cali...</td>\n",
       "      <td>1 Department of Communication, University of C...</td>\n",
       "      <td>University of California, Santa Barbara</td>\n",
       "      <td>API_QUERY</td>\n",
       "      <td>https://ror.org/02t274463</td>\n",
       "      <td>R</td>\n",
       "      <td>2</td>\n",
       "      <td>F</td>\n",
       "      <td>NaN</td>\n",
       "    </tr>\n",
       "  </tbody>\n",
       "</table>\n",
       "<p>5 rows × 43 columns</p>\n",
       "</div>"
      ],
      "text/plain": [
       "      Coder                                authorID  \\\n",
       "0  michelle    10.1111/j.1083-6101.2010.01531.x+2.0   \n",
       "1      jeff  10.1111/j.1468-2958.1990.tb00231.x+3.0   \n",
       "2   matthew  10.1111/j.1468-2958.1989.tb00207.x+2.0   \n",
       "3  michelle  10.1111/j.1460-2466.1981.tb00463.x+1.0   \n",
       "4   matthew                  10.1111/hcre.12092+1.0   \n",
       "\n",
       "                                  doi  \\\n",
       "0    10.1111/j.1083-6101.2010.01531.x   \n",
       "1  10.1111/j.1468-2958.1990.tb00231.x   \n",
       "2  10.1111/j.1468-2958.1989.tb00207.x   \n",
       "3  10.1111/j.1460-2466.1981.tb00463.x   \n",
       "4                  10.1111/hcre.12092   \n",
       "\n",
       "                                                 url  year  \\\n",
       "0  https://academic.oup.com/jcmc/article/16/1/48/...  2010   \n",
       "1  https://academic.oup.com/hcr/article/17/2/195/...  1990   \n",
       "2  https://academic.oup.com/hcr/article/16/1/120/...  1989   \n",
       "3  https://academic.oup.com/joc/article/31/4/164/...  1981   \n",
       "4  https://academic.oup.com/hcr/article/42/4/641/...  2016   \n",
       "\n",
       "                                               title  \\\n",
       "0  A Cyber-archaeology Approach to Social Movemen...   \n",
       "1  Memory Representations of Compliance-Gaining S...   \n",
       "2  Encoding Processes in the Production of Multip...   \n",
       "3  U.S. News Coverage of the Belgrade UNESCO Conf...   \n",
       "4  Partisan Provocation: The Role of Partisan New...   \n",
       "\n",
       "                                      journal  numberOfAuthors  \\\n",
       "0  Journal of Computer-Mediated Communication                3   \n",
       "1                Human Communication Research                3   \n",
       "2                Human Communication Research                2   \n",
       "3                    Journal of Communication                1   \n",
       "4                Human Communication Research                2   \n",
       "\n",
       "   authorPosition authorFullName  ...  raceDiff  \\\n",
       "0               2      A. Abbasi  ...  0.380590   \n",
       "1               3  A. E. Lindsey  ...  0.538784   \n",
       "2               2  A. E. Lindsey  ...  0.538784   \n",
       "3               1   A. H. Raskin  ...  0.767133   \n",
       "4               1      A. Hasell  ...  0.584822   \n",
       "\n",
       "                                        affProcessed  \\\n",
       "0  sheldon b lubar school of business university ...   \n",
       "1  a e lindsey is assistant professor of speech c...   \n",
       "2  john o greene is an associate professor and a ...   \n",
       "3  a h raskin former assistant editor of the edit...   \n",
       "4  department of communication university of cali...   \n",
       "\n",
       "                                       affiliation.2  \\\n",
       "0  2 Sheldon B. Lubar School of Business, Univers...   \n",
       "1  3 A. E. Lindsey is Assistant Professor of Spee...   \n",
       "2  1 John O. Greene is an Associate Professor, an...   \n",
       "3  1 A. H. Raskin, former assistant editor of the...   \n",
       "4  1 Department of Communication, University of C...   \n",
       "\n",
       "                                         ROR_AFFNAME matchMethod  \\\n",
       "0                  University of Wisconsin–Milwaukee   API_QUERY   \n",
       "1                              University of Georgia       Exact   \n",
       "2  Łukasiewicz Research Network - Institute of We...   API_QUERY   \n",
       "3                     Museum of the City of New York   API_QUERY   \n",
       "4            University of California, Santa Barbara   API_QUERY   \n",
       "\n",
       "                      ROR_ID  type  firstNameLength gender_prediction  \\\n",
       "0  https://ror.org/031q21x57     R                2                 M   \n",
       "1  https://ror.org/02bjhwk41     R                2               NaN   \n",
       "2  https://ror.org/05xx8bb48     R                2               NaN   \n",
       "3  https://ror.org/00mct1g07     R                2                 M   \n",
       "4  https://ror.org/02t274463     R                2                 F   \n",
       "\n",
       "  Unnamed: 42  \n",
       "0         NaN  \n",
       "1           M  \n",
       "2           M  \n",
       "3         NaN  \n",
       "4         NaN  \n",
       "\n",
       "[5 rows x 43 columns]"
      ]
     },
     "execution_count": 38,
     "metadata": {},
     "output_type": "execute_result"
    }
   ],
   "source": [
    "initial_df = pd.read_csv(f'{data_dir}/initial_df.csv')\n",
    "# initial_df[initial_df.authorID.isin(first_try_nan.authorID)]\n",
    "initial_df.head()"
   ]
  },
  {
   "cell_type": "code",
   "execution_count": 39,
   "id": "6d24125b",
   "metadata": {},
   "outputs": [],
   "source": [
    "authorid_gender_dict = dict(zip(df.authorID, df.gender_prediction))\n",
    "initial_df_authorid_gender_dict = dict(zip(initial_df.authorID, initial_df.gender_prediction))\n",
    "authorid_gender_dict.update(initial_df_authorid_gender_dict)"
   ]
  },
  {
   "cell_type": "code",
   "execution_count": 40,
   "id": "0544dd2d",
   "metadata": {},
   "outputs": [
    {
     "data": {
      "text/plain": [
       "nan"
      ]
     },
     "execution_count": 40,
     "metadata": {},
     "output_type": "execute_result"
    }
   ],
   "source": [
    "authorid_gender_dict['10.1111/j.1460-2466.1962.tb01529.x+2.0']"
   ]
  },
  {
   "cell_type": "code",
   "execution_count": 41,
   "id": "6a010bfd",
   "metadata": {},
   "outputs": [
    {
     "data": {
      "text/plain": [
       "'M'"
      ]
     },
     "execution_count": 41,
     "metadata": {},
     "output_type": "execute_result"
    }
   ],
   "source": [
    "# the update works!\n",
    "authorid_gender_dict[first_try_nan.authorID.tolist()[2]]"
   ]
  },
  {
   "cell_type": "markdown",
   "id": "b2634637",
   "metadata": {},
   "source": [
    "## New df\n",
    "\n",
    "Now, I will create a new df using the updated authorid gender dict. "
   ]
  },
  {
   "cell_type": "code",
   "execution_count": 42,
   "id": "3202a886",
   "metadata": {},
   "outputs": [
    {
     "data": {
      "text/html": [
       "<div>\n",
       "<style scoped>\n",
       "    .dataframe tbody tr th:only-of-type {\n",
       "        vertical-align: middle;\n",
       "    }\n",
       "\n",
       "    .dataframe tbody tr th {\n",
       "        vertical-align: top;\n",
       "    }\n",
       "\n",
       "    .dataframe thead th {\n",
       "        text-align: right;\n",
       "    }\n",
       "</style>\n",
       "<table border=\"1\" class=\"dataframe\">\n",
       "  <thead>\n",
       "    <tr style=\"text-align: right;\">\n",
       "      <th></th>\n",
       "      <th>Coder</th>\n",
       "      <th>firstName</th>\n",
       "      <th>genderize</th>\n",
       "      <th>authorID</th>\n",
       "      <th>doi</th>\n",
       "      <th>gender_prediction</th>\n",
       "      <th>gender_prediction_new</th>\n",
       "    </tr>\n",
       "  </thead>\n",
       "  <tbody>\n",
       "    <tr>\n",
       "      <th>208</th>\n",
       "      <td>Haley</td>\n",
       "      <td>C</td>\n",
       "      <td>male</td>\n",
       "      <td>10.1093/ccc/tcy019+1.0</td>\n",
       "      <td>10.1093/ccc/tcy019</td>\n",
       "      <td>M</td>\n",
       "      <td>F</td>\n",
       "    </tr>\n",
       "    <tr>\n",
       "      <th>2019</th>\n",
       "      <td>Michelle</td>\n",
       "      <td>E</td>\n",
       "      <td>male</td>\n",
       "      <td>10.1093/jcmc/zmaa006+2.0</td>\n",
       "      <td>10.1093/jcmc/zmaa006</td>\n",
       "      <td>F</td>\n",
       "      <td>M</td>\n",
       "    </tr>\n",
       "    <tr>\n",
       "      <th>2434</th>\n",
       "      <td>Michelle</td>\n",
       "      <td>K.</td>\n",
       "      <td>NaN</td>\n",
       "      <td>10.1111/jcom.12008+4.0</td>\n",
       "      <td>10.1111/jcom.12008</td>\n",
       "      <td>F</td>\n",
       "      <td>M</td>\n",
       "    </tr>\n",
       "    <tr>\n",
       "      <th>3006</th>\n",
       "      <td>Michelle</td>\n",
       "      <td>C.</td>\n",
       "      <td>NaN</td>\n",
       "      <td>10.1111/j.1460-2466.2002.tb02577.x+3.0</td>\n",
       "      <td>10.1111/j.1460-2466.2002.tb02577.x</td>\n",
       "      <td>M</td>\n",
       "      <td>F</td>\n",
       "    </tr>\n",
       "    <tr>\n",
       "      <th>3322</th>\n",
       "      <td>Michelle</td>\n",
       "      <td>B.</td>\n",
       "      <td>NaN</td>\n",
       "      <td>10.1111/j.1468-2958.1988.tb00162.x+4.0</td>\n",
       "      <td>10.1111/j.1468-2958.1988.tb00162.x</td>\n",
       "      <td>F</td>\n",
       "      <td>M</td>\n",
       "    </tr>\n",
       "    <tr>\n",
       "      <th>4097</th>\n",
       "      <td>Matthew</td>\n",
       "      <td>A.</td>\n",
       "      <td>NaN</td>\n",
       "      <td>10.1111/hcre.12092+1.0</td>\n",
       "      <td>10.1111/hcre.12092</td>\n",
       "      <td>M</td>\n",
       "      <td>F</td>\n",
       "    </tr>\n",
       "    <tr>\n",
       "      <th>5213</th>\n",
       "      <td>Matthew</td>\n",
       "      <td>A.</td>\n",
       "      <td>NaN</td>\n",
       "      <td>10.1111/j.1468-2958.1989.tb00207.x+2.0</td>\n",
       "      <td>10.1111/j.1468-2958.1989.tb00207.x</td>\n",
       "      <td>M</td>\n",
       "      <td>NaN</td>\n",
       "    </tr>\n",
       "    <tr>\n",
       "      <th>5671</th>\n",
       "      <td>Jaemin</td>\n",
       "      <td>C</td>\n",
       "      <td>male</td>\n",
       "      <td>10.1093/ccc/tcac013+1.0</td>\n",
       "      <td>10.1093/ccc/tcac013</td>\n",
       "      <td>M</td>\n",
       "      <td>N</td>\n",
       "    </tr>\n",
       "    <tr>\n",
       "      <th>6857</th>\n",
       "      <td>Jaemin</td>\n",
       "      <td>H.</td>\n",
       "      <td>NaN</td>\n",
       "      <td>10.1111/j.1468-2885.1999.tb00208.x+1.0</td>\n",
       "      <td>10.1111/j.1468-2885.1999.tb00208.x</td>\n",
       "      <td>F</td>\n",
       "      <td>M</td>\n",
       "    </tr>\n",
       "    <tr>\n",
       "      <th>7479</th>\n",
       "      <td>Jaemin</td>\n",
       "      <td>L.</td>\n",
       "      <td>NaN</td>\n",
       "      <td>10.1111/j.1460-2466.1968.tb00051.x+1.0</td>\n",
       "      <td>10.1111/j.1460-2466.1968.tb00051.x</td>\n",
       "      <td>F</td>\n",
       "      <td>M</td>\n",
       "    </tr>\n",
       "    <tr>\n",
       "      <th>7507</th>\n",
       "      <td>Jaemin</td>\n",
       "      <td>C.</td>\n",
       "      <td>NaN</td>\n",
       "      <td>10.1111/j.1460-2466.1958.tb01140.x+1.0</td>\n",
       "      <td>10.1111/j.1460-2466.1958.tb01140.x</td>\n",
       "      <td>F</td>\n",
       "      <td>M</td>\n",
       "    </tr>\n",
       "    <tr>\n",
       "      <th>8759</th>\n",
       "      <td>Jeff</td>\n",
       "      <td>B.</td>\n",
       "      <td>NaN</td>\n",
       "      <td>10.1111/j.1468-2958.1997.tb00411.x+2.0</td>\n",
       "      <td>10.1111/j.1468-2958.1997.tb00411.x</td>\n",
       "      <td>F</td>\n",
       "      <td>M</td>\n",
       "    </tr>\n",
       "    <tr>\n",
       "      <th>8935</th>\n",
       "      <td>Jeff</td>\n",
       "      <td>A.</td>\n",
       "      <td>NaN</td>\n",
       "      <td>10.1111/j.1468-2958.1990.tb00231.x+3.0</td>\n",
       "      <td>10.1111/j.1468-2958.1990.tb00231.x</td>\n",
       "      <td>M</td>\n",
       "      <td>NaN</td>\n",
       "    </tr>\n",
       "    <tr>\n",
       "      <th>11262</th>\n",
       "      <td>Jongmin</td>\n",
       "      <td>W.</td>\n",
       "      <td>NaN</td>\n",
       "      <td>10.1111/j.1460-2466.1962.tb01529.x+2.0</td>\n",
       "      <td>10.1111/j.1460-2466.1962.tb01529.x</td>\n",
       "      <td>M</td>\n",
       "      <td>NaN</td>\n",
       "    </tr>\n",
       "    <tr>\n",
       "      <th>11278</th>\n",
       "      <td>Jongmin</td>\n",
       "      <td>C.</td>\n",
       "      <td>NaN</td>\n",
       "      <td>10.1111/j.1460-2466.1959.tb00314.x+1.0</td>\n",
       "      <td>10.1111/j.1460-2466.1959.tb00314.x</td>\n",
       "      <td>F</td>\n",
       "      <td>M</td>\n",
       "    </tr>\n",
       "  </tbody>\n",
       "</table>\n",
       "</div>"
      ],
      "text/plain": [
       "          Coder firstName genderize                                authorID  \\\n",
       "208       Haley         C      male                  10.1093/ccc/tcy019+1.0   \n",
       "2019   Michelle         E      male                10.1093/jcmc/zmaa006+2.0   \n",
       "2434   Michelle        K.       NaN                  10.1111/jcom.12008+4.0   \n",
       "3006   Michelle        C.       NaN  10.1111/j.1460-2466.2002.tb02577.x+3.0   \n",
       "3322   Michelle        B.       NaN  10.1111/j.1468-2958.1988.tb00162.x+4.0   \n",
       "4097    Matthew        A.       NaN                  10.1111/hcre.12092+1.0   \n",
       "5213    Matthew        A.       NaN  10.1111/j.1468-2958.1989.tb00207.x+2.0   \n",
       "5671     Jaemin         C      male                 10.1093/ccc/tcac013+1.0   \n",
       "6857     Jaemin        H.       NaN  10.1111/j.1468-2885.1999.tb00208.x+1.0   \n",
       "7479     Jaemin        L.       NaN  10.1111/j.1460-2466.1968.tb00051.x+1.0   \n",
       "7507     Jaemin        C.       NaN  10.1111/j.1460-2466.1958.tb01140.x+1.0   \n",
       "8759       Jeff        B.       NaN  10.1111/j.1468-2958.1997.tb00411.x+2.0   \n",
       "8935       Jeff        A.       NaN  10.1111/j.1468-2958.1990.tb00231.x+3.0   \n",
       "11262   Jongmin        W.       NaN  10.1111/j.1460-2466.1962.tb01529.x+2.0   \n",
       "11278   Jongmin        C.       NaN  10.1111/j.1460-2466.1959.tb00314.x+1.0   \n",
       "\n",
       "                                      doi gender_prediction  \\\n",
       "208                    10.1093/ccc/tcy019                 M   \n",
       "2019                 10.1093/jcmc/zmaa006                 F   \n",
       "2434                   10.1111/jcom.12008                 F   \n",
       "3006   10.1111/j.1460-2466.2002.tb02577.x                 M   \n",
       "3322   10.1111/j.1468-2958.1988.tb00162.x                 F   \n",
       "4097                   10.1111/hcre.12092                 M   \n",
       "5213   10.1111/j.1468-2958.1989.tb00207.x                 M   \n",
       "5671                  10.1093/ccc/tcac013                 M   \n",
       "6857   10.1111/j.1468-2885.1999.tb00208.x                 F   \n",
       "7479   10.1111/j.1460-2466.1968.tb00051.x                 F   \n",
       "7507   10.1111/j.1460-2466.1958.tb01140.x                 F   \n",
       "8759   10.1111/j.1468-2958.1997.tb00411.x                 F   \n",
       "8935   10.1111/j.1468-2958.1990.tb00231.x                 M   \n",
       "11262  10.1111/j.1460-2466.1962.tb01529.x                 M   \n",
       "11278  10.1111/j.1460-2466.1959.tb00314.x                 F   \n",
       "\n",
       "      gender_prediction_new  \n",
       "208                       F  \n",
       "2019                      M  \n",
       "2434                      M  \n",
       "3006                      F  \n",
       "3322                      M  \n",
       "4097                      F  \n",
       "5213                    NaN  \n",
       "5671                      N  \n",
       "6857                      M  \n",
       "7479                      M  \n",
       "7507                      M  \n",
       "8759                      M  \n",
       "8935                    NaN  \n",
       "11262                   NaN  \n",
       "11278                     M  "
      ]
     },
     "execution_count": 42,
     "metadata": {},
     "output_type": "execute_result"
    }
   ],
   "source": [
    "df['gender_prediction_new'] = [authorid_gender_dict[x] for x in df['authorID']]\n",
    "diff = df[df.gender_prediction != df.gender_prediction_new]\n",
    "diff[diff.gender_prediction.notnull()][[\n",
    "    'Coder', 'firstName', 'genderize', 'authorID', 'doi', 'gender_prediction', 'gender_prediction_new']]"
   ]
  },
  {
   "cell_type": "code",
   "execution_count": 43,
   "id": "837d9bf2",
   "metadata": {},
   "outputs": [
    {
     "data": {
      "text/html": [
       "<div>\n",
       "<style scoped>\n",
       "    .dataframe tbody tr th:only-of-type {\n",
       "        vertical-align: middle;\n",
       "    }\n",
       "\n",
       "    .dataframe tbody tr th {\n",
       "        vertical-align: top;\n",
       "    }\n",
       "\n",
       "    .dataframe thead th {\n",
       "        text-align: right;\n",
       "    }\n",
       "</style>\n",
       "<table border=\"1\" class=\"dataframe\">\n",
       "  <thead>\n",
       "    <tr style=\"text-align: right;\">\n",
       "      <th></th>\n",
       "      <th>Coder</th>\n",
       "      <th>firstName</th>\n",
       "      <th>genderize</th>\n",
       "      <th>authorID</th>\n",
       "      <th>doi</th>\n",
       "      <th>gender_prediction</th>\n",
       "      <th>race_prediction</th>\n",
       "      <th>gender_prediction_new</th>\n",
       "    </tr>\n",
       "  </thead>\n",
       "  <tbody>\n",
       "    <tr>\n",
       "      <th>0</th>\n",
       "      <td>Haley</td>\n",
       "      <td>Ben</td>\n",
       "      <td>male</td>\n",
       "      <td>10.1093/jcmc/zmab024+1.0</td>\n",
       "      <td>10.1093/jcmc/zmab024</td>\n",
       "      <td>M</td>\n",
       "      <td>1.0</td>\n",
       "      <td>M</td>\n",
       "    </tr>\n",
       "    <tr>\n",
       "      <th>1</th>\n",
       "      <td>Haley</td>\n",
       "      <td>Xuanjun</td>\n",
       "      <td>male</td>\n",
       "      <td>10.1093/joc/jqab044+4.0</td>\n",
       "      <td>10.1093/joc/jqab044</td>\n",
       "      <td>M</td>\n",
       "      <td>2.0</td>\n",
       "      <td>M</td>\n",
       "    </tr>\n",
       "    <tr>\n",
       "      <th>2</th>\n",
       "      <td>Haley</td>\n",
       "      <td>Jonathan</td>\n",
       "      <td>male</td>\n",
       "      <td>10.1093/hcr/hqab020+1.0</td>\n",
       "      <td>10.1093/hcr/hqab020</td>\n",
       "      <td>M</td>\n",
       "      <td>0.0</td>\n",
       "      <td>M</td>\n",
       "    </tr>\n",
       "    <tr>\n",
       "      <th>3</th>\n",
       "      <td>Haley</td>\n",
       "      <td>Anne</td>\n",
       "      <td>female</td>\n",
       "      <td>10.1093/hcr/hqac004+1.0</td>\n",
       "      <td>10.1093/hcr/hqac004</td>\n",
       "      <td>F</td>\n",
       "      <td>0.0</td>\n",
       "      <td>F</td>\n",
       "    </tr>\n",
       "    <tr>\n",
       "      <th>4</th>\n",
       "      <td>Haley</td>\n",
       "      <td>Sophie</td>\n",
       "      <td>female</td>\n",
       "      <td>10.1093/jcmc/zmab019+5.0</td>\n",
       "      <td>10.1093/jcmc/zmab019</td>\n",
       "      <td>F</td>\n",
       "      <td>0.0</td>\n",
       "      <td>F</td>\n",
       "    </tr>\n",
       "  </tbody>\n",
       "</table>\n",
       "</div>"
      ],
      "text/plain": [
       "   Coder firstName genderize                  authorID                   doi  \\\n",
       "0  Haley       Ben      male  10.1093/jcmc/zmab024+1.0  10.1093/jcmc/zmab024   \n",
       "1  Haley   Xuanjun      male   10.1093/joc/jqab044+4.0   10.1093/joc/jqab044   \n",
       "2  Haley  Jonathan      male   10.1093/hcr/hqab020+1.0   10.1093/hcr/hqab020   \n",
       "3  Haley      Anne    female   10.1093/hcr/hqac004+1.0   10.1093/hcr/hqac004   \n",
       "4  Haley    Sophie    female  10.1093/jcmc/zmab019+5.0  10.1093/jcmc/zmab019   \n",
       "\n",
       "  gender_prediction race_prediction gender_prediction_new  \n",
       "0                 M             1.0                     M  \n",
       "1                 M             2.0                     M  \n",
       "2                 M             0.0                     M  \n",
       "3                 F             0.0                     F  \n",
       "4                 F             0.0                     F  "
      ]
     },
     "execution_count": 43,
     "metadata": {},
     "output_type": "execute_result"
    }
   ],
   "source": [
    "# set(df.gender_prediction_up)\n",
    "df.head()"
   ]
  },
  {
   "cell_type": "markdown",
   "id": "3a3902d0",
   "metadata": {},
   "source": [
    "### nans after update"
   ]
  },
  {
   "cell_type": "code",
   "execution_count": 44,
   "id": "08ee49b1",
   "metadata": {},
   "outputs": [
    {
     "data": {
      "text/plain": [
       "6"
      ]
     },
     "execution_count": 44,
     "metadata": {},
     "output_type": "execute_result"
    }
   ],
   "source": [
    "df[df.gender_prediction_new.isnull()].shape[0]"
   ]
  },
  {
   "cell_type": "code",
   "execution_count": 45,
   "id": "58dbb6f7",
   "metadata": {},
   "outputs": [
    {
     "data": {
      "text/plain": [
       "6"
      ]
     },
     "execution_count": 45,
     "metadata": {},
     "output_type": "execute_result"
    }
   ],
   "source": [
    "update_nan = df[df.gender_prediction_new.isnull()]\n",
    "update_nans = update_nan.authorID.tolist()\n",
    "len(update_nans)"
   ]
  },
  {
   "cell_type": "code",
   "execution_count": 46,
   "id": "fab38d9b",
   "metadata": {},
   "outputs": [
    {
     "data": {
      "text/plain": [
       "(11304, 8)"
      ]
     },
     "execution_count": 46,
     "metadata": {},
     "output_type": "execute_result"
    }
   ],
   "source": [
    "df.shape"
   ]
  },
  {
   "cell_type": "code",
   "execution_count": 49,
   "id": "c84936be",
   "metadata": {},
   "outputs": [
    {
     "data": {
      "text/plain": [
       "(11298, 8)"
      ]
     },
     "execution_count": 49,
     "metadata": {},
     "output_type": "execute_result"
    }
   ],
   "source": [
    "df[df.gender_prediction_new.notnull()].shape"
   ]
  },
  {
   "cell_type": "markdown",
   "id": "545df09d",
   "metadata": {},
   "source": [
    "## to delete those without gender predictions"
   ]
  },
  {
   "cell_type": "code",
   "execution_count": 56,
   "id": "a06de737",
   "metadata": {},
   "outputs": [
    {
     "data": {
      "text/plain": [
       "(6, 5712)"
      ]
     },
     "execution_count": 56,
     "metadata": {},
     "output_type": "execute_result"
    }
   ],
   "source": [
    "to_delete_dois = list(set(df[df.gender_prediction_new.isnull()].doi))\n",
    "to_keep_dois = list(set([x for x in df.doi.tolist() if x not in to_delete_dois]))\n",
    "len(to_delete_dois), len(to_keep_dois)"
   ]
  },
  {
   "cell_type": "code",
   "execution_count": 63,
   "id": "19881493",
   "metadata": {},
   "outputs": [
    {
     "data": {
      "text/plain": [
       "(11304, 8)"
      ]
     },
     "execution_count": 63,
     "metadata": {},
     "output_type": "execute_result"
    }
   ],
   "source": [
    "df.shape"
   ]
  },
  {
   "cell_type": "code",
   "execution_count": 64,
   "id": "bcb0ab87",
   "metadata": {},
   "outputs": [
    {
     "data": {
      "text/plain": [
       "(11292, 8)"
      ]
     },
     "execution_count": 64,
     "metadata": {},
     "output_type": "execute_result"
    }
   ],
   "source": [
    "df.query('doi == @to_keep_dois').shape"
   ]
  },
  {
   "cell_type": "code",
   "execution_count": 62,
   "id": "86217626",
   "metadata": {},
   "outputs": [
    {
     "data": {
      "text/html": [
       "<div>\n",
       "<style scoped>\n",
       "    .dataframe tbody tr th:only-of-type {\n",
       "        vertical-align: middle;\n",
       "    }\n",
       "\n",
       "    .dataframe tbody tr th {\n",
       "        vertical-align: top;\n",
       "    }\n",
       "\n",
       "    .dataframe thead th {\n",
       "        text-align: right;\n",
       "    }\n",
       "</style>\n",
       "<table border=\"1\" class=\"dataframe\">\n",
       "  <thead>\n",
       "    <tr style=\"text-align: right;\">\n",
       "      <th></th>\n",
       "      <th>Coder</th>\n",
       "      <th>firstName</th>\n",
       "      <th>genderize</th>\n",
       "      <th>authorID</th>\n",
       "      <th>doi</th>\n",
       "      <th>gender_prediction</th>\n",
       "      <th>race_prediction</th>\n",
       "      <th>gender_prediction_new</th>\n",
       "    </tr>\n",
       "  </thead>\n",
       "  <tbody>\n",
       "    <tr>\n",
       "      <th>0</th>\n",
       "      <td>Haley</td>\n",
       "      <td>Ben</td>\n",
       "      <td>male</td>\n",
       "      <td>10.1093/jcmc/zmab024+1.0</td>\n",
       "      <td>10.1093/jcmc/zmab024</td>\n",
       "      <td>M</td>\n",
       "      <td>1.0</td>\n",
       "      <td>M</td>\n",
       "    </tr>\n",
       "    <tr>\n",
       "      <th>1</th>\n",
       "      <td>Haley</td>\n",
       "      <td>Xuanjun</td>\n",
       "      <td>male</td>\n",
       "      <td>10.1093/joc/jqab044+4.0</td>\n",
       "      <td>10.1093/joc/jqab044</td>\n",
       "      <td>M</td>\n",
       "      <td>2.0</td>\n",
       "      <td>M</td>\n",
       "    </tr>\n",
       "    <tr>\n",
       "      <th>2</th>\n",
       "      <td>Haley</td>\n",
       "      <td>Jonathan</td>\n",
       "      <td>male</td>\n",
       "      <td>10.1093/hcr/hqab020+1.0</td>\n",
       "      <td>10.1093/hcr/hqab020</td>\n",
       "      <td>M</td>\n",
       "      <td>0.0</td>\n",
       "      <td>M</td>\n",
       "    </tr>\n",
       "    <tr>\n",
       "      <th>3</th>\n",
       "      <td>Haley</td>\n",
       "      <td>Anne</td>\n",
       "      <td>female</td>\n",
       "      <td>10.1093/hcr/hqac004+1.0</td>\n",
       "      <td>10.1093/hcr/hqac004</td>\n",
       "      <td>F</td>\n",
       "      <td>0.0</td>\n",
       "      <td>F</td>\n",
       "    </tr>\n",
       "    <tr>\n",
       "      <th>4</th>\n",
       "      <td>Haley</td>\n",
       "      <td>Sophie</td>\n",
       "      <td>female</td>\n",
       "      <td>10.1093/jcmc/zmab019+5.0</td>\n",
       "      <td>10.1093/jcmc/zmab019</td>\n",
       "      <td>F</td>\n",
       "      <td>0.0</td>\n",
       "      <td>F</td>\n",
       "    </tr>\n",
       "  </tbody>\n",
       "</table>\n",
       "</div>"
      ],
      "text/plain": [
       "   Coder firstName genderize                  authorID                   doi  \\\n",
       "0  Haley       Ben      male  10.1093/jcmc/zmab024+1.0  10.1093/jcmc/zmab024   \n",
       "1  Haley   Xuanjun      male   10.1093/joc/jqab044+4.0   10.1093/joc/jqab044   \n",
       "2  Haley  Jonathan      male   10.1093/hcr/hqab020+1.0   10.1093/hcr/hqab020   \n",
       "3  Haley      Anne    female   10.1093/hcr/hqac004+1.0   10.1093/hcr/hqac004   \n",
       "4  Haley    Sophie    female  10.1093/jcmc/zmab019+5.0  10.1093/jcmc/zmab019   \n",
       "\n",
       "  gender_prediction race_prediction gender_prediction_new  \n",
       "0                 M             1.0                     M  \n",
       "1                 M             2.0                     M  \n",
       "2                 M             0.0                     M  \n",
       "3                 F             0.0                     F  \n",
       "4                 F             0.0                     F  "
      ]
     },
     "execution_count": 62,
     "metadata": {},
     "output_type": "execute_result"
    }
   ],
   "source": [
    "df.query('doi == @to_keep_dois').head()"
   ]
  },
  {
   "cell_type": "markdown",
   "id": "7698b1a5",
   "metadata": {},
   "source": [
    "## Update race"
   ]
  },
  {
   "cell_type": "code",
   "execution_count": 417,
   "id": "4844027b",
   "metadata": {},
   "outputs": [],
   "source": [
    "def recode_race(row):\n",
    "    race_txt = 'race_prediction'\n",
    "    if row[race_txt] == 0:\n",
    "        return 'White'\n",
    "    elif row[race_txt] == 1:\n",
    "        return 'Black'\n",
    "    elif row[race_txt] == 2:\n",
    "        return 'Asian'\n",
    "    elif row[race_txt] == 3:\n",
    "        return 'Hispanic'\n",
    "    elif row[race_txt] == 4:\n",
    "        return 'Middle Eastern'\n",
    "    elif row[race_txt] == 5:\n",
    "        return 'Indigenous'"
   ]
  },
  {
   "cell_type": "code",
   "execution_count": 418,
   "id": "47c01aab",
   "metadata": {},
   "outputs": [],
   "source": [
    "df['race'] = df.apply(recode_race, axis = 1)"
   ]
  },
  {
   "cell_type": "code",
   "execution_count": 419,
   "id": "225abc12",
   "metadata": {},
   "outputs": [
    {
     "data": {
      "text/html": [
       "<div>\n",
       "<style scoped>\n",
       "    .dataframe tbody tr th:only-of-type {\n",
       "        vertical-align: middle;\n",
       "    }\n",
       "\n",
       "    .dataframe tbody tr th {\n",
       "        vertical-align: top;\n",
       "    }\n",
       "\n",
       "    .dataframe thead th {\n",
       "        text-align: right;\n",
       "    }\n",
       "</style>\n",
       "<table border=\"1\" class=\"dataframe\">\n",
       "  <thead>\n",
       "    <tr style=\"text-align: right;\">\n",
       "      <th></th>\n",
       "      <th>Coder</th>\n",
       "      <th>firstName</th>\n",
       "      <th>genderize</th>\n",
       "      <th>authorID</th>\n",
       "      <th>doi</th>\n",
       "      <th>gender_prediction</th>\n",
       "      <th>race_prediction</th>\n",
       "      <th>gender_prediction_new</th>\n",
       "      <th>race</th>\n",
       "    </tr>\n",
       "  </thead>\n",
       "  <tbody>\n",
       "    <tr>\n",
       "      <th>0</th>\n",
       "      <td>Haley</td>\n",
       "      <td>Ben</td>\n",
       "      <td>male</td>\n",
       "      <td>10.1093/jcmc/zmab024+1.0</td>\n",
       "      <td>10.1093/jcmc/zmab024</td>\n",
       "      <td>M</td>\n",
       "      <td>1.0</td>\n",
       "      <td>M</td>\n",
       "      <td>Black</td>\n",
       "    </tr>\n",
       "    <tr>\n",
       "      <th>1</th>\n",
       "      <td>Haley</td>\n",
       "      <td>Xuanjun</td>\n",
       "      <td>male</td>\n",
       "      <td>10.1093/joc/jqab044+4.0</td>\n",
       "      <td>10.1093/joc/jqab044</td>\n",
       "      <td>M</td>\n",
       "      <td>2.0</td>\n",
       "      <td>M</td>\n",
       "      <td>Asian</td>\n",
       "    </tr>\n",
       "    <tr>\n",
       "      <th>2</th>\n",
       "      <td>Haley</td>\n",
       "      <td>Jonathan</td>\n",
       "      <td>male</td>\n",
       "      <td>10.1093/hcr/hqab020+1.0</td>\n",
       "      <td>10.1093/hcr/hqab020</td>\n",
       "      <td>M</td>\n",
       "      <td>0.0</td>\n",
       "      <td>M</td>\n",
       "      <td>White</td>\n",
       "    </tr>\n",
       "    <tr>\n",
       "      <th>3</th>\n",
       "      <td>Haley</td>\n",
       "      <td>Anne</td>\n",
       "      <td>female</td>\n",
       "      <td>10.1093/hcr/hqac004+1.0</td>\n",
       "      <td>10.1093/hcr/hqac004</td>\n",
       "      <td>F</td>\n",
       "      <td>0.0</td>\n",
       "      <td>F</td>\n",
       "      <td>White</td>\n",
       "    </tr>\n",
       "    <tr>\n",
       "      <th>4</th>\n",
       "      <td>Haley</td>\n",
       "      <td>Sophie</td>\n",
       "      <td>female</td>\n",
       "      <td>10.1093/jcmc/zmab019+5.0</td>\n",
       "      <td>10.1093/jcmc/zmab019</td>\n",
       "      <td>F</td>\n",
       "      <td>0.0</td>\n",
       "      <td>F</td>\n",
       "      <td>White</td>\n",
       "    </tr>\n",
       "  </tbody>\n",
       "</table>\n",
       "</div>"
      ],
      "text/plain": [
       "   Coder firstName genderize                  authorID                   doi  \\\n",
       "0  Haley       Ben      male  10.1093/jcmc/zmab024+1.0  10.1093/jcmc/zmab024   \n",
       "1  Haley   Xuanjun      male   10.1093/joc/jqab044+4.0   10.1093/joc/jqab044   \n",
       "2  Haley  Jonathan      male   10.1093/hcr/hqab020+1.0   10.1093/hcr/hqab020   \n",
       "3  Haley      Anne    female   10.1093/hcr/hqac004+1.0   10.1093/hcr/hqac004   \n",
       "4  Haley    Sophie    female  10.1093/jcmc/zmab019+5.0  10.1093/jcmc/zmab019   \n",
       "\n",
       "  gender_prediction race_prediction gender_prediction_new   race  \n",
       "0                 M             1.0                     M  Black  \n",
       "1                 M             2.0                     M  Asian  \n",
       "2                 M             0.0                     M  White  \n",
       "3                 F             0.0                     F  White  \n",
       "4                 F             0.0                     F  White  "
      ]
     },
     "execution_count": 419,
     "metadata": {},
     "output_type": "execute_result"
    }
   ],
   "source": [
    "df.head()"
   ]
  },
  {
   "cell_type": "code",
   "execution_count": 420,
   "id": "f133838d",
   "metadata": {},
   "outputs": [
    {
     "data": {
      "text/plain": [
       "<AxesSubplot:xlabel='race', ylabel='count'>"
      ]
     },
     "execution_count": 420,
     "metadata": {},
     "output_type": "execute_result"
    },
    {
     "data": {
      "image/png": "[encoded data removed]",
      "text/plain": [
       "<Figure size 432x288 with 1 Axes>"
      ]
     },
     "metadata": {
      "needs_background": "light"
     },
     "output_type": "display_data"
    }
   ],
   "source": [
    "sns.countplot(x = 'race', data = df)"
   ]
  },
  {
   "cell_type": "code",
   "execution_count": 422,
   "id": "5a2b6b38",
   "metadata": {},
   "outputs": [
    {
     "data": {
      "text/plain": [
       "{'F', 'M', 'N', nan}"
      ]
     },
     "execution_count": 422,
     "metadata": {},
     "output_type": "execute_result"
    }
   ],
   "source": [
    "set(df.gender_prediction_new)"
   ]
  },
  {
   "cell_type": "code",
   "execution_count": 423,
   "id": "cb040a71",
   "metadata": {},
   "outputs": [
    {
     "data": {
      "text/plain": [
       "<AxesSubplot:xlabel='gender_prediction_new', ylabel='count'>"
      ]
     },
     "execution_count": 423,
     "metadata": {},
     "output_type": "execute_result"
    },
    {
     "data": {
      "image/png": "[encoded data removed]",
      "text/plain": [
       "<Figure size 432x288 with 1 Axes>"
      ]
     },
     "metadata": {
      "needs_background": "light"
     },
     "output_type": "display_data"
    }
   ],
   "source": [
    "sns.countplot(x = 'gender_prediction_new', data = df)"
   ]
  },
  {
   "cell_type": "code",
   "execution_count": 424,
   "id": "5f392cd1",
   "metadata": {},
   "outputs": [],
   "source": [
    "df['race_plus_gender'] = df['race'] + df['gender_prediction_new']"
   ]
  },
  {
   "cell_type": "code",
   "execution_count": 425,
   "id": "2d07ce68",
   "metadata": {},
   "outputs": [
    {
     "data": {
      "image/png": "[encoded data removed]",
      "text/plain": [
       "<Figure size 1080x432 with 1 Axes>"
      ]
     },
     "metadata": {
      "needs_background": "light"
     },
     "output_type": "display_data"
    }
   ],
   "source": [
    "plt.figure(figsize=(15,6))\n",
    "ax = sns.countplot(x = 'race_plus_gender', data = df)\n",
    "# plt.xticks(rotation=45)\n",
    "ax.tick_params(axis='x', rotation=40)"
   ]
  },
  {
   "cell_type": "code",
   "execution_count": 426,
   "id": "2ea7580c",
   "metadata": {},
   "outputs": [
    {
     "data": {
      "text/plain": [
       "(11304, 10)"
      ]
     },
     "execution_count": 426,
     "metadata": {},
     "output_type": "execute_result"
    }
   ],
   "source": [
    "df.shape"
   ]
  },
  {
   "cell_type": "markdown",
   "id": "5bf7e19e",
   "metadata": {},
   "source": [
    "## Checking affiliation"
   ]
  },
  {
   "cell_type": "code",
   "execution_count": 111,
   "id": "70df9dd1",
   "metadata": {},
   "outputs": [
    {
     "data": {
      "text/html": [
       "<div>\n",
       "<style scoped>\n",
       "    .dataframe tbody tr th:only-of-type {\n",
       "        vertical-align: middle;\n",
       "    }\n",
       "\n",
       "    .dataframe tbody tr th {\n",
       "        vertical-align: top;\n",
       "    }\n",
       "\n",
       "    .dataframe thead th {\n",
       "        text-align: right;\n",
       "    }\n",
       "</style>\n",
       "<table border=\"1\" class=\"dataframe\">\n",
       "  <thead>\n",
       "    <tr style=\"text-align: right;\">\n",
       "      <th></th>\n",
       "      <th>authorID</th>\n",
       "      <th>new_country_code</th>\n",
       "      <th>new_afftype</th>\n",
       "    </tr>\n",
       "  </thead>\n",
       "  <tbody>\n",
       "    <tr>\n",
       "      <th>0</th>\n",
       "      <td>10.1093/jcmc/zmab019+4.0</td>\n",
       "      <td>AT</td>\n",
       "      <td>Education</td>\n",
       "    </tr>\n",
       "    <tr>\n",
       "      <th>1</th>\n",
       "      <td>10.1093/jcmc/zmab019+5.0</td>\n",
       "      <td>AT</td>\n",
       "      <td>Education</td>\n",
       "    </tr>\n",
       "    <tr>\n",
       "      <th>2</th>\n",
       "      <td>10.1093/joc/jqab052+5.0</td>\n",
       "      <td>US</td>\n",
       "      <td>Education</td>\n",
       "    </tr>\n",
       "    <tr>\n",
       "      <th>3</th>\n",
       "      <td>10.1093/ccc/tcac007+1.0</td>\n",
       "      <td>CN</td>\n",
       "      <td>Education</td>\n",
       "    </tr>\n",
       "    <tr>\n",
       "      <th>4</th>\n",
       "      <td>10.1093/joc/jqac012+4.0</td>\n",
       "      <td>US</td>\n",
       "      <td>Education</td>\n",
       "    </tr>\n",
       "    <tr>\n",
       "      <th>...</th>\n",
       "      <td>...</td>\n",
       "      <td>...</td>\n",
       "      <td>...</td>\n",
       "    </tr>\n",
       "    <tr>\n",
       "      <th>4429</th>\n",
       "      <td>10.1111/j.1083-6101.2010.01508.x+7.0</td>\n",
       "      <td>US</td>\n",
       "      <td>Education</td>\n",
       "    </tr>\n",
       "    <tr>\n",
       "      <th>4430</th>\n",
       "      <td>10.1111/j.1753-9137.2010.01073.x+2.0</td>\n",
       "      <td>MX</td>\n",
       "      <td>Education</td>\n",
       "    </tr>\n",
       "    <tr>\n",
       "      <th>4431</th>\n",
       "      <td>10.1111/j.1083-6101.2010.01532.x+1.0</td>\n",
       "      <td>US</td>\n",
       "      <td>Education</td>\n",
       "    </tr>\n",
       "    <tr>\n",
       "      <th>4432</th>\n",
       "      <td>10.1111/j.1753-9137.2010.01079.x+1.0</td>\n",
       "      <td>US</td>\n",
       "      <td>Education</td>\n",
       "    </tr>\n",
       "    <tr>\n",
       "      <th>4433</th>\n",
       "      <td>10.1111/j.1083-6101.2009.01509.x+3.0</td>\n",
       "      <td>CH</td>\n",
       "      <td>Education</td>\n",
       "    </tr>\n",
       "  </tbody>\n",
       "</table>\n",
       "<p>4434 rows × 3 columns</p>\n",
       "</div>"
      ],
      "text/plain": [
       "                                  authorID new_country_code new_afftype\n",
       "0                 10.1093/jcmc/zmab019+4.0               AT   Education\n",
       "1                 10.1093/jcmc/zmab019+5.0               AT   Education\n",
       "2                  10.1093/joc/jqab052+5.0               US   Education\n",
       "3                  10.1093/ccc/tcac007+1.0               CN   Education\n",
       "4                  10.1093/joc/jqac012+4.0               US   Education\n",
       "...                                    ...              ...         ...\n",
       "4429  10.1111/j.1083-6101.2010.01508.x+7.0               US   Education\n",
       "4430  10.1111/j.1753-9137.2010.01073.x+2.0               MX   Education\n",
       "4431  10.1111/j.1083-6101.2010.01532.x+1.0               US   Education\n",
       "4432  10.1111/j.1753-9137.2010.01079.x+1.0               US   Education\n",
       "4433  10.1111/j.1083-6101.2009.01509.x+3.0               CH   Education\n",
       "\n",
       "[4434 rows x 3 columns]"
      ]
     },
     "execution_count": 111,
     "metadata": {},
     "output_type": "execute_result"
    }
   ],
   "source": [
    "aff_df = pd.read_csv('aff_df.csv')\n",
    "aff_df = aff_df[['authorID', 'new_country_code', 'new_afftype']]\n",
    "aff_df"
   ]
  },
  {
   "cell_type": "code",
   "execution_count": 114,
   "id": "06de4b15",
   "metadata": {},
   "outputs": [
    {
     "data": {
      "text/html": [
       "<div>\n",
       "<style scoped>\n",
       "    .dataframe tbody tr th:only-of-type {\n",
       "        vertical-align: middle;\n",
       "    }\n",
       "\n",
       "    .dataframe tbody tr th {\n",
       "        vertical-align: top;\n",
       "    }\n",
       "\n",
       "    .dataframe thead th {\n",
       "        text-align: right;\n",
       "    }\n",
       "</style>\n",
       "<table border=\"1\" class=\"dataframe\">\n",
       "  <thead>\n",
       "    <tr style=\"text-align: right;\">\n",
       "      <th></th>\n",
       "      <th>authorID</th>\n",
       "      <th>new_country_code</th>\n",
       "      <th>new_afftype</th>\n",
       "      <th>gender_prediction</th>\n",
       "      <th>race_prediction</th>\n",
       "      <th>race</th>\n",
       "      <th>race_plus_gender</th>\n",
       "    </tr>\n",
       "  </thead>\n",
       "  <tbody>\n",
       "    <tr>\n",
       "      <th>0</th>\n",
       "      <td>10.1093/jcmc/zmab019+4.0</td>\n",
       "      <td>AT</td>\n",
       "      <td>Education</td>\n",
       "      <td>F</td>\n",
       "      <td>0.0</td>\n",
       "      <td>White</td>\n",
       "      <td>WhiteF</td>\n",
       "    </tr>\n",
       "    <tr>\n",
       "      <th>1</th>\n",
       "      <td>10.1093/jcmc/zmab019+5.0</td>\n",
       "      <td>AT</td>\n",
       "      <td>Education</td>\n",
       "      <td>F</td>\n",
       "      <td>0.0</td>\n",
       "      <td>White</td>\n",
       "      <td>WhiteF</td>\n",
       "    </tr>\n",
       "    <tr>\n",
       "      <th>2</th>\n",
       "      <td>10.1093/joc/jqab052+5.0</td>\n",
       "      <td>US</td>\n",
       "      <td>Education</td>\n",
       "      <td>F</td>\n",
       "      <td>2.0</td>\n",
       "      <td>Asian</td>\n",
       "      <td>AsianF</td>\n",
       "    </tr>\n",
       "    <tr>\n",
       "      <th>3</th>\n",
       "      <td>10.1093/ccc/tcac007+1.0</td>\n",
       "      <td>CN</td>\n",
       "      <td>Education</td>\n",
       "      <td>F</td>\n",
       "      <td>0.0</td>\n",
       "      <td>White</td>\n",
       "      <td>WhiteF</td>\n",
       "    </tr>\n",
       "    <tr>\n",
       "      <th>4</th>\n",
       "      <td>10.1093/joc/jqac012+4.0</td>\n",
       "      <td>US</td>\n",
       "      <td>Education</td>\n",
       "      <td>M</td>\n",
       "      <td>0.0</td>\n",
       "      <td>White</td>\n",
       "      <td>WhiteM</td>\n",
       "    </tr>\n",
       "    <tr>\n",
       "      <th>...</th>\n",
       "      <td>...</td>\n",
       "      <td>...</td>\n",
       "      <td>...</td>\n",
       "      <td>...</td>\n",
       "      <td>...</td>\n",
       "      <td>...</td>\n",
       "      <td>...</td>\n",
       "    </tr>\n",
       "    <tr>\n",
       "      <th>4429</th>\n",
       "      <td>10.1111/j.1083-6101.2010.01508.x+7.0</td>\n",
       "      <td>US</td>\n",
       "      <td>Education</td>\n",
       "      <td>F</td>\n",
       "      <td>0.0</td>\n",
       "      <td>White</td>\n",
       "      <td>WhiteF</td>\n",
       "    </tr>\n",
       "    <tr>\n",
       "      <th>4430</th>\n",
       "      <td>10.1111/j.1753-9137.2010.01073.x+2.0</td>\n",
       "      <td>MX</td>\n",
       "      <td>Education</td>\n",
       "      <td>M</td>\n",
       "      <td>3.0</td>\n",
       "      <td>Hispanic</td>\n",
       "      <td>HispanicM</td>\n",
       "    </tr>\n",
       "    <tr>\n",
       "      <th>4431</th>\n",
       "      <td>10.1111/j.1083-6101.2010.01532.x+1.0</td>\n",
       "      <td>US</td>\n",
       "      <td>Education</td>\n",
       "      <td>F</td>\n",
       "      <td>3.0</td>\n",
       "      <td>Hispanic</td>\n",
       "      <td>HispanicF</td>\n",
       "    </tr>\n",
       "    <tr>\n",
       "      <th>4432</th>\n",
       "      <td>10.1111/j.1753-9137.2010.01079.x+1.0</td>\n",
       "      <td>US</td>\n",
       "      <td>Education</td>\n",
       "      <td>F</td>\n",
       "      <td>2.0</td>\n",
       "      <td>Asian</td>\n",
       "      <td>AsianF</td>\n",
       "    </tr>\n",
       "    <tr>\n",
       "      <th>4433</th>\n",
       "      <td>10.1111/j.1083-6101.2009.01509.x+3.0</td>\n",
       "      <td>CH</td>\n",
       "      <td>Education</td>\n",
       "      <td>F</td>\n",
       "      <td>0.0</td>\n",
       "      <td>White</td>\n",
       "      <td>WhiteF</td>\n",
       "    </tr>\n",
       "  </tbody>\n",
       "</table>\n",
       "<p>4434 rows × 7 columns</p>\n",
       "</div>"
      ],
      "text/plain": [
       "                                  authorID new_country_code new_afftype  \\\n",
       "0                 10.1093/jcmc/zmab019+4.0               AT   Education   \n",
       "1                 10.1093/jcmc/zmab019+5.0               AT   Education   \n",
       "2                  10.1093/joc/jqab052+5.0               US   Education   \n",
       "3                  10.1093/ccc/tcac007+1.0               CN   Education   \n",
       "4                  10.1093/joc/jqac012+4.0               US   Education   \n",
       "...                                    ...              ...         ...   \n",
       "4429  10.1111/j.1083-6101.2010.01508.x+7.0               US   Education   \n",
       "4430  10.1111/j.1753-9137.2010.01073.x+2.0               MX   Education   \n",
       "4431  10.1111/j.1083-6101.2010.01532.x+1.0               US   Education   \n",
       "4432  10.1111/j.1753-9137.2010.01079.x+1.0               US   Education   \n",
       "4433  10.1111/j.1083-6101.2009.01509.x+3.0               CH   Education   \n",
       "\n",
       "     gender_prediction  race_prediction      race race_plus_gender  \n",
       "0                    F              0.0     White           WhiteF  \n",
       "1                    F              0.0     White           WhiteF  \n",
       "2                    F              2.0     Asian           AsianF  \n",
       "3                    F              0.0     White           WhiteF  \n",
       "4                    M              0.0     White           WhiteM  \n",
       "...                ...              ...       ...              ...  \n",
       "4429                 F              0.0     White           WhiteF  \n",
       "4430                 M              3.0  Hispanic        HispanicM  \n",
       "4431                 F              3.0  Hispanic        HispanicF  \n",
       "4432                 F              2.0     Asian           AsianF  \n",
       "4433                 F              0.0     White           WhiteF  \n",
       "\n",
       "[4434 rows x 7 columns]"
      ]
     },
     "execution_count": 114,
     "metadata": {},
     "output_type": "execute_result"
    }
   ],
   "source": [
    "pd.merge(aff_df, df, on = 'authorID')"
   ]
  },
  {
   "cell_type": "code",
   "execution_count": 116,
   "id": "de0b08e8",
   "metadata": {},
   "outputs": [
    {
     "data": {
      "text/plain": [
       "True"
      ]
     },
     "execution_count": 116,
     "metadata": {},
     "output_type": "execute_result"
    }
   ],
   "source": [
    "set(aff_df.authorID) == set(df.authorID)"
   ]
  }
 ],
 "metadata": {
  "kernelspec": {
   "display_name": "Python 3 (ipykernel)",
   "language": "python",
   "name": "python3"
  },
  "language_info": {
   "codemirror_mode": {
    "name": "ipython",
    "version": 3
   },
   "file_extension": ".py",
   "mimetype": "text/x-python",
   "name": "python",
   "nbconvert_exporter": "python",
   "pygments_lexer": "ipython3",
   "version": "3.11.6"
  }
 },
 "nbformat": 4,
 "nbformat_minor": 5
}
