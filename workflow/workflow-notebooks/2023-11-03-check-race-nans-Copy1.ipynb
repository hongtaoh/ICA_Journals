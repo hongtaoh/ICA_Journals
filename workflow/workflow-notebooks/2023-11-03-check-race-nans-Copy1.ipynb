{
 "cells": [
  {
   "cell_type": "markdown",
   "id": "14c7eb04",
   "metadata": {},
   "source": [
    "## Aim\n",
    "\n",
    "With this notebook, I want to see whether all coders have coded the race var. I need to make sure that no one is omitted because there is no race coded for ica authors.\n",
    "\n",
    "### Result\n",
    "\n",
    "It turns out that every author has race prediction. So no authors were deleted for lack of race prediction. "
   ]
  },
  {
   "cell_type": "code",
   "execution_count": 1,
   "id": "e0cf26b1",
   "metadata": {},
   "outputs": [],
   "source": [
    "import pandas as pd\n",
    "import numpy as np\n",
    "import seaborn as sns\n",
    "import matplotlib.pyplot as plt\n",
    "from collections import Counter"
   ]
  },
  {
   "cell_type": "code",
   "execution_count": 2,
   "id": "d6d738a0",
   "metadata": {},
   "outputs": [],
   "source": [
    "# names = ['haley', 'jongmin', 'jaemin', 'jeff', 'matthew', 'michelle']\n",
    "names = ['haley', 'jaemin', 'matthew', 'michelle', 'jongmin', 'jeff']\n",
    "data_dir = '../../data/interim/gender_race_result'"
   ]
  },
  {
   "cell_type": "code",
   "execution_count": 3,
   "id": "788e1945",
   "metadata": {},
   "outputs": [],
   "source": [
    "haley = pd.read_csv(f'{data_dir}/haley.csv')\n",
    "haley['Coder'] = 'Haley'\n",
    "matthew = pd.read_csv(f'{data_dir}/matthew.csv')\n",
    "matthew['Coder'] = 'Matthew'\n",
    "michelle = pd.read_csv(f'{data_dir}/michelle.csv')\n",
    "michelle['Coder'] = 'Michelle'\n",
    "jeff = pd.read_csv(f'{data_dir}/jeff.csv')\n",
    "jeff['Coder'] = 'Jeff'\n",
    "jongmin = pd.read_csv(f'{data_dir}/jongmin.csv')\n",
    "jongmin['Coder'] = 'Jongmin'\n",
    "jaemin = pd.read_csv(f'{data_dir}/jaemin.csv')\n",
    "jaemin['Coder'] = 'Jaemin'\n",
    "jaemin['gender_prediction'] = jaemin['gender_prediction'].str.replace(' M', 'M')"
   ]
  },
  {
   "cell_type": "code",
   "execution_count": 4,
   "id": "aaac356f",
   "metadata": {},
   "outputs": [
    {
     "data": {
      "text/html": [
       "<div>\n",
       "<style scoped>\n",
       "    .dataframe tbody tr th:only-of-type {\n",
       "        vertical-align: middle;\n",
       "    }\n",
       "\n",
       "    .dataframe tbody tr th {\n",
       "        vertical-align: top;\n",
       "    }\n",
       "\n",
       "    .dataframe thead th {\n",
       "        text-align: right;\n",
       "    }\n",
       "</style>\n",
       "<table border=\"1\" class=\"dataframe\">\n",
       "  <thead>\n",
       "    <tr style=\"text-align: right;\">\n",
       "      <th></th>\n",
       "      <th>Unnamed: 0</th>\n",
       "      <th>authorID</th>\n",
       "      <th>doi</th>\n",
       "      <th>url</th>\n",
       "      <th>year</th>\n",
       "      <th>title</th>\n",
       "      <th>journal</th>\n",
       "      <th>numberOfAuthors</th>\n",
       "      <th>authorPosition</th>\n",
       "      <th>authorFullName</th>\n",
       "      <th>...</th>\n",
       "      <th>affiliation.2</th>\n",
       "      <th>ROR_AFFNAME</th>\n",
       "      <th>matchMethod</th>\n",
       "      <th>ROR_ID</th>\n",
       "      <th>type</th>\n",
       "      <th>gender_prediction</th>\n",
       "      <th>genderpred_api</th>\n",
       "      <th>race_prediction</th>\n",
       "      <th>racepred_api</th>\n",
       "      <th>Coder</th>\n",
       "    </tr>\n",
       "  </thead>\n",
       "  <tbody>\n",
       "    <tr>\n",
       "      <th>1842</th>\n",
       "      <td>4761</td>\n",
       "      <td>10.1111/j.1460-2466.1962.tb01529.x+2.0</td>\n",
       "      <td>10.1111/j.1460-2466.1962.tb01529.x</td>\n",
       "      <td>https://academic.oup.com/joc/article/12/2/90/4...</td>\n",
       "      <td>1962</td>\n",
       "      <td>An Attempt to Quantify the “Abstraction Ladder”</td>\n",
       "      <td>Journal of Communication</td>\n",
       "      <td>3</td>\n",
       "      <td>2</td>\n",
       "      <td>W. W. Lewis</td>\n",
       "      <td>...</td>\n",
       "      <td>2 Dr. Lewis is temporarily Chief Assessment Br...</td>\n",
       "      <td>The New Teacher Project</td>\n",
       "      <td>API_QUERY</td>\n",
       "      <td>https://ror.org/04p9zhq85</td>\n",
       "      <td>R</td>\n",
       "      <td>M</td>\n",
       "      <td>NaN</td>\n",
       "      <td>0</td>\n",
       "      <td>NaN</td>\n",
       "      <td>Jongmin</td>\n",
       "    </tr>\n",
       "  </tbody>\n",
       "</table>\n",
       "<p>1 rows × 45 columns</p>\n",
       "</div>"
      ],
      "text/plain": [
       "      Unnamed: 0                                authorID  \\\n",
       "1842        4761  10.1111/j.1460-2466.1962.tb01529.x+2.0   \n",
       "\n",
       "                                     doi  \\\n",
       "1842  10.1111/j.1460-2466.1962.tb01529.x   \n",
       "\n",
       "                                                    url  year  \\\n",
       "1842  https://academic.oup.com/joc/article/12/2/90/4...  1962   \n",
       "\n",
       "                                                title  \\\n",
       "1842  An Attempt to Quantify the “Abstraction Ladder”   \n",
       "\n",
       "                       journal  numberOfAuthors  authorPosition  \\\n",
       "1842  Journal of Communication                3               2   \n",
       "\n",
       "     authorFullName  ...                                      affiliation.2  \\\n",
       "1842    W. W. Lewis  ...  2 Dr. Lewis is temporarily Chief Assessment Br...   \n",
       "\n",
       "                  ROR_AFFNAME matchMethod                     ROR_ID type  \\\n",
       "1842  The New Teacher Project   API_QUERY  https://ror.org/04p9zhq85    R   \n",
       "\n",
       "     gender_prediction  genderpred_api  race_prediction racepred_api    Coder  \n",
       "1842                 M             NaN                0          NaN  Jongmin  \n",
       "\n",
       "[1 rows x 45 columns]"
      ]
     },
     "execution_count": 4,
     "metadata": {},
     "output_type": "execute_result"
    }
   ],
   "source": [
    "jongmin[jongmin.authorID == '10.1111/j.1460-2466.1962.tb01529.x+2.0']"
   ]
  },
  {
   "cell_type": "code",
   "execution_count": 5,
   "id": "33fdb8ca",
   "metadata": {},
   "outputs": [
    {
     "data": {
      "text/plain": [
       "{'F', 'M', 'f', 'm', 'n', nan}"
      ]
     },
     "execution_count": 5,
     "metadata": {},
     "output_type": "execute_result"
    }
   ],
   "source": [
    "set(matthew.gender_prediction)"
   ]
  },
  {
   "cell_type": "code",
   "execution_count": 6,
   "id": "0e50223a",
   "metadata": {},
   "outputs": [],
   "source": [
    "matthew_upperclass_dict = {\n",
    "    'm': 'M',\n",
    "    'n': 'N',\n",
    "    'f': 'F'\n",
    "}"
   ]
  },
  {
   "cell_type": "code",
   "execution_count": 7,
   "id": "d037d9db",
   "metadata": {},
   "outputs": [],
   "source": [
    "'''https://stackoverflow.com/a/68046167\n",
    "'''\n",
    "for old, new in matthew_upperclass_dict.items():\n",
    "    matthew['gender_prediction'] = matthew['gender_prediction'].str.replace(old, new, regex=False)"
   ]
  },
  {
   "cell_type": "code",
   "execution_count": 8,
   "id": "d9ff7621",
   "metadata": {},
   "outputs": [
    {
     "data": {
      "text/plain": [
       "({'F', 'M', 'N'}, {'F', 'M'})"
      ]
     },
     "execution_count": 8,
     "metadata": {},
     "output_type": "execute_result"
    }
   ],
   "source": [
    "set(jaemin.gender_prediction), set(jongmin.gender_prediction)"
   ]
  },
  {
   "cell_type": "code",
   "execution_count": 9,
   "id": "51ef3611",
   "metadata": {},
   "outputs": [
    {
     "data": {
      "text/plain": [
       "({'F', 'M'}, {'F', 'M', 'N', nan})"
      ]
     },
     "execution_count": 9,
     "metadata": {},
     "output_type": "execute_result"
    }
   ],
   "source": [
    "set(jeff.gender_prediction), set(matthew.gender_prediction)"
   ]
  },
  {
   "cell_type": "markdown",
   "id": "4bddd4c5",
   "metadata": {},
   "source": [
    "## Deal with Haley and Michelle data"
   ]
  },
  {
   "cell_type": "markdown",
   "id": "2644cd64",
   "metadata": {},
   "source": [
    "### Gender"
   ]
  },
  {
   "cell_type": "code",
   "execution_count": 10,
   "id": "4e57b8be",
   "metadata": {},
   "outputs": [
    {
     "data": {
      "text/plain": [
       "{'F', 'M', 'N', nan}"
      ]
     },
     "execution_count": 10,
     "metadata": {},
     "output_type": "execute_result"
    }
   ],
   "source": [
    "# for haley: if genderpred_api is nan, use gender_prediction, otherwise, use genderize result\n",
    "haley_genderpred = np.where(\n",
    "    haley.genderpred_api.isnull(), haley[\"gender_prediction\"], haley.genderize)\n",
    "haley_genderpred[haley_genderpred == 'female'] = 'F'\n",
    "haley_genderpred[haley_genderpred == 'male'] = 'M'\n",
    "set(haley_genderpred)"
   ]
  },
  {
   "cell_type": "code",
   "execution_count": 11,
   "id": "38d02303",
   "metadata": {},
   "outputs": [
    {
     "data": {
      "text/plain": [
       "{'F', 'M', 'N', nan}"
      ]
     },
     "execution_count": 11,
     "metadata": {},
     "output_type": "execute_result"
    }
   ],
   "source": [
    "# for michelle: if genderpred_api is nan, use gender_prediction, otherwise, use genderize result\n",
    "michelle_genderpred = np.where(\n",
    "    michelle.genderpred_api.isnull(), michelle[\"gender_prediction\"], michelle.genderize)\n",
    "michelle_genderpred[michelle_genderpred == 'female'] = 'F'\n",
    "michelle_genderpred[michelle_genderpred == 'male'] = 'M'\n",
    "set(michelle_genderpred)"
   ]
  },
  {
   "cell_type": "code",
   "execution_count": 12,
   "id": "8908537e",
   "metadata": {},
   "outputs": [
    {
     "data": {
      "text/plain": [
       "array([[1594],\n",
       "       [1657]])"
      ]
     },
     "execution_count": 12,
     "metadata": {},
     "output_type": "execute_result"
    }
   ],
   "source": [
    "# there are two nans because haley said to rely on genderize which provides nan\n",
    "np.argwhere(haley_genderpred!=haley_genderpred)"
   ]
  },
  {
   "cell_type": "code",
   "execution_count": 13,
   "id": "159fe113",
   "metadata": {},
   "outputs": [],
   "source": [
    "# haley.iloc[1657, :]"
   ]
  },
  {
   "cell_type": "code",
   "execution_count": 14,
   "id": "bc578da8",
   "metadata": {},
   "outputs": [
    {
     "data": {
      "text/plain": [
       "array([[1586],\n",
       "       [1606]])"
      ]
     },
     "execution_count": 14,
     "metadata": {},
     "output_type": "execute_result"
    }
   ],
   "source": [
    "# there are two nans because michelle said to rely on genderize which provides nan\n",
    "np.argwhere(michelle_genderpred!=michelle_genderpred)"
   ]
  },
  {
   "cell_type": "code",
   "execution_count": 15,
   "id": "6dfcddc0",
   "metadata": {},
   "outputs": [],
   "source": [
    "# michelle.iloc[1606, :]"
   ]
  },
  {
   "cell_type": "markdown",
   "id": "18a1792d",
   "metadata": {},
   "source": [
    "### Race"
   ]
  },
  {
   "cell_type": "code",
   "execution_count": 16,
   "id": "a5165cdb",
   "metadata": {},
   "outputs": [
    {
     "data": {
      "text/plain": [
       "{'api', 'black', 'hispanic', 'white'}"
      ]
     },
     "execution_count": 16,
     "metadata": {},
     "output_type": "execute_result"
    }
   ],
   "source": [
    "set(haley.race)"
   ]
  },
  {
   "cell_type": "code",
   "execution_count": 17,
   "id": "5eb7ee40",
   "metadata": {},
   "outputs": [
    {
     "data": {
      "text/plain": [
       "{0.0, 1.0, 2.0, 3.0, 4.0, 5.0}"
      ]
     },
     "execution_count": 17,
     "metadata": {},
     "output_type": "execute_result"
    }
   ],
   "source": [
    "# for haley: if racepred_api is nan, use race_prediction, otherwise, use racepred_api result\n",
    "haley_racepred = np.where(\n",
    "    haley.racepred_api.isnull(), haley[\"race_prediction\"], haley.race)\n",
    "haley_racepred[haley_racepred == 'api'] = 2\n",
    "haley_racepred[haley_racepred == 'hispanic'] = 3\n",
    "haley_racepred[haley_racepred == 'white'] = 0\n",
    "set(haley_racepred)"
   ]
  },
  {
   "cell_type": "code",
   "execution_count": 18,
   "id": "a0e07a5f",
   "metadata": {},
   "outputs": [
    {
     "data": {
      "text/plain": [
       "{0.0, 1.0, 2.0, 3.0, 4.0, 5.0}"
      ]
     },
     "execution_count": 18,
     "metadata": {},
     "output_type": "execute_result"
    }
   ],
   "source": [
    "# for michelle: if racepred_api is nan, use race_prediction, otherwise, use racepred_api result\n",
    "michelle_racepred = np.where(\n",
    "    michelle.racepred_api.isnull(), michelle[\"race_prediction\"], michelle.race)\n",
    "michelle_racepred[michelle_racepred == 'api'] = 2\n",
    "michelle_racepred[michelle_racepred == 'hispanic'] = 3\n",
    "michelle_racepred[michelle_racepred == 'white'] = 0\n",
    "set(michelle_racepred)"
   ]
  },
  {
   "cell_type": "markdown",
   "id": "b580dda6",
   "metadata": {},
   "source": [
    "### Update data"
   ]
  },
  {
   "cell_type": "code",
   "execution_count": 21,
   "id": "9e382d1d",
   "metadata": {},
   "outputs": [],
   "source": [
    "haley['gender_prediction'] = haley_genderpred\n",
    "michelle['gender_prediction'] = michelle_genderpred\n",
    "haley['race_prediction'] = haley_racepred\n",
    "michelle['race_prediction'] = michelle_racepred"
   ]
  },
  {
   "cell_type": "markdown",
   "id": "07410a4d",
   "metadata": {},
   "source": [
    "## Matthew"
   ]
  },
  {
   "cell_type": "code",
   "execution_count": 22,
   "id": "85c71426",
   "metadata": {},
   "outputs": [
    {
     "data": {
      "text/plain": [
       "Counter({'M': 1177, 'F': 703, nan: 3, 'N': 1})"
      ]
     },
     "execution_count": 22,
     "metadata": {},
     "output_type": "execute_result"
    }
   ],
   "source": [
    "Counter(matthew.gender_prediction)"
   ]
  },
  {
   "cell_type": "code",
   "execution_count": 23,
   "id": "4667f109",
   "metadata": {},
   "outputs": [
    {
     "data": {
      "text/plain": [
       "Counter({0: 1508, 2: 232, 3: 73, 4: 35, 1: 34, 5: 2})"
      ]
     },
     "execution_count": 23,
     "metadata": {},
     "output_type": "execute_result"
    }
   ],
   "source": [
    "Counter(matthew.race_prediction)"
   ]
  },
  {
   "cell_type": "markdown",
   "id": "e5ade4c3",
   "metadata": {},
   "source": [
    "## Jaemin"
   ]
  },
  {
   "cell_type": "code",
   "execution_count": 24,
   "id": "de6e41af",
   "metadata": {},
   "outputs": [
    {
     "data": {
      "text/plain": [
       "Counter({'M': 1110, 'F': 773, 'N': 1})"
      ]
     },
     "execution_count": 24,
     "metadata": {},
     "output_type": "execute_result"
    }
   ],
   "source": [
    "Counter(jaemin.gender_prediction)"
   ]
  },
  {
   "cell_type": "code",
   "execution_count": 25,
   "id": "0427ec5e",
   "metadata": {},
   "outputs": [
    {
     "data": {
      "text/plain": [
       "Counter({0: 1541, 2: 240, 3: 57, 1: 30, 4: 15, 5: 1})"
      ]
     },
     "execution_count": 25,
     "metadata": {},
     "output_type": "execute_result"
    }
   ],
   "source": [
    "Counter(jaemin.race_prediction)"
   ]
  },
  {
   "cell_type": "markdown",
   "id": "dfa87bea",
   "metadata": {},
   "source": [
    "## Jongmin"
   ]
  },
  {
   "cell_type": "code",
   "execution_count": 26,
   "id": "a5329b6f",
   "metadata": {},
   "outputs": [
    {
     "data": {
      "text/plain": [
       "Counter({'M': 1135, 'F': 749})"
      ]
     },
     "execution_count": 26,
     "metadata": {},
     "output_type": "execute_result"
    }
   ],
   "source": [
    "Counter(jongmin.gender_prediction)"
   ]
  },
  {
   "cell_type": "code",
   "execution_count": 27,
   "id": "759b586b",
   "metadata": {},
   "outputs": [
    {
     "data": {
      "text/plain": [
       "Counter({0: 1552, 2: 212, 3: 61, 1: 32, 4: 24, 5: 3})"
      ]
     },
     "execution_count": 27,
     "metadata": {},
     "output_type": "execute_result"
    }
   ],
   "source": [
    "Counter(jongmin.race_prediction)"
   ]
  },
  {
   "cell_type": "markdown",
   "id": "6a8782e1",
   "metadata": {},
   "source": [
    "## Jeff"
   ]
  },
  {
   "cell_type": "code",
   "execution_count": 28,
   "id": "ea03e135",
   "metadata": {},
   "outputs": [
    {
     "data": {
      "text/plain": [
       "Counter({'M': 1184, 'F': 700})"
      ]
     },
     "execution_count": 28,
     "metadata": {},
     "output_type": "execute_result"
    }
   ],
   "source": [
    "Counter(jeff.gender_prediction)"
   ]
  },
  {
   "cell_type": "code",
   "execution_count": 29,
   "id": "44677769",
   "metadata": {},
   "outputs": [],
   "source": [
    "# Counter(jeff.race_prediction)"
   ]
  },
  {
   "cell_type": "markdown",
   "id": "3a374754",
   "metadata": {},
   "source": [
    "## Organize data"
   ]
  },
  {
   "cell_type": "code",
   "execution_count": 30,
   "id": "e1ebc2af",
   "metadata": {},
   "outputs": [
    {
     "data": {
      "text/plain": [
       "({'F', 'M', 'N', nan}, {0.0, 1.0, 2.0, 3.0, 4.0, 5.0})"
      ]
     },
     "execution_count": 30,
     "metadata": {},
     "output_type": "execute_result"
    }
   ],
   "source": [
    "haley = haley[['Coder', 'firstName', 'genderize', 'authorID', 'doi', 'gender_prediction', 'race_prediction']]\n",
    "set(haley.gender_prediction), set(haley.race_prediction)"
   ]
  },
  {
   "cell_type": "code",
   "execution_count": 31,
   "id": "a742a778",
   "metadata": {},
   "outputs": [
    {
     "data": {
      "text/plain": [
       "({'F', 'M', 'N', nan}, {0, 1, 2, 3, 4, 5})"
      ]
     },
     "execution_count": 31,
     "metadata": {},
     "output_type": "execute_result"
    }
   ],
   "source": [
    "matthew = matthew[['Coder', 'firstName', 'genderize', 'authorID', 'doi', 'gender_prediction', 'race_prediction']]\n",
    "set(matthew.gender_prediction), set(matthew.race_prediction)"
   ]
  },
  {
   "cell_type": "code",
   "execution_count": 32,
   "id": "001defcd",
   "metadata": {},
   "outputs": [
    {
     "data": {
      "text/plain": [
       "({'F', 'M', 'N', nan}, {0.0, 1.0, 2.0, 3.0, 4.0, 5.0})"
      ]
     },
     "execution_count": 32,
     "metadata": {},
     "output_type": "execute_result"
    }
   ],
   "source": [
    "michelle = michelle[['Coder', 'firstName', 'genderize', 'authorID', 'doi', 'gender_prediction', 'race_prediction']]\n",
    "set(michelle.gender_prediction), set(michelle.race_prediction)"
   ]
  },
  {
   "cell_type": "code",
   "execution_count": 33,
   "id": "068eb9e8",
   "metadata": {},
   "outputs": [
    {
     "data": {
      "text/plain": [
       "({'F', 'M', 'N'}, {0, 1, 2, 3, 4, 5})"
      ]
     },
     "execution_count": 33,
     "metadata": {},
     "output_type": "execute_result"
    }
   ],
   "source": [
    "jaemin = jaemin[['Coder', 'firstName', 'genderize', 'authorID', 'doi', 'gender_prediction', 'race_prediction']]\n",
    "set(jaemin.gender_prediction), set(jaemin.race_prediction)"
   ]
  },
  {
   "cell_type": "code",
   "execution_count": 34,
   "id": "6a672896",
   "metadata": {},
   "outputs": [
    {
     "data": {
      "text/plain": [
       "{'F', 'M'}"
      ]
     },
     "execution_count": 34,
     "metadata": {},
     "output_type": "execute_result"
    }
   ],
   "source": [
    "jeff = jeff[['Coder', 'firstName', 'genderize', 'authorID', 'doi', 'gender_prediction', 'race_prediction']]\n",
    "set(jeff.gender_prediction)"
   ]
  },
  {
   "cell_type": "code",
   "execution_count": 35,
   "id": "a73c9bf7",
   "metadata": {},
   "outputs": [
    {
     "data": {
      "text/plain": [
       "({'F', 'M'}, {0, 1, 2, 3, 4, 5})"
      ]
     },
     "execution_count": 35,
     "metadata": {},
     "output_type": "execute_result"
    }
   ],
   "source": [
    "jongmin = jongmin[['Coder', 'firstName', 'genderize', 'authorID', 'doi', 'gender_prediction', 'race_prediction']]\n",
    "set(jongmin.gender_prediction), set(jongmin.race_prediction)"
   ]
  },
  {
   "cell_type": "code",
   "execution_count": 36,
   "id": "66753ba2",
   "metadata": {},
   "outputs": [
    {
     "data": {
      "text/html": [
       "<div>\n",
       "<style scoped>\n",
       "    .dataframe tbody tr th:only-of-type {\n",
       "        vertical-align: middle;\n",
       "    }\n",
       "\n",
       "    .dataframe tbody tr th {\n",
       "        vertical-align: top;\n",
       "    }\n",
       "\n",
       "    .dataframe thead th {\n",
       "        text-align: right;\n",
       "    }\n",
       "</style>\n",
       "<table border=\"1\" class=\"dataframe\">\n",
       "  <thead>\n",
       "    <tr style=\"text-align: right;\">\n",
       "      <th></th>\n",
       "      <th>Coder</th>\n",
       "      <th>firstName</th>\n",
       "      <th>genderize</th>\n",
       "      <th>authorID</th>\n",
       "      <th>doi</th>\n",
       "      <th>gender_prediction</th>\n",
       "      <th>race_prediction</th>\n",
       "    </tr>\n",
       "  </thead>\n",
       "  <tbody>\n",
       "    <tr>\n",
       "      <th>8286</th>\n",
       "      <td>Jeff</td>\n",
       "      <td>Paul</td>\n",
       "      <td>male</td>\n",
       "      <td>10.1111/j.1468-2958.2009.01357.x+1.0</td>\n",
       "      <td>10.1111/j.1468-2958.2009.01357.x</td>\n",
       "      <td>M</td>\n",
       "      <td>0</td>\n",
       "    </tr>\n",
       "    <tr>\n",
       "      <th>5271</th>\n",
       "      <td>Matthew</td>\n",
       "      <td>Mark</td>\n",
       "      <td>male</td>\n",
       "      <td>10.1111/j.1468-2958.1985.tb00078.x+1.0</td>\n",
       "      <td>10.1111/j.1468-2958.1985.tb00078.x</td>\n",
       "      <td>M</td>\n",
       "      <td>0</td>\n",
       "    </tr>\n",
       "    <tr>\n",
       "      <th>3348</th>\n",
       "      <td>Michelle</td>\n",
       "      <td>Frances</td>\n",
       "      <td>female</td>\n",
       "      <td>10.1111/j.1468-2958.1986.tb00087.x+3.0</td>\n",
       "      <td>10.1111/j.1468-2958.1986.tb00087.x</td>\n",
       "      <td>M</td>\n",
       "      <td>0.0</td>\n",
       "    </tr>\n",
       "    <tr>\n",
       "      <th>857</th>\n",
       "      <td>Haley</td>\n",
       "      <td>Jennifer</td>\n",
       "      <td>female</td>\n",
       "      <td>10.1111/j.1083-6101.2007.00331.x+2.0</td>\n",
       "      <td>10.1111/j.1083-6101.2007.00331.x</td>\n",
       "      <td>F</td>\n",
       "      <td>0.0</td>\n",
       "    </tr>\n",
       "    <tr>\n",
       "      <th>8982</th>\n",
       "      <td>Jeff</td>\n",
       "      <td>Barbara</td>\n",
       "      <td>female</td>\n",
       "      <td>10.1111/j.1468-2958.1987.tb00119.x+1.0</td>\n",
       "      <td>10.1111/j.1468-2958.1987.tb00119.x</td>\n",
       "      <td>F</td>\n",
       "      <td>0</td>\n",
       "    </tr>\n",
       "    <tr>\n",
       "      <th>2482</th>\n",
       "      <td>Michelle</td>\n",
       "      <td>Marion</td>\n",
       "      <td>female</td>\n",
       "      <td>10.1111/j.1753-9137.2012.01123.x+2.0</td>\n",
       "      <td>10.1111/j.1753-9137.2012.01123.x</td>\n",
       "      <td>F</td>\n",
       "      <td>0.0</td>\n",
       "    </tr>\n",
       "    <tr>\n",
       "      <th>5478</th>\n",
       "      <td>Matthew</td>\n",
       "      <td>Margaret</td>\n",
       "      <td>female</td>\n",
       "      <td>10.1111/j.1468-2958.1977.tb00515.x+1.0</td>\n",
       "      <td>10.1111/j.1468-2958.1977.tb00515.x</td>\n",
       "      <td>F</td>\n",
       "      <td>0</td>\n",
       "    </tr>\n",
       "    <tr>\n",
       "      <th>1840</th>\n",
       "      <td>Haley</td>\n",
       "      <td>Chables</td>\n",
       "      <td>male</td>\n",
       "      <td>10.1111/j.1460-2466.1964.tb02927.x+2.0</td>\n",
       "      <td>10.1111/j.1460-2466.1964.tb02927.x</td>\n",
       "      <td>M</td>\n",
       "      <td>0</td>\n",
       "    </tr>\n",
       "    <tr>\n",
       "      <th>9795</th>\n",
       "      <td>Jongmin</td>\n",
       "      <td>Leihan</td>\n",
       "      <td>NaN</td>\n",
       "      <td>10.1111/jcc4.12145+1.0</td>\n",
       "      <td>10.1111/jcc4.12145</td>\n",
       "      <td>M</td>\n",
       "      <td>2</td>\n",
       "    </tr>\n",
       "    <tr>\n",
       "      <th>1412</th>\n",
       "      <td>Haley</td>\n",
       "      <td>Janet</td>\n",
       "      <td>female</td>\n",
       "      <td>10.1111/j.1468-2958.1988.tb00158.x+1.0</td>\n",
       "      <td>10.1111/j.1468-2958.1988.tb00158.x</td>\n",
       "      <td>F</td>\n",
       "      <td>0.0</td>\n",
       "    </tr>\n",
       "  </tbody>\n",
       "</table>\n",
       "</div>"
      ],
      "text/plain": [
       "         Coder firstName genderize                                authorID  \\\n",
       "8286      Jeff      Paul      male    10.1111/j.1468-2958.2009.01357.x+1.0   \n",
       "5271   Matthew      Mark      male  10.1111/j.1468-2958.1985.tb00078.x+1.0   \n",
       "3348  Michelle   Frances    female  10.1111/j.1468-2958.1986.tb00087.x+3.0   \n",
       "857      Haley  Jennifer    female    10.1111/j.1083-6101.2007.00331.x+2.0   \n",
       "8982      Jeff   Barbara    female  10.1111/j.1468-2958.1987.tb00119.x+1.0   \n",
       "2482  Michelle    Marion    female    10.1111/j.1753-9137.2012.01123.x+2.0   \n",
       "5478   Matthew  Margaret    female  10.1111/j.1468-2958.1977.tb00515.x+1.0   \n",
       "1840     Haley   Chables      male  10.1111/j.1460-2466.1964.tb02927.x+2.0   \n",
       "9795   Jongmin    Leihan       NaN                  10.1111/jcc4.12145+1.0   \n",
       "1412     Haley     Janet    female  10.1111/j.1468-2958.1988.tb00158.x+1.0   \n",
       "\n",
       "                                     doi gender_prediction race_prediction  \n",
       "8286    10.1111/j.1468-2958.2009.01357.x                 M               0  \n",
       "5271  10.1111/j.1468-2958.1985.tb00078.x                 M               0  \n",
       "3348  10.1111/j.1468-2958.1986.tb00087.x                 M             0.0  \n",
       "857     10.1111/j.1083-6101.2007.00331.x                 F             0.0  \n",
       "8982  10.1111/j.1468-2958.1987.tb00119.x                 F               0  \n",
       "2482    10.1111/j.1753-9137.2012.01123.x                 F             0.0  \n",
       "5478  10.1111/j.1468-2958.1977.tb00515.x                 F               0  \n",
       "1840  10.1111/j.1460-2466.1964.tb02927.x                 M               0  \n",
       "9795                  10.1111/jcc4.12145                 M               2  \n",
       "1412  10.1111/j.1468-2958.1988.tb00158.x                 F             0.0  "
      ]
     },
     "execution_count": 36,
     "metadata": {},
     "output_type": "execute_result"
    }
   ],
   "source": [
    "df = pd.concat([haley, michelle, matthew, jaemin, jeff, jongmin], ignore_index = True)\n",
    "df.sample(10)"
   ]
  },
  {
   "cell_type": "code",
   "execution_count": 37,
   "id": "fc679dcc",
   "metadata": {},
   "outputs": [
    {
     "data": {
      "text/plain": [
       "7"
      ]
     },
     "execution_count": 37,
     "metadata": {},
     "output_type": "execute_result"
    }
   ],
   "source": [
    "# These are the nans without considering initial_df\n",
    "\n",
    "first_try_nan = df[df.gender_prediction.isnull()]\n",
    "first_try_nan.shape[0]"
   ]
  },
  {
   "cell_type": "code",
   "execution_count": 37,
   "id": "b3684d53",
   "metadata": {},
   "outputs": [],
   "source": [
    "first_try_nans = first_try_nan.authorID.tolist()"
   ]
  },
  {
   "cell_type": "code",
   "execution_count": 40,
   "id": "8db7a59e",
   "metadata": {},
   "outputs": [
    {
     "data": {
      "text/plain": [
       "0"
      ]
     },
     "execution_count": 40,
     "metadata": {},
     "output_type": "execute_result"
    }
   ],
   "source": [
    "## see how many nans for race\n",
    "\n",
    "race_nans = df[df.race_prediction.isnull()]\n",
    "race_nans.shape[0]"
   ]
  }
 ],
 "metadata": {
  "kernelspec": {
   "display_name": "Python 3 (ipykernel)",
   "language": "python",
   "name": "python3"
  },
  "language_info": {
   "codemirror_mode": {
    "name": "ipython",
    "version": 3
   },
   "file_extension": ".py",
   "mimetype": "text/x-python",
   "name": "python",
   "nbconvert_exporter": "python",
   "pygments_lexer": "ipython3",
   "version": "3.11.6"
  }
 },
 "nbformat": 4,
 "nbformat_minor": 5
}
